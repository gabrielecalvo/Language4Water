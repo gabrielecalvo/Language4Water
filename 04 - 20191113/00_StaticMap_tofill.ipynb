{
 "cells": [
  {
   "cell_type": "markdown",
   "metadata": {},
   "source": [
    "## A bit of prep..\n",
    "To make sure you have all the libraries, run the following command in the `Anaconda Prompt`\n",
    "```bash\n",
    "conda install -c conda-forge geopandas decartes\n",
    "```\n",
    "\n",
    "to download the boundary layer needed for the map you can run the following code:\n",
    "```python\n",
    "import urllib.request\n",
    "\n",
    "url = 'https://opendata.arcgis.com/datasets/2c5b8eb836c7475ba3b305106ac9dfc3_0.geojson'\n",
    "urllib.request.urlretrieve(url, './data/bounderies.geojson')\n",
    "```"
   ]
  },
  {
   "cell_type": "markdown",
   "metadata": {},
   "source": [
    "# Let's Map!\n",
    "We are going to need 2 data sources:\n",
    "* **Implementation date data**: in the *UCimplem.csv* (souce: Department for Work and Pensions)\n",
    "* **Geolocated boundery file for all local authorities**: Can be downloaded from the Office for National Statistics: https://geoportal.statistics.gov.uk/datasets/local-authority-districts-december-2016-boundaries (we have downloaded the ultra generalised layer)"
   ]
  },
  {
   "cell_type": "code",
   "execution_count": null,
   "metadata": {},
   "outputs": [],
   "source": [
    "import pandas as pd\n",
    "import geopandas as gpd\n",
    "import matplotlib.pyplot as plt\n",
    "from filled_out.compatibility import ensure_mutipoly\n",
    "%matplotlib inline"
   ]
  },
  {
   "cell_type": "markdown",
   "metadata": {},
   "source": [
    "#### Implementation Data Loading"
   ]
  },
  {
   "cell_type": "code",
   "execution_count": null,
   "metadata": {},
   "outputs": [],
   "source": [
    "# load 'data/UCimplem.csv'"
   ]
  },
  {
   "cell_type": "code",
   "execution_count": null,
   "metadata": {},
   "outputs": [],
   "source": [
    "# describe the dataset"
   ]
  },
  {
   "cell_type": "markdown",
   "metadata": {},
   "source": [
    "### Column renaming\n",
    "The column name is misleading, the `County` are actually local authorities. Let's rename the colum!"
   ]
  },
  {
   "cell_type": "code",
   "execution_count": null,
   "metadata": {},
   "outputs": [],
   "source": [
    "# rename 'County' to 'LocalAuth'"
   ]
  },
  {
   "cell_type": "markdown",
   "metadata": {},
   "source": [
    "### Date parsing"
   ]
  },
  {
   "cell_type": "code",
   "execution_count": null,
   "metadata": {},
   "outputs": [],
   "source": [
    "def date_parser(x):\n",
    "    return pd.to_datetime(x, format='%b-%y').to_datetime64().astype(float)\n",
    "\n",
    "# apply it to 'UC implem' and call 'UC_date_number'"
   ]
  },
  {
   "cell_type": "code",
   "execution_count": null,
   "metadata": {},
   "outputs": [],
   "source": [
    "# check head, 2 rows"
   ]
  },
  {
   "cell_type": "markdown",
   "metadata": {},
   "source": [
    "### Boundary Layers Loading"
   ]
  },
  {
   "cell_type": "code",
   "execution_count": null,
   "metadata": {},
   "outputs": [],
   "source": [
    "# load 'data/bounderies.geojson' with geopandas's \"read_file\" method onto a variable called \"gdf\"\n",
    "# check head, 2 rows"
   ]
  },
  {
   "cell_type": "markdown",
   "metadata": {},
   "source": [
    "### Merging the data"
   ]
  },
  {
   "cell_type": "code",
   "execution_count": null,
   "metadata": {},
   "outputs": [],
   "source": [
    "merged_gdf = gdf.merge(\n",
    "    right=df, \n",
    "    left_on='lad18cd', \n",
    "    right_on='Code',\n",
    "    how='outer'\n",
    ")"
   ]
  },
  {
   "cell_type": "code",
   "execution_count": null,
   "metadata": {},
   "outputs": [],
   "source": [
    "cmap = 'Blues'\n",
    "ax = merged_gdf.plot(\n",
    "    column='UC_date_number', \n",
    "    linewidth=0.3, edgecolor='black', \n",
    "    figsize=(18, 12), \n",
    "    cmap=cmap,\n",
    ")\n",
    "\n",
    "# to change color select a different cmap from here: https://matplotlib.org/3.1.0/tutorials/colors/colormaps.html (default 'viridis')\n",
    "# adding '_r' to the name uses the reversed colormap, e.g. 'Blues_r'"
   ]
  },
  {
   "cell_type": "code",
   "execution_count": null,
   "metadata": {},
   "outputs": [],
   "source": [
    "vmin = merged_gdf['UC_date_number'].min()\n",
    "vmax = merged_gdf['UC_date_number'].max()\n",
    "cbar_ticks_locations = pd.np.linspace(vmin, vmax, 8)\n",
    "cbar_ticks_labels = [pd.Timestamp(i).strftime('%b-%y') for i in cbar_ticks_locations]"
   ]
  },
  {
   "cell_type": "code",
   "execution_count": null,
   "metadata": {},
   "outputs": [],
   "source": [
    "cbar = ax.figure.colorbar(\n",
    "    plt.cm.ScalarMappable(norm=plt.Normalize(vmin=vmin, vmax=vmax), cmap=cmap), \n",
    "    cax=ax.figure.add_axes([0.76, 0.12, 0.03, 0.76]),  #[left, bottom, width, height] as fractions of figure width and height.\n",
    "    ticks=cbar_ticks_locations\n",
    ")\n",
    "cbar.ax.set_yticklabels(cbar_ticks_labels)\n",
    "\n",
    "ax.figure  # showing"
   ]
  },
  {
   "cell_type": "markdown",
   "metadata": {},
   "source": [
    "### Save map as image"
   ]
  },
  {
   "cell_type": "code",
   "execution_count": null,
   "metadata": {},
   "outputs": [],
   "source": [
    "# save as image\n",
    "ax.figure.savefig('static_map.png', dpi=300, bbox_inches='tight')  # dpi is to increase the resolution of the image (default 200)"
   ]
  },
  {
   "cell_type": "markdown",
   "metadata": {},
   "source": [
    "### Save merged data for later"
   ]
  },
  {
   "cell_type": "code",
   "execution_count": null,
   "metadata": {},
   "outputs": [],
   "source": [
    "useful_cols = ['Province', 'LocalAuth', 'UC implem', 'UC_date_number', 'geometry']\n",
    "merged_gdf['geometry'] = ensure_mutipoly(merged_gdf['geometry'])\n",
    "merged_gdf[useful_cols].to_file(\"data/map_data.geojson\", driver='GeoJSON')"
   ]
  },
  {
   "cell_type": "code",
   "execution_count": null,
   "metadata": {},
   "outputs": [],
   "source": []
  }
 ],
 "metadata": {
  "kernelspec": {
   "display_name": "Python 3",
   "language": "python",
   "name": "python3"
  },
  "language_info": {
   "codemirror_mode": {
    "name": "ipython",
    "version": 3
   },
   "file_extension": ".py",
   "mimetype": "text/x-python",
   "name": "python",
   "nbconvert_exporter": "python",
   "pygments_lexer": "ipython3",
   "version": "3.7.3"
  }
 },
 "nbformat": 4,
 "nbformat_minor": 4
}
