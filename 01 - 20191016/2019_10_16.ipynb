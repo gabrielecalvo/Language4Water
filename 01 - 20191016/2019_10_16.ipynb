{
 "cells": [
  {
   "cell_type": "markdown",
   "metadata": {},
   "source": [
    "# **Survey Results**\n",
    "4 responses\n",
    "- **Mode of communication**: Unanimously Email\n",
    "- **Programming proficiency**: Mostly beginners (expected)\n",
    "- **after-lesson commitment**: very diverse answers\n",
    "- **Preferred Learning styles**: Demonstration & Collaboration\n",
    "- **Interests**: ..."
   ]
  },
  {
   "cell_type": "code",
   "execution_count": 1,
   "metadata": {},
   "outputs": [
    {
     "data": {
      "text/plain": [
       "building a website                    3\n",
       "building a 2D computer game           3\n",
       "analyse data / machine learning       5\n",
       "write some scripts to manage files    2\n",
       "automate boring stuff                 1\n",
       "dtype: int64"
      ]
     },
     "metadata": {},
     "output_type": "display_data"
    },
    {
     "data": {
      "image/png": "[encoded data removed]",
      "text/plain": [
       "<Figure size 1800x288 with 1 Axes>"
      ]
     },
     "metadata": {
      "needs_background": "light"
     },
     "output_type": "display_data"
    }
   ],
   "source": [
    "# DON'T WORRY IF YOU DON'T UNDERSTAND THIS CODE JUST YET\n",
    "# IT'S ONLY TO PLOT THE RESULT OF THE SURVEY\n",
    "\n",
    "import pandas as pd\n",
    "%matplotlib inline\n",
    "\n",
    "df = pd.DataFrame({\n",
    "    'Nope':                           [0,0,0,0,0],\n",
    "    'Mmm.. not my thing':             [0,1,0,0,1],\n",
    "    'Could take it or leave it':      [2,1,1,3,2],\n",
    "    'Sounds interesting':             [3,2,3,2,2],\n",
    "    \"That's what I'm talking about!\": [0,1,1,0,0],\n",
    "}, index=['building a website', 'building a 2D computer game', 'analyse data / machine learning', 'write some scripts to manage files', 'automate boring stuff'])\n",
    "\n",
    "df.plot.bar(figsize=(25,4), grid=True).legend(loc=3)\n",
    "\n",
    "weights = [-2,-1,0,1,2]\n",
    "activity_scores = (df*weights).sum(axis=1)  \n",
    "display(activity_scores)\n",
    "\n",
    "# RESULT: data analysis for the WIN! :)"
   ]
  },
  {
   "cell_type": "markdown",
   "metadata": {},
   "source": [
    "# Home Work (**NO CLASS ON THE 23RD!**)\n",
    "During these 2 weeks, find dataset(s) that interest you, so we can analyse them.\n",
    "\n",
    "Don't know where to start?\n",
    "- https://www.quora.com/What-are-some-interesting-data-sets-available-out-there\n",
    "- https://statistics.gov.scot/home\n",
    "- https://www.dataquest.io/blog/free-datasets-for-projects/\n",
    "- .. or something you work with (and is anonymised enough)"
   ]
  },
  {
   "cell_type": "markdown",
   "metadata": {},
   "source": [
    "# Basics Overview continues..\n",
    "- **Aggregate Types**\n",
    "    - lists (sequence of items)\n",
    "    - tuples (immutable lists)\n",
    "    - dictionaries (key-value pairs)\n",
    "- **Flow Control**\n",
    "    - if.. elif.. else.. (Conditionals)\n",
    "    - for i in seq  (For Loop)\n",
    "    - while i > 0  (While Loop)\n",
    "- **Functions**\n",
    "    - def myfunc(a, b, c=0)\n",
    "- **Classes**\n",
    "    - class MyClass"
   ]
  },
  {
   "cell_type": "markdown",
   "metadata": {},
   "source": [
    "## **Lists**\n",
    "editable (mutable) sequence of items"
   ]
  },
  {
   "cell_type": "code",
   "execution_count": 2,
   "metadata": {},
   "outputs": [],
   "source": [
    "my_wierd_list = ['Jim', 3, False, [1,2]]  # each element can be a different type\n",
    "\n",
    "my_list = ['John', 'Paul', 'George', 'Ringo']  # most common is all the same type"
   ]
  },
  {
   "cell_type": "code",
   "execution_count": 3,
   "metadata": {},
   "outputs": [
    {
     "data": {
      "text/plain": [
       "'John'"
      ]
     },
     "execution_count": 3,
     "metadata": {},
     "output_type": "execute_result"
    }
   ],
   "source": [
    "# get first item\n",
    "my_list[0]"
   ]
  },
  {
   "cell_type": "code",
   "execution_count": 4,
   "metadata": {},
   "outputs": [
    {
     "data": {
      "text/plain": [
       "'Ringo'"
      ]
     },
     "execution_count": 4,
     "metadata": {},
     "output_type": "execute_result"
    }
   ],
   "source": [
    "#get last item\n",
    "my_list[-1]"
   ]
  },
  {
   "cell_type": "code",
   "execution_count": 5,
   "metadata": {},
   "outputs": [],
   "source": [
    "# get second item?\n",
    "..."
   ]
  },
  {
   "cell_type": "code",
   "execution_count": 6,
   "metadata": {},
   "outputs": [],
   "source": [
    "# get second-to-last item?\n",
    "..."
   ]
  },
  {
   "cell_type": "markdown",
   "metadata": {},
   "source": [
    "### *List slicing*\n",
    "also used for **arrays**, **matrices**, **pd.Series** and **strings**\n",
    "\n",
    "### ***LIST[start:end:step]***\n",
    "\n",
    "![slicing](imgs/list_slice.jpg)"
   ]
  },
  {
   "cell_type": "code",
   "execution_count": 7,
   "metadata": {},
   "outputs": [
    {
     "data": {
      "text/plain": [
       "['John', 'Paul']"
      ]
     },
     "execution_count": 7,
     "metadata": {},
     "output_type": "execute_result"
    }
   ],
   "source": [
    "# taking first two\n",
    "my_list[:2]    # same as my_list[0:2:1]"
   ]
  },
  {
   "cell_type": "code",
   "execution_count": 8,
   "metadata": {},
   "outputs": [
    {
     "data": {
      "text/plain": [
       "['George', 'Ringo']"
      ]
     },
     "execution_count": 8,
     "metadata": {},
     "output_type": "execute_result"
    }
   ],
   "source": [
    "# taking last two\n",
    "my_list[-2:]    # same as my_list[-2::1]"
   ]
  },
  {
   "cell_type": "code",
   "execution_count": 9,
   "metadata": {},
   "outputs": [],
   "source": [
    "# taking middle two?\n",
    "..."
   ]
  },
  {
   "cell_type": "code",
   "execution_count": 10,
   "metadata": {},
   "outputs": [
    {
     "data": {
      "text/plain": [
       "['John', 'George']"
      ]
     },
     "execution_count": 10,
     "metadata": {},
     "output_type": "execute_result"
    }
   ],
   "source": [
    "# taking one every two (even numbers)\n",
    "my_list[::2]"
   ]
  },
  {
   "cell_type": "code",
   "execution_count": 11,
   "metadata": {},
   "outputs": [],
   "source": [
    "# reversing the order?\n",
    "..."
   ]
  },
  {
   "cell_type": "code",
   "execution_count": 12,
   "metadata": {},
   "outputs": [
    {
     "data": {
      "text/plain": [
       "['George', 'John', 'Paul', 'Ringo']"
      ]
     },
     "execution_count": 12,
     "metadata": {},
     "output_type": "execute_result"
    }
   ],
   "source": [
    "# sorting a list\n",
    "sorted(my_list)"
   ]
  },
  {
   "cell_type": "code",
   "execution_count": 13,
   "metadata": {},
   "outputs": [
    {
     "name": "stdout",
     "output_type": "stream",
     "text": [
      "before:  ['John', 'Paul', 'George', 'Ringo']\n",
      "after:  ['John', 'Paul', 'THE George', 'Ringo']\n"
     ]
    }
   ],
   "source": [
    "# changing one value\n",
    "print('before: ', my_list)\n",
    "my_list[2] = 'THE George'\n",
    "print('after: ', my_list)"
   ]
  },
  {
   "cell_type": "code",
   "execution_count": 14,
   "metadata": {},
   "outputs": [
    {
     "data": {
      "text/plain": [
       "['John', 'Paul', 'THE George', 'Ringo', 'Pete']"
      ]
     },
     "execution_count": 14,
     "metadata": {},
     "output_type": "execute_result"
    }
   ],
   "source": [
    "# adding elements to a list\n",
    "my_list.append('Pete')\n",
    "\n",
    "my_list"
   ]
  },
  {
   "cell_type": "code",
   "execution_count": 15,
   "metadata": {},
   "outputs": [
    {
     "data": {
      "text/plain": [
       "True"
      ]
     },
     "execution_count": 15,
     "metadata": {},
     "output_type": "execute_result"
    }
   ],
   "source": [
    "# checking if element in list\n",
    "'Pete' in my_list"
   ]
  },
  {
   "cell_type": "markdown",
   "metadata": {},
   "source": [
    "## **Tuples** (very briefly)\n",
    "basically lists that cannot be edited (immutable)"
   ]
  },
  {
   "cell_type": "code",
   "execution_count": 16,
   "metadata": {},
   "outputs": [
    {
     "data": {
      "text/plain": [
       "['George', 'Ringo']"
      ]
     },
     "execution_count": 16,
     "metadata": {},
     "output_type": "execute_result"
    }
   ],
   "source": [
    "my_tuple = ('John', 'Paul', 'George', 'Ringo')  # most common is all the same type\n",
    "\n",
    "sorted(my_tuple[-2:])"
   ]
  },
  {
   "cell_type": "code",
   "execution_count": 17,
   "metadata": {},
   "outputs": [
    {
     "ename": "AttributeError",
     "evalue": "'tuple' object has no attribute 'append'",
     "output_type": "error",
     "traceback": [
      "\u001b[1;31m---------------------------------------------------------------------------\u001b[0m",
      "\u001b[1;31mAttributeError\u001b[0m                            Traceback (most recent call last)",
      "\u001b[1;32m<ipython-input-17-1633a8bf04b2>\u001b[0m in \u001b[0;36m<module>\u001b[1;34m\u001b[0m\n\u001b[1;32m----> 1\u001b[1;33m \u001b[0mmy_tuple\u001b[0m\u001b[1;33m.\u001b[0m\u001b[0mappend\u001b[0m\u001b[1;33m(\u001b[0m\u001b[1;36m42\u001b[0m\u001b[1;33m)\u001b[0m  \u001b[1;31m# won't work\u001b[0m\u001b[1;33m\u001b[0m\u001b[1;33m\u001b[0m\u001b[0m\n\u001b[0m",
      "\u001b[1;31mAttributeError\u001b[0m: 'tuple' object has no attribute 'append'"
     ]
    }
   ],
   "source": [
    "my_tuple.append(42)  # won't work"
   ]
  },
  {
   "cell_type": "code",
   "execution_count": 18,
   "metadata": {},
   "outputs": [
    {
     "ename": "TypeError",
     "evalue": "'tuple' object does not support item assignment",
     "output_type": "error",
     "traceback": [
      "\u001b[1;31m---------------------------------------------------------------------------\u001b[0m",
      "\u001b[1;31mTypeError\u001b[0m                                 Traceback (most recent call last)",
      "\u001b[1;32m<ipython-input-18-cf84bf8e4fd8>\u001b[0m in \u001b[0;36m<module>\u001b[1;34m\u001b[0m\n\u001b[1;32m----> 1\u001b[1;33m \u001b[0mmy_tuple\u001b[0m\u001b[1;33m[\u001b[0m\u001b[1;36m2\u001b[0m\u001b[1;33m]\u001b[0m \u001b[1;33m=\u001b[0m \u001b[1;34m'THE George'\u001b[0m  \u001b[1;31m# won't work\u001b[0m\u001b[1;33m\u001b[0m\u001b[1;33m\u001b[0m\u001b[0m\n\u001b[0m",
      "\u001b[1;31mTypeError\u001b[0m: 'tuple' object does not support item assignment"
     ]
    }
   ],
   "source": [
    "my_tuple[2] = 'THE George'  # won't work"
   ]
  },
  {
   "cell_type": "markdown",
   "metadata": {},
   "source": [
    "## **Dictionaries**\n",
    "Collection of key-value pairs"
   ]
  },
  {
   "cell_type": "code",
   "execution_count": 19,
   "metadata": {},
   "outputs": [],
   "source": [
    "the_beatles_instruments = {\n",
    "    'John': ['vocals', 'rhythm and lead guitar', 'keyboards', 'harmonica', 'bass guitar'],\n",
    "    'Paul':  ['vocals', 'bass guitar', 'rhythm and lead guitar', 'keyboards', 'drums'],\n",
    "    'George': ['lead and rhythm guitar', 'vocals', 'sitar', 'keyboards', 'bass guitar'],\n",
    "    'Ringo': ['drums', 'percussion', 'vocals'],\n",
    "} \n",
    "\n",
    "the_beatles_tenure = {\n",
    "    'John': {'start': 1960, 'end': 1969},\n",
    "    'Paul':  [1960, 1970],\n",
    "    'George': (1960, 1970),\n",
    "    'Ringo': '1962–1970',\n",
    "}"
   ]
  },
  {
   "cell_type": "code",
   "execution_count": 20,
   "metadata": {},
   "outputs": [
    {
     "data": {
      "text/plain": [
       "['vocals', 'bass guitar', 'rhythm and lead guitar', 'keyboards', 'drums']"
      ]
     },
     "execution_count": 20,
     "metadata": {},
     "output_type": "execute_result"
    }
   ],
   "source": [
    "# accessing a value\n",
    "the_beatles_instruments['Paul']"
   ]
  },
  {
   "cell_type": "code",
   "execution_count": 21,
   "metadata": {},
   "outputs": [],
   "source": [
    "# starting year of John?\n",
    "..."
   ]
  },
  {
   "cell_type": "code",
   "execution_count": 22,
   "metadata": {},
   "outputs": [
    {
     "data": {
      "text/plain": [
       "{'John': ['vocals',\n",
       "  'rhythm and lead guitar',\n",
       "  'keyboards',\n",
       "  'harmonica',\n",
       "  'bass guitar'],\n",
       " 'Paul': ['vocals',\n",
       "  'bass guitar',\n",
       "  'rhythm and lead guitar',\n",
       "  'keyboards',\n",
       "  'drums'],\n",
       " 'George': ['lead and rhythm guitar',\n",
       "  'vocals',\n",
       "  'sitar',\n",
       "  'keyboards',\n",
       "  'bass guitar'],\n",
       " 'Ringo': ['drums', 'percussion', 'vocals'],\n",
       " 'Pete': ['drums']}"
      ]
     },
     "execution_count": 22,
     "metadata": {},
     "output_type": "execute_result"
    }
   ],
   "source": [
    "# adding a new value\n",
    "the_beatles_instruments['Pete'] = ['drums']\n",
    "\n",
    "the_beatles_instruments"
   ]
  },
  {
   "cell_type": "code",
   "execution_count": 23,
   "metadata": {},
   "outputs": [
    {
     "data": {
      "text/plain": [
       "dict_keys(['John', 'Paul', 'George', 'Ringo'])"
      ]
     },
     "execution_count": 23,
     "metadata": {},
     "output_type": "execute_result"
    }
   ],
   "source": [
    "# getting all keys\n",
    "the_beatles_tenure.keys()"
   ]
  },
  {
   "cell_type": "code",
   "execution_count": 24,
   "metadata": {},
   "outputs": [
    {
     "data": {
      "text/plain": [
       "dict_values([{'start': 1960, 'end': 1969}, [1960, 1970], (1960, 1970), '1962–1970'])"
      ]
     },
     "execution_count": 24,
     "metadata": {},
     "output_type": "execute_result"
    }
   ],
   "source": [
    "# getting all values\n",
    "the_beatles_tenure.values()"
   ]
  },
  {
   "cell_type": "code",
   "execution_count": 25,
   "metadata": {},
   "outputs": [
    {
     "data": {
      "text/plain": [
       "dict_items([('John', {'start': 1960, 'end': 1969}), ('Paul', [1960, 1970]), ('George', (1960, 1970)), ('Ringo', '1962–1970')])"
      ]
     },
     "execution_count": 25,
     "metadata": {},
     "output_type": "execute_result"
    }
   ],
   "source": [
    "# getting all keys-values as pairs\n",
    "the_beatles_tenure.items()"
   ]
  },
  {
   "cell_type": "markdown",
   "metadata": {},
   "source": [
    "## **If Statement**\n",
    "diverting the execution flow depending on 1+ condition"
   ]
  },
  {
   "cell_type": "code",
   "execution_count": 26,
   "metadata": {},
   "outputs": [],
   "source": [
    "happy = True\n",
    "know_it = True"
   ]
  },
  {
   "cell_type": "code",
   "execution_count": 27,
   "metadata": {},
   "outputs": [
    {
     "name": "stdout",
     "output_type": "stream",
     "text": [
      "hands go clap clap\n"
     ]
    }
   ],
   "source": [
    "if happy == True and know_it == True:\n",
    "    print('hands go clap clap')\n",
    "elif know_it == False:\n",
    "    print('hands go clap')\n",
    "else:\n",
    "    print('...silence...')"
   ]
  },
  {
   "cell_type": "code",
   "execution_count": null,
   "metadata": {},
   "outputs": [],
   "source": [
    "# what result do I expect with.. ? \n",
    "happy = True\n",
    "know_it = False"
   ]
  },
  {
   "cell_type": "code",
   "execution_count": null,
   "metadata": {},
   "outputs": [],
   "source": [
    "# what result do I expect with.. ? \n",
    "happy = False\n",
    "know_it = True"
   ]
  },
  {
   "cell_type": "code",
   "execution_count": null,
   "metadata": {},
   "outputs": [],
   "source": [
    "# what result do I expect with.. ? \n",
    "happy = False\n",
    "know_it = False"
   ]
  },
  {
   "cell_type": "markdown",
   "metadata": {},
   "source": [
    "## **For Loop**\n",
    "runs a part of the code multiple times: one for every item in the sequence"
   ]
  },
  {
   "cell_type": "code",
   "execution_count": 28,
   "metadata": {},
   "outputs": [
    {
     "name": "stdout",
     "output_type": "stream",
     "text": [
      "0\n",
      "1\n",
      "2\n",
      "3\n",
      "4\n"
     ]
    }
   ],
   "source": [
    "for i in range(5):\n",
    "    print(i)"
   ]
  },
  {
   "cell_type": "code",
   "execution_count": 30,
   "metadata": {},
   "outputs": [
    {
     "name": "stdout",
     "output_type": "stream",
     "text": [
      "pair: (1, 'one')\n",
      "pair: (4, 'four')\n"
     ]
    }
   ],
   "source": [
    "d = {1: 'one', 4:'four'}\n",
    "\n",
    "for k in d.items():\n",
    "    print('pair:', k)"
   ]
  },
  {
   "cell_type": "code",
   "execution_count": 31,
   "metadata": {},
   "outputs": [
    {
     "name": "stdout",
     "output_type": "stream",
     "text": [
      "key: 1 value: one\n",
      "key: 4 value: four\n"
     ]
    }
   ],
   "source": [
    "for k,v in d.items():\n",
    "    print('key:', k, 'value:', v)"
   ]
  },
  {
   "cell_type": "code",
   "execution_count": 29,
   "metadata": {},
   "outputs": [
    {
     "name": "stdout",
     "output_type": "stream",
     "text": [
      "{'John': ['vocals', 'rhythm and lead guitar', 'keyboards', 'harmonica', 'bass guitar'], 'Paul': ['vocals', 'bass guitar', 'rhythm and lead guitar', 'keyboards', 'drums'], 'George': ['lead and rhythm guitar', 'vocals', 'sitar', 'keyboards', 'bass guitar'], 'Ringo': ['drums', 'percussion', 'vocals'], 'Pete': ['drums']}\n"
     ]
    }
   ],
   "source": [
    "print(the_beatles_instruments)"
   ]
  },
  {
   "cell_type": "code",
   "execution_count": 32,
   "metadata": {},
   "outputs": [
    {
     "name": "stdout",
     "output_type": "stream",
     "text": [
      "John plays vocals\n",
      "John plays rhythm and lead guitar\n",
      "John plays keyboards\n",
      "John plays harmonica\n",
      "John plays bass guitar\n",
      "Paul plays vocals\n",
      "Paul plays bass guitar\n",
      "Paul plays rhythm and lead guitar\n",
      "Paul plays keyboards\n",
      "Paul plays drums\n",
      "George plays lead and rhythm guitar\n",
      "George plays vocals\n",
      "George plays sitar\n",
      "George plays keyboards\n",
      "George plays bass guitar\n",
      "Ringo plays drums\n",
      "Ringo plays percussion\n",
      "Ringo plays vocals\n",
      "Pete plays drums\n"
     ]
    }
   ],
   "source": [
    "# NESTED LOOP\n",
    "# I heard you like loops so I put a loop in a loop... \n",
    "for member, instruments in the_beatles_instruments.items():\n",
    "    for instrument in instruments:\n",
    "        print(member, 'plays', instrument)"
   ]
  },
  {
   "cell_type": "markdown",
   "metadata": {},
   "source": [
    "## **While Loop**\n",
    "runs a part of the code multiple times: until a condition is met"
   ]
  },
  {
   "cell_type": "code",
   "execution_count": 33,
   "metadata": {},
   "outputs": [
    {
     "name": "stdout",
     "output_type": "stream",
     "text": [
      "the current value is:  0\n",
      "the current value is:  1\n",
      "the current value is:  2\n",
      "the current value is:  3\n",
      "the current value is:  4\n",
      "the current value is:  5\n"
     ]
    }
   ],
   "source": [
    "current_value = 0\n",
    "while current_value <= 5:\n",
    "    print('the current value is: ', current_value)\n",
    "    current_value += 1"
   ]
  },
  {
   "cell_type": "markdown",
   "metadata": {},
   "source": [
    "## **Function**\n",
    "ways to group and reuse code that can be logically isolated"
   ]
  },
  {
   "cell_type": "code",
   "execution_count": 34,
   "metadata": {},
   "outputs": [],
   "source": [
    "# defining a function\n",
    "def simple_greeting():\n",
    "    print('Hi')"
   ]
  },
  {
   "cell_type": "code",
   "execution_count": 35,
   "metadata": {},
   "outputs": [
    {
     "name": "stdout",
     "output_type": "stream",
     "text": [
      "Hi\n"
     ]
    }
   ],
   "source": [
    "# calling a function (using it)\n",
    "simple_greeting()"
   ]
  },
  {
   "cell_type": "code",
   "execution_count": 36,
   "metadata": {},
   "outputs": [
    {
     "name": "stdout",
     "output_type": "stream",
     "text": [
      "Hi, Bob\n",
      "Hi, Bob\n"
     ]
    }
   ],
   "source": [
    "def greeting(name):\n",
    "    print('Hi,', name)\n",
    "\n",
    "greeting('Bob')        # passing argument as positional\n",
    "greeting(name='Bob')   # passing argument as keyword"
   ]
  },
  {
   "cell_type": "code",
   "execution_count": 37,
   "metadata": {},
   "outputs": [
    {
     "name": "stdout",
     "output_type": "stream",
     "text": [
      "Hi, you\n",
      "Hi, Bob\n",
      "Hi, Bob\n"
     ]
    }
   ],
   "source": [
    "def greeting_with_default(name='you'):\n",
    "    print('Hi,', name)\n",
    "\n",
    "greeting_with_default()\n",
    "greeting_with_default('Bob')\n",
    "greeting_with_default(name='Bob')"
   ]
  },
  {
   "cell_type": "code",
   "execution_count": 38,
   "metadata": {},
   "outputs": [
    {
     "data": {
      "text/plain": [
       "6"
      ]
     },
     "execution_count": 38,
     "metadata": {},
     "output_type": "execute_result"
    }
   ],
   "source": [
    "# returning values instead of printing it\n",
    "def duplicate(x):\n",
    "    return 2*x\n",
    "\n",
    "douplex = duplicate(3)\n",
    "douplex"
   ]
  },
  {
   "cell_type": "code",
   "execution_count": 39,
   "metadata": {},
   "outputs": [
    {
     "data": {
      "text/plain": [
       "12"
      ]
     },
     "execution_count": 39,
     "metadata": {},
     "output_type": "execute_result"
    }
   ],
   "source": [
    "# what happens if I do.. ?\n",
    "duplicate(duplicate(3))"
   ]
  },
  {
   "cell_type": "markdown",
   "metadata": {},
   "source": [
    "## **Classes**\n",
    "Classes provide a means of bundling data and functionality together.  Creating a new class creates a new type of object, allowing new instances of that type to be made. Each class instance can have attributes attached to it for maintaining its state. Class instances can also have methods (defined by its class) for modifying its state."
   ]
  },
  {
   "cell_type": "code",
   "execution_count": 40,
   "metadata": {},
   "outputs": [
    {
     "data": {
      "text/plain": [
       "['roll over', 'play dead']"
      ]
     },
     "execution_count": 40,
     "metadata": {},
     "output_type": "execute_result"
    }
   ],
   "source": [
    "# defining the class\n",
    "class Dog:\n",
    "    def __init__(self, name):\n",
    "        self.name = name\n",
    "        self.tricks = []\n",
    "\n",
    "    def add_trick(self, trick):\n",
    "        self.tricks.append(trick)\n",
    "\n",
    "# Don't worry if you don't fully understand the above, focus on the below :)\n",
    "        \n",
    "# creating and using an instance of it\n",
    "d = Dog('Fido')\n",
    "d.add_trick('roll over')\n",
    "d.add_trick('play dead')\n",
    "d.tricks"
   ]
  },
  {
   "cell_type": "markdown",
   "metadata": {},
   "source": [
    "## **Revisited High-Low**\n",
    "using what we have learned so far..\n",
    "\n",
    "```input(message)``` is a built-in python function that requests user input showing a message"
   ]
  },
  {
   "cell_type": "code",
   "execution_count": 41,
   "metadata": {},
   "outputs": [
    {
     "name": "stdout",
     "output_type": "stream",
     "text": [
      "====================\n",
      "The current card is 6\n"
     ]
    },
    {
     "name": "stdin",
     "output_type": "stream",
     "text": [
      "Is the next one going to be higher (\"h\") or lower (\"l\")? (\"q\" to quit) h\n"
     ]
    },
    {
     "name": "stdout",
     "output_type": "stream",
     "text": [
      "The new card is:  1\n",
      "Wrong :(\n",
      "====================\n",
      "The current card is 1\n"
     ]
    },
    {
     "name": "stdin",
     "output_type": "stream",
     "text": [
      "Is the next one going to be higher (\"h\") or lower (\"l\")? (\"q\" to quit) h\n"
     ]
    },
    {
     "name": "stdout",
     "output_type": "stream",
     "text": [
      "The new card is:  9\n",
      "Well done! you guessed correcty :)\n",
      "====================\n",
      "The current card is 9\n"
     ]
    },
    {
     "name": "stdin",
     "output_type": "stream",
     "text": [
      "Is the next one going to be higher (\"h\") or lower (\"l\")? (\"q\" to quit) l\n"
     ]
    },
    {
     "name": "stdout",
     "output_type": "stream",
     "text": [
      "The new card is:  10\n",
      "Wrong :(\n",
      "====================\n",
      "The current card is 10\n"
     ]
    },
    {
     "name": "stdin",
     "output_type": "stream",
     "text": [
      "Is the next one going to be higher (\"h\") or lower (\"l\")? (\"q\" to quit) q\n"
     ]
    },
    {
     "name": "stdout",
     "output_type": "stream",
     "text": [
      "====================\n",
      "Thanks for playing :)\n"
     ]
    }
   ],
   "source": [
    "import random\n",
    "\n",
    "CARDS = range(1, 13+1)\n",
    "card = random.choice(CARDS)\n",
    "\n",
    "def ask_guess(card):\n",
    "    print('====================')\n",
    "    print('The current card is', card)\n",
    "    guess = input('Is the next one going to be higher (\"h\") or lower (\"l\")? (\"q\" to quit)')\n",
    "    return guess\n",
    "\n",
    "def evaluate_result(card, new_card, guess):\n",
    "    if new_card == card:\n",
    "        print('They are exactly the same card, you lose :(')\n",
    "    elif (new_card > card and guess == 'h') or (new_card < card and guess == 'l'):\n",
    "        print('Well done! you guessed correcty :)')\n",
    "    else:\n",
    "        print('Wrong :(')\n",
    "\n",
    "        \n",
    "guess = ask_guess(card)\n",
    "while guess != 'q':\n",
    "    new_card = random.choice(CARDS)  \n",
    "    print('The new card is: ', new_card)\n",
    "    evaluate_result(card, new_card, guess)\n",
    "    card = new_card\n",
    "    guess = ask_guess(card)\n",
    "\n",
    "print('====================')\n",
    "print(\"Thanks for playing :)\")"
   ]
  },
  {
   "cell_type": "markdown",
   "metadata": {},
   "source": [
    "## **Exercises**\n",
    "mostrly taken from [codewars.com](https://www.codewars.com)"
   ]
  },
  {
   "cell_type": "code",
   "execution_count": null,
   "metadata": {},
   "outputs": [],
   "source": [
    "# Write a program that prints the numbers from 1 to 20. But for multiples of three prints “Fizz” instead of the number and for the multiples of five print “Buzz”. For numbers which are multiples of both three and five print “FizzBuzz”.\n",
    "for n in range(1, 20+1):\n",
    "    ...\n",
    "    print(...)\n",
    "    \n",
    "# hint: the first prints should be: 1 2 Fizz 4 Buzz Fizz ..."
   ]
  },
  {
   "cell_type": "code",
   "execution_count": null,
   "metadata": {},
   "outputs": [],
   "source": [
    "#Write a function called repeatString which repeats the given String src exactly count times.\n",
    "def repeatStr(n, s):\n",
    "    ...\n",
    "    return result\n",
    "\n",
    "# Examples:\n",
    "# repeatStr(6, \"I\")       >>    \"IIIIII\"\n",
    "# repeatStr(5, \"Hello\")   >>   \"HelloHelloHelloHelloHello\""
   ]
  },
  {
   "cell_type": "code",
   "execution_count": null,
   "metadata": {},
   "outputs": [],
   "source": [
    "# Create a function that removes the first and last characters of a string.\n",
    "def trim(x):\n",
    "    ...\n",
    "    return trimmed_x\n",
    "\n",
    "# Examples:\n",
    "# trim(\"Chocolate\")   >>   \"hocolat\"\n",
    "# trim(\"L4W\")         >>   \"4\""
   ]
  },
  {
   "cell_type": "code",
   "execution_count": null,
   "metadata": {},
   "outputs": [],
   "source": [
    "# you are given a number and have to make it negative. But maybe the number is already negative?\n",
    "def make_negative(x):\n",
    "    ...\n",
    "    return result\n",
    "\n",
    "# Examples:\n",
    "# make_negative(1)    >> -1\n",
    "# make_negative(-5)   >> -5\n",
    "# make_negative(0)    >> 0"
   ]
  },
  {
   "cell_type": "code",
   "execution_count": null,
   "metadata": {},
   "outputs": [],
   "source": [
    "# Given an list of integers your solution should find the smallest integer.\n",
    "def find_min(x):\n",
    "    ...\n",
    "    return result\n",
    "\n",
    "# For example:\n",
    "# Given [34, 15, 88, 2] your solution will return 2\n",
    "# Given [34, -345, -1, 100] your solution will return -345"
   ]
  },
  {
   "cell_type": "code",
   "execution_count": null,
   "metadata": {},
   "outputs": [],
   "source": [
    "# Count the Trues in a list\n",
    "def count_trues(sequence):\n",
    "    ...\n",
    "    return num_of_true\n",
    "\n",
    "# For example:\n",
    "# count_trues([True,  True,  False, True,  False,  True]  >>  4"
   ]
  },
  {
   "cell_type": "code",
   "execution_count": null,
   "metadata": {},
   "outputs": [],
   "source": [
    "# Summation\n",
    "#Write a function that finds the summation of every number from 1 to num. The number will always be a positive integer greater than 0.\n",
    "def summation(x):\n",
    "    ...\n",
    "    return result\n",
    "\n",
    "\n",
    "# For example:\n",
    "#summation(2) -> 3\n",
    "# 1 + 2\n",
    "# summation(8) -> 36\n",
    "# 1 + 2 + 3 + 4 + 5 + 6 + 7 + 8"
   ]
  }
 ],
 "metadata": {
  "kernelspec": {
   "display_name": "Python 3",
   "language": "python",
   "name": "python3"
  },
  "language_info": {
   "codemirror_mode": {
    "name": "ipython",
    "version": 3
   },
   "file_extension": ".py",
   "mimetype": "text/x-python",
   "name": "python",
   "nbconvert_exporter": "python",
   "pygments_lexer": "ipython3",
   "version": "3.7.3"
  }
 },
 "nbformat": 4,
 "nbformat_minor": 4
}
