{
 "cells": [
  {
   "cell_type": "markdown",
   "metadata": {},
   "source": [
    "# **Survey Results**\n",
    "4 responses\n",
    "- **Mode of communication**: Unanimously Email\n",
    "- **Programming proficiency & after-lesson commitment**: very diverse answers\n",
    "- **Preferred Learning styles**: Demonstration & Collaboration\n",
    "- **Interests**:\n",
    "\n",
    "    ![results](imgs/activities_res.jpg)"
   ]
  },
  {
   "cell_type": "markdown",
   "metadata": {},
   "source": [
    "# Home Work (**NO CLASS ON THE 23RD!**)\n",
    "During these 2 weeks, find dataset(s) that interest you, so we can analyse them.\n",
    "\n",
    "Don't know where to start?\n",
    "- https://www.quora.com/What-are-some-interesting-data-sets-available-out-there\n",
    "- https://statistics.gov.scot/home\n",
    "- https://www.dataquest.io/blog/free-datasets-for-projects/\n",
    "- .. or something you work with (and is anonymised enough)"
   ]
  },
  {
   "cell_type": "markdown",
   "metadata": {},
   "source": [
    "# Basics Overview continues..\n",
    "- **Aggregate Types**\n",
    "    - lists (sequence of items)\n",
    "    - tuples (immutable lists)\n",
    "    - dictionaries (key-value pairs)\n",
    "- **Flow Control**\n",
    "    - if.. elif.. else.. (Conditionals)\n",
    "    - for i in seq  (For Loop)\n",
    "    - while i > 0  (While Loop)\n",
    "- **Functions**\n",
    "    - def myfunc(a, b, c=0)\n",
    "- **Classes**\n",
    "    - class MyClass"
   ]
  },
  {
   "cell_type": "markdown",
   "metadata": {},
   "source": [
    "## **Lists**\n",
    "editable (mutable) sequence of items"
   ]
  },
  {
   "cell_type": "code",
   "execution_count": null,
   "metadata": {
    "jupyter": {
     "source_hidden": true
    }
   },
   "outputs": [],
   "source": [
    "my_wierd_list = ['Jim', 3, False, [1,2]]  # each element can be a different type\n",
    "\n",
    "my_list = ['John', 'Paul', 'George', 'Ringo']  # most common is all the same type"
   ]
  },
  {
   "cell_type": "code",
   "execution_count": null,
   "metadata": {
    "jupyter": {
     "source_hidden": true
    }
   },
   "outputs": [],
   "source": [
    "# get first item\n",
    "my_list[-2:None:1]"
   ]
  },
  {
   "cell_type": "code",
   "execution_count": null,
   "metadata": {
    "jupyter": {
     "source_hidden": true
    }
   },
   "outputs": [],
   "source": [
    "#get last item\n",
    "my_list[-1]"
   ]
  },
  {
   "cell_type": "code",
   "execution_count": null,
   "metadata": {
    "jupyter": {
     "source_hidden": true
    }
   },
   "outputs": [],
   "source": [
    "# get second item?\n",
    "..."
   ]
  },
  {
   "cell_type": "code",
   "execution_count": null,
   "metadata": {
    "jupyter": {
     "source_hidden": true
    }
   },
   "outputs": [],
   "source": [
    "# get second-to-last item?\n",
    "..."
   ]
  },
  {
   "cell_type": "markdown",
   "metadata": {},
   "source": [
    "### *List slicing*\n",
    "also used for **arrays**, **matrices**, **pd.Series** and **strings**\n",
    "\n",
    "LIST[start:end:step]\n",
    "\n",
    "![slicing](imgs/list_slice.jpg)"
   ]
  },
  {
   "cell_type": "code",
   "execution_count": null,
   "metadata": {
    "jupyter": {
     "source_hidden": true
    }
   },
   "outputs": [],
   "source": [
    "# taking first two\n",
    "my_list[:2]    # same as my_list[0:2:1]"
   ]
  },
  {
   "cell_type": "code",
   "execution_count": null,
   "metadata": {
    "jupyter": {
     "source_hidden": true
    }
   },
   "outputs": [],
   "source": [
    "# taking last two\n",
    "my_list[-2:]    # same as my_list[-2::1]"
   ]
  },
  {
   "cell_type": "code",
   "execution_count": null,
   "metadata": {
    "jupyter": {
     "source_hidden": true
    }
   },
   "outputs": [],
   "source": [
    "# taking middle two?\n",
    "..."
   ]
  },
  {
   "cell_type": "code",
   "execution_count": null,
   "metadata": {
    "jupyter": {
     "source_hidden": true
    }
   },
   "outputs": [],
   "source": [
    "# taking one every two (even numbers)\n",
    "my_list[::2]"
   ]
  },
  {
   "cell_type": "code",
   "execution_count": null,
   "metadata": {
    "jupyter": {
     "source_hidden": true
    }
   },
   "outputs": [],
   "source": [
    "# reversing the order?\n",
    "..."
   ]
  },
  {
   "cell_type": "code",
   "execution_count": null,
   "metadata": {
    "jupyter": {
     "source_hidden": true
    }
   },
   "outputs": [],
   "source": [
    "# sorting a list\n",
    "sorted(my_list)"
   ]
  },
  {
   "cell_type": "code",
   "execution_count": null,
   "metadata": {
    "jupyter": {
     "source_hidden": true
    }
   },
   "outputs": [],
   "source": [
    "# changing one value\n",
    "print('before: ', my_list)\n",
    "my_list[2] = 'THE George'\n",
    "print('after: ', my_list)"
   ]
  },
  {
   "cell_type": "code",
   "execution_count": null,
   "metadata": {
    "jupyter": {
     "source_hidden": true
    }
   },
   "outputs": [],
   "source": [
    "# adding elements to a list\n",
    "my_list.append('Pete')\n",
    "\n",
    "my_list"
   ]
  },
  {
   "cell_type": "code",
   "execution_count": null,
   "metadata": {
    "jupyter": {
     "source_hidden": true
    }
   },
   "outputs": [],
   "source": [
    "# checking if element in list\n",
    "'Pete' in my_list"
   ]
  },
  {
   "cell_type": "markdown",
   "metadata": {},
   "source": [
    "## **Tuples** (very briefly)\n",
    "basically lists that cannot be edited (immutable)"
   ]
  },
  {
   "cell_type": "code",
   "execution_count": null,
   "metadata": {
    "jupyter": {
     "source_hidden": true
    }
   },
   "outputs": [],
   "source": [
    "my_tuple = ('John', 'Paul', 'George', 'Ringo')  # most common is all the same type\n",
    "\n",
    "sorted(my_tuple[-2:])"
   ]
  },
  {
   "cell_type": "code",
   "execution_count": null,
   "metadata": {
    "jupyter": {
     "source_hidden": true
    }
   },
   "outputs": [],
   "source": [
    "my_tuple.append(42)  # won't work"
   ]
  },
  {
   "cell_type": "code",
   "execution_count": null,
   "metadata": {
    "jupyter": {
     "source_hidden": true
    }
   },
   "outputs": [],
   "source": [
    "my_tuple[2] = 'THE George'  # won't work"
   ]
  },
  {
   "cell_type": "markdown",
   "metadata": {},
   "source": [
    "## **Dictionaries**\n",
    "Collection of key-value pairs"
   ]
  },
  {
   "cell_type": "code",
   "execution_count": null,
   "metadata": {
    "jupyter": {
     "source_hidden": true
    }
   },
   "outputs": [],
   "source": [
    "the_beatles_instruments = {\n",
    "    'John': ['vocals', 'rhythm and lead guitar', 'keyboards', 'harmonica', 'bass guitar'],\n",
    "    'Paul':  ['vocals', 'bass guitar', 'rhythm and lead guitar', 'keyboards', 'drums'],\n",
    "    'George': ['lead and rhythm guitar', 'vocals', 'sitar', 'keyboards', 'bass guitar'],\n",
    "    'Ringo': ['drums', 'percussion', 'vocals'],\n",
    "} \n",
    "\n",
    "the_beatles_tenure = {\n",
    "    'John': {'start': 1960, 'end': 1969},\n",
    "    'Paul':  [1960, 1970],\n",
    "    'George': (1960, 1970),\n",
    "    'Ringo': '1962–1970',\n",
    "}"
   ]
  },
  {
   "cell_type": "code",
   "execution_count": null,
   "metadata": {
    "jupyter": {
     "source_hidden": true
    }
   },
   "outputs": [],
   "source": [
    "# accessing a value\n",
    "the_beatles_instruments['Paul']"
   ]
  },
  {
   "cell_type": "code",
   "execution_count": null,
   "metadata": {
    "jupyter": {
     "source_hidden": true
    }
   },
   "outputs": [],
   "source": [
    "# starting year of John?\n",
    "..."
   ]
  },
  {
   "cell_type": "code",
   "execution_count": null,
   "metadata": {
    "jupyter": {
     "source_hidden": true
    }
   },
   "outputs": [],
   "source": [
    "# adding a new value\n",
    "the_beatles_instruments['Pete'] = ['drums']\n",
    "\n",
    "print(the_beatles_instruments)"
   ]
  },
  {
   "cell_type": "code",
   "execution_count": null,
   "metadata": {
    "jupyter": {
     "source_hidden": true
    }
   },
   "outputs": [],
   "source": [
    "# getting all keys\n",
    "the_beatles_tenure.keys()"
   ]
  },
  {
   "cell_type": "code",
   "execution_count": null,
   "metadata": {
    "jupyter": {
     "source_hidden": true
    }
   },
   "outputs": [],
   "source": [
    "# getting all values\n",
    "the_beatles_tenure.values()"
   ]
  },
  {
   "cell_type": "code",
   "execution_count": null,
   "metadata": {
    "jupyter": {
     "source_hidden": true
    }
   },
   "outputs": [],
   "source": [
    "# getting all keys-values as pairs\n",
    "the_beatles_tenure.items()"
   ]
  },
  {
   "cell_type": "markdown",
   "metadata": {},
   "source": [
    "## **If Statement**\n",
    "diverting the execution flow depending on 1+ condition"
   ]
  },
  {
   "cell_type": "code",
   "execution_count": null,
   "metadata": {
    "jupyter": {
     "source_hidden": true
    }
   },
   "outputs": [],
   "source": [
    "happy = True\n",
    "know_it = True"
   ]
  },
  {
   "cell_type": "code",
   "execution_count": null,
   "metadata": {
    "jupyter": {
     "source_hidden": true
    }
   },
   "outputs": [],
   "source": [
    "if happy == True and know_it == True:\n",
    "    print('hands go clap clap')\n",
    "elif know_it == False:\n",
    "    print('hands go clap')\n",
    "else:\n",
    "    print('...silence...')"
   ]
  },
  {
   "cell_type": "code",
   "execution_count": null,
   "metadata": {
    "jupyter": {
     "source_hidden": true
    }
   },
   "outputs": [],
   "source": [
    "# what result do I expect with.. ? \n",
    "happy = True\n",
    "know_it = False"
   ]
  },
  {
   "cell_type": "code",
   "execution_count": null,
   "metadata": {
    "jupyter": {
     "source_hidden": true
    }
   },
   "outputs": [],
   "source": [
    "# what result do I expect with.. ? \n",
    "happy = False\n",
    "know_it = True"
   ]
  },
  {
   "cell_type": "markdown",
   "metadata": {},
   "source": [
    "## **For Loop**\n",
    "runs a part of the code multiple times: one for every item in the sequence"
   ]
  },
  {
   "cell_type": "code",
   "execution_count": null,
   "metadata": {
    "jupyter": {
     "source_hidden": true
    }
   },
   "outputs": [],
   "source": [
    "for i in range(5):\n",
    "    print(i)"
   ]
  },
  {
   "cell_type": "code",
   "execution_count": null,
   "metadata": {
    "jupyter": {
     "source_hidden": true
    }
   },
   "outputs": [],
   "source": [
    "print(the_beatles_instruments)"
   ]
  },
  {
   "cell_type": "code",
   "execution_count": null,
   "metadata": {
    "jupyter": {
     "source_hidden": true
    }
   },
   "outputs": [],
   "source": [
    "for member, instruments in the_beatles_instruments.items():\n",
    "    for instrument in instruments:\n",
    "        print(member, 'plays', instrument)"
   ]
  },
  {
   "cell_type": "markdown",
   "metadata": {},
   "source": [
    "## **While Loop**\n",
    "runs a part of the code multiple times: until a condition is met"
   ]
  },
  {
   "cell_type": "code",
   "execution_count": null,
   "metadata": {
    "jupyter": {
     "source_hidden": true
    }
   },
   "outputs": [],
   "source": [
    "current_value = 0\n",
    "while current_value <= 5:\n",
    "    print('the current value is: ', current_value)\n",
    "    current_value += 1"
   ]
  },
  {
   "cell_type": "markdown",
   "metadata": {},
   "source": [
    "## **Function**\n",
    "ways to group and reuse code that can be logically isolated"
   ]
  },
  {
   "cell_type": "code",
   "execution_count": null,
   "metadata": {
    "jupyter": {
     "source_hidden": true
    }
   },
   "outputs": [],
   "source": [
    "def simple_greeting():\n",
    "    print('Hi')\n",
    "\n",
    "simple_greeting()"
   ]
  },
  {
   "cell_type": "code",
   "execution_count": null,
   "metadata": {
    "jupyter": {
     "source_hidden": true
    }
   },
   "outputs": [],
   "source": [
    "def greeting(name):\n",
    "    print('Hi,', name)\n",
    "\n",
    "greeting('Bob')        # passing argument as positional\n",
    "greeting(name='Bob')   # passing argument as keyword"
   ]
  },
  {
   "cell_type": "code",
   "execution_count": null,
   "metadata": {
    "jupyter": {
     "source_hidden": true
    }
   },
   "outputs": [],
   "source": [
    "def greeting_with_default(name='you'):\n",
    "    print('Hi,', name)\n",
    "\n",
    "greeting_with_default()\n",
    "greeting_with_default('Bob')\n",
    "greeting_with_default(name='Bob')"
   ]
  },
  {
   "cell_type": "code",
   "execution_count": null,
   "metadata": {
    "jupyter": {
     "source_hidden": true
    }
   },
   "outputs": [],
   "source": [
    "# returning values instead of printing it\n",
    "def duplicate(x):\n",
    "    return 2*x\n",
    "\n",
    "doulex = duplicate(3)\n",
    "doulex"
   ]
  },
  {
   "cell_type": "code",
   "execution_count": null,
   "metadata": {
    "jupyter": {
     "source_hidden": true
    }
   },
   "outputs": [],
   "source": [
    "# what happens if I do.. ?\n",
    "duplicate(duplicate(3))"
   ]
  },
  {
   "cell_type": "markdown",
   "metadata": {},
   "source": [
    "## **Classes**\n",
    "Classes provide a means of bundling data and functionality together.  Creating a new class creates a new type of object, allowing new instances of that type to be made. Each class instance can have attributes attached to it for maintaining its state. Class instances can also have methods (defined by its class) for modifying its state."
   ]
  },
  {
   "cell_type": "code",
   "execution_count": null,
   "metadata": {
    "jupyter": {
     "source_hidden": true
    }
   },
   "outputs": [],
   "source": [
    "# defining the class\n",
    "class Dog:\n",
    "    def __init__(self, name):\n",
    "        self.name = name\n",
    "        self.tricks = []\n",
    "\n",
    "    def add_trick(self, trick):\n",
    "        self.tricks.append(trick)\n",
    "\n",
    "# Don't worry if you don't fully understand the above, focus on the below :)\n",
    "        \n",
    "# creating and using an instance of it\n",
    "d = Dog('Fido')\n",
    "d.add_trick('roll over')\n",
    "d.add_trick('play dead')\n",
    "d.tricks"
   ]
  },
  {
   "cell_type": "markdown",
   "metadata": {},
   "source": [
    "## **Revisited High-Low**\n",
    "using what we have learned so far..\n",
    "\n",
    "```input(message)``` is a built-in python function that requests user input showing a message"
   ]
  },
  {
   "cell_type": "code",
   "execution_count": null,
   "metadata": {
    "jupyter": {
     "source_hidden": true
    }
   },
   "outputs": [],
   "source": [
    "import random\n",
    "\n",
    "CARDS = range(1, 13+1)\n",
    "card = random.choice(CARDS)\n",
    "\n",
    "def ask_guess(card):\n",
    "    print('====================')\n",
    "    print('The current card is', card)\n",
    "    guess = input('Is the next one going to be higher (\"h\") or lower (\"l\")? (\"q\" to quit)')\n",
    "    return guess\n",
    "\n",
    "def evaluate_result(card, new_card, guess):\n",
    "    if new_card == card:\n",
    "        print('They are exactly the same card, you lose :(')\n",
    "    elif (new_card > card and guess == 'h') or (new_card < card and guess == 'l'):\n",
    "        print('Well done! you guessed correcty :)')\n",
    "    else:\n",
    "        print('Wrong :(')\n",
    "\n",
    "        \n",
    "guess = ask_guess(card)\n",
    "while guess != 'q':\n",
    "    new_card = random.choice(CARDS)  \n",
    "    print('The new card is: ', new_card)\n",
    "    evaluate_result(card, new_card, guess)\n",
    "    card = new_card\n",
    "    guess = ask_guess(card)\n",
    "\n",
    "print('====================')\n",
    "print(\"Thanks for playing :)\")"
   ]
  },
  {
   "cell_type": "markdown",
   "metadata": {},
   "source": [
    "## **Exercises**\n",
    "mostrly taken from [codewars.com](https://www.codewars.com)"
   ]
  },
  {
   "cell_type": "code",
   "execution_count": null,
   "metadata": {
    "jupyter": {
     "source_hidden": true
    }
   },
   "outputs": [],
   "source": [
    "# Write a program that prints the numbers from 1 to 20. But for multiples of three prints “Fizz” instead of the number and for the multiples of five print “Buzz”. For numbers which are multiples of both three and five print “FizzBuzz”.\n",
    "for n in range(1, 20+1):\n",
    "    ...\n",
    "    print(...)\n",
    "    \n",
    "# hint: the first prints should be: 1 2 Fizz 4 Buzz Fizz ..."
   ]
  },
  {
   "cell_type": "code",
   "execution_count": null,
   "metadata": {
    "jupyter": {
     "source_hidden": true
    }
   },
   "outputs": [],
   "source": [
    "#Write a function called repeatString which repeats the given String src exactly count times.\n",
    "def repeatStr(n, s):\n",
    "    ...\n",
    "    return result\n",
    "\n",
    "# Examples:\n",
    "# repeatStr(6, \"I\")       >>    \"IIIIII\"\n",
    "# repeatStr(5, \"Hello\")   >>   \"HelloHelloHelloHelloHello\""
   ]
  },
  {
   "cell_type": "code",
   "execution_count": null,
   "metadata": {
    "jupyter": {
     "source_hidden": true
    }
   },
   "outputs": [],
   "source": [
    "# Create a function that removes the first and last characters of a string.\n",
    "def trim(x):\n",
    "    ...\n",
    "    return trimmed_x\n",
    "\n",
    "# Examples:\n",
    "# trim(\"Chocolate\")   >>   \"hocolat\"\n",
    "# trim(\"L4W\")         >>   \"4\""
   ]
  },
  {
   "cell_type": "code",
   "execution_count": null,
   "metadata": {
    "jupyter": {
     "source_hidden": true
    }
   },
   "outputs": [],
   "source": [
    "# you are given a number and have to make it negative. But maybe the number is already negative?\n",
    "def make_negative(x):\n",
    "    ...\n",
    "    return result\n",
    "\n",
    "# Examples:\n",
    "# make_negative(1)    >> -1\n",
    "# make_negative(-5)   >> -5\n",
    "# make_negative(0)    >> 0"
   ]
  },
  {
   "cell_type": "code",
   "execution_count": null,
   "metadata": {
    "jupyter": {
     "source_hidden": true
    }
   },
   "outputs": [],
   "source": [
    "# Given an list of integers your solution should find the smallest integer.\n",
    "def find_min(x):\n",
    "    ...\n",
    "    return result\n",
    "\n",
    "# For example:\n",
    "# Given [34, 15, 88, 2] your solution will return 2\n",
    "# Given [34, -345, -1, 100] your solution will return -345"
   ]
  },
  {
   "cell_type": "code",
   "execution_count": null,
   "metadata": {
    "jupyter": {
     "source_hidden": true
    }
   },
   "outputs": [],
   "source": [
    "# Count the Trues in a list\n",
    "def count_trues(sequence):\n",
    "    ...\n",
    "    return num_of_true\n",
    "\n",
    "# For example:\n",
    "# count_trues([True,  True,  False, True,  False,  True]  >>  4"
   ]
  },
  {
   "cell_type": "code",
   "execution_count": null,
   "metadata": {
    "jupyter": {
     "source_hidden": true
    }
   },
   "outputs": [],
   "source": [
    "# Summation\n",
    "#Write a function that finds the summation of every number from 1 to num. The number will always be a positive integer greater than 0.\n",
    "def summation(x):\n",
    "    ...\n",
    "    return result\n",
    "\n",
    "\n",
    "# For example:\n",
    "#summation(2) -> 3\n",
    "# 1 + 2\n",
    "# summation(8) -> 36\n",
    "# 1 + 2 + 3 + 4 + 5 + 6 + 7 + 8"
   ]
  }
 ],
 "metadata": {
  "kernelspec": {
   "display_name": "DataScience",
   "language": "python",
   "name": "ds_env"
  },
  "language_info": {
   "codemirror_mode": {
    "name": "ipython",
    "version": 3
   },
   "file_extension": ".py",
   "mimetype": "text/x-python",
   "name": "python",
   "nbconvert_exporter": "python",
   "pygments_lexer": "ipython3",
   "version": "3.7.4"
  }
 },
 "nbformat": 4,
 "nbformat_minor": 4
}
