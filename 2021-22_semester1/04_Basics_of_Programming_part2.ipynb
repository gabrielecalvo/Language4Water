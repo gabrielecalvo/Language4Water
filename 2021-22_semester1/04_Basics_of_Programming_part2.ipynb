{
 "cells": [
  {
   "cell_type": "markdown",
   "metadata": {},
   "source": [
    "# In the previous episode...\n",
    "\n",
    "## common basic types\n",
    "```python\n",
    "a = 7          # integer\n",
    "b = 3.14       # float\n",
    "c = 'ciao'     # string (a.k.a. text)\n",
    "d = \"ciao\"     # also string\n",
    "e = True       # boolean (either True or False)\n",
    "```\n",
    "\n",
    "## common number operations\n",
    "```python\n",
    "7 // 3   # floor division\n",
    "7 % 3    # division remainder\n",
    "7 > 3    # greater than\n",
    "7 < 3    # lower than\n",
    "7 >= 3   # greater than or equal\n",
    "7 <= 3   # lower than or equal\n",
    "7 != 3   # different\n",
    "7 == 7   # equal (comparison)\n",
    "```\n",
    "\n",
    ".. if you are ever in a hurry, you can try:\n",
    "- https://www.pythoncheatsheet.org/#Python-Basics\n",
    "- https://speedsheet.io/s/python"
   ]
  },
  {
   "cell_type": "markdown",
   "metadata": {},
   "source": [
    "# .. and now"
   ]
  },
  {
   "cell_type": "markdown",
   "metadata": {
    "id": "9jIsva79of9q"
   },
   "source": [
    "# Fun with... strings"
   ]
  },
  {
   "cell_type": "code",
   "execution_count": 1,
   "metadata": {},
   "outputs": [
    {
     "name": "stdout",
     "output_type": "stream",
     "text": [
      "HelloWorld\n",
      "HelloHelloHelloHelloHello\n",
      "False\n"
     ]
    }
   ],
   "source": [
    "a = 'Hello'\n",
    "b = \"World\"\n",
    "\n",
    "c = \"\"\"multiline\n",
    "string\"\"\"  # or triple ' symbol\n",
    "\n",
    "print(a + b)   # concatentation\n",
    "print(a * 5)   # repetition\n",
    "print(a > b)   # alphanumberic comparison, works with >, <, ==, and != too"
   ]
  },
  {
   "cell_type": "markdown",
   "metadata": {},
   "source": [
    "### string methods\n",
    "All types have special functionality attached (also called `methods`). String's one can be particularly useful when working with them.\n",
    "\n",
    "Some nice ones are:\n",
    "```python\n",
    "\"aAbB\".upper()  # \"AABB\"\n",
    "\"aAbB\".lower()  # \"aabb\"\n",
    "\"aAbB\".title()  # \"Aabb\"\n",
    "\n",
    "\"aAbB\".startswith(\"aA\")   # True\n",
    "\"aAbB\".endswith(\"aA\")     # False\n",
    "\"aAbB\".replace(\"A\", \"C\")  # \"aCbB\"\n",
    "\"aAbB\".split(\"b\")         # [\"aA\", \"B\"]\n",
    "```"
   ]
  },
  {
   "cell_type": "markdown",
   "metadata": {},
   "source": [
    "### string templeting\n",
    "Another useful way to work with strings is using *templeting*, which can \n",
    "be done using either of these formats:"
   ]
  },
  {
   "cell_type": "code",
   "execution_count": 22,
   "metadata": {},
   "outputs": [
    {
     "name": "stdout",
     "output_type": "stream",
     "text": [
      "this brilliant template\n",
      "this brilliant template\n",
      "this brilliant template\n"
     ]
    }
   ],
   "source": [
    "myvar = \"brilliant\"\n",
    "\n",
    "print(\"this %s template\" % myvar)        # outdated, use one of the others\n",
    "print(\"this {} template\".format(myvar))  # sometimes useful\n",
    "print(f\"this {myvar} template\")          # most modern and nicer to work with"
   ]
  },
  {
   "cell_type": "markdown",
   "metadata": {},
   "source": [
    "the last two ways allow for special formatting within the `{}` for example:\n",
    "- `{13:05}` pad with 5 zeros\n",
    "- `{3.1415:.2f}` show only 2 digits"
   ]
  },
  {
   "cell_type": "code",
   "execution_count": 153,
   "metadata": {},
   "outputs": [
    {
     "data": {
      "text/plain": [
       "'Hellow 007, I was waiting for you'"
      ]
     },
     "execution_count": 153,
     "metadata": {},
     "output_type": "execute_result"
    }
   ],
   "source": [
    "f\"Hellow {7:03}, I was waiting for you\""
   ]
  },
  {
   "cell_type": "markdown",
   "metadata": {},
   "source": [
    "## getting user input\n",
    "the simplest way to get user input is to use the `input` function"
   ]
  },
  {
   "cell_type": "code",
   "execution_count": 32,
   "metadata": {},
   "outputs": [
    {
     "name": "stdin",
     "output_type": "stream",
     "text": [
      "Capital of Germany?  hgarhegahroeh\n"
     ]
    },
    {
     "name": "stdout",
     "output_type": "stream",
     "text": [
      "you said hgarhegahroeh, it was Berlin\n"
     ]
    }
   ],
   "source": [
    "city = input(\"Capital of Germany? \")\n",
    "\n",
    "print(f\"you said {city}, it was Berlin\")"
   ]
  },
  {
   "cell_type": "markdown",
   "metadata": {},
   "source": [
    "# Silly Mad-lib"
   ]
  },
  {
   "cell_type": "code",
   "execution_count": 33,
   "metadata": {},
   "outputs": [
    {
     "name": "stdin",
     "output_type": "stream",
     "text": [
      "give me an ADJECTIVE:  loud\n",
      "give me an NOUN:  apple\n",
      "give me an ANIMAL:  tiger\n",
      "give me an SOUND:  bang\n"
     ]
    },
    {
     "name": "stdout",
     "output_type": "stream",
     "text": [
      "thanks, run the next cell to see your song\n"
     ]
    }
   ],
   "source": [
    "adj = input(\"give me an ADJECTIVE: \")\n",
    "noun = input(\"give me an NOUN: \")\n",
    "animal = input(\"give me an ANIMAL: \")\n",
    "sound = input(\"give me an SOUND: \")\n",
    "print(\"thanks, run the next cell to see your song\")"
   ]
  },
  {
   "cell_type": "code",
   "execution_count": 34,
   "metadata": {
    "tags": []
   },
   "outputs": [
    {
     "name": "stdout",
     "output_type": "stream",
     "text": [
      "\n",
      "loud Macdonald had a apple, E-I-E-I-O\n",
      "and on that apple he had an tiger, E-I-E-I-O\n",
      "with a bang bang here\n",
      "and a bang bang there,\n",
      "here a bang, there a bang,\n",
      "everywhere a bang bang,\n",
      "loud Macdonald had a apple, E-I-E-I-O. \n",
      "\n"
     ]
    }
   ],
   "source": [
    "madlib = f\"\"\"\n",
    "{adj} Macdonald had a {noun}, E-I-E-I-O\n",
    "and on that {noun} he had an {animal}, E-I-E-I-O\n",
    "with a {sound} {sound} here\n",
    "and a {sound} {sound} there,\n",
    "here a {sound}, there a {sound},\n",
    "everywhere a {sound} {sound},\n",
    "{adj} Macdonald had a {noun}, E-I-E-I-O. \n",
    "\"\"\"\n",
    "\n",
    "print(madlib)"
   ]
  },
  {
   "cell_type": "markdown",
   "metadata": {},
   "source": [
    "**IDEA** for further development: give [TextToSpeech](https://pypi.org/project/gTTS) a try!"
   ]
  },
  {
   "cell_type": "markdown",
   "metadata": {
    "tags": []
   },
   "source": [
    "First install the gTTS third-party library. You can do it from within jupyter/colab by running\n",
    "`!pip install gTTS`"
   ]
  },
  {
   "cell_type": "code",
   "execution_count": 35,
   "metadata": {
    "collapsed": true,
    "jupyter": {
     "outputs_hidden": true
    },
    "tags": []
   },
   "outputs": [
    {
     "name": "stdout",
     "output_type": "stream",
     "text": [
      "Requirement already satisfied: gTTS in c:\\users\\xps\\documents\\coding\\github\\language4water\\venv\\lib\\site-packages (2.2.2)\n",
      "Requirement already satisfied: requests in c:\\users\\xps\\documents\\coding\\github\\language4water\\venv\\lib\\site-packages (from gTTS) (2.25.1)\n",
      "Requirement already satisfied: click in c:\\users\\xps\\documents\\coding\\github\\language4water\\venv\\lib\\site-packages (from gTTS) (7.1.2)\n",
      "Requirement already satisfied: six in c:\\users\\xps\\documents\\coding\\github\\language4water\\venv\\lib\\site-packages (from gTTS) (1.15.0)\n",
      "Requirement already satisfied: chardet<5,>=3.0.2 in c:\\users\\xps\\documents\\coding\\github\\language4water\\venv\\lib\\site-packages (from requests->gTTS) (4.0.0)\n",
      "Requirement already satisfied: certifi>=2017.4.17 in c:\\users\\xps\\documents\\coding\\github\\language4water\\venv\\lib\\site-packages (from requests->gTTS) (2020.12.5)\n",
      "Requirement already satisfied: urllib3<1.27,>=1.21.1 in c:\\users\\xps\\documents\\coding\\github\\language4water\\venv\\lib\\site-packages (from requests->gTTS) (1.26.3)\n",
      "Requirement already satisfied: idna<3,>=2.5 in c:\\users\\xps\\documents\\coding\\github\\language4water\\venv\\lib\\site-packages (from requests->gTTS) (2.10)\n"
     ]
    }
   ],
   "source": [
    "!pip install gTTS"
   ]
  },
  {
   "cell_type": "code",
   "execution_count": 36,
   "metadata": {
    "tags": []
   },
   "outputs": [
    {
     "data": {
      "text/html": [
       "\n",
       "                <audio  controls=\"controls\" >\n",
       "                    <source src=\"data:audio/mpeg;base64,//NExAAQEGIoAGMMKDwvkIYGQDALjsWSKPwUPDoZgA+JpS1Jgm8c7AhMTl1GQiQQ5m93y/0lLUo//S/9iE9BQEHetRw4QEBce8LvCAYVnrOQqM51N5WPFuEbTkhTQuAi//NExBIRAaaMAMMElILsVIFDp/Vevsscvdf23+lNvelJltevfYjyk9qtn6EnciEY52POfX/f98jkIEAGfxOUpqSo9Io5ky8pq2qThrc+HLKSLQHoBoAEB9TQL6tdaLi6//NExCEZEcqIANsQlLkCK9a1ST7sB5CcxEMMy9UyQ60grn/jierYo56jt9a/1/n+OHGvLvIUFROQDyodXOSRW4RQl3fylES1GZvtz8GtaUrVws4ycaNSI+hM8kqcEQwN//NExA8UWb6UANoElA6/yhgcOhV0AeBJuTx3uPrhDV8OA9XcSlPYoAoK7l//Ntbv//855isR3EgSAIZQzjBIkkiEF4/Z+6lLTbU7lbLHfUrX12MCrssJXfdOUTX2py2n//NExBAUwb6UANsKlCwGNfabYMTbtw96eZPNnkkWZpLnMbLX+0JgbD2jNb9f6uyf/79LNW5cwCoIBguWIjwRPERrnae/pQsdIsWHrP7fpeud1p4TOoyZhPOGKgj/FC/c//NExBAWMbaYANPKlNuGsYIbqrXMx9n5Q6Je8RK/GpHHO4CzGpEiHBt+pDsKVzs7SMR+z0R6EGdm//9772QRKNMPBImWOCQUPGaIr3KR969O5/7upi7DLJuKZI8iT0K2//NExAoTqTqwAMYWcEqlDxMl9sQopSlDeLvuXDSvv3cfsb+Vxf94glj/ucGAgDeCsqDQwMigAQNJ7NL9nFaC93ksvjQtnFJhb90pMiwsAFGfTa/5EhFBuG9NgH/rwgUQ//NExA4UETbAAHvYcLU5PdkhBXP7QiZIbZ+3nKXt/tk1AeTNwTyo42lEUDBxSQ5PnN1cozMfWUpsEL/0ecshspGXwMDixZrfWUUIRyQt45Wn+ahbRK98FqRn7cMJUPMN//NExBAU2ULEAHvYcGK6byxddD6AQ37BU/ToLeW7HI0gIERElEEODxgnDsIo/q4Vrr+2Xe42/bX1jFEJewsaZarH9o+Ap1600XS6iTUtj6kK1/lsFqQG9VhC4u6ZbBXj//NExA8VsTbAAHvecFGe0FOgToMdN5L6BJAJZL3NujEyELJeyxVESFamsfxeiTE4VkqtgR6VxCjvKW1Cjw48aE2yTWhVfahygoaHG/Y1LRVBgszQSm6wrQMRqzgbSOc///NExAsVUS7AAG4eca3QKrNilm9U7ijx6GjyurFXc4l6zGbgqEPhQT9IKUCGMi5ZUSqH981gw8a9oz2PrGZI7yJI+nZprtFRDLG+6/xSy6VJsnbf+p226kfMQCVI7bsw//NExAgT2Ta8AG4ecE+7m85qIp4XL1abRtHmoD4zluUuC0zczs7ghwtZBFiC1E+Leaa3fFoUams1rF3TGaxoM+e+jxY97WknBdRjbW8AH4VYBjf9FWT2Mggw41aoCBJG//NExAsSMTa4AJYecKH5ZaGQGcLr1N3mlCFSPk539TQXwaDhJ28/QuTjx4M9W6Jr/G5/811BxT+sF5HvuDuSeJSg7p01ljqng1+lQV0ATwCxHcwLxoBH4MRnU7uHgtYr//NExBUSAYqsAJ4KlA1P1g7QgO9uuU+MsAq87WVPxwkhqmv//C7dQ6/1R7OgSrRTiIfRujdhF5Mww595Uhez6LOOPe+SGig73tSXPWBa6cOquviArAzbK53tEou6kzhS//NExCASEW6oANZElFehR5b6L0vOb+d7//4Nv3+rd4KxnxYo7F014MeUSdOhhJ3//////RqV33vd3SE8TOMaWRS/AxmMMju9eS4DMhLnTEC5IUIQiLBwkmYvc1Z8arE+//NExCoR4YKkANPElHP62+//pRTxamKKSpGzoQhWOSDQKBVX/////b/+hYtYu406ZZrwog1aBH6dBFc4JTGxypv4+zOpdf5GqEkwW0g0kThaCslZqdMi6p2dbf60aKtJ//NExDUSmW6cAVhoACTUtBNqR00PmqWi7qpLaZF5iR4q7SoIGZhBCqLOYTAdcpy5QiIJmFwSjcYtAENGKAjA6Exayo3kBShkMawdLgqfRPUUhOHvam69pIptlCyxGnDM//NExD0gWgJYAZx4AMOs2zjXizQYM0bfrTes/Ws4phlZYr17b+DW1Nbg63bWYVswc6vvFtY+vrf+PvP+qyaxnUHpJP6nHWR0XLBp4KUJl3KyNT5JJJ0FwdPJGC56Tex9//NExA4UYyqwAYgQAEvU52ZW3990IrU87t9EZtgNO3IdHjjFMikAV/XSqNIZgwlAghApDf/nFkZmIk6sII5XuqJb//572u/bnIhwjnYzC7h1mkCY8OFi4sUTI0v/+/RX//NExA8T4daoAcUoAHSjWb9KV26lrQjvuhpr3M4kg9A8HVMLFiSiLioqBRxioZFmDwkZhUBEzBksgHSpIFRkedqBqp7Qm709vSppYeG1fubf2la0bDkVsoOgZylDzNnx//NExBIXIWKQANJGlKBSW6ouTRJ0ECMT7WUzckDTi5sXdrcUrk1s5A1I45BuqXSZr0mPPvzOs34ZnrDQKglAQVwa2hQKCUywFQqwi4i5RqVXh1XPVu/5FZ+Svg8YWBjU//NExAgTgQqAAN5wcPCF5xncIjCrzbDQJWu6rTIhAZ1T3p6VJqfq9nAaUUN3bErGSka3fuVc4DkOs87cdn7+GOLd5+7nW3W1z9ar9FQcOvX8vYqlrTsNF9TTd83QPQqc//NExA0TIWKIANvUlceRmZqrAxSFSBnNwAUv9wLnoxxdU0J2tarU9AGgLpxUsZOEp187XaijXMCuAkN3ZhXFlVoJB2h4rOf2/8rkzbW93dxsIEnqML+f2dRdSsOcmC4F//NExBMVUZakANPGlPBrXAsZ9SVkUoJ9b3qAeqbb41VMewRtfTjeulkJGm627aznvhIflXPqgYc9wggANzRE+q5lmiCC2EAhHKAIcFX/BBU824JDRF9zoQDwUqFY3pxI//NExBASSZ60AKPKlAXn3rJ+lPv/J+u95pYzEZreGIdwsc+KdqAN9DC79D8pA++JC4HO0zkbm8xznuJHDhEcxxA4gIMpzKr1BIGQ41dIuhhwGNJYXBahThAcfHYzm3/j//NExBkSOaKwAKPQlC63/3xyxfizEilrHs2AMDdcuKt/AgD6uCDA+rcaKHRzxX/F/rt9Kk1wo4k6Tc6V0aexnnfEQaj/MWYLHOCk1BZW8tWISZYta+WFWzfFq6xv5Vr7//NExCMRSaKcAMvKlP9q4tv44eAxlEQ6LUMNDpBJTOgeDxxWHvlb6eV+VpvQWw6qRLMAV4ZUXuMMoSHMRMsoAoRCIddga5fK3WHS6alNFzGzuls8/+8y72pq+f/ZkoK3//NExDARoRZgAM4McB60F01R1gEFQCs2nI8RZ2vqbRUEnUEKPYjPAUMADiALEACZf6aTkMrSJpYZk3ak1VwvoeC4NtadCoKkwaPCIOklpPTwiV22sGIxSK72rv9J7RNS//NExDwR2FZIAVgYAE0VYVV/PdSqqfmtFQc6NStQdkbRRXc6XRivGmgU9Wlqz8s3Uo9kmpDlz3psbcg2sO8d7ImKbo7CIPggLOUyNjaapW8aC4EwHCp6J62MlrYlmQ5z//NExEccwmpMAZlYAGSw0i++fq+LbM7UVy9p8/CxZfEff3xH/dV03P5/udhyS9K1U9OFRYU4gqSQRiQhh1kYXYJ5LlmAiyhmWPFEGmt7Ig+BUcsfo5odh+ogh0DYQu0u//NExCccGrqkAYlAAAFgeOEDwLA2Pco7i1uBhlP70dSzSzUd3NoI5Bl084gCgj0cYxxpLrE2kwl//X6FyPqCKQ5BmOJWmWWt2/////x0lUBCcFLR7uKKCBC3K87AlR/0//NExAkSwgpwAY8oAD+TG2WpjSvr67CQDJKmaUW/VxIDIEgM62/ijgMLC3/5ViJW/+65RIOqHTCI5XrZWN/4dEjBEUFY2HhNVo/hyeXmaDaXEXHrm5uNAK93CwS75QV0//NExBEWGyqkAY1QAP8gNPLf+h4/IBX/b49KGrP//x/PQWB+V//95AeBTC/JwK5MDYHf///xMEWVFcWyYLwjBoZBP/////xUIxZApjcnycVBCEBItfj9qIIrXcxvgXxj//NExAsS2aLEAc8oAJyIRALYjPul96/veiEJ0D9lAcXkJP//+5zs1//+33KVjGKyCQeHA0GgVEQVDawVc5USqDgiV1BQ8Ifqf+Vdyrkqx/H24DbZ2WwkqrEJnfa7MJlk//NExBIVuZqsAMZKlG2NE84xgOMkP6ji4LW9yVj+P6bGnlHsNSoMEfq/lWbHzFoTbiAtyC2ofBHdAHA3GDuj9UdaKyUDqGcoudPh6rOf////1e/+aThEWphOocR8GHdL//NExA4R+Z6wAMZOlAI2hCcuO0Z4OOOs0g8/ziAkZScxgkIky3286eu/yMX/yL8VdxM/CosewnGhjOUVtG8trGdIvesho9TDutlQizamXXAJ8zuFOOEA8X4r9UbBqKet//NExBkRuYasAMYOlLoS6l7OijxxTR3b04QllGX/GL/P+Vc/KP7cp46Mc0MvWH+R6CPWoPE1GmHt1tfH9XSqha+EvgYlMMBqfSoIjxBo/yhk1g+Z84IxbGVNTg4xEupW//NExCUSAaKoAMZKlMlyMVy5g9V79fuTfjPt5/EfD76gCL0UK8g/QJAvEl5RTRuptdyxLBBNU/kZYODFAWMyykZAkwcJE//GyByVNvUTXJF8ZmqYpTfW8q4qFB3N/GrP//NExDASoYqkAM5KlHX1536CCdP/NzjqYDD3uPbcBh72duMd87I+hcN6vCEQH08FFy+5hdBu1IsNdlhQYIevAtagcqKS3WMMuHU1lDIWO7k9KboX7FNhtO+a3kRet/CI//NExDgRaPqQANYecMzY9HH/G599FIZnaztafjVd4BUFEwZQNyFbxwyO9B0iguDrF3Ecgs9VwUrg/jt64c4eYxPlfCHMHAD0Z04yh2JMtZVMmWZkCKr1k2VXqQPuof82//NExEUSMPqMANvgcaO77EavrO4KhhiUWlrPRkQ3MAcup6SsjAF6uz0WM9Z+Mnuza23kHgQtrwLAlTXqAckXG94j1LQSf6z5n8z/SVAgBY8COJEgaDA8P157v1XDvfKi//NExE8SmU6oAMvGlXWwhqLkCg2TELsoIRRcJ79XGjjQF7LCSqun/ybLBFe5VR0RriPeR5x+//w936B/N5/N0Ds2KZ0hWRoMqmnKuDH4MXs3yFS9rmiRqZmM+2w7pNup//NExFcSeZ6oAM5ElLmiRJgFS/jHBZM5vVCmBY1VmCaNJXuOkGGwy/sGa//lPf0fr6v1blfqCNdBzakJqGNqJEooCEbH6s3Vx/HIcAjTCltS5CcDw73zsrXIB9XUn68G//NExGARybKoAMYKlBEfnzvC89feVQSaaDllmqrYs/zK9//q/+j+T08vlbnbhJm4JnGC+rCuyB87Yr6lnd4U7AB9GceR1SAUxZn9qWEygN2HJJSBTDFIt+mIChcsxUUQ//NExGsRobKkANZKlBBceHZRZJl+dfq+/t7e/lfUK70AhCaiEoYXoYXtBMABC+d////0fZ62JdymaaOVCcQC9R4EgWDwIHjkh3Vpfd81smghYJAeKFUiwDlgKGi+iRpB//NExHcTcaagAM0ElIEXYY0vitgEDwCrgsJusmQbHkLyGH+Uj3Uf6kfN/MfKF9hSNnRx4ITEMhGQMoJJNTnA0sUNOEw3KDpjDRUeWVMeTpoh3/9/R/nHucUT/Stixihu//NExHwgmsKAAOUOuUcZT8Wdgkq3DD6IJDAD4m10AakgURmPRwapF2qF9AYRByGy6H5XVMLAIa7E6giBBoCGPHyJOAaEBUpEDRMXguE8jKBs6kVGe1J9aWt2voP00lWW//NExEwhMsKEAVuYAYrUo1LxeTUmgfWpaqVLOO6zY2N1MZs1ar0lGq+pvbUpetN6/d07IJp9kVLSszb7rnXtdM+Od2MyIpecfTnmki/wOCHLQUEWRa8/sRMchK6Yw5kP//NExBoX8qqEAZloAFKJeO00XWGyE5IKjJauumYqPm70nR+o3RWzav/WjU6vUr/SdaKB1BBP60V/+gykDZkjbPIopMrq//846kU2SpoMia6uSkazQLZzkBZPDMsAwjhC//NExA0VKyq8AYYoAESUJWUXeLmdEpn8eIDHSu75/Qjs1/znxVLUK/u//VHu7XMSxjKX/k6SZBccLuqJYwgSQx2ORv/86jXcWuINoTKSKszvKIIMJZGJfocwSUJHK09U//NExAsQuLq0AcUYADoc892LRThEC9hlEJ9qhxRIRNvoPmQu9TRfYxZKssJCK1dYBigNIEpW54CPPStFnWOPOpuDXadWi2c4+iysnJRayLIQWYT5ZgslkdG9skyMstHJ//NExBsRcSawABGScBHBhaaFSDdqv388iO1CC0HoKp5h5sEEnUXjetJxw0QPNi39eNof6a2066pkMghlzeHUaUnmwgSyKIkKSq/Siw2iEQoguTviV7aMeeIroq23UF0a//NExCgSMUqwABpSlNicZHEsMOTXi5Aq182CbB94vcPQk4VahtpSIaL/72//rmuzAOHp2M/N7lHanVX8IlBQAZRth50GKRROVFUhSQo1owg02jXZVw/OTCk4prrE7bR7//NExDIRQTq0AFmScCOrW8UByQbQbfMPc/o/////u+jsAVheTcqJqWhASZMoCZtrisVtKHBWDawoLiuCVYjlfI1yBDEeSQxZRLatC2WWskrGmpoNVIVU2cWcKJI0U6bt//NExEARmTK0AGpScD///////TW9v9iJdfDN6Eor/NLAWceaWJl/EnyJ/ZTG0bWLaxp2YZfMCLQD+SASzDJCaiSfGmt396U9/nCxrF16JfwIvp2zWv4fieo5ORPXWm0g//NExEwSaUK0AMYecIApNJwSAoeii/uf2niwOHO0RRGUbT+MZQTQT9EhxgqgRNjyg5CWOAkK2US9f7V8vjW3vDFfdWsVuqfWYEA2cY9Xeip4Gt9N8JwFcnnATAHifTLm//NExFUSKSbEAGvYcAg425BvGiheV0XJTwN1Uqpc/QWIyM2VColPoGFwBEJPPFrqMms3Iyn5LPi1CCK1WpMhEKJoilxWxg0w/qW1j3cEB4n23EmEGESG0XZzAsZfWxS2//NExF8SITLEAFPScFpT9ZWvmXJJtylRTnjqGC2lQRFLMSI+hqWxyt9xjn8Y57xbbkqhQs8NWOjK5Fc8WBpy1VYzK7Y+zhnw6MDh0z0LmUsEhT6KmszrYE+HKJymocAE//NExGkSETqoAVhIANAUhkUkkHaAVALwbAAaMSLGJ6g+PEeYK4MULn9L8eoWshhdxM3uvb/CdnDQl1RlrXU//8cA8DITweAK4OUYMkP//X/HqMGMcbx6Hi+fEzMjRX////NExHMhIypwAZloAP//lw8Mgv1mQ8Aqg1jBjLRJdY01WuKGOxp+WCBbQlVPWtxHGzwWK3lwv+Z5n+q9/I/oUvfr/GJ6mpJ1bUpblf/VGqbglnSZq8bexm4lJqG5CTI8//NExEEhEuq0AY9IASSiBJsMB8KFDxkVIklU5KsNCkhehDw5uPcT95LpFgreQyexKCKjmy/hGpRhbBJmde3JH41+hZyNbXtHWMz9LQsEQ3bVwy78pVtMwiGp6r8dBmo2//NExA8SIaKwAdlQAPuNlrdZlln9/yYsWqPRu+h4FQabiqEwGt0QhFxvONQy57Ep/NGQsJVUU9/82z1VlfmyxouIRe52LoXfP+7QGFT5bt3oHFGInCopFXpmfAw/7/nG//NExBkYIYqgANYalAb25XP1H3uy5nhMlu6tXDligKFU2aC0BLlKdBRWOi2Mzg7wslqcxQGGNVG2mYas4zrzhcZVp52Q4VOinfu///W+n0bzLXuYlb/ObqJvmDNOvUrQ//NExAsU8W6gANYUlFouGyjBF6M01mjXwGynv3uOI+4/vkrWDkW6T27gUrSLdLWtyQqBZNj8ZhfiazsK4tAgj2aaaPZuk1vVv/UiNxF/////9Wz7m6WRfW3KmWi7loM9//NExAoVEOaUANbwcGpSXXE4sIBr1NKYYEIwv6l1lREgRMUefLY4AiQtlZjNEFfslcnlnFmagzjf/ugr2ds2cq0Ew6CTWss2/K2//////Gfsua9LCUqJFbG+7oBEUEvO//NExAgScOaYANZwcP9SkxOE82K9vJuadYlDO/XgAuYDgZBrCAwqGZIjTruDA1zj6McpiKW2o91T37Ln3sK9yMSq/0aFn1//////////pcP5p6QcWNE3+1hAEdAsvh2S//NExBESePKoAM4ecT+hUYo6dlDsKYF7H1nMo+sReNBuHIwQQQkAuQkngJgKwKtKOJfzLSJ/J5konFaomNDFBE3FuPALSOd3qqTFna3HjFhUE9yAwKEIa4s84AUIja/N//NExBoRsP64AMYecMjDoMtlVqXytv35gqt+PQY0BuVZmD5Rq5ORGKt7M8eMcWVrfsT297zmpx3+Nt/6UY8cQdCKq9x7WTlgGQ6j6G0Yf6Py4CngWrgvNuTvS6uOc3id//NExCYSSRa4AH4ecCVmNIcJbUJhhqz6aoVVxGx4bd/ZsZYVn13OaHRg7gnU2T6kVedCFOqWXA4ot95pdUe+KzwzLbcAGJQca/g6BQGW43Vg3LNW8FOOGbJuDNfRcMCh//NExC8R4Sa4AIYecIvy/i68N9nNnkNWzwGSNXw55cF0qV+6TrX2y1AHDlrxgiYvuNYb79xCCr/4jhIzTTVws+vXm15vUuakGAKIKaNA3OJMLgRVrla/TO/Kjr1TZK83//NExDoQQRa0AH4WcDAgBV09/+vHu8w78g3qlaDaxai9Rr8jCU98D1xE/R+JlBbHE6YrKryhNKkzEdzPmAwHTT6lrvfzm1861879tNkbMDYuxSrXf//////6v9i1xwqJ//NExEwSISKsAMPecP5NDdnUqpe4Sg3FEAwlo5MPAaCsgdXXJXExMWEhwKSjgVEowckA1FUuGZW6dLGHPUQps0SRKmVBVuJqm74wq7d//////y1aBbIWT4zgXJfmtuW4//NExFYSaRqgAMJQcOwstj5c/EyuOmrsk0VCM+dJzU6e2YJUaCgGNZ5OuK3+vOPMxTtjUl2StDoaS2WCj2gUNW6zvN5XJf////9dHnixDEMGNHLDV16xFYqMDJCZQkwZ//NExF8SaRp0AHsMcJRaME1iRpAKJY6NHGvBdwmosY8qdbkrxYlO2nntLCyHkQCtY20aV1/u5rGkav36EZZXTT1KCyR4pcplbeu9KaS3qp/L+P9ws5d+rjW7u06QEgkY//NExGgSWKZAAMJMTDKkB6uI6hph1qUuNKKn0vcQexjQPbFHVe5tX9nRfTo/UvTVEiiuymQiycxGCnlPZdRxXOWBpL3yhv3UQa4nkkdgeAFFnuJZq4rPLkuwJA3SOKVF//NExHEQCIYkAVgYACTEnks3HwrGyOaZv6Utxexm88+Kvf3b6p6jz5PbSBPvp/N9Vstysm/MtTXfKcdcVsn/91MPXLNrzQsecOJpslnffdR9f3+pFIRMviX1DP2VF3K6//NExIMhWxpAAZpYAa43Sh7qoIAxr62qIyeNN+26wfs6FPT7KIIA4fis3N3n3nEGk8giBHsdxQze94iqIGZwq3GmxlHKygjlp5W3mpw6jB+6hm9cuaowopJVZFZBO/ZV//NExFAhCtqQAY9YAcUwoSSWtyRu2VqQUWf7OpfvuoZazXW5l0zlpgetdqy76ZM1//X//prsmXvbotjvdzeA6CpV1KoeFBHKgGgoI+TO3EdtY8WQcbKkWzeVNfjT8TUT//NExB4ZYZqMAdhYAH7hckfQ4gA4G8yMC1YfzSbShr1d8xVue5/xtb7bzVv3N8OetHt+W/u+Oa3Hna2EhLDTowOIeeATTOCz0CUk9FdbMZ+SpjRetccqq8jvLlNLKDSG//NExAsTwTaYAM5acC4rEYoY1RiBoU0L0Fr5FAzGlpy2tNrqcWejKYbXHGpB2B4MixZMdalu9n7duvrfWhoH6Ci4NLuWfcGZBQDUcST////pwzqDpJuhSOzAQZHO1oJO//NExA8VwaaYAM5ElLFYpF5QCImXXuIyK+7cZ+hbVrSgmhh3GPJ/0X9dOz/1LX/ha/Lyto+c2crWFFLFrYj0I+5eWqinMo90EHim67///uus996Harmc0SIiRkpqLbLh//NExAsTeXaYAM4ElEs5OAex3ZRdOo4EwhpBqcyupvt72sqgVivxm0TC3q7Kt/9//+t/z9fbX24bQIOzh20bVrRMJnkhEyHqOmn///V/09THnUtRtyTWn9IuItEWlHjG//NExBAQwYaUAM4ElOdeiYTS78RRnk2q6HGL4UjIiJmNqlW936r5Y/vD/+r/y/7a9PG56wr4Nteg1FEZ1Zye6ebpxQMHZYclasgXEzOT0mQkNZjhSAbELYXDgXpGGtha//NExCASiZaQANTElEMqXTc6C8D5qdIxeU+d6uj9u3bm5ur5h2qN250quUEpYhT00f///6679dWzKpSQ+Bp4axfc8qjlSqBdLQqR6wQTh/O7ACedjrd0WpbZbgGdl28X//NExCgQyJ6MAMawTNcv+g7TZTX1e6yKsElCBaqn////2/8jQbFVdCqdu2UwgfnV/ONzNgFX3Dq9jRfk1lwvEvAiB0NJARETu5s/AwI7DzShZU5bymqPEBOvv//y2t3C//NExDcR6JKEANawTFyQ93///7ZpdjG09Uw+9CDNlkTaMQLQRkXbVcAz8wmL33ZoZHBFETBs66SP0/lJ2AGs1wSFA6VUXMgJJfqz7tCk1//73BuScpM9apq////+vSit//NExEISIJJ4ANbeTM22l9iCQUV645bRlOKqRYLX+3MwAdH1SKIBEmLGGEOsiht/YS6Ufd5yhDi7qIEYMpGmkcbA/23X97xAdAKxRSf/11pkRUOle77P///+v+yy9Soo//NExEwSiJ5wAN6eTAAFBZVAg4cORwAi7JAJaK6mBAkQQILLGitJgLGAYnLI1Fi7D+fsosoSJCnbjutbVs2wG2LoDPrZ+n+Wqejaqmd////opjUzDFrzVAhakaoqY00F//NExFQRcKpkAN4eTA2MEgaNBoyIiCzxuYwZlLdmxvvCH6mRgciDCTzDyj0FkQYCTRSNYksVDLhjtIuz9Iv9tbOpjlf//q6Kq3MyKEKHEoma2AyyMgoSRxgI1DARyBSE//NExGESIKokANYMTKCrmMBoGioNA0VOlnrBUFXnRKMBkFTqeoGgZ0lfZps6g74lBUNfEoa+WkxBTUUzLjEwMKqqqqqqqqqqqqqqqqqqqqqqqqqqqqqqqqqqTEFNRTMu//NExGsQcHXsAHmGSDEwMKqqqqqqqqqqqqqqqqqqqqqqqqqqqqqqqqqqqqqqqqqqqqqqqqqqqqqqqqqqqqqqqqqqqqqqqqqqqqqqqqqqqqqqqqqqqqqqqqqqTEFNRTMu//NExHwAAANIAAAAADEwMKqqqqqqqqqqqqqqqqqqqqqqqqqqqqqqqqqqqqqqqqqqqqqqqqqqqqqqqqqqqqqqqqqqqqqqqqqqqqqqqqqqqqqqqqqqqqqqqqqqTEFNRTMu//NExKwAAANIAAAAADEwMKqqqqqqqqqqqqqqqqqqqqqqqqqqqqqqqqqqqqqqqqqqqqqqqqqqqqqqqqqqqqqqqqqqqqqqqqqqqqqqqqqqqqqqqqqqqqqqqqqqTEFNRTMu//NExKwAAANIAAAAADEwMKqqqqqqqqqqqqqqqqqqqqqqqqqqqqqqqqqqqqqqqqqqqqqqqqqqqqqqqqqqqqqqqqqqqqqqqqqqqqqqqqqqqqqqqqqqqqqqqqqqTEFNRTMu//NExKwAAANIAAAAADEwMKqqqqqqqqqqqqqqqqqqqqqqqqqqqqqqqqqqqqqqqqqqqqqqqqqqqqqqqqqqqqqqqqqqqqqqqqqqqqqqqqqqqqqqqqqqqqqqqqqqTEFNRTMu//NExKwAAANIAAAAADEwMKqqqqqqqqqqqqqqqqqqqqqqqqqqqqqqqqqqqqqqqqqqqqqqqqqqqqqqqqqqqqqqqqqqqqqqqqqqqqqqqqqqqqqqqqqqqqqqqqqqTEFNRTMu//NExKwAAANIAAAAADEwMKqqqqqqqqqqqqqqqqqqqqqqqqqqqqqqqqqqqqqqqqqqqqqqqqqqqqqqqqqqqqqqqqqqqqqqqqqqqqqqqqqqqqqqqqqqqqqqqqqqTEFNRTMu//NExKwAAANIAAAAADEwMKqqqqqqqqqqqqqqqqqqqqqqqqqqqqqqqqqqqqqqqqqqqqqqqqqqqqqqqqqqqqqqqqqqqqqqqqqqqqqqqqqqqqqqqqqqqqqqqqqqTEFNRTMu//NExKwAAANIAAAAADEwMKqqqqqqqqqqqqqqqqqqqqqqqqqqqqqqqqqqqqqqqqqqqqqqqqqqqqqqqqqqqqqqqqqqqqqqqqqqqqqqqqqqqqqqqqqqqqqqqqqqTEFNRTMu//NExKwAAANIAAAAADEwMKqqqqqqqqqqqqqqqqqqqqqqqqqqqqqqqqqqqqqqqqqqqqqqqqqqqqqqqqqqqqqqqqqqqqqqqqqqqqqqqqqqqqqqqqqqqqqqqqqqTEFNRTMu//NExKwAAANIAAAAADEwMKqqqqqqqqqqqqqqqqqqqqqqqqqqqqqqqqqqqqqqqqqqqqqqqqqqqqqqqqqqqqqqqqqqqqqqqqqqqqqqqqqqqqqqqqqqqqqqqqqqTEFNRTMu//NExKwAAANIAAAAADEwMKqqqqqqqqqqqqqqqqqqqqqqqqqqqqqqqqqqqqqqqqqqqqqqqqqqqqqqqqqqqqqqqqqqqqqqqqqqqqqqqqqqqqqqqqqqqqqqqqqqTEFNRTMu//NExKwAAANIAAAAADEwMKqqqqqqqqqqqqqqqqqqqqqqqqqqqqqqqqqqqqqqqqqqqqqqqqqqqqqqqqqqqqqqqqqqqqqqqqqqqqqqqqqqqqqqqqqqqqqqqqqqqqqqqqqq//NExKwAAANIAAAAAKqqqqqqqqqqqqqqqqqqqqqqqqqqqqqqqqqqqqqqqqqqqqqqqqqqqqqqqqqqqqqqqqqqqqqqqqqqqqqqqqqqqqqqqqqqqqqqqqqqqqqqqqqqqqqq//NExKwAAANIAAAAAKqqqqqqqqqqqqqqqqqqqqqqqqqqqqqqqqqqqqqqqqqqqqqqqqqqqqqqqqqqqqqqqqqqqqqqqqqqqqqqqqqqqqqqqqqqqqqqqqqqqqqqqqqqqqqq//NExAASkDYYAUkQAECBAgYhi4rBAEBQgOYIHMH3/v/BA4XBA4sP4Pg+D4IZcHAQdE4IBjiDu/icEAxEBnLg+CAIAgCHLg+CAIAgCAJg+D4Pg+CAIAgGFfwvF74DLM4W//NExAgTSdaoAZlQABBdeZlhHgVv41LBJJ/eqOaTL7vV0mfSvdTv7lBYAUFDnIIkYhSF/7IYcYYwkAXCOe1v+jLdnyFCMVC72f/2//+jUQfJx6reublIjeas/W0vjBiI//NExA0UqbKsAdlYAJWMZayjVjX/vX//xf/P/P/3/7/9zI6KShZEbRtBQkERzx2kU3eUnThLtJkm7HObJ90NtBZkPYQa7vUNd6////XQJqf/r13D/ylIXthmLY1VtGqK//NExA0UAbKwAMnSlP3z1FIFH6t5zec3NM87/8oZ/2dq4kI2K9SAMA4ADCdKNEhJKQWEZJjKrnwtNEmox1nmUaCLJEdR61IR9///+x1Oz+r//VcLWiWdH9ybLUhkc99g//NExBAVWbKsAMnYlLl/Hfr6mmevnPSZmdr840rOHHZSC4AQmHpyCIiFQwcTPkQS169CP1K+dZPU0blNOUjL6+yGkWn6ejWgNv///Q2ZFn/7/Sr/7jTCJJm4x23XoI6I//NExA0VUaqsAMHYlKzJL2VBcJDc0cb19DzG1NR+Zr8za3xfPYcl99KfLg5HAcx/RWhUmxURHKw9OlDdXYIzzXWXXmUcdlsDaZIxYSHH////JaE/+ir/1us6IhguP96///NExAoSybKsANCYlJoclFZ5noOI9AbeqfVvVGmZmvzM408snYSqDUVDpVoyXCC1FVt0qlg7rlly5lX+VWuL/+rrq1/dzVtnH////S2L1cd8zsRsFGi58sqQXMvEBVGg//NExBER0aaoAMlWlC8oCv9fqKfL/r/l1ftaST80qTQSQGDxy5WHaNhQynDuHaktxGlLP5Ul/mpqPRYsfCQE///+uhXeGOe4KJFB9qV+8Np8WVlCAv8QI3lEbz1M839f//NExBwSeaaoAMnQlP4lElyBpwCgCAQQwCQJBRHHCWA7Yg3FVNH3FWxsv8w25fLFgECDXf///G+//9Kj/f51FjAu3a8frMzW2Ygh08ypxO1qOe1NmLeYj/D7/m1pqJxA//NExCURiZasAMKSlM3EKsWw+eliz0XxGhHGp1dxyH/+Z/t3BQKhIaS57///9FW3trnwC0d5tBiL6NlBL0qjfX/Tnb7D/rw3R3+8+pe3+lFGN/pATwqdiMDZyKW0ohXQ//NExDESaUa0AH4SceeUzCcc8CBEQsqwI02OQM5b6cuSOevC/9p20TIBHmVbD+FzrhtfjSJHloss8a0sXZV5Y5Ueid+fOEgxfyYXxHX5zDBFR9eaMP5e23Oe36r1aK3U//NExDoR0Tq8AG4YcLwnX2GqCKFFZRg5Nvqq+EzBVJ6Am4oM4xDiDMg0xBO8ATjFmiQ28uaExbtxfB1k5i3ajcKQuTNPvDyNj1h1hW9b4gxd11AlicOAiRixNeq9RYqA//NExEUSORrAAGvecCAkp9NumHsiBzzzcE+/PN6nREqDs/qMZHGJ9fnMploVWrfWQB4Hpd2wkRaiSxN6jqNl19Yr8fEla1+5JYsXPgxn0U4CwGaMr5uWIpTT1ussAQg0//NExE8SeSa4AI4ecJsfYdyX8+szASLUwyaWDYkRcbOD+FvHns3HgBYCSrh47L+BNkNZc3jrDuuKUv/m9q///WM5vCt8QPPg8inaLThpYEOj6kdjoWLmjVihwWcvwoUB//NExFgSUTK4AI4ecG9li1NiMa7qHO0+AVOuHLOOI2Bq0oJHA9ABAIcVTQ+Rcg11mZue1Jt2W2tNTrUgzPQPElhilFpHOqWcR01XOgBwKCOBpAxOfrFDs3lyzXUpCDyK//NExGESqTa4AIYgcKabuDRKQs5zEXAwKh/VDwLoStnic/k+6r6WiSB+FVQqHxcEASEoMDGifNOueE0li/+lvd/t4FJvLbw3JiciKd/FE8mQfSp71mw40CrJKaHicykt//NExGkR8M64AG4ecG7yOajFeM0rPxCdIK9BTOwHCTmdUCt27EoNKnxK9Xlg2riHAgjtAOu88j+Z1MraD74UaQNDQLnL66Ef///Z/uQqvfvU2Fksf1+5IZTyPmF1gIbS//NExHQYSZqoAM5QlCWOVlAGNUn5imspHzueF1wUYNf8MsBGiWPrRJspei9MKEDUk0Go7kQRNXIqA0I2FFMCEe20j+NVbiMu76UjvUaM1Cr6sJf///s/311ukFABzapM//NExGUXaaawAMYQlCqJx4fuUEsU1LOEyqqHRc/mtR1xLn/hFFvVGLxeoX8+E6X0pI2KSJ5hUGsQozrePCjvImN0YosTcZ8/iREJXWiX1qqOp0yi3++fatVugOoFWfsg//NExFoUkT64AG4ecVsTPA+X2m6qGyPm+Psrqc/+TUinP9W2JM/oiJ9zEgSEbfppMdJ/lIkcKzrHZXqyrJPMksM1siUQGGABxUg31SRdTKMQSxVrMhKwEkTHSZciMSVd//NExFoRuTK8AI4ScEXf+Uvr39fVpbHHSJJX/1DT44Nlrg2HcMjr7kpNim6NykmutZzTqT3kiNQulRWwPHJG7/////0V/X/uDAsJos8qFsRlJgYSpzDWEcEiXxZf0/Fh//NExGYSmTq0AI4WcPyEl/UP1zyGgJyh5SCWOOjGUBAEpGUWk9aa6Tv/0P/fXzUn6S8M//////t6Fef/cGlhzqD7GtJ/gte8nTDorDLdBc/v84j6jZusyS6xiF51qjWC//NExG4R0aKwANKWlJJRrMToy1nnc2Dll01dGZvbUtHudR0XMzI/QSSPaNH/////6VLe/zqEKJcSnwmZISKnwJAOlSDE+U3r8gC3t8Da/kpeZEoKwFBM1g+AHAYEWsoD//NExHkSqbKsANHalAC61LFymviKOviJZvREO4iRc0yPX//////9NcNY3+DLJFbbpKzoJigt2a3PcMe5L1+q/N+7/21/rPpAdhQAqIAkvPHxtH1JlIHVHz0866oYpcvp//NExIESGa6oAMiQlO6XVvNFz9nTOlXH+3HjFY7PaS/StyFXK1e8QLguLNqX8/0Vei+rv/WS//XjH84DT5JCMJAZMIVBWNRMqyIFUW+WPn90j8r8CRbL5AZWeKHaf/////NExIsQUaqoAMnWlGMs/62xZyxho4jiIKEU+BKCerzf4ZqD+RlNkx/V6j/nPUl/yf/9cW+/CP22JW4v4TqhewdkDg5rK1k2jRPFiNO84nVkbGqSLvNIMBcI2b30wLq///NExJwTMaakANHSlP/+1l4er/XxxOiz3Cu0g0LpJiX9lSlIe4Zrf44RJRtn28184f8z9RZ/yf/9//mtyurWZ8FKKlxi7sSit7Rm0yJvNpdO/b9bxjWdoK0LNHyazFz2//NExKIWQbKgAMtelD6bv//+XYYa0+3+/OoVs6uzTGRnq4b9Us2QhgCpYldyRA+so9k1/N/OH/Z+tP/k1/+9n/8pfN3roJaERCeXkQ5UYzmON1m1P1Mj768A/XPerPU5//NExJwVkbacANNelKrnDCTSTeMzTbf//1Mcp6yX/dfcpar+dvSc2Bh6aQy+pSG/g4MuvODoKHbIH8efHfKfIPm/qLeVhU2WYIj0AZKnQNSsOAnutQhnRUk49l7HTZtj//NExJgWibaYANNelCPLWphhzStTmuT///oa5gHae3+n6Nfq68AVPIlV1NKLiOPFkOYsGmgVPPoFG6jfx8l0FDdBLb9Q4179sORziU9xSGikX5MeaFVtYy0jS7h71/9Q//NExJAUgbacAMqalHX/zNvNs9x+K0cZ8/Oo2r///hKhn/ftqsv/UdMdFzZzVQQilTQIigOIcBhmKSuL7oIjLP3lE5F++yiBO4fUaxO/+pueuXtIYVxQ5xTEbPvVxO5O//NExJEVcbagANnelPtmVobNlMfXb/HWcmaWzb3t3ff67mL8vaiyKygQ07///75xX3f0VfYAJDmk6BWYDHTROz80ykdy5MAwy/+c00hWKe32PtvS0/dMAjd7nvAwG9nd//NExI4YSa6oAM4YlJWJ+fWveGoa69GRVW+W9MOW9P1GhL7cjxW1+KXr9e9N/4rj4pqdQPhUqJPFw8rX63BiM+rvK4ifK8O6QLHq3vuPicwS7uNRYJoXMvZ+2n1sG5jy//NExH8WWY6wAJ4elLLPCyhywz782yxoIsXwEg+PgIVixgMPM0Qv8X/rP2jX+dbBCu3ytb3/hAYY6ns5TQWZFuaukJyYvcZUvEbpFa16NktZNhyhHU0vLEgKh30pbm7h//NExHgS2Yq0AMYQlG9pM9/HS/E3oVTQLlnnApOoOC3zvT1X0dqFHyfr0sP+u8YsSKZX8lY1qWMIDHVwdYyrtkEm6zusDHYMvv1JQmC+Z0yIgEFC5BFCpH4PGkgmslDf//NExH8SeZawAMYOlJYWzZtQ2damKTJuicPvK5StfYaSarfwYoNN9qtw3zJs6tLUe/VaSpGMeo6SPl9RZdepWrF+4yWisYgnZmYGJQIkH0NVKOkwklmaXM3upRslqKiS//NExIgScTK0AMYicKicrDj/cpWaaDi65/6Y2mNXod1xqPeboBmTJM/wJYK149skAVKJ6cyjqDlnCblC9Uu7Na1bKzfV/beEFaIC1o4T6BPsgMq6g9P481qH028ddsdf//NExJESIS64AH4kcDz+im3NQXBUOOcCwoeO/7hERLecwk8JLv87EUJNFz/f6EY1lTCizbyIKJfeDCVtv8ON9+zNr/FGe36mY96+3J01viBFlb4Vw//miycupMZSM1h0//NExJsSoZKwAMYOlNmM2BXBoooDLAPAzVEcMDWxT+c5P1zvrsKBxbwhhO9T4UxoRM+qdc/8NzPP8PlrH+WHbVvqyEsfiV8Xvd/9gxK9JuVSC8iHrclZDABLLaJEkzUT//NExKMRAS64AI4ecA5kP79Z/nSANqIce6Q1/a4fgsy1KCofG7ioE8/UkCHOnvNV/21/Dp/df8tW/1DOU0H1gJGokhgmrDNHzVR8BIW1mkoDZ7Ew/M36yfblB/BN4dI8//NExLIRwTa0AMTecA5umGIEZbUWSxM9iTxSiql60/x/57/mv9dizUue30f///u/of1vUyKCSuzyVkkJMHRd6MYCqeUo6QctczNeo91k2rplboCh3kCgAY55GA6d2NB8//NExL4R+aasAMyWlUJqkXB8PYp7N/5r/b+4v5tetDar//6zAMTO2cYYMzlxGJwggQYQ10TcWeVW0yoqszP/5lflzXz2ow/NqxU6ldDAFCqoEh5VddGSNG5qLxccRvta//NExMkRsZKwAKQWlNbACy4qvekxBgI7VCQ8APh/tlRpJQcDxahylXnJ/+aikVx/Usub1c7ObWrdVefdjyzK46lCPAPkk5ZSWPUVH2Vi84JCAeLj+sGgBzBlbbQuLuAw//NExNUQwaa0AMwQlHVBT////9e/zc0FlLWu8gEBMZtS1meGBKHGzti4ixIvmGAVcPm5dS81MKGtZM0h97BISmMksoiSWSmCY9F8yXQoz0xSmaQxUkw5K2LDQvoZit52//NExOUQ+TK0AMRScMIiFWeSaWC4qLh5bOz///Uq17QQKTRugu5b5LzAiYX6t1HTL6wm/UWAX7/KF0bOOT6Snp4O1NcOE62VgC1GwDgFO1pCZPWYdt9IT6y5g0LUEaxs//NExPQVOTKwAH4YcDQIErdovQDrQsOFUu/////1/6bHm6AIzz9kJ2Td3mNLpsboja16/XbIn/JvurBy7LcxA+vDOtaxmh5WlU4ma1aKditxvC7jbwwT23ZjnxETkeF2//NExPIXCTqsAMZYcMVo0GN4b9qCPxPgT9ksMu95Tk6qPlccLAn6UXV9nVgoOjVr0wgMl1nhBb+cw9nlN/G72e4R9yrVWac2RbzgAVi5EJuhA/LD67GhukYBk1AwVXlv//NExOgVMSqwAH4YcOFrlvp1rS+EGhoFg1dRb////6L8cm6gbEt+4W4jOWJVK5+GL7C5521OgoVJlxo7m5fJHdwz09t3LbVc8aWgVfR3twOYkVmo5QSbxImwNG5U8TGu//NExOYTsSKsAMYecfJplejczq60Lu6EkdR8A3dN5zbCCytJngllLsdkA088bCH4daiseBi48xVlr91BkLy/r3Zc5FZ+zjMqv5jVdRlNIviotiofR1BYrQUMOQr1M7to//NExOoVsZasAMYQlNzuU5Ro0GZ62hXDXJEVzwuxKwYWp7maTo9P9YcGAyS6KyQCkpMetxaHVxrLe7q6/M/+m7PfnWoV5Sy3g8b4yUffKRXdQH406Ng0Ydgk3Emt/181//NExOYUKaKoAMYOlP3XtZ+2+Dt8o76Yn///r9qqrtTV0OY6aKCgb+4MGjPazIRZWNOqoDuxbmKnch7cpZdjuVyH/uVlUwEgy+6wDqBw4B659jhdekK62OfXTtGzRijX//NExOgS0Y6oAMYOlIjLL9bp0gRKERAVVbGUrQYNsFeTVKYs26HICMJMLpTctR2Jux6FV1VvzwWVlzrPZD/ar2cs6cveO4bkMth1PyimmDbscKUWwXRQ+iGTi43Khzc0//NExO8XeaKgAM4WlLXHr/t/b9o106unk3bB9w9199n//167ev0KluUpRmNyHdazNGWGOzKWUBfQJQIJRpgC0yO9C21zVnaMWTLR/htridY3vlXFYHpQGuXWDaOSx1KJ//NExOQSaR6oAMYYcB3kaCOPc3+L+f9v+/l/2ikKUt13b///oec/6qa5XoCUc1XonhMDYTBspMaMqJlHP5DVHrLJd2P4vDzXzMg/WHXe0SoubDkzdw6H6eutnJZp+tP7//NExO0YGZ6UANYWlDi9hr4H33etLire7////6dvtU+7VYYtS5XAP0tRlbYzJSSIBT8SXAkSHUOM5WrcpqrccngfzzslhNNDBSxGe7uaiSO/I4aCv/8okJ////9qpX9N//NExN8VMY6UANPQlItN6kjFYLEIBHXB7a4cGvQeS9izafSE8ySbCwy/O5zKvS0sNUeHbs79SmwprBgVLiULBkLjr3pRu456++v73w32mzIHTSX/6gqVGKaLO////IOP//NExN0S6RaQAM6YcBJ1NwvJvPNSJVoSAHARQAIqcPPJFK1uiYmAgJGXcIQIu6AxMij1BK7cYxp5jsBxit9TKatWyALpTCph4L4co+kkktV/2Wplq2QNklqPAYY3+tYT//NExOQQoLaIANbSTACgad////+e2MIihqMLWEBVbEk6EIABCNeQ0ST4xAhhqkIjAQ0NWAil0AhDZDRbk8zMMBXT8uSnsDta59S8bAJL5FeW49RbRQyWIioSArH//V////NExPQV6Q54ANbScP///+zqAk6r5SBIqlUSApCUfQrRlsynOJKiOilTaQwlqH0JIZmxpy8yannVVVLf0/mvVsloCFhKRCQM2PeLuPEhKPlSp0iNcg6sVdqet87VOlSJ//NExO8XIRZwAN4acFqCg9BJ++3/ClUR0uhloA8jpOYvpRGYdaABoUkR0oXLsNK1PNjeSjK0NSZQToKAQwJ0Mj/llI1DBQYJmQWFhGZoFEAUVWSHipn8WQBQoJDQFFW8//NExOURAKZUAMvYTF2GVCxEy3/mRf/FKAKKqkxBTUUzLjEwMKqqqqqqqqqqqqqqqqqqqqqqqqqqqqqqqqqqqqqqqqqqqqqqqqqqqqqqqqqqqqqqqqqqqqqqTEFNRTMu//NExPQVyRX0AGJMcDEwMKqqqqqqqqqqqqqqqqqqqqqqqqqqqqqqqqqqqqqqqqqqqqqqqqqqqqqqqqqqqqqqqqqqqqqqqqqqqqqqqqqqqqqqqqqqqqqqqqqqTEFNRTMu//NExO8VyQGwAHpGcDEwMKqqqqqqqqqqqqqqqqqqqqqqqqqqqqqqqqqqqqqqqqqqqqqqqqqqqqqqqqqqqqqqqqqqqqqqqqqqqqqqqqqqqqqqqqqqqqqqqqqqTEFNRTMu//NExKwAAANIAAAAADEwMKqqqqqqqqqqqqqqqqqqqqqqqqqqqqqqqqqqqqqqqqqqqqqqqqqqqqqqqqqqqqqqqqqqqqqqqqqqqqqqqqqqqqqqqqqqqqqqqqqqTEFNRTMu//NExKwAAANIAAAAADEwMKqqqqqqqqqqqqqqqqqqqqqqqqqqqqqqqqqqqqqqqqqqqqqqqqqqqqqqqqqqqqqqqqqqqqqqqqqqqqqqqqqqqqqqqqqqqqqqqqqqTEFNRTMu//NExKwAAANIAAAAADEwMKqqqqqqqqqqqqqqqqqqqqqqqqqqqqqqqqqqqqqqqqqqqqqqqqqqqqqqqqqqqqqqqqqqqqqqqqqqqqqqqqqqqqqqqqqqqqqqqqqqTEFNRTMu//NExKwAAANIAAAAADEwMKqqqqqqqqqqqqqqqqqqqqqqqqqqqqqqqqqqqqqqqqqqqqqqqqqqqqqqqqqqqqqqqqqqqqqqqqqqqqqqqqqqqqqqqqqqqqqqqqqqTEFNRTMu//NExKwAAANIAAAAADEwMKqqqqqqqqqqqqqqqqqqqqqqqqqqqqqqqqqqqqqqqqqqqqqqqqqqqqqqqqqqqqqqqqqqqqqqqqqqqqqqqqqqqqqqqqqqqqqqqqqqTEFNRTMu//NExKwAAANIAAAAADEwMKqqqqqqqqqqqqqqqqqqqqqqqqqqqqqqqqqqqqqqqqqqqqqqqqqqqqqqqqqqqqqqqqqqqqqqqqqqqqqqqqqqqqqqqqqqqqqqqqqqTEFNRTMu//NExKwAAANIAAAAADEwMKqqqqqqqqqqqqqqqqqqqqqqqqqqqqqqqqqqqqqqqqqqqqqqqqqqqqqqqqqqqqqqqqqqqqqqqqqqqqqqqqqqqqqqqqqqqqqqqqqqWBNbxJaA//NExKwAAANIAAAAAIQ0liaBaRAAXLLZgEICGmu3B1HTcdtUdqJx0h7EaBczrQ92citNN8cg9YX4SMvbBFV7coI7Gzv90gRK0/yxq9+/sz77eh4jogoAuH4wGhjwKCgN//NExKwAAANIAAAAAMXPIMQykFw7BuDcPz3gUD9lBWC+0pyDCxd3e9KLFw/Pe5FEQs+BQyURO0p3qEMSpd0REp9Ee0FFPYit3tBQUHPLu7vzcEGVHLMVCg0xDGIulG2w//NExKwAAANIAAAAACKULkktq2X2UCWtAMhgIGp4jiPg5MB22hl4dFESS8IwlLTEuASNmYBKXxu5LX2vFXNqzT8Ms+q1wBLaucFabBLWZI4Kcq4S8tpyTEtahI0lVPjO//NExP8omwXYAMPQuUW3+r02ZbYqXx0arZn68ts5/9fJn5//OV/2q0WrZ/qqrTQG3ysSgorYtQhw0SUGWjHN43tTcuW5vgP3juLWBe4qLIhBKDwXDmTDdSuZz/rBekbq//NExK8hYs3wAMMMueSpWF7kbq45TIR2sjieWtQw0/rf7Ms8XmzTXFqSIgwkDBE1LmnZtlnypOKPi1JEQYSBmJq2admvP8qaZ43NyndrzcqWa83O7P///////lGlFWJV//NExHwfitl0AHsMuWK9qkxBTUUzLjEwMKqqqqqqqqqqqqqqqqqqqqqqqqqqqqqqqqqqqqqqqqqqqqqqqqqqqqqqqqqqqqqqqqqqqqqqqqqqqqqqqqqqqqqqqqqqqqqq//NExAARUAX0AUEYAAAgCAY/UCAIVg+H/3f/lz+D4If/KAmD4Pg+D4IfwfBAEAQBAEwfB8HwfBAEAQBAEwfB8HwfBAEAQBAEwfB8HwfBAEAQBBXwbDhZX6QYr8WNP8He//NExA0VoypwAZBoABNBOP8LkA6C6Ep/bALMAGZoShv/+Xz5KAqwqAlH/+AawkYy1puMJ//+ShoOdIuJl83S////LhoyfrTdD/////WmabJumcNCTJd1lJUR6gVUH5qG//NExAkUIWLIAYx4AASwPv3RiIyEDBWOXA34jkhIzI1dOBzKlHvkSaj1U1xJAeKhD1k44iE0KWK+h++N0w/gSN76Dm0tre+/v9piXv9fxjZ745hupdf5JQJa0Oxoi1Pr//NExAsVQUK4Ac94AFxNzJe1fgL6Esuz3AzUlsrwg5wsuqkIMpWvTDLcqp2o2Be1ewyfqZ9Go2PrT+M9rSjPNWTTBBzEfu3WcVgXSD0EAk1CihtAqpHq1nAaQTS0DEED//NExAkTaU64AJPelBtlAKBXUxRk+n+RIwXsXOTNL1rUpP0bijcPTqmaE/cJI0pNL67Yoc6yp3H4yxWz6otx3i6a+rPFTr4h6zqyUtUShndZWs/7SFtkoLeqMz17hTih//NExA4V0aqsAMYWlJAf+rJIVZuHa4wVkuGd1Rqex1NvlzvvgqK1zJpC/rduIIvgZhqhAnezFavKyauzNCdbMdi0SUD22GqO/Vr2Muea52L/oPevakWqpsaz4heO0t3I//NExAkTkTagANZacAxAOMWSblK10GjQEPS/GlWS0Hvd2Z7W67dd4fVJVDHcHpUdgEGHxahjBdjNpkPJsxRasxXqNn0kmsSRLA6r/g0SET1HpGpvJfBzbmrG5RNrMgIS//NExA0SKSaEAN5ecB4/Z9JgGOSJZQ2XLrFKout3vbinWWO6hfyR44RBG6+G2tYT8mwXO788rZq2DFe3yn2XXoyb/w6/+Y3glXyhh4R0DCKCAINLRpjAQpOIloiCEduL//NExBcRuP6AAOYecez2CU1MU3V6d/kTkGsrhCOj1qJKO/3nH6lAkUIxaE1R9+KX1pzdOsFPi039EcG8KlfO7D5CDm/oxjwWnygiKhkd9djyopcxQlCTGAGLV5Y0VCma//NExCMRqN54AVtgAbdFHYdlkuswHzJ61S0zV2k4XQCrKXge2tjo+qCgquW+iui/5cFr0K0sX9cuqXultZCY31uVpra/Jpstw+P/2W5Z7oc2//44YnfDmJlH//DKaf2T//NExC8dGyqwAYxYAC+2pN///TPj4mfemfNyhMqDMflWB+Hf////bzddg7zc+m83LBsD4Po3FpOLTEzOLJf/////vUOH9kVwyvTZEy85lNnXwurOsZiiBqF5gvoDWMwc//NExA0QgSK0Ac8oAEeJ/h3C0f9gg7/h2qwmPbIYplcUcVD4Dj2Sl1pr2WskqCAgOfTZQAjRlAjodPf/yX7q///rcr3gIsGllhgtoAw2zNaIljYsWahbsIuxaVTnaZp+//NExB4SSSqoAH4ecHjU9g++r7hpvXJhL6hkmIcf51n41/i2f85xv1zAk8bFYphzKGMe6ZkKDcjVjfGYIMRGW23GmcEOzeAekCMRIPBZQTjHSIyF2RRkN6+shhiGPBsI//NExCcRITK0AHvQcYBIFlVDmdbTp/v9zxxcK7VoQQX5gLVJ+mXN4dWvxfOCFg2BGmTIDqhXF7krXKLNR8vVY8lUgPpKfsRUpSoToch4QBRiDZLegbPOTubT/+v//mer//NExDUSCUK8AI4WcYhz2W2WqPilmRg8uEKGAc3EVv2qr/8tQData1Y7wAAPNWXaRcy0QUhkl6mgFHlSx38aGUJzJTswcTkzGnaobeesss88/UrP//2Vn3cxZENdj2R4//NExD8RwXq4AH4Elcqg0TNUyT77v/jlVbsKNrcb5Q0pa464REikl2odSOCh4th3FuRbpGijxuU65VAVYN48vymdn+fv8dL9G+3y+pb1mhleUBEghxVEkDQqKWed//yL//NExEsSgWaoANYElUu+pG0GDE4QBhi44muRsSDYLpAxMQt2ZTHCqM98Vy+5GkwpVfr0uBRANSDFwmjZSJ51o6ytpUUC0/nG192WEt47vsBWfShxpWtAwBN7tTuAVf9K//NExFQRMP6QAN5gcCoIvhgp+3M0o9bxrlk5zXOe2BgtF2lz0FrCQPnr1uayDpS18boqN/VsaV8XEoJM/Yrt0O/57AXR//6UVa73SmRxRGs0pNSqB1qUy52pAASOCCVc//NExGISiOaEAN5ecNa7nackWAs9awiKS05Z5lbzDhLzSIxp8JOTV7SlOrsbv4jYrY2jg4O7ums7//2f//6VTiljksnZwKk5894PGzkrnbdB0/xw01qWFLWhkOCfaWV8//NExGoSIOKEAObecKDE5XVr44diE91WgmKpCD9KrUW322mbWQ63dsyDazmtbj+q7S8kjNzA0QpXq17TjpzgPsScf6qZRvg3GjW0WXNnjRZVfPDvxgNEsuwUByAOH4/D//NExHQQ2OKEAN5YcbBe1en/FTH9Pe9wgoeBAXPl/+cOFyiSFdc1uUBTCa3e+wkUwCjKXQ9ATRA3ioccHTCsyiWHMXYSsebLcwpQ+sZy7Ba12a0tLLWqo8sSjWqAEZy6//NExIMR2SaoAMPQcOcZv0gJHR64Dk33igEEbOUwY33c6/r3v97uXcIK/tUgIr0DZD///+7W1iq0oT3WF70F5oCMzXo1g2ylxG0LuC4IdE2iAg5iyZ3UX8TXggz2X75I//NExI4Z8bKwAMYSlAGKtb9j8n/8Bri/9se6+2xZxvENPxs28OMSlXLAsuMqNFhM1p+UbR/////9Kj3OgTAwesawPhnQri0Kn0PSokrdXv08uPQ5Fh9yMEU7U5yAwsqH//NExHkUmTq8AIvecC3lsdEnhf7yF2x88ZBbdkhXPdUDwUECuoFhG6Rel8hfqX9n5Qk7kTMtC68uyId/////1dG9/M5QLKbNP8qsYDE3P+4F5DwKbKVuyfButW98QbQM//NExHkWedKwAJYUlFyvuUWA7IXSEkTYBmknn0pBSga6rt21oj79oS3/i8Bn1rCeV+r4blliialguMe6RE4XMQoaFBo0TlWPVEoFaKN////dovWqs/nnAY5Xu1jddoIi//NExHIZSUasAMYecNWMpSm8GBlFHStiAOkz6mMqgJDJb1mn9TBDjrjtrE5EGd3ywmeoIb+9oV8X1qDvFIF661h7Be7xAYdRcHRIPTzZJBEeBAO0NC3R///9O78rYupe//NExF8XUTaoAM4ecHsbJUJxXRfVkdT3mSSPodLHvOVglR2srCmNSBARfS+gIMYCN2JYSERIsHRKIZVqw6CqlG9ag0kNMMAUJP38YFXfpJQZ//0/ogkSU7IEAgVCVSE2//NExFQSMMakAUwYAKRjQo6XQb6Kx6in1MFLC8ZLPpRzEETNNkEVKwMwWYlYn6jZJa+qJmkMOPN6lKrX8p0y4PQ9U+l/zM3GEGEKAwnRqXf/cgF8sTQKxzuy2rRrX/9f//NExF4g8ypoAZhoAJugOce58TMjjkE/CfjLPuvUl+/6//y4yRqS5dHOoihaxlieBeDSU1XOCTmFBGxWx3/V3P//P9f/s2f3/3933fL+c/H/fExvfsnY1Ourvl2cPwaP//NExC0doyq4AYNYADNdRNY0fEWSoJY9MZtXo0295ufKWSgfIV6IIhQZNYUCsBYTplBeXm8HHm8H2P2WvL/dCJLP0uSDY0x3NQ+mGpgSR2WSjU1krQLqx/hJgXwY6rxP//NExAkRKSK0Ac8YAJP863+dwFYo38fcBOOo9M46fuhfXPKnWUzmWVzIm/lIsHBk/v/FbUxjU9R5hgrWsN4iBpxYGqw1/7f83bP/qnQ1HnX8auy+rUvzmILDBsutX512//NExBcUqS6wAMYYcM1pl/fn2AY2+6OQA1de07AWjefgIQ+ro0b6VfM/GzHPdVx600ZEulq4hAsHVuf/LCofF0/X////+vprUkNZwGmINyyGAr+v08aBKtj+0nRo1bWM//NExBcQYTK8AI4acEUxr1rejoJgxTVE9CmpyYEmOFKoxJj6zpSfjvU+och+udP1F9G3NZ2pnopt2DnjBTZSIFzY3+dKUUpt86hMJh7jdnpsTA/fzHQDIVC4lDWBz0lM//NExCgSQS60AI4icFILAkTtWSNesidnWXDRS6h8lerLeXqP1hiVIREciDQ6HG1FkJWRNLOBgqc/m4MVV5a3pDkLP3nlHhC5oePeJINImmrYN4Gk61BlUxXf/wr//0j///NExDIRqR64AJYecB4TDfGsYfRBEVYwto9bdH//////Rdf5bggoPObeKgQYr3vJoONRX8/aUHSlcoiPU9l7Y4bijdF6zxHBtLaqXdI8Omv/i3/1iFTP9YX+PDe2iUWp//NExD4SYSqwAH4ecB+S2Ivf///////ctaeXX5Sk8aXBjqfeVZ3o5tNiqhuWYAkVx1szZlatiuCkBU1ehaaDoGw+Ta//1WGuVFbJpmFjmu4KO8sR14dCb+WHedK///////NExEcSYTacAMMQcA7iJRbYKS4q8S8oNwozV7KpdLRxNCjxCKSGDYhHUx2TP+NS1XRg4WFLVJqoZjsskqiGmNLLIpxLBZG9vTe5qLjzf1qVN7IFL4tUTmR5pGUsRh93//NExFAQENZYAMJGcGlmotlTWs+7w1jhj+UBGAQSGg8KBZt4wg54HZcVTQWQ5xClsnbZcu1/0bG9unc5murvcz9tKgYEMzNIEGPHKB6B0H23ClokIAoss0dNOMjfRV7C//NExGIRGHpEAVgYAOc5clD6u5azsr6BuXgNtPvctD7bI7EaNSfTPq1VIeqwvO2iSh8i4pz2y2Hpaw7GrkfVq6+6b6ff9tvN7d2e4ZFXHVU+djHsp1SzhtUw/Z5jDj5u//NExHAgiypEAZtYADvt327q//ZPHt/n/mrrrmaYrdUFOTwDClUXGEnCtc1PFdB12Q5bOlnLwwEASaLSQa0bmAJh4vPwX0UFg8tfsODqNh3FSkFjrLHVa5pL5oqasu96//NExEAiIxaUAY9YAJSR03Y6bzAzlikSyVU0mzW4kHLQrRVdK1tZVlGYuXOrpvuoYxr6/qGmirnw1Xax9pnDjO2XD7ff/L99/udu7bT9va/tvqHRopXdacboBCAojeRC//NExAoRkJ6cAdhIAFsRVPA8gwduBoc3ypOfVysUlpIhbEDEdqTSKRERAUcHLQZqozoxDWBNBm+LPx55/1zs8BgZ+kO/F/T/+lWWX6alCPjYDWrJkOYpWXWTWXcYBAcg//NExBYU+TaYAM6OcPIRWpuQqcs5irGC7DZ3ZuMJLPvg5d5hgIDYmXFZc2i8/36N7fuzH1PJmnwzL0NWFoPy/////l6XTXQpZu7QsX6kBmQetflENskBbpi1K/hkyge1//NExBUVgZqYANTKlC2xwMBKYzDPA2srGpkBgwFixmkMcIzaouD0+Ze3V+f24zxd8o9WYPEsIj+II+Kcoa9xE2VfbKUu///6K8366kPrpezLYhRSj16nFCYwgiWFdpmJ//NExBIWya6UANzOlIrKg55GSNSLBb67IB7QPObDoJsDLINoIOaqC043uPw3+WfPdH6e3XzvL8IT8qJDUHjEoN71GVVhAzOaQct99FX//q/2bpyfeTXVs7tRkx5tZs/D//NExAkReaKcANRElAtYHpW8twWBPIkDLy0REkEUiHhacZkYWAnwdD9YuE/nCF9+/v/+rdfTx1ardX1flPVA7oR7v//9FW/9G5L/qPuZUo0nGLZUBOqfc6BX+AkklEPz//NExBYQ8J6YAM6wTE2UqY5+o6grF5+otEXTFq+Uegf/zxty1buv0V7VgosFXSCw1U6ljH///+n//6qK3LL/ADYimoompgbYcq+jmRAbA61zJPuo8tjua8oVa1MBUTV4//NExCUSCJ6UAM6wTJwZpsFDG6TCmKE1Nq/+5DBklVs5RCv///XLNGmEaUxu2nVKVccflgBiX9dljKwISOc2Muhmq6FqR881OgzO9Etmjk0oJlkAOHYmENBw4ZEA0Lb///NExC8P4LqcAMvMTGmXv/94uzd+Q9//V/b3Nr6ltjcET1u3M9b74C5eUTNRnKwtF9X/9cmbyXDBjY6qnRYcQRkhAxZPKccBHJgi8AJVeca6ntclaOQ/R/U0W/qV3Pyc//NExEIPkSqkAHoGcBpidIyQWPE6Qw2hCJl+QcC0Llus9VOe1HURAkF2ESaJWnkCuCZfZyvDd9ubhwbsctwCS9SuR7X3J3/xuxJjWpXy05MQVxSR10wHYLYlUfh2ylAv//NExFYQkVagAEhSlD87////3afukTtHaB3ocouUU4w4LZ5UTeszfVvn/+92PT4NLFGuf+xf/rrbFE0VfVoU5rnZSQbqcUdbUFBeGQUfFhQP5ienqMP7H9f//cP/T4R9//NExGYROZ6gAHhMlJCIgACVVyyYoYvwI156jvUDvVLsQ998If2oQIFiMEP///o26v8qysVqbpAg6AxhdE+BQIB4Cq7RgU3ifzfZ/T9f//bX/zBVFN5q+JqzUphuXbPe//NExHQSUaKoAMlSlNK2oyPfetMMfe82jMlPWrbCxr7lVkRSXf///VXn52IuBAUJCFWU9vB9DHC9+sazIJib+iW/Peoj+o2brMX6iaR3k0Q09KpcDkgVZUYyNimJ4NJ1//NExH0RWaqsAJlelIhwZeG2paCyAk8gt0XIKX1WHJHESDpHmGNMEbKLyOLZb//vlj8ce1O/amnHVegZmKPgJXfCXwTUixvdEHV+43QmgvtqJApdRg3oEZ/Kz3QZLoEw//NExIoYgcaYANtilJagmdJcFqKJDJcYgRQGyRok+RUwGYDXDaNjqRODKDIEyZLTL4zJjnTMgRWoJyHlVAtIpEPIKhSak6uv9v////stV1MfYdtrv/9mDBkQfH6xOrXP//NExHseKo6MANNgufgAwPD1IannL5SXfPxUrAphp1Aw9VkA7naiEyMyE71VP3ffzEhahq+XcXukMcEcUC6XMeyjU6hRDaqIS7evYsKaLNaXxaa3Tev84zjy94D4sfCB//NExFUa4a6YAMlelAJXPnNv+q5I4NkD50ARHeHiB1Ao6LjatWameBtU316/po6FNa5AhQMUjtWBdEQc9CiBiNIPd5CGLxndzqa1FDDEBTJXANoTRXnmjJIqUJBxIeDb//NExDwZOZagAMJSlGGsW2G4pLyn9z753O61cJBoMAiwWU21C20vt9iMBt0rDaDp+pLDXYwfauTAchRecK00aQhbFcmXoTcpmECMQRnGJaMyyiTDv37aReUxGTz74dRG//NExCoTqVKwAGpSlOBmM0IiJSOAOCA8cRM2y2SGvbEUooH0rCJwVcoU2vp///1//1LjkQgC0NmcnOmTqNMR3mlXgHJhMpFrXnlpChPoWmmS+E8NTgKTRru2KopmTPXG//NExC4SqSq0AFpScJDKUEGPOGIMBQTECqTdpBARMiwxnu/////vv29V8QABPVpEUONrc32D6axX1VqIoBZEBexfyFqbMAwCgmrmD82UZYmAceWwr1znOLLVcoiYuzlT//NExDYSUR64AGvYcKrjFHKidDjlDPTeu2u//////0JV5rdwkJGt8wQ4Wt/BCcNnDF4343qyvcSTO00qTlgbmOxY1TSYoBGVbWwniGstcl/eze777+WetbMbM91Y/JYO//NExD8SuSK4AMYecKRkDRd9Mu9ZzwzIVuoLsHhOkAxym/zSC8n58RRwnbmxAuQ45TSe3MP2FnUoOQPlu7QFgfD+anpbv9Tl+nWOnKVrA/tjplfNo1c32K685npP0fkz//NExEcSoTq8AG4YcdB/mnr/6UobkDTINEPb/bALwLuf4D5MiJZIk5kmy3IdF31g0yxWwH2INAsBh2kJk+x1ddPynk/dThUkSdLqueg4Sb6rBQgVF00Vi2OEuFSj5JLO//NExE8RWTq8AHvScL1NiZC8rAgKY6yDDSu5puKpYF/ky5MVWnALCbbUAMGY5oCgZZiiSBITNNJsy/WauPqV/2hz9MKtRKgk9u/57YWDSnHDiQUtcAphhSyabW64p4xK//NExFwSmSqcAVhIAG5XzOjAhF7qYD2AMQCZ9kF3AmIAKx5Bz1r9FscY5xxjMHM/+w/DwLgcZKDD/0Pw8gOcOMCZi+UCn//7yeU1qTABoMAMIAP////u40FgAAIA3BOB//NExGQg8yp8AZhoALwmgOwChiTAUAHB/////gFANg4x3BVBKziBJkvDnmR6rLrDWBPgDZtwFVwG8ARmOr41t0xj/e976ufWZuI9/evWcbcP3M3Dfz9099pUc1t61aXP//NExDMeqwasAc9AAWUfUp9HitPSMII8VNNang50vgGwKRaR44Gw0cUH1h6bYkE9B6HQ1WqVhu4DoaOJgsceiHG2MOJMfmlmtZmhoweTE1AsLON6xcO67VHEI8aksZvt//NExAsT0bqoANHWlCQZNGuTrVC7KQXmi/x0v44JHNNEt1qFTzWzAuGbX1Sirvawd563JG4D8zdbpUr/r+5m/9Cv3IUyJo0os8/WLp8l///61cd6u0A4rQ4Y1arvAR2c//NExA4U2cKgANHelAbKRnmPPA8ZbUIG6kE48EJDqOjLGTUNNDVKLoV05Iv9GJpif/qZx9YOjCX59ZrWm/8Wzv/2v/8bixP4Tkwu9W93s7kCkkqFazxhoKHT9JggbDVO//NExA0TycaUANNWlOUABZ5oI8Vl6CzEDIGUm9xoIJ+tROGHS2MTFvHRnRMiBAhbW1E1OXxonXe2D17cqD0Xctr//d/y373bfdJJW4dbTtWklUTfROcwUbjiBxAwMX+4//NExBAS0S6AAObacG7CA46smiurcolYNEFmX//ij0myx5lD5ELZoukiUekTgCyF48eSUZkJDWXBRda8kV9RMXUtZ05//o06FXhgeGXCRBMGog5ycwwLOpPP7aPEBX1i//NExBcSES58AObacNjTSoLjKhM9jndf6l/nfQ7q64aPUW1NWBtE4NSmxwdhLKQsRB6v0iWvqTZWsx//6PpVY/QMo8ABAw4KDl6GBQDdx4EqwoUiJFtafeYlC7EucaSb//NExCER6OZ4AVx4ALkP0VHPtbOpySw5fanvfddN26RKzwMarGi0e4GBk1dy3//5JTqsog5OMpkDJQYRnjYBwEFw5eJE3uSLI1twJI3V0K1kIMGlBqhMi5aJEvrIqPwn//NExCwcKdpgAZuIALJpFJM3LZgxaJYfRMmJNMloppl9CYrVmX9SBotPVOs36k7OpJq0lmKSktau+ubqPGk+DQGYhp1Df5lYfGVVnf/YhAgdRXiNzJroHFuy1UIX5Gdc//NExA4UAx7IAYMoAbrv////unf91++tu3brO7cp5Q4QqqL5G/ymdDDQOrlYomYgeF3YCKwkHdT537K+cSE0h0TdUKNQfiyFKIqOFUHHC4P5xIbLfkvbvkb88m/p7mT5//NExBESAlLAAcEQAd9Ho/W33WrV3kCu5BRaodgzkd1yy0MhokxxjiQolwoCWUbqwYKK0HG/lCJFXVgorpL3W+CKN+XuKKAECj9Sv+mFVfng+nkJNt7fQRhpyJd1hqKQ//NExBwRgTawAEGMcOPNw6efcY2M2N9drzU/SSjFOACh/yiXi60xdYSaQKM1sLXzTaf+jW3/6KLLKAlIFg/m5TR+NZXh6FrWHo+wc7lJlxlY4F7dGDZUlJHCpBkhUgIJ//NExCkQMSq0AIPScEb/hfq5Tr//KuKuyt8QRIJEPe29Nxn/pVdwlIsKpmHRhgpyvATgLBRzyTMwRBNn6cE0CVjFq1HILYT1UVZH4+D3Q1WIYoGO+qQNWzm9L63vO64z//NExDsSqS64AJPecJvTNYfpSPK1P12mHlEC/1r/5RYP6PrRvmw71tcDDOHHsEDCtWbkjC1GC5RT/KI7VTCPwuoXpCVQWwxEc9q/cI1a33X2vivt82zbcO2YuaRYvAxl//NExEMSWSq8AHvecAiNpbfSg1V9IdBuZ0QSpRb4+tKLbqNLUygbthsQOa/NyJsvVzGdVCcCHIVDJWUTPSAwLNtXtF/pW2tUrbfza1sVtBg5nj1mCIZNt1tYL0yZtKq1//NExEwSiS68AG4ecIDsrLgI0fa4y2WkNEIzPSYKsBhTT+Y1c4qujpi0ayzMllwfh7qGJo/819N/4tXXvjG76tbGItrQ4oNCh081Pcm1lVXX7UA+afCuGtXD4sOp9ygR//NExFQQySa8AGvecCLffQ7qhh39OBZv/ptcJwFVWyQC1adBuI3wEgt5RtBmeZntT2pTzOLvK/Mdzbi52+y2UPJdd9Tn/Ewi1HhdFRw1yYDbBEw8jSCSuVtjtOHWWxz///NExGMRuTK0AH4YcOxxf+Jo5Em30rsYxAMJpYZE1xUJtqhaE5EiJahWe8U0mqpfJ+XCZdqFwvDDvor+apRayd/NAC02mlYNxXrZJQogCTHR6flBtyToXWrcifW/gnOb//NExG8SYUKwAMPScELi42ekQj3IF6jlB2y08VrT7v2/9/1+p/npeqrtzZAAYqcomWBmbc90ASUDgsN7PG50k06ikf5t0/Uv5b+3+L+f82p5ygQTxm0DyJ9gIT3Wis8A//NExHgQEZasAMqWlLFPnpWKmBYcKPu//////qpi8OxAx1D/4XeuUCBhQtDcIBSWA74FiGRGWLZdPosklSNl2SWjVDr//pzlGptAfA6CEmD0iPD4OSMdOLAUtLbsrVKi//NExIoRoS6cAMzWcCBoGQgUGBUHTIEzgRRYayZvwga0uin6CF4Vr+fM+fv/3nFzP3X/pNwrco3Zci5AW8xGXEYfvbcfPaehnuJ036fY5av793V9NQVoBGYgRFF0Gq0N//NExJYRgSZ4AMyOcMifimA9DA7ufPOAoqpNR1jomwLIBbKqV1Q3AGwDZA8J2T2WhcVEcYaQGqzC711aaaxqA3wN8AHQV0R+tV1Kqb1EaHxjTDVZJE4Ttn/6WrHPNzMZ//NExKMRGQJMAVoYAHHeLnIObkX7du+qz76yBkTGbN3RL6aZugj/6vqa3/7mhOIuak+gifNComp0qCxTxAQCZmn3FZcpA0nYHPq+p0zpYUkCxFz5TUw4ieRj62MiRdNJ//NExLEiGyZYAZiQAAGQsdB6CZoj8YJDuZBdw4xJBag7BtSJUTEcx4S4vGaikRh6nTzJIOmanEXWrNZmpaFVNaV1Jopuq1F9VtKmYH1XQ0E2Zq7pej//TdBlqrVL7LHs//NExHsgUqKgAZhoABinsqfyQyruEaEZo0RNFFpsyDqaCZB5cZoAp1zyqaCWwBg7YYsmQPAJTi8T62YUINQ8ttxdwpjAPGsE7GWZtgmhAjHoDEvOqwkaGrGDnSuDmZib//NExEwggb6QAdp4APVp8hdr7JUXN5eRQX34cfOIGt5+8YpE1vESmPJ64xrX3P77f//qUoWaI2DwHIVi7GGYVAr1kMu1Ulht89yOhyLdLMBXjbUt8KGDRSmfIED0LOcc//NExB0ZCaagAMYalFP93Bkl5hVebL+MPx1tsUs/BQN+dOQgpaRIEgyjgmJq6QW8nJx6hZFsfx5I5HfOPZLdBWcZqj+cLqLTNqK5R///+L0viiWU1XdQx4K0byUEhTSY//NExAsUYaaoAJYWlCJoJ0AyythQEICZtvkENX5zq3+58eTHD2IZ4bZHer1U9aOwnI07Ehp6shr2j5L2CgXMREMv6kz/W/W/X/f+x3qXHJ6mil61eoGkTZakwPJDScwz//NExAwQ0SasAG4YcOK3vZrCRkxO248t+/2hcrn6JdqYO8UvmJH9aPAR/8ms/7c5Lnzy6OdOqdaqvlhxpOanZ2I6aPrVe45IK4edEOBM6KVc7lscDnurMkTcsomxLudl//NExBsR+TaoAJYacILr8yUNmNA6omxw0FJJ3EqXY/zB2lTtm10CXRePVFTHWHNWiitOt1//////1ptyimAEMDLUImzd+Qkx/YmJrTK3YQ1nyuxuz0sW6fXGmvMuQONt//NExCYSISagAHvScADUdslhmx++pf1L34+pRquiJVAqIBdqaq2Mtqb/////7/6qlu4m9wPWlljNE2ixuPUxb8JS5lLerOEwaNYSO24u3WK2fkcxx16+AUmVipkt2G7L//NExDASQTKYAVlIAO3eQ3/dley3IsaH0Otft34x/////+1Hb5YBAomWFuUO38LRL3BQNl/oxsquLS/wFkAS2ARooh6IWQ8FJh+QIEi7jqDIwm3wbnAmMiw6h4DAIXCk//NExDofSqpwAZuYANGyXzYoJGBsTCkklGRAvxiEiTRkRpDCip0Ukkv8nSmRUihNIrPVJIooqSf/0WQZaDpsgkcUl6X//3RWuYMpNMxUZkzVL2RACGwFJcy1kSbr2Osz//NExA8Q6LYQAckYAJNIqUPtCb0KmSCQQZwKiTDFQk4RsS0kgo0uCImBojAK1rMlSQKgJbJHcju6XsNV/f7r/t9SDRkTOAM2WRkB4uZWpc5tVTyxwVUsbJFTly+uoCFe//NExB4SOP38AEmGcDM3nJt+0HoSZGhpRIFmPJFmhwPIewk8l/6bFRVcesVQJAixj2/qbRadjjUQqPycGkJYELKxxLU12pNSLak1Joaw1jBaAipEJAIkRCROwBEoqAjr//NExCgR+LnEAEjGTMKkQlKkXbP//FCRqKiQ0BRUUDxoV60trSEmLIgs2IwETEFNRTMuMTAwqqqqqqqqqqqqqqqqqqqqqqqqqqqqqqqqqqqqqqqqqqqqqqqqTEFNRTMu//NExDMAAANIAAAAADEwMKqqqqqqqqqqqqqqqqqqqqqqqqqqqqqqqqqqqqqqqqqqqqqqqqqqqqqqqqqqqqqqqqqqqqqqqqqqqqqqqqqqqqqqqqqqqqqqqqqqTEFNRTMu//NExIYAAANIAAAAADEwMKqqqqqqqqqqqqqqqqqqqqqqqqqqqqqqqqqqqqqqqqqqqqqqqqqqqqqqqqqqqqqqqqqqqqqqqqqqqqqqqqqqqqqqqqqqqqqqqqqqTEFNRTMu//NExKwAAANIAAAAADEwMKqqqqqqqqqqqqqqqqqqqqqqqqqqqqqqqqqqqqqqqqqqqqqqqqqqqqqqqqqqqqqqqqqqqqqqqqqqqqqqqqqqqqqqqqqqqqqqqqqqTEFNRTMu//NExKwAAANIAAAAADEwMKqqqqqqqqqqqqqqqqqqqqqqqqqqqqqqqqqqqqqqqqqqqqqqqqqqqqqqqqqqqqqqqqqqqqqqqqqqqqqqqqqqqqqqqqqqqqqqqqqqTEFNRTMu//NExKwAAANIAAAAADEwMKqqqqqqqqqqqqqqqqqqqqqqqqqqqqqqqqqqqqqqqqqqqqqqqqqqqqqqqqqqqqqqqqqqqqqqqqqqqqqqqqqqqqqqqqqqqqqqqqqqTEFNRTMu//NExKwAAANIAAAAADEwMKqqqqqqqqqqqqqqqqqqqqqqqqqqqqqqqqqqqqqqqqqqqqqqqqqqqqqqqqqqqqqqqqqqqqqqqqqqqqqqqqqqqqqqqqqqqqqqqqqqa82rzP63//NExKwAAANIAAAAACVtSuIgjSx46BiG6Yiq6nQ+SFENGqL8WAnZuJNTK1aaVQr2BrbnrM6aFtkY4EsKLPPEjhLFYYZ0eVlM0dKyjjDOj/+ZH+ZGZPLFMidLFYSOOMLD//NExKwAAANIAAAAACZAZq///mjU0bM5n/9FMjDtoPABUoxskR7VuBwBwA0AGjDBrnLLp9zKgZEGmmEYzm4SxkVijfv5IpzrSGRWS7UhigiKdD4zGr1fH+IET6xTO6Vj//NExKwAAANIAAAAAOH977xUh2eNYUJD8oPKt3FxcYZLuKGTcve/Aop8UMBoEcSfEi7GRIvfBBiWlaU9/N+iV3CfJbxZBk2QYiXvab8pLkClZCO76IkuZTwZIusqhlRY//NExP8Zqb1UAMPGlMqAwzcX5aSpq2KBEEyC0vlrSUxV0tZAGH45WkkRYlzRVEkQRFMRxAiOvNRreOiUfQkldrK1at6y6temvW+u1rXDgYlRoKjzQlFv+5EjFVTHJVW///NExOslCxHoAMPQuf+NWzJuGo5OU5HKqv2okSIozjVv/7zONVTnqq8z/VPP/7b/X/anyq/r+Zz1VNW+iSVMQU1FMy4xMDCqqqqqqqqqqqqqqqqqqqqqqqqqqqqqqqqq//NExKkhww3gAMMMuaqqqqqqqqqqqqqqqqqqqqqqqqqqqqqqqqqqqqqqqqqqqqqqqqqqqqqqqqqqqqqqqqqqqqqqqqqqqqqqqqqqqqqqqqqqqqqqqqqqqqqqqqqqqqqq//NExHUAAANIAAAAAKqqqqqqqqqqqqqqqqqqqqqqqqqqqqqqqqqqqqqqqqqqqqqqqqqqqqqqqqqqqqqqqqqqqqqqqqqqqqqqqqqqqqqqqqqqqqqqqqqqqqqqqqqqqqqq//NExAASkDYYAUkQAECBAgYhi4rBAEBQgOYIHMH3/v/BA4XBA4sP4Pg+D4IZcHAQdE4IBjiDu/icEAxEBnLg+CAIAgCHLg+CAIAgCAJg+D4Pg+CAIAgGFfwvF74DLM4W//NExAgTSdaoAZlQABBdeZlhHgVv41LBJJ/eqOaTL7vV0mfSvdTv7lBYAUFDnIIkYhSF/7IYcYYwkAXCOe1v+jLdnyFCMVC72f/2//+jUQfJx6reublIjeas/W0vjBiI//NExA0UqbKsAdlYAJWMZayjVjX/vX//xf/P/P/3/7/9zI6KShZEbRtBQkERzx2kU3eUnThLtJkm7HObJ90NtBZkPYQa7vUNd6////XQJqf/r13D/ylIXthmLY1VtGqK//NExA0UAbKwAMnSlP3z1FIFH6t5zec3NM87/8oZ/2dq4kI2K9SAMA4ADCdKNEhJKQWEZJjKrnwtNEmox1nmUaCLJEdR61IR9///+x1Oz+r//VcLWiWdH9ybLUhkc99g//NExBAVWbKsAMnYlLl/Hfr6mmevnPSZmdr840rOHHZSC4AQmHpyCIiFQwcTPkQS169CP1K+dZPU0blNOUjL6+yGkWn6ejWgNv///Q2ZFn/7/Sr/7jTCJJm4x23XoI6I//NExA0VUaqsAMHYlKzJL2VBcJDc0cb19DzG1NR+Zr8za3xfPYcl99KfLg5HAcx/RWhUmxURHKw9OlDdXYIzzXWXXmUcdlsDaZIxYSHH////JaE/+ir/1us6IhguP96///NExAoSybKsANCYlJoclFZ5noOI9AbeqfVvVGmZmvzM408snYSqDUVDpVoyXCC1FVt0qlg7rlly5lX+VWuL/+rrq1/dzVtnH////S2L1cd8zsRsFGi58sqQXMvEBVGg//NExBER0aaoAMlWlC8oCv9fqKfL/r/l1ftaST80qTQSQGDxy5WHaNhQynDuHaktxGlLP5Ul/mpqPRYsfCQE///+uhXeGOe4KJFB9qV+8Np8WVlCAv8QI3lEbz1M839f//NExBwSeaaoAMnQlP4lElyBpwCgCAQQwCQJBRHHCWA7Yg3FVNH3FWxsv8w25fLFgECDXf///G+//9Kj/f51FjAu3a8frMzW2Ygh08ypxO1qOe1NmLeYj/D7/m1pqJxA//NExCURiZasAMKSlM3EKsWw+eliz0XxGhHGp1dxyH/+Z/t3BQKhIaS57///9FW3trnwC0d5tBiL6NlBL0qjfX/Tnb7D/rw3R3+8+pe3+lFGN/pATwqdiMDZyKW0ohXQ//NExDESaUa0AH4SceeUzCcc8CBEQsqwI02OQM5b6cuSOevC/9p20TIBHmVbD+FzrhtfjSJHloss8a0sXZV5Y5Ueid+fOEgxfyYXxHX5zDBFR9eaMP5e23Oe36r1aK3U//NExDoR0Tq8AG4YcLwnX2GqCKFFZRg5Nvqq+EzBVJ6Am4oM4xDiDMg0xBO8ATjFmiQ28uaExbtxfB1k5i3ajcKQuTNPvDyNj1h1hW9b4gxd11AlicOAiRixNeq9RYqA//NExEUSORrAAGvecCAkp9NumHsiBzzzcE+/PN6nREqDs/qMZHGJ9fnMploVWrfWQB4Hpd2wkRaiSxN6jqNl19Yr8fEla1+5JYsXPgxn0U4CwGaMr5uWIpTT1ussAQg0//NExE8SeSa4AI4ecJsfYdyX8+szASLUwyaWDYkRcbOD+FvHns3HgBYCSrh47L+BNkNZc3jrDuuKUv/m9q///WM5vCt8QPPg8inaLThpYEOj6kdjoWLmjVihwWcvwoUB//NExFgSUTK4AI4ecG9li1NiMa7qHO0+AVOuHLOOI2Bq0oJHA9ABAIcVTQ+Rcg11mZue1Jt2W2tNTrUgzPQPElhilFpHOqWcR01XOgBwKCOBpAxOfrFDs3lyzXUpCDyK//NExGESqTa4AIYgcKabuDRKQs5zEXAwKh/VDwLoStnic/k+6r6WiSB+FVQqHxcEASEoMDGifNOueE0li/+lvd/t4FJvLbw3JiciKd/FE8mQfSp71mw40CrJKaHicykt//NExGkR8M64AG4ecG7yOajFeM0rPxCdIK9BTOwHCTmdUCt27EoNKnxK9Xlg2riHAgjtAOu88j+Z1MraD74UaQNDQLnL66Ef///Z/uQqvfvU2Fksf1+5IZTyPmF1gIbS//NExHQYSZqoAM5QlCWOVlAGNUn5imspHzueF1wUYNf8MsBGiWPrRJspei9MKEDUk0Go7kQRNXIqA0I2FFMCEe20j+NVbiMu76UjvUaM1Cr6sJf///s/311ukFABzapM//NExGUXaaawAMYQlCqJx4fuUEsU1LOEyqqHRc/mtR1xLn/hFFvVGLxeoX8+E6X0pI2KSJ5hUGsQozrePCjvImN0YosTcZ8/iREJXWiX1qqOp0yi3++fatVugOoFWfsg//NExFoUkT64AG4ecVsTPA+X2m6qGyPm+Psrqc/+TUinP9W2JM/oiJ9zEgSEbfppMdJ/lIkcKzrHZXqyrJPMksM1siUQGGABxUg31SRdTKMQSxVrMhKwEkTHSZciMSVd//NExFoRuTK8AI4ScEXf+Uvr39fVpbHHSJJX/1DT44Nlrg2HcMjr7kpNim6NykmutZzTqT3kiNQulRWwPHJG7/////0V/X/uDAsJos8qFsRlJgYSpzDWEcEiXxZf0/Fh//NExGYSmTq0AI4WcPyEl/UP1zyGgJyh5SCWOOjGUBAEpGUWk9aa6Tv/0P/fXzUn6S8M//////t6Fef/cGlhzqD7GtJ/gte8nTDorDLdBc/v84j6jZusyS6xiF51qjWC//NExG4R0aKwANKWlJJRrMToy1nnc2Dll01dGZvbUtHudR0XMzI/QSSPaNH/////6VLe/zqEKJcSnwmZISKnwJAOlSDE+U3r8gC3t8Da/kpeZEoKwFBM1g+AHAYEWsoD//NExHkSqbKsANHalAC61LFymviKOviJZvREO4iRc0yPX//////9NcNY3+DLJFbbpKzoJigt2a3PcMe5L1+q/N+7/21/rPpAdhQAqIAkvPHxtH1JlIHVHz0866oYpcvp//NExIESGa6oAMiQlO6XVvNFz9nTOlXH+3HjFY7PaS/StyFXK1e8QLguLNqX8/0Vei+rv/WS//XjH84DT5JCMJAZMIVBWNRMqyIFUW+WPn90j8r8CRbL5AZWeKHaf/////NExIsQUaqoAMnWlGMs/62xZyxho4jiIKEU+BKCerzf4ZqD+RlNkx/V6j/nPUl/yf/9cW+/CP22JW4v4TqhewdkDg5rK1k2jRPFiNO84nVkbGqSLvNIMBcI2b30wLq///NExJwTMaakANHSlP/+1l4er/XxxOiz3Cu0g0LpJiX9lSlIe4Zrf44RJRtn28184f8z9RZ/yf/9//mtyurWZ8FKKlxi7sSit7Rm0yJvNpdO/b9bxjWdoK0LNHyazFz2//NExKIWQbKgAMtelD6bv//+XYYa0+3+/OoVs6uzTGRnq4b9Us2QhgCpYldyRA+so9k1/N/OH/Z+tP/k1/+9n/8pfN3roJaERCeXkQ5UYzmON1m1P1Mj768A/XPerPU5//NExJwVkbacANNelKrnDCTSTeMzTbf//1Mcp6yX/dfcpar+dvSc2Bh6aQy+pSG/g4MuvODoKHbIH8efHfKfIPm/qLeVhU2WYIj0AZKnQNSsOAnutQhnRUk49l7HTZtj//NExJgWibaYANNelCPLWphhzStTmuT///oa5gHae3+n6Nfq68AVPIlV1NKLiOPFkOYsGmgVPPoFG6jfx8l0FDdBLb9Q4179sORziU9xSGikX5MeaFVtYy0jS7h71/9Q//NExJAUgbacAMqalHX/zNvNs9x+K0cZ8/Oo2r///hKhn/ftqsv/UdMdFzZzVQQilTQIigOIcBhmKSuL7oIjLP3lE5F++yiBO4fUaxO/+pueuXtIYVxQ5xTEbPvVxO5O//NExJEVcbagANnelPtmVobNlMfXb/HWcmaWzb3t3ff67mL8vaiyKygQ07///75xX3f0VfYAJDmk6BWYDHTROz80ykdy5MAwy/+c00hWKe32PtvS0/dMAjd7nvAwG9nd//NExI4YSa6oAM4YlJWJ+fWveGoa69GRVW+W9MOW9P1GhL7cjxW1+KXr9e9N/4rj4pqdQPhUqJPFw8rX63BiM+rvK4ifK8O6QLHq3vuPicwS7uNRYJoXMvZ+2n1sG5jy//NExH8WWY6wAJ4elLLPCyhywz782yxoIsXwEg+PgIVixgMPM0Qv8X/rP2jX+dbBCu3ytb3/hAYY6ns5TQWZFuaukJyYvcZUvEbpFa16NktZNhyhHU0vLEgKh30pbm7h//NExHgS2Yq0AMYQlG9pM9/HS/E3oVTQLlnnApOoOC3zvT1X0dqFHyfr0sP+u8YsSKZX8lY1qWMIDHVwdYyrtkEm6zusDHYMvv1JQmC+Z0yIgEFC5BFCpH4PGkgmslDf//NExH8SeZawAMYOlJYWzZtQ2damKTJuicPvK5StfYaSarfwYoNN9qtw3zJs6tLUe/VaSpGMeo6SPl9RZdepWrF+4yWisYgnZmYGJQIkH0NVKOkwklmaXM3upRslqKiS//NExIgScTK0AMYicKicrDj/cpWaaDi65/6Y2mNXod1xqPeboBmTJM/wJYK149skAVKJ6cyjqDlnCblC9Uu7Na1bKzfV/beEFaIC1o4T6BPsgMq6g9P481qH028ddsdf//NExJESIS64AH4kcDz+im3NQXBUOOcCwoeO/7hERLecwk8JLv87EUJNFz/f6EY1lTCizbyIKJfeDCVtv8ON9+zNr/FGe36mY96+3J01viBFlb4Vw//miycupMZSM1h0//NExJsSoZKwAMYOlNmM2BXBoooDLAPAzVEcMDWxT+c5P1zvrsKBxbwhhO9T4UxoRM+qdc/8NzPP8PlrH+WHbVvqyEsfiV8Xvd/9gxK9JuVSC8iHrclZDABLLaJEkzUT//NExKMRAS64AI4ecA5kP79Z/nSANqIce6Q1/a4fgsy1KCofG7ioE8/UkCHOnvNV/21/Dp/df8tW/1DOU0H1gJGokhgmrDNHzVR8BIW1mkoDZ7Ew/M36yfblB/BN4dI8//NExLIRwTa0AMTecA5umGIEZbUWSxM9iTxSiql60/x/57/mv9dizUue30f///u/of1vUyKCSuzyVkkJMHRd6MYCqeUo6QctczNeo91k2rplboCh3kCgAY55GA6d2NB8//NExL4R+aasAMyWlUJqkXB8PYp7N/5r/b+4v5tetDar//6zAMTO2cYYMzlxGJwggQYQ10TcWeVW0yoqszP/5lflzXz2ow/NqxU6ldDAFCqoEh5VddGSNG5qLxccRvta//NExMkRsZKwAKQWlNbACy4qvekxBgI7VCQ8APh/tlRpJQcDxahylXnJ/+aikVx/Usub1c7ObWrdVefdjyzK46lCPAPkk5ZSWPUVH2Vi84JCAeLj+sGgBzBlbbQuLuAw//NExNUQwaa0AMwQlHVBT////9e/zc0FlLWu8gEBMZtS1meGBKHGzti4ixIvmGAVcPm5dS81MKGtZM0h97BISmMksoiSWSmCY9F8yXQoz0xSmaQxUkw5K2LDQvoZit52//NExOUQ+TK0AMRScMIiFWeSaWC4qLh5bOz///Uq17QQKTRugu5b5LzAiYX6t1HTL6wm/UWAX7/KF0bOOT6Snp4O1NcOE62VgC1GwDgFO1pCZPWYdt9IT6y5g0LUEaxs//NExPQVOTKwAH4YcDQIErdovQDrQsOFUu/////1/6bHm6AIzz9kJ2Td3mNLpsboja16/XbIn/JvurBy7LcxA+vDOtaxmh5WlU4ma1aKditxvC7jbwwT23ZjnxETkeF2//NExPIXCTqsAMZYcMVo0GN4b9qCPxPgT9ksMu95Tk6qPlccLAn6UXV9nVgoOjVr0wgMl1nhBb+cw9nlN/G72e4R9yrVWac2RbzgAVi5EJuhA/LD67GhukYBk1AwVXlv//NExOgVMSqwAH4YcOFrlvp1rS+EGhoFg1dRb////6L8cm6gbEt+4W4jOWJVK5+GL7C5521OgoVJlxo7m5fJHdwz09t3LbVc8aWgVfR3twOYkVmo5QSbxImwNG5U8TGu//NExOYTsSKsAMYecfJplejczq60Lu6EkdR8A3dN5zbCCytJngllLsdkA088bCH4daiseBi48xVlr91BkLy/r3Zc5FZ+zjMqv5jVdRlNIviotiofR1BYrQUMOQr1M7to//NExOoVsZasAMYQlNzuU5Ro0GZ62hXDXJEVzwuxKwYWp7maTo9P9YcGAyS6KyQCkpMetxaHVxrLe7q6/M/+m7PfnWoV5Sy3g8b4yUffKRXdQH406Ng0Ydgk3Emt/181//NExOYUKaKoAMYOlP3XtZ+2+Dt8o76Yn///r9qqrtTV0OY6aKCgb+4MGjPazIRZWNOqoDuxbmKnch7cpZdjuVyH/uVlUwEgy+6wDqBw4B659jhdekK62OfXTtGzRijX//NExOgS0Y6oAMYOlIjLL9bp0gRKERAVVbGUrQYNsFeTVKYs26HICMJMLpTctR2Jux6FV1VvzwWVlzrPZD/ar2cs6cveO4bkMth1PyimmDbscKUWwXRQ+iGTi43Khzc0//NExO8XeaKgAM4WlLXHr/t/b9o106unk3bB9w9199n//167ev0KluUpRmNyHdazNGWGOzKWUBfQJQIJRpgC0yO9C21zVnaMWTLR/htridY3vlXFYHpQGuXWDaOSx1KJ//NExOQSaR6oAMYYcB3kaCOPc3+L+f9v+/l/2ikKUt13b///oec/6qa5XoCUc1XonhMDYTBspMaMqJlHP5DVHrLJd2P4vDzXzMg/WHXe0SoubDkzdw6H6eutnJZp+tP7//NExO0YGZ6UANYWlDi9hr4H33etLire7////6dvtU+7VYYtS5XAP0tRlbYzJSSIBT8SXAkSHUOM5WrcpqrccngfzzslhNNDBSxGe7uaiSO/I4aCv/8okJ////9qpX9N//NExN8VMY6UANPQlItN6kjFYLEIBHXB7a4cGvQeS9izafSE8ySbCwy/O5zKvS0sNUeHbs79SmwprBgVLiULBkLjr3pRu456++v73w32mzIHTSX/6gqVGKaLO////IOP//NExN0S6RaQAM6YcBJ1NwvJvPNSJVoSAHARQAIqcPPJFK1uiYmAgJGXcIQIu6AxMij1BK7cYxp5jsBxit9TKatWyALpTCph4L4co+kkktV/2Wplq2QNklqPAYY3+tYT//NExOQQoLaIANbSTACgad////+e2MIihqMLWEBVbEk6EIABCNeQ0ST4xAhhqkIjAQ0NWAil0AhDZDRbk8zMMBXT8uSnsDta59S8bAJL5FeW49RbRQyWIioSArH//V////NExPQV6Q54ANbScP///+zqAk6r5SBIqlUSApCUfQrRlsynOJKiOilTaQwlqH0JIZmxpy8yannVVVLf0/mvVsloCFhKRCQM2PeLuPEhKPlSp0iNcg6sVdqet87VOlSJ//NExO8XIRZwAN4acFqCg9BJ++3/ClUR0uhloA8jpOYvpRGYdaABoUkR0oXLsNK1PNjeSjK0NSZQToKAQwJ0Mj/llI1DBQYJmQWFhGZoFEAUVWSHipn8WQBQoJDQFFW8//NExOURAKZUAMvYTF2GVCxEy3/mRf/FKAKKqkxBTUUzLjEwMKqqqqqqqqqqqqqqqqqqqqqqqqqqqqqqqqqqqqqqqqqqqqqqqqqqqqqqqqqqqqqqqqqqqqqqTEFNRTMu//NExPQVyRX0AGJMcDEwMKqqqqqqqqqqqqqqqqqqqqqqqqqqqqqqqqqqqqqqqqqqqqqqqqqqqqqqqqqqqqqqqqqqqqqqqqqqqqqqqqqqqqqqqqqqqqqqqqqqTEFNRTMu//NExO8VyQGwAHpGcDEwMKqqqqqqqqqqqqqqqqqqqqqqqqqqqqqqqqqqqqqqqqqqqqqqqqqqqqqqqqqqqqqqqqqqqqqqqqqqqqqqqqqqqqqqqqqqqqqqqqqqTEFNRTMu//NExKwAAANIAAAAADEwMKqqqqqqqqqqqqqqqqqqqqqqqqqqqqqqqqqqqqqqqqqqqqqqqqqqqqqqqqqqqqqqqqqqqqqqqqqqqqqqqqqqqqqqqqqqqqqqqqqqTEFNRTMu//NExKwAAANIAAAAADEwMKqqqqqqqqqqqqqqqqqqqqqqqqqqqqqqqqqqqqqqqqqqqqqqqqqqqqqqqqqqqqqqqqqqqqqqqqqqqqqqqqqqqqqqqqqqqqqqqqqqTEFNRTMu//NExKwAAANIAAAAADEwMKqqqqqqqqqqqqqqqqqqqqqqqqqqqqqqqqqqqqqqqqqqqqqqqqqqqqqqqqqqqqqqqqqqqqqqqqqqqqqqqqqqqqqqqqqqqqqqqqqqTEFNRTMu//NExKwAAANIAAAAADEwMKqqqqqqqqqqqqqqqqqqqqqqqqqqqqqqqqqqqqqqqqqqqqqqqqqqqqqqqqqqqqqqqqqqqqqqqqqqqqqqqqqqqqqqqqqqqqqqqqqqTEFNRTMu//NExKwAAANIAAAAADEwMKqqqqqqqqqqqqqqqqqqqqqqqqqqqqqqqqqqqqqqqqqqqqqqqqqqqqqqqqqqqqqqqqqqqqqqqqqqqqqqqqqqqqqqqqqqqqqqqqqqTEFNRTMu//NExKwAAANIAAAAADEwMKqqqqqqqqqqqqqqqqqqqqqqqqqqqqqqqqqqqqqqqqqqqqqqqqqqqqqqqqqqqqqqqqqqqqqqqqqqqqqqqqqqqqqqqqqqqqqqqqqqTEFNRTMu//NExKwAAANIAAAAADEwMKqqqqqqqqqqqqqqqqqqqqqqqqqqqqqqqqqqqqqqqqqqqqqqqqqqqqqqqqqqqqqqqqqqqqqqqqqqqqqqqqqqqqqqqqqqqqqqqqqqWBNbxJaA//NExKwAAANIAAAAAIQ0liaBaRAAXLLZgEICGmu3B1HTcdtUdqJx0h7EaBczrQ92citNN8cg9YX4SMvbBFV7coI7Gzv90gRK0/yxq9+/sz77eh4jogoAuH4wGhjwKCgN//NExKwAAANIAAAAAMXPIMQykFw7BuDcPz3gUD9lBWC+0pyDCxd3e9KLFw/Pe5FEQs+BQyURO0p3qEMSpd0REp9Ee0FFPYit3tBQUHPLu7vzcEGVHLMVCg0xDGIulG2w//NExKwAAANIAAAAACKULkktq2X2UCWtAMhgIGp4jiPg5MB22hl4dFESS8IwlLTEuASNmYBKXxu5LX2vFXNqzT8Ms+q1wBLaucFabBLWZI4Kcq4S8tpyTEtahI0lVPjO//NExP8omwXYAMPQuUW3+r02ZbYqXx0arZn68ts5/9fJn5//OV/2q0WrZ/qqrTQG3ysSgorYtQhw0SUGWjHN43tTcuW5vgP3juLWBe4qLIhBKDwXDmTDdSuZz/rBekbq//NExK8hYs3wAMMMueSpWF7kbq45TIR2sjieWtQw0/rf7Ms8XmzTXFqSIgwkDBE1LmnZtlnypOKPi1JEQYSBmJq2admvP8qaZ43NyndrzcqWa83O7P///////lGlFWJV//NExHwfitl0AHsMuWK9qkxBTUUzLjEwMKqqqqqqqqqqqqqqqqqqqqqqqqqqqqqqqqqqqqqqqqqqqqqqqqqqqqqqqqqqqqqqqqqqqqqqqqqqqqqqqqqqqqqqqqqqqqqq//NExAASWC3cAUMYAERPru4AIBAMQcBAEAQBAHwfB+sHwfB8HwQdg4CAIfy4Pg+D4IHJcHAQBBxcEAQBAEP/93wfB8HwQBAMQcBAEDhcEAQBAEATB8Pq/7+zPnPWf//Y//NExAkUcyosAZk4ALHnMd//pxZf+AQJDe64Bg6Ja/+I4vNc/+u0tMEscb/043Jnsrmf9P1ZDEIM7OZ///r6Hjc8gNBIJnzP///Tt9TyB7qfcwwmNz5nLE1gzHEZQAye//NExAoVGcZ8AZtoACGDpmFA4l2YwAEIjIPQPZQYyJNiJcwPDnAoY9AuwhwX0+F/UkmF2I6Jj/SXTdSbfu3UtfT/u3ZBR+s5T/70GevOMS//////2irjVYegvUnIj85I//NExAgSGKZ4AdswAMwABoikwGaIHHLyxi4oYqCKOgg6MAA11w5Pomp2WoEjkYu+isCJi5NaOlB3FhI5FqB9tncgDGCayxSZhl7Cvb0qiUB3nDMSbzzDRBswUBLLmTzx//NExBIVWJJ0AN7eTMC1gYYBQTRlgVNMGHdeB4kCjFycIAxdE7KI4XDneyqeeS87eCIJ0NYaKE26ntatiEqkG1jBcOpvXRqqt///9n6+6bN1ludyOkAAbkNqqN1hotUY//NExA8VqQ6MAN4QcI8hyRogNaewUkOXQnco9HwKxUFDS1EwzLM5lTXn5A7YA4WEQgJQ/hOeU/f/m/3d7vLcIAMPNosZD9BxJgnR/////79W9AscWr36utUNOBCB5qV2//NExAsToZaoAMvKlELrHp2NBQm+9TqEWtepdVX5VauUQ2Pn71OiRF5WY+GJCIb++oavZ0acPudDiApWc70FwEAAUYqK9O3pu7Xs4cIJmKa6vf/1SAKNIKPHFmRh8zXn//NExA8VIaKwANJWlDLbtTH99Wo3t/E4f3hdiWUIgBFlqpVAG830QBHp8SZDvPzBKJZQTKcqTCQaVxMV8x/ti4t10+3Ukq5ARCQg7Wn////+nqrn/+cVHmlFlaloXHHN//NExA0RWa60ANFQlDLQ7D1EH6B4/URJ1AYPn4kJvY0g4O1YFIERH6aUP9VFQ8+Kk0+/6r/j/Wv+aq9VVBr/////YvV9FaPDnKcQeBRWgT9uIDrQtMPNxinwrzEW/vPw//NExBoRwR6gAMZWcKbu/7jZ4+vULv4JK3dMA8P1/umovcjfPRKJ1gZJ7Zp/kix5/////tDWWuO7aJdJ3CyVUBbgfDJMZhiQgDEmVAo+ISBlXldkuEhK5CFHh6RcBFRG//NExCYQeGp8AMZMKHWYKyVI95W5H77nzfqZ2f1fvd6UraxzltftStTEAiKdQPAIlXtjhAYccWEbrQ+Y0rOJrNhg4RXWD4gBM5JwQIf9CSVSXA+8V7+GFNf929Otlzqi//NExDcP6DqIADPEBI4eCDqgzECgjdX7W4YUCCEPxz2lsvBmAfINqtirga/fx8a+GBk+sYDQI76LBuLl27h2H76VKJcwRV/L3/aC8S/+nIZ8n////7fE+ooJ2xg93JkF//NExEoReSqkAMPQcFBq6y6RgD/m7Grk06VF3/pZVe/eq0pt/dIgWEmVmAkGPcRSDxI6/G9/rYt7/TSBiprFE0exD9iaAcWIyAyc////L2fr0//9V1FA5Gxu7cjpwKVe//NExFcSOTK4AJ5ScJjMgT/RFDoqqlAbfSHQIat0DpQFA2PpmA0j1FLpxOZZYqCeYiKETr0/b1f1N3PQa0TW3T////3q6lLV3/d5DikD5/tRuAEsYL0FPXqAkSXm3iAd//NExGESEa64AMwOlDv4zQwEd/aELtBkpmCNAm28/qBS+R70DpfCAGcqucC//X7eg1/EBZ87////1nW+7K2YnDmBQEojSqVF7jBjjtkIkpyL1oZXVD361EmtRbeXbL7P//NExGsROa60AMPKlNdukgTQmLhHhNZOVhXR5Zt1xv2xXX/9rb/y9o89/0ag5EoiDgWv5PEGggw4fTiklNeAEweAhgAvmqqBVOPNO8z1FF1HZYjjKTEjrRenBUCXdlAw//NExHkSQRKQANZecFfZk1EsGkntCCsNOTTQtvbZ/7//+moKjFlzIBYmicCZzSDdlgMtbCpa8k3Ld1o1Lec5rHH8NsjM1QoG3LFAsdUeZeKKjCRRDHis41gYT7+DSvpd//NExIMRULZYAOYMTGW6Ut9u85dU73spXTWslRtJ6fJoYAApkhNv+0BOBqMpz1PSg0sPT6w6KACFCN3/QsE7miscrxPUB4WIweEwLDCruOOhQXccLjmsm1UWr/6Gig4N//NExJASKKJMAVkYABRhMyTXQtP3/+rB4CyhynB4TN2tE8qMdr3v//xmYx9UfjKLcV9WaeGaC/4+v/5/z2ofI/lYkVGSZ+uttZLBKBc/K2Vg4WJjganh+2shHAbXAZiZ//NExJofuyo0AZpAAJu4gATpZA16kTsFojIMbkHJM1IMQ4MgDQDRFMnkYsvO4WwE4DaJgzQ+moyOs5OF8zH8g5b+9NSNKsiZkylVJpmiH6KjZXSZBBjRBqGhobd01Ist//NExG4gUyKgAZqgAZq6/////Wz1L+6CGu9BTLmZsfWqs9yqwyMFh3zbSqGVbQIuawkDTMZlA6EFogMcyaBpU2QAMoXUSBmSQNYlZEyM0AH5MSZJyTQSsTJME0VCfEJh//NExD8fmdaoAdmYAESjWNwtIJzUf1JnWKovR+K5kalAgY0lvSUeWp0kl9ai/QpyYUpSKRDGornDTzNyqBPk///n3oZscw4wIS4oVRXmtbuFU6us//N/A9NjvNQMCA7G//NExBMWGaqwAMZUlP+NkHPu/b5AAWIqVcK9CpYojZzyvLaRh7V1wkCFjJwjC3dUYLCVMMAIuc7mheneLmro/q/or9Cean6Du7///+5NbbGC8oo9rSCDBGGtSw/wNiy8//NExA0VsdawAIZamL1dog5aj/uV0z32oXM61cxw3t73CCxiKUVcrfHbSh1ZmtRx8u8/6z55azhds9xSSUmioYZ9pn7HK+z+p/c2tWtL5tcW////+n5uZuM6FY2gQMid//NExAkSOSq4AI4icH+f8FIiY5b1BIABL8Mb8YIq58mRHAHsbzopFMLbkRmrLIOSNdZcK3kYbPsPsvLeyyqyJMVy2nED68vl/////9U95DArLaghENqTbeDcyKN7uGbM//NExBMReYq0AJYalAS7LLeODRhpdr/9uAYSl5/ZWqpd535QE5ZtAc3rHlrZQ2pIp2JNvOt5zvO9p2iIXzOnJDXph1AqFqZwIWko9aghwUdRiGjCcXZNRXDbi+pMwJMM//NExCASYYqwAJwalELdg/VlOikA2jzLWoTF245XdHEaLFLTYeh9qpg6Hdutb7Vn2LMNWR05Ks+fhmSEFEN7P64hnQslmsXDZSblX1KIvc+vtrRk3+1yXKfX8JDp/msE//NExCkSMaasAMvUlCSJp1jwNDc2hogi7qsKoozUEondcifzW+d85F1JXihqlVbWUBiDkaQu5ETp26mU9ngIK51rJmJVBQrXbLpJHSP6mEAg0C5na4BBv3SQZy7hxBvr//NExDMSaSqMANaWcKPConL8WkP1/ZqOmOoUJRqKPq1nZV1VkNnCo8YW2AFnuVBMEqrARLB4NV7LqW4vMuzYy+szxNXCvdoIBDBZN3kXJAFKNkdATlGymHIm1ZMCyU7o//NExDwSGS6AAN8acDEx+slnepiTNVyfdWqBLsqjqixjXoaOBPTBDClMTK205gVbtEZq6h3tZdwlCf0h1ngyMwMHGgma3RsJl0XSvN3Zy9ztTadK4No+nFiHFO0YW900//NExEYSWSKEAN7YcaNv1jWGal58AsCm3ySFjfwEOgBkSgd4sgbso+JqZuJc5nAbB2C0tWo1Quy5MOxN2wmAESwiohrf4ORSu2iEdPI54iamPrvYCX+taG28pVWRQOtH//NExE8RcPKIAN4ScfDBSJBZR0YBRq0dmQAwEWdxmQEu8cOzzgwCqaG39dB3guaE4MPZ+nIx6yMhD4pJfqcUNZU0U0SjcOS+UHk9AqLJKgEeSLL6JkmLknWUlYUxhcuy//NExFwSqPJ4AOYScWlmGJTmoElmkMQapB5obNYkw5r0PM6kWElZzJYq6LXZBNmDwdEZLv1j4aNYmmFjwiBqxQU/0dv/XUS0uAYi9QAKNugxRKJOZnLYpXS07uzH01LK//NExGQSaOJkANYQcHDO3+WXIIUCwUCokS0VNgZRd+w6ldD3SMNIlGIhRjak4u6L7WNkmkaVL9SP/uXqbyDVpEQLBEPo3PsKCEjgGOdPltHFq4CPWsfpi4h8kWA+tBue//NExG0SQHpMAVkQAC43pm5Ai6LMFJBfQXIRxPM75ASkWDriOBbBkyJmv6y+T5dJ9Mig6CZE6EgY/zU3Z0JuYOyLq/8slc+1NWxZdOk61f/so4Gziy48TP//AjSYu8HM//NExHcfKh6QAZmYAKBN4mHg6sQufMhY+aEBREAZiSD4GjZEAjCgYeanRNEgCQkphKkd8cKL4UwQ/KeqXKwwO9qYk2nhKh4LpF01g1CVM1ruPatovtOeWD5prsXQy5CZ//NExE0hCaawAZnAAJp6KmltPXuRy09GEB4y607cxnr99w1Ta/X9+cuY5fzeedPrDD/7lu0fehIhOMNf//+5fepxP8jV5+o0Ska3OWp9FxL11bFaFDWqOtVXgAFpWwh///NExBsYSTawAdh4AFuAgXON6vPwBAGM+lUgFVdteF4DUJc+2dgEMYrLprcnsHyp/X8tlDB1c/08rvDT7c9/pOGi4apQoJy5hRk8EWd3////+NSqbUEARJNA3BoHH/KB//NExAwTYS64AIYecBoX9sEAIetdggASDhSLj4pJvb3kUNgsWoqnEPPGj0u41lqsJSKGus6iT/DYwxa4fvI327db+YMY8XzNdTq8y9Lumsf3gMiaBnqshHB3cY+Xal3b//NExBEWgSqwAMYecGzxuNj+iJiu4lnExDHkt+NgT5JcSJwCAeWoDYFhK36L4z/OGRRV9302PKpqxcLg/WWLRsV1ng88o+AqaxFFTosSVpcv/////+j36nEfLw87UIDv//NExAoSeTa4AH4ecFUiKrMe5qdQPbr04XFEL1ihSIi+83xPaI8focKHG9k/MRWP8EKgYzAad523zU1hth/5abUpJWmPSeohJ0+2j9Gvy9A1EbrrwcTNuzeMy14RPTKf//NExBMSOTK4AHvecG2wT9U478SiuZrG8hOsaGG0QoUMr1bFhDuLCy+VEarvquue1uW/tOXe66oha+YzC67rJffIVN91iAQub2kl4uGi7xkZM3vLCHkW/VOilR1tVVe8//NExB0SKTasAMYScMdyszGpgYbyhsSNdMDkNdURhH9ca2sD75bMTOxqAfdcpn+oMrLuU+2hZS5Nzx1Tmp7H7G0Pz+OaqUhYzRpy5LnLkOWcEqEWMrnXMy/sgdXhlflW//NExCcRuSKgAMZScHxvd/0KiWOrgZr0hlHqgBMTSWDUxIIpbyO9QGeRrffSuTF1N4q1Cs15YMwgcPJKER3ELZAxI3eMSuWhYcZuTa5E0aLVBD40WWWn1U5ZjIgFcckI//NExDMRsR6EAN4ScFrfySpWUMsxsD6l5E08tL1+cacmiryPsFAM3WhCDl53FJGw9JoLesObsMPD6UtzpR0y1ewaUTXU2McFRyYG/NzCELsmkHqmodhSuxJruPh1bGRc//NExD8SIQZ8AN5acSkykzB84SuMkqrCUxlqZ2xuHKbd14BA+dk+pmy2GBFODhVfU+hxhNnTwjwaJy6wWpd2rStUX8cxwoP4YKp0zEszBUbpg6kgrxOCryWVSGbiJ9/T//NExEkQeOZ4AN6McA5u8nESMzIgIBPchgCE+b2eAbygVrcfg9b5Vr76yvmZpFEOHHuJ6/i86aQAMENXDgbgYio4IISxlA1iwgf+Z7tfu/Wmz7HTKhbWHrcRcm5KyMBY//NExFoScS6AANPGcR9SmzCETlubE6Ssm/m+pwrFP7vZeP3ErtZOapGwiiyhQI1NWQjBkEI40qlAJPjg+GThl1wgrzE0+nsIR484upWrM6qkkCYWRCg/kMCwdHmKtzH8//NExGMR+T6YAMpScMUtz9dXX/9/LrWbdNA4SIgS5BjwdWLUSuyzwyFXA2wq8BD4QPpst///08fVnrtfCTmvjW4mFQCkgRqqTUdTpQ6J0q15aeuL+Pvf+EfuhOaeCBhg//NExG4RiUqcAHoMlIBAVJNCMkQQqZZ6u4sBgeKAcGT7XD3DwHp///92lvUpqS7GXh0SiUVl1I2BqzjyVyJIgaeBoWtR15lxfb7mNktutfbv6/qUmWemJSIRDqNJygFi//NExHoRsUacAHoQcIIMMB2yYmDR5O2UltyrhNa79w8vlNMEQsTGIMM/tdzX3xQhEJIgFgi3pSSQ4E2nzKqxLc4gF9UAUtOIDRySLuu64RiCig8JpuF6tpPzi2N1emdv//NExIYYyZqQAMGSlLmrHJnKTP3/p3bbRY5dn0lVycPCSyYiICgjIiICuOjQTyqER4rHK5x91mMhjGIyHup2dT3f2/////+1Chy5Dus2+F9GTzmrodM81PWlyzzBtN7b//NExHUbWo6QANMUubQAiIHXqeCCQKbkk615QjUwGJbWVk6/QvtMm16bfg9frFpyFbWVhLRVOwPh9VOQwNnpwcoQHoFoNxUWuYMK9Rh3p9/p+H+7XGvu+xbKOGFNv/////NExFoZYbKUANLYlLHHmWLtNoZcytZapf/TRwCpF92AMMPDS2PIviaEZRRc2AhtAXjWyi2pudt4/3L+BA+UxWOFWmQMGujDZlnox1CnMfhXaj/Ot9Q33sbjBWwXDkV///NExEcTCZqkAMlSlP/////0qv/r+A8WDu0IxDUs6HQSnHqDSagfnHcfqLcr6vxX+v4OxDQZYo4FTr1x5X3YxY55QvWV18/zNerV7ztbDJggcv///6I+1qqsoFPy7GaB//NExE0Q8aKkAMlWlIdGaa6SqkfFtSADhyoDRqI76jvGnIvfT+v7Q/vcmPYWPK2Bp7TYFJYwgyFuaI0dKfzfM39u+EJ51udnLf/////6ast4M/BRVPrhduNczIDx9XCJ//NExFwSkaakAMqWlEGJG8GvmjdZUd0H74z6E/G749doXIU6OMQOGsofOsfiYegxEJsR9W76nc1857yXPWf////+uu/lGRtkhyrl3XN/NHUnreTKwAbD2ZMYEtacGWus//NExGQRoaaoAMqUlHI2SD5NP825YfoDsKdI+KTpsPc0sLIv6AnJtTGl65/WelHrdFFGYNvT1+6xeowjpsbhIivlmVAV2gXQMhJ2YB1ErGYwrSH1x+PXMShyRfIhvSMg//NExHARuU6oAMNalPdmHqbrMx9KDObDKUomDGNHSMTC91lMrW5x5TKFyz1BYXVnhgupj9vbPEfZ/5cCSSKvmsqIz/Y/GN81Yv/iiue1a/Wf8aF0Ezaz9SWbj1UK0bVh//NExHwRYTKoAMSacDmwnSrouFP91zv//////QzSqVKktG8tAkkgStdarL3Ofp0qrP3V+Zqu5K3mkupAg1lJ11MrphdqJL20IwQPEQvS7j2rDs3XZdoRBWHw8a+j6f////NExIkRuS6kAMYScP/r1fs/VV5GLZsxAsJP0yRsusXrZa9wYda6vRiCpWqMib4JsJqOgwQnRmbDhHCSZIDOXRhSSHGPAvFYwpkTERGjQ2EYJIdpqSg9jYvGyJfNR4D4//NExJUR6S6cAVgwADlHkiPYvkkXi+sul2tEepabH11DDF1J6bIosvrVUfR6Fkrr9SX//b/9f/1VrMlBEeGRj7SQHgcpts1KMJscca6YgtGxI29DBcdW/EpQPPGALunx//NExKAh2oaIAZpoANgC0RAXeBCVuXqcP3VG7Gr53rd5yZmyyQaN7nN6RazdWzLuDR5avpCj5tT59oa6Yp7wcY37Y1m33XXkrnEFoUeJxriRCYW8JPqCY9tOlLzyaRYS//NExGsdkYocAZl4ALioNCSIZKMne9dK6ktHgkpHirJPtUslosdrewXCDm0K6ExWFlRzteGfUjChwTLjaNIwRVRs5meNZK8y2+/1TskaCRdoTGCBgygqgUUFQCGodYDQ//NExEcXCS4EAc8wAKQrKii0lahRttjFPcWWRUjXXQ66hNUsAYNJikUiklz/OlhVDN6lVwwo2NfptEgrZNAJEjszM55lteZmZbJR6j2EgaDoNA1iYGoKuiJ4KgtEoKu6//NExD0TUQ3oAEjMcM6t1YNSv4ilf4iPLO55YdoVOdbIODMLNkc2M+tRMN9UMq9BMZIuoyzxvTQyCXNNw+c0P1QDMaXLMeFf4weGCTE+XoMpVYVMQU1FVVVVTEFNRTMu//NExEINQEAAAO+8JDEwMFVVVVVVVVVVVVVVVVVVVVVVVVVVVVVVVVVVVVVVVVVVVVVVVVVVVVVVVVVVVVVVVVVVVVVVVVVVVVVVVVVVVVVVVVVVVVVVVVVVTEFNRTMu//NExGAAAANIAAAAADEwMFVVVVVVVVVVVVVVVVVVVVVVVVVVVVVVVVVVVVVVVVVVVVVVVVVVVVVVVVVVVVVVVVVVVVVVVVVVVVVVVVVVVVVVVVVVVVVVVVVVTEFNRTMu//NExKwAAANIAAAAADEwMFVVVVVVVVVVVVVVVVVVVVVVVVVVVVVVVVVVVVVVVVVVVVVVVVVVVVVVVVVVVVVVVVVVVVVVVVVVVVVVVVVVVVVVVVVVVVVVVVVVTEFNRTMu//NExKwAAANIAAAAADEwMFVVVVVVVVVVVVVVVVVVVVVVVVVVVVVVVVVVVVVVVVVVVVVVVVVVVVVVVVVVVVVVVVVVVVVVVVVVVVVVVVVVVVVVVVVVVVVVVVVVTEFNRTMu//NExKwAAANIAAAAADEwMFVVVVVVVVVVVVVVVVVVVVVVVVVVVVVVVVVVVVVVVVVVVVVVVVVVVVVVVVVVVVVVVVVVVVVVVVVVVVVVVVVVVVVVVVVVVVVVVVVVTEFNRTMu//NExKwAAANIAAAAADEwMFVVVVVVVVVVVVVVVVVVVVVVVVVVVVVVVVVVVVVVVVVVVVVVVVVVVVVVVVVVVVVVVVVVVVVVVVVVVVVVVVVVVVVVVVVVVVVVVVVVTEFNRTMu//NExKwAAANIAAAAADEwMFVVVVVVVVVVVVVVVVVVVVVVVVVVVVVVVVVVVVVVVVVVVVVVVVVVVVVVVVVVVVVVVVVVVVVVVVVVVVVVVVVVVVVVVVVVVVVVVVVVAhhzo9SE//NExKwAAANIAAAAABBCAjgOQJAEjEPHrLmh6vfx7wz+c5o24QhBRAKAQBAAYAwBgmG0eqCgNisVk6Of//qEIQz1DPOyZMmEECEY93aEREREQTTu7/aLu7u73+7u7vfd//NExKwAAANIAAAAAN3d3v97/////Gf+IjP7u4jPd3dx/d3d3/7vf4u7u/2izyYeHiRAOwBEAdAQgkQ4kKupjmNI0jSOpDkOTwpFIpFIpFKFChWRIiIVCoVCpFixEFgS//NExKwAAANIAAAAAABACBINIWfJZqW+UpS3xjH+MUICpRQEBAQEBARKt/GP4zMzMzKv+zMqr8ZmVVLZmZS//9j/qr+qqpdVVVSjKAiVFZBIL+QV8IKCgl2QUFCqTEFN//NExP8fOwHUAHpMuUUzLjEwMKqqqqqqqqqqqqqqqqqqqqqqqqqqqqqqqqqqqqqqqqqqqqqqqqqqqqqqqqqqqqqqqqqqqqqqqqqqqqqqqqqqqqqqqqqqqqqqqqqqqqqq//NExNUfopnYAHpGuaqqqqqqqqqqqqqqqqqqqqqqqqqqqqqqqqqqqqqqqqqqqqqqqqqqqqqqqqqqqqqqqqqqqqqqqqqqqqqqqqqqqqqqqqqqqqqqqqqqqqqqqqqqqqqq//NExKkAAANIAAAAAKqqqqqqqqqqqqqqqqqqqqqqqqqqqqqqqqqqqqqqqqqqqqqqqqqqqqqqqqqqqqqqqqqqqqqqqqqqqqqqqqqqqqqqqqqqqqqqqqqqqqqqqqqqqqqq//NExAAPqD4YAUYAACBAgQIR7JgAABBAgQDBQEAx/g+D4f/7v6TnKHNIIf//DHAZ+JwfBAEAQBAzicHwQBAEAQBMHwfB8HwQBAEAwv2dXqoFJ/drWg3P2ezCAx9NM3An//NExBQVkdKcAY9oAIAVBG/WX3jDieLQ/TNzhoO8fhgQVZK/sZu6kBEuPYTMTwS3+PQuIeXxxl01Sc0/+t/orTMFtBr/8yP///xQB1mkh+rnOZQENDw72Nhz5bKaVpIw//NExBAUUTq0AdhgAAl2Ny0kG5MZpdNItTNhMdq6tLpNdirxtN6kAzUrzx8N1r1vXu3ri7/yxtWsLJAi+1kbqy50szdI1GKWf/////1a6sOd3VJpbq2B0o86e5NQYNhn//NExBEWKZa0AMYWlDG4stVmP7eCZw/sAQ7e/4/Hr3MY+/1/8pIyaeycoAYPzMxIIz7MCTW4iE1m0xGs15QHetVKu/fdey6+KuOFr20el3///t//VfHICjmKZoEXgw6K//NExAsTAaa0AJwalESoAMQtJSZYTRoqpCnKrjPNxqmvHJ8c42WozBWxKUFmYmpqy1j2SUpMez6AyDLMRoKSqii2o95/z/WmzsZpPvorz/fSoIUX/BcgQEka8zk8ZmRk//NExBIWSbqoAMvelN5tvwtJr/Gn6A/0fLr/bxb9bHc558EXXVY8EUKF5uwndfV4KdtnUqt3nEjm4W22j5jZ1i9P8b1/6f/yf7gvtavWJnW8Rq3VKqb8K4wmDH7hNZYE//NExAsSaS6gANYWcEl4UHMvhl2AShWuzld459nWb+vbv7rdbfPg2S+CVboIo6DCoHoAYfl2thDmnT8JfyathE7BUSgrK572waPQ1WzXfpBSuBYtkhwIhowe8B4491ew//NExBQRgTKEAN4icEmlrY87DKteH5zb25/1Di0Ox7kPKqspJUlglBmUbC1HD6SIm8iN2IchzZuXEtZs3//phcYcAABxgFwd2KgYDTSBwsY6tHFGJEBx94CwLIpw3L4h//NExCERyQqAAVt4AAAnFv7sfahW8nDqiU65aP/jOvgdxwM2c7lmxRcurX+nv+axYw1MKmhHLU+5iAvOsMARISlzFaF01zTWXsvrGRg66yOSA8HNVVqxoC8GYyFK1fTQ//NExCwdMyqQAZloAEmr/+m5oU0P/+gXCUSNC+UP//03C7haxKxMCUTDmf///kUKuE4EsHgE8CqFAKuUzQLX/////hey0OeVDkCRjnNyiJePMcAjA8JtEwBxh7NHUP4K//NExAoSehLAAc0QAfjearZafu/V/+iJziCm//WzV1OyP///qxlZbpZz0ZHK1Wu2VlYyI6ASyg39Rb/R2sf8Kyvz4T5v83E05o6/SbHn/q+MBJx2N5bFdgcFtqWHwnv8//NExBMRyS64AMrScKQ+Ez5NUjj+SIx5yRLhQSRVPgSBsnek1dbVbbfuM8Xb8VjpOgYWCTvt3YIQICafH/////Uq9ARkBczdSmDogPaR7POsmhzR7Q1FM06JMq+iwpLO//NExB4Q0S7AAJTScN9WSvnqElERjMupMfLj0eV6WLt6rqqBtf+KhZpICQab2f////rq3r/xQFmGNew+5THQkPF2kmhMgJ5tZNC+vqPByUkcngxicLUtQRAZzrVHTW6H//NExC0RoZ6wAMtOlBtcqV2PUKE2aUEYu3Q75rdVbnlSzhkYT0aKga9jYoDo9NkNEWIwSIBzehDAAJTZZzi7n2m4d5+NmVT35afZxrbUVQ9EGBKTWyO0RgTod/P+1vzW//NExDkRiR6QAM4WcIuluiO064e4j/5Uq4jVKw1bYKEkJ5hqwdT4H2jg8QtjeF4AjDZAbUAfwcw+gqRaYz01THSxGUYoqyIlRI7lEiKh4aDrGtq2FW57qoV3fb036eo0//NExEURAK5UANvMTNR6oSpzDoF2PMJ22fMFtsRaNC6Wmt2pTjZ1lvmXrSI8z1BuKhoYSQA3n2oYoVELnMMtYh9E9Za5ItZGeltgT0IVf92932d9utYEhgcGCAjwn2HD//NExFQSeJ5IAVkYAMQdbOB7FxCiM4fnG3TMTzjwUwLWURM0qkTN0FBOxNg5glBkbpIorWnZAzlwlHRRoqqWzxODcoFhibVUWWk/TTYvnysvufW9ls1SW21pom6nPO5q//NExF0gImI8AZpoAbRRZ62pLSQp9d1MpE0MFpu5gBR3xTou8d/m7n+J/yd8ODADCnLiDTWU33cnJW24OAF5CRGL4IUPke7J1BGxME4MwSBsB00DqCUDInFk4xOFg+IB//NExC8cqyKoAZmYAAfmI3BvZF0Fm5eJgwWwAyBAcgJkbom7rT6M6xoUC4Uy+Xk7UGu3ySRoLUrt9Tt+jN7O3//f/1X///v///7XQdNSTG9d5//WlRd93ZblnKU0Q5G+//NExA8QGS7AAdhoAOWcSFUBgX5q87kiGFhrWLEPTqWbF4J+LVE8ykQsjz7Mb7XM0/WUkkjjMTT77vr70MIK1/8QwMpr01mWAEBgfax2VROrnhrVOXsKA5b7zFRC3rK7//NExCESabK8AH4OlMXyszDva1CobRn6IJnR8dGy6D4Gl20UMH6XJ/R/t+19Ci6ua/////9NbrKARovLz0TFhreF//JAp/v823AYmne3u/QBTpKUkiIOD66zEyJwbg60//NExCoRSS68AJZacDMC6+6ys96BYW1TA3IUXm9XfkdT/o/////d9CpvOgBrLOkH2jK4hVghfOt69w2AGdV7khtgth5b3B2TwDRWa1o3hUJvGfqG5f7+WOb4/lYsZzbD//NExDcRiSq8AGvecASXcoBWiv/Ffzv/////9FVvRARC9RiOlluH7+AEDbPf7KBxSa17Ws5pb5xqRoBhGhvoCzCzOKzhGduSZqta5gPVFkEjhIa3pn9Xfn1SDq+eR/////NExEMRcTq8AG4acP//pc/Pyeg7ab3ViB+rdKYnCgJrf1cdinx42MEgR3gersNFxnx1II6zQa4qfGd5vdPzaz6SKq2s2b1VNr3tLGZBPJurZKNob3rVhUz8lAB6c8Zj//NExFARkTa8AHvecIZgAaeqvsCLLCYjnncQepLeu4GWXH7eECKBbvwyVe1PlMDqzcocufObZl+udcx7HGOgehILXWl0O0sWtP1qlWdavQATQBBf2sl6c8xSO17dW9MQ//NExFwRmTa4AHvYcAwxPZ0TvMm1lvcut2LeYDzXKfVLOMBGKP1sDahRgIGhKeBWErO1RV2p/kakiNaCSqAAu7A5CO7Fi/xIFTAEPHz4dnKba+J3PLKnR5e/daZshZiJ//NExGgP8Q6gAM5GcEPTyaARSugZkdnzhJ9Z8RtSKko8Dp5SJmUq8zNmrYwcjqqKRqigdahmacDs0eB3RqCAaOUWB+NvZdy6wa/hfoVpl2pFdn2QBQIEA2LuFiIEczqE//NExHsSYTaEAOZacDmepjBr+5hQJZBAgOuqEJwne+bA0Pgnop2dsSmFmHZosUiwHCk6jIpg1UJLku3FFgs4t9ykrFZPpySANo5W5+wFsAKpyjBMLX7demW9dO+TUUyh//NExIQSMR6IAN5ScJaZpOsa7N/o980l3p+vFn5MPUzz14iEkpGgCMrOhsjIxIuaEHoA0ANUaOpR/g/VTAemeBpFxeIfFDfJKwsgEwZdVL18nNjflmhSTXbTLLEAUUhO//NExI4RwSqIANvYcPy1L9zzYSUUNq302A4ELXmEC5oWmds0izCJDEBzbxCqBoYqLxQxV7GoGgqHoZqdhCg0vxUsQNR2qXM06mLMpIio5Ik7nHjwNNro+hUWBi46qpip//NExJoSOPqEANvScVHIxhh42NBIhCzICF3wEKo7K6buWlbM4MtlTtSKmtUs1LpUYSAQFhQRBpY06meUNt0X2W7yFjvb+rT///9CPSkIpAFbGdVAawcZ2BSiM5fhSS51//NExKQSUOpwAN4McN8TlLSuQFoQg6PDkaKhGJLgGgizYplFiohCKNoumg+pMUYOFz0GzU3k3bUPGu5F1CWlQjapO1j5RqudWm30i5iKhbOWaodFTcRUTwOlYR3eke2k//NExK0RKHpYAVswAGQ1Rs9799M9xPLS1R/wvcjX0BH3qC+EQQZVY25y/ElV4mBvv4j+iuWgLcGhRQPSAoIrw1AkxqOfqcU0jsfEwS1b4WOZ3YhMUtMu5DQveNGxuf/v//NExLsgStJAAZpAAcUpK1e+ZI6m87HKTtSWW9cu9uzd284kBveruLRTDD+f+8f3zW+0nO4f/M+559//+rdEcVNh4Nz9xd9IXJV7X9eZ/p6oocFBOWKkFat+lbiHIhjz//NExIwg0aKUAZrIAI0nulWlUrXaVkJJAZICAZOYkJBsgkc+a8BAYC2Iy6tVQoWa/tKygeCrplUUUAIqK6dp1loF20rX+ghNByaWz147mPJRHZy9TuHDVmWy9w22uzMf//NExFshyaqgAdnAAHfl+sa9Pz//Pm954frDPn5awyz5aqZbwsYvKOKJiDb//9WpXigqBGKGKLIHqstbjhDqVZ3WAFkpFl7IxYXDsRBgMO4TaOgJnDmaF9DDLStk2ayy//NExCYbKUaoAMZecP1CjPwHwHeXmMbgCwAjI94T8OcydQ0+nmbMBQKqNRSK3Wn5pphHR4KfcK/ESNb4lq8HWi0oaGAsdCwuCYhO4rd////0P5JVZczATJrhkghrdJkz//NExAwVcSqwAJYwcL33xVFa+UCLA0K768CZl/7iOtLjUujRpdvNO61TcbgzCBuTEmtf9Pnzu61XDfJye5QUsPX909WyJwLFHyMrW6FIdejdf////+upbRAWtQaITtpt//NExAkRsTK0AIYecEut82jPD3OsITpwzqFRj89x2hdb1kIWqq4giVp+Em9+dn+JFTfPb6/yqrWMHo++pXD68Wp6z0PRDKHlnrepW6ywDXoOcCaGG6rI0THekiYrrqBT//NExBUSeUKwAI4ecGf7WCx4tVqR1tt1uWxxhQ4Z42jTDdfxbGxBrjCr98Pd/TfjGKn/S0rW61rcb/ybraaa32fUv56j5hpb3SKZEyuaFFCbZZ2aAps6bBZTUu8zdTPm//NExB4R8TKkAMYScLkn5sCPZRKmdxYEs9gsaljYDb5A8/86O1Uxx9SOjvlrMWdbTEUrWy2SppHlL3QO5RiG+GP1hi6WuoBbjADiVmIpopxTuD/Dy31by5l7WNu+RB4c//NExCkR+SaIANZYcND0q65dp+S5Mzjl7Mh7euwW/lp7n8dV7IT3nnvqf9F9Z6WSI7NyduPSEReYYkCwI9gVBC+Jl+Ftnqo72bxmGAQ5MR1AtM+MxtjIiBQjdSrW6VlP//NExDQScQJ8AN6ecQpTL5zznDLiLDTznu/mpTb6OXgnND2kgSRumdBGr3n7gV3xAHu4598PxYvrd5Eq1WlJcdjlqNyEaS1DT0iENtS/JoGnvkiV1STnqFBc98jwvdlH//NExD0Q2Rp8AN5WcV5zmIPP6qp15ZcCwgbbdGBATIgoFGeWJtJKCkJHdGo+VmmP/E3waU6s26YQbF5ZG3SaVFI88aItWslNmoqsSwiQt4iJsUV4lxiS1Qer0Xq3ia7F//NExEwSOPJ8AN5ScUwJAhTJZmIwAs0ZeXHYgwXBUBBZ48RVhZyjcNyYTE03lhXKbs/Ku3mg59EwVarAaFYFdC6jbqyzD4odZ+LGxMF+46ycMC+Ttu4DRM1fSL5tjFSU//NExFYR+Q58AN5QcMrjzlQ4WFUFF8HIAxbGA2xvH8hsLWtYtaWW2d+YBkbMofOGxOJotLJs3G8xmOQUldbud3OvLHi1vxHMGITbV42sCQizOFw6mp1KwwA00tnLo69z//NExGERWPZ4AN5Scc9SMyekx+avRirlAuNtcufC9DaPJ1EjEnXJ5QpRiFVDJznvtcCED6w/IH7euMOAgGC6KOf/Wm+z5Cv0y5fnPQqlz8kFNHpST9aApxwkKXRsLbG1//NExG4WmQqEANYScOgFRw5YCDAXyyuAMjEyuw2AnJpoYX8DGESXqPskZblXVchxl4cUiA+yZK+jxpWeu2mDmU08ZrAWHLYE4AsLg0kH6nKK5eiGP1nmUcxqnq5qDxnP//NExGYg8vaQAMvUuVbQzbZjE9P///9T+ehh/tMSik72U8y812Pj+JwAxr/L7IAPjB1+hHXZdjUJJhIKPzpAQ3feaXNFEtKe1xczNam27qSy5Ba6reppruV+/BLzZTkc//NExDUeubacAM4elCIsNuoOR/aGT+B+f8KfcA7YucHbGhWcyt9sqyfHf6+Y9f92/zvXzD38PJaeI96z0rT//94LDypQODgKoEmAIOEmlSjFpAPuG1tBh6bmaaGOXE5o//NExA0V6TasAMYYcEdyJBJncn3YG40WcwyW9zJnFr9jXekwDeZbJUbsIJqYF5+ELmFdVacQO2hWtMBIPm7XHWKWD0Nid65c6s9OLPTlHKf//+ymtamfQlOgOsEeK7HB//NExAgSATKwAIvYcE16wp3ttgkmqFDBCB5mjLgee/km+/YsfNiQqmU5rMp1F9SARUWqa5NX1NrMHuWYQZlspRWufGkHnvmLp+F5yim1ZAoyQS4bwkUTVgJCN4n4TQwQ//NExBMVMVaoAHyelAjgZg1UP4LEfWURClUbSnULUhj+VazMYh6aUVs9Yx5a3z59euIt9dLbnkQMe2FDXPbsY8m6JCUlKnKdzn////20LtyAguhadg2kzsJm47yA/qnG//NExBERoUKsAJPWcEEkE7XRVnxnvCU21w8nqaPZl0IdXqDGsxAQWPuHSvEIGcZBMnVIa+B1snG5l6blVOvtskuimv8lQHLT4F/AxDG6l8bE5PPvRlFHPqUNGfxiBRK4//NExB0ROTawAHvScBo3+VEmaqJK1I+xdjYERmsJ66IXh0kLcLFJutTHPmHpJxZxatk5REn+8jQtujwrr9iv6GgV+tlCXy0VdACpYq2CLazRePG3XD85PCfScKzt5Wgw//NExCsR8TqsAMPYcIUaGDVX1+P+xk83cTOz7h/ktJb0afOCvLOth2itUioaoCMVXUCaHebW5Kvzsx1B2iu0IoWBJVNvU79JayfqxyIyYuMWKmsRO1YmXhjRFWwrZ5cb//NExDYSSSqoAI4ScI1capac2kQcF3Tv+6xjP/////Sq1/voFvw/G/fZf17KgYFRYXE9nUq5sxXrL601DQSYiBgGi5BR+wU0e1lPBJdRtf93m9/n213qEyWaRt/43/////NExD8RAS6gAVgwAP/+vXsob0Z+e0KcqZmPBDUac1xovYm5bBUXex4AGyEANIwJhAkAHsEgdRrRPAemI+rHjYlDznwaBNcQCAFQRUyaKTx2mz7odxqOx5WSCssHcmw6//NExE4gApqMAZlYANQG48PDDeqofZYffdsa6JnTuuZZfbZm/9v1fz8c///////////M+/qoXEpHvU12jQRrRIkoDqAsgQR+pgL4B2ENLioVbFhK5DkOZaW8FhZWV7Wz//NExCEQ8QJcAc8wATMzn/eZIzM1VfyRBQCl5mfRxKXBQUFG5BT/yCgr/hBQUd8KTZ1LDYTZ20SuU1pwOo5gRAoomizVRmgkgzBw1Ew1EiSMyL9s2OrqpcY4GPExK7TH//NExDAQmRYEAHjGcLnZ0evbFJtyaJrcVQYX0f3p4vUOQCnglJxJcXQnRKJyUxXl+cSAQCSdpmcajgYKz+ZRztJGf+8o7EsRFn8SuoxKCp3rBo9sg0/w7+WDvwa+SUxB//NExEAPcN3kAGGMcE1FMy4xMDBVVVVVVVVVVVVVVVVVVVVVVVVVVVVVVVVVVVVVVVVVVVVVVVVVVVVVVVVVVVVVVVVVVVVVVVVVVVVVVVVVVVVVVVVVVVVVTEFNRTMu//NExFUAAANIAAAAADEwMFVVVVVVVVVVVVVVVVVVVVVVVVVVVVVVVVVVVVVVVVVVVVVVVVVVVVVVVVVVVVVVVVVVVVVVVVVVVVVVVVVVVVVVVVVVVVVVVVVVTEFNRTMu//NExKgAAANIAAAAADEwMFVVVVVVVVVVVVVVVVVVVVVVVVVVVVVVVVVVVVVVVVVVVVVVVVVVVVVVVVVVVVVVVVVVVVVVVVVVVVVVVVVVVVVVVVVVVVVVVVVVTEFNRTMu//NExKwAAANIAAAAADEwMFVVVVVVVVVVVVVVVVVVVVVVVVVVVVVVVVVVVVVVVVVVVVVVVVVVVVVVVVVVVVVVVVVVVVVVVVVVVVVVVVVVVVVVVVVVVVVVVVVVTEFNRTMu//NExKwAAANIAAAAADEwMFVVVVVVVVVVVVVVVVVVVVVVVVVVVVVVVVVVVVVVVVVVVVVVVVVVVVVVVVVVVVVVVVVVVVVVVVVVVVVVVVVVVVVVVVVVVVVVVVVVTEFNRTMu//NExKwAAANIAAAAADEwMFVVVVVVVVVVVVVVVVVVVVVVVVVVVVVVVVVVVVVVVVVVVVVVVVVVVVVVVVVVVVVVVVVVVVVVVVVVVVVVVVVVVVVVVVVVVVVVVVVVTEFNRTMu//NExKwAAANIAAAAADEwMFVVVVVVVVVVVVVVVVVVVVVVVVVVVVVVVVVVVVVVVVVVVVVVVVVVVVVVVVVVVVVVVVVVVVVVVVVVVVVVVVVVVVVVVVVVVVVVVVVVTEFNRTMu//NExKwAAANIAAAAADEwMFVVVVVVVVVVVVVVVVVVVVVVVVVVVVVVVVVVVVVVVVVVVVVVVVVVVVVVVVVVVVVVVVVVVVVVVVVVVVVVVVVVVVVVVVVVVVVVVVVVTEFNRTMu//NExKwAAANIAAAAADEwMFVVVVVVVVVVVVVVVVVVVVVVVVVVVVVVVVVVVVVVVVVVVVVVVVVVVVVVVVVVVVVVVVVVVVVVVVVVVVVVVVVVVVVVVVVVVVVVVVVVTEFNRTMu//NExKwAAANIAAAAADEwMFVVVVVVVVVVVVVVVVVVVVVVVVVVVVVVVVVVVVVVVVVVVVVVVVVVVVVVVVVVVVVVVVVVVVVVVVVVVVVVVVVVVVVVVVVVVVVVVVVVTEFNRTMu//NExKwAAANIAAAAADEwMFVVVVVVVVVVVVVVVVVVVVVVVVVVVVVVVVVVVVVVVVVVVVVVVVVVVVVVVVVVVVVVVVVVVVVVVVVVVVVVVVVVVVVVVVVVVVVVVVVVTEFNRTMu//NExKwAAANIAAAAADEwMFVVVVVVVVVVVVVVVVVVVVVVVVVVVVVVVVVVVVVVVVVVVVVVVVVVVVVVVVVVVVVVVVVVVVVVVVVVVVVVVVVVVVVVVVVVVVVVVVVVBzg5wc4O//NExKwAAANIAAAAAHBzg5wc4OcMMJAGoEME0FwHoJwXA6ANitG3tQUYRtznvhBAjFYXBMEwTAGAMDYAAAAAAwCAIAgCAoFYrJ0aNGjRzYUQIEBAgQIEyZMmTJkyZNCI//NExKwAAANIAAAAAP3u7IECBAgQIECBMmTTu7u4z/xERdnkyZMmTJhBAgQIECBAgTJp3d3dxEREREJ3d3d3cRn/u7gwgQIECBAgTJkyZMmnYYAACjoGwEgbCMJRkZLq//NExKwAAANIAAAAAONHRkZGRkShSKRSSoWY+SqEhFIpBEEQRAKCQJAkCQJBoVCoVEKFDGMc////qUoxjGMYxjKUv/4xZmZmZmVf4zMqqqqqqzM3////+zMzMyqqqqqr//NExP8oGvHEAHpMuTMf/+qqqqrMzMzMyqpf8VVUBAQEBAQICAgICAgICAhVTEFNRTMuMTAwVVVVVVVVVVVVVVVVVVVVVVVVVVVVVVVVVVVVVVVVVVVVVVVVVVVVVVVV//NExLEfaxnIAGJGvVVVVVVVVVVVVVVVVVVVVVVVVVVVVVVVVVVVVVVVVVVVVVVVVVVVVVVVVVVVVVVVVVVVVVVVVVVVVVVVVVVVVVVVVVVVVVVVVVVVVVVVVVVVVVVV//NExIYAAANIAAAAAFVVVVVVVVVVVVVVVVVVVVVVVVVVVVVVVVVVVVVVVVVVVVVVVVVVVVVVVVVVVVVVVVVVVVVVVVVVVVVVVVVVVVVVVVVVVVVVVVVVVVVVVVVVVVVV//NExAAQoZG4AAhGlJiQwGJIYDIxJjAf2//////rEaPCI0dLFN0sIy//spkX+ZGQgHG0GXZg0BBYNgQW8BiocAYR0P6iYDFTeKoGszZmKoUDndp9SCkf831AE87ywjPP//NExBARaC4IAUUYAfo/vh/xwyp14H4Yf7z+4DxHR+vzsA+AET8/9xnPPSfh/Ef/wA+lP9j4/2wpD37e///9Xw3nmpn4GEf5NC2b1DHGfAWr9bsplVx8emExRzDT2ME4//NExB0Xac5sAY84AOIX+2cNBhh0KCt/igSBIGhAcHxkAEbuC/+XIXmQcAXUfEYif/3jRndXYUKotCImZ+/sQGQAKAiDH//lHkx6QcD9aSwnqfeguXRQ8QC6Pm/31Ym///NExBIVEV6IAcxIAGfPzMr+/8u9/qO77/r/up2KMri6gHDhRmf7EkBkfLGHLv893oAXBO42wCuPuFkDKYQWpY97wYW+lQuzpt7r6NnqctVEjrWZp7I2I0ZdI+Lcjuag//NExBAUAU6QAEiYlOS3stnpQnz8+dylud3tq2SD8Dbzih1s4gaJiJGcZ22WcUDAAEZM9Mw8fOSYRnBty0G1qn6cxCzmCCHtVsv+neif/HObCqzmtUco6/at7bv5Dg87//NExBMUoV6cAMCSlIB3I1m/o830vn/rZ7SCkFaUGCULB9psQMCtJsUk8CEUIXrZTHSMHFzZIuGUHVm7b/FbLh30FLPMva/XdxhxYfXDn/dEQ5naVqOxVayaXBQq6rtO//NExBMWUaKkAMlYlBp+gT+MHeNA9LzjuZnsnJaTo4betZAgvVF1iMf4yypiHg6ERSzWryf96f6lcm15g2/44wAgWL2///4BJtVpqIpFymxZaLoV5/8+UkGML1TcnxHs//NExAwU4cKsAMlelFaU46rBH9X+/xEf5Rf/8LO/vypy9YVqokIwqKby9QhwkphuuWCJemqMTJrOd1YIn3msVn1XxrMmPf7tE///+0XOrt0/xiyRlefv8YkBLJVz9S0R//NExAsS6a6wAMnelJBvotsRegKEPt+3qOk/Uh/+IT/Ofp8aR4Zr7zERCtGmYi6zy2j7kXc+v92iW//hwPn4hOMf/vnziReAf///u6xy5/6zpENh4i3ugsS4VsT4K+JA//NExBIQabK4AMlWlTv5ifcn0+h/+0jRlb2gdKiYxZIPxDjsONqR5Hg7xTaa9/uc17OWnbj4SXNFmbjwRef39XRwEa0/cxlMkJA+YEh+caCb+jfQg/Q49/RQr9w9Ek8z//NExCMRca60AMnWlSWO0DoJZD1bWrjtL15YbDcPb+mbYZ/7Xzy1pxl7HONS99BV5/P1XjAlrLKS/f2n8cKIHFmzhwD/RviQt9DCn5JJ+GdglBsGldLJkgf453AhDwWM//NExDAQyba0AMlWlIi4PV/7Yqv3N+9p08c4XcpDfoQqPJvx8A847EiMRMCYAyXE9GupAsDNFT580b/RU83696Xb/nTgq1c82JRHN9SgyFT8q34RTdnetayRAFgEHCop//NExD8RES60AJzScP/////66jdrTA6B2COeRcm7DvAxaEKLR5N5w4XhN5VanYiiH0ylEBqlNnAED/P/BEnQeY+eWLZWPrvfTrTIaUE6/WxiSGFD/+qp3HDXvAIomzz7//NExE0QwRKwAJ0YcMl+uqiEikAccjdvDGLqxU3f12giFN+e3KgFy6tXxKCeqOy8P8U9L9axXWsGD02iIiMNOmXr/q///////+re/3ZtCJA7C3kqSKL0oVOnjWF0qPuF//NExF0RwP6sAM5YcPeBCTjZ/D6RmHdd5k3ABYdF4EzDBTIYSOzXMicOVh1NCgq929wJSin/9X//////t/Fvorn5/nEBzgiMi92JWBCAmIybprhnrlx/BQMYNR/lWpFj//NExGkSMPKkAM6ecLa8/Vcn4RpQ4jxjkNMDUDqj4loyM7je95mdDFFPYDlez/v/////+r/3/XWi7r60An3qJNrtNHhGpAFYvm/mf6X0NDeb/k2nXPXu9+PubKZ2zEZS//NExHMSmO6gAM7ecKXhDYFoL9mJtyta3n2A2bUNnP8JvSJP/3//////Wb//NMQqpM8c6R2z0VRblGoyysSDQHioGOc7FeZEIiRBM9YywshwBXw3d7AKrLVWrZiIUlb+//NExHsSiPagAMawcDWrdzFGDDHW5qPtSys1sr7wTgKDgkiKqzlYkEhxfd////0lBDFbjieyaF31m7NrPU21QwdBJCbrzFKKlDw3UgpRS54CmQVyrlh2UL3gbmPafF2c//NExIMXQPaYAM7ycKt3un1HryuMbrSp1mSLegdGIQ2NDaJ8FeQkVHDQYowZfSaswb6HrLqat6RosLKJnP3f//9cTxjEddQufLohet5//Z0AvJyT9eOTkDmYmM2hMrwz//NExHkZIYKcANYalGYmcFsWx7hm3FSdf9Y1l4l88kPDWPSPNnjNjMrRPULj0x9qZk366blUySWfyp07lRrEfG4nODk4SWaWErQqZQwhWlBG///9XQ5FdywfUwe8B0L1//NExGcZOTakAMaecCwaTCgE0SgYyoZ0GlLHK9WDCVRb9jn/jAMD/3D7HBve204uh/sxxMmKOembPRf/fqHXaa+vK7kEazbhWnXIQyWSATVDf///+hnsdmbiqi+2pYQ3//NExFUT2SawAJ5YcAYZaTF1YQRfB3sjiuqtgdIYvlZxxwm2213LHpIj3sOFuQ6Cmz7bxCjf//MXecWtLeutQcXm2KukvRLY8RNEV/a3////07SO2iqeyw3kKHHpODra//NExFgTUSKsAJ5ecA04SAkz3jU1B4LzS23qVMCZdV+mu9lV/WNa6H4AIhj0lR4egHxDU6rb8/3xe3a13LVDzTv6NasSh3f+7/////6qDgdoKVKKSAUzeiN9VgcdTC/U//NExF0SoR6YAM5WcBMX/OkyGwsNs02xFpT9rpewAxohQkqYpZwiRJkLMk0KneHQ7nb6UytRnqT9/VQrv9UMkyYWQ9aSqejkxN9z5DCkJVC1z+rKnUZyKMVvVCigWZBI//NExGUQuKZgAN4STJs/t5TZbSJgBNNS4Sk+8uhFb872WrexahVfuH18h0pfDQF2GEb4CapjKfPVTBa5Yr680bUbcDfmxtUegkJmj0PrD9QecoINoL2Mdc1jVvhpuC9d//NExHUQKJZMAMMGTJ3J9F8VT/bwk9t5z9Vik+WrSqKCTQE70DGAKMDcHGr/snqJbEQj5YFADsA+xEDDNeIUGQTHMJw2FCAHE+QQ8RQxIOI8LBwwK/40B1i4x4L5uZGR//NExIcQOJJIAU8QADZPkPR/06kGWaoMqYpf95fegt5QcgSReRNUC7//QN1IOYGjsmg7nU1pUWqQ//+/T0C4aHC4hrRSWX20lKMw5ce4UxYQNItBViL6p+B5hhhGGAhs//NExJkhIyKEAZmYAZHGQeZYyeawzpDlACxeJpzdBAEsWFQKyEGjbs71eBX4Gjpgw5Cy/6JSCrRnfL2JcPfVxhilps61yMXbNyISyfpt160CQ9yzqX2NZ595/cMf//7z//NExGcgmaKkAdnAAFzD+75Uzyy/djZ4ohdB9TbP//8u7WiNeZJmMyrqBpEnKR8NEGylmAEkDmZtSn2BorD5Sj+AaXGK5C7pWsqLJuLi7obhYVdehPC+rmsdPsU+Nbdv//NExDcUKTK4AIvecGvhwt+7JDe1YHCO9q/nmhAcQ6U9OSYITHi937VDmQG6PwYbR9vAp+tnSK3qazuLSzG8Hdd2YRvSOdbCA0v1xPEVgjj9sbyfkyUTk8SRw2gv3z17//NExDkUOS60AH4ecCPHsK2oEHXpKxRpIEz6sSYCmHJ/14v10G0gFlHJgNifxhU9/W4Y73EFwvdFZuPhkYdqww4saq1j7FtPHvyRqF69L+SE8aw2OLrXnr7xnusQIUb4//NExDsSkTa4AIYecGCHFgQJI2MQETPP+BROimr/t4B1P8oeY1bRBfvO7YFl+lkQNb1BpIKE4UiWjrZaT5W4w2FsVWJS/l5jZb16Nm7+LvO4ufeNrXw9mjx428w48XMO//NExEMRwTa4AH4ecK/7rpV2c8C4S050LUs0si0x2AJmf3Gvq0oQsLnEhQEJibiDBcJI6vPGFk9zazGYB+63iJPnN3H/Dz/K7m9WNVZpRw3rEm1E4moofdZTTWrD8Ai0//NExE8SaT6wAJvecJagNC3ZVlb8lQodz1EY17gjMO78JY5a0Zg5j60AirMiDjHjULAWzzMbnrH9uezpkvHA7KJco1oGrilFe+yHqKX/wgMSVb1tSvDDaT8V7kexj521//NExFgRMTqwAGvacBB/LYJZClqFCVGMJFqrmo9WbWL6qtRDuK+4nCRkcRKMJyysVGFoIZqA97luW3w1TRElat5spQGhx/IJXGRkretMQo4vwQKJ5GYmlqn8pY/Qx1fn//NExGYRWU6wAMPOlECtq0KwvtUpAaPMlLnfaL5ZcmanL9KJj+OWnmCVFy2Q3L39baoKDudqJDQrHEDua0zw9RuYiPwv1RTyihgayLFiuCqW9c+XUvqgIcKc3y03GeIC//NExHMQaSq0AHvYcPXau1eAuM28Fkh6mSD+D2ube8zS1W5RyiVVw5eh8TGhd6PihrmWJKQPIl0VO2EijaxgFXFLyqz2QYV4Bvc1SOX0Qu+wvZFQCsyaVDnbIRJj0iP2//NExIQSkT6oAMPecKgreE3Fowx3WApUA0tnbEFVKp+n6WAZyDza07DxQ8CkkgTkNYonjbS1LVovfZkDAnZn8HpU9Yxj7SZ7lmvsTO6x25R2ykdVETN0xYKQ2hITucBF//NExIwSiTKgAM4ScLnA1XErtAtDqk1u0vbEQBJwJuiw8qP4kLBpgMCwcHmrgDWW2l0xG2ox90Z9dbsylYVu0ohq+2eDrGhAKFFAiKVLWo549nZFJTkqr+mdkWVXjYjD//NExJQSqSaMANZMcO+ygpzA3CwlVvL/mRioNUkwCCFOgEKnGhxMLyaKP5IZXXRtRqcd9oys6MTdtJSbltpDJ9Uys6bKy23JvWSVNsmXxxql65PWwWAQpL0VCD+aVhrL//NExJwRwQ54AN5McQucYPLHbBYqKLVHQge4r7unCk193aRxd0MNvSy6C7DjP95kRE9KlZfwqLNY/LZUTQaz36ImNMh4ogU//////+pNRSpngNKz9tZDFuI8GGCxhRyG//NExKgScOpsAObScRAKNBpiUJjSuvSBnjxy+lgh8YbmGvvXDeM+5MCeyZAWEAKBwgFJljfbQUeAsi5XJEGjpEOgidLmnSG7/////WpuLuqlQCnArZnQcRD67RGBiIJL//NExLESwPJsAN5ScL5cQBSQNh+XS2BoCbjAUEM0eOI40dA/3YrBdEaNNABbJThYZArBAYpCiZ6kkTaTfiyKlBGkBKe2TTsp+SpcsMRZJU5dBZZS4rZQKJOKKsSeQ6fW//NExLkUmO5kAN4McOFDUK8LcS5vUMlH0Ga2cVQpoSxMIgBIyVLETUcWk8iEgKIlgqAg6oBCXiIfW/+4rSRFijEhDBOlZJUqgCjArPTciRIo/9mAhVDMdJmMKDQVOkhM//NExLkT4PJkAN4ScAU6s6sNKPQVUDSnHiPBoSldwl1hoReIbL/g0t386r1P5XoUBQRCwKgsB4OAuCgjGzhUsdOFyhdNJVYGCDhA4MEFBAwQcIDBioqIwiLCws0X/8WF//NExLwRaNJYAMPScIWFRUVFRQWFhYWFRUVFRT///8WVTEFNRTMuMTAwVVVVVVVVVVVVVVVVVVVVVVVVVVVVVVVVVVVVVVVVVVVVVVVVVVVVVVVVVVVVVVVVTEFNRTMu//NExMkRwJHsAHpGTDEwMFVVVVVVVVVVVVVVVVVVVVVVVVVVVVVVVVVVVVVVVVVVVVVVVVVVVVVVVVVVVVVVVVVVVVVVVVVVVVVVVVVVVVVVVVVVVVVVVVVVTEFNRTMu//NExNUQkJUEAEpETDEwMFVVVVVVVVVVVVVVVVVVVVVVVVVVVVVVVVVVVVVVVVVVVVVVVVVVVVVVVVVVVVVVVVVVVVVVVVVVVVVVVVVVVVVVVVVVVVVVVVVVTEFNRTMu//NExKwAAANIAAAAADEwMFVVVVVVVVVVVVVVVVVVVVVVVVVVVVVVVVVVVVVVVVVVVVVVVVVVVVVVVVVVVVVVVVVVVVVVVVVVVVVVVVVVVVVVVVVVVVVVVVVVTEFNRTMu//NExKwAAANIAAAAADEwMFVVVVVVVVVVVVVVVVVVVVVVVVVVVVVVVVVVVVVVVVVVVVVVVVVVVVVVVVVVVVVVVVVVVVVVVVVVVVVVVVVVVVVVVVVVVVVVVVVVTEFNRTMu//NExKwAAANIAAAAADEwMFVVVVVVVVVVVVVVVVVVVVVVVVVVVVVVVVVVVVVVVVVVVVVVVVVVVVVVVVVVVVVVVVVVVVVVVVVVVVVVVVVVVVVVVVVVVVVVVVVVTEFNRTMu//NExKwAAANIAAAAADEwMFVVVVVVVVVVVVVVVVVVVVVVVVVVVVVVVVVVVVVVVVVVVVVVVVVVVVVVVVVVVVVVVVVVVVVVVVVVVVVVVVVVVVVVVVVVVVVVVVVVTEFNRTMu//NExKwAAANIAAAAADEwMFVVVVVVVVVVVVVVVVVVVVVVVVVVVVVVVVVVVVVVVVVVVVVVVVVVVVVVVVVVVVVVVVVVVVVVVVVVVVVVVVVVVVVVVVVVVVVVVVVVVVVVVVVV//NExKwAAANIAAAAAFVVVVVVVVVVVVVVVVVVVVVVVVVVVVVVVVVVVVVVVVVVVVVVVVVVVVVVVVVVVVVVVVVVVVVVVVVVVVVVVVVVVVVVVVVVVVVVVVVVVVVVVVVVVVVV//NExKwAAANIAAAAAFVVVVVVVVVVVVVVVVVVVVVVVVVVVVVVVVVVVVVVVVVVVVVVVVVVVVVVVVVVVVVVVVVVVVVVVVVVVVVVVVVVVVVVVVVVVVVVVVVVVVVVVVVVVVVV//NExAAQqD1UAUMQAHfiAAAjgAAQcDFvqOCc+HxAcB8u+XeD8EAxxA4EFn/B94fKHNYfKHP4IHAQWH/8oGCjgf/4PhYHxwIHNQIBEEC4fKL/mJ1mhl4//F4uAtZwGH/U//NExBAVgwJQAZpoAbA8EivNHQCciyJX2ew2qHuV/u+JOJ2B6DIJT/9M3QJcdhZ//k8e5vZND//+gcHIszTSOf///sp06rOv/////1uXF9PSIw8s6HEVKzVfF0mpkCRc//NExA0VESKAAZpIAGipIWAIYbShcDDtGnlBCIEtOwVs+wiTKRjBBdsQXW027TSSUScJGV0LJArD+62G5vxF7+ddmk5cEbKy63wQN1Cxj//////6anCl7vNWUTPQJTGA//NExAsUoMZ4AdtIABQAjQCQghlYsmcrcw9WZ25mMWrkq+lqYWtzrIS/uKrB1l6FA2EDKpCwdEpgD3pFHDWhEADjGkpdvYVOiUydKabG/3/+3/2eqqB94cYear57ApwO//NExAsT8a6EAMoElJvHuzJpXjKg2eMsjHM5iVQu7pWl8UQRUJLduzarrQjGc9iMoRkEM6J2ybEqtO3OrkEMsPhic3damH/ECz+Un/y59ncnotWa8Mjgzm1UcFQK3Exl//NExA4UUS6kAMPMcAMs43MfBeDnW48JDHD2yxs8sTUNn29sFp/eYQ+UIIAAgiDj0ULfXvx1tuRzCE8/2tsV17XQ8tPZ/1f/74fqXdxhxYfqs/+k7Sz1PN9mxcifWXZo//NExA8U2Ua4AMYWcEZUVK/ZREmSXu6mYlf5+MMWPYO0Hd+PRquzHoC4g2SaikCYT9qBXf5Pe/zpPdTWjrXrs5tWfsz8m6JzaD/////1X2VddfMQRKgbJFICNDg5l7cQ//NExA4ScTrEAJYYcHRk9uf1L3U7+4i4+evrUaiZ+R3vOLj48pO0A+rnD4eix1rHVfmrKY8pllzl7dAf8kKE4qmx8SDVGZc5rdf5kEOVE+qmEN8rMs4BWImTbzEORFjS//NExBcSMULIAHwScUZMk0e0RDXh1Rgxl2IQuT70IHK7UJISfaWRRYv6hf+shaJGLIWG38a81l8qrUx+USTFbrBhEg+kBYd6+kUBiHnGri4iyEa+XqVj49iEEG99IkLf//NExCEQuT7IAGvScY2kG5zkIg0LQuXSRz8ooXwu0Kk0FytzexW/5i/4fOMWBYZu4gIDIPahJgw8X/9uCXubzf40Dd9Z/qs4V7Xw4KQbnvkWDc4dUEQWEn5YhQI9/itG//NExDERQTLEAG4ScBOKFhGj2VoZMBEJH9j/MSIbQ/rp+gAUps1RJqwjR6m87VMVoqf34612R7/G4/1W2+CSCAyvKRAgMFjNpJIRf82Jy3DCoklBziTVJa0AEhU/ujKh//NExD8QiSa8AG4WcOKU9FXXd9qXRVUxjSXc2tFI8xGKC5LwxZvMdbzp2+5vWFSAr7+Ya6QvFM9qFjWHmoe5Fr3pjLdq+84YFDfNseF/16n0N+j/////Uvxx5TQCBmMF//NExE8RqSK0AMZecLOOUMmGaA0n1sRl6FbRYBasatcrRh7Idw3hQyV1eu5C/JByZWJiQZS6xv0pmSBeVd5exoTbGOGnmP+/6v//////Tef3WK2CrV1LdqQsqAcJNVO5//NExFsSaQKwAMZecNTrIAcbO5ay60ucyy3EGcPNnUwjF8Mq/tXDKYbWcz3hSRCR95yvHxR4AB3/////////1dTees6jtk+TT6mEvhs8MR/Yfxj1MwNcE/+VyIJxy/vc//NExGQROOakAMZwcB6gwG/fKe1JjBVe8NWeZOlAk/rdvreTH63VqXnW////////+30ydTMhrc/9NlOZKIb7klqY5AmIADL6tPgz0ui+dj61NHk16LeqaOpLFgdbai5A//NExHIR+OqgAM6wcBcF+ccSsRmL8hEStGJVoY4XcPPrZ/6P///////3/Wqiz5hXcA9+F0T9PEIkMCJyReRAUCZ27idxkoWs/neWlyK8vd7uOMHeyrZlNy+BlIiVL+PY//NExH0SGN6gAM7ecHmSQ5z8pU/S969P+G5RLLD1Cd8WdLtWsMOkP////9Zvq/pNBgxV33H8oiQm5EmS+bbA+qfhiNAyCBbnaC+YJC238v4WICHCwvO7/Yihi28v+ktM//NExIcWSP6cAMbwcDQY1f9DSZbfZacj+plehlwJN9/8oadeX/nSUgwpjORGACEXRVowIM/LRT3VVP+nrI3/////7yIVqLVWJffsiWMwM4vM2upSXWDRCDnFRNGpkBCs//NExIAcmvacAN4EuRiGft0vzA7Yb/zW8LDR3Wvdv71K1Co33tza81NqWpe1sRyV1bKKCS6YfBJGZw80zXJAWf+6Jr/4/iOr/dSEMYcijRaNDgPKN//+FZOoVRmxdSlm//NExGAYwaqkAKYWlIuiBaff53I6F1ZEdsWLj6MBMrcRoi35byGbCwq/6/bKc8dcylDqSKavbzp1W56nu/0FpFuojEprJHyRxNrC8sjotE/07/MrNRCAOuYW4iEtn/////NExFAU2aKkANYOlLv8UTWfp5VO0zvHGImEDtInH9QlGEgnaihjVr3L/vDEHKX5exVEp/Nq0fLj69XS6BFAXDwdLLcLnc8GlA0S/ZndR4jY3//////+SQg+po5CCZiR//NExE8RsK6UANaYTItccf8d1cChUAr8L/IPGVw8JpL8ONWbiwWQB+yJyPZrMJWAcRSkJA0LgIChpbDLewDFeSkv0e//rR+lDHMIU0ZhrnuDFJabwXEI0TKUni6sTPod//NExFsQsKJcANYMTIj7CfHCBYRNWKsSades/mHkjcqsfO6E7Xxjm9CG61G0tdS2gjb9/o7/SlWAaKWLZ2ivrConV1Xxq45Wb125hhhcy1ewr3y6l5BTiU0GgKJTxs0x//NExGsQaIpMAHpGTE9DqAun0i7aVbWXKFXG56Msx/+79Xan0impFYTXa8GAKCGB5fvMTZWfgxvPd9uEtOZwFQNYfZFiyAO4XTDGbcbJFzAiQgIOAi4ZY+VEy4tQXCBh//NExHwQ2KpEAVgYAERIOf/PoF8xN1Fwvl8mikRb+ouIl02NDyToudSPf8vm543NFJu65OlkzQTSQ//W7tQQZnQOMk7rUq9Sv//RdTIIUFu1NWkzrMlp0U00Ez6zllKq//NExIshuyqQAZmQADA0TJc60qIFB0EtqiioCrCBIBwdB5pzjCJQFUqxS6USkTUbyWftwZgtrxDkSkRBR9Hk1qgHIEFFhndqRGOWa0V7NFzeSC+h4jp9XIbidqcFRPm///NExFcdGaKsAdl4AH+t03vXzfO8//daXzua2axwcXZ////ooaKGd8g1VWbLgLpVOIohboy35CgGLCpHLuANGkzMZpgE7XHgKQVxT0w2D7JkqswznNLvoikQxatalI+8//NExDUTsS7AAIPecObvJ7fcOmb1b4VrVxMFJn7kaough/////+p8NEFKqSRIABNLW8EgHpWL6N8hD+aSOAAAEJ63qcQNGwm8fYsU72ASgnMV61E8IM10up27dvlni1y//NExDkU2Sa4AIPecP53r3DyC+fWeQYT0FxCAVJea2b0GjBlydZJaugDiHg6jgK+NvKnGtj5PwXFU2bByApTJfRypDVKrKkB1x1sC4LH0ZLBMHhGUOFwm16WIXvm/TPX//NExDgRYSq8AGvYcHrX9Y89926nQTAP/qja8Q4on1iyHGU0LFhfVhRCXwNwTjL+unpdBJguoDCnxalqAqS+k1ZeSs+Z4kjEbqzVnY3tPEktv4tZ/iLFqwZpvxKRUFQm//NExEUSGS64AGvecFLN/XVqJwLCXymGhG2UTbeeQA2/G2HAjvwUBJXsaAGoVUm1IGi9hLohr6A+UgaMG0JCI1Mdlr6Pa67f/6MbqbbH/WmZhoWk967zk+bKKuUwD42r//NExE8SSTq0AIPecA9sWJaWhEYvgmuqtYOweNeiQMUGkx7FLTpMW5lo4l2iZlSYmTLWU83Vb1Zq5ljWz871lvfPvhx3FzFjRuQreoSvbZFWqqrLnbxOGi+6QBkGHWwL//NExFgSoTq0AIPecIdXoFzDxZLoCNzBBKRoFgoOsZFNltmQeNIOiWMbkylSG1SQimaHWtQJ+ZCCTbCamTC3G/GMep9khLS7lf/ceCF2sck5Iz3Y2Da+uE3ExkNeXVuD//NExGASOU6wAMPQlFX14I5t40QTe9ROhtXAiyCRxF8/CedvHWZrEc7A7PYPd5vRGoWman3T8nUqeofwaxjMAwMMVaxBmum5QVEfPRiDpeAPHz1HL/iYM680H3TUOdtX//NExGoQiS6wAMPYcERorxDzHlUrksWN9quMnM7TeZsu79Z9oKS0sxZCQWjWecwak4Z3hkrFsdMKDxz3xxQ+mr6X01PLKge/DHUeo+dEGv7FOf3LKXCuL7oalapK9uyW//NExHoRgUKsAIPYcHDGQzNbGG49V3W6iVllOOz1FaPruJ6HXsrihTkMps3Q1ProSIONiG7Nx0d3odghwnnuz1JnjZlUaxjJ97bjVuNL6B0PmY5hCD4eHNkmlCwjXRSy//NExIcRWTakAMYScG5WV6g0d1qPRBLYBAZziEGPIJACy5lRIdKZiS6IxQ4QAcqRfyyM5N6s96oWiYyVtn5ijO4TGnfbK/4CsB0Q6rMes9K8chNpmJsWbk5N3YJVj8zA//NExJQR6TKQAM5QcMokcHeuq76X5iV8JLQOB0iwMPMvUIhXJ1faG1SWNjCA0NyumTkWLQuu2BXjXiyELm3VpzVqt0YoNVQpzWRQepsLoSsYhWYS1TVbxoaRIAJhoBhV//NExJ8SCOp4AN5McZxjUbIS0mgIXN5TgadsuyruVw1AaPs/izlmTJM31g6ZkM24KJAZU/qMqYx2hR1v9W1532eVZLA0CAQFnB6WAjS7qjoiZRtgKv8DgEGRGN8UJNNf//NExKkR4PJ0AN6ScLeiNUD3SlO5g8Hu7fhyekGM/goRkQtAmSHnB4eVRoGjFqoW3liZi26bmtHrNl2Y1uzb////5HrVRITWa6MlJ0y4Z+CqdCIGMfYDLhlAQliK+Klm//NExLQQwN5sAOaMcZUobihWjqZi5trMh6fYl3pJUqXIQeQrCJkkk0XIER9KdKmVNZxmLGvAKgSD4WBh/RG2/////6vWla0lxA4gRovk1tHHgFccVM3QsGimWRyjNyr1//NExMQVUP5gAOZScKOmObyWa2+r6Ks2WcTKAYB0JLECQJD3Wlck8LPjzr5vzy9qOjXuuf//TVKK6FaAzANQcImKErxBVAggBQ0A0zU5MmxJREo/PbFV45JKk6Mn5oiN//NExMEUuOpkANvScCpLRVwqJsImrQwa8lmlWYS95cckiaVZkAgKdBoKHiWvWgzSGjeR5CT2Ps6WwJBk0eyRaJsBQkQKqyccSGcJAsHo8AgkGgqEoqMApA9wkBQESZQR//NExMERKR5kAMPMcAknrItCvUhj/Hp+MT9o/7P01UxBTUUzLjEwMFVVVVVVVVVVVVVVVVVVVVVVVVVVVVVVVVVVVVVVVVVVVVVVVVVVVVVVVVVVVVVVVVVVTEFNRTMu//NExM8SaSI8AHsScDEwMFVVVVVVVVVVVVVVVVVVVVVVVVVVVVVVVVVVVVVVVVVVVVVVVVVVVVVVVVVVVVVVVVVVVVVVVVVVVVVVVVVVVVVVVVVVVVVVVVVVTEFNRTMu//NExNgQyInMAHmGTDEwMFVVVVVVVVVVVVVVVVVVVVVVVVVVVVVVVVVVVVVVVVVVVVVVVVVVVVVVVVVVVVVVVVVVVVVVVVVVVVVVVVVVVVVVVVVVVVVVVVVVTEFNRTMu//NExKwAAANIAAAAADEwMFVVVVVVVVVVVVVVVVVVVVVVVVVVVVVVVVVVVVVVVVVVVVVVVVVVVVVVVVVVVVVVVVVVVVVVVVVVVVVVVVVVVVVVVVVVVVVVVVVVTEFNRTMu//NExKwAAANIAAAAADEwMFVVVVVVVVVVVVVVVVVVVVVVVVVVVVVVVVVVVVVVVVVVVVVVVVVVVVVVVVVVVVVVVVVVVVVVVVVVVVVVVVVVVVVVVVVVVVVVVVVVTEFNRTMu//NExKwAAANIAAAAADEwMFVVVVVVVVVVVVVVVVVVVVVVVVVVVVVVVVVVVVVVVVVVVVVVVVVVVVVVVVVVVVVVVVVVVVVVVVVVVVVVVVVVVVVVVVVVVVVVVVVVTEFNRTMu//NExKwAAANIAAAAADEwMFVVVVVVVVVVVVVVVVVVVVVVVVVVVVVVVVVVVVVVVVVVVVVVVVVVVVVVVVVVVVVVVVVVVVVVVVVVVVVVVVVVVVVVVVVVVVVVVVVVfUEjAS0r//NExKwAAANIAAAAANy1M1B2vuWqRdE6/8v+VuXFy5PtkYJitGKwQJECBBk9gjnaMVitHNGgyfhi6NuGXOc5z3/+YGBgYGAAAhECJ/EJ//iIiIW7/6IVcWe7u6F/6Ifu//NExKwAAANIAAAAAOfuhf3/6fuf/13frufu7iAxLvU5TsTvD6oEPDMhUwGc0tImDo+XNLxPO/LIkHmTTMcWGCkvCM2eoQlPnP1gMlWtCEJXeciSpTH2rYVtDqNlbjTK//NExKwAAANIAAAAANW9M9O2XWtqkzdAUAhV2gqiUAmjExhV6sWNVhqSkGFVS+r/GbbVS9SUSupQ6aqVCr1mqhQEkdCGxQXE3sJMlRFWAUFVmkobxMTANM8DyDIWKlSh//NExP8cSrHsAMJGuHABYzu9QsSAoqLCwt0AUVFhaLC4qKioqLCQ10hIWFRUVFRQWFhYWFRUz//WK8WF2f+sVFmmvFhaTEFNRTMuMTAwqqqqqqqqqqqqqqqqqqqqqqqq//NExOAf4n3oAMMGuaqqqqqqqqqqqqqqqqqqqqqqqqqqqqqqqqqqqqqqqqqqqqqqqqqqqqqqqqqqqqqqqqqqqqqqqqqqqqqqqqqqqqqqqqqqqqqqqqqqqqqqqqqqqqqq//NExLMRMEFEAHpEJKqqqqqqqqqqqqqqqqqqqqqqqqqqqqqqqqqqqqqqqqqqqqqqqqqqqqqqqqqqqqqqqqqqqqqqqqqqqqqqqqqqqqqqqqqqqqqqqqqqqqqqqqqqqqqq//NExAARoDYEAUMQAEREROuAAAhAQOFAQBAEAQB8HwfP8uD4IAg75cEHfE4Pggc/ggGP/+XBB3rB8HwQBAEAQM4Pg+CAIAgCAJg+D4Pg+CAIAgGF00iBAONAvhygz+X8//NExAwUQeKgAZBoADl+mm4VYA0Hvp5qSCjb+mo0J5MGKHELP88Xz6amAnSofBPxoE9/lwuGjdMRskS6cTb//7ss3JhmnSMv/zIM///8B1mkk+futaRXq2atNNpIZ1oa//NExA4SuT7AAdhIAZcMHaHNzMtrLr7jjZA9v+Umcj1XG/LqihubNDRJAPniEGGMamhbu4wfLYqnIM002ZmBEl/YdxJjlTaZa1JmsZhmBV1nR0AKjQZ790Q98lvctkBo//NExBYXAUa4AJYecBLH/HW6UX80iodPqxdlRr4hHNNurchw/HmtNR3zx71YV5ztrSdcr3plZVbvFG5vjnAabLDEgybYUDgTCGhi30u////9dOpucBriKayOANAjReR4//NExA0T6a7AAIxWlRHCf0EotQr5XUtZRFgQ0hyjNeopkUaoui5Rxr3koUR/raSSg4z0h/7ySO0uhkJDqLNnt/4tke6b74Z+55zpNf/WesVusAdB5QpHSwJhAm8I6hxF//NExBAVaT68AG4YcLdfLdaJNS5++VojP/NhyHT6TrJNJ98+oqHRyC0Qkv7srkNjrVWrDNfZkkr1kXNPXOLMFKmrFgsDwdCIPBQdwoRd/////1JHUYibgGxqsWSJAe8i//NExA0RmR60AJzYcDxFjos0fIt2pyGjx1GRDmnLF4BSB85ZsI9noBKOd2vsnsdaSylfy1q0PsEICNIUEsfQGnlSzRyn/VW53D7CAAPea7yu/rYiTABKoZmElJ/Lllt9//NExBkSSQaUAMvScNYUbXhXVukXm0VUayQDAaIzSHI+W/3BE9WpJhVFKKBq8NdNaoiKnb3f///+j/26NSqNNWCkgCYD0hLO/mRIBSjvkWOu066mEiGBUPEBVBwgbUs4//NExCISmFaMAHvQJHDQuLpnURRfJRVsaNVa0kcPhOZ29ilNr2BFZA4PHQWjwfS8gEGkBYN1KHGFQDwnKe7if/8+WUrX/58lvJpYKTrS6MttNs9fP/qp6US1Sr2vPpt6//NExCoRAvKMAEBEuRURCq7HsdqaHO1aqe9ll2bSjIyK54uPQqIYXYRhFHIQLTCEbv9orbsJkn+5+3Q4t6sc+fg74/H/G+buFta75I1rw//79Uv6EGSecJVtbnD/trsj//NExDkRwNKYABhGcbmGvaRU1mOYzmt2x+/w5hzmcYBNw08CTluYaOYUhC5VjnzKGIxedypIJkObxmE4D1FOX62/yQACZEK1uYs5hLmf2oMo09j/bqU/ru6UbP1D2DUR//NExEUSELKkAMYYTFeUhFXDPv/MjM0eTU166/IloAjEKWkF3OCvCY7KcVgzsZO+RYGoeDg7mufqSdT3leMKovjXxA0Oet3/6+z//////TpPDRKe0uusGkUFGdEh5LHQ//NExE8Q+OagANUecMsg6mefnxE+4skN6x9FqrUoZwKCWJUHMQswYl9jAyKAWwKilugYkgvzNP7/q/KDIeUzfh/L9v////+msfz9dKs0et3rsRk2QgHE14s/CuEPuFYa//NExF4RcZKkAKNglHxHE1G5Uc6SwSBPLMWMw/gNmS0WUDFQocGRBFJaxrilzat1kPN/pt1OUio+6Y+RpmKkKaJvQkF9b/////2a1b2fc8JWSVScfSSxsdmVCjIWjHVa//NExGsVua6gANKilCH8WvU5kQfWLM1+TzX7nnUkiiB+EyJ40M2HeGHAuLsxobC5RRjNRTcvDtJL4+WqqUMeVT1JRQFaD0VUD5YJgSAnnZaSiwbPrQLCT6///uoQ38TV//NExGcaaeKcANNkmDDcgqmsb96BzHHxdM+UkaLE1bBmg1oeaCa1BsmvUmMU98gr8zPetMlW04/D1Vl3NlCwplI6sagSkfhKhe0/Yxg1x2iOtW/6kvjku/8JRYl9/n1I//NExFAcsd6YANNwmMSyF2b96UQ40ho8JrX6SX2pTe1+GG6XjJb//8ipH+xBIZWuzyw1kX0MOkgcfUWS+3GMGLjFilWgua9ACABq/YSA+l374RW3sorOy+4cUkx5rcCK//NExDAeibqUANrelHc2wjkWRNwkgBUXI4zrWx8ELAGVC1mmtKMXFlZZMeA5Qa7+YUaFDvP1duFuWi4RZkt7t5K3R5IhkBABUS//+hJQTvts6OWAAacLVZiXx223IARH//NExAgUOZqcAMpQlDHtIYfNrRLjnvA0R7zCSgLS8UkCSSiMnkrNebZIURlpyVrSKCyKQ5FUZlw6BcP2ZiQa1WSl09NF////Stf2zNrIqGm//////9Zx3gooKeE3IArn//NExAoRaKKIANbeTEcUFLTkQeOURhIKHCFSHKTOVxibl4bCovpTJEsgbxLmKM788CsWpIOWSQSQGTcgwsOBVH5hjDbQIhBElZ51H9j5VNmf5m0Elr2qiqM67szoAaVp//NExBcQuJKEANaeTHgwJBSOItef5RdRxLwyB/nkHQqWGaRoW4u8xxaH4fhsz+XocFtPYq0wcY4wnLdt1RwuDvbZlmQ6YYSQeAN8LrIlkpUxnB4SlepkYgNEl5RRPszY//NExCcX2ZaUANZQlORZHZHzKKAwIFEQ7lZUAbTe6lDP/3WGH8v+npTi5lJIKwXj1GHnv3Cf3v+iW+QHldSRSC/////9FccvuEpKmmEXp0XDUhUQh6fb0LSlI367ZDEB//NExBoXYaKoAM6WlK1S8xScikZvUyRi90hW1lUMA4utSX22eIaO5jlar3n6BZ+8nzOodS2vDNc+6CQev6v9/+++uYtu9Om8m/R//////b6V5/5J2kzLOcuWURrkV7NV//NExA8VmbKwAMYUlABE20t28gO+/vtAz3DV/Fa1rus1h5dO99P6Vdq5OQpPiuGAWGyopeowG9oVwpp0oMzz6jvknmeQ+PHXIS9pBrfIIv/////9Km5RC6yLMM+C0fsb//NExAsQwZ68AISUlAL8V0FEqDaBrrGaehGR8ZFHWRc8pFMSwcSziweBBc9BTMUXDtUGJiK7B+zoo8br6+d7+Uep3HOp/+UgFjSsU7Q1Di8fwbCDsuXAa2MmfrFIk+1Q//NExBsSSTq8AHyYcMcaNOA8YdMlUwc6R6Ec/tMAKluP8JSyk2OorzUkvburTTKTC5UapDENyT5qtvXVr/10IfGxmCB3Z+/pZQsS9hk6KbT2W9XZZFN/qNXfmxyRH5mU//NExCQRWSrAAH4YcDYnIVoVv5vHRb2lmzhyWnVyiWT2DrQLgccHQBn63uKFsirf9DvHkOt1iEFST6HtuEcA1x+ZVzQJCHlm1I+LrGxqMuDpRdIUhyRONlMTVIeL0MLT//NExDESiSK4AHvYcEH/cd15PaiKp5ax6tPGq2XRshVlFZfehMlVRsksQIIuyUwALr9YWmZF5gduU3I0+yh1uxjys3ai5jp8e7vfhJ4rKRaoaSNDJ428L1cblgq6JGwx//NExDkSQQa4AI4ecEdzjHwqz1asz///////t+j9/jNEqytWt1W5BfgvxO/cfoLzMH1+m5KXPJ/7oGZz/6xghRxzSyEiCBmP9okI6QRw1WRXKmm4L0/YU3ruFHeJXade//NExEMR2QqsAM5ecAuwk+LKu1EE1AIiarnQhnDbtJ3VCOhCR0t/+3igjDu8m6tYvcwzaSEzv5Y2WeE1+dwxmoNtYdyXk0DnMq8ZnfdZW/dsaVb///////37C1HDX/Si//NExE4SePqgAKZwcKmEt9qtQPCIcx521p98fTaDgQLne69CGc9rWeggv7Ok0H8COBUT5seNhCjKMmUHFFRBc4RrK5k7d///////3J/23N6lKr34fixInzl93V0EgDYW//NExFcSCPaYANYmcOvEX7tNgEILPXbeo4i5Oav/HBGBPJqxKJ9BKCwOpSYVXWjdvD+W4Bh+3nnH9HIr/+3/////9P+j6rPO5VB1Meyk9Lu4Mwg+ybwl0vChQsVCsdYO//NExGERwOKgAM7wcIKb2OfcoU462VafeASeu2Q3Za2QwArW940DiRrvNU8hdq/zKbi9X/7Xpz/l+2I+z+r///6P+n0KvfrdwqExoFf5ynX6EqHkl9jRCwFgnO/clQ0L//NExG0UgQ6kAM5wcJhzKqsFOfrccLgTm9XZQFyzuXfwEGSblQuiRqGgGpQ08KEWrZCZ9/NTzTJjSgXDCg9o2////6vnzU6Omc+91Ewu+GEQjXZsRXG8/P7hRBdgkKM///NExG4VwYaoANYUlKN4sN8/1ICmsakYhAjVkzaOPTbX/Ki30P6HiTVMBpFq1b1/b0fNqR1nft/////6Km+gW5iQBzfTUrm9a0z0xCMSem3ANJTkueIucDgWW3uVZ2Ao//NExGoRkZKkAMvOlLb7hDVHGbOmI/gvTFVzFGkV0Ob19deusY3/61xvOviNlxb/prGVDPIbpMl/SWgHcdagNrium9oRaGp2XW4kl82jTr+gIfDGDTZ1MSYYcBCTw01S//NExHYSGRaEANZecIRMYRUO2tpknXULV9lu7wtTTRSL2bPr+v1qTyL4JDp3KGipEmoCZjff5gLq2eSq7+WVXWWW8arWGxmW2oln1sQviXYViFgFGkX/X55hYtuV6vvs//NExIARmJ5QAMYGTGxXlZNbDx2vvQ+i7gZQI0cL2T26f+mqHNKmgFf9fphhAQI5vhcsG8gBxPdCwH+oGkYYLBuZ9NToJidCcCxgDAAMEf/jSIgZgYhAHAGQ//aRw5h4//NExIwQ8KZEAVgYAEEB0jJiuf//hqwdggoLIJwgArQZAc////8i7kwK0HATQ5hoRguQnP////+YMThcKhpccwVoMgSY5AyFh1n8AlUnoqHVrp1mfBStA5kLQ38AjQSI//NExJsgqypYAZqYAImNEaQnC0XwtQF2ixgcQCI5AahsX0yuJaGrxZwBQcP+BIcGQA2Y4gg0L5BewWMnFjGAAhRZg567u7KLqzh8vHhtlgipdF+RdvSvXfHNUYOzmNm9//NExGsgkdKoAZqgAHrRTTW9OUDMoTj0M/97///KDNwawReAFcNfi7I5VdUDd3HkPgeldMVqSohSCosFsX6hUiM8baVF0kQ9kNMIMkZOKTBVJES6gdC/YBQhPwyxdNRe//NExDsbibasAdiYAIcsbKdZwiBs+UxpUsjxjisktigLmN7UjrV0z7VVJP5uyOmfNegbna3EFnG///+6l3lSFCpmdR0Ibi3tmohYMykvCVlRVcNbVRpZj9gbV7KtK7YF//NExB8YiZqsAJ5WlHd4506ZACgS5p6tpYAWNr2e1GkJ4GdRJWIx2qhMfHVoGAOWqMPmoI07nIm1/b6/hZ3xEuv9OhYqGRamgBU/////ooXVbZwxSIHPLmQILIf3xfaE//NExA8UaTK0AI4ecek2G6EQplkOzNqVJ0gq0v50mYDlimH5vg62SFCU4agt7rGYavi6+7q9xm+Yb+Lrb9PtzlneJbHR7fHl/sr+Ruh1bto9zgQhtZEY8Eda582Ohh3P//NExBARqSq8AIYecHcqIEqvM7rDAy0is4xwTVlpuGMMW5azdThA2aNmkrzf+Ks2/4DbF/yxvLY3d5GfdXpZELrUKJVucAVJqumBCggudwZ+wi3neoUh29y/l0INA3Nb//NExBwRsTK4AG4ecF5M2PUmZeMxLNhqo6ldNhSxfuAro3+GBy3nwFTLm+Ir7/wDqSj4mqbE7qXeefdgklFY56Rgs+Vxt9xGcmJFMuwSog/9v9vW91nu5lxaZxUYKp17//NExCgSeTKwAMYecC6S0b2seqM/sknlMWao9vXv4m6vmxalntSO4mYTPVLtz1amyuRZJ4yJVWtbcJGQ9KjjMON7UrVF6P1KRkuyqkhmahaNvDY1WqWY9FvNd36+RmDA//NExDERQR6cAMvMcSG1r1PnN8nA2lHgOVKL0Wu7vz/xsX5XApZcDqzFyAKrv0J1xWFQPKYKIXTmfYy/Y1q7vOKF+ZTblcMCA0npyoUEOzaajRe1YstqjieWHIRMTl3b//NExD8RqSqIAN4WcY4+N6bPlWTlltSJtEJTKIBRGUJKlJdU44KAgatOjNczjlm8b6Pi4sMbiOkcsX5kcMzm9fVyPcvmRMxcayt6+eT9Wzbon3HWMyxs/Gaf+rryynNt//NExEsSGSqEAOYecHICLCmPkioEaigSMSnjUlUvRPRBsIQDOxizMMlA1e9daHZwtNFLJS6fkrDcfvYNhOumDeW1vD+yZx3iBqpJbr9A1W5esrgKqxyHFzjqKCyxAKzo//NExFUSQSKEAN4WcUgYL8RpYWGIbLGcDoRJsbn5Uja6TmRiQRWFQJSxIYGmxVgZghMazr47DNll2w1kUwPQunAzd3k2fkFWZ1B42zUEhxmVIbANmEihfMqtRrLuY0DC//NExF8SAR6EAN4ScQGyqYEzcNelplS53hWpI5cw522sN0UcZE30RgCXgekHxUS1uS2OyvJJvtPfcBU2vupNdJ4iAgAIHWmJlBARA6HoFcDZFMaTQMBFuBgktMwSZRBe//NExGoR0Np8AN4ScYuJ2FvE1BSklZVyI8HMvrJzM0tRpGKf+Wltaq8EgVGioLUzIwWFgAkaM+L4TcHxGKEQEdFITG2gCaaVTxWYhqYl2q9ndXLJY0GGIhK8ys6q1CyL//NExHUQ2OZsANvMcZDLFrl20ElTxAVc9O667U1CffXQ1nb6utWGG5ofqnBRh0wzt5NcBIFY4wnv1LIoh+2isTMYceYKgLuLTwWwTAlAq4XQfwwF745ymPBaYySVEtIX//NExIQSUIZMAVoYAPNDA0dTGInxQNCsv/005cLhoS5TLxPLyRkZf8vm9aZo00KA7DIos5qanv/29tBCgyBudSWiyB0uq//+6G26qab51k1MizGRuBBC4GIpDSyhAlyZ//NExI0g6xp8AZloAWUQJTkTyAJGoBTA00iBLY7hLQFMN7GwduFAGrltBFEsIrh+XXXIJBvWr5NIOIY2oiOBuRLJPKONJKA4Gh2LJ+wItuvILks5UjFiSWHqqPLy1YlL//NExFwgsWKoAZjIAHSRx/v/3Dmsr2st1OUnT44o5FJoB1ECARo/b/+/SjroLO1sFh6lJs7l+wKNRKe6lIiE409NLqT5pdPWMAw7OT5VEOUFZtV8CJbs2aVZbcpFfla3//NExCwbsSqoAdnAABNaVVmYIJYFltIgLZ1D2U3D8V5uMSmzjUjEuyuRt3r9mVvvDVN+FI8UOgc+9pIACUQFgOFioHEUzFa///9UtX6LuBps6Abp6oIAEas9AhjIctrB//NExBAWmSasAJYecKvstR0l0JKlcoBimofTLwLiy2IxhDwWzM1kjBvKJyVgJhTbpIsb1dX3+W9XfERWOpoDYlXPcKC9UCbhY9dF6dhMyoqjs/////s9VWWolQaScwCY//NExAgTSTKwAIYecE+65Inl3dxE23q6iGlzUzj4u6lmpKidW7UT8Yu5mAVlYEEtyp8BEHDr1YN/xX2e2S6rHVbL9xFVbUNy28/RFnlHqOySjKr0uiAEGJfIt76uzsK7//NExA0R2Sq0AHvecDmcRKLuQWl7nCNFFBpKEzF7YOl7ip1pXFFOTXW2475r3U8X9sjbvR394cN5wnHK/Y6RZ5dxffPw/TL10R1ArmzRGhimZB8Pvz3IdmkIX9r2B9O///NExBgRATa0AIPecFJ+UsLaQd4rQiYnyRutsH4a1dNb7esrX/bLftU2MQFvGLrP/huU+61GSiaU1B3AbxuqDnOWLEgd0LMrpdHeSaPZ4JK6hXEVi558LX0kGfdbm5PC//NExCcRSSawAGvecKCnPrdJx66lpf9/q+2et6IhVU7fYaJFF909NzttFCqyQroE8KuFvBTSKJKuN5+/qhd3BhLucwmldd3caNJ+eXkduTC6dqPNNq8UP45ITtEMofXS//NExDQR4TaoAJYYcJf2HKPajkZ2lOjz+WrQ5bp66ekat4TaUhkPU+gFnzWNOTMIh42WFEwqWYelNWr261mV3sH2qf6xrbi7LjU+tNmUmwq7cANNpoiRvWVQHiFACTpw//NExD8RuSacAMYScEIcDTGqYjqXnsZ1YI+ZaFyJqpkooGsF83ZNHCDO69ocl0BQmN4pzJ5y7Okeh/IzTO1S2oiCm9PbO2s1ennPySTsdXNMAQ5eAwUDIaeW+tV2HNbO//NExEsRkR6EANaMcCgcfIbjAEtpSZl6idEPoCo6YZYMQEk4pEnHiMVeVTpyIDdz5fUjz7J7OpXTFQRHUxQtG/qeJ41WstO66XbRU+4MKfx5Z9+GLHGw2DhGuFnRkINm//NExFcRwOpwAN6ScXICmAAbRCtB8ArhmYzDMuna6Tz7SmGJe3KJxCkcNoNl8w0cQGm6xAo9iq6+PnAiXEKuTXQ/LpWHHWeIVLT1H5J9xi5hLXHHACVo4Egyh/LEJZPw//NExGMRkOJwAOZScX/8g2pu5c7FmU00jlD1tZvnm0INyQF8YvkGddtioaekkzcTPu1um+oqXQ1huwWITZYYFGKd4WDDKRQhLwEGBYAEZik7S3IotPC+7TGgO60OOQBA//NExG8RCOpsAN4ScbJLseiFBiVtQVmdYUC0CZLHU5zj8UjGQGY+xBjVr3/Vo17Q0Mk5x0OCkWUogmGE4KLlVlEghw+r6cGa21lKnSeCqTrXaD2yBppkTDpSxCQkZ4sa//NExH0SaN5oAN4ScULM3Xly8diynFnN+/yyorYXdcPd7fpV44TG0wDjYu2EFZCWVctOmDCdC3Eud97dhQ1DVayq1OkpNJRSq2kaMkyIEgBAaJiopURZqrMc/WihZ8UO//NExIYSUSZkANvScEvcYqoQVcDT53ET6g7Wd6+DT//////9KgKh7Qch+CUijkWkwjEEGUQqJwRKEvIjQVYRNKtKs1K1Jv/+Mx1YKqkFQCdVDDhTBURCUsrVCriIScRD//NExI8U2RJAAMPScEHQWJCIqWT+FZI8GiIbEoiKllf25I9JESpYtUxBTUUzLjEwMFVVVVVVVVVVVVVVVVVVVVVVVVVVVVVVVVVVVVVVVVVVVVVVVVVVVVVVTEFNRTMu//NExI4VaQHMAGJGcDEwMFVVVVVVVVVVVVVVVVVVVVVVVVVVVVVVVVVVVVVVVVVVVVVVVVVVVVVVVVVVVVVVVVVVVVVVVVVVVVVVVVVVVVVVVVVVVVVVVVVVTEFNRTMu//NExIsAAANIAAAAADEwMFVVVVVVVVVVVVVVVVVVVVVVVVVVVVVVVVVVVVVVVVVVVVVVVVVVVVVVVVVVVVVVVVVVVVVVVVVVVVVVVVVVVVVVVVVVVVVVVVVVTEFNRTMu//NExKwAAANIAAAAADEwMFVVVVVVVVVVVVVVVVVVVVVVVVVVVVVVVVVVVVVVVVVVVVVVVVVVVVVVVVVVVVVVVVVVVVVVVVVVVVVVVVVVVVVVVVVVVVVVVVVVTEFNRTMu//NExKwAAANIAAAAADEwMFVVVVVVVVVVVVVVVVVVVVVVVVVVVVVVVVVVVVVVVVVVVVVVVVVVVVVVVVVVVVVVVVVVVVVVVVVVVVVVVVVVVVVVVVVVVVVVVVVVUSy7epIv//NExKwAAANIAAAAAKS4ZojYvx4EvLgX87B5JxFIg/iQOZAHknD6P4/kwnlQvlYSR+GAwF46CWVCmdHqCblg/BDzjUgwYeEEyjaRWtC4dprMuLZ6nVq3Nxak1qTg0aP5//NExKwAAANIAAAAAJMmv/mTAEC3zJgCC2/ofzT/pMoQgHIYhB1UqD/aYh+K0esXYAcN7NduoQXFZwMLMdSJOkSWXDbSBAKIo2+u2UJE24Xk6he+GVk9hn/tcLAgJ0sH//NExKwAAANIAAAAABwQGgfWFgBBBxC2f8P8oi5RyH8SKOflHd6fyFXBdgjxJstzlWE1Gktq2AzJoUOqsrCoNPwiFLPWFT4+5FQqSuLCppVE1eAwCX6by1PPrK85/3rX//NExP8a6XlYAHsMlJYkS2f6+d5mjktiVQ9yzpYe4SgseKuEp7UHERLUtyj0RHvntX4dTEFNRTMuMTAwVVVVVVVVVVVVVVVVVVVVVVVVVVVVVVVVVVVVVVVVTEFNRTMu//NExOYWySoAAHpScDEwMFVVVVVVVVVVVVVVVVVVVVVVVVVVVVVVVVVVVVVVVVVVVVVVVVVVVVVVVVVVVVVVVVVVVVVVVVVVVVVVVVVVVVVVVVVVVVVVVVVVVVVVVVVV//NExN0XQXnwAHpMlFVVVVVVVVVVVVVVVVVVVVVVVVVVVVVVVVVVVVVVVVVVVVVVVVVVVVVVVVVVVVVVVVVVVVVVVVVVVVVVVVVVVVVVVVVVVVVVVVVVVVVVVVVVVVVV//NExKwAAANIAAAAAFVVVVVVVVVVVVVVVVVVVVVVVVVVVVVVVVVVVVVVVVVVVVVVVVVVVVVVVVVVVVVVVVVVVVVVVVVVVVVVVVVVVVVVVVVVVVVVVVVVVVVVVVVVVVVV//NExAAQEGIoAGMMKDwvkIYGQDALjsWSKPwUPDoZgA+JpS1Jgm8c7AhMTl1GQiQQ5m93y/0lLUo//S/9iE9BQEHetRw4QEBce8LvCAYVnrOQqM51N5WPFuEbTkhTQuAi//NExBIRAaaMAMMElILsVIFDp/Vevsscvdf23+lNvelJltevfYjyk9qtn6EnciEY52POfX/f98jkIEAGfxOUpqSo9Io5ky8pq2qThrc+HLKSLQHoBoAEB9TQL6tdaLi6//NExCEZEcqIANsQlLkCK9a1ST7sB5CcxEMMy9UyQ60grn/jierYo56jt9a/1/n+OHGvLvIUFROQDyodXOSRW4RQl3fylES1GZvtz8GtaUrVws4ycaNSI+hM8kqcEQwN//NExA8UWb6UANoElA6/yhgcOhV0AeBJuTx3uPrhDV8OA9XcSlPYoAoK7l//Ntbv//855isR3EgSAIZQzjBIkkiEF4/Z+6lLTbU7lbLHfUrX12MCrssJXfdOUTX2py2n//NExBAUwb6UANsKlCwGNfabYMTbtw96eZPNnkkWZpLnMbLX+0JgbD2jNb9f6uyf/79LNW5cwCoIBguWIjwRPERrnae/pQsdIsWHrP7fpeud1p4TOoyZhPOGKgj/FC/c//NExBAWMbaYANPKlNuGsYIbqrXMx9n5Q6Je8RK/GpHHO4CzGpEiHBt+pDsKVzs7SMR+z0R6EGdm//9772QRKNMPBImWOCQUPGaIr3KR969O5/7upi7DLJuKZI8iT0K2//NExAoTqTqwAMYWcEqlDxMl9sQopSlDeLvuXDSvv3cfsb+Vxf94glj/ucGAgDeCsqDQwMigAQNJ7NL9nFaC93ksvjQtnFJhb90pMiwsAFGfTa/5EhFBuG9NgH/rwgUQ//NExA4UETbAAHvYcLU5PdkhBXP7QiZIbZ+3nKXt/tk1AeTNwTyo42lEUDBxSQ5PnN1cozMfWUpsEL/0ecshspGXwMDixZrfWUUIRyQt45Wn+ahbRK98FqRn7cMJUPMN//NExBAU2ULEAHvYcGK6byxddD6AQ37BU/ToLeW7HI0gIERElEEODxgnDsIo/q4Vrr+2Xe42/bX1jFEJewsaZarH9o+Ap1600XS6iTUtj6kK1/lsFqQG9VhC4u6ZbBXj//NExA8VsTbAAHvecFGe0FOgToMdN5L6BJAJZL3NujEyELJeyxVESFamsfxeiTE4VkqtgR6VxCjvKW1Cjw48aE2yTWhVfahygoaHG/Y1LRVBgszQSm6wrQMRqzgbSOc///NExAsVUS7AAG4eca3QKrNilm9U7ijx6GjyurFXc4l6zGbgqEPhQT9IKUCGMi5ZUSqH981gw8a9oz2PrGZI7yJI+nZprtFRDLG+6/xSy6VJsnbf+p226kfMQCVI7bsw//NExAgT2Ta8AG4ecE+7m85qIp4XL1abRtHmoD4zluUuC0zczs7ghwtZBFiC1E+Leaa3fFoUams1rF3TGaxoM+e+jxY97WknBdRjbW8AH4VYBjf9FWT2Mggw41aoCBJG//NExAsSMTa4AJYecKH5ZaGQGcLr1N3mlCFSPk539TQXwaDhJ28/QuTjx4M9W6Jr/G5/811BxT+sF5HvuDuSeJSg7p01ljqng1+lQV0ATwCxHcwLxoBH4MRnU7uHgtYr//NExBUSAYqsAJ4KlA1P1g7QgO9uuU+MsAq87WVPxwkhqmv//C7dQ6/1R7OgSrRTiIfRujdhF5Mww595Uhez6LOOPe+SGig73tSXPWBa6cOquviArAzbK53tEou6kzhS//NExCASEW6oANZElFehR5b6L0vOb+d7//4Nv3+rd4KxnxYo7F014MeUSdOhhJ3//////RqV33vd3SE8TOMaWRS/AxmMMju9eS4DMhLnTEC5IUIQiLBwkmYvc1Z8arE+//NExCoR4YKkANPElHP62+//pRTxamKKSpGzoQhWOSDQKBVX/////b/+hYtYu406ZZrwog1aBH6dBFc4JTGxypv4+zOpdf5GqEkwW0g0kThaCslZqdMi6p2dbf60aKtJ//NExDUSmW6cAVhoACTUtBNqR00PmqWi7qpLaZF5iR4q7SoIGZhBCqLOYTAdcpy5QiIJmFwSjcYtAENGKAjA6Exayo3kBShkMawdLgqfRPUUhOHvam69pIptlCyxGnDM//NExD0gWgJYAZx4AMOs2zjXizQYM0bfrTes/Ws4phlZYr17b+DW1Nbg63bWYVswc6vvFtY+vrf+PvP+qyaxnUHpJP6nHWR0XLBp4KUJl3KyNT5JJJ0FwdPJGC56Tex9//NExA4UYyqwAYgQAEvU52ZW3990IrU87t9EZtgNO3IdHjjFMikAV/XSqNIZgwlAghApDf/nFkZmIk6sII5XuqJb//572u/bnIhwjnYzC7h1mkCY8OFi4sUTI0v/+/RX//NExA8T4daoAcUoAHSjWb9KV26lrQjvuhpr3M4kg9A8HVMLFiSiLioqBRxioZFmDwkZhUBEzBksgHSpIFRkedqBqp7Qm709vSppYeG1fubf2la0bDkVsoOgZylDzNnx//NExBIXIWKQANJGlKBSW6ouTRJ0ECMT7WUzckDTi5sXdrcUrk1s5A1I45BuqXSZr0mPPvzOs34ZnrDQKglAQVwa2hQKCUywFQqwi4i5RqVXh1XPVu/5FZ+Svg8YWBjU//NExAgTgQqAAN5wcPCF5xncIjCrzbDQJWu6rTIhAZ1T3p6VJqfq9nAaUUN3bErGSka3fuVc4DkOs87cdn7+GOLd5+7nW3W1z9ar9FQcOvX8vYqlrTsNF9TTd83QPQqc//NExA0TIWKIANvUlceRmZqrAxSFSBnNwAUv9wLnoxxdU0J2tarU9AGgLpxUsZOEp187XaijXMCuAkN3ZhXFlVoJB2h4rOf2/8rkzbW93dxsIEnqML+f2dRdSsOcmC4F//NExBMVUZakANPGlPBrXAsZ9SVkUoJ9b3qAeqbb41VMewRtfTjeulkJGm627aznvhIflXPqgYc9wggANzRE+q5lmiCC2EAhHKAIcFX/BBU824JDRF9zoQDwUqFY3pxI//NExBASSZ60AKPKlAXn3rJ+lPv/J+u95pYzEZreGIdwsc+KdqAN9DC79D8pA++JC4HO0zkbm8xznuJHDhEcxxA4gIMpzKr1BIGQ41dIuhhwGNJYXBahThAcfHYzm3/j//NExBkSOaKwAKPQlC63/3xyxfizEilrHs2AMDdcuKt/AgD6uCDA+rcaKHRzxX/F/rt9Kk1wo4k6Tc6V0aexnnfEQaj/MWYLHOCk1BZW8tWISZYta+WFWzfFq6xv5Vr7//NExCMRSaKcAMvKlP9q4tv44eAxlEQ6LUMNDpBJTOgeDxxWHvlb6eV+VpvQWw6qRLMAV4ZUXuMMoSHMRMsoAoRCIddga5fK3WHS6alNFzGzuls8/+8y72pq+f/ZkoK3//NExDARoRZgAM4McB60F01R1gEFQCs2nI8RZ2vqbRUEnUEKPYjPAUMADiALEACZf6aTkMrSJpYZk3ak1VwvoeC4NtadCoKkwaPCIOklpPTwiV22sGIxSK72rv9J7RNS//NExDwR2FZIAVgYAE0VYVV/PdSqqfmtFQc6NStQdkbRRXc6XRivGmgU9Wlqz8s3Uo9kmpDlz3psbcg2sO8d7ImKbo7CIPggLOUyNjaapW8aC4EwHCp6J62MlrYlmQ5z//NExEccwmpMAZlYAGSw0i++fq+LbM7UVy9p8/CxZfEff3xH/dV03P5/udhyS9K1U9OFRYU4gqSQRiQhh1kYXYJ5LlmAiyhmWPFEGmt7Ig+BUcsfo5odh+ogh0DYQu0u//NExCccGrqkAYlAAAFgeOEDwLA2Pco7i1uBhlP70dSzSzUd3NoI5Bl084gCgj0cYxxpLrE2kwl//X6FyPqCKQ5BmOJWmWWt2/////x0lUBCcFLR7uKKCBC3K87AlR/0//NExAkSwgpwAY8oAD+TG2WpjSvr67CQDJKmaUW/VxIDIEgM62/ijgMLC3/5ViJW/+65RIOqHTCI5XrZWN/4dEjBEUFY2HhNVo/hyeXmaDaXEXHrm5uNAK93CwS75QV0//NExBEWGyqkAY1QAP8gNPLf+h4/IBX/b49KGrP//x/PQWB+V//95AeBTC/JwK5MDYHf///xMEWVFcWyYLwjBoZBP/////xUIxZApjcnycVBCEBItfj9qIIrXcxvgXxj//NExAsS2aLEAc8oAJyIRALYjPul96/veiEJ0D9lAcXkJP//+5zs1//+33KVjGKyCQeHA0GgVEQVDawVc5USqDgiV1BQ8Ifqf+Vdyrkqx/H24DbZ2WwkqrEJnfa7MJlk//NExBIVuZqsAMZKlG2NE84xgOMkP6ji4LW9yVj+P6bGnlHsNSoMEfq/lWbHzFoTbiAtyC2ofBHdAHA3GDuj9UdaKyUDqGcoudPh6rOf////1e/+aThEWphOocR8GHdL//NExA4R+Z6wAMZOlAI2hCcuO0Z4OOOs0g8/ziAkZScxgkIky3286eu/yMX/yL8VdxM/CosewnGhjOUVtG8trGdIvesho9TDutlQizamXXAJ8zuFOOEA8X4r9UbBqKet//NExBkRuYasAMYOlLoS6l7OijxxTR3b04QllGX/GL/P+Vc/KP7cp46Mc0MvWH+R6CPWoPE1GmHt1tfH9XSqha+EvgYlMMBqfSoIjxBo/yhk1g+Z84IxbGVNTg4xEupW//NExCUSAaKoAMZKlMlyMVy5g9V79fuTfjPt5/EfD76gCL0UK8g/QJAvEl5RTRuptdyxLBBNU/kZYODFAWMyykZAkwcJE//GyByVNvUTXJF8ZmqYpTfW8q4qFB3N/GrP//NExDASoYqkAM5KlHX1536CCdP/NzjqYDD3uPbcBh72duMd87I+hcN6vCEQH08FFy+5hdBu1IsNdlhQYIevAtagcqKS3WMMuHU1lDIWO7k9KboX7FNhtO+a3kRet/CI//NExDgRaPqQANYecMzY9HH/G599FIZnaztafjVd4BUFEwZQNyFbxwyO9B0iguDrF3Ecgs9VwUrg/jt64c4eYxPlfCHMHAD0Z04yh2JMtZVMmWZkCKr1k2VXqQPuof82//NExEUSMPqMANvgcaO77EavrO4KhhiUWlrPRkQ3MAcup6SsjAF6uz0WM9Z+Mnuza23kHgQtrwLAlTXqAckXG94j1LQSf6z5n8z/SVAgBY8COJEgaDA8P157v1XDvfKi//NExE8SmU6oAMvGlXWwhqLkCg2TELsoIRRcJ79XGjjQF7LCSqun/ybLBFe5VR0RriPeR5x+//w936B/N5/N0Ds2KZ0hWRoMqmnKuDH4MXs3yFS9rmiRqZmM+2w7pNup//NExFcSeZ6oAM5ElLmiRJgFS/jHBZM5vVCmBY1VmCaNJXuOkGGwy/sGa//lPf0fr6v1blfqCNdBzakJqGNqJEooCEbH6s3Vx/HIcAjTCltS5CcDw73zsrXIB9XUn68G//NExGARybKoAMYKlBEfnzvC89feVQSaaDllmqrYs/zK9//q/+j+T08vlbnbhJm4JnGC+rCuyB87Yr6lnd4U7AB9GceR1SAUxZn9qWEygN2HJJSBTDFIt+mIChcsxUUQ//NExGsRobKkANZKlBBceHZRZJl+dfq+/t7e/lfUK70AhCaiEoYXoYXtBMABC+d////0fZ62JdymaaOVCcQC9R4EgWDwIHjkh3Vpfd81smghYJAeKFUiwDlgKGi+iRpB//NExHcTcaagAM0ElIEXYY0vitgEDwCrgsJusmQbHkLyGH+Uj3Uf6kfN/MfKF9hSNnRx4ITEMhGQMoJJNTnA0sUNOEw3KDpjDRUeWVMeTpoh3/9/R/nHucUT/Stixihu//NExHwgmsKAAOUOuUcZT8Wdgkq3DD6IJDAD4m10AakgURmPRwapF2qF9AYRByGy6H5XVMLAIa7E6giBBoCGPHyJOAaEBUpEDRMXguE8jKBs6kVGe1J9aWt2voP00lWW//NExEwhMsKEAVuYAYrUo1LxeTUmgfWpaqVLOO6zY2N1MZs1ar0lGq+pvbUpetN6/d07IJp9kVLSszb7rnXtdM+Od2MyIpecfTnmki/wOCHLQUEWRa8/sRMchK6Yw5kP//NExBoX8qqEAZloAFKJeO00XWGyE5IKjJauumYqPm70nR+o3RWzav/WjU6vUr/SdaKB1BBP60V/+gykDZkjbPIopMrq//846kU2SpoMia6uSkazQLZzkBZPDMsAwjhC//NExA0VKyq8AYYoAESUJWUXeLmdEpn8eIDHSu75/Qjs1/znxVLUK/u//VHu7XMSxjKX/k6SZBccLuqJYwgSQx2ORv/86jXcWuINoTKSKszvKIIMJZGJfocwSUJHK09U//NExAsQuLq0AcUYADoc892LRThEC9hlEJ9qhxRIRNvoPmQu9TRfYxZKssJCK1dYBigNIEpW54CPPStFnWOPOpuDXadWi2c4+iysnJRayLIQWYT5ZgslkdG9skyMstHJ//NExBsRcSawABGScBHBhaaFSDdqv388iO1CC0HoKp5h5sEEnUXjetJxw0QPNi39eNof6a2066pkMghlzeHUaUnmwgSyKIkKSq/Siw2iEQoguTviV7aMeeIroq23UF0a//NExCgSMUqwABpSlNicZHEsMOTXi5Aq182CbB94vcPQk4VahtpSIaL/72//rmuzAOHp2M/N7lHanVX8IlBQAZRth50GKRROVFUhSQo1owg02jXZVw/OTCk4prrE7bR7//NExDIRQTq0AFmScCOrW8UByQbQbfMPc/o/////u+jsAVheTcqJqWhASZMoCZtrisVtKHBWDawoLiuCVYjlfI1yBDEeSQxZRLatC2WWskrGmpoNVIVU2cWcKJI0U6bt//NExEARmTK0AGpScD///////TW9v9iJdfDN6Eor/NLAWceaWJl/EnyJ/ZTG0bWLaxp2YZfMCLQD+SASzDJCaiSfGmt396U9/nCxrF16JfwIvp2zWv4fieo5ORPXWm0g//NExEwSaUK0AMYecIApNJwSAoeii/uf2niwOHO0RRGUbT+MZQTQT9EhxgqgRNjyg5CWOAkK2US9f7V8vjW3vDFfdWsVuqfWYEA2cY9Xeip4Gt9N8JwFcnnATAHifTLm//NExFUSKSbEAGvYcAg425BvGiheV0XJTwN1Uqpc/QWIyM2VColPoGFwBEJPPFrqMms3Iyn5LPi1CCK1WpMhEKJoilxWxg0w/qW1j3cEB4n23EmEGESG0XZzAsZfWxS2//NExF8SITLEAFPScFpT9ZWvmXJJtylRTnjqGC2lQRFLMSI+hqWxyt9xjn8Y57xbbkqhQs8NWOjK5Fc8WBpy1VYzK7Y+zhnw6MDh0z0LmUsEhT6KmszrYE+HKJymocAE//NExGkSETqoAVhIANAUhkUkkHaAVALwbAAaMSLGJ6g+PEeYK4MULn9L8eoWshhdxM3uvb/CdnDQl1RlrXU//8cA8DITweAK4OUYMkP//X/HqMGMcbx6Hi+fEzMjRX////NExHMhIypwAZloAP//lw8Mgv1mQ8Aqg1jBjLRJdY01WuKGOxp+WCBbQlVPWtxHGzwWK3lwv+Z5n+q9/I/oUvfr/GJ6mpJ1bUpblf/VGqbglnSZq8bexm4lJqG5CTI8//NExEEhEuq0AY9IASSiBJsMB8KFDxkVIklU5KsNCkhehDw5uPcT95LpFgreQyexKCKjmy/hGpRhbBJmde3JH41+hZyNbXtHWMz9LQsEQ3bVwy78pVtMwiGp6r8dBmo2//NExA8SIaKwAdlQAPuNlrdZlln9/yYsWqPRu+h4FQabiqEwGt0QhFxvONQy57Ep/NGQsJVUU9/82z1VlfmyxouIRe52LoXfP+7QGFT5bt3oHFGInCopFXpmfAw/7/nG//NExBkYIYqgANYalAb25XP1H3uy5nhMlu6tXDligKFU2aC0BLlKdBRWOi2Mzg7wslqcxQGGNVG2mYas4zrzhcZVp52Q4VOinfu///W+n0bzLXuYlb/ObqJvmDNOvUrQ//NExAsU8W6gANYUlFouGyjBF6M01mjXwGynv3uOI+4/vkrWDkW6T27gUrSLdLWtyQqBZNj8ZhfiazsK4tAgj2aaaPZuk1vVv/UiNxF/////9Wz7m6WRfW3KmWi7loM9//NExAoVEOaUANbwcGpSXXE4sIBr1NKYYEIwv6l1lREgRMUefLY4AiQtlZjNEFfslcnlnFmagzjf/ugr2ds2cq0Ew6CTWss2/K2//////Gfsua9LCUqJFbG+7oBEUEvO//NExAgScOaYANZwcP9SkxOE82K9vJuadYlDO/XgAuYDgZBrCAwqGZIjTruDA1zj6McpiKW2o91T37Ln3sK9yMSq/0aFn1//////////pcP5p6QcWNE3+1hAEdAsvh2S//NExBESePKoAM4ecT+hUYo6dlDsKYF7H1nMo+sReNBuHIwQQQkAuQkngJgKwKtKOJfzLSJ/J5konFaomNDFBE3FuPALSOd3qqTFna3HjFhUE9yAwKEIa4s84AUIja/N//NExBoRsP64AMYecMjDoMtlVqXytv35gqt+PQY0BuVZmD5Rq5ORGKt7M8eMcWVrfsT297zmpx3+Nt/6UY8cQdCKq9x7WTlgGQ6j6G0Yf6Py4CngWrgvNuTvS6uOc3id//NExCYSSRa4AH4ecCVmNIcJbUJhhqz6aoVVxGx4bd/ZsZYVn13OaHRg7gnU2T6kVedCFOqWXA4ot95pdUe+KzwzLbcAGJQca/g6BQGW43Vg3LNW8FOOGbJuDNfRcMCh//NExC8R4Sa4AIYecIvy/i68N9nNnkNWzwGSNXw55cF0qV+6TrX2y1AHDlrxgiYvuNYb79xCCr/4jhIzTTVws+vXm15vUuakGAKIKaNA3OJMLgRVrla/TO/Kjr1TZK83//NExDoQQRa0AH4WcDAgBV09/+vHu8w78g3qlaDaxai9Rr8jCU98D1xE/R+JlBbHE6YrKryhNKkzEdzPmAwHTT6lrvfzm1861879tNkbMDYuxSrXf//////6v9i1xwqJ//NExEwSISKsAMPecP5NDdnUqpe4Sg3FEAwlo5MPAaCsgdXXJXExMWEhwKSjgVEowckA1FUuGZW6dLGHPUQps0SRKmVBVuJqm74wq7d//////y1aBbIWT4zgXJfmtuW4//NExFYSaRqgAMJQcOwstj5c/EyuOmrsk0VCM+dJzU6e2YJUaCgGNZ5OuK3+vOPMxTtjUl2StDoaS2WCj2gUNW6zvN5XJf////9dHnixDEMGNHLDV16xFYqMDJCZQkwZ//NExF8SaRp0AHsMcJRaME1iRpAKJY6NHGvBdwmosY8qdbkrxYlO2nntLCyHkQCtY20aV1/u5rGkav36EZZXTT1KCyR4pcplbeu9KaS3qp/L+P9ws5d+rjW7u06QEgkY//NExGgSWKZAAMJMTDKkB6uI6hph1qUuNKKn0vcQexjQPbFHVe5tX9nRfTo/UvTVEiiuymQiycxGCnlPZdRxXOWBpL3yhv3UQa4nkkdgeAFFnuJZq4rPLkuwJA3SOKVF//NExHEQCIYkAVgYACTEnks3HwrGyOaZv6Utxexm88+Kvf3b6p6jz5PbSBPvp/N9Vstysm/MtTXfKcdcVsn/91MPXLNrzQsecOJpslnffdR9f3+pFIRMviX1DP2VF3K6//NExIMhWxpAAZpYAa43Sh7qoIAxr62qIyeNN+26wfs6FPT7KIIA4fis3N3n3nEGk8giBHsdxQze94iqIGZwq3GmxlHKygjlp5W3mpw6jB+6hm9cuaowopJVZFZBO/ZV//NExFAhCtqQAY9YAcUwoSSWtyRu2VqQUWf7OpfvuoZazXW5l0zlpgetdqy76ZM1//X//prsmXvbotjvdzeA6CpV1KoeFBHKgGgoI+TO3EdtY8WQcbKkWzeVNfjT8TUT//NExB4ZYZqMAdhYAH7hckfQ4gA4G8yMC1YfzSbShr1d8xVue5/xtb7bzVv3N8OetHt+W/u+Oa3Hna2EhLDTowOIeeATTOCz0CUk9FdbMZ+SpjRetccqq8jvLlNLKDSG//NExAsTwTaYAM5acC4rEYoY1RiBoU0L0Fr5FAzGlpy2tNrqcWejKYbXHGpB2B4MixZMdalu9n7duvrfWhoH6Ci4NLuWfcGZBQDUcST////pwzqDpJuhSOzAQZHO1oJO//NExA8VwaaYAM5ElLFYpF5QCImXXuIyK+7cZ+hbVrSgmhh3GPJ/0X9dOz/1LX/ha/Lyto+c2crWFFLFrYj0I+5eWqinMo90EHim67///uus996Harmc0SIiRkpqLbLh//NExAsTeXaYAM4ElEs5OAex3ZRdOo4EwhpBqcyupvt72sqgVivxm0TC3q7Kt/9//+t/z9fbX24bQIOzh20bVrRMJnkhEyHqOmn///V/09THnUtRtyTWn9IuItEWlHjG//NExBAQwYaUAM4ElOdeiYTS78RRnk2q6HGL4UjIiJmNqlW936r5Y/vD/+r/y/7a9PG56wr4Nteg1FEZ1Zye6ebpxQMHZYclasgXEzOT0mQkNZjhSAbELYXDgXpGGtha//NExCASiZaQANTElEMqXTc6C8D5qdIxeU+d6uj9u3bm5ur5h2qN250quUEpYhT00f///6679dWzKpSQ+Bp4axfc8qjlSqBdLQqR6wQTh/O7ACedjrd0WpbZbgGdl28X//NExCgQyJ6MAMawTNcv+g7TZTX1e6yKsElCBaqn////2/8jQbFVdCqdu2UwgfnV/ONzNgFX3Dq9jRfk1lwvEvAiB0NJARETu5s/AwI7DzShZU5bymqPEBOvv//y2t3C//NExDcR6JKEANawTFyQ93///7ZpdjG09Uw+9CDNlkTaMQLQRkXbVcAz8wmL33ZoZHBFETBs66SP0/lJ2AGs1wSFA6VUXMgJJfqz7tCk1//73BuScpM9apq////+vSit//NExEISIJJ4ANbeTM22l9iCQUV645bRlOKqRYLX+3MwAdH1SKIBEmLGGEOsiht/YS6Ufd5yhDi7qIEYMpGmkcbA/23X97xAdAKxRSf/11pkRUOle77P///+v+yy9Soo//NExEwSiJ5wAN6eTAAFBZVAg4cORwAi7JAJaK6mBAkQQILLGitJgLGAYnLI1Fi7D+fsosoSJCnbjutbVs2wG2LoDPrZ+n+Wqejaqmd////opjUzDFrzVAhakaoqY00F//NExFQRcKpkAN4eTA2MEgaNBoyIiCzxuYwZlLdmxvvCH6mRgciDCTzDyj0FkQYCTRSNYksVDLhjtIuz9Iv9tbOpjlf//q6Kq3MyKEKHEoma2AyyMgoSRxgI1DARyBSE//NExGESIKokANYMTKCrmMBoGioNA0VOlnrBUFXnRKMBkFTqeoGgZ0lfZps6g74lBUNfEoa+WkxBTUUzLjEwMKqqqqqqqqqqqqqqqqqqqqqqqqqqqqqqqqqqTEFNRTMu//NExGsQcHXsAHmGSDEwMKqqqqqqqqqqqqqqqqqqqqqqqqqqqqqqqqqqqqqqqqqqqqqqqqqqqqqqqqqqqqqqqqqqqqqqqqqqqqqqqqqqqqqqqqqqqqqqqqqqTEFNRTMu//NExHwAAANIAAAAADEwMKqqqqqqqqqqqqqqqqqqqqqqqqqqqqqqqqqqqqqqqqqqqqqqqqqqqqqqqqqqqqqqqqqqqqqqqqqqqqqqqqqqqqqqqqqqqqqqqqqqTEFNRTMu//NExKwAAANIAAAAADEwMKqqqqqqqqqqqqqqqqqqqqqqqqqqqqqqqqqqqqqqqqqqqqqqqqqqqqqqqqqqqqqqqqqqqqqqqqqqqqqqqqqqqqqqqqqqqqqqqqqqTEFNRTMu//NExKwAAANIAAAAADEwMKqqqqqqqqqqqqqqqqqqqqqqqqqqqqqqqqqqqqqqqqqqqqqqqqqqqqqqqqqqqqqqqqqqqqqqqqqqqqqqqqqqqqqqqqqqqqqqqqqqTEFNRTMu//NExKwAAANIAAAAADEwMKqqqqqqqqqqqqqqqqqqqqqqqqqqqqqqqqqqqqqqqqqqqqqqqqqqqqqqqqqqqqqqqqqqqqqqqqqqqqqqqqqqqqqqqqqqqqqqqqqqTEFNRTMu//NExKwAAANIAAAAADEwMKqqqqqqqqqqqqqqqqqqqqqqqqqqqqqqqqqqqqqqqqqqqqqqqqqqqqqqqqqqqqqqqqqqqqqqqqqqqqqqqqqqqqqqqqqqqqqqqqqqTEFNRTMu//NExKwAAANIAAAAADEwMKqqqqqqqqqqqqqqqqqqqqqqqqqqqqqqqqqqqqqqqqqqqqqqqqqqqqqqqqqqqqqqqqqqqqqqqqqqqqqqqqqqqqqqqqqqqqqqqqqqTEFNRTMu//NExKwAAANIAAAAADEwMKqqqqqqqqqqqqqqqqqqqqqqqqqqqqqqqqqqqqqqqqqqqqqqqqqqqqqqqqqqqqqqqqqqqqqqqqqqqqqqqqqqqqqqqqqqqqqqqqqqTEFNRTMu//NExKwAAANIAAAAADEwMKqqqqqqqqqqqqqqqqqqqqqqqqqqqqqqqqqqqqqqqqqqqqqqqqqqqqqqqqqqqqqqqqqqqqqqqqqqqqqqqqqqqqqqqqqqqqqqqqqqTEFNRTMu//NExKwAAANIAAAAADEwMKqqqqqqqqqqqqqqqqqqqqqqqqqqqqqqqqqqqqqqqqqqqqqqqqqqqqqqqqqqqqqqqqqqqqqqqqqqqqqqqqqqqqqqqqqqqqqqqqqqTEFNRTMu//NExKwAAANIAAAAADEwMKqqqqqqqqqqqqqqqqqqqqqqqqqqqqqqqqqqqqqqqqqqqqqqqqqqqqqqqqqqqqqqqqqqqqqqqqqqqqqqqqqqqqqqqqqqqqqqqqqqTEFNRTMu//NExKwAAANIAAAAADEwMKqqqqqqqqqqqqqqqqqqqqqqqqqqqqqqqqqqqqqqqqqqqqqqqqqqqqqqqqqqqqqqqqqqqqqqqqqqqqqqqqqqqqqqqqqqqqqqqqqqTEFNRTMu//NExKwAAANIAAAAADEwMKqqqqqqqqqqqqqqqqqqqqqqqqqqqqqqqqqqqqqqqqqqqqqqqqqqqqqqqqqqqqqqqqqqqqqqqqqqqqqqqqqqqqqqqqqqqqqqqqqqqqqqqqqq//NExKwAAANIAAAAAKqqqqqqqqqqqqqqqqqqqqqqqqqqqqqqqqqqqqqqqqqqqqqqqqqqqqqqqqqqqqqqqqqqqqqqqqqqqqqqqqqqqqqqqqqqqqqqqqqqqqqqqqqqqqqq//NExKwAAANIAAAAAKqqqqqqqqqqqqqqqqqqqqqqqqqqqqqqqqqqqqqqqqqqqqqqqqqqqqqqqqqqqqqqqqqqqqqqqqqqqqqqqqqqqqqqqqqqqqqqqqqqqqqqqqqqqqqq//NExAARyDoYAUkYAIKIEEIdcVggCAoQQg+CAIHJcP/k/ygIOBwEPLg+D4OOrB8EAQrBwEHflHfwcDH4nBwEAQBB3E4OAgCAIAgD4Pg+D4OAgCAIKvwxQnvunBhYBwa+//NExAsUydKoAZlQAMzwDS6z9sEgZO2vJDJ6kPp1Zjf3V3Y5UO/JygsAKB8ToRBXH4Uonf1OMQwxhIAiCuRmob/zmPZ25KcXFR2hT/+v//7tRmt6SdVbMx8ByYToXj4h//NExAoU2bKwAdRIADBYIDBlxm0FJF4vt0X/+//3n/+T/9w//299VLPHIjJglwiBIRvMwxMhFa7HaLEjtStiEd2LTozkumRpKLqLp80ad///10C3/q1qw3/8EcRMrLLu//NExAkUyaawAMnSlDTIgkSdfVBMEjc0xv+aef0dOl//+M/1kSazESEBQEA8C1QRDJCWMIICoVkDCNtC5tAktNEyjLp4sq3KCRVZwNFmjP//+/e65X/1Vf/+8RmOs1m+//NExAgUEa6wAMnYlBhnBICFFg8mooSGdCv1T2OM81udrbpmear8snK5AEtGShKA8HJRvnQmpsYKGlK5PA5EtWtNOUix51/WmoVieNqMPgP///wDQpX/5nUfcDdE7xip//NExAoUga6sAMCYlA31wgSpoD8wC/UpfqT6+hszM5/zM2aei/mlwdC8AQdLl8lEopwUhPTksnqv65y1pZuWla0xLL0Z6jaWreCgfb///1J9/++pi98/90AhNBIuX3oL//NExAsSKbKoANFSlO1XZDlAZ4DA/zC/1FH8qfuH//igh/1iIAhj4dPB8AGK5ZKFQUEkb9somK3yhrEPeYxlUmhQrGIZr///pxdK7/83YYmEvRe/GaTajxaUHimY+CX1//NExBURGa6sAMnWlDvx/8/8p/XEk9bl7igAMcHdDgUH0lDjAkCBffLGHfm4Yd/5eatl1S8+drP///9dFT9emDWhaUgo6xNibwGsa02WkVfZZij9MS9Zc83/LlGvqgoL//NExCMRiUK0AI0ScAhZhGCBkm2MKILRZbNoHD5C6jjj5BqRAuEjB9rTi5fZ///1Ksv5+5oGCPdz94vSF4BIJN1nTYCbepZmSpmpComCQbUdFJn9cjBo884DCd6OXGE0//NExC8R+a64AMxOlHEdnXHAlOQzRvV/mP1oyOa0eN/s/////9H50FdDuvMObe3hyqIDJdX+7yf1ILdv883XVOKdjGHAnp8JgWK0bXo8jW1vECWLX+BBbp96b3OJBr4N//NExDoRqUa8AIYecO0GLpaNAdS1RkTsO0JDqD+Iwuyx8CgXl7hlMF/21w7nad0HSg/e5WtNdUuzfavEkH9Hy3n+OMcLuvzav/pTf/xTNv/p+9rjw56rFCv8u9zGP8zV//NExEYRSTK8AG4ecHfglwcvOAUiZ1+xq4no628/iDyhGoencLzRXKyxoiDwAKUJjRE4YJKnLN5bxa/++8fPxn/4zCfb3ikwUgjHa//rN7ipsSK7xeZb5ssJi+t5YpnQ//NExFMR4Sa8AG4ecR9aCehuq3D7kAA0xYpVK2hLFikeOWBvhJhyEsSZOBCxFFI1rJdNn/1/TstBR5bVpGhmVLCtZpgq+D8CBZY70vTE2hvbLcogg796/48I0NDy3g+w//NExF4SeTq4AMPacCZOZPZabkLHxy6URSIF4J9AzKIm0OgKqbSiVu6k16jnzi/LLqfKJ9oTDeHHXvvUPOO66m+Ap+GFJvvNY2xpd/DCym6HQvf91hse5+ZBvEump4Jf//NExGcRkTq4AI4kcERiPDpFYVI4Z9oTBr+1oe/7RpZ/jOpo/34UPcRNlRPJAxCQEcVb0TVXUPsKRuzOK6DAWd/CkBlHhfWVyAEpfefckLPv2bBXc7xvBflfHzmlzJQv//NExHMR+UK8AG4ecHjeHr/evp8838aYnmv5GZ5E4hAdbjlxyfOQkH7civSGKADwsoqLor1k//lRqLp4cwzqRJk3Px+vKO/1gl9x/8MSO3q3Yh9Q93n21Ie/3Xwm55T1//NExH4SKTa8AIPecIT95ExWE7cAwsVHyoORUEHJAbRKz1nXWf////oqxe/2pAcMWfEQXQBcJlQHR3b0Apq93hrCIyzv/v7X/lZDD/9C1n3EizdMtFWyhPNE5dGYqM02//NExIgUUTa4AG4ecESuhJhpYw9DqBVipgebNFW3eurWtZbfAObb5Q0LYDjWImKbuWWDbdx3rKms9/9Z/H8K8fqzXxB/btVGwjrQUHhaSl3nzaCpVKVXIrhpAYYASrnj//NExIkSETq4AH4ScAwXKsKo+ir+/8y+w9m/3ZTLSoId05fm9oFVuYT7t1kN52T/cmZ9PAuXXWHQtH0xqvL6ZPV3XyOiegv7Ezl+Ymc3KVns6e3KorGsHS3WNapHS84Z//NExJMRkTq0AMZWcNSuMU1CFRAeNK/cGBiHZ7KX19JW/J//f/dyhbfkFlCULoQ4gDaWYzhO16TpuR/CfUDsAiIGBepmVf5hjEjHHk+pD2KIviY5i1L7AaGl5f7+utDf//NExJ8RKaawAMiYlVb/1/v4m1jd2CTLEupRM22OroDU6izbuyRMUvB/+sQp93/c753dqiViWnBA3///+5///SjH/2+I2O8sOcnQLODQLeGxQAQLlapHzH9m5h3cxuaW//NExK0P0VKsAMiSlZnZ+tJgPFz7pwAgaTEn3JZ+Wl9DNWeH0LzbEJ7/L7Veq/7tI+hiPn2PuuAo3d///1X//6X/3cU7OgF+wbJI2Hpd2W9xAkDgzcs3T/uze3X/+P3a//NExMATgaqoANHelNjc3q7yIiOuURkeIUOiQWSWkqj2Uuu3uXjoV9S1+oltZCaW////Wz/9Sv/mdEYWK7cPU1IFVQGnyrfmAByzJOXzX8t5E3R/80//atf4oed8QVaF//NExMUUsaqoAMnYlEk3f165N13a7czqDFt7Zold+R/TderXO2stSfY4uGZn0Qca///5kMrNzL6//XXf6xjRkkSXUCW5IquC36FdTNAK0ttWUvn/SbqT863/X/9qmxTM//NExMUSGaqsAMHSlHVMZnzYzRYqueJUQbbzWuaNpverR9fDZrf+WyuviVprHxth2y7d//+p5F4x7f9rourv/9UOPS2vTNKYIeQ4HA41YFYA4yPnows6jR+Y3MER9DCz//NExM8Vma6gANKelFcWWnKLz5y8tgUNz69khNQ3d1eTlz16pl1ppTemez96mb1d6sHRipljv///2JY5NbXcM+C3scheqcq1DZLDq8RfY1KG93K7i835l+F22oHA//77//NExMsVWbKgANNelO+4apF3z/P4wONzm8hPNMmZ4I9Thql4RqPPWCjnuYmU+bUGtoidj7+LRNf+u9/2iU/vFz8VliPBA7Wmj//9NGiq3bhy40rm//Y26pR41SDRFH9Z//NExMgUWZ6oANHYlEZNdBjk1JKSTAsSxzcyWwnv5gvuTYarSgQAVPwmwua81LU8kgIEyFjAOFlLOi3PGCkCeKCDLYOr1uZlJ7LS9M2vWbN5RpVk9Gs9Xl9v////6vYK//NExMkaGaakAM5elJS4bVAmoHENmSgA+BbNlP1wSEPjnvih6gtTKkulgcnx1KhgA2G93KyEIm79nwPNNWohZKgqrKxQAEiUZAIA6c+o4/K+ed0HaZUSr0Gj16nuM7H9//NExLMXgaqoAMZalMZUC7xqYxpUAZFm1jQpPBmdrcudsU/ZzSZXB1EijtXLHBhKNSSXXguERU15TXXwtGkoJ6+Cz5oUz0iE7AYCmdVIwInZIUZKbmE3kO8wmR6lHVmc//NExKgUuaasAJ4OlJViRleW2f//v/9Sx1+o6ABWLGMyWMub/2HTDPWfpZgESZvev0AiGG3k9TCJijRhGBIl4CmgMoeM0Byg4N2QUPpm5sjqTZ8mk0k50ih53WiT65R0//NExKgX6aKkAMZUlIChY+8SqDIKQF8O0cfWm4Yh4+sETlqcLSDtimQ7YT+GEJmZapTyVB1LzY9YTWQ5QbYiwg/VytszQcCoxF3Hnxr7mrff1XPruNC1q88+bYiMec30//NExJsU+TqsAMYkcDqELHrDf/NIT7WH1RxbT8N+8I1yK1OXTOStL60NI3MXltLSuivRlgbUwR4vCicpC7DLUzX4JuMkXNW1wpvwlfv+rDHp5VK5S6+GuxYu+LRwESWG//NExJoSqTK8AHvecMJbPVU90wTg6zJhbcK/zVC8AMbcsT7YQtVkmX7mWmW9fZmFTfwVKYMCvYlEWsetG5aLS2JT8SufiApL73ZyW5r5cWSa9tx40WFd0k9Q5iW+pWXn//NExKIUmTa0AMYecACBmK0HEBQrZ51jqBfRXM1ph+pfNHlMvpc+e50gztUQw+pSqBydPqoglELEMIhCyucoRHtqxCXQ2aD5/r+J7+Ln8+mAz9z/Sua/7oFBN09+VBSQ//NExKITITqwAJYecPScW2Qu4h0PcWicctf1Wv/4P9c67/8//+ln8pgqeWfYHHpwwoJYJH9IoQ2dM0bXkUX5scTq3n/YgCjbFu03Qcqbci5Oj4GgFVPLg6tmQS1IIX+q//NExKgSaY60AJTWlGXso7eyoOzw0bmbT5WMFUFTYf1ESefIFA+xaJ3Vc9f5N22XoANqfurDnNt2Hny6Vdpw2ccN1keAyxRVUyDkRVUTD6jBH+uSx/m1n67bOUoQNSgq//NExLEP0Tq0AMPScGgyyzAUDaKUSAUokkzymx6Vwuc/2Pe1wmhSP5jVj09gNQjSjZYhkA3EPJw+IKATa6BfFJllpmT5WaowfmurdKOzexCEvaUMYJ2xCS0h1FvYg9hQ//NExMQRUTK0AMwWceEqwapMcPu/3LDZwf//////1sse8Ws0HLKnHSvlTUywAianjX4tNdU9upGa2+SuNX/zla0oqCBfK1A/qEiMzBYQAqGegiRNUSKkTNLyITBBiMmk//NExNERyTq0AMRScQuCRBe+VFovLHmm6tfrMKNzwzdgS1f3MEGFYo7aXwKEtbbgKi1fLeROfk32b2gFzccwGxG6y+MLFjIPgBI+uePDl5snrNlYQRsqPYgi2mpk5290//NExNwR+Sq0AHzScPT4vir9jf31fLztEwytHb///qplzoC+dahEg8SC6BL+k+gEBGW4Z1x4dTHT6zveROp2U5HVTQeCbWCELCa5xAMemVjuWdXW5Ycrr6V1MTBwlXX9//NExOcTESq0AMYScPq4tUwm5R1YqeCJ0Z//////196zgA3FnO4l72bXvgMelf+DQz1zlMpoNGx+PpdY5XGs48zZ/Z7yOSWxzai788+JAZ9Apb48HppBfcoNhO2Ch+ml//NExO0WYZ6sAMPWlH6H76+K+bb8NreelGldtdZYzxTaT8rhYMh/2NlAudlImS5M0Ajda/2xudvmbFs/0+WW8GeSLvX3WNfvTLxkXQUPjg7sEXcMoYKBqx6Ea1btz+P8//NExOYUeTawAI4YcMI6kHx/TRX///9FLF2f6O7rKomY1L24WIS/vwIVpsSscIEtkU/LAo+ixwdxs9fFssWz/TUr9nTAqStin7IK92bfA9onM8PDp8LKmmBJLGnBkQOp//NExOcT4ZqoAMYWlUL8l6r30Tn9W1Jq+v///t9nutclikrWPgA8lywXzJ5kG7Dz8sV9A5c5amEdu/p4oH32q6nNVYVu/qgN4UpWP83RP3irz6xH+f4n8JR3g6gny1R///NExOoUwaaoAMYOlJehNUwHmf////+us6wl4/FI6SJiJdEi9MLBjY0D1IHKq0vvSlmTy59plLv7g7UgzhQjGrmAdcS2AhRO0+yxS8Qt520fL1UUxdM53dOoPG7wPjwn//NExOoWaaKgAMYUlNCj0NxGdHBdITYSjK////7O9m/c/RX95QCB4TuNMXgYLFqQVm5z7yh2EP6OrZeCzlng8u8NxOzrqebNISh+Nm4TbDuZLW+m+LvcDWcYca56l04i//NExOMR8RqsAI4ecLV+2KtKGzgNKpbamSQIDB8YlNUyYakch1xWegusAfJfAIzDqifgS5VcXFl+emIbKw1erSujNbEikKajhVQkYLHncgfnGhqiY0BQ0JGER91Xv/7W//NExO4XWS6cAM5ecC1cVM8JsB3////7lb7V1Z3DFp42GkcYbuYRChbVa+Y4gDwb+vc/y/s6TBuWfc4Btb72Xa1CttL9Va5YPIefw9E7vvX62x7JWnsK2zUbz1lVft1h//NExOMRSQ6kAMYecKUC0NP////V9H6q9aqUQTJAsKmdGjBHgZAVWRdaLaFRgtgLJzJSFCkbqtAqhvtsRurSrExj1mCu8KmT0tDyPplFdlgy1dmkMGcoCYMHGAROn//9//NExPAWCYKYANPKlGilVkKUZL////4szStvdbWiPQlnLuJ6GAQHqZriURTGMu7QgAwkCCTWzgAeSWaxHOcvYwZlO4ZfFzDGFJ060Dw/gljwPz5SbV///W262y6lLJOT//NExOoUCRaUANaYcP8WDJ06U////6l/qgJq3FYdQliaawf+NLNP0EVkHqkAwdhnoSjYRWlQTMqATGHNyDF1aLGFGLHVeMMoD8JgnnajLG7aewo5XHsnrHhFQ9JQd1w7//NExOwWQZ6EANsElHVrZR7XW2tWtSK/rbckJs1DgVb80+/b7rnHt7V37a3mf1z7/0m0LxEIg0Fv9/rZ01EBObDwVHTbiBtIAC9Aqwax4FoylMz6mbaypdjIAyyGMTQn//NExOYU4RKAAVpYAGyqraMpiwxiBIeZDa8DqQDtUDK4hpSGd4GeAYyC4MDXxEyI0u62BSQXRI8ZgWWgtFS/juIoHxE6IDETRZ9X45JUOEVIsYmGrV/kSGsLNIKYk0WT//NExOUgYaJwAZt4AE1K//5qXiaOs6KSzIvmf///5VLxkTyzFjFSZqjNLGqaCLDRLD1weytYlfNhmjO6b+Xr17Ne6WpeWiwkFFD9I4841PONTs1eq2Nz6bjkcfKr/Nlt//NExLYf+qJEAZyYAd/1kkrqeWYbd3vAtTyp0s94iYR0qEuLudh3SwqVAX+aN1ZhEiDVHFG2xM1qQWDQqfSFCzEoxhWY2AmAgI8eCQNA0MPUxEDQGBoNT3LHisRA0HZL//NExIkVgV4EAc8wAJZ4iPS1T/iIGn/9eDRMQU1FMy4xMDCqqqqqqqqqqqqqqqqqqqqqqqqqqqqqqqqqqqqqqqqqqqqqqqqqqqqqqqqqqqqqqqqqqqqqqqqqTEFNRTMu//NExIYP+I3kAHpGTDEwMKqqqqqqqqqqqqqqqqqqqqqqqqqqqqqqqqqqqqqqqqqqqqqqqqqqqqqqqqqqqqqqqqqqqqqqqqqqqqqqqqqqqqqqqqqqqqqqqqqqTEFNRTMu//NExJkAAANIAAAAADEwMKqqqqqqqqqqqqqqqqqqqqqqqqqqqqqqqqqqqqqqqqqqqqqqqqqqqqqqqqqqqqqqqqqqqqqqqqqqqqqqqqqqqqqqqqqqqqqqqqqqTEFNRTMu//NExKwAAANIAAAAADEwMKqqqqqqqqqqqqqqqqqqqqqqqqqqqqqqqqqqqqqqqqqqqqqqqqqqqqqqqqqqqqqqqqqqqqqqqqqqqqqqqqqqqqqqqqqqqqqqqqqqTEFNRTMu//NExKwAAANIAAAAADEwMKqqqqqqqqqqqqqqqqqqqqqqqqqqqqqqqqqqqqqqqqqqqqqqqqqqqqqqqqqqqqqqqqqqqqqqqqqqqqqqqqqqqqqqqqqqqqqqqqqqTEFNRTMu//NExKwAAANIAAAAADEwMKqqqqqqqqqqqqqqqqqqqqqqqqqqqqqqqqqqqqqqqqqqqqqqqqqqqqqqqqqqqqqqqqqqqqqqqqqqqqqqqqqqqqqqqqqqqqqqqqqqTEFNRTMu//NExKwAAANIAAAAADEwMKqqqqqqqqqqqqqqqqqqqqqqqqqqqqqqqqqqqqqqqqqqqqqqqqqqqqqqqqqqqqqqqqqqqqqqqqqqqqqqqqqqqqqqqqqqqqqqqqqqTEFNRTMu//NExKwAAANIAAAAADEwMKqqqqqqqqqqqqqqqqqqqqqqqqqqqqqqqqqqqqqqqqqqqqqqqqqqqqqqqqqqqqqqqqqqqqqqqqqqqqqqqqqqqqqqqqqqqqqqqqqqTEFNRTMu//NExKwAAANIAAAAADEwMKqqqqqqqqqqqqqqqqqqqqqqqqqqqqqqqqqqqqqqqqqqqqqqqqqqqqqqqqqqqqqqqqqqqqqqqqqqqqqqqqqqqqqqqqqqqqqqqqqqTEFNRTMu//NExKwAAANIAAAAADEwMKqqqqqqqqqqqqqqqqqqqqqqqqqqqqqqqqqqqqqqqqqqqqqqqqqqqqqqqqqqqqqqqqqqqqqqqqqqqqqqqqqqqqqqqqqqqqqqqqqqTEFNRTMu//NExKwAAANIAAAAADEwMKqqqqqqqqqqqqqqqqqqqqqqqqqqqqqqqqqqqqqqqqqqqqqqqqqqqqqqqqqqqqqqqqqqqqqqqqqqqqqqqqqqqqqqqqqqqqqqqqqqTEFNRTMu//NExKwAAANIAAAAADEwMKqqqqqqqqqqqqqqqqqqqqqqqqqqqqqqqqqqqqqqqqqqqqqqqqqqqqqqqqqqqqqqqqqqqqqqqqqqqqqqqqqqqqqqqqqqqqqqqqqqBUgxgaIN//NExKwAAANIAAAAAGB4ArwWgJ8FIOREoUlU2jEejEujkajkqMx8HcRBzHklD6RigP4+E8mLAtmTRo0BD/hw0aAguaNGjRkyZAbOoGTRoHAuQNGjRkyZM/IGjRo2ZMmQ//NExKwAAANIAAAAAIiYyZMmP9JkyZBOVIMMBPNcVwFIEgQBKwVAYB4F3BTgQx/pAhABy2VAaDpV/FhmIYNye0SAaCJE4nEtWxEdn7Bm/q8zP373nbtr74sWR0WLKTlJ//NExKwAAANIAAAAAObXvzq9f4d3d3iIbhwMwgAACBZ/u776IEABH8REREKIACE3d0J3OIiCz93d+u76JuiIhdd0TocDeILfRE64AAJXAwMDeeoQDNBwMFFFprMkJSKT//NExP8Y8JTUAHvYTNzhKBKDOtEXdlvJocQanrRkIQNkYSg2JzzS5c8y6lPS8CRaKqklCMtZOT2Bc9+2tNa9a22tM4uXfu1w6eZW0swE1X1UwoCJjbBl9jqlPVfUpsaq//NExO4jUxnkAHsGvU3/8Zm/gYCOlsxrt8VV43xS6v1Yx1SZmLjMx/94agKjahvExMw30MUasY1wvLtsfzRo1sk4PZRFThderkqsmovOH1lEQjQyMh4bBCaCcW7P/3Z3//NExLMgExnsAMMGvWdnYsp3Z/6k4004sq4tnLYSGqxXqQBQqKNxb10q4FCooLCwsLCoqKiooLGv+LC1TEFNRTMuMTAwVVVVVVVVVVVVVVVVVVVVVVVVVVVVVVVVVVVV//NExIUYKXEwAHpMlFVVVVVVVVVVVVVVVVVVVVVVVVVVVVVVVVVVVVVVVVVVVVVVVVVVVVVVVVVVVVVVVVVVVVVVVVVVVVVVVVVVVVVVVVVVVVVVVVVVVVVVVVVVVVVV\" type=\"audio/mpeg\" />\n",
       "                    Your browser does not support the audio element.\n",
       "                </audio>\n",
       "              "
      ],
      "text/plain": [
       "<IPython.lib.display.Audio object>"
      ]
     },
     "execution_count": 36,
     "metadata": {},
     "output_type": "execute_result"
    }
   ],
   "source": [
    "from gtts import gTTS\n",
    "tts = gTTS(madlib)\n",
    "tts.save('madlib.mp3')\n",
    "\n",
    "from IPython.display import Audio\n",
    "Audio(filename='madlib.mp3')"
   ]
  },
  {
   "cell_type": "markdown",
   "metadata": {
    "id": "lzLHXjC5h_vV"
   },
   "source": [
    "# \\~\\~\\~ Question Break!! \\~\\~\\~\n",
    "![question_break](https://raw.githubusercontent.com/gabrielecalvo/Language4Water/master/assets/xx_question_break.jpg)"
   ]
  },
  {
   "cell_type": "markdown",
   "metadata": {},
   "source": [
    "# Exercise\n",
    "**Coolyify**: write code that converts any string into a cool string where all the \"e\"s are converted to \"3\" and all the \"s\" to \"$\""
   ]
  },
  {
   "cell_type": "code",
   "execution_count": 5,
   "metadata": {},
   "outputs": [
    {
     "data": {
      "text/plain": [
       "\"Lif3 i$ what happ3n$ wh3n you'r3 bu$y making oth3r plan$.\""
      ]
     },
     "execution_count": 5,
     "metadata": {},
     "output_type": "execute_result"
    }
   ],
   "source": [
    "my_string = \"Life is what happens when you're busy making other plans.\""
   ]
  },
  {
   "cell_type": "code",
   "execution_count": 46,
   "metadata": {},
   "outputs": [
    {
     "data": {
      "text/plain": [
       "\"Lif3 i$ what happ3n$ when you're bu$y making other plan$.\""
      ]
     },
     "execution_count": 46,
     "metadata": {},
     "output_type": "execute_result"
    }
   ],
   "source": [
    "my_string.replace(\"e\",\"3\").replace(\"s\",\"$\")"
   ]
  },
  {
   "cell_type": "markdown",
   "metadata": {},
   "source": [
    "**QuickOnlineReviewer**: write code that takes a few inputs and fills a template of an online review"
   ]
  },
  {
   "cell_type": "code",
   "execution_count": null,
   "metadata": {},
   "outputs": [],
   "source": [
    "\"this {} was {}, I will definitely {} this to all my {}\""
   ]
  },
  {
   "cell_type": "markdown",
   "metadata": {},
   "source": [
    "# Using the standard library (shipped with python)"
   ]
  },
  {
   "cell_type": "code",
   "execution_count": 71,
   "metadata": {},
   "outputs": [
    {
     "data": {
      "text/plain": [
       "9"
      ]
     },
     "execution_count": 71,
     "metadata": {},
     "output_type": "execute_result"
    }
   ],
   "source": [
    "import random\n",
    "\n",
    "random.randint(1,13)"
   ]
  },
  {
   "cell_type": "code",
   "execution_count": 72,
   "metadata": {},
   "outputs": [
    {
     "data": {
      "text/plain": [
       "5"
      ]
     },
     "execution_count": 72,
     "metadata": {},
     "output_type": "execute_result"
    }
   ],
   "source": [
    "from random import randint\n",
    "randint(1,13)"
   ]
  },
  {
   "cell_type": "markdown",
   "metadata": {},
   "source": [
    "## Inspecting the documentation\n",
    "If you want to learn more about how to use a particular function (or method, or class) you can use the following"
   ]
  },
  {
   "cell_type": "code",
   "execution_count": 73,
   "metadata": {
    "collapsed": true,
    "jupyter": {
     "outputs_hidden": true
    },
    "tags": []
   },
   "outputs": [
    {
     "name": "stdout",
     "output_type": "stream",
     "text": [
      "Help on method randint in module random:\n",
      "\n",
      "randint(a, b) method of random.Random instance\n",
      "    Return random integer in range [a, b], including both end points.\n",
      "\n"
     ]
    }
   ],
   "source": [
    "# works in any python console\n",
    "help(random.randint)"
   ]
  },
  {
   "cell_type": "code",
   "execution_count": 74,
   "metadata": {
    "collapsed": true,
    "jupyter": {
     "outputs_hidden": true
    },
    "tags": []
   },
   "outputs": [
    {
     "data": {
      "text/plain": [
       "\u001b[1;31mSignature:\u001b[0m \u001b[0mrandom\u001b[0m\u001b[1;33m.\u001b[0m\u001b[0mrandint\u001b[0m\u001b[1;33m(\u001b[0m\u001b[0ma\u001b[0m\u001b[1;33m,\u001b[0m \u001b[0mb\u001b[0m\u001b[1;33m)\u001b[0m\u001b[1;33m\u001b[0m\u001b[1;33m\u001b[0m\u001b[0m\n",
       "\u001b[1;31mDocstring:\u001b[0m\n",
       "Return random integer in range [a, b], including both end points.\n",
       "        \n",
       "\u001b[1;31mFile:\u001b[0m      c:\\users\\xps\\appdata\\local\\programs\\python\\python39\\lib\\random.py\n",
       "\u001b[1;31mType:\u001b[0m      method\n"
      ]
     },
     "metadata": {},
     "output_type": "display_data"
    }
   ],
   "source": [
    "# work in jupyter (and ipython consoles)\n",
    "random.randint?"
   ]
  },
  {
   "cell_type": "code",
   "execution_count": 75,
   "metadata": {
    "collapsed": true,
    "jupyter": {
     "outputs_hidden": true
    },
    "tags": []
   },
   "outputs": [
    {
     "data": {
      "text/plain": [
       "\u001b[1;31mSignature:\u001b[0m \u001b[0mrandom\u001b[0m\u001b[1;33m.\u001b[0m\u001b[0mrandint\u001b[0m\u001b[1;33m(\u001b[0m\u001b[0ma\u001b[0m\u001b[1;33m,\u001b[0m \u001b[0mb\u001b[0m\u001b[1;33m)\u001b[0m\u001b[1;33m\u001b[0m\u001b[1;33m\u001b[0m\u001b[0m\n",
       "\u001b[1;31mDocstring:\u001b[0m\n",
       "Return random integer in range [a, b], including both end points.\n",
       "        \n",
       "\u001b[1;31mSource:\u001b[0m   \n",
       "    \u001b[1;32mdef\u001b[0m \u001b[0mrandint\u001b[0m\u001b[1;33m(\u001b[0m\u001b[0mself\u001b[0m\u001b[1;33m,\u001b[0m \u001b[0ma\u001b[0m\u001b[1;33m,\u001b[0m \u001b[0mb\u001b[0m\u001b[1;33m)\u001b[0m\u001b[1;33m:\u001b[0m\u001b[1;33m\n",
       "\u001b[0m        \u001b[1;34m\"\"\"Return random integer in range [a, b], including both end points.\n",
       "        \"\"\"\u001b[0m\u001b[1;33m\n",
       "\u001b[0m\u001b[1;33m\n",
       "\u001b[0m        \u001b[1;32mreturn\u001b[0m \u001b[0mself\u001b[0m\u001b[1;33m.\u001b[0m\u001b[0mrandrange\u001b[0m\u001b[1;33m(\u001b[0m\u001b[0ma\u001b[0m\u001b[1;33m,\u001b[0m \u001b[0mb\u001b[0m\u001b[1;33m+\u001b[0m\u001b[1;36m1\u001b[0m\u001b[1;33m)\u001b[0m\u001b[1;33m\u001b[0m\u001b[1;33m\u001b[0m\u001b[0m\n",
       "\u001b[1;31mFile:\u001b[0m      c:\\users\\xps\\appdata\\local\\programs\\python\\python39\\lib\\random.py\n",
       "\u001b[1;31mType:\u001b[0m      method\n"
      ]
     },
     "metadata": {},
     "output_type": "display_data"
    }
   ],
   "source": [
    "# See source code, work in jupyter (and ipython consoles)\n",
    "random.randint??"
   ]
  },
  {
   "cell_type": "markdown",
   "metadata": {},
   "source": [
    "# High-Low Game\n",
    "Guess if the next card is going to be higher or lower than what just came out (tie loses)"
   ]
  },
  {
   "cell_type": "code",
   "execution_count": 82,
   "metadata": {},
   "outputs": [
    {
     "name": "stdout",
     "output_type": "stream",
     "text": [
      "the new card is card < 8 >\n"
     ]
    }
   ],
   "source": [
    "import random\n",
    "\n",
    "card = random.randint(1, 13)\n",
    "print(f\"the new card is card < {card} >\")"
   ]
  },
  {
   "cell_type": "code",
   "execution_count": null,
   "metadata": {},
   "outputs": [],
   "source": [
    "import random as rnd         # import with alias\n",
    "from random import randint   # importing single item from module"
   ]
  },
  {
   "cell_type": "markdown",
   "metadata": {
    "id": "jzBPvYrteEk0"
   },
   "source": [
    "# Aggregate of Types"
   ]
  },
  {
   "cell_type": "code",
   "execution_count": null,
   "metadata": {
    "id": "iyBRxqAUcemH"
   },
   "outputs": [],
   "source": [
    "f = [1, 2, 3]       # list\n",
    "h = {'a':1, 'b':2}  # dictionary (key-value mappings)"
   ]
  },
  {
   "cell_type": "code",
   "execution_count": null,
   "metadata": {
    "id": "3LMB_S7flGNR"
   },
   "outputs": [],
   "source": [
    "# the content can be eterogenous (different types)\n",
    "f = [1, \"two\", 3, False] \n",
    "g = {'a': 1, 2: True}  "
   ]
  },
  {
   "cell_type": "markdown",
   "metadata": {
    "id": "6A0vojiZsAA2"
   },
   "source": [
    "# Fun with... Lists"
   ]
  },
  {
   "cell_type": "code",
   "execution_count": 83,
   "metadata": {},
   "outputs": [],
   "source": [
    "my_list = ['John', 'Paul', 'George', 'Ringo']  # most common is all the same type"
   ]
  },
  {
   "cell_type": "code",
   "execution_count": 85,
   "metadata": {
    "id": "djCBc0DbsCst"
   },
   "outputs": [
    {
     "name": "stdout",
     "output_type": "stream",
     "text": [
      "Ringo\n",
      "Paul\n",
      "Ringo\n"
     ]
    }
   ],
   "source": [
    "# get first element of the list\n",
    "print(my_list[3])\n",
    "\n",
    "# get second\n",
    "print(my_list[1])\n",
    "\n",
    "# get last\n",
    "print(my_list[-1])"
   ]
  },
  {
   "cell_type": "markdown",
   "metadata": {},
   "source": [
    "## List slicing\n",
    "also used for **arrays**, **matrices**, **pd.Series** and **strings**\n",
    "\n",
    "LIST[start:end:step]\n",
    "\n",
    "![slicing](https://miro.medium.com/max/1838/1*HqdR129XR8-1ojtTYLou7g.png)"
   ]
  },
  {
   "cell_type": "code",
   "execution_count": 88,
   "metadata": {},
   "outputs": [
    {
     "data": {
      "text/plain": [
       "['John', 'Paul', 'George']"
      ]
     },
     "execution_count": 88,
     "metadata": {},
     "output_type": "execute_result"
    }
   ],
   "source": [
    "my_list[:3]"
   ]
  },
  {
   "cell_type": "code",
   "execution_count": 89,
   "metadata": {},
   "outputs": [
    {
     "data": {
      "text/plain": [
       "['John', 'Paul']"
      ]
     },
     "execution_count": 89,
     "metadata": {},
     "output_type": "execute_result"
    }
   ],
   "source": [
    "# taking first two\n",
    "my_list[:2]    # same as my_list[0:2:1]"
   ]
  },
  {
   "cell_type": "code",
   "execution_count": 90,
   "metadata": {},
   "outputs": [
    {
     "data": {
      "text/plain": [
       "['George', 'Ringo']"
      ]
     },
     "execution_count": 90,
     "metadata": {},
     "output_type": "execute_result"
    }
   ],
   "source": [
    "# taking last two\n",
    "my_list[-2:]    # same as my_list[-2::1]"
   ]
  },
  {
   "cell_type": "code",
   "execution_count": 91,
   "metadata": {},
   "outputs": [
    {
     "data": {
      "text/plain": [
       "['Paul', 'George']"
      ]
     },
     "execution_count": 91,
     "metadata": {},
     "output_type": "execute_result"
    }
   ],
   "source": [
    "# taking middle two?\n",
    "my_list[1:-1]  # or my_list[1:3]"
   ]
  },
  {
   "cell_type": "code",
   "execution_count": 93,
   "metadata": {},
   "outputs": [
    {
     "data": {
      "text/plain": [
       "['John', 'George']"
      ]
     },
     "execution_count": 93,
     "metadata": {},
     "output_type": "execute_result"
    }
   ],
   "source": [
    "# taking one every two (odd numbers)\n",
    "my_list[::2]"
   ]
  },
  {
   "cell_type": "code",
   "execution_count": 95,
   "metadata": {},
   "outputs": [
    {
     "data": {
      "text/plain": [
       "['Ringo', 'George', 'Paul', 'John']"
      ]
     },
     "execution_count": 95,
     "metadata": {},
     "output_type": "execute_result"
    }
   ],
   "source": [
    "# reversing the order?\n",
    "my_list[::-1]\n",
    "\n",
    "# or to reverse it in-place `my_list.reverse()`"
   ]
  },
  {
   "cell_type": "code",
   "execution_count": 96,
   "metadata": {},
   "outputs": [
    {
     "data": {
      "text/plain": [
       "['George', 'John', 'Paul', 'Ringo']"
      ]
     },
     "execution_count": 96,
     "metadata": {},
     "output_type": "execute_result"
    }
   ],
   "source": [
    "# sorting a list\n",
    "sorted(my_list)"
   ]
  },
  {
   "cell_type": "code",
   "execution_count": 97,
   "metadata": {},
   "outputs": [
    {
     "data": {
      "text/plain": [
       "'George'"
      ]
     },
     "execution_count": 97,
     "metadata": {},
     "output_type": "execute_result"
    }
   ],
   "source": [
    "my_list[2]"
   ]
  },
  {
   "cell_type": "code",
   "execution_count": 98,
   "metadata": {},
   "outputs": [
    {
     "name": "stdout",
     "output_type": "stream",
     "text": [
      "before:  ['John', 'Paul', 'George', 'Ringo']\n",
      "after:  ['John', 'Paul', 'THE George', 'Ringo']\n"
     ]
    }
   ],
   "source": [
    "# changing one value\n",
    "print('before: ', my_list)\n",
    "my_list[2] = 'THE George'\n",
    "print('after: ', my_list)"
   ]
  },
  {
   "cell_type": "code",
   "execution_count": 99,
   "metadata": {},
   "outputs": [
    {
     "data": {
      "text/plain": [
       "['John', 'Paul', 'THE George', 'Ringo', 'Pete']"
      ]
     },
     "execution_count": 99,
     "metadata": {},
     "output_type": "execute_result"
    }
   ],
   "source": [
    "# adding elements to a list\n",
    "my_list.append('Pete')\n",
    "\n",
    "my_list"
   ]
  },
  {
   "cell_type": "code",
   "execution_count": 102,
   "metadata": {},
   "outputs": [
    {
     "data": {
      "text/plain": [
       "['John', 'apple', 'Paul', 'THE George', 'Ringo', 'Pete']"
      ]
     },
     "execution_count": 102,
     "metadata": {},
     "output_type": "execute_result"
    }
   ],
   "source": [
    "my_list"
   ]
  },
  {
   "cell_type": "code",
   "execution_count": 101,
   "metadata": {},
   "outputs": [],
   "source": [
    "my_list.insert(1, \"apple\")"
   ]
  },
  {
   "cell_type": "code",
   "execution_count": 103,
   "metadata": {},
   "outputs": [
    {
     "data": {
      "text/plain": [
       "True"
      ]
     },
     "execution_count": 103,
     "metadata": {},
     "output_type": "execute_result"
    }
   ],
   "source": [
    "# checking if element in list\n",
    "'Pete' in my_list"
   ]
  },
  {
   "cell_type": "markdown",
   "metadata": {},
   "source": [
    "if the index you pass excides the length of the array, it will return the entire array"
   ]
  },
  {
   "cell_type": "code",
   "execution_count": 112,
   "metadata": {},
   "outputs": [
    {
     "data": {
      "text/plain": [
       "['John', 'apple', 'Paul', 'THE George', 'Ringo', 'Pete']"
      ]
     },
     "execution_count": 112,
     "metadata": {},
     "output_type": "execute_result"
    }
   ],
   "source": [
    "my_list[-5000:]"
   ]
  },
  {
   "cell_type": "markdown",
   "metadata": {},
   "source": [
    "# \\~\\~\\~ Question Break!! \\~\\~\\~\n",
    "![question_break](https://raw.githubusercontent.com/gabrielecalvo/Language4Water/master/assets/xx_question_break.jpg)"
   ]
  },
  {
   "cell_type": "markdown",
   "metadata": {
    "id": "6A0vojiZsAA2"
   },
   "source": [
    "# Fun with... Dictionaries\n",
    "Collection of key-value pairs"
   ]
  },
  {
   "cell_type": "code",
   "execution_count": 114,
   "metadata": {},
   "outputs": [],
   "source": [
    "# values can be duplicated, keys cannot\n",
    "the_beatles_instruments = {\n",
    "    'John': 'guitar',\n",
    "    'Paul':  'guitar',  \n",
    "    'George': 'bass',\n",
    "    'Ringo': 'drums',\n",
    "} \n",
    "\n",
    "# values can be eterogenous and nested\n",
    "the_beatles_tenure = {\n",
    "    'John': {'start': 1960, 'end': 1969},\n",
    "    'Paul':  [1960, 1970],\n",
    "    'George': (1960, 1970),\n",
    "    'Ringo': '1962–1970',\n",
    "}"
   ]
  },
  {
   "cell_type": "code",
   "execution_count": 115,
   "metadata": {},
   "outputs": [
    {
     "data": {
      "text/plain": [
       "'guitar'"
      ]
     },
     "execution_count": 115,
     "metadata": {},
     "output_type": "execute_result"
    }
   ],
   "source": [
    "# accessing a value\n",
    "the_beatles_instruments['Paul']"
   ]
  },
  {
   "cell_type": "code",
   "execution_count": 117,
   "metadata": {},
   "outputs": [
    {
     "data": {
      "text/plain": [
       "1970"
      ]
     },
     "execution_count": 117,
     "metadata": {},
     "output_type": "execute_result"
    }
   ],
   "source": [
    "# starting year of John?\n",
    "the_beatles_tenure['Paul'][-1]"
   ]
  },
  {
   "cell_type": "code",
   "execution_count": 119,
   "metadata": {},
   "outputs": [
    {
     "data": {
      "text/plain": [
       "{'John': 'guitar',\n",
       " 'Paul': 'guitar',\n",
       " 'George': 'bass',\n",
       " 'Ringo': 'drums',\n",
       " 'Pete': 'trumpet'}"
      ]
     },
     "execution_count": 119,
     "metadata": {},
     "output_type": "execute_result"
    }
   ],
   "source": [
    "# adding a new value\n",
    "the_beatles_instruments['Pete'] = 'trumpet'\n",
    "\n",
    "the_beatles_instruments"
   ]
  },
  {
   "cell_type": "code",
   "execution_count": 123,
   "metadata": {},
   "outputs": [
    {
     "data": {
      "text/plain": [
       "'Ringo'"
      ]
     },
     "execution_count": 123,
     "metadata": {},
     "output_type": "execute_result"
    }
   ],
   "source": [
    "# getting all keys\n",
    "list(the_beatles_tenure.keys())[-1]"
   ]
  },
  {
   "cell_type": "code",
   "execution_count": 127,
   "metadata": {},
   "outputs": [
    {
     "data": {
      "text/plain": [
       "21"
      ]
     },
     "execution_count": 127,
     "metadata": {},
     "output_type": "execute_result"
    }
   ],
   "source": [
    "# list\n",
    "str(7)*3\n",
    "int(\"7\")*3"
   ]
  },
  {
   "cell_type": "code",
   "execution_count": 129,
   "metadata": {},
   "outputs": [
    {
     "data": {
      "text/plain": [
       "dict_values(['guitar', 'guitar', 'bass', 'drums', 'trumpet'])"
      ]
     },
     "execution_count": 129,
     "metadata": {},
     "output_type": "execute_result"
    }
   ],
   "source": [
    "# getting all values\n",
    "the_beatles_instruments.values()"
   ]
  },
  {
   "cell_type": "code",
   "execution_count": 131,
   "metadata": {},
   "outputs": [
    {
     "data": {
      "text/plain": [
       "dict_items([('John', 'guitar'), ('Paul', 'guitar'), ('George', 'bass'), ('Ringo', 'drums'), ('Pete', 'trumpet')])"
      ]
     },
     "execution_count": 131,
     "metadata": {},
     "output_type": "execute_result"
    }
   ],
   "source": [
    "# getting all keys-values as pairs\n",
    "the_beatles_instruments.items()"
   ]
  },
  {
   "cell_type": "markdown",
   "metadata": {},
   "source": [
    "# If Statement\n",
    "diverting the execution flow depending on 1+ condition"
   ]
  },
  {
   "cell_type": "code",
   "execution_count": 149,
   "metadata": {},
   "outputs": [],
   "source": [
    "happy = True\n",
    "know_it = True"
   ]
  },
  {
   "cell_type": "code",
   "execution_count": 150,
   "metadata": {},
   "outputs": [
    {
     "name": "stdout",
     "output_type": "stream",
     "text": [
      "...silence...\n"
     ]
    }
   ],
   "source": [
    "if happy and know_it:\n",
    "    print('hands go clap clap')\n",
    "elif not know_it:\n",
    "    print('hands go clap')\n",
    "else:\n",
    "    print('...silence...')"
   ]
  },
  {
   "cell_type": "code",
   "execution_count": null,
   "metadata": {},
   "outputs": [],
   "source": [
    "# what result do I expect with.. ? \n",
    "happy = True\n",
    "know_it = False"
   ]
  },
  {
   "cell_type": "code",
   "execution_count": null,
   "metadata": {},
   "outputs": [],
   "source": [
    "# what result do I expect with.. ? \n",
    "happy = False\n",
    "know_it = True"
   ]
  },
  {
   "cell_type": "code",
   "execution_count": null,
   "metadata": {},
   "outputs": [],
   "source": [
    "# what result do I expect with.. ? \n",
    "happy = False\n",
    "know_it = False"
   ]
  },
  {
   "cell_type": "markdown",
   "metadata": {},
   "source": [
    "# Homework"
   ]
  },
  {
   "cell_type": "code",
   "execution_count": 2,
   "metadata": {},
   "outputs": [
    {
     "data": {
      "text/plain": [
       "'4'"
      ]
     },
     "execution_count": 2,
     "metadata": {},
     "output_type": "execute_result"
    }
   ],
   "source": [
    "# Write code that removes the first and last characters of a string.\n",
    "word = \"L4W\"\n",
    "word[1:-1]\n",
    "\n",
    "# Examples:\n",
    "# \"Chocolate\"  >>  \"hocolat\"\n",
    "# \"L4W\"        >>  \"4\""
   ]
  },
  {
   "cell_type": "code",
   "execution_count": 8,
   "metadata": {},
   "outputs": [
    {
     "name": "stdout",
     "output_type": "stream",
     "text": [
      "-7\n"
     ]
    }
   ],
   "source": [
    "# you are given a number and return its negative value. But maybe the number is already negative?\n",
    "x = 7\n",
    "\n",
    "if x>0:\n",
    "    print(-x)\n",
    "else:\n",
    "    print(x)\n",
    "\n",
    "# Examples:\n",
    "# 1   >> -1\n",
    "# -5  >> -5\n",
    "# 0   >> 0"
   ]
  },
  {
   "cell_type": "code",
   "execution_count": 20,
   "metadata": {},
   "outputs": [
    {
     "data": {
      "text/plain": [
       "'Hello World'"
      ]
     },
     "execution_count": 20,
     "metadata": {},
     "output_type": "execute_result"
    }
   ],
   "source": [
    "# you have a dictionary, extract \"Hello\" and \"World\" from it using square brackets\n",
    "# and combine them into a single string\n",
    "mycooldata = {\n",
    "    'a': {\"c\": [\"World\", \"puppy\"]}, \n",
    "    \"b\": ['hi', 'Hello']\n",
    "}\n",
    " \n",
    "mycooldata['b'][1] + \" \" + mycooldata['a']['c'][0]"
   ]
  },
  {
   "cell_type": "markdown",
   "metadata": {},
   "source": [
    "want **more**? try: \n",
    "- https://www.w3resource.com/python-exercises/string/ exercises 3, 5, 6, 9, 15 \n",
    "- https://www.w3resource.com/python-exercises/list/ exercises 1, 2\n",
    "- https://www.w3resource.com/python-exercises/dictionary/ exercises 4, 45\n",
    "some solutions are using loops, which we'll discuss next time, but you can also create a hard-coded implementation if you create a sample string/list/dictionary to work on."
   ]
  },
  {
   "cell_type": "code",
   "execution_count": 21,
   "metadata": {},
   "outputs": [],
   "source": [
    "# Write a Python program to get a single string from two given strings, separated by a space and swap the first two characters of each string. Go to the editor\n",
    "# a, b = 'abc', 'xyz'\n",
    "a = 'abc'\n",
    "b = 'xyz'\n",
    "\n",
    "# 'xyc abz'"
   ]
  },
  {
   "cell_type": "code",
   "execution_count": 34,
   "metadata": {},
   "outputs": [
    {
     "data": {
      "text/plain": [
       "True"
      ]
     },
     "execution_count": 34,
     "metadata": {},
     "output_type": "execute_result"
    }
   ],
   "source": [
    "b[:-1] + a[-1] + \" \" + a[:-1] + b[-1] == 'xyc abz'"
   ]
  },
  {
   "cell_type": "code",
   "execution_count": null,
   "metadata": {},
   "outputs": [],
   "source": []
  }
 ],
 "metadata": {
  "kernelspec": {
   "display_name": "Python 3 (ipykernel)",
   "language": "python",
   "name": "python3"
  },
  "language_info": {
   "codemirror_mode": {
    "name": "ipython",
    "version": 3
   },
   "file_extension": ".py",
   "mimetype": "text/x-python",
   "name": "python",
   "nbconvert_exporter": "python",
   "pygments_lexer": "ipython3",
   "version": "3.9.7"
  },
  "toc-autonumbering": false
 },
 "nbformat": 4,
 "nbformat_minor": 4
}
