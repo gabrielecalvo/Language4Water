{
 "cells": [
  {
   "cell_type": "markdown",
   "metadata": {},
   "source": [
    "# In the previous episode...\n",
    "\n",
    "### string methods\n",
    "```python\n",
    "\"aAbB\".upper()  # \"AABB\"\n",
    "\"aAbB\".lower()  # \"aabb\"\n",
    "\"aAbB\".replace(\"A\", \"C\")  # \"aCbB\"\n",
    "```\n",
    "\n",
    "### templeting\n",
    "```python\n",
    "print(\"this {} template\".format(myvar))  # sometimes useful\n",
    "print(f\"this {myvar} template\")          # most modern and nicer to work with\n",
    "```\n",
    "\n",
    "### user inputs\n",
    "```python\n",
    "city = input(\"Capital of Germany? \")\n",
    "```\n",
    "\n",
    "### importing modules\n",
    "```python\n",
    "import random                # module import\n",
    "import random as rnd         # import with alias\n",
    "from random import randint   # importing single item from module\n",
    "```\n",
    "\n",
    "### aggregate of types\n",
    "```python\n",
    "my_list = [1, 2, 3] \n",
    "my_dict = {'a':1, 'b':2}\n",
    "```\n",
    "\n",
    "### accessing values, slicing, insert/update\n",
    "```python\n",
    "my_list[2]\n",
    "my_list[1:-1]\n",
    "my_list[1] = 42\n",
    "\n",
    "my_dict['b']\n",
    "my_dict['b'] = 42\n",
    "```\n",
    "\n",
    "### if statement\n",
    "```python\n",
    "if happy and know_it:\n",
    "    print('hands go clap clap')\n",
    "elif not know_it:\n",
    "    print('hands go clap')\n",
    "else:\n",
    "    print('...silence...')\n",
    "```\n",
    "\n",
    ".. if you are ever in a hurry, you can try:\n",
    "- https://speedsheet.io/s/python"
   ]
  },
  {
   "cell_type": "markdown",
   "metadata": {},
   "source": [
    "# .. and now"
   ]
  },
  {
   "cell_type": "markdown",
   "metadata": {},
   "source": [
    "# For Loop\n",
    "runs a part of the code multiple times: one for every item in the sequence"
   ]
  },
  {
   "cell_type": "code",
   "execution_count": 1,
   "metadata": {},
   "outputs": [
    {
     "name": "stdout",
     "output_type": "stream",
     "text": [
      "0\n",
      "1\n",
      "2\n"
     ]
    }
   ],
   "source": [
    "# iterating a specified number of times\n",
    "for i in range(3):\n",
    "    print(i)"
   ]
  },
  {
   "cell_type": "code",
   "execution_count": 2,
   "metadata": {},
   "outputs": [
    {
     "name": "stdout",
     "output_type": "stream",
     "text": [
      "a\n",
      "b\n",
      "c\n"
     ]
    }
   ],
   "source": [
    "# iterating over a list\n",
    "for i in ['a', 'b', 'c']:\n",
    "    print(i)"
   ]
  },
  {
   "cell_type": "code",
   "execution_count": 3,
   "metadata": {},
   "outputs": [
    {
     "name": "stdout",
     "output_type": "stream",
     "text": [
      "a\n",
      "b\n",
      "c\n"
     ]
    }
   ],
   "source": [
    "# and over a string\n",
    "for i in \"abc\":\n",
    "    print(i)"
   ]
  },
  {
   "cell_type": "code",
   "execution_count": 4,
   "metadata": {},
   "outputs": [
    {
     "name": "stdout",
     "output_type": "stream",
     "text": [
      "1\n",
      "4\n"
     ]
    }
   ],
   "source": [
    "d = {1: 'one', 4:'four'}\n",
    "\n",
    "# by default, iteration over a dictionary means over its keys\n",
    "for i in d:  \n",
    "    print(i)"
   ]
  },
  {
   "cell_type": "code",
   "execution_count": 5,
   "metadata": {},
   "outputs": [
    {
     "data": {
      "text/plain": [
       "dict_items([(1, 'one'), (4, 'four')])"
      ]
     },
     "execution_count": 5,
     "metadata": {},
     "output_type": "execute_result"
    }
   ],
   "source": [
    "# to get both key and value, you can use the .items method of dictionaries\n",
    "d.items()"
   ]
  },
  {
   "cell_type": "code",
   "execution_count": 6,
   "metadata": {},
   "outputs": [
    {
     "name": "stdout",
     "output_type": "stream",
     "text": [
      "the key is `1`, while the value is `one`\n",
      "the key is `4`, while the value is `four`\n"
     ]
    }
   ],
   "source": [
    "str_tmpl = \"the key is `{}`, while the value is `{}`\"\n",
    "\n",
    "for pairs in d.items():\n",
    "    current_str = str_tmpl.format(pairs[0], pairs[1])\n",
    "    print(current_str)"
   ]
  },
  {
   "cell_type": "code",
   "execution_count": 7,
   "metadata": {},
   "outputs": [
    {
     "name": "stdout",
     "output_type": "stream",
     "text": [
      "the key is `1`, while the value is `one`\n",
      "the key is `4`, while the value is `four`\n"
     ]
    }
   ],
   "source": [
    "# you can use `unpacking` to already split key and value into variables\n",
    "# this will avoid having to index them in the loop\n",
    "for k,v in d.items():\n",
    "    current_str = str_tmpl.format(k, v)\n",
    "    print(current_str)"
   ]
  },
  {
   "cell_type": "code",
   "execution_count": 1,
   "metadata": {},
   "outputs": [
    {
     "name": "stdout",
     "output_type": "stream",
     "text": [
      "{'John': ['guitar', 'singing'], 'Paul': ['guitar'], 'George': ['bass', 'drums'], 'Ringo': ['drums']}\n"
     ]
    }
   ],
   "source": [
    "the_beatles_instruments = {\n",
    "    'John': ['guitar', 'singing'],\n",
    "    'Paul':  ['guitar'],  \n",
    "    'George': ['bass', 'drums'],\n",
    "    'Ringo': ['drums'],\n",
    "}\n",
    "print(the_beatles_instruments)"
   ]
  },
  {
   "cell_type": "code",
   "execution_count": 2,
   "metadata": {},
   "outputs": [
    {
     "name": "stdout",
     "output_type": "stream",
     "text": [
      "John plays guitar\n",
      "John plays singing\n",
      "Paul plays guitar\n",
      "George plays bass\n",
      "George plays drums\n",
      "Ringo plays drums\n"
     ]
    }
   ],
   "source": [
    "# NESTED LOOP\n",
    "# I heard you like loops so I put a loop in a loop... \n",
    "for member, instruments in the_beatles_instruments.items():\n",
    "    for instrument in instruments:\n",
    "        print(member, 'plays', instrument)"
   ]
  },
  {
   "cell_type": "markdown",
   "metadata": {},
   "source": [
    "# While Loop\n",
    "runs a part of the code multiple times: until a condition is met"
   ]
  },
  {
   "cell_type": "code",
   "execution_count": 10,
   "metadata": {},
   "outputs": [
    {
     "name": "stdout",
     "output_type": "stream",
     "text": [
      "the current value is:  0\n",
      "the current value is:  1\n",
      "the current value is:  2\n",
      "the current value is:  3\n",
      "the current value is:  4\n",
      "the current value is:  5\n"
     ]
    }
   ],
   "source": [
    "current_value = 0\n",
    "while current_value <= 5:\n",
    "    print('the current value is: ', current_value)\n",
    "    current_value = current_value+ 1"
   ]
  },
  {
   "cell_type": "markdown",
   "metadata": {},
   "source": [
    "# Function\n",
    "ways to group and reuse code that can be logically isolated"
   ]
  },
  {
   "cell_type": "code",
   "execution_count": 11,
   "metadata": {},
   "outputs": [],
   "source": [
    "# defining a function\n",
    "def simple_greeting():\n",
    "    print('Hi')\n",
    "    print('Hello')"
   ]
  },
  {
   "cell_type": "code",
   "execution_count": 12,
   "metadata": {},
   "outputs": [
    {
     "name": "stdout",
     "output_type": "stream",
     "text": [
      "Hi\n",
      "Hello\n"
     ]
    }
   ],
   "source": [
    "# calling a function (using it)\n",
    "simple_greeting()"
   ]
  },
  {
   "cell_type": "code",
   "execution_count": 13,
   "metadata": {},
   "outputs": [
    {
     "name": "stdout",
     "output_type": "stream",
     "text": [
      "Hi, Bob Kelso\n",
      "Hi, Bob Kelso\n"
     ]
    }
   ],
   "source": [
    "def greeting(name, lastname):\n",
    "    print('Hi,', name, lastname)\n",
    "\n",
    "greeting('Bob', 'Kelso')                 # passing argument as positional (ORDER MATTERS)\n",
    "greeting('Bob', lastname='Kelso')   # passing argument as keyword (ORDER DOES NOT MATTER)"
   ]
  },
  {
   "cell_type": "code",
   "execution_count": 14,
   "metadata": {},
   "outputs": [
    {
     "name": "stdout",
     "output_type": "stream",
     "text": [
      "Hi, you\n",
      "Hi, Bob\n",
      "Hi, Bob\n"
     ]
    }
   ],
   "source": [
    "def greeting_with_default(name='you'):\n",
    "    print('Hi,', name)\n",
    "\n",
    "greeting_with_default()\n",
    "greeting_with_default('Bob')\n",
    "greeting_with_default(name='Bob')"
   ]
  },
  {
   "cell_type": "code",
   "execution_count": 15,
   "metadata": {},
   "outputs": [
    {
     "data": {
      "text/plain": [
       "6"
      ]
     },
     "execution_count": 15,
     "metadata": {},
     "output_type": "execute_result"
    }
   ],
   "source": [
    "# returning values instead of printing it\n",
    "def duplicate(x):\n",
    "    return 2*x   # instead of printing it we are returing it.. \n",
    "\n",
    "douplex = duplicate(3)  # ... so the result can be assigned to a function.\n",
    "douplex"
   ]
  },
  {
   "cell_type": "code",
   "execution_count": 16,
   "metadata": {},
   "outputs": [
    {
     "data": {
      "text/plain": [
       "12"
      ]
     },
     "execution_count": 16,
     "metadata": {},
     "output_type": "execute_result"
    }
   ],
   "source": [
    "# what happens if I do.. ?\n",
    "duplicate(duplicate(3))"
   ]
  },
  {
   "cell_type": "markdown",
   "metadata": {},
   "source": [
    "## **Exercises**\n",
    "mostrly taken from [codewars.com](https://www.codewars.com)"
   ]
  },
  {
   "cell_type": "code",
   "execution_count": null,
   "metadata": {},
   "outputs": [],
   "source": [
    "# Write a program that prints the numbers from 1 to 20. But for multiples of three prints “Fizz” instead of \n",
    "#  the number and for the multiples of five print “Buzz”. For numbers which are multiples of both three and five print “FizzBuzz”.\n",
    "        \n",
    "# hint: the first prints should be: 1 2 Fizz 4 Buzz Fizz ..."
   ]
  },
  {
   "cell_type": "code",
   "execution_count": null,
   "metadata": {},
   "outputs": [],
   "source": [
    "#Write a function called repeatString which repeats the given String src exactly count times.\n",
    "def repeatStr(n, s):\n",
    "    result = ''\n",
    "    for i in range(n):\n",
    "        result = result + s\n",
    "    return result\n",
    "\n",
    "# Examples:\n",
    "# repeatStr(6, \"I\")       >>    \"IIIIII\"\n",
    "# repeatStr(5, \"Hello\")   >>   \"HelloHelloHelloHelloHello\"\n",
    "repeatStr(5, \"Hello\")"
   ]
  },
  {
   "cell_type": "code",
   "execution_count": null,
   "metadata": {},
   "outputs": [],
   "source": [
    "# Given an list of integers your solution should find the smallest integer.\n",
    "def find_min(x):\n",
    "    return min(x)\n",
    "\n",
    "# For example:\n",
    "# Given [34, 15, 88, 2] your solution will return 2\n",
    "# Given [34, -345, -1, 100] your solution will return -345"
   ]
  },
  {
   "cell_type": "code",
   "execution_count": null,
   "metadata": {},
   "outputs": [],
   "source": [
    "find_min([340000, 1500000, 8000008, 200000])"
   ]
  },
  {
   "cell_type": "code",
   "execution_count": null,
   "metadata": {},
   "outputs": [],
   "source": [
    "find_min([34, -345, -1, 100])"
   ]
  },
  {
   "cell_type": "code",
   "execution_count": null,
   "metadata": {},
   "outputs": [],
   "source": [
    "# Write a function that counts of the Trues in a given list and returns said count.\n",
    "def count_less_than_5(my_list):\n",
    "    ...\n",
    "\n",
    "# For example:\n",
    "# count_trues([True,  True,  False, True,  False,  True])  >>  4"
   ]
  },
  {
   "cell_type": "code",
   "execution_count": null,
   "metadata": {},
   "outputs": [],
   "source": [
    "### Summation\n",
    "# Write a function that finds the summation of every number from 1 to x. \n",
    "# The input x will always be a positive integer greater than 0.\n",
    "def summation(x):\n",
    "    ...\n",
    "\n",
    "# For example:\n",
    "# summation(2) -> 3\n",
    "# 1 + 2\n",
    "# summation(8) -> 36\n",
    "# 1 + 2 + 3 + 4 + 5 + 6 + 7 + 8"
   ]
  }
 ],
 "metadata": {
  "kernelspec": {
   "display_name": "Python 3 (ipykernel)",
   "language": "python",
   "name": "python3"
  },
  "language_info": {
   "codemirror_mode": {
    "name": "ipython",
    "version": 3
   },
   "file_extension": ".py",
   "mimetype": "text/x-python",
   "name": "python",
   "nbconvert_exporter": "python",
   "pygments_lexer": "ipython3",
   "version": "3.9.7"
  },
  "toc-autonumbering": false
 },
 "nbformat": 4,
 "nbformat_minor": 4
}
