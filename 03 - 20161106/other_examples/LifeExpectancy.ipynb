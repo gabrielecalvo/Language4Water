{
 "cells": [
  {
   "cell_type": "code",
   "execution_count": 1,
   "metadata": {},
   "outputs": [],
   "source": [
    "import pandas as pd\n",
    "%matplotlib inline"
   ]
  },
  {
   "cell_type": "markdown",
   "metadata": {},
   "source": [
    "# Life Expectancy\n",
    "Life expectancy in years, at birth and for age groups. Breakdowns are also given for deprivation (SIMD) and Urban Rural classification.\n",
    "\n",
    "Life expectancy refers to the number of years that a person could expect to survive if the current mortality rates for each age group, sex and geographic area remain constant throughout their life. This is referred to as ‘period life expectancy’ and does not usually reflect the actual number of years that a person will survive. This is because it does not take into account changes in health care and other social factors that may occur through someone’s lifetime. However, life expectancy is a useful statistic as it provides a snapshot of the health of a population and allows the identification of inequalities between populations..\n",
    "\n",
    "Further details are available on the [NRS website](https://www.nrscotland.gov.uk/statistics-and-data/statistics/statistics-by-theme/life-expectancy)."
   ]
  },
  {
   "cell_type": "code",
   "execution_count": 2,
   "metadata": {},
   "outputs": [
    {
     "data": {
      "text/html": [
       "<div>\n",
       "<style scoped>\n",
       "    .dataframe tbody tr th:only-of-type {\n",
       "        vertical-align: middle;\n",
       "    }\n",
       "\n",
       "    .dataframe tbody tr th {\n",
       "        vertical-align: top;\n",
       "    }\n",
       "\n",
       "    .dataframe thead th {\n",
       "        text-align: right;\n",
       "    }\n",
       "</style>\n",
       "<table border=\"1\" class=\"dataframe\">\n",
       "  <thead>\n",
       "    <tr style=\"text-align: right;\">\n",
       "      <th></th>\n",
       "      <th>FeatureCode</th>\n",
       "      <th>DateCode</th>\n",
       "      <th>Measurement</th>\n",
       "      <th>Units</th>\n",
       "      <th>Value</th>\n",
       "      <th>Sex</th>\n",
       "      <th>Age</th>\n",
       "      <th>SIMD quintiles</th>\n",
       "      <th>Urban Rural Classification</th>\n",
       "      <th>place_name</th>\n",
       "    </tr>\n",
       "  </thead>\n",
       "  <tbody>\n",
       "    <tr>\n",
       "      <th>0</th>\n",
       "      <td>S12000039</td>\n",
       "      <td>2014-2016</td>\n",
       "      <td>Count</td>\n",
       "      <td>Years</td>\n",
       "      <td>78.85</td>\n",
       "      <td>Female</td>\n",
       "      <td>0</td>\n",
       "      <td>All</td>\n",
       "      <td>All</td>\n",
       "      <td>West Dunbartonshire</td>\n",
       "    </tr>\n",
       "    <tr>\n",
       "      <th>1</th>\n",
       "      <td>S12000039</td>\n",
       "      <td>2014-2016</td>\n",
       "      <td>95% Lower Confidence Limit</td>\n",
       "      <td>Years</td>\n",
       "      <td>53.96</td>\n",
       "      <td>Female</td>\n",
       "      <td>25-29</td>\n",
       "      <td>All</td>\n",
       "      <td>All</td>\n",
       "      <td>West Dunbartonshire</td>\n",
       "    </tr>\n",
       "    <tr>\n",
       "      <th>2</th>\n",
       "      <td>S12000039</td>\n",
       "      <td>2014-2016</td>\n",
       "      <td>95% Upper Confidence Limit</td>\n",
       "      <td>Years</td>\n",
       "      <td>55.17</td>\n",
       "      <td>Female</td>\n",
       "      <td>25-29</td>\n",
       "      <td>All</td>\n",
       "      <td>All</td>\n",
       "      <td>West Dunbartonshire</td>\n",
       "    </tr>\n",
       "    <tr>\n",
       "      <th>3</th>\n",
       "      <td>S12000039</td>\n",
       "      <td>2014-2016</td>\n",
       "      <td>95% Lower Confidence Limit</td>\n",
       "      <td>Years</td>\n",
       "      <td>49.09</td>\n",
       "      <td>Female</td>\n",
       "      <td>30-34</td>\n",
       "      <td>All</td>\n",
       "      <td>All</td>\n",
       "      <td>West Dunbartonshire</td>\n",
       "    </tr>\n",
       "    <tr>\n",
       "      <th>4</th>\n",
       "      <td>S12000039</td>\n",
       "      <td>2015-2017</td>\n",
       "      <td>95% Lower Confidence Limit</td>\n",
       "      <td>Years</td>\n",
       "      <td>69.63</td>\n",
       "      <td>Male</td>\n",
       "      <td>5-9</td>\n",
       "      <td>All</td>\n",
       "      <td>All</td>\n",
       "      <td>West Dunbartonshire</td>\n",
       "    </tr>\n",
       "  </tbody>\n",
       "</table>\n",
       "</div>"
      ],
      "text/plain": [
       "  FeatureCode   DateCode                 Measurement  Units  Value     Sex  \\\n",
       "0   S12000039  2014-2016                       Count  Years  78.85  Female   \n",
       "1   S12000039  2014-2016  95% Lower Confidence Limit  Years  53.96  Female   \n",
       "2   S12000039  2014-2016  95% Upper Confidence Limit  Years  55.17  Female   \n",
       "3   S12000039  2014-2016  95% Lower Confidence Limit  Years  49.09  Female   \n",
       "4   S12000039  2015-2017  95% Lower Confidence Limit  Years  69.63    Male   \n",
       "\n",
       "     Age SIMD quintiles Urban Rural Classification           place_name  \n",
       "0      0            All                        All  West Dunbartonshire  \n",
       "1  25-29            All                        All  West Dunbartonshire  \n",
       "2  25-29            All                        All  West Dunbartonshire  \n",
       "3  30-34            All                        All  West Dunbartonshire  \n",
       "4    5-9            All                        All  West Dunbartonshire  "
      ]
     },
     "execution_count": 2,
     "metadata": {},
     "output_type": "execute_result"
    }
   ],
   "source": [
    "df_raw = pd.read_csv('../data/LifeExpectancy+.csv')\n",
    "df_raw.head()"
   ]
  },
  {
   "cell_type": "markdown",
   "metadata": {},
   "source": [
    "## Having a look"
   ]
  },
  {
   "cell_type": "code",
   "execution_count": 3,
   "metadata": {},
   "outputs": [
    {
     "data": {
      "text/plain": [
       "Index(['FeatureCode', 'DateCode', 'Measurement', 'Units', 'Value', 'Sex',\n",
       "       'Age', 'SIMD quintiles', 'Urban Rural Classification', 'place_name'],\n",
       "      dtype='object')"
      ]
     },
     "execution_count": 3,
     "metadata": {},
     "output_type": "execute_result"
    }
   ],
   "source": [
    "df_raw.columns"
   ]
  },
  {
   "cell_type": "code",
   "execution_count": 4,
   "metadata": {},
   "outputs": [
    {
     "data": {
      "text/plain": [
       "array(['Years'], dtype=object)"
      ]
     },
     "execution_count": 4,
     "metadata": {},
     "output_type": "execute_result"
    }
   ],
   "source": [
    "df_raw['Units'].unique()"
   ]
  },
  {
   "cell_type": "code",
   "execution_count": 5,
   "metadata": {},
   "outputs": [
    {
     "data": {
      "text/plain": [
       "array(['2014-2016', '2015-2017', '2000-2002', '2013-2015', '2002-2004',\n",
       "       '2011-2013', '2008-2010', '1994-1996', '2010-2012', '2012-2014',\n",
       "       '1995-1997', '1999-2001', '2009-2011', '2003-2005', '1992-1994',\n",
       "       '2004-2006', '1993-1995', '2005-2007', '1991-1993', '1996-1998',\n",
       "       '2006-2008', '2007-2009', '2001-2003', '1997-1999', '1998-2000'],\n",
       "      dtype=object)"
      ]
     },
     "execution_count": 5,
     "metadata": {},
     "output_type": "execute_result"
    }
   ],
   "source": [
    "df_raw['DateCode'].unique()"
   ]
  },
  {
   "cell_type": "code",
   "execution_count": 6,
   "metadata": {},
   "outputs": [
    {
     "data": {
      "text/plain": [
       "array(['Count', '95% Lower Confidence Limit',\n",
       "       '95% Upper Confidence Limit'], dtype=object)"
      ]
     },
     "execution_count": 6,
     "metadata": {},
     "output_type": "execute_result"
    }
   ],
   "source": [
    "df_raw['Measurement'].unique()"
   ]
  },
  {
   "cell_type": "code",
   "execution_count": 7,
   "metadata": {},
   "outputs": [
    {
     "data": {
      "text/plain": [
       "array(['Female', 'Male'], dtype=object)"
      ]
     },
     "execution_count": 7,
     "metadata": {},
     "output_type": "execute_result"
    }
   ],
   "source": [
    "df_raw['Sex'].unique()"
   ]
  },
  {
   "cell_type": "code",
   "execution_count": 8,
   "metadata": {},
   "outputs": [
    {
     "data": {
      "text/plain": [
       "array(['All', '5 - least deprived', '4', '3', '1 - most deprived', '2'],\n",
       "      dtype=object)"
      ]
     },
     "execution_count": 8,
     "metadata": {},
     "output_type": "execute_result"
    }
   ],
   "source": [
    "df_raw['SIMD quintiles'].unique()"
   ]
  },
  {
   "cell_type": "code",
   "execution_count": 9,
   "metadata": {},
   "outputs": [
    {
     "data": {
      "text/plain": [
       "array(['West Dunbartonshire', 'West Lothian', 'Scotland',\n",
       "       'Clackmannanshire', 'Dumfries and Galloway', 'East Ayrshire',\n",
       "       'East Lothian', 'East Renfrewshire', 'Na h-Eileanan Siar',\n",
       "       'Falkirk', 'Highland', 'Inverclyde', 'Midlothian', 'Moray',\n",
       "       'North Ayrshire', 'Orkney Islands', 'Scottish Borders',\n",
       "       'Shetland Islands', 'South Ayrshire', 'South Lanarkshire',\n",
       "       'Stirling', 'Aberdeen City', 'Aberdeenshire', 'Argyll and Bute',\n",
       "       'City of Edinburgh', 'Renfrewshire', 'Angus', 'Dundee City',\n",
       "       'East Dunbartonshire', 'Ayrshire and Arran', 'Borders',\n",
       "       'Forth Valley', 'Grampian', 'Lothian', 'Orkney', 'Shetland',\n",
       "       'Western Isles', 'Aberdeen Central', 'Aberdeen Donside',\n",
       "       'Aberdeen South and North Kincardine', 'Aberdeenshire East',\n",
       "       'Aberdeenshire West', 'Airdrie and Shotts', 'Almond Valley',\n",
       "       'Angus North and Mearns', 'Angus South', 'Ayr',\n",
       "       'Banffshire and Buchan Coast', 'Caithness, Sutherland and Ross',\n",
       "       'Carrick, Cumnock and Doon Valley',\n",
       "       'Clackmannanshire and Dunblane', 'Clydebank and Milngavie',\n",
       "       'Clydesdale', 'Coatbridge and Chryston', 'Cowdenbeath',\n",
       "       'Cumbernauld and Kilsyth', 'Cunninghame North',\n",
       "       'Cunninghame South', 'Dumbarton', 'Dumfriesshire',\n",
       "       'Dundee City East', 'Dundee City West', 'Dunfermline',\n",
       "       'East Kilbride', 'Eastwood', 'Edinburgh Central',\n",
       "       'Edinburgh Eastern', 'Edinburgh Northern and Leith',\n",
       "       'Edinburgh Pentlands', 'Edinburgh Southern', 'Edinburgh Western',\n",
       "       'Na h-Eileanan an Iar', 'Ettrick, Roxburgh and Berwickshire',\n",
       "       'Falkirk East', 'Falkirk West', 'Galloway and West Dumfries',\n",
       "       'Glasgow Anniesland', 'Glasgow Cathcart', 'Glasgow Kelvin',\n",
       "       'Glasgow Maryhill and Springburn', 'Glasgow Pollok',\n",
       "       'Glasgow Shettleston', 'Glasgow Southside',\n",
       "       'Greenock and Inverclyde', 'Hamilton, Larkhall and Stonehouse',\n",
       "       'Inverness and Nairn', 'Kilmarnock and Irvine Valley', 'Kirkcaldy',\n",
       "       'Linlithgow', 'Mid Fife and Glenrothes',\n",
       "       'Midlothian North and Musselburgh',\n",
       "       'Midlothian South, Tweeddale and Lauderdale',\n",
       "       'Motherwell and Wishaw', 'North East Fife', 'Paisley',\n",
       "       'Perthshire North', 'Perthshire South and Kinross-shire',\n",
       "       'Renfrewshire North and West', 'Renfrewshire South', 'Rutherglen',\n",
       "       'Skye, Lochaber and Badenoch', 'Uddingston and Bellshill', 'Fife',\n",
       "       'Perth and Kinross', 'Tayside', 'Glasgow Provan',\n",
       "       'Strathkelvin and Bearsden', 'Greater Glasgow and Clyde',\n",
       "       'Lanarkshire', 'Glasgow City', 'North Lanarkshire'], dtype=object)"
      ]
     },
     "execution_count": 9,
     "metadata": {},
     "output_type": "execute_result"
    }
   ],
   "source": [
    "df_raw['place_name'].unique()"
   ]
  },
  {
   "cell_type": "code",
   "execution_count": 10,
   "metadata": {},
   "outputs": [
    {
     "data": {
      "text/plain": [
       "array(['All', 'Accessible rural', 'Remote small towns', 'Remote rural',\n",
       "       'Other urban areas', 'Large urban areas', 'Accessible small towns'],\n",
       "      dtype=object)"
      ]
     },
     "execution_count": 10,
     "metadata": {},
     "output_type": "execute_result"
    }
   ],
   "source": [
    "df_raw['Urban Rural Classification'].unique()"
   ]
  },
  {
   "cell_type": "code",
   "execution_count": 11,
   "metadata": {},
   "outputs": [],
   "source": [
    "target_cols = ['Sex', 'Age', 'Value']\n",
    "\n",
    "is_count = df_raw['Measurement'] == 'Count'\n",
    "whole_scotland = df_raw['place_name'] == 'Scotland'\n",
    "all_SIMD_quintiles = df_raw['SIMD quintiles'] == 'All'\n",
    "all_Urban_Rural_Classification = df_raw['Urban Rural Classification'] == 'All'\n",
    "\n",
    "df = df_raw.loc[is_count & whole_scotland & all_SIMD_quintiles & all_Urban_Rural_Classification, target_cols]"
   ]
  },
  {
   "cell_type": "code",
   "execution_count": 12,
   "metadata": {},
   "outputs": [],
   "source": [
    "def parse_age(s):\n",
    "    if s == '90+':\n",
    "        return 90\n",
    "    if '-' in s:\n",
    "        low, high = s.split('-')\n",
    "        return (int(low)+int(high))/2\n",
    "    else:\n",
    "        return int(s)\n",
    "    \n",
    "df.Age = df.Age.apply(parse_age)"
   ]
  },
  {
   "cell_type": "markdown",
   "metadata": {},
   "source": [
    "## Clean Subset"
   ]
  },
  {
   "cell_type": "code",
   "execution_count": 13,
   "metadata": {},
   "outputs": [],
   "source": [
    "mean_hle = df.groupby(['Age'])['Value'].mean()\n",
    "cumulative_mean_hle = mean_hle + mean_hle.index"
   ]
  },
  {
   "cell_type": "code",
   "execution_count": 14,
   "metadata": {},
   "outputs": [
    {
     "data": {
      "text/plain": [
       "<matplotlib.axes._subplots.AxesSubplot at 0x2b18f3b3b70>"
      ]
     },
     "execution_count": 14,
     "metadata": {},
     "output_type": "execute_result"
    },
    {
     "data": {
      "image/png": "[encoded data removed]",
      "text/plain": [
       "<Figure size 1440x432 with 1 Axes>"
      ]
     },
     "metadata": {
      "needs_background": "light"
     },
     "output_type": "display_data"
    }
   ],
   "source": [
    "mean_hle.plot.bar(figsize=(20,6), grid=True, title='mean_hle')"
   ]
  },
  {
   "cell_type": "code",
   "execution_count": 15,
   "metadata": {},
   "outputs": [
    {
     "data": {
      "text/plain": [
       "<matplotlib.axes._subplots.AxesSubplot at 0x2b18f90c6d8>"
      ]
     },
     "execution_count": 15,
     "metadata": {},
     "output_type": "execute_result"
    },
    {
     "data": {
      "image/png": "[encoded data removed]",
      "text/plain": [
       "<Figure size 1440x432 with 1 Axes>"
      ]
     },
     "metadata": {
      "needs_background": "light"
     },
     "output_type": "display_data"
    }
   ],
   "source": [
    "cumulative_mean_hle.plot.bar(figsize=(20,6), grid=True, title='cumulative_mean_hle')"
   ]
  },
  {
   "cell_type": "code",
   "execution_count": 16,
   "metadata": {},
   "outputs": [],
   "source": [
    "gender_mean_hle = df.groupby(['Age', 'Sex'])['Value'].mean().unstack()\n",
    "cumulative_gender_mean_hle = gender_mean_hle.add(gender_mean_hle.index, axis=0)"
   ]
  },
  {
   "cell_type": "code",
   "execution_count": 17,
   "metadata": {},
   "outputs": [
    {
     "data": {
      "text/plain": [
       "<matplotlib.axes._subplots.AxesSubplot at 0x2b18f6e6ac8>"
      ]
     },
     "execution_count": 17,
     "metadata": {},
     "output_type": "execute_result"
    },
    {
     "data": {
      "image/png": "[encoded data removed]",
      "text/plain": [
       "<Figure size 1440x576 with 1 Axes>"
      ]
     },
     "metadata": {
      "needs_background": "light"
     },
     "output_type": "display_data"
    }
   ],
   "source": [
    "gender_mean_hle.plot.bar(figsize=(20,8), grid=True, title='gender_mean_hle')"
   ]
  },
  {
   "cell_type": "code",
   "execution_count": 18,
   "metadata": {},
   "outputs": [
    {
     "data": {
      "text/plain": [
       "<matplotlib.axes._subplots.AxesSubplot at 0x2b18f77ef60>"
      ]
     },
     "execution_count": 18,
     "metadata": {},
     "output_type": "execute_result"
    },
    {
     "data": {
      "image/png": "[encoded data removed]",
      "text/plain": [
       "<Figure size 1440x576 with 1 Axes>"
      ]
     },
     "metadata": {
      "needs_background": "light"
     },
     "output_type": "display_data"
    }
   ],
   "source": [
    "cumulative_gender_mean_hle.plot.bar(figsize=(20,8), grid=True, title='cumulative_gender_mean_hle')"
   ]
  },
  {
   "cell_type": "code",
   "execution_count": null,
   "metadata": {},
   "outputs": [],
   "source": []
  }
 ],
 "metadata": {
  "kernelspec": {
   "display_name": "Python 3",
   "language": "python",
   "name": "python3"
  },
  "language_info": {
   "codemirror_mode": {
    "name": "ipython",
    "version": 3
   },
   "file_extension": ".py",
   "mimetype": "text/x-python",
   "name": "python",
   "nbconvert_exporter": "python",
   "pygments_lexer": "ipython3",
   "version": "3.7.3"
  }
 },
 "nbformat": 4,
 "nbformat_minor": 4
}
