{
 "cells": [
  {
   "cell_type": "code",
   "execution_count": 1,
   "metadata": {},
   "outputs": [],
   "source": [
    "import pandas as pd\n",
    "%matplotlib inline"
   ]
  },
  {
   "cell_type": "code",
   "execution_count": 2,
   "metadata": {},
   "outputs": [],
   "source": [
    "df_raw = pd.read_csv('../data/CarbonFootprintBreakdown.csv')"
   ]
  },
  {
   "cell_type": "code",
   "execution_count": 3,
   "metadata": {},
   "outputs": [
    {
     "data": {
      "text/html": [
       "<div>\n",
       "<style scoped>\n",
       "    .dataframe tbody tr th:only-of-type {\n",
       "        vertical-align: middle;\n",
       "    }\n",
       "\n",
       "    .dataframe tbody tr th {\n",
       "        vertical-align: top;\n",
       "    }\n",
       "\n",
       "    .dataframe thead th {\n",
       "        text-align: right;\n",
       "    }\n",
       "</style>\n",
       "<table border=\"1\" class=\"dataframe\">\n",
       "  <thead>\n",
       "    <tr style=\"text-align: right;\">\n",
       "      <th></th>\n",
       "      <th>FeatureCode</th>\n",
       "      <th>DateCode</th>\n",
       "      <th>Measurement</th>\n",
       "      <th>Units</th>\n",
       "      <th>Value</th>\n",
       "      <th>Breakdown of Scotland's carbon footprint</th>\n",
       "    </tr>\n",
       "  </thead>\n",
       "  <tbody>\n",
       "    <tr>\n",
       "      <th>0</th>\n",
       "      <td>S92000003</td>\n",
       "      <td>2008</td>\n",
       "      <td>Count</td>\n",
       "      <td>Mt Co2Equiv</td>\n",
       "      <td>46.102</td>\n",
       "      <td>Embedded in imported goods and services</td>\n",
       "    </tr>\n",
       "    <tr>\n",
       "      <th>1</th>\n",
       "      <td>S92000003</td>\n",
       "      <td>2001</td>\n",
       "      <td>Count</td>\n",
       "      <td>Mt Co2Equiv</td>\n",
       "      <td>34.693</td>\n",
       "      <td>Embedded in imported goods and services</td>\n",
       "    </tr>\n",
       "    <tr>\n",
       "      <th>2</th>\n",
       "      <td>S92000003</td>\n",
       "      <td>2007</td>\n",
       "      <td>Count</td>\n",
       "      <td>Mt Co2Equiv</td>\n",
       "      <td>51.135</td>\n",
       "      <td>Embedded in imported goods and services</td>\n",
       "    </tr>\n",
       "    <tr>\n",
       "      <th>3</th>\n",
       "      <td>S92000003</td>\n",
       "      <td>2002</td>\n",
       "      <td>Count</td>\n",
       "      <td>Mt Co2Equiv</td>\n",
       "      <td>36.802</td>\n",
       "      <td>Embedded in imported goods and services</td>\n",
       "    </tr>\n",
       "    <tr>\n",
       "      <th>4</th>\n",
       "      <td>S92000003</td>\n",
       "      <td>2003</td>\n",
       "      <td>Count</td>\n",
       "      <td>Mt Co2Equiv</td>\n",
       "      <td>37.500</td>\n",
       "      <td>Embedded in imported goods and services</td>\n",
       "    </tr>\n",
       "  </tbody>\n",
       "</table>\n",
       "</div>"
      ],
      "text/plain": [
       "  FeatureCode  DateCode Measurement        Units   Value  \\\n",
       "0   S92000003      2008       Count  Mt Co2Equiv  46.102   \n",
       "1   S92000003      2001       Count  Mt Co2Equiv  34.693   \n",
       "2   S92000003      2007       Count  Mt Co2Equiv  51.135   \n",
       "3   S92000003      2002       Count  Mt Co2Equiv  36.802   \n",
       "4   S92000003      2003       Count  Mt Co2Equiv  37.500   \n",
       "\n",
       "  Breakdown of Scotland's carbon footprint  \n",
       "0  Embedded in imported goods and services  \n",
       "1  Embedded in imported goods and services  \n",
       "2  Embedded in imported goods and services  \n",
       "3  Embedded in imported goods and services  \n",
       "4  Embedded in imported goods and services  "
      ]
     },
     "execution_count": 3,
     "metadata": {},
     "output_type": "execute_result"
    }
   ],
   "source": [
    "df_raw.head()"
   ]
  },
  {
   "cell_type": "markdown",
   "metadata": {},
   "source": [
    "## Having a look"
   ]
  },
  {
   "cell_type": "code",
   "execution_count": 4,
   "metadata": {},
   "outputs": [
    {
     "data": {
      "text/plain": [
       "array(['S92000003'], dtype=object)"
      ]
     },
     "execution_count": 4,
     "metadata": {},
     "output_type": "execute_result"
    }
   ],
   "source": [
    "df_raw['FeatureCode'].unique()\n",
    "# S92000003 is Scotland (see http://statistics.gov.scot/id/statistical-geography/S92000003)"
   ]
  },
  {
   "cell_type": "code",
   "execution_count": 5,
   "metadata": {},
   "outputs": [
    {
     "data": {
      "text/plain": [
       "array(['Count'], dtype=object)"
      ]
     },
     "execution_count": 5,
     "metadata": {},
     "output_type": "execute_result"
    }
   ],
   "source": [
    "df_raw['Measurement'].unique()"
   ]
  },
  {
   "cell_type": "code",
   "execution_count": 6,
   "metadata": {},
   "outputs": [
    {
     "data": {
      "text/plain": [
       "array(['Mt Co2Equiv'], dtype=object)"
      ]
     },
     "execution_count": 6,
     "metadata": {},
     "output_type": "execute_result"
    }
   ],
   "source": [
    "df_raw['Units'].unique()"
   ]
  },
  {
   "cell_type": "code",
   "execution_count": 7,
   "metadata": {},
   "outputs": [
    {
     "data": {
      "text/plain": [
       "array(['Embedded in imported goods and services',\n",
       "       'Directly produced by Scottish residents',\n",
       "       'Total Carbon Footprint',\n",
       "       'UK produced goods and services consumed by Scottish residents'],\n",
       "      dtype=object)"
      ]
     },
     "execution_count": 7,
     "metadata": {},
     "output_type": "execute_result"
    }
   ],
   "source": [
    "df_raw[\"Breakdown of Scotland's carbon footprint\"].unique()"
   ]
  },
  {
   "cell_type": "code",
   "execution_count": 8,
   "metadata": {},
   "outputs": [
    {
     "data": {
      "text/html": [
       "<div>\n",
       "<style scoped>\n",
       "    .dataframe tbody tr th:only-of-type {\n",
       "        vertical-align: middle;\n",
       "    }\n",
       "\n",
       "    .dataframe tbody tr th {\n",
       "        vertical-align: top;\n",
       "    }\n",
       "\n",
       "    .dataframe thead th {\n",
       "        text-align: right;\n",
       "    }\n",
       "</style>\n",
       "<table border=\"1\" class=\"dataframe\">\n",
       "  <thead>\n",
       "    <tr style=\"text-align: right;\">\n",
       "      <th></th>\n",
       "      <th>FeatureCode</th>\n",
       "      <th>DateCode</th>\n",
       "      <th>Measurement</th>\n",
       "      <th>Units</th>\n",
       "      <th>Value</th>\n",
       "      <th>Breakdown of Scotland's carbon footprint</th>\n",
       "      <th>source</th>\n",
       "    </tr>\n",
       "  </thead>\n",
       "  <tbody>\n",
       "    <tr>\n",
       "      <th>0</th>\n",
       "      <td>S92000003</td>\n",
       "      <td>2008</td>\n",
       "      <td>Count</td>\n",
       "      <td>Mt Co2Equiv</td>\n",
       "      <td>46.102</td>\n",
       "      <td>Embedded in imported goods and services</td>\n",
       "      <td>imported_goods</td>\n",
       "    </tr>\n",
       "    <tr>\n",
       "      <th>1</th>\n",
       "      <td>S92000003</td>\n",
       "      <td>2001</td>\n",
       "      <td>Count</td>\n",
       "      <td>Mt Co2Equiv</td>\n",
       "      <td>34.693</td>\n",
       "      <td>Embedded in imported goods and services</td>\n",
       "      <td>imported_goods</td>\n",
       "    </tr>\n",
       "    <tr>\n",
       "      <th>2</th>\n",
       "      <td>S92000003</td>\n",
       "      <td>2007</td>\n",
       "      <td>Count</td>\n",
       "      <td>Mt Co2Equiv</td>\n",
       "      <td>51.135</td>\n",
       "      <td>Embedded in imported goods and services</td>\n",
       "      <td>imported_goods</td>\n",
       "    </tr>\n",
       "    <tr>\n",
       "      <th>3</th>\n",
       "      <td>S92000003</td>\n",
       "      <td>2002</td>\n",
       "      <td>Count</td>\n",
       "      <td>Mt Co2Equiv</td>\n",
       "      <td>36.802</td>\n",
       "      <td>Embedded in imported goods and services</td>\n",
       "      <td>imported_goods</td>\n",
       "    </tr>\n",
       "    <tr>\n",
       "      <th>4</th>\n",
       "      <td>S92000003</td>\n",
       "      <td>2003</td>\n",
       "      <td>Count</td>\n",
       "      <td>Mt Co2Equiv</td>\n",
       "      <td>37.500</td>\n",
       "      <td>Embedded in imported goods and services</td>\n",
       "      <td>imported_goods</td>\n",
       "    </tr>\n",
       "  </tbody>\n",
       "</table>\n",
       "</div>"
      ],
      "text/plain": [
       "  FeatureCode  DateCode Measurement        Units   Value  \\\n",
       "0   S92000003      2008       Count  Mt Co2Equiv  46.102   \n",
       "1   S92000003      2001       Count  Mt Co2Equiv  34.693   \n",
       "2   S92000003      2007       Count  Mt Co2Equiv  51.135   \n",
       "3   S92000003      2002       Count  Mt Co2Equiv  36.802   \n",
       "4   S92000003      2003       Count  Mt Co2Equiv  37.500   \n",
       "\n",
       "  Breakdown of Scotland's carbon footprint          source  \n",
       "0  Embedded in imported goods and services  imported_goods  \n",
       "1  Embedded in imported goods and services  imported_goods  \n",
       "2  Embedded in imported goods and services  imported_goods  \n",
       "3  Embedded in imported goods and services  imported_goods  \n",
       "4  Embedded in imported goods and services  imported_goods  "
      ]
     },
     "execution_count": 8,
     "metadata": {},
     "output_type": "execute_result"
    }
   ],
   "source": [
    "mapping = {\n",
    "    'Embedded in imported goods and services': 'imported_goods',\n",
    "    'Directly produced by Scottish residents': 'residents',\n",
    "    'UK produced goods and services consumed by Scottish residents': 'local_goods',\n",
    "    'Total Carbon Footprint': 'total'\n",
    "}\n",
    "df_raw['source'] = df_raw[\"Breakdown of Scotland's carbon footprint\"].apply(mapping.get)\n",
    "df_raw.head()"
   ]
  },
  {
   "cell_type": "code",
   "execution_count": 9,
   "metadata": {},
   "outputs": [],
   "source": [
    "target_cols = ['DateCode', 'Value', 'source']\n",
    "\n",
    "is_component = df_raw['source'] != 'total'\n",
    "df = df_raw.loc[is_component, target_cols]"
   ]
  },
  {
   "cell_type": "markdown",
   "metadata": {},
   "source": [
    "## Clean Subset"
   ]
  },
  {
   "cell_type": "code",
   "execution_count": 10,
   "metadata": {},
   "outputs": [
    {
     "data": {
      "text/plain": [
       "DateCode  source        \n",
       "1998      imported_goods    33.334\n",
       "          local_goods       36.323\n",
       "          residents         13.421\n",
       "1999      imported_goods    32.909\n",
       "          local_goods       33.171\n",
       "          residents         13.372\n",
       "2000      imported_goods    34.068\n",
       "          local_goods       33.548\n",
       "          residents         13.229\n",
       "2001      imported_goods    34.693\n",
       "          local_goods       33.936\n",
       "          residents         13.868\n",
       "2002      imported_goods    36.802\n",
       "          local_goods       32.367\n",
       "          residents         13.424\n",
       "2003      imported_goods    37.500\n",
       "          local_goods       33.181\n",
       "          residents         13.414\n",
       "2004      imported_goods    41.918\n",
       "          local_goods       32.592\n",
       "          residents         13.715\n",
       "2005      imported_goods    44.977\n",
       "          local_goods       31.703\n",
       "          residents         13.744\n",
       "2006      imported_goods    48.294\n",
       "          local_goods       33.511\n",
       "          residents         13.636\n",
       "2007      imported_goods    51.135\n",
       "          local_goods       33.158\n",
       "          residents         13.451\n",
       "2008      imported_goods    46.102\n",
       "          local_goods       31.852\n",
       "          residents         13.604\n",
       "2009      imported_goods    40.224\n",
       "          local_goods       28.514\n",
       "          residents         13.263\n",
       "2010      imported_goods    39.915\n",
       "          local_goods       28.658\n",
       "          residents         14.086\n",
       "2011      imported_goods    40.951\n",
       "          local_goods       27.114\n",
       "          residents         12.162\n",
       "2012      imported_goods    39.605\n",
       "          local_goods       26.887\n",
       "          residents         13.145\n",
       "2013      imported_goods    38.139\n",
       "          local_goods       25.813\n",
       "          residents         13.263\n",
       "2014      imported_goods    40.075\n",
       "          local_goods       24.354\n",
       "          residents         12.055\n",
       "2015      imported_goods    41.436\n",
       "          local_goods       22.698\n",
       "          residents         12.332\n",
       "Name: Value, dtype: float64"
      ]
     },
     "execution_count": 10,
     "metadata": {},
     "output_type": "execute_result"
    }
   ],
   "source": [
    "df_grouped = df.groupby(['DateCode', 'source'])['Value'].sum()\n",
    "df_grouped"
   ]
  },
  {
   "cell_type": "code",
   "execution_count": 11,
   "metadata": {},
   "outputs": [
    {
     "data": {
      "text/html": [
       "<div>\n",
       "<style scoped>\n",
       "    .dataframe tbody tr th:only-of-type {\n",
       "        vertical-align: middle;\n",
       "    }\n",
       "\n",
       "    .dataframe tbody tr th {\n",
       "        vertical-align: top;\n",
       "    }\n",
       "\n",
       "    .dataframe thead th {\n",
       "        text-align: right;\n",
       "    }\n",
       "</style>\n",
       "<table border=\"1\" class=\"dataframe\">\n",
       "  <thead>\n",
       "    <tr style=\"text-align: right;\">\n",
       "      <th>source</th>\n",
       "      <th>imported_goods</th>\n",
       "      <th>local_goods</th>\n",
       "      <th>residents</th>\n",
       "    </tr>\n",
       "    <tr>\n",
       "      <th>DateCode</th>\n",
       "      <th></th>\n",
       "      <th></th>\n",
       "      <th></th>\n",
       "    </tr>\n",
       "  </thead>\n",
       "  <tbody>\n",
       "    <tr>\n",
       "      <th>1998</th>\n",
       "      <td>33.334</td>\n",
       "      <td>36.323</td>\n",
       "      <td>13.421</td>\n",
       "    </tr>\n",
       "    <tr>\n",
       "      <th>1999</th>\n",
       "      <td>32.909</td>\n",
       "      <td>33.171</td>\n",
       "      <td>13.372</td>\n",
       "    </tr>\n",
       "    <tr>\n",
       "      <th>2000</th>\n",
       "      <td>34.068</td>\n",
       "      <td>33.548</td>\n",
       "      <td>13.229</td>\n",
       "    </tr>\n",
       "    <tr>\n",
       "      <th>2001</th>\n",
       "      <td>34.693</td>\n",
       "      <td>33.936</td>\n",
       "      <td>13.868</td>\n",
       "    </tr>\n",
       "    <tr>\n",
       "      <th>2002</th>\n",
       "      <td>36.802</td>\n",
       "      <td>32.367</td>\n",
       "      <td>13.424</td>\n",
       "    </tr>\n",
       "    <tr>\n",
       "      <th>2003</th>\n",
       "      <td>37.500</td>\n",
       "      <td>33.181</td>\n",
       "      <td>13.414</td>\n",
       "    </tr>\n",
       "    <tr>\n",
       "      <th>2004</th>\n",
       "      <td>41.918</td>\n",
       "      <td>32.592</td>\n",
       "      <td>13.715</td>\n",
       "    </tr>\n",
       "    <tr>\n",
       "      <th>2005</th>\n",
       "      <td>44.977</td>\n",
       "      <td>31.703</td>\n",
       "      <td>13.744</td>\n",
       "    </tr>\n",
       "    <tr>\n",
       "      <th>2006</th>\n",
       "      <td>48.294</td>\n",
       "      <td>33.511</td>\n",
       "      <td>13.636</td>\n",
       "    </tr>\n",
       "    <tr>\n",
       "      <th>2007</th>\n",
       "      <td>51.135</td>\n",
       "      <td>33.158</td>\n",
       "      <td>13.451</td>\n",
       "    </tr>\n",
       "    <tr>\n",
       "      <th>2008</th>\n",
       "      <td>46.102</td>\n",
       "      <td>31.852</td>\n",
       "      <td>13.604</td>\n",
       "    </tr>\n",
       "    <tr>\n",
       "      <th>2009</th>\n",
       "      <td>40.224</td>\n",
       "      <td>28.514</td>\n",
       "      <td>13.263</td>\n",
       "    </tr>\n",
       "    <tr>\n",
       "      <th>2010</th>\n",
       "      <td>39.915</td>\n",
       "      <td>28.658</td>\n",
       "      <td>14.086</td>\n",
       "    </tr>\n",
       "    <tr>\n",
       "      <th>2011</th>\n",
       "      <td>40.951</td>\n",
       "      <td>27.114</td>\n",
       "      <td>12.162</td>\n",
       "    </tr>\n",
       "    <tr>\n",
       "      <th>2012</th>\n",
       "      <td>39.605</td>\n",
       "      <td>26.887</td>\n",
       "      <td>13.145</td>\n",
       "    </tr>\n",
       "    <tr>\n",
       "      <th>2013</th>\n",
       "      <td>38.139</td>\n",
       "      <td>25.813</td>\n",
       "      <td>13.263</td>\n",
       "    </tr>\n",
       "    <tr>\n",
       "      <th>2014</th>\n",
       "      <td>40.075</td>\n",
       "      <td>24.354</td>\n",
       "      <td>12.055</td>\n",
       "    </tr>\n",
       "    <tr>\n",
       "      <th>2015</th>\n",
       "      <td>41.436</td>\n",
       "      <td>22.698</td>\n",
       "      <td>12.332</td>\n",
       "    </tr>\n",
       "  </tbody>\n",
       "</table>\n",
       "</div>"
      ],
      "text/plain": [
       "source    imported_goods  local_goods  residents\n",
       "DateCode                                        \n",
       "1998              33.334       36.323     13.421\n",
       "1999              32.909       33.171     13.372\n",
       "2000              34.068       33.548     13.229\n",
       "2001              34.693       33.936     13.868\n",
       "2002              36.802       32.367     13.424\n",
       "2003              37.500       33.181     13.414\n",
       "2004              41.918       32.592     13.715\n",
       "2005              44.977       31.703     13.744\n",
       "2006              48.294       33.511     13.636\n",
       "2007              51.135       33.158     13.451\n",
       "2008              46.102       31.852     13.604\n",
       "2009              40.224       28.514     13.263\n",
       "2010              39.915       28.658     14.086\n",
       "2011              40.951       27.114     12.162\n",
       "2012              39.605       26.887     13.145\n",
       "2013              38.139       25.813     13.263\n",
       "2014              40.075       24.354     12.055\n",
       "2015              41.436       22.698     12.332"
      ]
     },
     "execution_count": 11,
     "metadata": {},
     "output_type": "execute_result"
    }
   ],
   "source": [
    "df_table = df_grouped.unstack()\n",
    "df_table"
   ]
  },
  {
   "cell_type": "code",
   "execution_count": 12,
   "metadata": {},
   "outputs": [
    {
     "data": {
      "text/plain": [
       "Text(0, 0.5, 'Carbon Footprint (Mt Co2Equiv)')"
      ]
     },
     "execution_count": 12,
     "metadata": {},
     "output_type": "execute_result"
    },
    {
     "data": {
      "image/png": "[encoded data removed]",
      "text/plain": [
       "<Figure size 1440x576 with 1 Axes>"
      ]
     },
     "metadata": {
      "needs_background": "light"
     },
     "output_type": "display_data"
    }
   ],
   "source": [
    "ax = df_table.plot(figsize=(20,8), grid=True)\n",
    "ax.set_xlabel('year')\n",
    "ax.set_ylabel('Carbon Footprint (Mt Co2Equiv)')"
   ]
  },
  {
   "cell_type": "code",
   "execution_count": 13,
   "metadata": {},
   "outputs": [
    {
     "data": {
      "text/plain": [
       "Text(0, 0.5, 'Carbon Footprint (Mt Co2Equiv)')"
      ]
     },
     "execution_count": 13,
     "metadata": {},
     "output_type": "execute_result"
    },
    {
     "data": {
      "image/png": "[encoded data removed]",
      "text/plain": [
       "<Figure size 1440x576 with 1 Axes>"
      ]
     },
     "metadata": {
      "needs_background": "light"
     },
     "output_type": "display_data"
    }
   ],
   "source": [
    "ax = df_table.plot.bar(stacked=True, figsize=(20,8), grid=True)\n",
    "ax.set_xlabel('year')\n",
    "ax.set_ylabel('Carbon Footprint (Mt Co2Equiv)')"
   ]
  },
  {
   "cell_type": "code",
   "execution_count": null,
   "metadata": {},
   "outputs": [],
   "source": []
  }
 ],
 "metadata": {
  "kernelspec": {
   "display_name": "Python 3",
   "language": "python",
   "name": "python3"
  },
  "language_info": {
   "codemirror_mode": {
    "name": "ipython",
    "version": 3
   },
   "file_extension": ".py",
   "mimetype": "text/x-python",
   "name": "python",
   "nbconvert_exporter": "python",
   "pygments_lexer": "ipython3",
   "version": "3.7.3"
  }
 },
 "nbformat": 4,
 "nbformat_minor": 4
}
