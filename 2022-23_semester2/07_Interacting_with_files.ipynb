{
 "cells": [
  {
   "cell_type": "markdown",
   "metadata": {},
   "source": [
    "# In the previous episode...\n",
    "\n",
    "### quick overview of Classes\n",
    "```python\n",
    "d = Dog('Fido')\n",
    "d.add_trick('roll over')\n",
    "d.tricks\n",
    "```\n",
    "\n",
    "and re-implemented High-Low card game"
   ]
  },
  {
   "cell_type": "markdown",
   "metadata": {},
   "source": [
    "# .. and now"
   ]
  },
  {
   "cell_type": "markdown",
   "metadata": {},
   "source": [
    "# File system\n",
    "Interacting with the file system is one of the most important things to do. It is used in almost all applications as it can :\n",
    "- allow user to input large quantity of data at once\n",
    "- save temporary intermediate files\n",
    "- store final output files\n",
    "- keep a log of what has been done, useful for troubleshooting"
   ]
  },
  {
   "cell_type": "markdown",
   "metadata": {},
   "source": [
    "but first... let's download a silly little file from the internet"
   ]
  },
  {
   "cell_type": "code",
   "execution_count": 1,
   "metadata": {},
   "outputs": [
    {
     "name": "stdout",
     "output_type": "stream",
     "text": [
      "downloaded :)\n"
     ]
    }
   ],
   "source": [
    "# Don't worry about the code in this cell for now, we'll get to this stuff a future lesson\n",
    "import urllib.request   \n",
    "urllib.request.urlretrieve(\"https://raw.githubusercontent.com/gabrielecalvo/Language4Water/master/assets/cat_haiku.txt\", 'cat_haiku.txt')\n",
    "print(\"downloaded :)\")"
   ]
  },
  {
   "cell_type": "markdown",
   "metadata": {},
   "source": [
    "## Opening a file\n",
    "This can be achieved using the `open` function, which takes the **path to the file** as an input and returns a **file handle**\n",
    "```python\n",
    "file_handle = open('myfile.txt')\n",
    "```\n",
    "`open` also takes a second parameter **mode** which is the way in which we are asking to open the file, the most important for us now are:\n",
    "- `\"r\"`: which is the defaut and it stands for **read** mode (load data from existing file)\n",
    "- `\"w\"`: which stands for **write** mode (create a file)"
   ]
  },
  {
   "cell_type": "code",
   "execution_count": 5,
   "metadata": {},
   "outputs": [
    {
     "data": {
      "text/plain": [
       "<_io.TextIOWrapper name='cat_haiku.txt' mode='r' encoding='cp1252'>"
      ]
     },
     "execution_count": 5,
     "metadata": {},
     "output_type": "execute_result"
    }
   ],
   "source": [
    "fh = open('cat_haiku.txt')\n",
    "fh"
   ]
  },
  {
   "cell_type": "markdown",
   "metadata": {},
   "source": [
    "to read the content, we can use the `.read()` method of the file handler"
   ]
  },
  {
   "cell_type": "markdown",
   "metadata": {},
   "source": [
    "## Reading the file content"
   ]
  },
  {
   "cell_type": "code",
   "execution_count": 6,
   "metadata": {},
   "outputs": [
    {
     "data": {
      "text/plain": [
       "'# Good Morning Haiku From the Cat\\n# source: https://examples.yourdictionary.com/20-funny-haiku-poems-examples-for-all-ages.html\\n# ===============================\\n\\nIn the morning light,\\nYou sleep despite my meow.\\nI stand on your face.\\n'"
      ]
     },
     "execution_count": 6,
     "metadata": {},
     "output_type": "execute_result"
    }
   ],
   "source": [
    "content = fh.read()\n",
    "content"
   ]
  },
  {
   "cell_type": "markdown",
   "metadata": {},
   "source": [
    "those ugly `\\n` are newline characters, if you use the `print` function, you can see it better:"
   ]
  },
  {
   "cell_type": "code",
   "execution_count": 7,
   "metadata": {},
   "outputs": [
    {
     "name": "stdout",
     "output_type": "stream",
     "text": [
      "# Good Morning Haiku From the Cat\n",
      "# source: https://examples.yourdictionary.com/20-funny-haiku-poems-examples-for-all-ages.html\n",
      "# ===============================\n",
      "\n",
      "In the morning light,\n",
      "You sleep despite my meow.\n",
      "I stand on your face.\n",
      "\n"
     ]
    }
   ],
   "source": [
    "print(content)"
   ]
  },
  {
   "cell_type": "markdown",
   "metadata": {},
   "source": [
    "## Closing the file\n",
    "It is **important** to ***close*** the handler once you are done with the file.\n",
    "- If you opened it in read mode, others won't be able to edit it.\n",
    "- If you opened it in write mode, data might not be writtend to the file until you close it."
   ]
  },
  {
   "cell_type": "code",
   "execution_count": 8,
   "metadata": {},
   "outputs": [],
   "source": [
    "fh.close()"
   ]
  },
  {
   "cell_type": "markdown",
   "metadata": {},
   "source": [
    "## Using the context manager\n",
    "To take all this headache away from you, it is ***strongly*** recommended to use the *context manager* (using the `with` keyword) which will handle the closing for you so you don't forget."
   ]
  },
  {
   "cell_type": "code",
   "execution_count": 9,
   "metadata": {},
   "outputs": [
    {
     "name": "stdout",
     "output_type": "stream",
     "text": [
      "# Good Morning Haiku From the Cat\n",
      "# source: https://examples.yourdictionary.com/20-funny-haiku-poems-examples-for-all-ages.html\n",
      "# ===============================\n",
      "\n",
      "In the morning light,\n",
      "You sleep despite my meow.\n",
      "I stand on your face.\n",
      "\n"
     ]
    }
   ],
   "source": [
    "with open('cat_haiku.txt') as fh:\n",
    "    content = fh.read()\n",
    "    \n",
    "print(content)"
   ]
  },
  {
   "cell_type": "markdown",
   "metadata": {},
   "source": [
    "## reading content as list of lines\n",
    "sometimes it is helpful to read the content as a list of lines, for example during pre-processing.\n",
    "\n",
    "The file handle can be used as a sequence of strings separated by *newline* characters `\\n`, so we can iterate over it with a for loop to extract each line."
   ]
  },
  {
   "cell_type": "code",
   "execution_count": 10,
   "metadata": {},
   "outputs": [
    {
     "data": {
      "text/plain": [
       "['In the morning light,\\n',\n",
       " 'You sleep despite my meow.\\n',\n",
       " 'I stand on your face.\\n']"
      ]
     },
     "execution_count": 10,
     "metadata": {},
     "output_type": "execute_result"
    }
   ],
   "source": [
    "clean_lines = []\n",
    "with open('cat_haiku.txt') as fh:\n",
    "    for line in fh:\n",
    "        if not line.startswith(\"#\") and line != \"\\n\":\n",
    "            clean_lines.append(line)\n",
    "            \n",
    "clean_lines"
   ]
  },
  {
   "cell_type": "markdown",
   "metadata": {},
   "source": [
    "## writing a file\n",
    "All that changes when writing a file is the mode attribute (`w` instead of `r`) and the use of the `write` method instead of `read`"
   ]
  },
  {
   "cell_type": "code",
   "execution_count": 15,
   "metadata": {},
   "outputs": [
    {
     "name": "stdout",
     "output_type": "stream",
     "text": [
      "hello\\nworld and\\tothers\n"
     ]
    }
   ],
   "source": [
    "print(r\"hello\\nworld and\\tothers\")"
   ]
  },
  {
   "cell_type": "code",
   "execution_count": 16,
   "metadata": {},
   "outputs": [],
   "source": [
    "with open(\"new_shiny_file.txt\", mode=\"w\") as fh:\n",
    "    fh.write(\"hey, this is cool!!\\n\" * 20)"
   ]
  },
  {
   "cell_type": "markdown",
   "metadata": {},
   "source": [
    "## warning about Windows file paths\n",
    "Paths are sparated by different characters on Windows `\\` compared to Linux/MacOs `/`. \n",
    "\n",
    "When using paths in windows that contain `\\`, they need to be prefix by `r` to avoid that character being used to create special characters (e.g. `\\n`). So use:\n",
    "\n",
    "open(**r**\".\\new_shiny_file.txt\")"
   ]
  },
  {
   "cell_type": "code",
   "execution_count": 17,
   "metadata": {
    "collapsed": true,
    "jupyter": {
     "outputs_hidden": true
    },
    "tags": []
   },
   "outputs": [
    {
     "name": "stdout",
     "output_type": "stream",
     "text": [
      "hey, this is cool!!\n",
      "\n"
     ]
    },
    {
     "ename": "OSError",
     "evalue": "[Errno 22] Invalid argument: '.\\new_shiny_file.txt'",
     "output_type": "error",
     "traceback": [
      "\u001b[1;31m---------------------------------------------------------------------------\u001b[0m",
      "\u001b[1;31mOSError\u001b[0m                                   Traceback (most recent call last)",
      "Cell \u001b[1;32mIn[17], line 6\u001b[0m\n\u001b[0;32m      3\u001b[0m     \u001b[38;5;28mprint\u001b[39m(f\u001b[38;5;241m.\u001b[39mreadlines()[\u001b[38;5;241m0\u001b[39m])\n\u001b[0;32m      5\u001b[0m \u001b[38;5;66;03m# this won't work\u001b[39;00m\n\u001b[1;32m----> 6\u001b[0m \u001b[38;5;28;01mwith\u001b[39;00m \u001b[38;5;28;43mopen\u001b[39;49m\u001b[43m(\u001b[49m\u001b[38;5;124;43m\"\u001b[39;49m\u001b[38;5;124;43m.\u001b[39;49m\u001b[38;5;130;43;01m\\n\u001b[39;49;00m\u001b[38;5;124;43mew_shiny_file.txt\u001b[39;49m\u001b[38;5;124;43m\"\u001b[39;49m\u001b[43m)\u001b[49m \u001b[38;5;28;01mas\u001b[39;00m f:\n\u001b[0;32m      7\u001b[0m     \u001b[38;5;28mprint\u001b[39m(f\u001b[38;5;241m.\u001b[39mreadlines()[\u001b[38;5;241m0\u001b[39m])\n",
      "File \u001b[1;32m~\\AppData\\Local\\pypoetry\\Cache\\virtualenvs\\l4w-python-course-YvwXMbDV-py3.9\\lib\\site-packages\\IPython\\core\\interactiveshell.py:282\u001b[0m, in \u001b[0;36m_modified_open\u001b[1;34m(file, *args, **kwargs)\u001b[0m\n\u001b[0;32m    275\u001b[0m \u001b[38;5;28;01mif\u001b[39;00m file \u001b[38;5;129;01min\u001b[39;00m {\u001b[38;5;241m0\u001b[39m, \u001b[38;5;241m1\u001b[39m, \u001b[38;5;241m2\u001b[39m}:\n\u001b[0;32m    276\u001b[0m     \u001b[38;5;28;01mraise\u001b[39;00m \u001b[38;5;167;01mValueError\u001b[39;00m(\n\u001b[0;32m    277\u001b[0m         \u001b[38;5;124mf\u001b[39m\u001b[38;5;124m\"\u001b[39m\u001b[38;5;124mIPython won\u001b[39m\u001b[38;5;124m'\u001b[39m\u001b[38;5;124mt let you open fd=\u001b[39m\u001b[38;5;132;01m{\u001b[39;00mfile\u001b[38;5;132;01m}\u001b[39;00m\u001b[38;5;124m by default \u001b[39m\u001b[38;5;124m\"\u001b[39m\n\u001b[0;32m    278\u001b[0m         \u001b[38;5;124m\"\u001b[39m\u001b[38;5;124mas it is likely to crash IPython. If you know what you are doing, \u001b[39m\u001b[38;5;124m\"\u001b[39m\n\u001b[0;32m    279\u001b[0m         \u001b[38;5;124m\"\u001b[39m\u001b[38;5;124myou can use builtins\u001b[39m\u001b[38;5;124m'\u001b[39m\u001b[38;5;124m open.\u001b[39m\u001b[38;5;124m\"\u001b[39m\n\u001b[0;32m    280\u001b[0m     )\n\u001b[1;32m--> 282\u001b[0m \u001b[38;5;28;01mreturn\u001b[39;00m io_open(file, \u001b[38;5;241m*\u001b[39margs, \u001b[38;5;241m*\u001b[39m\u001b[38;5;241m*\u001b[39mkwargs)\n",
      "\u001b[1;31mOSError\u001b[0m: [Errno 22] Invalid argument: '.\\new_shiny_file.txt'"
     ]
    }
   ],
   "source": [
    "# this will work\n",
    "with open(r\".\\new_shiny_file.txt\") as f:\n",
    "    print(f.readlines()[0])\n",
    "\n",
    "# this won't work\n",
    "with open(\".\\new_shiny_file.txt\") as f:\n",
    "    print(f.readlines()[0])"
   ]
  },
  {
   "cell_type": "markdown",
   "metadata": {},
   "source": [
    "# Exercise: Ishmael Counter\n",
    "Count \"Ishmael\"s in Moby Dick and write the count to another file called `ishmael_counts.txt`\n",
    "\n",
    "For this lesson we'll need an example file. Let's use the book [\"Moby Dick\"](http://www.gutenberg.org/cache/epub/2701/pg2701.txt), let's download it.\n",
    "\n",
    "The actual text starts at line 536 and ends at 21743 but for this exercise it doesn't matter."
   ]
  },
  {
   "cell_type": "code",
   "execution_count": 21,
   "metadata": {},
   "outputs": [
    {
     "name": "stdout",
     "output_type": "stream",
     "text": [
      "downloaded :)\n"
     ]
    }
   ],
   "source": [
    "# Don't worry about the code in this cell for now, we'll get to this stuff a future lesson\n",
    "import urllib.request\n",
    "urllib.request.urlretrieve(\"https://raw.githubusercontent.com/egh/moby-dick/master/mobydick.txt\", \"moby_dick.txt\")\n",
    "print(\"downloaded :)\")"
   ]
  },
  {
   "cell_type": "code",
   "execution_count": null,
   "metadata": {},
   "outputs": [],
   "source": [
    "# enter your solution here\n",
    "..."
   ]
  },
  {
   "cell_type": "code",
   "execution_count": 24,
   "metadata": {
    "collapsed": true,
    "jupyter": {
     "outputs_hidden": true
    },
    "tags": []
   },
   "outputs": [
    {
     "data": {
      "text/plain": [
       "['The',\n",
       " 'Project',\n",
       " 'Gutenberg',\n",
       " 'EBook',\n",
       " 'of',\n",
       " 'Moby',\n",
       " 'Dick;',\n",
       " 'or',\n",
       " 'The',\n",
       " 'Whale,',\n",
       " 'by',\n",
       " 'Herman',\n",
       " 'Melville',\n",
       " 'This',\n",
       " 'eBook',\n",
       " 'is',\n",
       " 'for',\n",
       " 'the',\n",
       " 'use',\n",
       " 'of',\n",
       " 'anyone',\n",
       " 'anywhere',\n",
       " 'at',\n",
       " 'no',\n",
       " 'cost',\n",
       " 'and',\n",
       " 'with',\n",
       " 'almost',\n",
       " 'no',\n",
       " 'restrictions',\n",
       " 'whatsoever.',\n",
       " 'You',\n",
       " 'may',\n",
       " 'copy',\n",
       " 'it,',\n",
       " 'give',\n",
       " 'it',\n",
       " 'away',\n",
       " 'or',\n",
       " 're-use',\n",
       " 'it',\n",
       " 'under',\n",
       " 'the',\n",
       " 'terms',\n",
       " 'of',\n",
       " 'the',\n",
       " 'Project',\n",
       " 'Gutenberg',\n",
       " 'License',\n",
       " 'included',\n",
       " 'with',\n",
       " 'this',\n",
       " 'eBook',\n",
       " 'or',\n",
       " 'online',\n",
       " 'at',\n",
       " 'www.gutenberg.org',\n",
       " 'Title:',\n",
       " 'Moby',\n",
       " 'Dick;',\n",
       " 'or',\n",
       " 'The',\n",
       " 'Whale',\n",
       " 'Author:',\n",
       " 'Herman',\n",
       " 'Melville',\n",
       " 'Last',\n",
       " 'Updated:',\n",
       " 'January',\n",
       " '3,',\n",
       " '2009',\n",
       " 'Posting',\n",
       " 'Date:',\n",
       " 'December',\n",
       " '25,',\n",
       " '2008',\n",
       " '[EBook',\n",
       " '#2701]',\n",
       " 'Release',\n",
       " 'Date:',\n",
       " 'June,',\n",
       " '2001',\n",
       " 'Language:',\n",
       " 'English',\n",
       " '***',\n",
       " 'START',\n",
       " 'OF',\n",
       " 'THIS',\n",
       " 'PROJECT',\n",
       " 'GUTENBERG',\n",
       " 'EBOOK',\n",
       " 'MOBY',\n",
       " 'DICK;',\n",
       " 'OR',\n",
       " 'THE',\n",
       " 'WHALE',\n",
       " '***',\n",
       " 'Produced',\n",
       " 'by',\n",
       " 'Daniel']"
      ]
     },
     "execution_count": 24,
     "metadata": {},
     "output_type": "execute_result"
    }
   ],
   "source": [
    "content.split()[:100]"
   ]
  },
  {
   "cell_type": "markdown",
   "metadata": {},
   "source": [
    "#### possible solution"
   ]
  },
  {
   "cell_type": "code",
   "execution_count": 26,
   "metadata": {
    "tags": []
   },
   "outputs": [],
   "source": [
    "with open(\"moby_dick.txt\") as fh:\n",
    "    content = fh.read()\n",
    "\n",
    "counter = 0\n",
    "for word in content.split():\n",
    "    if \"Ishmael\" in word:\n",
    "        counter +=1\n",
    "# or just `content.count(\"Ishmael\")`        \n",
    "\n",
    "result = f\"There are {counter} `Ishmael`s in Moby Dick\"\n",
    "with open(\"ishmael_counts.txt\", \"w\") as fh:\n",
    "    fh.write(result)"
   ]
  },
  {
   "cell_type": "code",
   "execution_count": 27,
   "metadata": {},
   "outputs": [
    {
     "data": {
      "text/plain": [
       "'There are 19 `Ishmael`s in Moby Dick'"
      ]
     },
     "execution_count": 27,
     "metadata": {},
     "output_type": "execute_result"
    }
   ],
   "source": [
    "result"
   ]
  },
  {
   "cell_type": "markdown",
   "metadata": {},
   "source": [
    "# Exercise: Haiku Checker\n",
    "let's create a small program that will:\n",
    "\n",
    "- open the cat_haiku.txt file, \n",
    "- take the haiku part and clean up empty rows\n",
    "- check if it matches the following criteria:\n",
    "  - 3 sentences\n",
    "  - pattern 5, 7, 5 syllables"
   ]
  },
  {
   "cell_type": "markdown",
   "metadata": {},
   "source": [
    "To start, use the following `sentence_syllable_count` and `remove_punctuation` as given below, but, if you want a challenge you can try to implement them from scratch.\n",
    "\n",
    "### sub-exercise: syllable counting\n",
    "try to implement it using the following rules ([1-3](https://personal.utdallas.edu/~pervin/Flesch.txt), [4](http://english.glendale.cc.ca.us/phonics.rules.html)):\n",
    "  1. Each group of adjacent vowels {a,e,i,o,u,y} counts as one syllable (for example, the \"ea\" in \"real\" contributes one syllable, but the \"e..a\" in \"regal\" count as two syllables). \n",
    "  2. An \"e\" at the end of a word doesn't count as a syllable.\n",
    "  3. Each word has at least one syllable, even if the previous rules give a count of 0.\n",
    "  4. The diphthongs are: \"oi, oy, ou, ow, au, aw, oo\" always count as 1 syllable."
   ]
  },
  {
   "cell_type": "code",
   "execution_count": null,
   "metadata": {
    "tags": []
   },
   "outputs": [],
   "source": [
    "def word_syllable_count(word):\n",
    "    \"\"\"simplified syllable counting, won't work every time: e.g. `vehicle`\"\"\"\n",
    "    word = word.lower()\n",
    "    vowels = \"aeiouy\"\n",
    "    diphthongs = \"oi,oy,ou,ow,au,aw,oo\".split(',')\n",
    "    syllables = 0\n",
    "    last_was_consonant = False\n",
    "    \n",
    "    for diphthong in diphthongs:\n",
    "        word = word.replace(diphthong, \"xox\")\n",
    "    \n",
    "    for char in word:\n",
    "        if (char in vowels) and last_was_consonant:\n",
    "            syllables += 1\n",
    "            last_was_consonant = False\n",
    "        else:\n",
    "            last_was_consonant = True\n",
    "            \n",
    "    if word[-1] == 'e':\n",
    "        syllables -= 1\n",
    "        \n",
    "    return max(1, syllables)\n",
    "\n",
    "def sentence_syllable_count(sentence):\n",
    "    syllable_count = 0\n",
    "    for word in sentence.split():\n",
    "        syllable_count += word_syllable_count(word)\n",
    "    return syllable_count\n",
    "\n",
    "def remove_punctuation(s):\n",
    "    to_remove = '!\"#$%&\\'()*+,-./:;<=>?@[\\\\]^_`{|}~\\n'\n",
    "    for i in to_remove:\n",
    "        s = s.replace(i, \"\")\n",
    "    return s"
   ]
  },
  {
   "cell_type": "code",
   "execution_count": null,
   "metadata": {
    "jupyter": {
     "source_hidden": true
    },
    "tags": []
   },
   "outputs": [],
   "source": [
    "# tests\n",
    "print(word_syllable_count(word=\"flower\") == 2)\n",
    "print(word_syllable_count(word=\"thought\") == 1)\n",
    "print(word_syllable_count(word=\"teacher\") == 2)\n",
    "print(word_syllable_count(word=\"broadcast\") == 2)\n",
    "print(word_syllable_count(word=\"dreamed\") == 2)\n",
    "print(word_syllable_count(word=\"face\") == 1)\n",
    "print(word_syllable_count(word=\"meow\") == 2)\n",
    "print(sentence_syllable_count(sentence=\"cat in a hat\") == 4)\n",
    "print(remove_punctuation(\"my.ha;i#ku\\n\") == \"myhaiku\")\n",
    "print(remove_punctuation(\"my.ha;i#ku\\n\") == \"myhaiku\")"
   ]
  },
  {
   "cell_type": "code",
   "execution_count": null,
   "metadata": {},
   "outputs": [],
   "source": [
    "with open(\"cat_haiku.txt\") as fh:\n",
    "    lines = fh.readlines()\n",
    "    \n",
    "clean_lines = []\n",
    "for item in lines:\n",
    "    if item.startswith(\"#\") or item.startswith(\"\\n\"):\n",
    "        continue\n",
    "    clean_lines.append(item)\n",
    "    \n",
    "is_haiku = True    \n",
    "\n",
    "if len(clean_lines) != 3:\n",
    "    is_haiku = False\n",
    "    print(\"NOT AN HAIKU: it had != 3 lines\")   \n",
    "if sentence_syllable_count(clean_lines[0]) != 5:\n",
    "    is_haiku = False\n",
    "    print(\"NOT AN HAIKU the first sentence does not have 5 sillables\")\n",
    "if sentence_syllable_count(clean_lines[1]) != 7:\n",
    "    is_haiku = False\n",
    "    print(\"NOT AN HAIKU the second sentence does not have 7 sillables\")\n",
    "if sentence_syllable_count(clean_lines[2]) != 5:\n",
    "    is_haiku = False\n",
    "    print(\"NOT AN HAIKU the third sentence does not have 5 sillables\")\n",
    "    \n",
    "if is_haiku:\n",
    "    print(\"IT IS AN HAIKU\")"
   ]
  },
  {
   "cell_type": "markdown",
   "metadata": {},
   "source": [
    "### Possible Alternative Solution"
   ]
  },
  {
   "cell_type": "code",
   "execution_count": null,
   "metadata": {
    "tags": []
   },
   "outputs": [],
   "source": [
    "def load_valid_lines(filepath):\n",
    "    clean_lines = []\n",
    "    with open(filepath) as fh:\n",
    "        for line in fh.readlines():\n",
    "            if not line.startswith(\"#\") and line != \"\\n\":\n",
    "                clean_lines.append(line)\n",
    "    return clean_lines\n",
    "\n",
    "def check_sentence(sentence, expected_count):\n",
    "    clean_sencence = remove_punctuation(sentence)\n",
    "    actual_count = sentence_syllable_count(clean_sencence)\n",
    "    if actual_count != expected_count: \n",
    "        print(f\"The following sentence in the Haiku should have {expected_count} syllables but has {actual_count}:\\n`{clean_sencence}`\")\n",
    "        return False\n",
    "    return True\n",
    "\n",
    "def is_haiku(filepath):\n",
    "    clean_lines = load_valid_lines(filepath)\n",
    "    print(''.join(clean_lines))\n",
    "    \n",
    "    if len(clean_lines) != 3: \n",
    "        print(f\"Haiku must have 3 sentences! This has {len(clean_lines)}\")\n",
    "        return False\n",
    "    \n",
    "    if (\n",
    "        check_sentence(sentence=clean_lines[0], expected_count=5) and \n",
    "        check_sentence(sentence=clean_lines[1], expected_count=7) and \n",
    "        check_sentence(sentence=clean_lines[2], expected_count=5) \n",
    "    ):\n",
    "        return True\n",
    "    else:\n",
    "        return False\n",
    "    \n",
    "is_haiku(filepath='cat_haiku.txt')"
   ]
  },
  {
   "cell_type": "code",
   "execution_count": null,
   "metadata": {},
   "outputs": [],
   "source": []
  }
 ],
 "metadata": {
  "kernelspec": {
   "display_name": "Python 3 (ipykernel)",
   "language": "python",
   "name": "python3"
  },
  "language_info": {
   "codemirror_mode": {
    "name": "ipython",
    "version": 3
   },
   "file_extension": ".py",
   "mimetype": "text/x-python",
   "name": "python",
   "nbconvert_exporter": "python",
   "pygments_lexer": "ipython3",
   "version": "3.9.7"
  },
  "toc-autonumbering": false
 },
 "nbformat": 4,
 "nbformat_minor": 4
}
