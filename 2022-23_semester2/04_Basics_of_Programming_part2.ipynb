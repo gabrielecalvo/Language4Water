{
 "cells": [
  {
   "cell_type": "markdown",
   "metadata": {},
   "source": [
    "# In the previous episode...\n",
    "\n",
    "## common basic types\n",
    "```python\n",
    "a = 7          # integer\n",
    "b = 3.14       # float\n",
    "c = 'ciao'     # string (a.k.a. text)\n",
    "d = \"ciao\"     # also string\n",
    "e = True       # boolean (either True or False)\n",
    "```\n",
    "\n",
    "## common number operations\n",
    "```python\n",
    "7 // 3   # floor division\n",
    "7 % 3    # division remainder\n",
    "7 > 3    # greater than\n",
    "7 < 3    # lower than\n",
    "7 >= 3   # greater than or equal\n",
    "7 <= 3   # lower than or equal\n",
    "7 != 3   # different\n",
    "7 == 7   # equal (comparison)\n",
    "```\n",
    "\n",
    ".. if you are ever in a hurry, you can try:\n",
    "- https://www.pythoncheatsheet.org/#Python-Basics\n",
    "- https://speedsheet.io/s/python"
   ]
  },
  {
   "cell_type": "markdown",
   "metadata": {},
   "source": [
    "# .. and now"
   ]
  },
  {
   "cell_type": "markdown",
   "metadata": {
    "id": "9jIsva79of9q"
   },
   "source": [
    "# Fun with... strings"
   ]
  },
  {
   "cell_type": "code",
   "execution_count": null,
   "metadata": {},
   "outputs": [],
   "source": [
    "a = \"\"\"\n",
    "agrga\n",
    "greaht\n",
    "hat\n",
    "hthatha\n",
    "\"\"\"\n",
    "b = \"\\nagrga\\ngreaht\\nhat\\nhthatha\\n\"\n",
    "\n",
    "a == b"
   ]
  },
  {
   "cell_type": "code",
   "execution_count": null,
   "metadata": {},
   "outputs": [],
   "source": [
    "a = 'Hello'\n",
    "b = \"World\"\n",
    "\n",
    "c = '''multiline\n",
    "string'''  # or triple ' symbol\n",
    "\n",
    "print(a + b)   # concatentation\n",
    "print(a * 5)   # repetition\n",
    "print(a > b)   # alphanumberic comparison, works with >, <, ==, and != too  (order: \"0123456789ABC...Zabc....z\")"
   ]
  },
  {
   "cell_type": "markdown",
   "metadata": {},
   "source": [
    "### string methods\n",
    "All types have special functionality attached (also called `methods`). String's one can be particularly useful when working with them.\n",
    "\n",
    "Some nice ones are:\n",
    "```python\n",
    "\"aAbB\".upper()  # \"AABB\"\n",
    "\"aAbB\".lower()  # \"aabb\"\n",
    "\"aAbB\".title()  # \"Aabb\"\n",
    "\n",
    "\"aAbB\".startswith(\"aA\")   # True\n",
    "\"aAbB\".endswith(\"aA\")     # False\n",
    "\"aAbB\".replace(\"A\", \"C\")  # \"aCbB\"\n",
    "\"aAbB\".split(\"b\")         # [\"aA\", \"B\"]\n",
    "```"
   ]
  },
  {
   "cell_type": "markdown",
   "metadata": {},
   "source": [
    "### string templeting\n",
    "Another useful way to work with strings is using *templeting*, which can \n",
    "be done using either of these formats:"
   ]
  },
  {
   "cell_type": "code",
   "execution_count": null,
   "metadata": {},
   "outputs": [],
   "source": [
    "myvar = \"brilliant\"\n",
    "\n",
    "# print(\"this %s template\" % myvar)        # outdated, use one of the others\n",
    "print(\"this {} template\".format(myvar))  # sometimes useful\n",
    "print(f\"this {myvar} template\")          # most modern and nicer to work with"
   ]
  },
  {
   "cell_type": "code",
   "execution_count": null,
   "metadata": {},
   "outputs": [],
   "source": [
    "\"this {0} template and {0} and {0}\".format(myvar)"
   ]
  },
  {
   "cell_type": "markdown",
   "metadata": {},
   "source": [
    "the last two ways allow for special formatting within the `{}` for example:\n",
    "- `{13:05}` pad with 5 zeros\n",
    "- `{3.1415:.2f}` show only 2 digits"
   ]
  },
  {
   "cell_type": "code",
   "execution_count": null,
   "metadata": {},
   "outputs": [],
   "source": [
    "# example zero-filling dates\n",
    "day = 3\n",
    "month = 7\n",
    "year = 2023\n",
    "\n",
    "f\"{day:02}-{month:02}-{year}\""
   ]
  },
  {
   "cell_type": "markdown",
   "metadata": {},
   "source": [
    "## getting user input\n",
    "the simplest way to get user input is to use the `input` function"
   ]
  },
  {
   "cell_type": "code",
   "execution_count": null,
   "metadata": {},
   "outputs": [],
   "source": [
    "city = input(\"Capital of Germany? \")\n",
    "\n",
    "print(f\"you said {city}, it was Berlin\")"
   ]
  },
  {
   "cell_type": "markdown",
   "metadata": {},
   "source": [
    "# Silly Mad-lib"
   ]
  },
  {
   "cell_type": "code",
   "execution_count": null,
   "metadata": {},
   "outputs": [],
   "source": [
    "adj = input(\"give me an ADJECTIVE: \")\n",
    "noun = input(\"give me an NOUN: \")\n",
    "animal = input(\"give me an ANIMAL: \")\n",
    "sound = input(\"give me an SOUND: \")\n",
    "print(\"thanks, run the next cell to see your song\")"
   ]
  },
  {
   "cell_type": "code",
   "execution_count": null,
   "metadata": {
    "tags": []
   },
   "outputs": [],
   "source": [
    "madlib = f\"\"\"\n",
    "{adj} Macdonald had a {noun}, E-I-E-I-O\n",
    "and on that {noun} he had an {animal}, E-I-E-I-O\n",
    "with a {sound} {sound} here\n",
    "and a {sound} {sound} there,\n",
    "here a {sound}, there a {sound},\n",
    "everywhere a {sound} {sound},\n",
    "{adj} Macdonald had a {noun}, E-I-E-I-O. \n",
    "\"\"\"\n",
    "\n",
    "print(madlib)"
   ]
  },
  {
   "cell_type": "markdown",
   "metadata": {},
   "source": [
    "**IDEA** for further development: give [TextToSpeech](https://pypi.org/project/gTTS) a try!"
   ]
  },
  {
   "cell_type": "markdown",
   "metadata": {
    "tags": []
   },
   "source": [
    "First install the gTTS third-party library. You can do it from within jupyter/colab by running\n",
    "`!pip install gTTS`"
   ]
  },
  {
   "cell_type": "code",
   "execution_count": null,
   "metadata": {
    "tags": []
   },
   "outputs": [],
   "source": [
    "!python -m pip install gTTS"
   ]
  },
  {
   "cell_type": "code",
   "execution_count": null,
   "metadata": {
    "tags": []
   },
   "outputs": [],
   "source": [
    "from gtts import gTTS\n",
    "tts = gTTS(madlib)\n",
    "tts.save('madlib.mp3')\n",
    "\n",
    "from IPython.display import Audio\n",
    "Audio(filename='madlib.mp3')"
   ]
  },
  {
   "cell_type": "markdown",
   "metadata": {
    "id": "lzLHXjC5h_vV"
   },
   "source": [
    "# \\~\\~\\~ Question Break!! \\~\\~\\~\n",
    "![question_break](https://raw.githubusercontent.com/gabrielecalvo/Language4Water/master/assets/xx_question_break.jpg)"
   ]
  },
  {
   "cell_type": "markdown",
   "metadata": {},
   "source": [
    "# Exercise\n",
    "**Coolyify**: write code that converts any string into a cool string where all the \"e\"s are converted to \"3\" and all the \"s\" to \"$\""
   ]
  },
  {
   "cell_type": "code",
   "execution_count": null,
   "metadata": {},
   "outputs": [],
   "source": [
    "my_string = \"Life is what happens when you're busy making other plans.\""
   ]
  },
  {
   "cell_type": "code",
   "execution_count": null,
   "metadata": {
    "jupyter": {
     "source_hidden": true
    },
    "tags": []
   },
   "outputs": [],
   "source": [
    "my_string = my_string.replace(\"e\", \"3\")\n",
    "my_string.replace(\"s\", \"$\")"
   ]
  },
  {
   "cell_type": "code",
   "execution_count": null,
   "metadata": {
    "jupyter": {
     "source_hidden": true
    },
    "tags": []
   },
   "outputs": [],
   "source": [
    "my_string.replace(\"e\",\"3\").replace(\"s\",\"$\")"
   ]
  },
  {
   "cell_type": "markdown",
   "metadata": {},
   "source": [
    "**QuickOnlineReviewer**: write code that takes a few inputs and fills a template of an online review"
   ]
  },
  {
   "cell_type": "code",
   "execution_count": null,
   "metadata": {},
   "outputs": [],
   "source": [
    "\"this {} was {}, I will definitely {} this to all my friends\""
   ]
  },
  {
   "cell_type": "code",
   "execution_count": null,
   "metadata": {
    "jupyter": {
     "source_hidden": true
    },
    "tags": []
   },
   "outputs": [],
   "source": [
    "product = input(\"enter product: \")\n",
    "adjective = input(\"enter adjective: \")\n",
    "rating = input(\"enter rating: \")\n",
    "\n",
    "f\"this {product=} was {adjective}, I will definitely {rating} this to all my friends\""
   ]
  },
  {
   "cell_type": "markdown",
   "metadata": {},
   "source": [
    "# Using the standard library (shipped with python)"
   ]
  },
  {
   "cell_type": "code",
   "execution_count": null,
   "metadata": {},
   "outputs": [],
   "source": [
    "import random\n",
    "\n",
    "random.randint(1,13)"
   ]
  },
  {
   "cell_type": "code",
   "execution_count": null,
   "metadata": {},
   "outputs": [],
   "source": [
    "from random import randint\n",
    "\n",
    "randint(1,13)"
   ]
  },
  {
   "cell_type": "code",
   "execution_count": null,
   "metadata": {},
   "outputs": [],
   "source": [
    "import random as rnd         # import with alias\n",
    "from random import randint   # importing single item from module"
   ]
  },
  {
   "cell_type": "markdown",
   "metadata": {},
   "source": [
    "## Inspecting the documentation\n",
    "If you want to learn more about how to use a particular function (or method, or class) you can use the following"
   ]
  },
  {
   "cell_type": "code",
   "execution_count": null,
   "metadata": {
    "tags": []
   },
   "outputs": [],
   "source": [
    "# works in any python console\n",
    "randint?"
   ]
  },
  {
   "cell_type": "code",
   "execution_count": null,
   "metadata": {
    "tags": []
   },
   "outputs": [],
   "source": [
    "# work in jupyter (and ipython consoles)\n",
    "random.randint?"
   ]
  },
  {
   "cell_type": "code",
   "execution_count": null,
   "metadata": {
    "tags": []
   },
   "outputs": [],
   "source": [
    "# See source code, work in jupyter (and ipython consoles)\n",
    "random.randint??"
   ]
  },
  {
   "cell_type": "markdown",
   "metadata": {
    "id": "jzBPvYrteEk0"
   },
   "source": [
    "# Aggregate of Types"
   ]
  },
  {
   "cell_type": "code",
   "execution_count": null,
   "metadata": {
    "id": "iyBRxqAUcemH"
   },
   "outputs": [],
   "source": [
    "f = [1, 2, 3]       # list\n",
    "h = {'a':1, 'b':2}  # dictionary (key-value mappings), the key must be of hashable type (e.g. string, int, float)"
   ]
  },
  {
   "cell_type": "code",
   "execution_count": null,
   "metadata": {
    "id": "3LMB_S7flGNR"
   },
   "outputs": [],
   "source": [
    "# the content can be eterogenous (different types)\n",
    "f = [1, \"two\", 3, False] \n",
    "g = {'a': 1, 2: True, 'b': 1}  \n",
    "\n",
    "g"
   ]
  },
  {
   "cell_type": "markdown",
   "metadata": {
    "id": "6A0vojiZsAA2"
   },
   "source": [
    "# Fun with... Lists"
   ]
  },
  {
   "cell_type": "code",
   "execution_count": null,
   "metadata": {},
   "outputs": [],
   "source": [
    "my_list = ['John', 'Paul', 'George', 'Ringo']  # most common is all the same type"
   ]
  },
  {
   "cell_type": "code",
   "execution_count": null,
   "metadata": {
    "id": "djCBc0DbsCst"
   },
   "outputs": [],
   "source": [
    "# get first element of the list\n",
    "print(my_list[0])\n",
    "\n",
    "# get second\n",
    "print(my_list[1])\n",
    "\n",
    "# get last\n",
    "print(my_list[-1])"
   ]
  },
  {
   "cell_type": "code",
   "execution_count": null,
   "metadata": {},
   "outputs": [],
   "source": [
    "len(my_list)"
   ]
  },
  {
   "cell_type": "markdown",
   "metadata": {},
   "source": [
    "## List slicing\n",
    "also used for **arrays**, **matrices**, **pd.Series** and **strings**\n",
    "\n",
    "LIST[start:end:step]\n",
    "\n",
    "![slicing](https://miro.medium.com/max/1838/1*HqdR129XR8-1ojtTYLou7g.png)"
   ]
  },
  {
   "cell_type": "code",
   "execution_count": null,
   "metadata": {},
   "outputs": [],
   "source": [
    "my_list = [['George', 'John', 'Paul', 'Ringo'], [70,69,85,45]]"
   ]
  },
  {
   "cell_type": "code",
   "execution_count": null,
   "metadata": {},
   "outputs": [],
   "source": [
    "my_list =  [['George',70], ['John',69], ['Paul',85], ['Ringo',45]]"
   ]
  },
  {
   "cell_type": "code",
   "execution_count": null,
   "metadata": {},
   "outputs": [],
   "source": [
    "my_list"
   ]
  },
  {
   "cell_type": "code",
   "execution_count": null,
   "metadata": {},
   "outputs": [],
   "source": [
    "# taking first two\n",
    "my_list[:2]    # same as my_list[0:2:1]"
   ]
  },
  {
   "cell_type": "code",
   "execution_count": null,
   "metadata": {},
   "outputs": [],
   "source": [
    "# taking last two\n",
    "my_list[-2:]    # same as my_list[-2::1]"
   ]
  },
  {
   "cell_type": "code",
   "execution_count": null,
   "metadata": {},
   "outputs": [],
   "source": [
    "# taking middle two?\n",
    "my_list[1:-1]  # or my_list[1:3]"
   ]
  },
  {
   "cell_type": "code",
   "execution_count": null,
   "metadata": {},
   "outputs": [],
   "source": [
    "# taking one every two (odd numbers)\n",
    "my_list[::2]"
   ]
  },
  {
   "cell_type": "code",
   "execution_count": null,
   "metadata": {},
   "outputs": [],
   "source": [
    "# reversing the order?\n",
    "print(my_list)\n",
    "a = my_list[::-1]\n",
    "print(my_list)\n",
    "print(a)\n",
    "# or to reverse it in-place `my_list.reverse()`"
   ]
  },
  {
   "cell_type": "code",
   "execution_count": null,
   "metadata": {},
   "outputs": [],
   "source": [
    "# sorting a list\n",
    "sorted(my_list)"
   ]
  },
  {
   "cell_type": "code",
   "execution_count": null,
   "metadata": {},
   "outputs": [],
   "source": [
    "my_list.sort()"
   ]
  },
  {
   "cell_type": "code",
   "execution_count": null,
   "metadata": {},
   "outputs": [],
   "source": [
    "my_list"
   ]
  },
  {
   "cell_type": "code",
   "execution_count": null,
   "metadata": {},
   "outputs": [],
   "source": [
    "# changing one value\n",
    "print('before: ', my_list)\n",
    "my_list[0] = 'THE George'\n",
    "print('after: ', my_list)"
   ]
  },
  {
   "cell_type": "code",
   "execution_count": null,
   "metadata": {},
   "outputs": [],
   "source": [
    "# adding elements to a list\n",
    "my_list.append('Pete')\n",
    "\n",
    "my_list"
   ]
  },
  {
   "cell_type": "code",
   "execution_count": null,
   "metadata": {},
   "outputs": [],
   "source": [
    "my_list"
   ]
  },
  {
   "cell_type": "code",
   "execution_count": null,
   "metadata": {},
   "outputs": [],
   "source": [
    "my_list.insert(1, \"apple\")"
   ]
  },
  {
   "cell_type": "code",
   "execution_count": null,
   "metadata": {},
   "outputs": [],
   "source": [
    "my_list"
   ]
  },
  {
   "cell_type": "code",
   "execution_count": null,
   "metadata": {},
   "outputs": [],
   "source": [
    "# checking if element in list\n",
    "'John' in my_list"
   ]
  },
  {
   "cell_type": "markdown",
   "metadata": {},
   "source": [
    "if the index you pass excides the length of the array, it will return the entire array"
   ]
  },
  {
   "cell_type": "markdown",
   "metadata": {},
   "source": [
    "# \\~\\~\\~ Question Break!! \\~\\~\\~\n",
    "![question_break](https://raw.githubusercontent.com/gabrielecalvo/Language4Water/master/assets/xx_question_break.jpg)"
   ]
  },
  {
   "cell_type": "markdown",
   "metadata": {
    "id": "6A0vojiZsAA2"
   },
   "source": [
    "# Fun with... Dictionaries\n",
    "Collection of key-value pairs"
   ]
  },
  {
   "cell_type": "code",
   "execution_count": null,
   "metadata": {},
   "outputs": [],
   "source": [
    "# values can be duplicated, keys cannot\n",
    "the_beatles_instruments = {\n",
    "    'John': 'guitar',\n",
    "    'Paul':  'guitar',  \n",
    "    'George': 'bass',\n",
    "    'Ringo': 'drums',\n",
    "} \n",
    "\n",
    "# values can be eterogenous and nested\n",
    "the_beatles_tenure = {\n",
    "    'John': {'start': 1960, 'end': 1969},\n",
    "    'Paul':  [1960, 1970],\n",
    "    'George': (1960, 1970),\n",
    "    'Ringo': '1962–1970',\n",
    "}"
   ]
  },
  {
   "cell_type": "code",
   "execution_count": null,
   "metadata": {},
   "outputs": [],
   "source": [
    "# accessing a value\n",
    "the_beatles_instruments['George']"
   ]
  },
  {
   "cell_type": "code",
   "execution_count": null,
   "metadata": {},
   "outputs": [],
   "source": [
    "# starting year of John?\n",
    "the_beatles_tenure['John']['start']"
   ]
  },
  {
   "cell_type": "code",
   "execution_count": null,
   "metadata": {},
   "outputs": [],
   "source": [
    "# the last year for Paul\n",
    "the_beatles_tenure['Paul'][-1]"
   ]
  },
  {
   "cell_type": "code",
   "execution_count": null,
   "metadata": {},
   "outputs": [],
   "source": [
    "# adding a new value\n",
    "the_beatles_instruments['Pete'] = 'trumpet'\n",
    "\n",
    "the_beatles_instruments"
   ]
  },
  {
   "cell_type": "code",
   "execution_count": null,
   "metadata": {},
   "outputs": [],
   "source": [
    "# getting all keys\n",
    "the_beatles_instruments.keys()"
   ]
  },
  {
   "cell_type": "code",
   "execution_count": null,
   "metadata": {},
   "outputs": [],
   "source": [
    "# getting all values\n",
    "the_beatles_instruments.values()"
   ]
  },
  {
   "cell_type": "code",
   "execution_count": null,
   "metadata": {},
   "outputs": [],
   "source": [
    "# getting all keys-values as pairs\n",
    "the_beatles_instruments.items()"
   ]
  },
  {
   "cell_type": "code",
   "execution_count": null,
   "metadata": {},
   "outputs": [],
   "source": [
    "for key, value in the_beatles_instruments.items():\n",
    "    print(f\"key={key}, value={value}\")"
   ]
  },
  {
   "cell_type": "code",
   "execution_count": null,
   "metadata": {},
   "outputs": [],
   "source": [
    "for a, b, c in [[1,2,3],[4,5,6]]:\n",
    "    print(c,b,a)"
   ]
  },
  {
   "cell_type": "markdown",
   "metadata": {},
   "source": [
    "# If Statement\n",
    "diverting the execution flow depending on 1+ condition"
   ]
  },
  {
   "cell_type": "code",
   "execution_count": null,
   "metadata": {},
   "outputs": [],
   "source": [
    "happy = False\n",
    "know_it = True"
   ]
  },
  {
   "cell_type": "code",
   "execution_count": null,
   "metadata": {},
   "outputs": [],
   "source": [
    "if happy and know_it:\n",
    "    print('hands go clap clap')\n",
    "elif not know_it:\n",
    "    print('hands go clap')\n",
    "else:\n",
    "    print('...silence...')"
   ]
  },
  {
   "cell_type": "code",
   "execution_count": null,
   "metadata": {},
   "outputs": [],
   "source": [
    "# what result do I expect with.. ? \n",
    "happy = True\n",
    "know_it = False"
   ]
  },
  {
   "cell_type": "code",
   "execution_count": null,
   "metadata": {},
   "outputs": [],
   "source": [
    "# what result do I expect with.. ? \n",
    "happy = False\n",
    "know_it = True"
   ]
  },
  {
   "cell_type": "code",
   "execution_count": null,
   "metadata": {},
   "outputs": [],
   "source": [
    "# what result do I expect with.. ? \n",
    "happy = False\n",
    "know_it = False"
   ]
  },
  {
   "cell_type": "markdown",
   "metadata": {},
   "source": [
    "# Homework"
   ]
  },
  {
   "cell_type": "code",
   "execution_count": null,
   "metadata": {},
   "outputs": [],
   "source": [
    "# Write code that removes the first and last characters of a string.\n",
    "word = \"L4W\"\n",
    "\n",
    "# Examples:\n",
    "# \"Chocolate\"  >>  \"hocolat\"\n",
    "# \"L4W\"        >>  \"4\""
   ]
  },
  {
   "cell_type": "code",
   "execution_count": null,
   "metadata": {},
   "outputs": [],
   "source": [
    "# you are given a number and return its negative value. But maybe the number is already negative?\n",
    "x = 7\n",
    "\n",
    "# Examples:\n",
    "# 1   >> -1\n",
    "# -5  >> -5\n",
    "# 0   >> 0"
   ]
  },
  {
   "cell_type": "code",
   "execution_count": null,
   "metadata": {},
   "outputs": [],
   "source": [
    "# you have a dictionary, extract \"Hello\" and \"World\" from it using square brackets\n",
    "# and combine them into a single string\n",
    "mycooldata = {\n",
    "    'a': {\"c\": [\"World\", \"puppy\"]}, \n",
    "    \"b\": ['hi', 'Hello']\n",
    "}\n"
   ]
  },
  {
   "cell_type": "markdown",
   "metadata": {},
   "source": [
    "want **more**? try: \n",
    "- https://www.w3resource.com/python-exercises/string/ exercises 3, 5, 6, 9, 15 \n",
    "- https://www.w3resource.com/python-exercises/list/ exercises 1, 2\n",
    "- https://www.w3resource.com/python-exercises/dictionary/ exercises 4, 45\n",
    "some solutions are using loops, which we'll discuss next time, but you can also create a hard-coded implementation if you create a sample string/list/dictionary to work on."
   ]
  },
  {
   "cell_type": "code",
   "execution_count": null,
   "metadata": {},
   "outputs": [],
   "source": []
  }
 ],
 "metadata": {
  "kernelspec": {
   "display_name": "Python 3 (ipykernel)",
   "language": "python",
   "name": "python3"
  },
  "language_info": {
   "codemirror_mode": {
    "name": "ipython",
    "version": 3
   },
   "file_extension": ".py",
   "mimetype": "text/x-python",
   "name": "python",
   "nbconvert_exporter": "python",
   "pygments_lexer": "ipython3",
   "version": "3.9.7"
  },
  "toc-autonumbering": false
 },
 "nbformat": 4,
 "nbformat_minor": 4
}
