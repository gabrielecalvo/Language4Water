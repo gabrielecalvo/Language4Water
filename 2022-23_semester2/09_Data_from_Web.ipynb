{
 "cells": [
  {
   "cell_type": "markdown",
   "metadata": {},
   "source": [
    "# Getting Data from the Web\n",
    "The internet is full of useful (as well as useless) information, so sometimes it might be very helpful to get data from it and process it locally.\n",
    "\n",
    "There are different ways to get data from the web, the most used are:\n",
    "- **Web Scraping**: download the html content from the page and then look from it to extract information\n",
    "- **Using Web API**: APIs ([Application Programming Interface](https://en.wikipedia.org/wiki/API)) is code that is meant to be called from other code instead of displayed visually to a user. We'll be looking at the most common type: [REST API](https://en.wikipedia.org/wiki/Representational_state_transfer)\n",
    "\n",
    "Often Web API need authentication, but ofter you can get a API key after a quick free signup.\n",
    "[Here's a non-exaustive list](https://github.com/public-apis/public-apis) of open APIs."
   ]
  },
  {
   "cell_type": "markdown",
   "metadata": {},
   "source": [
    "## External Libraries\n",
    "We'll be using these two external libraries:\n",
    "- [requests](https://requests.readthedocs.io/en/master/): a more user-friendly alternative to the built-in library `urllib.request`\n",
    "- [beautifulsoup4](https://www.crummy.com/software/BeautifulSoup/bs4/doc/) a html parser, which is a type of software that builds a data structure from given inputs (usually of text kind).\n",
    "\n",
    "which you can install by runnin the cell below"
   ]
  },
  {
   "cell_type": "code",
   "execution_count": null,
   "metadata": {
    "tags": []
   },
   "outputs": [],
   "source": [
    "!pip install requests beautifulsoup4"
   ]
  },
  {
   "cell_type": "code",
   "execution_count": 1,
   "metadata": {},
   "outputs": [],
   "source": [
    "# let's import from them to check they were installed correctly\n",
    "import requests\n",
    "from bs4 import BeautifulSoup"
   ]
  },
  {
   "cell_type": "markdown",
   "metadata": {},
   "source": [
    "## Web Scraping"
   ]
  },
  {
   "cell_type": "code",
   "execution_count": 2,
   "metadata": {},
   "outputs": [
    {
     "data": {
      "text/plain": [
       "<Response [200]>"
      ]
     },
     "execution_count": 2,
     "metadata": {},
     "output_type": "execute_result"
    }
   ],
   "source": [
    "r = requests.get(\"https://www.metaweather.com/21125/\")\n",
    "r"
   ]
  },
  {
   "cell_type": "code",
   "execution_count": 3,
   "metadata": {
    "tags": []
   },
   "outputs": [
    {
     "data": {
      "text/plain": [
       "'\\n<!DOCTYPE html>\\n<html lang=\"en\" dir=\"ltr\">\\n\\t<head>\\n\\t\\t<meta charset=\"utf-8\">\\n\\t\\t<meta http-equiv=\"X-UA-Compatible\" content=\"IE=edge\">\\n\\t\\t<title>Glasgow - MetaWeather</title>\\n\\t\\t<meta name=\"viewport\" cont'"
      ]
     },
     "execution_count": 3,
     "metadata": {},
     "output_type": "execute_result"
    }
   ],
   "source": [
    "html_doc = r.text\n",
    "html_doc[:200]"
   ]
  },
  {
   "cell_type": "markdown",
   "metadata": {
    "jupyter": {
     "outputs_hidden": true
    },
    "tags": []
   },
   "source": [
    "if you want you can try render the html within the notebook by using\n",
    "```python\n",
    "from IPython.core.display import HTML\n",
    "HTML(r.text)\n",
    "```"
   ]
  },
  {
   "cell_type": "markdown",
   "metadata": {},
   "source": [
    "We could try an do string manipulation (or using [regular expression syntax](https://www.w3schools.com/python/python_regex.asp)), but using a pre-built parser is usually less painful :)"
   ]
  },
  {
   "cell_type": "code",
   "execution_count": 4,
   "metadata": {},
   "outputs": [],
   "source": [
    "soup = BeautifulSoup(html_doc, 'html.parser')"
   ]
  },
  {
   "cell_type": "code",
   "execution_count": 7,
   "metadata": {
    "tags": []
   },
   "outputs": [],
   "source": [
    "weather_data = []\n",
    "\n",
    "for item in soup.findAll('div'):\n",
    "    if item.has_attr('data-date'):\n",
    "        weather_date = item['data-date']\n",
    "        weather_description = item.find(\"span\").get_text()\n",
    "\n",
    "        weather_day_data = {\n",
    "            \"date\": weather_date,\n",
    "            \"description\": weather_description,\n",
    "        }\n",
    "        \n",
    "        weather_data.append(weather_day_data)"
   ]
  },
  {
   "cell_type": "code",
   "execution_count": 8,
   "metadata": {
    "tags": []
   },
   "outputs": [
    {
     "data": {
      "text/plain": [
       "[{'date': '2022-3-17', 'description': 'Heavy Rain'},\n",
       " {'date': '2022-3-18', 'description': 'Heavy Cloud'},\n",
       " {'date': '2022-3-19', 'description': 'Light Cloud'},\n",
       " {'date': '2022-3-20', 'description': 'Light Cloud'},\n",
       " {'date': '2022-3-21', 'description': 'Showers'},\n",
       " {'date': '2022-3-22', 'description': 'Heavy Cloud'}]"
      ]
     },
     "execution_count": 8,
     "metadata": {},
     "output_type": "execute_result"
    }
   ],
   "source": [
    "weather_data"
   ]
  },
  {
   "cell_type": "markdown",
   "metadata": {},
   "source": [
    "## Web API\n",
    "APIs are usually much more stable and nicer to work with, but you usually need to read through some documentation to learn what you can do and which particular urls (called \"endpoints\") you need to use.\n",
    "\n",
    "In our case, [MetaWeather API documentation](https://www.metaweather.com/api/) tells us that to get a similar output as our scraped data, we need to use the endpoint `/api/location/(woeid)/` where `woeid` is the identifier of the location we want the weather from."
   ]
  },
  {
   "cell_type": "code",
   "execution_count": 9,
   "metadata": {},
   "outputs": [
    {
     "data": {
      "text/plain": [
       "<Response [200]>"
      ]
     },
     "execution_count": 9,
     "metadata": {},
     "output_type": "execute_result"
    }
   ],
   "source": [
    "r = requests.get(\"https://www.metaweather.com/api/location/21125\")\n",
    "r"
   ]
  },
  {
   "cell_type": "code",
   "execution_count": 10,
   "metadata": {},
   "outputs": [],
   "source": [
    "api_weather_data = r.json()"
   ]
  },
  {
   "cell_type": "code",
   "execution_count": 11,
   "metadata": {
    "collapsed": true,
    "jupyter": {
     "outputs_hidden": true
    },
    "tags": []
   },
   "outputs": [
    {
     "data": {
      "text/plain": [
       "{'consolidated_weather': [{'id': 4518673235574784,\n",
       "   'weather_state_name': 'Heavy Rain',\n",
       "   'weather_state_abbr': 'hr',\n",
       "   'wind_direction_compass': 'SW',\n",
       "   'created': '2022-03-17T19:06:28.754400Z',\n",
       "   'applicable_date': '2022-03-17',\n",
       "   'min_temp': 1.715,\n",
       "   'max_temp': 9.879999999999999,\n",
       "   'the_temp': 9.235,\n",
       "   'wind_speed': 10.593762931610064,\n",
       "   'wind_direction': 233.3406016574657,\n",
       "   'air_pressure': 1022.0,\n",
       "   'humidity': 80,\n",
       "   'visibility': 11.307402270738883,\n",
       "   'predictability': 77},\n",
       "  {'id': 4937428142915584,\n",
       "   'weather_state_name': 'Heavy Cloud',\n",
       "   'weather_state_abbr': 'hc',\n",
       "   'wind_direction_compass': 'S',\n",
       "   'created': '2022-03-17T19:06:32.461653Z',\n",
       "   'applicable_date': '2022-03-18',\n",
       "   'min_temp': 1.385,\n",
       "   'max_temp': 12.49,\n",
       "   'the_temp': 11.27,\n",
       "   'wind_speed': 6.31253095388266,\n",
       "   'wind_direction': 190.48171627644203,\n",
       "   'air_pressure': 1041.0,\n",
       "   'humidity': 63,\n",
       "   'visibility': 12.614145888013997,\n",
       "   'predictability': 71},\n",
       "  {'id': 4664670976737280,\n",
       "   'weather_state_name': 'Light Cloud',\n",
       "   'weather_state_abbr': 'lc',\n",
       "   'wind_direction_compass': 'E',\n",
       "   'created': '2022-03-17T19:06:34.677672Z',\n",
       "   'applicable_date': '2022-03-19',\n",
       "   'min_temp': 2.9050000000000002,\n",
       "   'max_temp': 15.05,\n",
       "   'the_temp': 13.89,\n",
       "   'wind_speed': 5.248378312354516,\n",
       "   'wind_direction': 84.04803465191753,\n",
       "   'air_pressure': 1039.5,\n",
       "   'humidity': 61,\n",
       "   'visibility': 12.303149606299211,\n",
       "   'predictability': 70},\n",
       "  {'id': 5644573142417408,\n",
       "   'weather_state_name': 'Light Cloud',\n",
       "   'weather_state_abbr': 'lc',\n",
       "   'wind_direction_compass': 'E',\n",
       "   'created': '2022-03-17T19:06:37.757647Z',\n",
       "   'applicable_date': '2022-03-20',\n",
       "   'min_temp': 2.17,\n",
       "   'max_temp': 10.895,\n",
       "   'the_temp': 9.940000000000001,\n",
       "   'wind_speed': 7.1226895357989335,\n",
       "   'wind_direction': 96.16438654135943,\n",
       "   'air_pressure': 1031.0,\n",
       "   'humidity': 64,\n",
       "   'visibility': 13.624806132188022,\n",
       "   'predictability': 70},\n",
       "  {'id': 4958963813580800,\n",
       "   'weather_state_name': 'Showers',\n",
       "   'weather_state_abbr': 's',\n",
       "   'wind_direction_compass': 'ENE',\n",
       "   'created': '2022-03-17T19:06:40.666358Z',\n",
       "   'applicable_date': '2022-03-21',\n",
       "   'min_temp': 2.185,\n",
       "   'max_temp': 8.629999999999999,\n",
       "   'the_temp': 8.379999999999999,\n",
       "   'wind_speed': 5.218835440173387,\n",
       "   'wind_direction': 78.04254887754509,\n",
       "   'air_pressure': 1025.5,\n",
       "   'humidity': 75,\n",
       "   'visibility': 11.183438717887537,\n",
       "   'predictability': 73},\n",
       "  {'id': 4828268495634432,\n",
       "   'weather_state_name': 'Heavy Cloud',\n",
       "   'weather_state_abbr': 'hc',\n",
       "   'wind_direction_compass': 'ENE',\n",
       "   'created': '2022-03-17T19:06:44.364111Z',\n",
       "   'applicable_date': '2022-03-22',\n",
       "   'min_temp': 1.46,\n",
       "   'max_temp': 12.935,\n",
       "   'the_temp': 8.22,\n",
       "   'wind_speed': 2.4405929372464805,\n",
       "   'wind_direction': 59.5,\n",
       "   'air_pressure': 1028.0,\n",
       "   'humidity': 81,\n",
       "   'visibility': 9.871724131074524,\n",
       "   'predictability': 71}],\n",
       " 'time': '2022-03-17T21:10:05.545579Z',\n",
       " 'sun_rise': '2022-03-17T06:27:18.794707Z',\n",
       " 'sun_set': '2022-03-17T18:24:28.579693Z',\n",
       " 'timezone_name': 'LMT',\n",
       " 'parent': {'title': 'Scotland',\n",
       "  'location_type': 'Region / State / Province',\n",
       "  'woeid': 12578048,\n",
       "  'latt_long': '56.652859,-3.996670'},\n",
       " 'sources': [{'title': 'BBC',\n",
       "   'slug': 'bbc',\n",
       "   'url': 'http://www.bbc.co.uk/weather/',\n",
       "   'crawl_rate': 360},\n",
       "  {'title': 'Forecast.io',\n",
       "   'slug': 'forecast-io',\n",
       "   'url': 'http://forecast.io/',\n",
       "   'crawl_rate': 480},\n",
       "  {'title': 'Met Office',\n",
       "   'slug': 'met-office',\n",
       "   'url': 'http://www.metoffice.gov.uk/',\n",
       "   'crawl_rate': 180},\n",
       "  {'title': 'OpenWeatherMap',\n",
       "   'slug': 'openweathermap',\n",
       "   'url': 'http://openweathermap.org/',\n",
       "   'crawl_rate': 360},\n",
       "  {'title': 'World Weather Online',\n",
       "   'slug': 'world-weather-online',\n",
       "   'url': 'http://www.worldweatheronline.com/',\n",
       "   'crawl_rate': 360}],\n",
       " 'title': 'Glasgow',\n",
       " 'location_type': 'City',\n",
       " 'woeid': 21125,\n",
       " 'latt_long': '55.857800,-4.242510',\n",
       " 'timezone': 'Europe/London'}"
      ]
     },
     "execution_count": 11,
     "metadata": {},
     "output_type": "execute_result"
    }
   ],
   "source": [
    "api_weather_data"
   ]
  },
  {
   "cell_type": "markdown",
   "metadata": {},
   "source": [
    "# Pandas to the rescue"
   ]
  },
  {
   "cell_type": "code",
   "execution_count": null,
   "metadata": {
    "tags": []
   },
   "outputs": [],
   "source": [
    "!pip install lxml matplotlib"
   ]
  },
  {
   "cell_type": "code",
   "execution_count": 12,
   "metadata": {},
   "outputs": [
    {
     "data": {
      "text/plain": [
       "<AxesSubplot:xlabel='Year'>"
      ]
     },
     "execution_count": 12,
     "metadata": {},
     "output_type": "execute_result"
    },
    {
     "data": {
      "image/png": "[encoded data removed]",
      "text/plain": [
       "<Figure size 432x288 with 1 Axes>"
      ]
     },
     "metadata": {
      "needs_background": "light"
     },
     "output_type": "display_data"
    }
   ],
   "source": [
    "import pandas as pd\n",
    "\n",
    "list_of_dfs = pd.read_html('https://en.wikipedia.org/wiki/S%26P_500')\n",
    "first_df = list_of_dfs[1].iloc[:-4]  # last four columns are statistics\n",
    "df = first_df.set_index('Year')\n",
    "\n",
    "change_values_as_strings = df['Change in Index'].str.replace('−','-').str.replace('%','')  # cleaning up wierd characters\n",
    "change_values_as_numbers = pd.to_numeric(change_values_as_strings)\n",
    "\n",
    "change_values_as_numbers.plot(grid=True)"
   ]
  },
  {
   "cell_type": "markdown",
   "metadata": {},
   "source": [
    "# HomeWork\n",
    "\n",
    "For a more flexible application we could get the `woeid` from a city name or lat/lon coordinates by using other provided endpoints: `/api/location/search/?query=(query)` and `/api/location/search/?lattlong=(latt),(long)`\n",
    "\n",
    "Create two functions:\n",
    "```python\n",
    "def get_woeid_from_city_name(city_name):\n",
    "    ...\n",
    "\n",
    "def get_woeid_from_latlon(lat, lon):\n",
    "    ...\n",
    "```\n",
    "\n",
    "which will return the `woeid` for the given input. Then try to combine this with the previous code to produce a function that gets the weather for the next days."
   ]
  },
  {
   "cell_type": "code",
   "execution_count": 16,
   "metadata": {
    "tags": []
   },
   "outputs": [],
   "source": [
    "def get_woeid_from_city_name(city_name):\n",
    "    url = f\"https://www.metaweather.com/api/location/search/?query={city_name}\"\n",
    "    response = requests.get(url)\n",
    "    json_content = response.json()\n",
    "    woeid = json_content[0][\"woeid\"]\n",
    "    return woeid\n",
    "    \n",
    "    \n",
    "def get_weather(city_id):\n",
    "    return requests.get(f\"https://www.metaweather.com/api/location/{city_id}\").json()"
   ]
  },
  {
   "cell_type": "markdown",
   "metadata": {},
   "source": [
    "### Possible solution"
   ]
  },
  {
   "cell_type": "code",
   "execution_count": null,
   "metadata": {
    "jupyter": {
     "source_hidden": true
    },
    "tags": []
   },
   "outputs": [],
   "source": [
    "def _get_woeid_from_city_name(city_name):\n",
    "    json_data = requests.get(f\"https://www.metaweather.com/api/location/search/?query={city_name}\").json()\n",
    "    if not json_data:\n",
    "        raise ValueError(f\"No city found with name: {city_name}\")\n",
    "    first_result_woeid = json_data[0]['woeid']\n",
    "    return first_result_woeid\n",
    "    \n",
    "def _get_woeid_from_latlon(lat, lon):\n",
    "    json_data = requests.get(f\"https://www.metaweather.com/api/location/search/?lattlong={lat},{lon}\").json()\n",
    "    if not json_data:\n",
    "        raise ValueError(f\"No location found with latitude {lat} and longitude {lon}\")\n",
    "    first_result_woeid = json_data[0]['woeid']\n",
    "    return first_result_woeid\n",
    "\n",
    "# which can be tested with\n",
    "_get_woeid_from_city_name(\"Glasgow\")\n",
    "_get_woeid_from_latlon(55.864200, -4.251800)\n",
    "\n",
    "def _get_weather_from_woeid(woeid):\n",
    "    json_data = requests.get(f\"https://www.metaweather.com/api/location/{woeid}\").json()\n",
    "    json_data['consolidated_weather']\n",
    "    return json_data\n",
    "    \n",
    "def print_weather(city_name=None, lat=None, lon=None):\n",
    "    if city_name is None:\n",
    "        woeid = _get_woeid_from_latlon(lat, lon)\n",
    "    else:\n",
    "        woeid = _get_woeid_from_city_name(city_name)\n",
    "        \n",
    "    weather_data = _get_weather_from_woeid(woeid)\n",
    "    \n",
    "    for i in weather_data['consolidated_weather']:\n",
    "        print(i['applicable_date'], i['weather_state_name'])\n",
    "\n",
    "# which can be tested with\n",
    "print_weather(\"Glasgow\")"
   ]
  },
  {
   "cell_type": "markdown",
   "metadata": {},
   "source": [
    "### Creating a reusable package\n",
    "Now that we have a few useful functions we might want to store them and reuse them.\n",
    "Let's copy them into a python file `bespoke_samples/weather.py`\n",
    "\n",
    "So we can import them as:\n",
    "```python\n",
    "from bespoke_samples import weather\n",
    "weather.print_weather(..)\n",
    "# or\n",
    "from bespoke_samples.weather import print_weather\n",
    "print_weather(..)\n",
    "```"
   ]
  },
  {
   "cell_type": "code",
   "execution_count": null,
   "metadata": {},
   "outputs": [],
   "source": [
    "from bespoke_samples import weather\n",
    "weather.print_weather(\"Madrid\")"
   ]
  },
  {
   "cell_type": "code",
   "execution_count": null,
   "metadata": {},
   "outputs": [],
   "source": []
  }
 ],
 "metadata": {
  "kernelspec": {
   "display_name": "Python 3",
   "language": "python",
   "name": "python3"
  },
  "language_info": {
   "codemirror_mode": {
    "name": "ipython",
    "version": 3
   },
   "file_extension": ".py",
   "mimetype": "text/x-python",
   "name": "python",
   "nbconvert_exporter": "python",
   "pygments_lexer": "ipython3",
   "version": "3.8.6"
  }
 },
 "nbformat": 4,
 "nbformat_minor": 5
}
