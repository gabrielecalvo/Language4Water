{
 "cells": [
  {
   "cell_type": "markdown",
   "id": "b1500577",
   "metadata": {},
   "source": [
    "# Getting Data from the Web\n",
    "The internet is full of useful (as well as useless) information, so sometimes it might be very helpful to get data from it and process it locally.\n",
    "\n",
    "There are different ways to get data from the web, the most used are:\n",
    "- **Web Scraping**: download the html content from the page and then look from it to extract information\n",
    "- **Using Web API**: APIs ([Application Programming Interface](https://en.wikipedia.org/wiki/API)) is code that is meant to be called from other code instead of displayed visually to a user. We'll be looking at the most common type: [REST API](https://en.wikipedia.org/wiki/Representational_state_transfer)\n",
    "\n",
    "Often Web API need authentication, but ofter you can get a API key after a quick free signup.\n",
    "[Here's a non-exaustive list](https://github.com/public-apis/public-apis) of open APIs."
   ]
  },
  {
   "cell_type": "markdown",
   "id": "96163ebe",
   "metadata": {},
   "source": [
    "## External Libraries\n",
    "We'll be using these two external libraries:\n",
    "- [requests](https://requests.readthedocs.io/en/master/): a more user-friendly alternative to the built-in library `urllib.request`\n",
    "- [beautifulsoup4](https://www.crummy.com/software/BeautifulSoup/bs4/doc/) a html parser, which is a type of software that builds a data structure from given inputs (usually of text kind).\n",
    "\n",
    "which you can install by runnin the cell below"
   ]
  },
  {
   "cell_type": "code",
   "execution_count": null,
   "id": "a9ea16b7",
   "metadata": {
    "tags": []
   },
   "outputs": [],
   "source": [
    "!pip install requests beautifulsoup4"
   ]
  },
  {
   "cell_type": "code",
   "execution_count": null,
   "id": "1101a44a",
   "metadata": {},
   "outputs": [],
   "source": [
    "# let's import from them to check they were installed correctly\n",
    "import requests\n",
    "from bs4 import BeautifulSoup"
   ]
  },
  {
   "cell_type": "markdown",
   "id": "a03aa575",
   "metadata": {},
   "source": [
    "## Web Scraping"
   ]
  },
  {
   "cell_type": "code",
   "execution_count": null,
   "id": "2a13c9bd",
   "metadata": {},
   "outputs": [],
   "source": [
    "r = requests.get(\"https://en.wikipedia.org/wiki/S%26P_500\")\n",
    "r"
   ]
  },
  {
   "cell_type": "code",
   "execution_count": null,
   "id": "e677984e",
   "metadata": {
    "tags": []
   },
   "outputs": [],
   "source": [
    "html_doc = r.text\n",
    "html_doc[:200]"
   ]
  },
  {
   "cell_type": "code",
   "execution_count": null,
   "id": "9738c9c3-9335-4449-b66f-ac216a6191ee",
   "metadata": {},
   "outputs": [],
   "source": [
    "with open(\"data.html\", \"w\", encoding=\"utf8\") as f:\n",
    "    f.write(html_doc)"
   ]
  },
  {
   "cell_type": "markdown",
   "id": "e3741c45",
   "metadata": {
    "jupyter": {
     "outputs_hidden": true
    },
    "tags": []
   },
   "source": [
    "if you want you can try render the html within the notebook by using\n",
    "```python\n",
    "from IPython.core.display import HTML\n",
    "HTML(r.text)\n",
    "```"
   ]
  },
  {
   "cell_type": "markdown",
   "id": "523e0881",
   "metadata": {},
   "source": [
    "We could try an do string manipulation (or using [regular expression syntax](https://www.w3schools.com/python/python_regex.asp)), but using a pre-built parser is usually less painful :)"
   ]
  },
  {
   "cell_type": "code",
   "execution_count": null,
   "id": "8e2d9837",
   "metadata": {},
   "outputs": [],
   "source": [
    "soup = BeautifulSoup(html_doc, 'html.parser')"
   ]
  },
  {
   "cell_type": "code",
   "execution_count": null,
   "id": "e8d7124f-4a28-4626-92af-f97ce6f8ce0f",
   "metadata": {},
   "outputs": [],
   "source": [
    "spans = list(soup.findAll('h1'))\n",
    "    # break\n",
    "    # if item.has_attr('class'):\n",
    "        "
   ]
  },
  {
   "cell_type": "code",
   "execution_count": null,
   "id": "f05f4288-c5ae-44c8-9a55-298accffc197",
   "metadata": {},
   "outputs": [],
   "source": [
    "[i.get_text() for i in soup.find_all(\"h1\")]"
   ]
  },
  {
   "cell_type": "code",
   "execution_count": null,
   "id": "b31e560e",
   "metadata": {
    "tags": []
   },
   "outputs": [],
   "source": [
    "weather_data = []\n",
    "\n",
    "for item in soup.findAll('div'):\n",
    "    if item.has_attr('data-date'):\n",
    "        weather_date = item['data-date']\n",
    "        weather_description = item.find(\"span\").get_text()\n",
    "\n",
    "        weather_day_data = {\n",
    "            \"date\": weather_date,\n",
    "            \"description\": weather_description,\n",
    "        }\n",
    "        \n",
    "        weather_data.append(weather_day_data)"
   ]
  },
  {
   "cell_type": "code",
   "execution_count": null,
   "id": "6538d7ba",
   "metadata": {
    "tags": []
   },
   "outputs": [],
   "source": [
    "weather_data"
   ]
  },
  {
   "cell_type": "code",
   "execution_count": null,
   "id": "ebc9272c-3eff-4617-93b7-0ee56c20079f",
   "metadata": {},
   "outputs": [],
   "source": []
  },
  {
   "cell_type": "markdown",
   "id": "fa5559a1",
   "metadata": {},
   "source": [
    "## Web API\n",
    "APIs are usually much more stable and nicer to work with, but you usually need to read through some documentation to learn what you can do and which particular urls (called \"endpoints\") you need to use.\n",
    "\n",
    "In our case, [MetaWeather API documentation](https://www.metaweather.com/api/) tells us that to get a similar output as our scraped data, we need to use the endpoint `/api/location/(woeid)/` where `woeid` is the identifier of the location we want the weather from."
   ]
  },
  {
   "cell_type": "code",
   "execution_count": null,
   "id": "9c1a7f4a",
   "metadata": {},
   "outputs": [],
   "source": [
    "r = requests.get(\"https://wizard-world-api.herokuapp.com/houses\")\n",
    "r"
   ]
  },
  {
   "cell_type": "code",
   "execution_count": null,
   "id": "b3d659d4-34c7-4a4b-abfd-79965a6d74fd",
   "metadata": {},
   "outputs": [],
   "source": [
    "houses = r.json()\n",
    "len(houses)"
   ]
  },
  {
   "cell_type": "code",
   "execution_count": null,
   "id": "7ef4cb02-5462-4abc-8b06-c7e11b8711ff",
   "metadata": {},
   "outputs": [],
   "source": [
    "{\"house-name\": [\"h1\", \"h2\", ...]}"
   ]
  },
  {
   "cell_type": "code",
   "execution_count": null,
   "id": "71eff398-0fd6-452c-9719-fe78734de9e0",
   "metadata": {},
   "outputs": [],
   "source": [
    "{f\"my key {i+1}\": i for i in range(5)}"
   ]
  },
  {
   "cell_type": "code",
   "execution_count": null,
   "id": "54587b21-9bac-450c-a7d8-6118c551757a",
   "metadata": {
    "tags": []
   },
   "outputs": [],
   "source": [
    "houses[0]['heads']"
   ]
  },
  {
   "cell_type": "code",
   "execution_count": null,
   "id": "d115d66b-f54f-429a-83f1-3c12f8d2e8b0",
   "metadata": {
    "tags": []
   },
   "outputs": [],
   "source": [
    "{ \n",
    "    house['name']: [f\"{i['firstName']} {i['lastName']}\" for i in house['heads']]\n",
    "    for house in houses\n",
    "}"
   ]
  },
  {
   "cell_type": "code",
   "execution_count": null,
   "id": "f3825b13-3370-4250-8cea-94e88420edbc",
   "metadata": {
    "tags": []
   },
   "outputs": [],
   "source": [
    "my_structure = {}\n",
    "for house in houses:\n",
    "    key = house['name']\n",
    "    house_heads = []\n",
    "    for head in house['heads']:\n",
    "        head_name = f\"{head['firstName']} {head['lastName']}\"\n",
    "        house_heads.append(head_name)\n",
    "    my_structure[key] = house_heads\n",
    "    \n",
    "my_structure"
   ]
  },
  {
   "cell_type": "code",
   "execution_count": null,
   "id": "bd569f82-332e-44cf-a787-4af2c2e445d6",
   "metadata": {},
   "outputs": [],
   "source": [
    "[i['name'] for i in houses]"
   ]
  },
  {
   "cell_type": "code",
   "execution_count": null,
   "id": "809d8e5a",
   "metadata": {},
   "outputs": [],
   "source": [
    "api_weather_data = r.json()"
   ]
  },
  {
   "cell_type": "code",
   "execution_count": null,
   "id": "c36928e7",
   "metadata": {
    "tags": []
   },
   "outputs": [],
   "source": [
    "api_weather_data"
   ]
  },
  {
   "cell_type": "markdown",
   "id": "36185ca6",
   "metadata": {},
   "source": [
    "# Pandas to the rescue"
   ]
  },
  {
   "cell_type": "code",
   "execution_count": 1,
   "id": "cf65b910-d323-436a-ab55-081661d0a479",
   "metadata": {},
   "outputs": [],
   "source": [
    "import pandas as pd\n",
    "tables = pd.read_html('https://en.wikipedia.org/wiki/S%26P_500')"
   ]
  },
  {
   "cell_type": "code",
   "execution_count": 6,
   "id": "d05d73d8-c032-4058-bbab-d4689905c9fb",
   "metadata": {},
   "outputs": [],
   "source": [
    "# for table in tables:\n",
    "#     display(table.head(2))"
   ]
  },
  {
   "cell_type": "code",
   "execution_count": 28,
   "id": "5dc61c0d-bc35-4269-872e-4a0da62adb83",
   "metadata": {},
   "outputs": [],
   "source": [
    "ser = (\n",
    "    tables[1].iloc[:-3].set_index(\"Year\")\n",
    "    ['Total Annual Return, Including Dividends']\n",
    "    .replace(\"-\", \"\").str.replace(\"%\", \"\")\n",
    "    "
   ]
  },
  {
   "cell_type": "code",
   "execution_count": 30,
   "id": "314705f1-e71c-4bb0-82ef-11eec046497d",
   "metadata": {},
   "outputs": [
    {
     "ename": "ValueError",
     "evalue": "Unable to parse string \"−14.66\" at position 12",
     "output_type": "error",
     "traceback": [
      "\u001b[1;31m---------------------------------------------------------------------------\u001b[0m",
      "\u001b[1;31mValueError\u001b[0m                                Traceback (most recent call last)",
      "File \u001b[1;32m~\\AppData\\Local\\pypoetry\\Cache\\virtualenvs\\l4w-python-course-YvwXMbDV-py3.9\\lib\\site-packages\\pandas\\_libs\\lib.pyx:2369\u001b[0m, in \u001b[0;36mpandas._libs.lib.maybe_convert_numeric\u001b[1;34m()\u001b[0m\n",
      "\u001b[1;31mValueError\u001b[0m: Unable to parse string \"−14.66\"",
      "\nDuring handling of the above exception, another exception occurred:\n",
      "\u001b[1;31mValueError\u001b[0m                                Traceback (most recent call last)",
      "Cell \u001b[1;32mIn[30], line 1\u001b[0m\n\u001b[1;32m----> 1\u001b[0m \u001b[43mpd\u001b[49m\u001b[38;5;241;43m.\u001b[39;49m\u001b[43mto_numeric\u001b[49m\u001b[43m(\u001b[49m\u001b[43mser\u001b[49m\u001b[43m)\u001b[49m\n",
      "File \u001b[1;32m~\\AppData\\Local\\pypoetry\\Cache\\virtualenvs\\l4w-python-course-YvwXMbDV-py3.9\\lib\\site-packages\\pandas\\core\\tools\\numeric.py:185\u001b[0m, in \u001b[0;36mto_numeric\u001b[1;34m(arg, errors, downcast)\u001b[0m\n\u001b[0;32m    183\u001b[0m coerce_numeric \u001b[38;5;241m=\u001b[39m errors \u001b[38;5;129;01mnot\u001b[39;00m \u001b[38;5;129;01min\u001b[39;00m (\u001b[38;5;124m\"\u001b[39m\u001b[38;5;124mignore\u001b[39m\u001b[38;5;124m\"\u001b[39m, \u001b[38;5;124m\"\u001b[39m\u001b[38;5;124mraise\u001b[39m\u001b[38;5;124m\"\u001b[39m)\n\u001b[0;32m    184\u001b[0m \u001b[38;5;28;01mtry\u001b[39;00m:\n\u001b[1;32m--> 185\u001b[0m     values, _ \u001b[38;5;241m=\u001b[39m \u001b[43mlib\u001b[49m\u001b[38;5;241;43m.\u001b[39;49m\u001b[43mmaybe_convert_numeric\u001b[49m\u001b[43m(\u001b[49m\n\u001b[0;32m    186\u001b[0m \u001b[43m        \u001b[49m\u001b[43mvalues\u001b[49m\u001b[43m,\u001b[49m\u001b[43m \u001b[49m\u001b[38;5;28;43mset\u001b[39;49m\u001b[43m(\u001b[49m\u001b[43m)\u001b[49m\u001b[43m,\u001b[49m\u001b[43m \u001b[49m\u001b[43mcoerce_numeric\u001b[49m\u001b[38;5;241;43m=\u001b[39;49m\u001b[43mcoerce_numeric\u001b[49m\n\u001b[0;32m    187\u001b[0m \u001b[43m    \u001b[49m\u001b[43m)\u001b[49m\n\u001b[0;32m    188\u001b[0m \u001b[38;5;28;01mexcept\u001b[39;00m (\u001b[38;5;167;01mValueError\u001b[39;00m, \u001b[38;5;167;01mTypeError\u001b[39;00m):\n\u001b[0;32m    189\u001b[0m     \u001b[38;5;28;01mif\u001b[39;00m errors \u001b[38;5;241m==\u001b[39m \u001b[38;5;124m\"\u001b[39m\u001b[38;5;124mraise\u001b[39m\u001b[38;5;124m\"\u001b[39m:\n",
      "File \u001b[1;32m~\\AppData\\Local\\pypoetry\\Cache\\virtualenvs\\l4w-python-course-YvwXMbDV-py3.9\\lib\\site-packages\\pandas\\_libs\\lib.pyx:2411\u001b[0m, in \u001b[0;36mpandas._libs.lib.maybe_convert_numeric\u001b[1;34m()\u001b[0m\n",
      "\u001b[1;31mValueError\u001b[0m: Unable to parse string \"−14.66\" at position 12"
     ]
    }
   ],
   "source": [
    "pd.to_numeric(ser)"
   ]
  },
  {
   "cell_type": "code",
   "execution_count": null,
   "id": "4f1119df-14b4-4984-96f7-8aecb708b756",
   "metadata": {},
   "outputs": [],
   "source": []
  },
  {
   "cell_type": "code",
   "execution_count": null,
   "id": "2756663e",
   "metadata": {
    "tags": []
   },
   "outputs": [],
   "source": [
    "!pip install lxml matplotlib"
   ]
  },
  {
   "cell_type": "code",
   "execution_count": null,
   "id": "00645a34",
   "metadata": {},
   "outputs": [],
   "source": [
    "import pandas as pd\n",
    "\n",
    "list_of_dfs = pd.read_html('https://en.wikipedia.org/wiki/S%26P_500')\n",
    "first_df = list_of_dfs[1].iloc[:-4]  # last four columns are statistics\n",
    "df = first_df.set_index('Year')\n",
    "\n",
    "change_values_as_strings = df['Change in Index'].str.replace('−','-').str.replace('%','')  # cleaning up wierd characters\n",
    "change_values_as_numbers = pd.to_numeric(change_values_as_strings)\n",
    "\n",
    "change_values_as_numbers.plot(grid=True)"
   ]
  },
  {
   "cell_type": "markdown",
   "id": "969fe04f",
   "metadata": {},
   "source": [
    "# HomeWork\n",
    "\n",
    "For a more flexible application we could get the `woeid` from a city name or lat/lon coordinates by using other provided endpoints: `/api/location/search/?query=(query)` and `/api/location/search/?lattlong=(latt),(long)`\n",
    "\n",
    "Create two functions:\n",
    "```python\n",
    "def get_woeid_from_city_name(city_name):\n",
    "    ...\n",
    "\n",
    "def get_woeid_from_latlon(lat, lon):\n",
    "    ...\n",
    "```\n",
    "\n",
    "which will return the `woeid` for the given input. Then try to combine this with the previous code to produce a function that gets the weather for the next days."
   ]
  },
  {
   "cell_type": "code",
   "execution_count": null,
   "id": "1849416c",
   "metadata": {
    "tags": []
   },
   "outputs": [],
   "source": [
    "def get_woeid_from_city_name(city_name):\n",
    "    url = f\"https://www.metaweather.com/api/location/search/?query={city_name}\"\n",
    "    response = requests.get(url)\n",
    "    json_content = response.json()\n",
    "    woeid = json_content[0][\"woeid\"]\n",
    "    return woeid\n",
    "    \n",
    "    \n",
    "def get_weather(city_id):\n",
    "    return requests.get(f\"https://www.metaweather.com/api/location/{city_id}\").json()"
   ]
  },
  {
   "cell_type": "markdown",
   "id": "465cb7cc",
   "metadata": {},
   "source": [
    "### Possible solution"
   ]
  },
  {
   "cell_type": "code",
   "execution_count": null,
   "id": "bcb897f9",
   "metadata": {
    "tags": []
   },
   "outputs": [],
   "source": [
    "def _get_woeid_from_city_name(city_name):\n",
    "    json_data = requests.get(f\"https://www.metaweather.com/api/location/search/?query={city_name}\").json()\n",
    "    if not json_data:\n",
    "        raise ValueError(f\"No city found with name: {city_name}\")\n",
    "    first_result_woeid = json_data[0]['woeid']\n",
    "    return first_result_woeid\n",
    "    \n",
    "def _get_woeid_from_latlon(lat, lon):\n",
    "    json_data = requests.get(f\"https://www.metaweather.com/api/location/search/?lattlong={lat},{lon}\").json()\n",
    "    if not json_data:\n",
    "        raise ValueError(f\"No location found with latitude {lat} and longitude {lon}\")\n",
    "    first_result_woeid = json_data[0]['woeid']\n",
    "    return first_result_woeid\n",
    "\n",
    "# which can be tested with\n",
    "_get_woeid_from_city_name(\"Glasgow\")\n",
    "_get_woeid_from_latlon(55.864200, -4.251800)\n",
    "\n",
    "def _get_weather_from_woeid(woeid):\n",
    "    json_data = requests.get(f\"https://www.metaweather.com/api/location/{woeid}\").json()\n",
    "    json_data['consolidated_weather']\n",
    "    return json_data\n",
    "    \n",
    "def print_weather(city_name=None, lat=None, lon=None):\n",
    "    if city_name is None:\n",
    "        woeid = _get_woeid_from_latlon(lat, lon)\n",
    "    else:\n",
    "        woeid = _get_woeid_from_city_name(city_name)\n",
    "        \n",
    "    weather_data = _get_weather_from_woeid(woeid)\n",
    "    \n",
    "    for i in weather_data['consolidated_weather']:\n",
    "        print(i['applicable_date'], i['weather_state_name'])\n",
    "\n",
    "# which can be tested with\n",
    "print_weather(\"Glasgow\")"
   ]
  },
  {
   "cell_type": "markdown",
   "id": "ed01c7a7",
   "metadata": {},
   "source": [
    "### Creating a reusable package\n",
    "Now that we have a few useful functions we might want to store them and reuse them.\n",
    "Let's copy them into a python file `bespoke_samples/weather.py`\n",
    "\n",
    "So we can import them as:\n",
    "```python\n",
    "from bespoke_samples import weather\n",
    "weather.print_weather(..)\n",
    "# or\n",
    "from bespoke_samples.weather import print_weather\n",
    "print_weather(..)\n",
    "```"
   ]
  },
  {
   "cell_type": "code",
   "execution_count": null,
   "id": "0025d284",
   "metadata": {},
   "outputs": [],
   "source": [
    "from bespoke_samples import weather\n",
    "weather.print_weather(\"Madrid\")"
   ]
  },
  {
   "cell_type": "code",
   "execution_count": null,
   "id": "a7911a10",
   "metadata": {},
   "outputs": [],
   "source": []
  }
 ],
 "metadata": {
  "kernelspec": {
   "display_name": "Python 3 (ipykernel)",
   "language": "python",
   "name": "python3"
  },
  "language_info": {
   "codemirror_mode": {
    "name": "ipython",
    "version": 3
   },
   "file_extension": ".py",
   "mimetype": "text/x-python",
   "name": "python",
   "nbconvert_exporter": "python",
   "pygments_lexer": "ipython3",
   "version": "3.9.7"
  }
 },
 "nbformat": 4,
 "nbformat_minor": 5
}
