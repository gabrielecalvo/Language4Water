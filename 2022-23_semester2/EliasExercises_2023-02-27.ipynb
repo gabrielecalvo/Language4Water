{
 "cells": [
  {
   "cell_type": "markdown",
   "id": "7777908e-4906-4c7e-9bc8-6c41545e7cc4",
   "metadata": {},
   "source": [
    "### 1. Check if a String is a Palindrome\n",
    "Given a string, write a function that returns True if it is a palindrome and False otherwise. \n",
    "A palindrome is a string that reads the same forwards and backwards.\n",
    "\n",
    "```\n",
    "Example input: \"racecar\"\n",
    "Example output: True\n",
    "\n",
    "Example input: \"hello\"\n",
    "Example output: False\n",
    "```"
   ]
  },
  {
   "cell_type": "code",
   "execution_count": 1,
   "id": "3af35476-3d08-487b-9c32-50c298656d30",
   "metadata": {},
   "outputs": [
    {
     "name": "stdout",
     "output_type": "stream",
     "text": [
      "Hello is not a palindrome; olleH is the reverse\n"
     ]
    }
   ],
   "source": [
    "def is_palindrome(word, verbose=False):\n",
    "    result = word.lower() == word[::-1].lower()\n",
    "    if verbose:\n",
    "        if result:\n",
    "            print(f\"{word} is a palindrome\")\n",
    "        else:\n",
    "            print(f\"{word} is not a palindrome; {word[::-1]} is the reverse\")\n",
    "    return result\n",
    "    \n",
    "assert is_palindrome(\"Racecar\") is True\n",
    "assert is_palindrome(\"Hello\", verbose=True) is False"
   ]
  },
  {
   "cell_type": "markdown",
   "id": "71fb2f29-3850-4272-8a33-8fd113cc7bc3",
   "metadata": {},
   "source": [
    "### 2. Count the Number of Words in a String\n",
    "Given a string, write a function that counts the number of words in it. \n",
    "Assume that words are separated by spaces.\n",
    "\n",
    "```\n",
    "Example input: \"Hello world\"\n",
    "Example output: 2\n",
    "```"
   ]
  },
  {
   "cell_type": "code",
   "execution_count": 2,
   "id": "858ad148-8fda-4718-93fa-c48542d5f2f5",
   "metadata": {
    "tags": []
   },
   "outputs": [],
   "source": [
    "def count_words(text):\n",
    "    n_spaces = 0\n",
    "    for character in text:\n",
    "        if character == \" \":\n",
    "            n_spaces += 1\n",
    "\n",
    "    return n_spaces + 1\n",
    "    \n",
    "assert count_words(\"Hello world\") == 2, count_words(\"Hello world\")"
   ]
  },
  {
   "cell_type": "code",
   "execution_count": 3,
   "id": "0e6e5303-b72c-4f77-ad56-ac8a08f516ed",
   "metadata": {},
   "outputs": [
    {
     "data": {
      "text/plain": [
       "4"
      ]
     },
     "execution_count": 3,
     "metadata": {},
     "output_type": "execute_result"
    }
   ],
   "source": [
    "count_words(text = \"ga aht tah tah\")"
   ]
  },
  {
   "cell_type": "code",
   "execution_count": 4,
   "id": "c0279577-4fb5-4128-a3bc-0d679ac0bd98",
   "metadata": {},
   "outputs": [],
   "source": [
    "text = \"ga aht tah tah\"\n",
    "n_spaces = 0\n",
    "for character in text:\n",
    "    if character == \" \":\n",
    "        n_spaces += 1"
   ]
  },
  {
   "cell_type": "code",
   "execution_count": 5,
   "id": "8ec04591-ff26-4896-a06e-9cc7e45e3244",
   "metadata": {},
   "outputs": [],
   "source": [
    "def count_words_2(text):\n",
    "    return len(text.split())\n",
    "\n",
    "def count_words_3(text, sep=\" \"):\n",
    "    return len([char for char in text.split(sep) if char != \"\"])"
   ]
  },
  {
   "cell_type": "code",
   "execution_count": 6,
   "id": "6454a798-b1f5-4a9f-bafa-19b88c029db8",
   "metadata": {},
   "outputs": [
    {
     "data": {
      "text/plain": [
       "6"
      ]
     },
     "execution_count": 6,
     "metadata": {},
     "output_type": "execute_result"
    }
   ],
   "source": [
    "count_words_3(\" agrh athat htah at    \", sep=\"a\")"
   ]
  },
  {
   "cell_type": "markdown",
   "id": "70f5fe3e-98a8-44eb-b764-d970ad61cafd",
   "metadata": {},
   "source": [
    "3.Reverse the Words in a String\n",
    "Given a string, write a function that reverses the order of the words in it. \n",
    "Assume that words are separated by spaces, and that the string does not have leading or trailing spaces.\n",
    "\n",
    "Example input: \"The quick brown fox\"\n",
    "Example output: \"fox brown quick The\""
   ]
  },
  {
   "cell_type": "markdown",
   "id": "8a8bd04b-43f2-4037-8937-6cd46a477a7a",
   "metadata": {},
   "source": [
    "4. Using f-strings to print a multiplication table\n",
    "\n",
    "Write a program that prompts the user to enter a number and \n",
    "then prints a multiplication table for that number from 1 to 10 using f-strings. \n",
    "The output should look like this:\n",
    "\n",
    "Enter a number: 5\n",
    "5 x 1 = 5\n",
    "5 x 2 = 10\n",
    "5 x 3 = 15\n",
    "5 x 4 = 20\n",
    "5 x 5 = 25\n",
    "5 x 6 = 30\n",
    "5 x 7 = 35\n",
    "5 x 8 = 40\n",
    "5 x 9 = 45\n",
    "5 x 10 = 50"
   ]
  },
  {
   "cell_type": "markdown",
   "id": "eef603d2-0ecf-4405-8cce-56d79ddc68b9",
   "metadata": {},
   "source": [
    "5.\n",
    "The web is built with HTML strings like \"<i>Yay</i>\" which draws Yay as italic text. In this example, the \"i\" tag makes <i> and </i> which surround the word \"Yay\". Given tag and word strings, create the HTML string with tags around the word, e.g. \"<i>Yay</i>\".\n",
    "\n",
    "\n",
    "make_tags('i', 'Yay') → '<i>Yay</i>'\n",
    "make_tags('i', 'Hello') → '<i>Hello</i>'\n",
    "make_tags('cite', 'Yay') → '<cite>Yay</cite>'\n",
    "\n",
    "\n",
    "\n",
    "\n",
    "\n",
    "\n",
    "\n",
    "Lists"
   ]
  },
  {
   "cell_type": "markdown",
   "id": "92a77b5e-e93d-4f06-8d46-02b30665d228",
   "metadata": {},
   "source": [
    "6.Check if a List is Palindromic\n",
    "Given a list, write a function that checks if it is palindromic, i.e., the same forwards and backwards.\n",
    "\n",
    "Example input: [1, 2, 3, 2, 1]\n",
    "Example output: True"
   ]
  },
  {
   "cell_type": "markdown",
   "id": "ecb100cf-b507-40f5-851f-71c7f5501b4d",
   "metadata": {},
   "source": [
    "7.Given an array of ints length 3, figure out which is larger, the first or last element in the array, and set all the other elements to be that value. Return the changed array.\n",
    "\n",
    "\n",
    "max_end3([1, 2, 3]) → [3, 3, 3]\n",
    "max_end3([11, 5, 9]) → [11, 11, 11]\n",
    "max_end3([2, 11, 3]) → [3, 3, 3]"
   ]
  },
  {
   "cell_type": "markdown",
   "id": "7b045c48-6e35-4d18-b8d9-6ee35742a34d",
   "metadata": {},
   "source": [
    "8.Given an array of ints, return True if the array contains a 2 next to a 2 somewhere.\n",
    "\n",
    "\n",
    "has22([1, 2, 2]) → True\n",
    "has22([1, 2, 1, 2]) → False\n",
    "has22([2, 1, 2]) → False"
   ]
  },
  {
   "cell_type": "markdown",
   "id": "ba4bf43b-0911-4034-a9e8-178d2ed2da0b",
   "metadata": {},
   "source": [
    "9.Write a Python program to find the common keys in two dictionaries."
   ]
  },
  {
   "cell_type": "markdown",
   "id": "9fa0fbe8-787a-487a-8b28-f9d0d3ddcfbd",
   "metadata": {},
   "source": [
    "# 10. \n",
    "Write a Python program to count the frequency of each element in a list and store it in a dictionary."
   ]
  },
  {
   "cell_type": "code",
   "execution_count": 7,
   "id": "28afb3df-ece8-4b29-9787-f43e6b661201",
   "metadata": {},
   "outputs": [],
   "source": [
    "def count_item_freq(lst):\n",
    "    item_freq = {}\n",
    "    for i in lst:\n",
    "        if i in item_freq:\n",
    "            item_freq[i] += 1 \n",
    "        else:\n",
    "            item_freq[i] = 1\n",
    "    return item_freq\n",
    "\n",
    "assert count_item_freq(lst=[\"a\", \"b\", \"b\", \"a\", \"b\"]) == {\"a\": 2, \"b\": 3}"
   ]
  },
  {
   "cell_type": "code",
   "execution_count": 8,
   "id": "3f5fd4d0-e6a5-4f10-a248-68ebb81fa66e",
   "metadata": {},
   "outputs": [
    {
     "data": {
      "text/plain": [
       "defaultdict(int, {'a': 2, 'b': 3})"
      ]
     },
     "execution_count": 8,
     "metadata": {},
     "output_type": "execute_result"
    }
   ],
   "source": [
    "from collections import defaultdict\n",
    "\n",
    "def count_item_freq_2(lst):\n",
    "    item_freq = defaultdict(int)\n",
    "    for i in lst:\n",
    "        item_freq[i] += 1 \n",
    "    return item_freq\n",
    "\n",
    "count_item_freq_2([\"a\", \"b\", \"b\", \"a\", \"b\"])"
   ]
  },
  {
   "cell_type": "code",
   "execution_count": 9,
   "id": "2760c9c6-be94-46d1-bd98-c7ecf6d2d2d0",
   "metadata": {},
   "outputs": [
    {
     "data": {
      "text/plain": [
       "Counter({'a': 2, 'b': 3})"
      ]
     },
     "execution_count": 9,
     "metadata": {},
     "output_type": "execute_result"
    }
   ],
   "source": [
    "from collections import Counter\n",
    "\n",
    "def count_item_freq_3(lst):\n",
    "    return Counter(lst)\n",
    "\n",
    "count_item_freq_3([\"a\", \"b\", \"b\", \"a\", \"b\"])"
   ]
  },
  {
   "cell_type": "markdown",
   "id": "113c6286-044c-4bf3-ab88-96b6a3251766",
   "metadata": {},
   "source": [
    "### Comparing performance"
   ]
  },
  {
   "cell_type": "code",
   "execution_count": 10,
   "id": "32d892f3-ed74-4401-8b58-5bb70ce0a5e5",
   "metadata": {},
   "outputs": [
    {
     "name": "stdout",
     "output_type": "stream",
     "text": [
      "838 ns ± 56.7 ns per loop (mean ± std. dev. of 7 runs, 1,000,000 loops each)\n"
     ]
    }
   ],
   "source": [
    "%timeit count_item_freq(lst=[\"a\", \"b\", \"b\", \"a\", \"b\"])"
   ]
  },
  {
   "cell_type": "code",
   "execution_count": 11,
   "id": "42c5f76c-3632-4a0e-b88b-339a0d5d5cdd",
   "metadata": {},
   "outputs": [
    {
     "name": "stdout",
     "output_type": "stream",
     "text": [
      "1.31 µs ± 105 ns per loop (mean ± std. dev. of 7 runs, 1,000,000 loops each)\n"
     ]
    }
   ],
   "source": [
    "%timeit count_item_freq_2(lst=[\"a\", \"b\", \"b\", \"a\", \"b\"])"
   ]
  },
  {
   "cell_type": "code",
   "execution_count": 12,
   "id": "4e3f7d35-6c90-4867-8050-3c0fbbcbea9b",
   "metadata": {},
   "outputs": [
    {
     "name": "stdout",
     "output_type": "stream",
     "text": [
      "2.64 µs ± 440 ns per loop (mean ± std. dev. of 7 runs, 100,000 loops each)\n"
     ]
    }
   ],
   "source": [
    "%timeit count_item_freq_3(lst=[\"a\", \"b\", \"b\", \"a\", \"b\"])"
   ]
  },
  {
   "cell_type": "code",
   "execution_count": null,
   "id": "b17be0d6-2db3-4aa1-9f05-60f4f5ce69d4",
   "metadata": {},
   "outputs": [],
   "source": []
  }
 ],
 "metadata": {
  "kernelspec": {
   "display_name": "Python 3 (ipykernel)",
   "language": "python",
   "name": "python3"
  },
  "language_info": {
   "codemirror_mode": {
    "name": "ipython",
    "version": 3
   },
   "file_extension": ".py",
   "mimetype": "text/x-python",
   "name": "python",
   "nbconvert_exporter": "python",
   "pygments_lexer": "ipython3",
   "version": "3.9.7"
  }
 },
 "nbformat": 4,
 "nbformat_minor": 5
}
