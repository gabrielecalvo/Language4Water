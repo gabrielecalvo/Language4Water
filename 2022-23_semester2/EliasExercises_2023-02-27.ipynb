{
 "cells": [
  {
   "cell_type": "markdown",
   "id": "7777908e-4906-4c7e-9bc8-6c41545e7cc4",
   "metadata": {},
   "source": [
    "### 1. Check if a String is a Palindrome\n",
    "Given a string, write a function that returns True if it is a palindrome and False otherwise. \n",
    "A palindrome is a string that reads the same forwards and backwards.\n",
    "\n",
    "```\n",
    "Example input: \"racecar\"\n",
    "Example output: True\n",
    "\n",
    "Example input: \"hello\"\n",
    "Example output: False\n",
    "```"
   ]
  },
  {
   "cell_type": "code",
   "execution_count": null,
   "id": "3af35476-3d08-487b-9c32-50c298656d30",
   "metadata": {},
   "outputs": [],
   "source": [
    "def is_palindrome(word, verbose=False):\n",
    "    result = word.lower() == word[::-1].lower()\n",
    "    if verbose:\n",
    "        if result:\n",
    "            print(f\"{word} is a palindrome\")\n",
    "        else:\n",
    "            print(f\"{word} is not a palindrome; {word[::-1]} is the reverse\")\n",
    "    return result\n",
    "    \n",
    "assert is_palindrome(\"Racecar\") is True\n",
    "assert is_palindrome(\"Hello\", verbose=True) is False"
   ]
  },
  {
   "cell_type": "markdown",
   "id": "71fb2f29-3850-4272-8a33-8fd113cc7bc3",
   "metadata": {},
   "source": [
    "### 2. Count the Number of Words in a String\n",
    "Given a string, write a function that counts the number of words in it. \n",
    "Assume that words are separated by spaces.\n",
    "\n",
    "```\n",
    "Example input: \"Hello world\"\n",
    "Example output: 2\n",
    "```"
   ]
  },
  {
   "cell_type": "code",
   "execution_count": null,
   "id": "858ad148-8fda-4718-93fa-c48542d5f2f5",
   "metadata": {
    "tags": []
   },
   "outputs": [],
   "source": [
    "def count_words(text):\n",
    "    n_spaces = 0\n",
    "    for character in text:\n",
    "        if character == \" \":\n",
    "            n_spaces += 1\n",
    "\n",
    "    return n_spaces + 1\n",
    "    \n",
    "assert count_words(\"Hello world\") == 2, count_words(\"Hello world\")"
   ]
  },
  {
   "cell_type": "code",
   "execution_count": null,
   "id": "0e6e5303-b72c-4f77-ad56-ac8a08f516ed",
   "metadata": {},
   "outputs": [],
   "source": [
    "count_words(text = \"ga aht tah tah\")"
   ]
  },
  {
   "cell_type": "code",
   "execution_count": null,
   "id": "c0279577-4fb5-4128-a3bc-0d679ac0bd98",
   "metadata": {},
   "outputs": [],
   "source": [
    "text = \"ga aht tah tah\"\n",
    "n_spaces = 0\n",
    "for character in text:\n",
    "    if character == \" \":\n",
    "        n_spaces += 1"
   ]
  },
  {
   "cell_type": "code",
   "execution_count": null,
   "id": "8ec04591-ff26-4896-a06e-9cc7e45e3244",
   "metadata": {},
   "outputs": [],
   "source": [
    "def count_words_2(text):\n",
    "    return len(text.split())\n",
    "\n",
    "def count_words_3(text, sep=\" \"):\n",
    "    return len([char for char in text.split(sep) if char != \"\"])"
   ]
  },
  {
   "cell_type": "code",
   "execution_count": null,
   "id": "6454a798-b1f5-4a9f-bafa-19b88c029db8",
   "metadata": {},
   "outputs": [],
   "source": [
    "count_words_3(\" agrh athat htah at    \", sep=\"a\")"
   ]
  },
  {
   "cell_type": "markdown",
   "id": "70f5fe3e-98a8-44eb-b764-d970ad61cafd",
   "metadata": {},
   "source": [
    "### 3. Reverse the Words in a String\n",
    "Given a string, write a function that reverses the order of the words in it. \n",
    "Assume that words are separated by spaces, and that the string does not have leading or trailing spaces.\n",
    "\n",
    "- Example input: \"The quick brown fox\"\n",
    "- Example output: \"fox brown quick The\""
   ]
  },
  {
   "cell_type": "code",
   "execution_count": 17,
   "id": "907bbdf1-3683-4fb9-b5fa-4ff17f77959b",
   "metadata": {},
   "outputs": [],
   "source": [
    "sentence = \"The quick brown fox\"\n",
    "\n",
    "def reverse_words_in_sentence(sentence):\n",
    "    return \" \".join(reversed(sentence.split(\" \")))\n",
    "\n",
    "actual = reverse_words_in_sentence(sentence)\n",
    "expected = \"fox brown quick The\"\n",
    "assert actual == expected, f\"{actual} is not equal to {expected}\""
   ]
  },
  {
   "cell_type": "markdown",
   "id": "8a8bd04b-43f2-4037-8937-6cd46a477a7a",
   "metadata": {},
   "source": [
    "### 4. Using f-strings to print a multiplication table\n",
    "\n",
    "Write a program that prompts the user to enter a number and \n",
    "then prints a multiplication table for that number from 1 to 10 using f-strings. \n",
    "The output should look like this:\n",
    "\n",
    "```\n",
    "Enter a number: 5\n",
    "5 x 1 = 5\n",
    "5 x 2 = 10\n",
    "5 x 3 = 15\n",
    "5 x 4 = 20\n",
    "5 x 5 = 25\n",
    "5 x 6 = 30\n",
    "5 x 7 = 35\n",
    "5 x 8 = 40\n",
    "5 x 9 = 45\n",
    "5 x 10 = 50\n",
    "```"
   ]
  },
  {
   "cell_type": "code",
   "execution_count": 41,
   "id": "557c70b2-a3f3-4108-8056-46a345bfaa79",
   "metadata": {},
   "outputs": [
    {
     "name": "stdin",
     "output_type": "stream",
     "text": [
      "Enter a number:  7\n"
     ]
    },
    {
     "name": "stdout",
     "output_type": "stream",
     "text": [
      "7 x  1 =  7\n",
      "7 x  2 = 14\n",
      "7 x  3 = 21\n",
      "7 x  4 = 28\n",
      "7 x  5 = 35\n",
      "7 x  6 = 42\n",
      "7 x  7 = 49\n",
      "7 x  8 = 56\n",
      "7 x  9 = 63\n",
      "7 x 10 = 70\n"
     ]
    }
   ],
   "source": [
    "number = int(input(\"Enter a number: \"))\n",
    "\n",
    "for i in range(1, 10+1):\n",
    "    print(f\"{number} x {i:>2} = {number*i:>2}\")"
   ]
  },
  {
   "cell_type": "markdown",
   "id": "eef603d2-0ecf-4405-8cce-56d79ddc68b9",
   "metadata": {},
   "source": [
    "### 5. Web Maker\n",
    "```\n",
    "The web is built with HTML strings like \"<i>Yay</i>\" which draws Yay as italic text. \n",
    "In this example, the \"i\" tag makes <i> and </i> which surround the word \"Yay\". Given tag and word strings, create the HTML string with tags around the word, e.g. \"<i>Yay</i>\".\n",
    "\n",
    "make_tags('i', 'Yay') → '<i>Yay</i>'\n",
    "make_tags('i', 'Hello') → '<i>Hello</i>'\n",
    "make_tags('cite', 'Yay') → '<cite>Yay</cite>'\n",
    "```"
   ]
  },
  {
   "cell_type": "code",
   "execution_count": 50,
   "id": "31a06ac9-7fc9-446c-beda-34ea958a242c",
   "metadata": {},
   "outputs": [],
   "source": [
    "from IPython.core.display import HTML\n",
    "\n",
    "def make_tags(tag, content, preview=False):\n",
    "    html = f\"<{tag}>{content}</{tag}>\"\n",
    "    if preview:\n",
    "        display(HTML(html))\n",
    "    return html\n",
    "\n",
    "assert make_tags('i', 'Yay') == '<i>Yay</i>'\n",
    "assert make_tags('i', 'Hello') == '<i>Hello</i>'\n",
    "assert make_tags('cite', 'Yay') == '<cite>Yay</cite>'"
   ]
  },
  {
   "cell_type": "code",
   "execution_count": 51,
   "id": "fdfeb66e-3e20-49b3-8d8c-8116f7de7357",
   "metadata": {},
   "outputs": [
    {
     "data": {
      "text/html": [
       "<b>My Title</b>"
      ],
      "text/plain": [
       "<IPython.core.display.HTML object>"
      ]
     },
     "metadata": {},
     "output_type": "display_data"
    },
    {
     "data": {
      "text/plain": [
       "'<b>My Title</b>'"
      ]
     },
     "execution_count": 51,
     "metadata": {},
     "output_type": "execute_result"
    }
   ],
   "source": [
    "make_tags(tag=\"b\", content=\"My Title\", preview=True)"
   ]
  },
  {
   "cell_type": "markdown",
   "id": "92a77b5e-e93d-4f06-8d46-02b30665d228",
   "metadata": {},
   "source": [
    "### 6. Check if a List is Palindromic\n",
    "Given a list, write a function that checks if it is palindromic, i.e., the same forwards and backwards.\n",
    "\n",
    "Example input: [1, 2, 3, 2, 1]\n",
    "Example output: True"
   ]
  },
  {
   "cell_type": "code",
   "execution_count": 61,
   "id": "30044165-4699-4071-b00c-1bca7e309f75",
   "metadata": {},
   "outputs": [],
   "source": [
    "def is_palindromic(x):\n",
    "    return list(reversed(x)) == x\n",
    "\n",
    "assert is_palindromic([1,2,3,2,1]) is True\n",
    "assert is_palindromic([1,4,3,2,1]) is False"
   ]
  },
  {
   "cell_type": "markdown",
   "id": "ecb100cf-b507-40f5-851f-71c7f5501b4d",
   "metadata": {},
   "source": [
    "### 7. Max Edge Setter\n",
    "Given an array of ints length 3, figure out which is larger, the first or last element in the array, and set all the other elements to be that value. Return the changed array.\n",
    "\n",
    "```\n",
    "max_end3([1, 2, 3]) → [3, 3, 3]\n",
    "max_end3([11, 5, 9]) → [11, 11, 11]\n",
    "max_end3([2, 11, 3]) → [3, 3, 3]\n",
    "```"
   ]
  },
  {
   "cell_type": "code",
   "execution_count": 77,
   "id": "3eb08d1e-6b47-440c-929d-e2947373bb15",
   "metadata": {},
   "outputs": [],
   "source": [
    "def max_end3(x):\n",
    "    max_value = max(x[0], x[-1])\n",
    "    return [max_value]*3\n",
    "\n",
    "assert max_end3([1, 2, 3]) == [3, 3, 3]\n",
    "assert max_end3([11, 5, 9]) == [11, 11, 11]\n",
    "assert max_end3([2, 11, 3]) == [3, 3, 3]"
   ]
  },
  {
   "cell_type": "markdown",
   "id": "7b045c48-6e35-4d18-b8d9-6ee35742a34d",
   "metadata": {},
   "source": [
    "### 8. Double Two Finder\n",
    "Given an array of ints, return True if the array contains a 2 next to a 2 somewhere.\n",
    "\n",
    "```\n",
    "has22([1, 2, 2]) → True\n",
    "has22([1, 2, 1, 2]) → False\n",
    "has22([2, 1, 2]) → False\n",
    "```"
   ]
  },
  {
   "cell_type": "code",
   "execution_count": 82,
   "id": "ef977f7e-fca3-47ab-b30f-96ab1898c7fc",
   "metadata": {},
   "outputs": [],
   "source": [
    "x = [11, 8, 99, 42, 2, 2, 7]\n",
    "\n",
    "for i in x:\n",
    "    if i == 2 and "
   ]
  },
  {
   "cell_type": "code",
   "execution_count": 90,
   "id": "d3e0f03c-b4f6-4a20-80bd-7ce83f5a71f5",
   "metadata": {},
   "outputs": [
    {
     "data": {
      "text/plain": [
       "False"
      ]
     },
     "execution_count": 90,
     "metadata": {},
     "output_type": "execute_result"
    }
   ],
   "source": [
    "def has22(x):\n",
    "    for pos, i in enumerate(x):\n",
    "        if pos == len(x)-1:\n",
    "            return False\n",
    "        if i == 2 and x[pos+1] == 2:\n",
    "            return True\n",
    "    return False\n",
    "\n",
    "has22([11, 8, 99, 42, 2])"
   ]
  },
  {
   "cell_type": "code",
   "execution_count": 103,
   "id": "cbdc03c6-765e-4fed-81ca-b1aa6fa09a4d",
   "metadata": {},
   "outputs": [
    {
     "name": "stdout",
     "output_type": "stream",
     "text": [
      "yep\n"
     ]
    }
   ],
   "source": [
    "x = {\"a\" :\"agrgh\"}\n",
    "\n",
    "if x:\n",
    "    print(\"yep\")\n",
    "else:\n",
    "    print(\"nope\")"
   ]
  },
  {
   "cell_type": "code",
   "execution_count": 106,
   "id": "a7ddba7d-db5c-4b5f-8d48-d47a7a4ef825",
   "metadata": {},
   "outputs": [],
   "source": [
    "def has22(x):\n",
    "    flag = False\n",
    "    for val in x:\n",
    "        is_val_two = val == 2\n",
    "        if is_val_two and flag:\n",
    "            return True\n",
    "        flag = is_val_two\n",
    "    return False"
   ]
  },
  {
   "cell_type": "code",
   "execution_count": 107,
   "id": "19d0193d-4380-4726-bacd-81be2ceac3be",
   "metadata": {},
   "outputs": [],
   "source": [
    "assert has22([1, 2, 2]) is True\n",
    "assert has22([1, 2, 1, 2]) is False\n",
    "assert has22([2, 1, 2]) is False"
   ]
  },
  {
   "cell_type": "markdown",
   "id": "ba4bf43b-0911-4034-a9e8-178d2ed2da0b",
   "metadata": {},
   "source": [
    "### 9. Write a Python program to find the common keys in two dictionaries."
   ]
  },
  {
   "cell_type": "code",
   "execution_count": 114,
   "id": "7c38b1eb-c603-4ab3-98e8-a36932afab49",
   "metadata": {},
   "outputs": [],
   "source": [
    "d1 = {\"a\": \"aaa\", \"b\": \"bbbb\", \"w\": \"hths\"}\n",
    "d2 = {\"c\": \"ccc\", \"b\": \"hths\", \"w\": \"hths\"}"
   ]
  },
  {
   "cell_type": "code",
   "execution_count": 118,
   "id": "77a33f1b-eab4-4eb5-a403-a076fb92d093",
   "metadata": {},
   "outputs": [
    {
     "data": {
      "text/plain": [
       "{1, 2, 5, 6, 7, 8}"
      ]
     },
     "execution_count": 118,
     "metadata": {},
     "output_type": "execute_result"
    }
   ],
   "source": [
    "set([1,2,5,6,7,8,5])"
   ]
  },
  {
   "cell_type": "code",
   "execution_count": 124,
   "id": "7245fb1b-8159-4272-876a-c3b1426fe656",
   "metadata": {},
   "outputs": [],
   "source": [
    "s1 = set(d1.keys())\n",
    "s2 = set(d2.keys())"
   ]
  },
  {
   "cell_type": "code",
   "execution_count": 126,
   "id": "457da738-db12-4dc8-8c32-b36fb511eff7",
   "metadata": {},
   "outputs": [
    {
     "data": {
      "text/plain": [
       "{'b', 'w'}"
      ]
     },
     "execution_count": 126,
     "metadata": {},
     "output_type": "execute_result"
    }
   ],
   "source": [
    "s1.intersection(s2)"
   ]
  },
  {
   "cell_type": "code",
   "execution_count": 139,
   "id": "693e8137-8080-4830-b77d-66c52eae0cf0",
   "metadata": {},
   "outputs": [
    {
     "data": {
      "text/plain": [
       "['b', 'w']"
      ]
     },
     "execution_count": 139,
     "metadata": {},
     "output_type": "execute_result"
    }
   ],
   "source": [
    "common_keys = []\n",
    "\n",
    "all_keys = set(list(d1.keys()) + list(d2.keys()))\n",
    "for k in all_keys:\n",
    "    if k in d1.keys() and k in d2.keys():\n",
    "        common_keys.append(k)\n",
    "\n",
    "common_keys"
   ]
  },
  {
   "cell_type": "markdown",
   "id": "9fa0fbe8-787a-487a-8b28-f9d0d3ddcfbd",
   "metadata": {},
   "source": [
    "### 10. \n",
    "Write a Python program to count the frequency of each element in a list and store it in a dictionary."
   ]
  },
  {
   "cell_type": "code",
   "execution_count": null,
   "id": "28afb3df-ece8-4b29-9787-f43e6b661201",
   "metadata": {},
   "outputs": [],
   "source": [
    "def count_item_freq(lst):\n",
    "    item_freq = {}\n",
    "    for i in lst:\n",
    "        if i in item_freq:\n",
    "            item_freq[i] += 1 \n",
    "        else:\n",
    "            item_freq[i] = 1\n",
    "    return item_freq\n",
    "\n",
    "assert count_item_freq(lst=[\"a\", \"b\", \"b\", \"a\", \"b\"]) == {\"a\": 2, \"b\": 3}"
   ]
  },
  {
   "cell_type": "code",
   "execution_count": null,
   "id": "3f5fd4d0-e6a5-4f10-a248-68ebb81fa66e",
   "metadata": {},
   "outputs": [],
   "source": [
    "from collections import defaultdict\n",
    "\n",
    "def count_item_freq_2(lst):\n",
    "    item_freq = defaultdict(int)\n",
    "    for i in lst:\n",
    "        item_freq[i] += 1 \n",
    "    return item_freq\n",
    "\n",
    "count_item_freq_2([\"a\", \"b\", \"b\", \"a\", \"b\"])"
   ]
  },
  {
   "cell_type": "code",
   "execution_count": null,
   "id": "2760c9c6-be94-46d1-bd98-c7ecf6d2d2d0",
   "metadata": {},
   "outputs": [],
   "source": [
    "from collections import Counter\n",
    "\n",
    "def count_item_freq_3(lst):\n",
    "    return Counter(lst)\n",
    "\n",
    "count_item_freq_3([\"a\", \"b\", \"b\", \"a\", \"b\"])"
   ]
  },
  {
   "cell_type": "markdown",
   "id": "113c6286-044c-4bf3-ab88-96b6a3251766",
   "metadata": {},
   "source": [
    "### Comparing performance"
   ]
  },
  {
   "cell_type": "code",
   "execution_count": null,
   "id": "32d892f3-ed74-4401-8b58-5bb70ce0a5e5",
   "metadata": {},
   "outputs": [],
   "source": [
    "%timeit count_item_freq(lst=[\"a\", \"b\", \"b\", \"a\", \"b\"])"
   ]
  },
  {
   "cell_type": "code",
   "execution_count": null,
   "id": "42c5f76c-3632-4a0e-b88b-339a0d5d5cdd",
   "metadata": {},
   "outputs": [],
   "source": [
    "%timeit count_item_freq_2(lst=[\"a\", \"b\", \"b\", \"a\", \"b\"])"
   ]
  },
  {
   "cell_type": "code",
   "execution_count": null,
   "id": "4e3f7d35-6c90-4867-8050-3c0fbbcbea9b",
   "metadata": {},
   "outputs": [],
   "source": [
    "%timeit count_item_freq_3(lst=[\"a\", \"b\", \"b\", \"a\", \"b\"])"
   ]
  },
  {
   "cell_type": "code",
   "execution_count": null,
   "id": "b17be0d6-2db3-4aa1-9f05-60f4f5ce69d4",
   "metadata": {},
   "outputs": [],
   "source": []
  }
 ],
 "metadata": {
  "kernelspec": {
   "display_name": "Python 3 (ipykernel)",
   "language": "python",
   "name": "python3"
  },
  "language_info": {
   "codemirror_mode": {
    "name": "ipython",
    "version": 3
   },
   "file_extension": ".py",
   "mimetype": "text/x-python",
   "name": "python",
   "nbconvert_exporter": "python",
   "pygments_lexer": "ipython3",
   "version": "3.9.7"
  }
 },
 "nbformat": 4,
 "nbformat_minor": 5
}
