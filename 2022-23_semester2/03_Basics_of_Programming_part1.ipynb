{
 "cells": [
  {
   "cell_type": "markdown",
   "metadata": {
    "id": "6Us4z0N4cBUa",
    "jp-MarkdownHeadingCollapsed": true,
    "tags": []
   },
   "source": [
    "# Programming \n",
    "A program is just a **series of steps** (instructions)\n",
    "  - some optional (conditional)\n",
    "  - some to be repeated (loops)\n",
    "  - we can store sets of steps to be used in multiple places (functions, classes)\n",
    "\n",
    "But at the bottom of it all, is just one step at a time.\n",
    "\n",
    "In order to be able to write steps, we need to understand the **basics building block** of Python and it's **syntax** (how to write steps)."
   ]
  },
  {
   "cell_type": "markdown",
   "metadata": {
    "id": "FSqtfTjce0l8"
   },
   "source": [
    "# Basics"
   ]
  },
  {
   "cell_type": "markdown",
   "metadata": {
    "id": "6P_uvxL8hltW"
   },
   "source": [
    "The hash symbol **#** denotes the start of a comment, which will be ignored when running a python program\n",
    "\n",
    "The ***print*** function will show the argument (in this case 99) to the output area (console) below"
   ]
  },
  {
   "cell_type": "code",
   "execution_count": null,
   "metadata": {},
   "outputs": [],
   "source": [
    "# this is a comment (will be ignored by python)\n",
    "\n",
    "print(99+1)  # .. red balloonsns"
   ]
  },
  {
   "cell_type": "code",
   "execution_count": null,
   "metadata": {},
   "outputs": [],
   "source": [
    "# basic arithmetics\n",
    "\n",
    "print(88+11)\n",
    "print(11*9)\n",
    "print(693/7)      # division returns a decimal value (float, we'll see soon)\n",
    "print(10**2 - 1)  # weirdly power (e.g. 10 to the second power) mast be written as 10**2"
   ]
  },
  {
   "cell_type": "markdown",
   "metadata": {
    "id": "saCxTSCWhzjy"
   },
   "source": [
    "**Note**: by default, the last step in a cell will be \"printed\" to the console, this is just for convenience and more rapid development."
   ]
  },
  {
   "cell_type": "markdown",
   "metadata": {
    "id": "Bji84hZuhL5E"
   },
   "source": [
    "## variables\n",
    "it is often useful holding values into variables"
   ]
  },
  {
   "cell_type": "code",
   "execution_count": null,
   "metadata": {},
   "outputs": [],
   "source": [
    "balloons = 11*9\n",
    "\n",
    "balloons  # as this is the last line we can avoid using `print(balloons)`"
   ]
  },
  {
   "cell_type": "markdown",
   "metadata": {},
   "source": [
    "variable names **MUST**:\n",
    "- start with `a letter` or an underscore `_`\n",
    "- contain `letters`, `numbers` or an underscores `_` only"
   ]
  },
  {
   "cell_type": "code",
   "execution_count": null,
   "metadata": {
    "id": "RoukoKhqkQR4"
   },
   "outputs": [],
   "source": [
    "my_var = 1           # ok\n",
    "my_num3r1c_v4r = 2   # ok\n",
    "_other_var = 3       # ok\n",
    "# not-valid = 4        # nope (SyntaxError) \n",
    "\n",
    "# \"ctrl+ /\" is to quickly comment and un-comment a line"
   ]
  },
  {
   "cell_type": "markdown",
   "metadata": {
    "id": "5NbpiJHHgksf"
   },
   "source": [
    "## reserved keywords\n",
    "\n",
    "Python has a number of words that are *reserved* for specific actions.\n",
    "\n",
    "One example which we have already seen is `print`, some other are:\n",
    "\n",
    "```\n",
    "and       input     from      None      True\n",
    "as        elif      global    next      try\n",
    "assert    else      if        not       while\n",
    "break     except    import    or        with\n",
    "class     False     in        pass      yield\n",
    "continue  finally   is        raise     async\n",
    "def       for       lambda    return    await\n",
    "```\n",
    "\n",
    "While it is possible to overwrite them, it is generally better to stay away from using \n",
    "them as variables (or at least add a trailing \"_\" to avoid overwriting).\n",
    "\n",
    "Most code editors will highlight these words when you write them so to hint that they mean something special to python.\n",
    "\n",
    "You don't need to remember them by heart, we'll learn the most important one at a time."
   ]
  },
  {
   "cell_type": "markdown",
   "metadata": {
    "id": "nfUf-T_mdy52"
   },
   "source": [
    "# Basic Types\n",
    "integer numbers are not the only types available"
   ]
  },
  {
   "cell_type": "code",
   "execution_count": null,
   "metadata": {
    "id": "R2tN4Qlnw6y6",
    "lines_to_next_cell": 2
   },
   "outputs": [],
   "source": [
    "a = 7          # integer\n",
    "b = 3.14       # float\n",
    "c = 'ciao'     # string (a.k.a. text)\n",
    "d = \"ciao\"     # also string\n",
    "e = True       # boolean (either True or False)"
   ]
  },
  {
   "cell_type": "markdown",
   "metadata": {
    "id": "TGA2_bLWjfEr"
   },
   "source": [
    "**Note**: nothing was printed after running the cell above. That's because the last step was assigning a value (True) to a variable (e). Assignments do not return anything"
   ]
  },
  {
   "cell_type": "markdown",
   "metadata": {
    "id": "wqGW41PPnlW0"
   },
   "source": [
    "# \\~\\~\\~ Question Break!! \\~\\~\\~\n",
    "![question_break](https://raw.githubusercontent.com/gabrielecalvo/Language4Water/master/assets/xx_question_break.jpg)"
   ]
  },
  {
   "cell_type": "markdown",
   "metadata": {
    "id": "V8USgPE_n5kh"
   },
   "source": [
    "# Fun with... numbers"
   ]
  },
  {
   "cell_type": "code",
   "execution_count": null,
   "metadata": {},
   "outputs": [],
   "source": [
    "print(7 // 3)   # floor division \n",
    "print(7 % 3)    # remainder (modulo)"
   ]
  },
  {
   "cell_type": "code",
   "execution_count": null,
   "metadata": {},
   "outputs": [],
   "source": [
    "print(\"7 > 3  is  \", 7 > 3)               # greater than\n",
    "print(\"7 < 3  is  \", 7 < 3)               # lower than\n",
    "print(\"7 >= 3  is  \", 7 >= 3)             # greater than or equal\n",
    "print(\"7 <= 3  is  \", 7 <= 3)             # lower than or equal\n",
    "print(\"7 != 3  is  \", 7 != 3)             # different\n",
    "print(\"7 == 7.00  is  \", 7 == 7.000000)   # equal (comparison)"
   ]
  },
  {
   "cell_type": "markdown",
   "metadata": {
    "id": "dWmw6FeVpNBy"
   },
   "source": [
    "**NOTE** do not confuse:\n",
    "- the *comparison operator* `==`, will return a boolean\n",
    "- the *assignment operator* `=`, will assign a value to a variable (and return nothing)"
   ]
  },
  {
   "cell_type": "code",
   "execution_count": null,
   "metadata": {},
   "outputs": [],
   "source": []
  }
 ],
 "metadata": {
  "kernelspec": {
   "display_name": "Python 3 (ipykernel)",
   "language": "python",
   "name": "python3"
  },
  "language_info": {
   "codemirror_mode": {
    "name": "ipython",
    "version": 3
   },
   "file_extension": ".py",
   "mimetype": "text/x-python",
   "name": "python",
   "nbconvert_exporter": "python",
   "pygments_lexer": "ipython3",
   "version": "3.9.7"
  }
 },
 "nbformat": 4,
 "nbformat_minor": 4
}
