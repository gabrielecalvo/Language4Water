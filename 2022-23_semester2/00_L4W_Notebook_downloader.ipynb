{
 "cells": [
  {
   "cell_type": "code",
   "execution_count": 1,
   "id": "d3c83957-5549-45ec-a8e2-7af3dd66778c",
   "metadata": {},
   "outputs": [],
   "source": [
    "from pathlib import Path\n",
    "\n",
    "SOURCE_GITHUB_REPO_FOLDER = \"https://github.com/gabrielecalvo/Language4Water/tree/master/2022-23_semester2\"\n",
    "DESTINATION_FOLDER = Path(\"original\")"
   ]
  },
  {
   "cell_type": "code",
   "execution_count": 2,
   "id": "cfe5fd7a-6804-4985-9a4e-f3ecabb32c7b",
   "metadata": {
    "jupyter": {
     "source_hidden": true
    },
    "tags": []
   },
   "outputs": [],
   "source": [
    "# AUXILIARY\n",
    "import re\n",
    "from urllib.request import urlopen, urlretrieve\n",
    "from html.parser import HTMLParser\n",
    "\n",
    "class MyGithubRepoPageParser(HTMLParser):\n",
    "    _tag = \"a\"\n",
    "    _class = \"js-navigation-open Link--primary\"\n",
    "    found = []\n",
    "\n",
    "    def handle_starttag(self, tag: str, attrs: list[tuple]):\n",
    "        if tag == self._tag:\n",
    "            _attribute_dict = dict(attrs)\n",
    "            if _attribute_dict.get('class') == self._class:\n",
    "                self.found.append(_attribute_dict['href'])\n",
    "\n",
    "def _build_dowload_url(github_fld: str):\n",
    "    match = re.search(r\"/(\\w+)/(\\w+)/blob/(.*)\", github_fld)\n",
    "    user, repo_name, subdir = match.groups()\n",
    "    download_url = f\"https://raw.githubusercontent.com/{user}/{repo_name}/{subdir}\"\n",
    "    return download_url\n",
    "\n",
    "def _retrive_and_save_file_to_fld(url: str, dst_fld: Path):\n",
    "    fname = Path(url).name\n",
    "    urlretrieve(url, dst_fld / fname)\n",
    "\n",
    "def download_all_repo_fld(src_github_fld: str, dst_local_fld: Path, extensions=(\".ipynb\",)) -> None:\n",
    "    with urlopen(src_github_fld) as response:\n",
    "        body = response.read().decode()\n",
    "        \n",
    "    parser = MyGithubRepoPageParser()\n",
    "    parser.feed(body)\n",
    "    download_urls = [_build_dowload_url(i) for i in parser.found if i.endswith(extensions)]\n",
    "    \n",
    "    dst_local_fld.mkdir(exist_ok=True)\n",
    "    for url in download_urls:\n",
    "        _retrive_and_save_file_to_fld(url, dst_fld=dst_local_fld)"
   ]
  },
  {
   "cell_type": "code",
   "execution_count": 3,
   "id": "66be7861-b4d4-4774-be70-0beb74a40ba2",
   "metadata": {
    "tags": []
   },
   "outputs": [],
   "source": [
    "download_all_repo_fld(\n",
    "    src_github_fld=SOURCE_GITHUB_REPO_FOLDER, \n",
    "    dst_local_fld=DESTINATION_FOLDER,\n",
    ")"
   ]
  },
  {
   "cell_type": "code",
   "execution_count": null,
   "id": "f03e958b-abbc-4555-b738-7b4260fb5fc3",
   "metadata": {},
   "outputs": [],
   "source": []
  }
 ],
 "metadata": {
  "kernelspec": {
   "display_name": "Python 3 (ipykernel)",
   "language": "python",
   "name": "python3"
  },
  "language_info": {
   "codemirror_mode": {
    "name": "ipython",
    "version": 3
   },
   "file_extension": ".py",
   "mimetype": "text/x-python",
   "name": "python",
   "nbconvert_exporter": "python",
   "pygments_lexer": "ipython3",
   "version": "3.9.7"
  }
 },
 "nbformat": 4,
 "nbformat_minor": 5
}
