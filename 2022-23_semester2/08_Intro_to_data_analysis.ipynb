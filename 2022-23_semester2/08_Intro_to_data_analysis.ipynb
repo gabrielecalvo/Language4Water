{
 "cells": [
  {
   "cell_type": "markdown",
   "id": "ordinary-prescription",
   "metadata": {},
   "source": [
    "# In the previous episode...\n",
    "\n",
    "### learned to read and write files\n",
    "```python\n",
    "with open(\"old_shiny_file.txt\", \"r\") as fh:\n",
    "    content = fh.read()\n",
    "    \n",
    "with open(\"new_shiny_file.txt\", \"w\") as fh:\n",
    "    fh.write(\"hey, this is cool!!\\n\" * 20)\n",
    "```\n",
    "\n",
    "and implemented an \"Ishmael\" counter\n",
    "\n",
    "# .. and now"
   ]
  },
  {
   "cell_type": "markdown",
   "id": "enclosed-region",
   "metadata": {},
   "source": [
    "# Introduction to Data Analysis\n",
    "We'll download a dataset ([original source](https://www.kaggle.com/unsdsn/world-happiness)) and visualise it."
   ]
  },
  {
   "cell_type": "code",
   "execution_count": null,
   "id": "becoming-charlotte",
   "metadata": {},
   "outputs": [],
   "source": [
    "# Don't worry about the code in this cell for now, we'll get to this stuff a future lesson\n",
    "import urllib.request   \n",
    "import zipfile\n",
    "import os\n",
    "\n",
    "urllib.request.urlretrieve(\"https://raw.githubusercontent.com/gabrielecalvo/Language4Water/master/assets/HappinessReport.zip\", 'HappinessReport.zip')\n",
    "print(\"downloaded\")\n",
    "\n",
    "with zipfile.ZipFile('HappinessReport.zip', 'r') as zip_ref:\n",
    "    zip_ref.extractall(\"HappinessReport\")\n",
    "print(\"unzipped\")\n",
    "    \n",
    "os.remove(\"HappinessReport.zip\") \n",
    "print(\"removed zipped file\")"
   ]
  },
  {
   "cell_type": "markdown",
   "id": "previous-scout",
   "metadata": {},
   "source": [
    "## loading data from a single csv\n",
    "pandas needs to be installed: `pip install pandas`"
   ]
  },
  {
   "cell_type": "code",
   "execution_count": null,
   "id": "1c2acd6a-90cb-4fd6-953b-40d1c00a3f03",
   "metadata": {
    "tags": []
   },
   "outputs": [],
   "source": [
    "# !pip install pandas"
   ]
  },
  {
   "cell_type": "code",
   "execution_count": null,
   "id": "olive-music",
   "metadata": {},
   "outputs": [],
   "source": [
    "import pandas as pd\n",
    "\n",
    "df = pd.read_csv(r\"HappinessReport\\2015.csv\", index_col=0)\n",
    "\n",
    "df"
   ]
  },
  {
   "cell_type": "code",
   "execution_count": null,
   "id": "401aa6c0-0418-49d4-b367-a70a559ca041",
   "metadata": {},
   "outputs": [],
   "source": [
    "df"
   ]
  },
  {
   "cell_type": "markdown",
   "id": "provincial-earth",
   "metadata": {},
   "source": [
    "### selecting"
   ]
  },
  {
   "cell_type": "code",
   "execution_count": null,
   "id": "moving-wallpaper",
   "metadata": {},
   "outputs": [],
   "source": [
    "# selecting by row\n",
    "df.loc['Switzerland']  # by label\n",
    "df.iloc[0]             # by position"
   ]
  },
  {
   "cell_type": "code",
   "execution_count": null,
   "id": "ideal-register",
   "metadata": {
    "tags": []
   },
   "outputs": [],
   "source": [
    "# select by column(s)\n",
    "df['Region']              # returns a single column (Series)\n",
    "df.loc[:, 'Region']       # equivalent longer form\n",
    "\n",
    "df[['Region']]            # returns a table (DataFrame) with one column \n",
    "df[['Region', 'Family']]  # returns a table (DataFrame) with 2 columns"
   ]
  },
  {
   "cell_type": "code",
   "execution_count": null,
   "id": "cardiac-choice",
   "metadata": {},
   "outputs": [],
   "source": [
    "# select by both row and column\n",
    "df.loc[['Switzerland', \"France\"], ['Region', 'Family']] "
   ]
  },
  {
   "cell_type": "code",
   "execution_count": null,
   "id": "71d9abf3-5d69-4d9b-ad07-57edbdbcada6",
   "metadata": {},
   "outputs": [],
   "source": [
    "mask = df['Happiness Rank'] <= 2\n",
    "df[mask]"
   ]
  },
  {
   "cell_type": "code",
   "execution_count": null,
   "id": "communist-nicholas",
   "metadata": {},
   "outputs": [],
   "source": [
    "# select by condition\n",
    "# to combine, use `&` (and), `|` (or), `~` (not)\n",
    "\n",
    "mask = (df['Generosity'] < 0.2) | (df['Family'] > 1)\n",
    "\n",
    "df[mask]"
   ]
  },
  {
   "cell_type": "markdown",
   "id": "altered-electric",
   "metadata": {},
   "source": [
    "### sorting"
   ]
  },
  {
   "cell_type": "code",
   "execution_count": null,
   "id": "36109569-f55f-488f-aa5e-8699b0ca4c96",
   "metadata": {
    "tags": []
   },
   "outputs": [],
   "source": [
    "df.sort_index()"
   ]
  },
  {
   "cell_type": "code",
   "execution_count": null,
   "id": "banner-cheat",
   "metadata": {},
   "outputs": [],
   "source": [
    "df.sort_index()                             # sort by index (Country)\n",
    "df.sort_values('Freedom')                   # sort by specific column\n",
    "df.sort_values('Freedom', ascending=False)  # sort by specific column but in reverse order"
   ]
  },
  {
   "cell_type": "code",
   "execution_count": null,
   "id": "87c932d7-acda-4d84-a994-0051c7415984",
   "metadata": {},
   "outputs": [],
   "source": [
    "len(df)"
   ]
  },
  {
   "cell_type": "code",
   "execution_count": null,
   "id": "92b23a36-b374-4548-be45-998ce359404d",
   "metadata": {},
   "outputs": [],
   "source": [
    "def counting(df):\n",
    "    return df.shape[0]\n",
    "\n",
    "df.groupby(\"Region\").apply(counting)"
   ]
  },
  {
   "cell_type": "code",
   "execution_count": null,
   "id": "55668120-519a-4e21-8c89-b03cf90037a3",
   "metadata": {},
   "outputs": [],
   "source": [
    "df[\"Region\"].value_counts()"
   ]
  },
  {
   "cell_type": "code",
   "execution_count": null,
   "id": "forty-links",
   "metadata": {},
   "outputs": [],
   "source": [
    "# group by\n",
    "for region, sub_df in df.groupby(\"Region\"):\n",
    "    break\n",
    "\n",
    "print(region)\n",
    "display(sub_df)\n",
    "\n",
    "#[\"Happiness Score\"].mean().sort_index()"
   ]
  },
  {
   "cell_type": "code",
   "execution_count": null,
   "id": "cb6346e8-7c2e-42fb-b6e0-7ac1d2904f2c",
   "metadata": {},
   "outputs": [],
   "source": [
    "for region, sub_df in df.groupby(\"Region\")[\"Happiness Score\"]:\n",
    "    break\n",
    "    \n",
    "print(region)\n",
    "display(sub_df)"
   ]
  },
  {
   "cell_type": "code",
   "execution_count": null,
   "id": "56aea529-8eaa-4576-a233-d6112f33e668",
   "metadata": {
    "tags": []
   },
   "outputs": [],
   "source": [
    "# !pip install matplotlib "
   ]
  },
  {
   "cell_type": "code",
   "execution_count": null,
   "id": "4640b0a0-1f33-44e9-94e5-c108dab8c4c1",
   "metadata": {
    "tags": []
   },
   "outputs": [],
   "source": [
    "df[\"high_generosity\"] = df[\"Generosity\"] >= 0.3"
   ]
  },
  {
   "cell_type": "code",
   "execution_count": null,
   "id": "758c129f-6480-4923-9dc7-b4c2ba764c90",
   "metadata": {
    "tags": []
   },
   "outputs": [],
   "source": [
    "df.groupby(\"high_generosity\")[\"Happiness Score\"].mean()"
   ]
  },
  {
   "cell_type": "code",
   "execution_count": null,
   "id": "be56717e-8672-4e1a-8914-6170cae5a4a2",
   "metadata": {
    "tags": []
   },
   "outputs": [],
   "source": [
    "high_generosity = df[\"Generosity\"] >= 0.3\n",
    "\n",
    "df.groupby(high_generosity)[\"Happiness Score\"].mean()"
   ]
  },
  {
   "cell_type": "code",
   "execution_count": null,
   "id": "4c650277-ea0b-4f9d-9b69-e5b882d84f4b",
   "metadata": {
    "tags": []
   },
   "outputs": [],
   "source": [
    "(\n",
    "    df.groupby(\"Region\")\n",
    "    [\"Happiness Score\"]\n",
    "    .mean()\n",
    "    .sort_values(ascending=False)\n",
    "    .plot.bar()\n",
    ")"
   ]
  },
  {
   "cell_type": "markdown",
   "id": "fuzzy-combine",
   "metadata": {},
   "source": [
    "# Plotting\n",
    "Below are just some examples.\n",
    "If interested, I suggest you look at the well written official documentation: https://pandas.pydata.org/docs/user_guide/visualization.html"
   ]
  },
  {
   "cell_type": "markdown",
   "id": "chubby-rebound",
   "metadata": {},
   "source": [
    "pandas Series (individual column objects) and pandas Dataframes (data tables) had `.plot` method that allows quick and efficient plotting of data.\n",
    "By default, calling `.plot()` is going to call `.plot.line()`, but there are [many other types of plots](https://pandas.pydata.org/docs/user_guide/visualization.html) supported."
   ]
  },
  {
   "cell_type": "code",
   "execution_count": null,
   "id": "primary-equilibrium",
   "metadata": {},
   "outputs": [],
   "source": [
    "pd.Series({\n",
    "    \"hi\": 5,\n",
    "    \"how\": 12,\n",
    "    \"are\": 0,\n",
    "    \"you\": 10\n",
    "}).plot.bar(grid=True)  # same as `.plot.line()`"
   ]
  },
  {
   "cell_type": "markdown",
   "id": "understanding-packing",
   "metadata": {},
   "source": [
    "## plotting relationships"
   ]
  },
  {
   "cell_type": "code",
   "execution_count": null,
   "id": "imported-brick",
   "metadata": {},
   "outputs": [],
   "source": [
    "df.plot.scatter(                     # creating a scatterplot of\n",
    "    x='Economy (GDP per Capita)',    # using \"GDP/capita\" on the horizontal axis\n",
    "    y='Generosity',                  # using \"Generosity\" on the vertical axis \n",
    ")"
   ]
  },
  {
   "cell_type": "code",
   "execution_count": null,
   "id": "27693d65-6c8c-429b-b143-bb4af148ce1b",
   "metadata": {},
   "outputs": [],
   "source": [
    "df.columns"
   ]
  },
  {
   "cell_type": "code",
   "execution_count": null,
   "id": "dated-pierre",
   "metadata": {},
   "outputs": [],
   "source": [
    "import matplotlib.pyplot as plt\n",
    "fig, ax = plt.subplots()\n",
    "\n",
    "df.plot.scatter(                     # creating a scatterplot of\n",
    "    x='Family',    # using \"GDP/capita\" on the horizontal axis\n",
    "    y='Health (Life Expectancy)',                  # using \"Generosity\" on the vertical axis \n",
    "    c='Generosity',    # color it by \"Health (Life Expectancy)\"\n",
    "    cmap='rainbow',                  # using a rainbow color spectrum\n",
    "    grid=True,                       # plotting the grid underneath\n",
    "    ax=ax,                           # use the previously defined axis (otherwise the x-axis label will not show, known bug)\n",
    ")"
   ]
  },
  {
   "cell_type": "markdown",
   "id": "military-location",
   "metadata": {},
   "source": [
    "### Group Bar Plot"
   ]
  },
  {
   "cell_type": "code",
   "execution_count": null,
   "id": "personal-quarterly",
   "metadata": {},
   "outputs": [],
   "source": [
    "# grouping by region, taking the average ...\n",
    "regional_means = df.groupby(\"Region\").mean()\n",
    "\n",
    "# ... and plotting the Happiness Score as a bar plot\n",
    "ax = regional_means['Happiness Score'].plot.bar()"
   ]
  },
  {
   "cell_type": "markdown",
   "id": "victorian-manufacturer",
   "metadata": {},
   "source": [
    "### saving the figure to file"
   ]
  },
  {
   "cell_type": "code",
   "execution_count": null,
   "id": "artistic-james",
   "metadata": {},
   "outputs": [],
   "source": [
    "ax.figure.savefig('myplot.jpeg', bbox_inches=\"tight\") # saving the file... without cutting out the lables"
   ]
  },
  {
   "cell_type": "markdown",
   "id": "unnecessary-bishop",
   "metadata": {},
   "source": [
    "# For more..\n",
    "If you find data analysis with pandas interesting and/or useful, I created an open tutorial with exercises along the way that you might find useful:\n",
    "[https://github.com/gabrielecalvo/pandas_tutorial](https://github.com/gabrielecalvo/pandas_tutorial#pandas-tutorial)"
   ]
  },
  {
   "cell_type": "markdown",
   "id": "moderate-harrison",
   "metadata": {},
   "source": [
    "# Exercise\n",
    "Load data from each year and plot the evolution of the `Happiness Score` of your favourite country over the years"
   ]
  },
  {
   "cell_type": "code",
   "execution_count": 4,
   "id": "88c7515c-fa1e-4eb3-8d6d-7876e110d76b",
   "metadata": {},
   "outputs": [],
   "source": [
    "import pandas as pd"
   ]
  },
  {
   "cell_type": "code",
   "execution_count": 5,
   "id": "5366468b-b568-476f-ba63-b379d57e09ca",
   "metadata": {},
   "outputs": [],
   "source": [
    "df_2015 = pd.read_csv(\"HappinessReport/2015.csv\")\n",
    "df_2016 = pd.read_csv(\"HappinessReport/2016.csv\")\n",
    "df_2017 = pd.read_csv(\"HappinessReport/2017.csv\")\n",
    "df_2018 = pd.read_csv(\"HappinessReport/2018.csv\")\n",
    "df_2019 = pd.read_csv(\"HappinessReport/2019.csv\")"
   ]
  },
  {
   "cell_type": "code",
   "execution_count": 6,
   "id": "29243bab-1572-4ff6-b5b5-430e0e31ec7e",
   "metadata": {
    "tags": []
   },
   "outputs": [
    {
     "data": {
      "text/html": [
       "<div>\n",
       "<style scoped>\n",
       "    .dataframe tbody tr th:only-of-type {\n",
       "        vertical-align: middle;\n",
       "    }\n",
       "\n",
       "    .dataframe tbody tr th {\n",
       "        vertical-align: top;\n",
       "    }\n",
       "\n",
       "    .dataframe thead th {\n",
       "        text-align: right;\n",
       "    }\n",
       "</style>\n",
       "<table border=\"1\" class=\"dataframe\">\n",
       "  <thead>\n",
       "    <tr style=\"text-align: right;\">\n",
       "      <th></th>\n",
       "      <th>Country</th>\n",
       "      <th>Happiness Score</th>\n",
       "      <th>Year</th>\n",
       "    </tr>\n",
       "  </thead>\n",
       "  <tbody>\n",
       "    <tr>\n",
       "      <th>0</th>\n",
       "      <td>Switzerland</td>\n",
       "      <td>7.587</td>\n",
       "      <td>2015</td>\n",
       "    </tr>\n",
       "    <tr>\n",
       "      <th>1</th>\n",
       "      <td>Iceland</td>\n",
       "      <td>7.561</td>\n",
       "      <td>2015</td>\n",
       "    </tr>\n",
       "    <tr>\n",
       "      <th>2</th>\n",
       "      <td>Denmark</td>\n",
       "      <td>7.527</td>\n",
       "      <td>2015</td>\n",
       "    </tr>\n",
       "    <tr>\n",
       "      <th>3</th>\n",
       "      <td>Norway</td>\n",
       "      <td>7.522</td>\n",
       "      <td>2015</td>\n",
       "    </tr>\n",
       "    <tr>\n",
       "      <th>4</th>\n",
       "      <td>Canada</td>\n",
       "      <td>7.427</td>\n",
       "      <td>2015</td>\n",
       "    </tr>\n",
       "    <tr>\n",
       "      <th>...</th>\n",
       "      <td>...</td>\n",
       "      <td>...</td>\n",
       "      <td>...</td>\n",
       "    </tr>\n",
       "    <tr>\n",
       "      <th>151</th>\n",
       "      <td>Rwanda</td>\n",
       "      <td>3.334</td>\n",
       "      <td>2019</td>\n",
       "    </tr>\n",
       "    <tr>\n",
       "      <th>152</th>\n",
       "      <td>Tanzania</td>\n",
       "      <td>3.231</td>\n",
       "      <td>2019</td>\n",
       "    </tr>\n",
       "    <tr>\n",
       "      <th>153</th>\n",
       "      <td>Afghanistan</td>\n",
       "      <td>3.203</td>\n",
       "      <td>2019</td>\n",
       "    </tr>\n",
       "    <tr>\n",
       "      <th>154</th>\n",
       "      <td>Central African Republic</td>\n",
       "      <td>3.083</td>\n",
       "      <td>2019</td>\n",
       "    </tr>\n",
       "    <tr>\n",
       "      <th>155</th>\n",
       "      <td>South Sudan</td>\n",
       "      <td>2.853</td>\n",
       "      <td>2019</td>\n",
       "    </tr>\n",
       "  </tbody>\n",
       "</table>\n",
       "<p>782 rows × 3 columns</p>\n",
       "</div>"
      ],
      "text/plain": [
       "                      Country  Happiness Score  Year\n",
       "0                 Switzerland            7.587  2015\n",
       "1                     Iceland            7.561  2015\n",
       "2                     Denmark            7.527  2015\n",
       "3                      Norway            7.522  2015\n",
       "4                      Canada            7.427  2015\n",
       "..                        ...              ...   ...\n",
       "151                    Rwanda            3.334  2019\n",
       "152                  Tanzania            3.231  2019\n",
       "153               Afghanistan            3.203  2019\n",
       "154  Central African Republic            3.083  2019\n",
       "155               South Sudan            2.853  2019\n",
       "\n",
       "[782 rows x 3 columns]"
      ]
     },
     "execution_count": 6,
     "metadata": {},
     "output_type": "execute_result"
    }
   ],
   "source": [
    "df_comb = pd.concat([\n",
    "    df_2015[['Country', 'Happiness Score']].assign(Year=2015),\n",
    "    df_2016[['Country', 'Happiness Score']].assign(Year=2016),\n",
    "    df_2017[['Country', 'Happiness.Score']].rename(columns={'Happiness.Score': 'Happiness Score'}).assign(Year=2017),\n",
    "    df_2018[['Country or region', 'Score']].rename(columns={'Country or region': \"Country\", 'Score': 'Happiness Score'}).assign(Year=2018),\n",
    "    df_2019[['Country or region', 'Score']].rename(columns={'Country or region': \"Country\", 'Score': 'Happiness Score'}).assign(Year=2019),\n",
    "])\n",
    "\n",
    "df_comb"
   ]
  },
  {
   "cell_type": "code",
   "execution_count": null,
   "id": "268a2b5f-9147-41c1-a98c-b024fb3bfa6e",
   "metadata": {},
   "outputs": [],
   "source": [
    "country = \"Mexico\""
   ]
  },
  {
   "cell_type": "code",
   "execution_count": null,
   "id": "231d8c2c-d79f-4dcd-89cc-3c1a4fbd7304",
   "metadata": {
    "tags": []
   },
   "outputs": [],
   "source": [
    "is_target_country = df_comb[\"Country\"] == country\n",
    "df_comb[is_target_country].set_index(\"Year\")[\"Happiness Score\"].plot()"
   ]
  },
  {
   "cell_type": "code",
   "execution_count": null,
   "id": "876130bc-291e-49cd-b00b-67780d894325",
   "metadata": {
    "tags": []
   },
   "outputs": [],
   "source": [
    "df_comb[df_comb['Country'].str.startswith(\"I\")].set_index(\"Year\").groupby(\"Country\")[\"Happiness Score\"].plot(legend=True)"
   ]
  },
  {
   "cell_type": "code",
   "execution_count": null,
   "id": "f32dd129-a03e-4094-86dc-eb818a406e15",
   "metadata": {},
   "outputs": [],
   "source": []
  },
  {
   "cell_type": "code",
   "execution_count": null,
   "id": "3ee88f8a-fdfa-4f2a-a689-236d0f033df1",
   "metadata": {},
   "outputs": [],
   "source": []
  },
  {
   "cell_type": "code",
   "execution_count": null,
   "id": "466c5387-36dc-4e1b-930f-ed36ff9e9867",
   "metadata": {},
   "outputs": [],
   "source": [
    "def parse_2015_2016(year):\n",
    "    df = pd.read_csv(rf\"HappinessReport\\{year}.csv\")\n",
    "    return df\n",
    "\n",
    "def parse_2017(year):\n",
    "    df = pd.read_csv(rf\"HappinessReport\\{year}.csv\")\n",
    "    return df.rename(columns={\"Happiness.Score\": \"Happiness Score\"})\n",
    "\n",
    "def parse_2018_2019(year):\n",
    "    df = pd.read_csv(rf\"HappinessReport\\{year}.csv\")\n",
    "    return df.rename(columns={\"Country or region\": \"Country\", \"Score\": \"Happiness Score\"})\n",
    "\n",
    "def parse_year(year):\n",
    "    if year < 2017:\n",
    "        return parse_2015_2016(year)\n",
    "    if year == 2017:\n",
    "        return parse_2017(year)\n",
    "    return parse_2018_2019(year)\n",
    "\n",
    "dfs = []\n",
    "for year in [2015,2016,2017,2018,2019]:\n",
    "    df = parse_year(year).set_index(\"Country\").assign(Year=year)\n",
    "    dfs.append(df)\n",
    "    \n",
    "norm_df = pd.concat(dfs)[[\"Happiness Score\", \"Year\"]]"
   ]
  },
  {
   "cell_type": "code",
   "execution_count": null,
   "id": "ed8873fe-b885-4d8a-ab55-bae0a0707618",
   "metadata": {},
   "outputs": [],
   "source": [
    "def plot_happiness(country):\n",
    "    norm_df.loc[country].plot.scatter(x=\"Year\", y=\"Happiness Score\")"
   ]
  },
  {
   "cell_type": "code",
   "execution_count": null,
   "id": "7030ca30-767b-4afc-8614-2c2b50d2ec14",
   "metadata": {},
   "outputs": [],
   "source": [
    "norm_df.index.unique()"
   ]
  },
  {
   "cell_type": "code",
   "execution_count": null,
   "id": "4af24814-5f88-423b-9706-f4eed5a0dd32",
   "metadata": {},
   "outputs": [],
   "source": [
    "plot_happiness(\"Finland\")"
   ]
  },
  {
   "cell_type": "markdown",
   "id": "sealed-requirement",
   "metadata": {},
   "source": [
    "### possible solution"
   ]
  },
  {
   "cell_type": "code",
   "execution_count": null,
   "id": "designing-federation",
   "metadata": {
    "tags": []
   },
   "outputs": [],
   "source": [
    "my_country = \"Italy\"\n",
    "\n",
    "pd.Series({\n",
    "    \"2015\": pd.read_csv('HappinessReport/2015.csv', index_col=0).loc[my_country, 'Happiness Score'],\n",
    "    \"2016\": pd.read_csv('HappinessReport/2016.csv', index_col=0).loc[my_country, 'Happiness Score'],\n",
    "    \"2017\": pd.read_csv('HappinessReport/2017.csv', index_col=0).loc[my_country, 'Happiness.Score'],\n",
    "    \"2018\": pd.read_csv('HappinessReport/2018.csv', index_col=1).loc[my_country, 'Score'],\n",
    "    \"2019\": pd.read_csv('HappinessReport/2019.csv', index_col=1).loc[my_country, 'Score'],\n",
    "}).plot(title='Happiness Score')"
   ]
  },
  {
   "cell_type": "code",
   "execution_count": null,
   "id": "demographic-cycling",
   "metadata": {
    "tags": []
   },
   "outputs": [],
   "source": [
    "pd.Series({\n",
    "    \"2015\": pd.read_csv('HappinessReport/2015.csv', index_col=0).loc[my_country, 'Happiness Rank'],\n",
    "    \"2016\": pd.read_csv('HappinessReport/2016.csv', index_col=0).loc[my_country, 'Happiness Rank'],\n",
    "    \"2017\": pd.read_csv('HappinessReport/2017.csv', index_col=0).loc[my_country, 'Happiness.Rank'],\n",
    "    \"2018\": pd.read_csv('HappinessReport/2018.csv', index_col=1).loc[my_country, 'Overall rank'],\n",
    "    \"2019\": pd.read_csv('HappinessReport/2019.csv', index_col=1).loc[my_country, 'Overall rank'],\n",
    "}).plot(title='Happiness Rank')"
   ]
  },
  {
   "cell_type": "code",
   "execution_count": null,
   "id": "386c95e2-82db-4cf0-9501-246f929c8073",
   "metadata": {},
   "outputs": [],
   "source": []
  }
 ],
 "metadata": {
  "kernelspec": {
   "display_name": "Python 3 (ipykernel)",
   "language": "python",
   "name": "python3"
  },
  "language_info": {
   "codemirror_mode": {
    "name": "ipython",
    "version": 3
   },
   "file_extension": ".py",
   "mimetype": "text/x-python",
   "name": "python",
   "nbconvert_exporter": "python",
   "pygments_lexer": "ipython3",
   "version": "3.9.7"
  }
 },
 "nbformat": 4,
 "nbformat_minor": 5
}
