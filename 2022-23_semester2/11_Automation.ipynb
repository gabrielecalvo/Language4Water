{
 "cells": [
  {
   "cell_type": "markdown",
   "id": "8e9f5ab3-b79d-44df-85e0-d0ee13a13141",
   "metadata": {},
   "source": [
    "# Script Automation\n",
    "\n",
    "When you are looking to run a python script automatically on a regular cadence there are two main ways:\n",
    "- **Self-hosted**: host it yourself and run it on an always-on machine (e.g. Raspberry Pi). On a Unix-like system this can be easily done using crontab, examples [here](https://www.geeksforgeeks.org/how-to-schedule-python-scripts-as-cron-jobs-with-crontab/) or [here](https://towardsdatascience.com/how-to-schedule-python-scripts-with-cron-the-only-guide-youll-ever-need-deea2df63b4e)\n",
    "- **Serverless** host it on a cloud service that will host an run the code for you. For example \n",
    "  - Pythonanywhere, [very limited internet access](https://www.pythonanywhere.com/forums/topic/8902/))\n",
    "  - or any pay-for services (e.g. Azure, AWS, GCP, DigitalOcean..). A video tutorial for DigitalOcean is [here](https://www.youtube.com/watch?v=D_MUphj5tCM)."
   ]
  },
  {
   "cell_type": "code",
   "execution_count": 25,
   "id": "ee622116-7efa-4a14-b522-818ee8068f11",
   "metadata": {
    "tags": []
   },
   "outputs": [
    {
     "name": "stdout",
     "output_type": "stream",
     "text": [
      "retrieving: https://picsum.photos/id/84/200/300\n"
     ]
    },
    {
     "data": {
      "text/plain": [
       "(WindowsPath('images/2023-03-25.jpg'),\n",
       " <http.client.HTTPMessage at 0x23041cfe670>)"
      ]
     },
     "execution_count": 25,
     "metadata": {},
     "output_type": "execute_result"
    }
   ],
   "source": [
    "import datetime\n",
    "from pathlib import Path\n",
    "from urllib.request import urlretrieve\n",
    "\n",
    "output_fld = Path() / \"images\"\n",
    "output_fld.mkdir(exist_ok=True)\n",
    "\n",
    "today = datetime.date.today()\n",
    "photo_id = today.timetuple().tm_yday # day_of_the_year\n",
    "url = f\"https://picsum.photos/id/{photo_id}/200/300\"\n",
    "\n",
    "print(f\"retrieving: {url}\")\n",
    "urlretrieve(url, output_fld / f\"{today.isoformat()}.jpg\")"
   ]
  },
  {
   "cell_type": "markdown",
   "id": "0323db48-5916-48ba-bb01-9acddede2ec1",
   "metadata": {},
   "source": []
  },
  {
   "cell_type": "code",
   "execution_count": null,
   "id": "d0acc813-d8c4-4c82-80a2-bea68fc2093e",
   "metadata": {},
   "outputs": [],
   "source": []
  }
 ],
 "metadata": {
  "kernelspec": {
   "display_name": "Python 3 (ipykernel)",
   "language": "python",
   "name": "python3"
  },
  "language_info": {
   "codemirror_mode": {
    "name": "ipython",
    "version": 3
   },
   "file_extension": ".py",
   "mimetype": "text/x-python",
   "name": "python",
   "nbconvert_exporter": "python",
   "pygments_lexer": "ipython3",
   "version": "3.9.7"
  }
 },
 "nbformat": 4,
 "nbformat_minor": 5
}
