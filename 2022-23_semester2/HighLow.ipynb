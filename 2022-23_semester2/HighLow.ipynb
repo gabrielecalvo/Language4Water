{
 "cells": [
  {
   "cell_type": "markdown",
   "metadata": {},
   "source": [
    "## **High-Low Game**"
   ]
  },
  {
   "cell_type": "code",
   "execution_count": null,
   "metadata": {},
   "outputs": [],
   "source": [
    "import random\n",
    "\n",
    "def get_random_value():\n",
    "    return random.randint(1,10)   # alternative to random.choice(range(10))\n",
    "\n",
    "def get_user_input(shown_value):\n",
    "    return input(f\"is the hidden value [H]igher or [L]ower than {shown_value}?\").lower()\n",
    "\n",
    "def calculate_outcome(chosen, hidden_value, shown_value):\n",
    "    print(f\"the hidden value was {hidden_value}\")\n",
    "    if chosen == \"h\" and hidden_value > shown_value:\n",
    "        print(\"you won!!!\")\n",
    "    elif chosen == \"l\" and hidden_value < shown_value:\n",
    "        print(\"you won!!!\")\n",
    "    else: \n",
    "        print(\"you lost :(\")"
   ]
  },
  {
   "cell_type": "code",
   "execution_count": null,
   "metadata": {},
   "outputs": [],
   "source": [
    "def game():\n",
    "    while True:\n",
    "        shown_value = get_random_value()\n",
    "        print(f\"the first values is {shown_value}\")\n",
    "\n",
    "        hidden_value = get_random_value()\n",
    "\n",
    "        chosen = get_user_input(shown_value)\n",
    "\n",
    "        while chosen not in [\"l\", \"h\", \"q\"]:\n",
    "            print(f\"{chosen} is not a valid input\")\n",
    "            chosen = get_user_input(shown_value)\n",
    "        \n",
    "        if chosen == \"q\":\n",
    "            print(\"Thanks for playing, bye :)\")\n",
    "            return\n",
    "\n",
    "        calculate_outcome(chosen=chosen, hidden_value=hidden_value, shown_value=shown_value)\n",
    "        \n",
    "game()"
   ]
  }
 ],
 "metadata": {
  "kernelspec": {
   "display_name": "Python 3 (ipykernel)",
   "language": "python",
   "name": "python3"
  },
  "language_info": {
   "codemirror_mode": {
    "name": "ipython",
    "version": 3
   },
   "file_extension": ".py",
   "mimetype": "text/x-python",
   "name": "python",
   "nbconvert_exporter": "python",
   "pygments_lexer": "ipython3",
   "version": "3.9.7"
  },
  "toc-autonumbering": false
 },
 "nbformat": 4,
 "nbformat_minor": 4
}
