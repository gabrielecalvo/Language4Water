{
 "cells": [
  {
   "cell_type": "code",
   "execution_count": 1,
   "metadata": {},
   "outputs": [],
   "source": [
    "%matplotlib inline"
   ]
  },
  {
   "cell_type": "code",
   "execution_count": 2,
   "metadata": {},
   "outputs": [],
   "source": [
    "import pandas as pd\n",
    "import matplotlib.pyplot as plt\n",
    "plt.rcParams['figure.figsize'] = (20, 6)"
   ]
  },
  {
   "cell_type": "markdown",
   "metadata": {},
   "source": [
    "## Loading in"
   ]
  },
  {
   "cell_type": "code",
   "execution_count": 3,
   "metadata": {},
   "outputs": [
    {
     "data": {
      "text/html": [
       "<div>\n",
       "<style scoped>\n",
       "    .dataframe tbody tr th:only-of-type {\n",
       "        vertical-align: middle;\n",
       "    }\n",
       "\n",
       "    .dataframe tbody tr th {\n",
       "        vertical-align: top;\n",
       "    }\n",
       "\n",
       "    .dataframe thead th {\n",
       "        text-align: right;\n",
       "    }\n",
       "</style>\n",
       "<table border=\"1\" class=\"dataframe\">\n",
       "  <thead>\n",
       "    <tr style=\"text-align: right;\">\n",
       "      <th></th>\n",
       "      <th>eggID</th>\n",
       "      <th>species</th>\n",
       "      <th>thick unpigmented</th>\n",
       "      <th>thick pigmented</th>\n",
       "      <th>diference between</th>\n",
       "    </tr>\n",
       "  </thead>\n",
       "  <tbody>\n",
       "    <tr>\n",
       "      <th>0</th>\n",
       "      <td>12</td>\n",
       "      <td>arctic tern</td>\n",
       "      <td>258.0</td>\n",
       "      <td>252.0</td>\n",
       "      <td>6.0</td>\n",
       "    </tr>\n",
       "    <tr>\n",
       "      <th>1</th>\n",
       "      <td>19</td>\n",
       "      <td>arctic tern</td>\n",
       "      <td>180.0</td>\n",
       "      <td>162.0</td>\n",
       "      <td>18.0</td>\n",
       "    </tr>\n",
       "    <tr>\n",
       "      <th>2</th>\n",
       "      <td>21</td>\n",
       "      <td>arctic tern</td>\n",
       "      <td>218.0</td>\n",
       "      <td>200.0</td>\n",
       "      <td>18.0</td>\n",
       "    </tr>\n",
       "    <tr>\n",
       "      <th>3</th>\n",
       "      <td>22a</td>\n",
       "      <td>arctic tern</td>\n",
       "      <td>232.0</td>\n",
       "      <td>214.0</td>\n",
       "      <td>18.0</td>\n",
       "    </tr>\n",
       "    <tr>\n",
       "      <th>4</th>\n",
       "      <td>22b</td>\n",
       "      <td>arctic tern</td>\n",
       "      <td>226.0</td>\n",
       "      <td>212.0</td>\n",
       "      <td>14.0</td>\n",
       "    </tr>\n",
       "  </tbody>\n",
       "</table>\n",
       "</div>"
      ],
      "text/plain": [
       "  eggID      species  thick unpigmented  thick pigmented  diference between \n",
       "0    12  arctic tern              258.0            252.0                 6.0\n",
       "1    19  arctic tern              180.0            162.0                18.0\n",
       "2    21  arctic tern              218.0            200.0                18.0\n",
       "3   22a  arctic tern              232.0            214.0                18.0\n",
       "4   22b  arctic tern              226.0            212.0                14.0"
      ]
     },
     "execution_count": 3,
     "metadata": {},
     "output_type": "execute_result"
    }
   ],
   "source": [
    "df = pd.read_csv('pigmentation.tsv', sep='\\t')\n",
    "df.head()"
   ]
  },
  {
   "cell_type": "markdown",
   "metadata": {},
   "source": [
    "## Renaming species to scientific name"
   ]
  },
  {
   "cell_type": "code",
   "execution_count": 4,
   "metadata": {},
   "outputs": [],
   "source": [
    "name_mapping = {\n",
    "    'arctic tern': 'Sterna paradisaea',\n",
    "    'common gull': 'Larus canus',\n",
    "    'lapwing': 'Vanellus vanellus',\n",
    "    'oystercatcher': 'Haematopus ostralegus',\n",
    "    'ringed plover': 'Charadrius hiaticula',  # Charadrius or Charadruis??\n",
    "}\n",
    "\n",
    "df['species'] = df['species'].apply(name_mapping.get)"
   ]
  },
  {
   "cell_type": "markdown",
   "metadata": {},
   "source": [
    "## Running stats"
   ]
  },
  {
   "cell_type": "code",
   "execution_count": 5,
   "metadata": {},
   "outputs": [
    {
     "data": {
      "text/html": [
       "<div>\n",
       "<style scoped>\n",
       "    .dataframe tbody tr th:only-of-type {\n",
       "        vertical-align: middle;\n",
       "    }\n",
       "\n",
       "    .dataframe tbody tr th {\n",
       "        vertical-align: top;\n",
       "    }\n",
       "\n",
       "    .dataframe thead th {\n",
       "        text-align: right;\n",
       "    }\n",
       "</style>\n",
       "<table border=\"1\" class=\"dataframe\">\n",
       "  <thead>\n",
       "    <tr style=\"text-align: right;\">\n",
       "      <th></th>\n",
       "      <th>mean</th>\n",
       "      <th>std</th>\n",
       "    </tr>\n",
       "    <tr>\n",
       "      <th>species</th>\n",
       "      <th></th>\n",
       "      <th></th>\n",
       "    </tr>\n",
       "  </thead>\n",
       "  <tbody>\n",
       "    <tr>\n",
       "      <th>Charadrius hiaticula</th>\n",
       "      <td>15.238200</td>\n",
       "      <td>4.129660</td>\n",
       "    </tr>\n",
       "    <tr>\n",
       "      <th>Haematopus ostralegus</th>\n",
       "      <td>21.909417</td>\n",
       "      <td>5.292168</td>\n",
       "    </tr>\n",
       "    <tr>\n",
       "      <th>Larus canus</th>\n",
       "      <td>18.352407</td>\n",
       "      <td>8.378720</td>\n",
       "    </tr>\n",
       "    <tr>\n",
       "      <th>Sterna paradisaea</th>\n",
       "      <td>34.479364</td>\n",
       "      <td>7.753816</td>\n",
       "    </tr>\n",
       "    <tr>\n",
       "      <th>Vanellus vanellus</th>\n",
       "      <td>44.827167</td>\n",
       "      <td>12.364951</td>\n",
       "    </tr>\n",
       "  </tbody>\n",
       "</table>\n",
       "</div>"
      ],
      "text/plain": [
       "                            mean        std\n",
       "species                                    \n",
       "Charadrius hiaticula   15.238200   4.129660\n",
       "Haematopus ostralegus  21.909417   5.292168\n",
       "Larus canus            18.352407   8.378720\n",
       "Sterna paradisaea      34.479364   7.753816\n",
       "Vanellus vanellus      44.827167  12.364951"
      ]
     },
     "execution_count": 5,
     "metadata": {},
     "output_type": "execute_result"
    }
   ],
   "source": [
    "df_stats = df.groupby('species')['pigment'].agg(['mean','std'])\n",
    "df_stats"
   ]
  },
  {
   "cell_type": "markdown",
   "metadata": {},
   "source": [
    "## Plotting"
   ]
  },
  {
   "cell_type": "code",
   "execution_count": 6,
   "metadata": {},
   "outputs": [
    {
     "data": {
      "text/plain": [
       "<matplotlib.axes._subplots.AxesSubplot at 0x2a620fa1898>"
      ]
     },
     "execution_count": 6,
     "metadata": {},
     "output_type": "execute_result"
    },
    {
     "data": {
      "image/png": "[encoded data removed]",
      "text/plain": [
       "<Figure size 1440x432 with 1 Axes>"
      ]
     },
     "metadata": {
      "needs_background": "light"
     },
     "output_type": "display_data"
    }
   ],
   "source": [
    "# re-ordering them so they are in the same order as the picture\n",
    "order = ['Sterna paradisaea', 'Larus canus', 'Charadrius hiaticula', 'Vanellus vanellus', 'Haematopus ostralegus'][::-1]\n",
    "df_stats = df_stats.reindex(order)\n",
    "\n",
    "df_stats['mean'].plot.barh(xerr=df_stats['std'])"
   ]
  },
  {
   "cell_type": "markdown",
   "metadata": {},
   "source": [
    "<img src=\"pylogeny tree.png\" style=\"width: 600px;\">"
   ]
  },
  {
   "cell_type": "code",
   "execution_count": 7,
   "metadata": {},
   "outputs": [
    {
     "data": {
      "text/plain": [
       "<matplotlib.legend.Legend at 0x2a623d77f28>"
      ]
     },
     "execution_count": 7,
     "metadata": {},
     "output_type": "execute_result"
    },
    {
     "data": {
      "image/png": "[encoded data removed]",
      "text/plain": [
       "<Figure size 1440x432 with 1 Axes>"
      ]
     },
     "metadata": {
      "needs_background": "light"
     },
     "output_type": "display_data"
    }
   ],
   "source": [
    "fig, ax = plt.subplots()\n",
    "# fig.set_size_inches(25,8)\n",
    "\n",
    "for s, sdf in df.groupby('species'):\n",
    "    sdf['pigment'].hist(bins=15, ax=ax, alpha=0.4, label=s)\n",
    "\n",
    "ax.legend()"
   ]
  },
  {
   "cell_type": "code",
   "execution_count": 14,
   "metadata": {},
   "outputs": [
    {
     "data": {
      "image/png": "[encoded data removed]",
      "text/plain": [
       "<Figure size 1440x432 with 3 Axes>"
      ]
     },
     "metadata": {
      "needs_background": "light"
     },
     "output_type": "display_data"
    }
   ],
   "source": [
    "fig, axes = plt.subplots(nrows=3, ncols=1, sharex=True)\n",
    "\n",
    "for s, sdf in df.groupby('species'):\n",
    "    if s in ['Sterna paradisaea', 'Larus canus']:\n",
    "        ax_idx = 0\n",
    "    elif s in ['Charadrius hiaticula', 'Vanellus vanellus']:\n",
    "        ax_idx = 1\n",
    "    else:\n",
    "        ax_idx = 2\n",
    "        \n",
    "    sdf['pigment'].hist(bins=15, ax=axes[ax_idx], alpha=0.4, label=s)"
   ]
  },
  {
   "cell_type": "code",
   "execution_count": null,
   "metadata": {},
   "outputs": [],
   "source": []
  }
 ],
 "metadata": {
  "kernelspec": {
   "display_name": "Python 3",
   "language": "python",
   "name": "python3"
  },
  "language_info": {
   "codemirror_mode": {
    "name": "ipython",
    "version": 3
   },
   "file_extension": ".py",
   "mimetype": "text/x-python",
   "name": "python",
   "nbconvert_exporter": "python",
   "pygments_lexer": "ipython3",
   "version": "3.7.3"
  }
 },
 "nbformat": 4,
 "nbformat_minor": 4
}
