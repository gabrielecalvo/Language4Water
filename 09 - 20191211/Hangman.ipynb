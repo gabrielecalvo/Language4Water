{
 "cells": [
  {
   "cell_type": "markdown",
   "metadata": {},
   "source": [
    "# Hangman (continue)\n",
    "\n",
    "## Extra Features\n",
    "\n",
    "Let's add:\n",
    "- grabbing random word from file\n",
    "- showing the word blanked out at the beginning\n",
    "- validating the input\n",
    "- congratulation and consolation messages if win/lose\n",
    "- if win before last attempt, exit"
   ]
  },
  {
   "cell_type": "code",
   "execution_count": 1,
   "metadata": {},
   "outputs": [],
   "source": [
    "import random\n",
    "MINIMUM_NUMBER_OF_LETTERS = 5"
   ]
  },
  {
   "cell_type": "code",
   "execution_count": 2,
   "metadata": {},
   "outputs": [],
   "source": [
    "def start_game(MINIMUM_NUMBER_OF_LETTERS):\n",
    "    with open(\"words.txt\") as f:\n",
    "        lines= f.read().split('\\n')\n",
    "        possible_words = [w for w in lines if len(w) >= MINIMUM_NUMBER_OF_LETTERS]\n",
    "\n",
    "    word = random.choice(possible_words)\n",
    "\n",
    "    previously_guessed_letters = []\n",
    "    allowed_attempts = 5\n",
    "    attempts_left = allowed_attempts\n",
    "\n",
    "    print(len(word)*'-')\n",
    "\n",
    "    while attempts_left > 0:\n",
    "        guessed_letter = input('Give me a letter [a-z]: ')\n",
    "\n",
    "        showing = ''\n",
    "        previously_guessed_letters.append(guessed_letter)\n",
    "        for actual_letter in word:\n",
    "            if actual_letter in previously_guessed_letters:\n",
    "                showing += actual_letter\n",
    "            else:\n",
    "                showing += '-'\n",
    "\n",
    "        if showing == word:\n",
    "            print(\"Well done!!! (^-^)\")\n",
    "            break\n",
    "\n",
    "        correcty_guessed = [i for i in previously_guessed_letters if i in word]\n",
    "        incorrecty_guessed = [i for i in previously_guessed_letters if i not in word]\n",
    "        attempts_left = allowed_attempts - len(incorrecty_guessed)\n",
    "        \n",
    "        if attempts_left == 0:\n",
    "            print(f\"You lost :( The word was: {word}\")\n",
    "\n",
    "        print(showing)\n",
    "        print('attempts left: ', attempts_left)\n",
    "        print('correctly guessed: ', correcty_guessed)\n",
    "        print('incorrectly guessed: ', incorrecty_guessed)\n",
    "        print('='*100 + '\\n\\n')"
   ]
  },
  {
   "cell_type": "code",
   "execution_count": null,
   "metadata": {},
   "outputs": [
    {
     "name": "stdout",
     "output_type": "stream",
     "text": [
      "------\n"
     ]
    },
    {
     "name": "stdin",
     "output_type": "stream",
     "text": [
      "Give me a letter [a-z]:  e\n"
     ]
    },
    {
     "name": "stdout",
     "output_type": "stream",
     "text": [
      "----e-\n",
      "attempts left:  5\n",
      "correctly guessed:  ['e']\n",
      "incorrectly guessed:  []\n",
      "====================================================================================================\n",
      "\n",
      "\n"
     ]
    },
    {
     "name": "stdin",
     "output_type": "stream",
     "text": [
      "Give me a letter [a-z]:  i\n"
     ]
    },
    {
     "name": "stdout",
     "output_type": "stream",
     "text": [
      "----e-\n",
      "attempts left:  4\n",
      "correctly guessed:  ['e']\n",
      "incorrectly guessed:  ['i']\n",
      "====================================================================================================\n",
      "\n",
      "\n"
     ]
    },
    {
     "name": "stdin",
     "output_type": "stream",
     "text": [
      "Give me a letter [a-z]:  k\n"
     ]
    },
    {
     "name": "stdout",
     "output_type": "stream",
     "text": [
      "----e-\n",
      "attempts left:  3\n",
      "correctly guessed:  ['e']\n",
      "incorrectly guessed:  ['i', 'k']\n",
      "====================================================================================================\n",
      "\n",
      "\n"
     ]
    },
    {
     "name": "stdin",
     "output_type": "stream",
     "text": [
      "Give me a letter [a-z]:  s\n"
     ]
    },
    {
     "name": "stdout",
     "output_type": "stream",
     "text": [
      "s---e-\n",
      "attempts left:  3\n",
      "correctly guessed:  ['e', 's']\n",
      "incorrectly guessed:  ['i', 'k']\n",
      "====================================================================================================\n",
      "\n",
      "\n"
     ]
    },
    {
     "name": "stdin",
     "output_type": "stream",
     "text": [
      "Give me a letter [a-z]:  o\n"
     ]
    },
    {
     "name": "stdout",
     "output_type": "stream",
     "text": [
      "s-o-e-\n",
      "attempts left:  3\n",
      "correctly guessed:  ['e', 's', 'o']\n",
      "incorrectly guessed:  ['i', 'k']\n",
      "====================================================================================================\n",
      "\n",
      "\n"
     ]
    },
    {
     "name": "stdin",
     "output_type": "stream",
     "text": [
      "Give me a letter [a-z]:  t\n"
     ]
    },
    {
     "name": "stdout",
     "output_type": "stream",
     "text": [
      "sto-e-\n",
      "attempts left:  3\n",
      "correctly guessed:  ['e', 's', 'o', 't']\n",
      "incorrectly guessed:  ['i', 'k']\n",
      "====================================================================================================\n",
      "\n",
      "\n"
     ]
    },
    {
     "name": "stdin",
     "output_type": "stream",
     "text": [
      "Give me a letter [a-z]:  n\n"
     ]
    },
    {
     "name": "stdout",
     "output_type": "stream",
     "text": [
      "sto-en\n",
      "attempts left:  3\n",
      "correctly guessed:  ['e', 's', 'o', 't', 'n']\n",
      "incorrectly guessed:  ['i', 'k']\n",
      "====================================================================================================\n",
      "\n",
      "\n"
     ]
    },
    {
     "name": "stdin",
     "output_type": "stream",
     "text": [
      "Give me a letter [a-z]:  l\n"
     ]
    },
    {
     "name": "stdout",
     "output_type": "stream",
     "text": [
      "Well done!!! (^-^)\n",
      "-----\n"
     ]
    }
   ],
   "source": [
    "for i in range(3):\n",
    "    start_game(MINIMUM_NUMBER_OF_LETTERS)"
   ]
  },
  {
   "cell_type": "code",
   "execution_count": null,
   "metadata": {},
   "outputs": [],
   "source": []
  },
  {
   "cell_type": "code",
   "execution_count": null,
   "metadata": {},
   "outputs": [],
   "source": []
  }
 ],
 "metadata": {
  "kernelspec": {
   "display_name": "Python 3",
   "language": "python",
   "name": "python3"
  },
  "language_info": {
   "codemirror_mode": {
    "name": "ipython",
    "version": 3
   },
   "file_extension": ".py",
   "mimetype": "text/x-python",
   "name": "python",
   "nbconvert_exporter": "python",
   "pygments_lexer": "ipython3",
   "version": "3.7.3"
  }
 },
 "nbformat": 4,
 "nbformat_minor": 4
}
