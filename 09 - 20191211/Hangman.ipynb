{
 "cells": [
  {
   "cell_type": "markdown",
   "metadata": {},
   "source": [
    "# Hangman (continue)\n",
    "\n",
    "## Extra Features\n",
    "\n",
    "Let's add:\n",
    "- grabbing random word from file\n",
    "- showing the word blanked out at the beginning\n",
    "- validating the input\n",
    "- congratulation and consolation messages if win/lose\n",
    "- if win before last attempt, exit"
   ]
  },
  {
   "cell_type": "code",
   "execution_count": null,
   "metadata": {},
   "outputs": [],
   "source": [
    "import random\n",
    "MINIMUM_NUMBER_OF_LETTERS = 5\n",
    "\n",
    "with open(\"words.txt\") as f:\n",
    "    lines= f.read().split('\\n')\n",
    "    possible_words = [w for w in lines if len(w) >= MINIMUM_NUMBER_OF_LETTERS]\n",
    "    \n",
    "word = random.choice(possible_words)"
   ]
  },
  {
   "cell_type": "code",
   "execution_count": null,
   "metadata": {},
   "outputs": [],
   "source": [
    "previously_guessed_letters = []\n",
    "allowed_attempts = 5\n",
    "attempts_left = allowed_attempts\n",
    "\n",
    "while attempts_left > 0:\n",
    "    guessed_letter = input('Give me a letter [a-z]: ')\n",
    "    \n",
    "    showing = ''\n",
    "    previously_guessed_letters.append(guessed_letter)\n",
    "    for actual_letter in word:\n",
    "        if actual_letter in previously_guessed_letters:\n",
    "            showing += actual_letter\n",
    "        else:\n",
    "            showing += '-'\n",
    "\n",
    "    \n",
    "    correcty_guessed = [i for i in previously_guessed_letters if i in word]\n",
    "    incorrecty_guessed = [i for i in previously_guessed_letters if i not in word]\n",
    "    attempts_left = allowed_attempts - len(incorrecty_guessed)\n",
    "\n",
    "    print(showing)\n",
    "    print('attempts left: ', attempts_left)\n",
    "    print('correctly guessed: ', correcty_guessed)\n",
    "    print('incorrectly guessed: ', incorrecty_guessed)\n",
    "    print('='*100 + '\\n\\n')"
   ]
  },
  {
   "cell_type": "code",
   "execution_count": null,
   "metadata": {},
   "outputs": [],
   "source": [
    "word"
   ]
  },
  {
   "cell_type": "code",
   "execution_count": null,
   "metadata": {},
   "outputs": [],
   "source": []
  },
  {
   "cell_type": "code",
   "execution_count": null,
   "metadata": {},
   "outputs": [],
   "source": []
  }
 ],
 "metadata": {
  "kernelspec": {
   "display_name": "Python 3",
   "language": "python",
   "name": "python3"
  },
  "language_info": {
   "codemirror_mode": {
    "name": "ipython",
    "version": 3
   },
   "file_extension": ".py",
   "mimetype": "text/x-python",
   "name": "python",
   "nbconvert_exporter": "python",
   "pygments_lexer": "ipython3",
   "version": "3.7.3"
  }
 },
 "nbformat": 4,
 "nbformat_minor": 4
}
