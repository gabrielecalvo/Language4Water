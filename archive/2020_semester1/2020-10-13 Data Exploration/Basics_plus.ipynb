{
 "cells": [
  {
   "cell_type": "markdown",
   "metadata": {},
   "source": [
    "# High Low Game expanded\n",
    "Here's ***a*** show you a solution for the following tasks, some of you found other working solutions (which is great, well done!)\n",
    "\n",
    "**Tasks**:\n",
    " - allow lowercase letters\n",
    " - print error message if letter is not H or L\n",
    " - outer loop to play a defined number of times \n",
    " \n",
    "I'm going to put comments around the new added code only so it doesn't get to confusing"
   ]
  },
  {
   "cell_type": "markdown",
   "metadata": {},
   "source": [
    "## Task 1: allow lowercase letters\n",
    "we can use the `upper` functionality of a string (text) to convert it before checking it\n",
    "\n",
    "So:\n",
    "```python\n",
    "if (guess == \"H\" and second_number > first_number) or (guess == \"L\" and second_number < first_number):\n",
    "```\n",
    "becomes\n",
    "```python\n",
    "guess = guess.upper()  # overwriting the variable with it's uppercase version\n",
    "if (guess == \"H\" and second_number > first_number) or (guess == \"L\" and second_number < first_number):\n",
    "```"
   ]
  },
  {
   "cell_type": "markdown",
   "metadata": {},
   "source": [
    "## Task 2: print error message if letter is not H or L\n",
    "There are many ways to do this, but if we want to then allow for a loop outside (task 3), \n",
    "we might want something that nags us until we give it a valid input instead of just skipping to the next game.\n",
    "\n",
    "To do that we'll need to use a `while` loop, which continues looping until the condition is not met anymore."
   ]
  },
  {
   "cell_type": "code",
   "execution_count": null,
   "metadata": {},
   "outputs": [],
   "source": [
    "guess = input(\"Higher or Lower? (H or L): \")\n",
    "while guess.upper() not in (\"H\", \"L\"):\n",
    "    guess = input(\"Invalid guess, Higher or Lower? (H or L): \")"
   ]
  },
  {
   "cell_type": "markdown",
   "metadata": {},
   "source": [
    "Notice that \n",
    "```python\n",
    "guess.upper() not in (\"H\", \"L\")\n",
    "```\n",
    "allows us to check agains multiple strings (H and L) at the same time instead of writing:\n",
    "```python\n",
    "guess.upper() != \"H\" and guess.upper() != \"L\"\n",
    "```\n",
    "(where `!=` is the opposite of `==`)\n",
    "\n",
    "This `while` loop will keep asking us a new input until it gets a \"H\" or \"L\" (or their lowercase versions)"
   ]
  },
  {
   "cell_type": "markdown",
   "metadata": {},
   "source": [
    "## Task 3: outer loop to play a defined number of times \n",
    "We'll set a variable `N_GAMES` that defines the number of games and then use the `range` function to tell python we want to loop over `N_GAMES` number of times in a `for` loop.\n",
    "\n",
    "In practice `range(n)` returns what is called an iterable that returns numbers from 0 to `n`-1 one at a time.\n",
    "\n",
    "The `for x in range(n)` loop iterates over that iterable and stores each value provided by `range` in the variable provided (in this example: `x`), so:\n",
    "\n",
    "```python\n",
    "for x in range(3):\n",
    "    print(x)\n",
    "\n",
    "# will return \n",
    "0\n",
    "1\n",
    "2\n",
    "```"
   ]
  },
  {
   "cell_type": "code",
   "execution_count": null,
   "metadata": {},
   "outputs": [],
   "source": [
    "N_GAMES = 5  # defining the number of games we want to play\n",
    "\n",
    "for i_game in range(N_GAMES):  # defining a loop around the whole \n",
    "    first_number = random.choice(cards)\n",
    "    print(first_number)\n",
    "\n",
    "    guess = input(\"Higher or Lower? (H or L): \")\n",
    "    while guess.upper() not in (\"H\", \"L\"):\n",
    "        guess = input(\"Invalid guess, Higher or Lower? (H or L): \")\n",
    "\n",
    "    second_number = random.choice(cards)\n",
    "    print(second_number)\n",
    "    \n",
    "    if (guess == \"H\" and second_number > first_number) or (guess == \"L\" and second_number < first_number):\n",
    "        print(\"win\")\n",
    "    else:\n",
    "        print(\"lose\")"
   ]
  },
  {
   "cell_type": "code",
   "execution_count": null,
   "metadata": {},
   "outputs": [],
   "source": []
  }
 ],
 "metadata": {
  "kernelspec": {
   "display_name": "Python 3",
   "language": "python",
   "name": "python3"
  },
  "language_info": {
   "codemirror_mode": {
    "name": "ipython",
    "version": 3
   },
   "file_extension": ".py",
   "mimetype": "text/x-python",
   "name": "python",
   "nbconvert_exporter": "python",
   "pygments_lexer": "ipython3",
   "version": "3.8.3"
  }
 },
 "nbformat": 4,
 "nbformat_minor": 4
}
