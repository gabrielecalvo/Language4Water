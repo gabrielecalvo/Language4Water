{
 "cells": [
  {
   "cell_type": "markdown",
   "id": "7265b112-645a-41ab-b71f-d30bd225bc0a",
   "metadata": {},
   "source": [
    "# The Bot Race Game\n",
    "We want to build a simple bot game. All bots are racing to get to square 10 as fast as possible but there are a few rules:\n",
    "- Each turn a bot can either of the following actions: \n",
    "    - `walk` (move 1 square in the direction it is facing), \n",
    "    - or `sabotage` (making all the opponents at the same square turn in the opposite direction for one turn)\n",
    "- The order of bot actions is randomised each round\n",
    "- at the beginning of each round, all bots are turned to face forward\n",
    "- bots cannot go further backwards than the starting position"
   ]
  },
  {
   "cell_type": "code",
   "execution_count": 1,
   "id": "54294002-7d38-4eac-80f8-1b4b681b101a",
   "metadata": {},
   "outputs": [],
   "source": [
    "import logging\n",
    "from tqdm import tqdm\n",
    "import pandas as pd\n",
    "from collections import Counter\n",
    "import random \n",
    "import enum\n",
    "\n",
    "MAX_ROUNDS = 1000\n",
    "logging.basicConfig(level=logging.INFO)"
   ]
  },
  {
   "cell_type": "code",
   "execution_count": 2,
   "id": "cbe2a367-8d3f-4123-a40c-923b5459db7c",
   "metadata": {},
   "outputs": [],
   "source": [
    "class BaseBot:\n",
    "    position = 0\n",
    "    direction = 1\n",
    "    \n",
    "    def __init__(self, name:str = \"\") -> None:\n",
    "        if name == \"\":\n",
    "            self.name = self.__class__.__name__\n",
    "        else:\n",
    "            self.name = name\n",
    "    \n",
    "    def __repr__(self) -> str:\n",
    "        return f\"{self.__class__.__name__}('{self.name}')\"\n",
    "    \n",
    "    def walk(self) -> None:\n",
    "        self.position = max(0, self.position + self.direction)\n",
    "        \n",
    "    def sabotage(self, bots: list[\"BaseBot\"]) -> None:\n",
    "        sabotaged = []\n",
    "        for bot in bots:\n",
    "            if bot != self and bot.position >= self.position:\n",
    "                bot.direction = -bot.direction\n",
    "                sabotaged.append(bot)\n",
    "        return sabotaged\n",
    "    \n",
    "    def turn_forward(self):\n",
    "        self.direction = 1"
   ]
  },
  {
   "cell_type": "code",
   "execution_count": 3,
   "id": "33e227c9-f8f0-43fa-8c58-c7789d88755e",
   "metadata": {},
   "outputs": [],
   "source": [
    "class Action(enum.Enum):\n",
    "    WALK = enum.auto()\n",
    "    SABOTAGE = enum.auto()\n",
    "    TURN = enum.auto()\n",
    "    QUIT = enum.auto()\n",
    "\n",
    "class RandomBot(BaseBot):\n",
    "    def play(self) -> Action:\n",
    "        return random.choice([Action.WALK, Action.SABOTAGE])\n",
    "    \n",
    "class AlwaysWalkBot(BaseBot):\n",
    "    def play(self) -> Action:\n",
    "        return Action.WALK\n",
    "    \n",
    "class PlayerBot(BaseBot):\n",
    "    next_action = None\n",
    "    \n",
    "    def set_action(self):\n",
    "        action = input(\"choose walk(w), turn(t) or sabotage(s)\")\n",
    "        if action == \"s\":\n",
    "            self.next_action = Action.SABOTAGE\n",
    "        elif action == \"t\":\n",
    "            self.next_action = Action.TURN\n",
    "        elif action == \"w\":\n",
    "            self.next_action = Action.WALK\n",
    "        elif action == \"q\":\n",
    "            self.next_action = Action.QUIT\n",
    "        \n",
    "    def play(self) -> Action:\n",
    "        return self.next_action"
   ]
  },
  {
   "cell_type": "code",
   "execution_count": 4,
   "id": "7a921193-f9c2-49d7-b861-0f697b9e77f3",
   "metadata": {},
   "outputs": [],
   "source": [
    "class Game:\n",
    "    n_rounds = 0\n",
    "    def __init__(self, bots: list[BaseBot], verbose: int = 1):\n",
    "        self.bots = bots\n",
    "        for bot in self.bots:\n",
    "            bot.position = 0\n",
    "            bot.direction = 1\n",
    "        self.winner = None\n",
    "        self.verbose = verbose\n",
    "        if self.verbose:\n",
    "            self.show_board(self.bots)\n",
    "        \n",
    "    def run_round(self):\n",
    "        if self.winner is None:\n",
    "            random.shuffle(self.bots)\n",
    "            for bot in self.bots:\n",
    "                action_str = bot.play()\n",
    "                if action_str == Action.WALK:\n",
    "                    bot.walk()\n",
    "                    if bot.position == 10:\n",
    "                        self.winner = bot\n",
    "                        break\n",
    "                    logging.debug(f\"{bot} walked\")\n",
    "                elif action_str == Action.SABOTAGE:\n",
    "                    sabotaged = bot.sabotage(self.bots)\n",
    "                    logging.debug(f\"{bot} sabotaged {sabotaged}\")\n",
    "                elif action_str == Action.TURN:\n",
    "                    sabotaged = bot.turn_forward()\n",
    "                    logging.debug(f\"{bot} sabotaged {sabotaged}\")\n",
    "                elif action_str == Action.QUIT:\n",
    "                    self.winner = max(self.bots, key=lambda x: x.position)\n",
    "                else:\n",
    "                    raise Value(f\"The action {action_str} is not allowed\")\n",
    "            \n",
    "            self.reset_bot_direction()\n",
    "            if self.verbose:\n",
    "                self.show_board(self.bots)\n",
    "                \n",
    "        if self.winner and self.verbose:\n",
    "            print(f\"{self.winner} WON !!!!\")\n",
    "            \n",
    "        if self.n_rounds > MAX_ROUNDS:\n",
    "            self.winner = max(self.bots, key=lambda x: x.position)\n",
    "        else:\n",
    "            self.n_rounds += 1\n",
    "    \n",
    "    @staticmethod\n",
    "    def show_board(bots: list[BaseBot]) -> None:\n",
    "        board = {}\n",
    "        board[\"start\"] = []\n",
    "        for i in range(10+1):\n",
    "            board[i] = []\n",
    "\n",
    "        for bot in bots:\n",
    "            direction_str = (\"^\" if bot.direction==-1 else \"v\")\n",
    "            board[bot.position].append(f\"{bot.name} ({direction_str})\")\n",
    "\n",
    "        board[\"start\"] = board[0]\n",
    "        board[\"finish\"] = board[10]\n",
    "        board.pop(0)\n",
    "        board.pop(10)\n",
    "\n",
    "        board_str = \"\"\n",
    "        for row, row_bots in board.items():\n",
    "            board_str += f\"{row:>6}: {row_bots}\\n\"\n",
    "        print(board_str)\n",
    "        \n",
    "    def reset_bot_direction(self):\n",
    "        for bot in self.bots:\n",
    "            if bot.position == 0:\n",
    "                bot.direction = 1"
   ]
  },
  {
   "cell_type": "code",
   "execution_count": 38,
   "id": "c44cad80-1610-4fda-b448-af8237cc3f37",
   "metadata": {},
   "outputs": [],
   "source": [
    "randombot1 = RandomBot(\"Random1\")\n",
    "randombot2 = RandomBot(\"Random2\")\n",
    "always_walk = AlwaysWalkBot()\n",
    "players_bot = PlayerBot()\n",
    "\n",
    "bots = [randombot1, randombot2, always_walk, players_bot]\n",
    "\n",
    "def stategy():\n",
    "    is_not_leader = any([\n",
    "        bot.position > players_bot.position + 2\n",
    "        for bot in bots\n",
    "    ])\n",
    "    if is_not_leader:\n",
    "        return Action.SABOTAGE\n",
    "    if players_bot.direction < 1:\n",
    "        return Action.TURN\n",
    "    return Action.WALK\n",
    "\n",
    "players_bot.play = stategy"
   ]
  },
  {
   "cell_type": "code",
   "execution_count": 60,
   "id": "3243002c-e7e6-4761-b002-c33d5d4624c4",
   "metadata": {},
   "outputs": [
    {
     "name": "stderr",
     "output_type": "stream",
     "text": [
      "100%|██████████████████████████████████████████████████████████████████████████████| 100/100 [00:00<00:00, 2325.43it/s]\n"
     ]
    },
    {
     "data": {
      "text/plain": [
       "<AxesSubplot:>"
      ]
     },
     "execution_count": 60,
     "metadata": {},
     "output_type": "execute_result"
    },
    {
     "data": {
      "image/png": "[encoded data removed]",
      "text/plain": [
       "<Figure size 432x288 with 1 Axes>"
      ]
     },
     "metadata": {
      "needs_background": "light"
     },
     "output_type": "display_data"
    }
   ],
   "source": [
    "winners = []\n",
    "n_rounds = []\n",
    "for i in tqdm(range(100)):\n",
    "    game = Game(bots=bots, verbose=0)\n",
    "    while not game.winner:\n",
    "        game.run_round()\n",
    "    winners.append(game.winner)\n",
    "    n_rounds.append(game.n_rounds)\n",
    "    \n",
    "pd.Series({k.name: v for k, v in Counter(winners).items()}).plot.bar()"
   ]
  },
  {
   "cell_type": "code",
   "execution_count": null,
   "id": "72633c22-e5b1-4ca5-9ba8-1f939ad416e9",
   "metadata": {},
   "outputs": [],
   "source": []
  }
 ],
 "metadata": {
  "kernelspec": {
   "display_name": "Python 3 (ipykernel)",
   "language": "python",
   "name": "python3"
  },
  "language_info": {
   "codemirror_mode": {
    "name": "ipython",
    "version": 3
   },
   "file_extension": ".py",
   "mimetype": "text/x-python",
   "name": "python",
   "nbconvert_exporter": "python",
   "pygments_lexer": "ipython3",
   "version": "3.9.7"
  }
 },
 "nbformat": 4,
 "nbformat_minor": 5
}
