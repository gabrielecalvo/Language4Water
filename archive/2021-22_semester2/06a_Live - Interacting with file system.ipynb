{
 "cells": [
  {
   "cell_type": "markdown",
   "id": "ceafbbfc-9b3c-4e14-a867-3604be1c38da",
   "metadata": {},
   "source": [
    "# Working with the filesystem\n",
    "\n",
    "the `os` module is probably the simplest way to interact with the filesystem and it is part of python standard library"
   ]
  },
  {
   "cell_type": "code",
   "execution_count": null,
   "id": "bb1bbce5-b3c4-4c31-bcbb-7493baa92992",
   "metadata": {},
   "outputs": [],
   "source": [
    "import os"
   ]
  },
  {
   "cell_type": "code",
   "execution_count": null,
   "id": "876c9772-e594-40fc-8de4-6695daaa0552",
   "metadata": {},
   "outputs": [],
   "source": [
    "os.listdir(\".\")  # list all the files and folders in the current directory"
   ]
  },
  {
   "cell_type": "code",
   "execution_count": null,
   "id": "6f8fc1d7-9930-44a4-9d67-6c36393862fc",
   "metadata": {},
   "outputs": [],
   "source": [
    "def find_csvs(starting_folder=\".\"):\n",
    "    \"\"\"\n",
    "    Find and return a list of filepaths to csv files \n",
    "    in folders that are note `.ipynb_checkpoints` folders\n",
    "    \"\"\"\n",
    "    \n",
    "    found_csvs = []\n",
    "    for dirpath, dirnames, filenames in os.walk(starting_folder):\n",
    "        if dirpath.endswith(\".ipynb_checkpoints\"):\n",
    "            continue  # skip to the next iteration\n",
    "\n",
    "        for filename in filenames:\n",
    "            if filename.endswith(\".csv\"):\n",
    "                filepath = os.path.join(dirpath, filename)\n",
    "                found_csvs.append(filepath)\n",
    "                \n",
    "    return found_csvs\n"
   ]
  },
  {
   "cell_type": "markdown",
   "id": "0801b7d7-fbb1-4ad1-8bed-ed1f436434ce",
   "metadata": {},
   "source": [
    "#### Creating a full path from folder and filename\n",
    "Options:\n",
    "- using string manipulation yourself will probably end up in issues when running on a different operating system which use a different separator (\"\\\\\" windows, \"/\" linux&mac) ```python\n",
    "myfolder + \"\\\\\" + myfilename\n",
    "```\n",
    "- replace the hard-coded \"\\\\\" with a more dynamic `os.path.sep` which will use the right separator: ```python\n",
    "myfolder + os.path.sep + myfilename\n",
    "```\n",
    "- use the handy `os.path.join(myfolder, myfilename)` <- **RECOMMENDED**\n"
   ]
  },
  {
   "cell_type": "code",
   "execution_count": null,
   "id": "65a140c8-083f-4f15-aa33-ce5117d2ac1e",
   "metadata": {},
   "outputs": [],
   "source": [
    "find_csvs()"
   ]
  },
  {
   "cell_type": "markdown",
   "id": "1c5872f5-9b24-4e1b-82af-4283dc80c5bb",
   "metadata": {},
   "source": [
    "## Opening and processing data"
   ]
  },
  {
   "cell_type": "code",
   "execution_count": null,
   "id": "43e5c8d9-bb88-4f8a-aea2-dda9286c7318",
   "metadata": {},
   "outputs": [],
   "source": [
    "filepath = '.\\\\bespoke_samples\\\\other_folder\\\\myfile.csv'"
   ]
  },
  {
   "cell_type": "code",
   "execution_count": null,
   "id": "51acd2fe-6513-4402-b5bc-f87ff7aa3cc7",
   "metadata": {},
   "outputs": [],
   "source": [
    "with open(filepath) as f:  # define an open file context\n",
    "    content = f.read()    # reading the content of the file\n",
    "    \n",
    "print(content)"
   ]
  },
  {
   "cell_type": "markdown",
   "id": "935f10fe-5cd6-407f-98a3-540916edb85a",
   "metadata": {},
   "source": [
    "## Extracting data as dictionary of columns"
   ]
  },
  {
   "cell_type": "code",
   "execution_count": null,
   "id": "dcef8655-d7e6-44ec-bf18-f06c6ab17b60",
   "metadata": {},
   "outputs": [],
   "source": [
    "my_data = []\n",
    "for row_str in content.split(\"\\n\"):\n",
    "    my_data.append(row_str.split(\",\"))"
   ]
  },
  {
   "cell_type": "code",
   "execution_count": null,
   "id": "5b85da05-b3fd-4115-9837-fa526272bbc8",
   "metadata": {},
   "outputs": [],
   "source": [
    "# initialising dictionary of lists\n",
    "my_data_dict = {}\n",
    "for key in my_data[0]:\n",
    "    my_data_dict[key] = []\n",
    "    \n",
    "my_data_dict"
   ]
  },
  {
   "cell_type": "code",
   "execution_count": null,
   "id": "fac646f1-c45c-453a-a5f8-e5f4f1639046",
   "metadata": {},
   "outputs": [],
   "source": [
    "# filling the dictionary of lists\n",
    "for row in my_data[1:]:\n",
    "    my_data_dict['name'].append(row[0])\n",
    "    my_data_dict['lastname'].append(row[1])\n",
    "    my_data_dict['number'].append(row[2])\n",
    "    \n",
    "my_data_dict"
   ]
  },
  {
   "cell_type": "markdown",
   "id": "b0d7852f-0355-43d8-ac78-2c5e85eda02c",
   "metadata": {},
   "source": [
    "### csv library\n",
    "this library helps you handle more edge cases (a cell containing the separator character) and it is better to use it instead of trying to write your own parser."
   ]
  },
  {
   "cell_type": "code",
   "execution_count": null,
   "id": "98f2c7f7-8de2-4035-9104-df15c568cabd",
   "metadata": {},
   "outputs": [],
   "source": [
    "import csv\n",
    "\n",
    "with open(filepath) as csvfile:\n",
    "    spamreader = csv.reader(csvfile,)\n",
    "    for row in spamreader:\n",
    "        print(row)"
   ]
  },
  {
   "cell_type": "markdown",
   "id": "a2f51962-5216-4589-9c48-b6b99479533c",
   "metadata": {},
   "source": [
    "## Pandas\n",
    "the pandas library is even better if you are planning of plotting or doing calculations of the content"
   ]
  },
  {
   "cell_type": "code",
   "execution_count": null,
   "id": "d358eb5a-d287-4603-b9cc-0fe411c52a32",
   "metadata": {},
   "outputs": [],
   "source": [
    "import pandas as pd"
   ]
  },
  {
   "cell_type": "code",
   "execution_count": null,
   "id": "e7b95f30-50c2-42f6-8695-b2ca3a9a6057",
   "metadata": {},
   "outputs": [],
   "source": [
    "df= pd.read_csv(filepath)"
   ]
  },
  {
   "cell_type": "code",
   "execution_count": null,
   "id": "928003f2-8dd8-48a9-a20b-4e1844697c86",
   "metadata": {},
   "outputs": [],
   "source": [
    "df.plot()"
   ]
  },
  {
   "cell_type": "code",
   "execution_count": null,
   "id": "eed7f731-a8c2-40d5-bcdd-f6a434dd8ff9",
   "metadata": {},
   "outputs": [],
   "source": []
  }
 ],
 "metadata": {
  "kernelspec": {
   "display_name": "Python 3 (ipykernel)",
   "language": "python",
   "name": "python3"
  },
  "language_info": {
   "codemirror_mode": {
    "name": "ipython",
    "version": 3
   },
   "file_extension": ".py",
   "mimetype": "text/x-python",
   "name": "python",
   "nbconvert_exporter": "python",
   "pygments_lexer": "ipython3",
   "version": "3.9.1"
  }
 },
 "nbformat": 4,
 "nbformat_minor": 5
}
