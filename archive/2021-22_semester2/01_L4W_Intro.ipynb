{
 "cells": [
  {
   "cell_type": "markdown",
   "metadata": {
    "id": "LHr15ZAI9AcC",
    "slideshow": {
     "slide_type": "slide"
    }
   },
   "source": [
    "# Welcome & Thank you!\n",
    "\n",
    "Thank you for supporting the international network of volunteer [**4water**](http://4water.org/about-us/)\n"
   ]
  },
  {
   "cell_type": "markdown",
   "metadata": {
    "slideshow": {
     "slide_type": "slide"
    }
   },
   "source": [
    "# Who Am I\n",
    "\n",
    "- **Gabe Calvo**\n",
    "- Renewable Energy Data Scientist\n",
    "- tinkered with code since teenager, using python since 2015 (mainly data analysis)\n",
    "- volunteering for Language4Water since 2019"
   ]
  },
  {
   "cell_type": "markdown",
   "metadata": {
    "slideshow": {
     "slide_type": "slide"
    }
   },
   "source": [
    "# \\< intractive mode on \\>\n",
    "# Who are you?\n",
    "# Why python?"
   ]
  },
  {
   "cell_type": "markdown",
   "metadata": {
    "slideshow": {
     "slide_type": "slide"
    }
   },
   "source": [
    "# The Python Language"
   ]
  },
  {
   "cell_type": "markdown",
   "metadata": {
    "id": "RZWXvQPT87ne",
    "slideshow": {
     "slide_type": "subslide"
    }
   },
   "source": [
    "# What is Python\n",
    "Definition from [python.org](https://www.python.org/doc/essays/blurb/)\n",
    "> Python is an interpreted, object-oriented, high-level programming language with dynamic semantics. Its high-level built in data structures, combined with dynamic typing and dynamic binding, make it very attractive for Rapid Application Development, as well as for use as a scripting or glue language to connect existing components together. Python's simple, easy to learn syntax emphasizes readability and therefore reduces the cost of program maintenance. Python supports modules and packages, which encourages program modularity and code reuse. The Python interpreter and the extensive standard library are available in source or binary form without charge for all major platforms, and can be freely distributed. [...]"
   ]
  },
  {
   "cell_type": "markdown",
   "metadata": {
    "slideshow": {
     "slide_type": "subslide"
    }
   },
   "source": [
    "In short:\n",
    "- It's a **swiss army knife** language (battery included & great ecosystem)\n",
    "- It's **simple** (dynamic, high level)\n",
    "- It's **readable** (almost pseudocode, clean syntax)\n",
    "- It's **free** & **open-source**\n",
    "- It's **tinker-friendly** (raspberry pi, micropython, cloud solutions)"
   ]
  },
  {
   "cell_type": "markdown",
   "metadata": {
    "slideshow": {
     "slide_type": "subslide"
    }
   },
   "source": [
    "![antigravity](https://imgs.xkcd.com/comics/python.png)[source](https://xkcd.com/353/)"
   ]
  },
  {
   "cell_type": "markdown",
   "metadata": {
    "slideshow": {
     "slide_type": "subslide"
    }
   },
   "source": [
    "# Python Uses and Misuses:\n",
    "Here's a list of what python is good for and what is not (stolen from [here](https://www.reddit.com/r/learnprogramming/comments/30hncn/what_python_used_for/))\n",
    "\n",
    "## Python Uses:\n",
    "- **Scripting** (snippets of code as shortcuts)\n",
    "- **Scientific and mathematical computing**\n",
    "- **Data Analysis, Data Science, Big data** (machine learning, data mining, etc...)\n",
    "- **Education**: the [most commonly](http://cacm.acm.org/blogs/blog-cacm/176450-python-is-now-the-most-popular-introductory-teaching-language-at-top-us-universities/fulltext) taught language in universities\n",
    "- **Computer Graphics**: embedded into popular programs (FreeCAD, Blender, Maya, Gimp, Inkscape, etc.)\n",
    "- **System automation and administration**\n",
    "- **Security and penetration testing**\n",
    "- **Web development**\n",
    "- **Mapping and geography**: Python is commonly used by many GIS software"
   ]
  },
  {
   "cell_type": "markdown",
   "metadata": {
    "slideshow": {
     "slide_type": "subslide"
    }
   },
   "source": [
    "## Not Python Uses:\n",
    "- **Writing operating systems**: Python isn't low-level enough\n",
    "- **Mobile**: major players in mobile do not adopt Python, though there are people working very hard to bring Python to mobile (see [Kivy](https://kivy.org))\n",
    "- **Highly Concurrent Code**: current implementations of Python are unfortunately not so fantastic with concurrency, though there are people working to change that too.\n",
    "- **High Execution Speed**: pure Python is slower than other languages like C and Java, (though sometimes [it does not matter much](https://medium.com/@trungluongquang/why-python-is-popular-despite-being-super-slow-83a8320412a9) or there are ways around it).\n"
   ]
  },
  {
   "cell_type": "markdown",
   "metadata": {
    "slideshow": {
     "slide_type": "subslide"
    }
   },
   "source": [
    "## Companies using Python\n",
    "A non-comprehensive list of famous companies invested in Python ([source](https://www.quora.com/What-top-tier-companies-use-Python)):\n",
    "![](https://qph.fs.quoracdn.net/main-qimg-2409596879889773b1e39c2594bf0fc5) "
   ]
  },
  {
   "cell_type": "markdown",
   "metadata": {
    "slideshow": {
     "slide_type": "slide"
    }
   },
   "source": [
    "# Hunting the Python\n",
    "Python can be found in the wind in many environments:"
   ]
  },
  {
   "cell_type": "markdown",
   "metadata": {
    "slideshow": {
     "slide_type": "subslide"
    }
   },
   "source": [
    "## REPL\n",
    "interactive console (REPL: Read-Eval-Print-Loop)\n",
    "\n",
    "![repl](https://raw.githubusercontent.com/gabrielecalvo/Language4Water/master/assets/01_repl.png)"
   ]
  },
  {
   "cell_type": "markdown",
   "metadata": {
    "slideshow": {
     "slide_type": "subslide"
    }
   },
   "source": [
    "## .py scripts\n",
    "scripts (*.py* files)\n",
    "![py scripts](https://raw.githubusercontent.com/gabrielecalvo/Language4Water/master/assets/01_scripts.png)"
   ]
  },
  {
   "cell_type": "markdown",
   "metadata": {
    "slideshow": {
     "slide_type": "subslide"
    }
   },
   "source": [
    "## Integrated Development Environment\n",
    "IDE: Integrated Development Environment\n",
    "![ide](https://raw.githubusercontent.com/gabrielecalvo/Language4Water/master/assets/01_ide.png)"
   ]
  },
  {
   "cell_type": "markdown",
   "metadata": {
    "slideshow": {
     "slide_type": "subslide"
    }
   },
   "source": [
    "# Notebook\n",
    "interactive code notepads\n",
    ".. like this one (Jupyter Notebooks)"
   ]
  },
  {
   "cell_type": "markdown",
   "metadata": {
    "slideshow": {
     "slide_type": "subslide"
    }
   },
   "source": [
    "# And many more\n",
    "- scripting shell inside other programs (GIS, graphics software, ..)\n",
    "- cloud-based solutions\n",
    "- ..."
   ]
  },
  {
   "cell_type": "markdown",
   "metadata": {
    "slideshow": {
     "slide_type": "subslide"
    }
   },
   "source": [
    "For this class, we'll use Notebooks.\n",
    "\n",
    "In particular, as it's an online class, let's use [Google Colab](colab.research.google.com/)"
   ]
  }
 ],
 "metadata": {
  "celltoolbar": "Slideshow",
  "colab": {
   "authorship_tag": "ABX9TyNQ6upC4mPLbglCVRHQrBdk",
   "collapsed_sections": [],
   "name": "L4W_Intro.ipynb",
   "provenance": []
  },
  "kernelspec": {
   "display_name": "Python 3 (ipykernel)",
   "language": "python",
   "name": "python3"
  },
  "language_info": {
   "codemirror_mode": {
    "name": "ipython",
    "version": 3
   },
   "file_extension": ".py",
   "mimetype": "text/x-python",
   "name": "python",
   "nbconvert_exporter": "python",
   "pygments_lexer": "ipython3",
   "version": "3.9.7"
  }
 },
 "nbformat": 4,
 "nbformat_minor": 4
}
