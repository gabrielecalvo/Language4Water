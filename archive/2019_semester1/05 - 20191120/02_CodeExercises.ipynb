{
 "cells": [
  {
   "cell_type": "markdown",
   "metadata": {},
   "source": [
    "### **Exercise 1**: Remove String Spaces\n",
    "remove the spaces from the string, then return the resultant string."
   ]
  },
  {
   "cell_type": "code",
   "execution_count": null,
   "metadata": {},
   "outputs": [],
   "source": [
    "def remove_spaces(x):\n",
    "    # your code here\n",
    "    return res\n",
    "\n",
    "assert remove_spaces('This is an example') ==  'Thisisanexample'\n",
    "assert remove_spaces(' <- lookout -> ') ==  '<-lookout->'\n",
    "assert remove_spaces('      ') == ''"
   ]
  },
  {
   "cell_type": "markdown",
   "metadata": {},
   "source": [
    "### **Exercise 2**: A Needle in the Haystack\n",
    "Write a function that takes an array of strings, containing one \"needle\"\n",
    "\n",
    "After your function finds the needle it should return a message (as a string) that says: \"found the needle at position \" plus the index it found the needle"
   ]
  },
  {
   "cell_type": "code",
   "execution_count": null,
   "metadata": {},
   "outputs": [],
   "source": [
    "def find_needle(list_of_strings):\n",
    "    # your code here\n",
    "    return res\n",
    "    \n",
    "assert find_needle(['hay', 'junk', 'hay', 'hay', 'moreJunk', 'needle', 'randomJunk']) == \"found the needle at position 5\" "
   ]
  },
  {
   "cell_type": "markdown",
   "metadata": {},
   "source": [
    "### **Exercise 3**: Century From Year\n",
    "Return the century for the given year.\n",
    "\n",
    "**Note**: For simplicity The first century spans from the year 0 up to and including the year 99, the rest follow similar pattern\n",
    "\n",
    "There are different approaches, these info can be useful for some of them:\n",
    "- `str(x)`: converts x to a string\n",
    "- `int(x)`: converts x to an integer number\n",
    "- `a % b`: returns the integer remainder of the division a/b"
   ]
  },
  {
   "cell_type": "code",
   "execution_count": null,
   "metadata": {},
   "outputs": [],
   "source": [
    "def get_century(x):\n",
    "    # your code here\n",
    "    return res\n",
    "\n",
    "assert get_century(1705) == 18\n",
    "assert get_century(1900) == 20\n",
    "assert get_century(1601) == 17\n",
    "assert get_century(2000) == 21"
   ]
  },
  {
   "cell_type": "markdown",
   "metadata": {},
   "source": [
    "What if we used the [strict definition](https://en.wikipedia.org/wiki/Century):\n",
    "\n",
    "The first century spans from the year 1 up to and including the year 100"
   ]
  },
  {
   "cell_type": "code",
   "execution_count": null,
   "metadata": {},
   "outputs": [],
   "source": [
    "def get_strict_century(x):\n",
    "    # your code here\n",
    "    return res\n",
    "\n",
    "assert get_strict_century(1705) == 18\n",
    "assert get_strict_century(1900) == 19\n",
    "assert get_strict_century(1601) == 17\n",
    "assert get_strict_century(2000) == 20"
   ]
  },
  {
   "cell_type": "markdown",
   "metadata": {},
   "source": [
    "### **Exercise 4**: Mumbling\n",
    "Given a string, create the lists as in the example"
   ]
  },
  {
   "cell_type": "code",
   "execution_count": null,
   "metadata": {},
   "outputs": [],
   "source": [
    "def accum(x):\n",
    "    # your code here        \n",
    "    return res\n",
    "\n",
    "assert accum(\"abcd\") == ['a', 'bb', 'ccc', 'dddd']\n",
    "assert accum(\"RqaEzty\") == ['R', 'qq', 'aaa', 'EEEE', 'zzzzz', 'tttttt', 'yyyyyyy']\n",
    "assert accum(\"cwAt\") == ['c', 'ww', 'AAA', 'tttt']"
   ]
  },
  {
   "cell_type": "markdown",
   "metadata": {},
   "source": [
    "What if the letter size has to be more \"proper\": first letter uppercase, rest lowercase"
   ]
  },
  {
   "cell_type": "code",
   "execution_count": null,
   "metadata": {},
   "outputs": [],
   "source": [
    "def accum_proper(x):\n",
    "    # your code here\n",
    "    return res\n",
    "\n",
    "assert accum_proper(\"abcd\") == ['A', 'Bb', 'Ccc', 'Dddd']\n",
    "assert accum_proper(\"RqaEzty\") == ['R', 'Qq', 'Aaa', 'Eeee', 'Zzzzz', 'Tttttt', 'Yyyyyyy']\n",
    "assert accum_proper(\"cwAt\") == ['C', 'Ww', 'Aaa', 'Tttt']"
   ]
  },
  {
   "cell_type": "markdown",
   "metadata": {},
   "source": [
    "### **Exercise 5**: Complementary DNA\n",
    "In DNA strings, symbols \"A\" and \"T\" are complements of each other, as \"C\" and \"G\". You have function with one side of the DNA, you need to get the other complementary side. "
   ]
  },
  {
   "cell_type": "code",
   "execution_count": null,
   "metadata": {},
   "outputs": [],
   "source": [
    "def DNA_complement(x):\n",
    "    # your code here\n",
    "    return res\n",
    "\n",
    "assert DNA_complement(\"ATTGC\") == \"TAACG\"\n",
    "assert DNA_complement(\"GTAT\") == \"CATA\""
   ]
  },
  {
   "cell_type": "markdown",
   "metadata": {},
   "source": [
    "### **Exercise 6**: Decode the Morse code\n",
    "self-explainatory, not so easy"
   ]
  },
  {
   "cell_type": "code",
   "execution_count": null,
   "metadata": {},
   "outputs": [],
   "source": [
    "MORSE = {\n",
    "    '.-': 'A', '-...': 'B', '-.-.': 'C', '-..': 'D',\n",
    "    '.': 'E', '..-.': 'F', '--.': 'G', '....': 'H',\n",
    "    '..': 'I', '.---': 'J', '-.-': 'K', '.-..': 'L',\n",
    "    '--': 'M', '-.': 'N', '---': 'O', '.--.': 'P',\n",
    "    '--.-': 'Q', '.-.': 'R', '...': 'S', '-': 'T',\n",
    "    '..-': 'U', '...-': 'V', '.--': 'W', '-..-': 'X',\n",
    "    '-.--': 'Y', '--..': 'Z', \n",
    "}\n",
    "\n",
    "def decode(x):\n",
    "    # your code here\n",
    "    return res\n",
    "\n",
    "assert decode('.... . -.--  .--- ..- -.. .') == 'HEY JUDE'\n",
    "assert decode('- .... .  --.- ..- .. -.-. -.-  -... .-. --- .-- -.  ..-. --- -..-  .--- ..- -- .--. ...  --- ...- . .-.  - .... .  .-.. .- --.. -.--  -.. --- --.') \\\n",
    "    == 'THE QUICK BROWN FOX JUMPS OVER THE LAZY DOG'"
   ]
  },
  {
   "cell_type": "markdown",
   "metadata": {},
   "source": [
    "What if we had to create an encoder instead?\n",
    "\n",
    "**HINT**: to reverse a dictionary you can do `rev_d = {v: k for k,v in d.items()}`"
   ]
  },
  {
   "cell_type": "code",
   "execution_count": null,
   "metadata": {},
   "outputs": [],
   "source": [
    "def encoder(x):\n",
    "    # your code here\n",
    "    return res\n",
    "\n",
    "assert encoder('HEY JUDE') == '.... . -.--  .--- ..- -.. .'\n",
    "assert encoder('THE QUICK BROWN FOX JUMPS OVER THE LAZY DOG') == \\\n",
    "    '- .... .  --.- ..- .. -.-. -.-  -... .-. --- .-- -.  ..-. --- -..-  .--- ..- -- .--. ...  --- ...- . .-.  - .... .  .-.. .- --.. -.--  -.. --- --.'"
   ]
  },
  {
   "cell_type": "code",
   "execution_count": null,
   "metadata": {},
   "outputs": [],
   "source": []
  }
 ],
 "metadata": {
  "kernelspec": {
   "display_name": "Python 3",
   "language": "python",
   "name": "python3"
  },
  "language_info": {
   "codemirror_mode": {
    "name": "ipython",
    "version": 3
   },
   "file_extension": ".py",
   "mimetype": "text/x-python",
   "name": "python",
   "nbconvert_exporter": "python",
   "pygments_lexer": "ipython3",
   "version": "3.7.3"
  }
 },
 "nbformat": 4,
 "nbformat_minor": 4
}
