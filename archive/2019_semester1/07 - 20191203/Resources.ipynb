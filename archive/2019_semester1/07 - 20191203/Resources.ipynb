{
 "cells": [
  {
   "cell_type": "markdown",
   "metadata": {},
   "source": [
    "# Great Learning Resources\n",
    "- **Online Execution Visualiser**:  http://www.pythontutor.com/visualize.html#mode=edit\n",
    "\n",
    "# Python Beginner Projects\n",
    "- **Tick-Tack-Toe**: game of tick tack toe for 2 players, 1 player vs pc, with pc random or planned moves.\n",
    "- **Hangman Game**: hangman game keeping track of word status, remaining attempts and letters tried.\n",
    "\n",
    "# More advanced:\n",
    "- **Tick-Tack-Toe Winner**: more advanced version of the above with infallible pc. [There are 255,168 possible games](https://www.quora.com/What-is-the-number-of-possible-ways-to-win-a-3*3-game-of-tic-tac-toe).\n",
    "- **Advent of Code**: https://adventofcode.com/ advent calendar with a new exercise every day of December in increasing order of difficulties."
   ]
  },
  {
   "cell_type": "code",
   "execution_count": 5,
   "metadata": {},
   "outputs": [
    {
     "data": {
      "text/plain": [
       "362880"
      ]
     },
     "execution_count": 5,
     "metadata": {},
     "output_type": "execute_result"
    }
   ],
   "source": [
    "from math import factorial\n",
    "factorial(9)  # 9*8*7*6*5*4*3*2*1  = 362,880\n",
    "#.. some end before filling the whole table"
   ]
  },
  {
   "cell_type": "code",
   "execution_count": null,
   "metadata": {},
   "outputs": [],
   "source": []
  }
 ],
 "metadata": {
  "kernelspec": {
   "display_name": "Python 3",
   "language": "python",
   "name": "python3"
  },
  "language_info": {
   "codemirror_mode": {
    "name": "ipython",
    "version": 3
   },
   "file_extension": ".py",
   "mimetype": "text/x-python",
   "name": "python",
   "nbconvert_exporter": "python",
   "pygments_lexer": "ipython3",
   "version": "3.7.3"
  }
 },
 "nbformat": 4,
 "nbformat_minor": 4
}
