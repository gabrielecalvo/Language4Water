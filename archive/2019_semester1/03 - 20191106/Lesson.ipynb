{
 "cells": [
  {
   "cell_type": "markdown",
   "metadata": {},
   "source": [
    "### Initial Setup\n",
    "Importing the `pandas` library and setting `matplotlib` to display plots inside the notebook"
   ]
  },
  {
   "cell_type": "code",
   "execution_count": 1,
   "metadata": {},
   "outputs": [],
   "source": [
    "import pandas as pd\n",
    "%matplotlib inline"
   ]
  },
  {
   "cell_type": "markdown",
   "metadata": {},
   "source": [
    "pd has been loaded correctly"
   ]
  },
  {
   "cell_type": "code",
   "execution_count": 2,
   "metadata": {},
   "outputs": [
    {
     "data": {
      "text/plain": [
       "<module 'pandas' from 'C:\\\\Users\\\\XPS\\\\Anaconda3\\\\lib\\\\site-packages\\\\pandas\\\\__init__.py'>"
      ]
     },
     "execution_count": 2,
     "metadata": {},
     "output_type": "execute_result"
    }
   ],
   "source": [
    "pd"
   ]
  },
  {
   "cell_type": "markdown",
   "metadata": {},
   "source": [
    "### Loading the data\n",
    "loading the Carbon Footprint dataset using `read_csv` method"
   ]
  },
  {
   "cell_type": "code",
   "execution_count": 3,
   "metadata": {},
   "outputs": [],
   "source": [
    "df = pd.read_csv('data/CarbonFootprintBreakdown.csv')"
   ]
  },
  {
   "cell_type": "markdown",
   "metadata": {},
   "source": [
    "### Exploring the data"
   ]
  },
  {
   "cell_type": "code",
   "execution_count": 4,
   "metadata": {},
   "outputs": [
    {
     "data": {
      "text/html": [
       "<div>\n",
       "<style scoped>\n",
       "    .dataframe tbody tr th:only-of-type {\n",
       "        vertical-align: middle;\n",
       "    }\n",
       "\n",
       "    .dataframe tbody tr th {\n",
       "        vertical-align: top;\n",
       "    }\n",
       "\n",
       "    .dataframe thead th {\n",
       "        text-align: right;\n",
       "    }\n",
       "</style>\n",
       "<table border=\"1\" class=\"dataframe\">\n",
       "  <thead>\n",
       "    <tr style=\"text-align: right;\">\n",
       "      <th></th>\n",
       "      <th>FeatureCode</th>\n",
       "      <th>DateCode</th>\n",
       "      <th>Measurement</th>\n",
       "      <th>Units</th>\n",
       "      <th>Value</th>\n",
       "      <th>Breakdown of Scotland's carbon footprint</th>\n",
       "    </tr>\n",
       "  </thead>\n",
       "  <tbody>\n",
       "    <tr>\n",
       "      <th>0</th>\n",
       "      <td>S92000003</td>\n",
       "      <td>2008</td>\n",
       "      <td>Count</td>\n",
       "      <td>Mt Co2Equiv</td>\n",
       "      <td>46.102</td>\n",
       "      <td>Embedded in imported goods and services</td>\n",
       "    </tr>\n",
       "    <tr>\n",
       "      <th>1</th>\n",
       "      <td>S92000003</td>\n",
       "      <td>2001</td>\n",
       "      <td>Count</td>\n",
       "      <td>Mt Co2Equiv</td>\n",
       "      <td>34.693</td>\n",
       "      <td>Embedded in imported goods and services</td>\n",
       "    </tr>\n",
       "    <tr>\n",
       "      <th>2</th>\n",
       "      <td>S92000003</td>\n",
       "      <td>2007</td>\n",
       "      <td>Count</td>\n",
       "      <td>Mt Co2Equiv</td>\n",
       "      <td>51.135</td>\n",
       "      <td>Embedded in imported goods and services</td>\n",
       "    </tr>\n",
       "    <tr>\n",
       "      <th>3</th>\n",
       "      <td>S92000003</td>\n",
       "      <td>2002</td>\n",
       "      <td>Count</td>\n",
       "      <td>Mt Co2Equiv</td>\n",
       "      <td>36.802</td>\n",
       "      <td>Embedded in imported goods and services</td>\n",
       "    </tr>\n",
       "    <tr>\n",
       "      <th>4</th>\n",
       "      <td>S92000003</td>\n",
       "      <td>2003</td>\n",
       "      <td>Count</td>\n",
       "      <td>Mt Co2Equiv</td>\n",
       "      <td>37.500</td>\n",
       "      <td>Embedded in imported goods and services</td>\n",
       "    </tr>\n",
       "  </tbody>\n",
       "</table>\n",
       "</div>"
      ],
      "text/plain": [
       "  FeatureCode  DateCode Measurement        Units   Value  \\\n",
       "0   S92000003      2008       Count  Mt Co2Equiv  46.102   \n",
       "1   S92000003      2001       Count  Mt Co2Equiv  34.693   \n",
       "2   S92000003      2007       Count  Mt Co2Equiv  51.135   \n",
       "3   S92000003      2002       Count  Mt Co2Equiv  36.802   \n",
       "4   S92000003      2003       Count  Mt Co2Equiv  37.500   \n",
       "\n",
       "  Breakdown of Scotland's carbon footprint  \n",
       "0  Embedded in imported goods and services  \n",
       "1  Embedded in imported goods and services  \n",
       "2  Embedded in imported goods and services  \n",
       "3  Embedded in imported goods and services  \n",
       "4  Embedded in imported goods and services  "
      ]
     },
     "execution_count": 4,
     "metadata": {},
     "output_type": "execute_result"
    }
   ],
   "source": [
    "df.head()  # showing the first 5 rows"
   ]
  },
  {
   "cell_type": "code",
   "execution_count": 5,
   "metadata": {},
   "outputs": [
    {
     "data": {
      "text/html": [
       "<div>\n",
       "<style scoped>\n",
       "    .dataframe tbody tr th:only-of-type {\n",
       "        vertical-align: middle;\n",
       "    }\n",
       "\n",
       "    .dataframe tbody tr th {\n",
       "        vertical-align: top;\n",
       "    }\n",
       "\n",
       "    .dataframe thead th {\n",
       "        text-align: right;\n",
       "    }\n",
       "</style>\n",
       "<table border=\"1\" class=\"dataframe\">\n",
       "  <thead>\n",
       "    <tr style=\"text-align: right;\">\n",
       "      <th></th>\n",
       "      <th>FeatureCode</th>\n",
       "      <th>DateCode</th>\n",
       "      <th>Measurement</th>\n",
       "      <th>Units</th>\n",
       "      <th>Value</th>\n",
       "      <th>Breakdown of Scotland's carbon footprint</th>\n",
       "    </tr>\n",
       "  </thead>\n",
       "  <tbody>\n",
       "    <tr>\n",
       "      <th>67</th>\n",
       "      <td>S92000003</td>\n",
       "      <td>2011</td>\n",
       "      <td>Count</td>\n",
       "      <td>Mt Co2Equiv</td>\n",
       "      <td>27.114</td>\n",
       "      <td>UK produced goods and services consumed by Sco...</td>\n",
       "    </tr>\n",
       "    <tr>\n",
       "      <th>68</th>\n",
       "      <td>S92000003</td>\n",
       "      <td>2015</td>\n",
       "      <td>Count</td>\n",
       "      <td>Mt Co2Equiv</td>\n",
       "      <td>22.698</td>\n",
       "      <td>UK produced goods and services consumed by Sco...</td>\n",
       "    </tr>\n",
       "    <tr>\n",
       "      <th>69</th>\n",
       "      <td>S92000003</td>\n",
       "      <td>1998</td>\n",
       "      <td>Count</td>\n",
       "      <td>Mt Co2Equiv</td>\n",
       "      <td>36.323</td>\n",
       "      <td>UK produced goods and services consumed by Sco...</td>\n",
       "    </tr>\n",
       "    <tr>\n",
       "      <th>70</th>\n",
       "      <td>S92000003</td>\n",
       "      <td>2013</td>\n",
       "      <td>Count</td>\n",
       "      <td>Mt Co2Equiv</td>\n",
       "      <td>25.813</td>\n",
       "      <td>UK produced goods and services consumed by Sco...</td>\n",
       "    </tr>\n",
       "    <tr>\n",
       "      <th>71</th>\n",
       "      <td>S92000003</td>\n",
       "      <td>2012</td>\n",
       "      <td>Count</td>\n",
       "      <td>Mt Co2Equiv</td>\n",
       "      <td>26.887</td>\n",
       "      <td>UK produced goods and services consumed by Sco...</td>\n",
       "    </tr>\n",
       "  </tbody>\n",
       "</table>\n",
       "</div>"
      ],
      "text/plain": [
       "   FeatureCode  DateCode Measurement        Units   Value  \\\n",
       "67   S92000003      2011       Count  Mt Co2Equiv  27.114   \n",
       "68   S92000003      2015       Count  Mt Co2Equiv  22.698   \n",
       "69   S92000003      1998       Count  Mt Co2Equiv  36.323   \n",
       "70   S92000003      2013       Count  Mt Co2Equiv  25.813   \n",
       "71   S92000003      2012       Count  Mt Co2Equiv  26.887   \n",
       "\n",
       "             Breakdown of Scotland's carbon footprint  \n",
       "67  UK produced goods and services consumed by Sco...  \n",
       "68  UK produced goods and services consumed by Sco...  \n",
       "69  UK produced goods and services consumed by Sco...  \n",
       "70  UK produced goods and services consumed by Sco...  \n",
       "71  UK produced goods and services consumed by Sco...  "
      ]
     },
     "execution_count": 5,
     "metadata": {},
     "output_type": "execute_result"
    }
   ],
   "source": [
    "df.tail()  # showing the last 5 rows"
   ]
  },
  {
   "cell_type": "code",
   "execution_count": 6,
   "metadata": {},
   "outputs": [
    {
     "data": {
      "text/plain": [
       "(72, 6)"
      ]
     },
     "execution_count": 6,
     "metadata": {},
     "output_type": "execute_result"
    }
   ],
   "source": [
    "df.shape  # showing size of the dataset (rows, columns)"
   ]
  },
  {
   "cell_type": "code",
   "execution_count": 7,
   "metadata": {},
   "outputs": [
    {
     "data": {
      "text/plain": [
       "Index(['FeatureCode', 'DateCode', 'Measurement', 'Units', 'Value',\n",
       "       'Breakdown of Scotland's carbon footprint'],\n",
       "      dtype='object')"
      ]
     },
     "execution_count": 7,
     "metadata": {},
     "output_type": "execute_result"
    }
   ],
   "source": [
    "df.columns  # showing the name of the columns"
   ]
  },
  {
   "cell_type": "code",
   "execution_count": 8,
   "metadata": {},
   "outputs": [
    {
     "data": {
      "text/plain": [
       "0     S92000003\n",
       "1     S92000003\n",
       "2     S92000003\n",
       "3     S92000003\n",
       "4     S92000003\n",
       "5     S92000003\n",
       "6     S92000003\n",
       "7     S92000003\n",
       "8     S92000003\n",
       "9     S92000003\n",
       "10    S92000003\n",
       "11    S92000003\n",
       "12    S92000003\n",
       "13    S92000003\n",
       "14    S92000003\n",
       "15    S92000003\n",
       "16    S92000003\n",
       "17    S92000003\n",
       "18    S92000003\n",
       "19    S92000003\n",
       "20    S92000003\n",
       "21    S92000003\n",
       "22    S92000003\n",
       "23    S92000003\n",
       "24    S92000003\n",
       "25    S92000003\n",
       "26    S92000003\n",
       "27    S92000003\n",
       "28    S92000003\n",
       "29    S92000003\n",
       "        ...    \n",
       "42    S92000003\n",
       "43    S92000003\n",
       "44    S92000003\n",
       "45    S92000003\n",
       "46    S92000003\n",
       "47    S92000003\n",
       "48    S92000003\n",
       "49    S92000003\n",
       "50    S92000003\n",
       "51    S92000003\n",
       "52    S92000003\n",
       "53    S92000003\n",
       "54    S92000003\n",
       "55    S92000003\n",
       "56    S92000003\n",
       "57    S92000003\n",
       "58    S92000003\n",
       "59    S92000003\n",
       "60    S92000003\n",
       "61    S92000003\n",
       "62    S92000003\n",
       "63    S92000003\n",
       "64    S92000003\n",
       "65    S92000003\n",
       "66    S92000003\n",
       "67    S92000003\n",
       "68    S92000003\n",
       "69    S92000003\n",
       "70    S92000003\n",
       "71    S92000003\n",
       "Name: FeatureCode, Length: 72, dtype: object"
      ]
     },
     "execution_count": 8,
     "metadata": {},
     "output_type": "execute_result"
    }
   ],
   "source": [
    "df['FeatureCode']  # selecting a specific column"
   ]
  },
  {
   "cell_type": "code",
   "execution_count": 9,
   "metadata": {},
   "outputs": [
    {
     "data": {
      "text/plain": [
       "array(['S92000003'], dtype=object)"
      ]
     },
     "execution_count": 9,
     "metadata": {},
     "output_type": "execute_result"
    }
   ],
   "source": [
    "df['FeatureCode'].unique()  # checking the unique values of a specific columns"
   ]
  },
  {
   "cell_type": "code",
   "execution_count": 10,
   "metadata": {},
   "outputs": [
    {
     "data": {
      "text/plain": [
       "[2015,\n",
       " 2014,\n",
       " 2013,\n",
       " 2012,\n",
       " 2011,\n",
       " 2010,\n",
       " 2009,\n",
       " 2008,\n",
       " 2007,\n",
       " 2006,\n",
       " 2005,\n",
       " 2004,\n",
       " 2003,\n",
       " 2002,\n",
       " 2001,\n",
       " 2000,\n",
       " 1999,\n",
       " 1998]"
      ]
     },
     "execution_count": 10,
     "metadata": {},
     "output_type": "execute_result"
    }
   ],
   "source": [
    "df['DateCode'].unique()  # taking the unique values of column DateCode\n",
    "sorted(df['DateCode'].unique())  # .. + sorting them in default (increasing) order\n",
    "sorted(df['DateCode'].unique(), reverse=True)  # .. + sorting the in reverse (decreasing) order"
   ]
  },
  {
   "cell_type": "markdown",
   "metadata": {},
   "source": [
    "### Simple plotting of the data"
   ]
  },
  {
   "cell_type": "code",
   "execution_count": 11,
   "metadata": {},
   "outputs": [
    {
     "data": {
      "text/plain": [
       "<matplotlib.axes._subplots.AxesSubplot at 0x1bea16e3fd0>"
      ]
     },
     "execution_count": 11,
     "metadata": {},
     "output_type": "execute_result"
    },
    {
     "data": {
      "image/png": "[encoded data removed]",
      "text/plain": [
       "<Figure size 432x288 with 1 Axes>"
      ]
     },
     "metadata": {
      "needs_background": "light"
     },
     "output_type": "display_data"
    }
   ],
   "source": [
    "df['Value'].plot.line()\n",
    "# same as `df['Value'].plot()`, by default it plots a line"
   ]
  },
  {
   "cell_type": "code",
   "execution_count": 12,
   "metadata": {},
   "outputs": [
    {
     "data": {
      "text/plain": [
       "<matplotlib.axes._subplots.AxesSubplot at 0x1bea17e2da0>"
      ]
     },
     "execution_count": 12,
     "metadata": {},
     "output_type": "execute_result"
    },
    {
     "data": {
      "image/png": "[encoded data removed]",
      "text/plain": [
       "<Figure size 432x288 with 1 Axes>"
      ]
     },
     "metadata": {
      "needs_background": "light"
     },
     "output_type": "display_data"
    }
   ],
   "source": [
    "df.plot.scatter(x='DateCode', y='Value', grid=True)  #grid=True adds the gridlines"
   ]
  },
  {
   "cell_type": "markdown",
   "metadata": {},
   "source": [
    "### Some data-munging\n",
    "Let's colorcode the data by breakdown:\n",
    "- grab all the unique breakdown values\n",
    "- creating a mapping between them and colors (using a dictionary)\n",
    "- creating a function that uses the dictionary to implement the mapping\n",
    "- applying the mapping function to create a `color` column"
   ]
  },
  {
   "cell_type": "code",
   "execution_count": 13,
   "metadata": {},
   "outputs": [
    {
     "data": {
      "text/plain": [
       "array(['Embedded in imported goods and services',\n",
       "       'Directly produced by Scottish residents',\n",
       "       'Total Carbon Footprint',\n",
       "       'UK produced goods and services consumed by Scottish residents'],\n",
       "      dtype=object)"
      ]
     },
     "execution_count": 13,
     "metadata": {},
     "output_type": "execute_result"
    }
   ],
   "source": [
    "df[\"Breakdown of Scotland's carbon footprint\"].unique()"
   ]
  },
  {
   "cell_type": "code",
   "execution_count": 14,
   "metadata": {},
   "outputs": [],
   "source": [
    "mapping_dictionary = {\n",
    "    'Embedded in imported goods and services': 'blue',\n",
    "    'Directly produced by Scottish residents': 'red',\n",
    "    'Total Carbon Footprint': 'yellow',\n",
    "    'UK produced goods and services consumed by Scottish residents': 'green'       \n",
    "}"
   ]
  },
  {
   "cell_type": "code",
   "execution_count": 15,
   "metadata": {},
   "outputs": [
    {
     "data": {
      "text/plain": [
       "'red'"
      ]
     },
     "execution_count": 15,
     "metadata": {},
     "output_type": "execute_result"
    }
   ],
   "source": [
    "# example use\n",
    "mapping_dictionary['Directly produced by Scottish residents']"
   ]
  },
  {
   "cell_type": "code",
   "execution_count": 16,
   "metadata": {},
   "outputs": [],
   "source": [
    "def colorise(n):\n",
    "    mapping_dictionary = {'Embedded in imported goods and services': 'blue',\n",
    "       'Directly produced by Scottish residents': 'red',\n",
    "       'Total Carbon Footprint': 'yellow',\n",
    "       'UK produced goods and services consumed by Scottish residents': 'green'       \n",
    "    }\n",
    "    return mapping_dictionary[n]"
   ]
  },
  {
   "cell_type": "code",
   "execution_count": 17,
   "metadata": {},
   "outputs": [
    {
     "data": {
      "text/plain": [
       "'yellow'"
      ]
     },
     "execution_count": 17,
     "metadata": {},
     "output_type": "execute_result"
    }
   ],
   "source": [
    "# example use\n",
    "colorise('Total Carbon Footprint')"
   ]
  },
  {
   "cell_type": "code",
   "execution_count": 18,
   "metadata": {},
   "outputs": [],
   "source": [
    "# creating a `color` column made by applying the `colorise` function to the `breakdown` column\n",
    "df['color'] = df[\"Breakdown of Scotland's carbon footprint\"].apply(colorise)"
   ]
  },
  {
   "cell_type": "code",
   "execution_count": 19,
   "metadata": {},
   "outputs": [
    {
     "data": {
      "text/html": [
       "<div>\n",
       "<style scoped>\n",
       "    .dataframe tbody tr th:only-of-type {\n",
       "        vertical-align: middle;\n",
       "    }\n",
       "\n",
       "    .dataframe tbody tr th {\n",
       "        vertical-align: top;\n",
       "    }\n",
       "\n",
       "    .dataframe thead th {\n",
       "        text-align: right;\n",
       "    }\n",
       "</style>\n",
       "<table border=\"1\" class=\"dataframe\">\n",
       "  <thead>\n",
       "    <tr style=\"text-align: right;\">\n",
       "      <th></th>\n",
       "      <th>FeatureCode</th>\n",
       "      <th>DateCode</th>\n",
       "      <th>Measurement</th>\n",
       "      <th>Units</th>\n",
       "      <th>Value</th>\n",
       "      <th>Breakdown of Scotland's carbon footprint</th>\n",
       "      <th>color</th>\n",
       "    </tr>\n",
       "  </thead>\n",
       "  <tbody>\n",
       "    <tr>\n",
       "      <th>0</th>\n",
       "      <td>S92000003</td>\n",
       "      <td>2008</td>\n",
       "      <td>Count</td>\n",
       "      <td>Mt Co2Equiv</td>\n",
       "      <td>46.102</td>\n",
       "      <td>Embedded in imported goods and services</td>\n",
       "      <td>blue</td>\n",
       "    </tr>\n",
       "    <tr>\n",
       "      <th>1</th>\n",
       "      <td>S92000003</td>\n",
       "      <td>2001</td>\n",
       "      <td>Count</td>\n",
       "      <td>Mt Co2Equiv</td>\n",
       "      <td>34.693</td>\n",
       "      <td>Embedded in imported goods and services</td>\n",
       "      <td>blue</td>\n",
       "    </tr>\n",
       "    <tr>\n",
       "      <th>2</th>\n",
       "      <td>S92000003</td>\n",
       "      <td>2007</td>\n",
       "      <td>Count</td>\n",
       "      <td>Mt Co2Equiv</td>\n",
       "      <td>51.135</td>\n",
       "      <td>Embedded in imported goods and services</td>\n",
       "      <td>blue</td>\n",
       "    </tr>\n",
       "    <tr>\n",
       "      <th>3</th>\n",
       "      <td>S92000003</td>\n",
       "      <td>2002</td>\n",
       "      <td>Count</td>\n",
       "      <td>Mt Co2Equiv</td>\n",
       "      <td>36.802</td>\n",
       "      <td>Embedded in imported goods and services</td>\n",
       "      <td>blue</td>\n",
       "    </tr>\n",
       "    <tr>\n",
       "      <th>4</th>\n",
       "      <td>S92000003</td>\n",
       "      <td>2003</td>\n",
       "      <td>Count</td>\n",
       "      <td>Mt Co2Equiv</td>\n",
       "      <td>37.500</td>\n",
       "      <td>Embedded in imported goods and services</td>\n",
       "      <td>blue</td>\n",
       "    </tr>\n",
       "  </tbody>\n",
       "</table>\n",
       "</div>"
      ],
      "text/plain": [
       "  FeatureCode  DateCode Measurement        Units   Value  \\\n",
       "0   S92000003      2008       Count  Mt Co2Equiv  46.102   \n",
       "1   S92000003      2001       Count  Mt Co2Equiv  34.693   \n",
       "2   S92000003      2007       Count  Mt Co2Equiv  51.135   \n",
       "3   S92000003      2002       Count  Mt Co2Equiv  36.802   \n",
       "4   S92000003      2003       Count  Mt Co2Equiv  37.500   \n",
       "\n",
       "  Breakdown of Scotland's carbon footprint color  \n",
       "0  Embedded in imported goods and services  blue  \n",
       "1  Embedded in imported goods and services  blue  \n",
       "2  Embedded in imported goods and services  blue  \n",
       "3  Embedded in imported goods and services  blue  \n",
       "4  Embedded in imported goods and services  blue  "
      ]
     },
     "execution_count": 19,
     "metadata": {},
     "output_type": "execute_result"
    }
   ],
   "source": [
    "#checking result\n",
    "df.head()"
   ]
  },
  {
   "cell_type": "code",
   "execution_count": 20,
   "metadata": {},
   "outputs": [
    {
     "data": {
      "text/html": [
       "<div>\n",
       "<style scoped>\n",
       "    .dataframe tbody tr th:only-of-type {\n",
       "        vertical-align: middle;\n",
       "    }\n",
       "\n",
       "    .dataframe tbody tr th {\n",
       "        vertical-align: top;\n",
       "    }\n",
       "\n",
       "    .dataframe thead th {\n",
       "        text-align: right;\n",
       "    }\n",
       "</style>\n",
       "<table border=\"1\" class=\"dataframe\">\n",
       "  <thead>\n",
       "    <tr style=\"text-align: right;\">\n",
       "      <th></th>\n",
       "      <th>FeatureCode</th>\n",
       "      <th>DateCode</th>\n",
       "      <th>Measurement</th>\n",
       "      <th>Units</th>\n",
       "      <th>Value</th>\n",
       "      <th>Breakdown of Scotland's carbon footprint</th>\n",
       "      <th>color</th>\n",
       "    </tr>\n",
       "  </thead>\n",
       "  <tbody>\n",
       "    <tr>\n",
       "      <th>67</th>\n",
       "      <td>S92000003</td>\n",
       "      <td>2011</td>\n",
       "      <td>Count</td>\n",
       "      <td>Mt Co2Equiv</td>\n",
       "      <td>27.114</td>\n",
       "      <td>UK produced goods and services consumed by Sco...</td>\n",
       "      <td>green</td>\n",
       "    </tr>\n",
       "    <tr>\n",
       "      <th>68</th>\n",
       "      <td>S92000003</td>\n",
       "      <td>2015</td>\n",
       "      <td>Count</td>\n",
       "      <td>Mt Co2Equiv</td>\n",
       "      <td>22.698</td>\n",
       "      <td>UK produced goods and services consumed by Sco...</td>\n",
       "      <td>green</td>\n",
       "    </tr>\n",
       "    <tr>\n",
       "      <th>69</th>\n",
       "      <td>S92000003</td>\n",
       "      <td>1998</td>\n",
       "      <td>Count</td>\n",
       "      <td>Mt Co2Equiv</td>\n",
       "      <td>36.323</td>\n",
       "      <td>UK produced goods and services consumed by Sco...</td>\n",
       "      <td>green</td>\n",
       "    </tr>\n",
       "    <tr>\n",
       "      <th>70</th>\n",
       "      <td>S92000003</td>\n",
       "      <td>2013</td>\n",
       "      <td>Count</td>\n",
       "      <td>Mt Co2Equiv</td>\n",
       "      <td>25.813</td>\n",
       "      <td>UK produced goods and services consumed by Sco...</td>\n",
       "      <td>green</td>\n",
       "    </tr>\n",
       "    <tr>\n",
       "      <th>71</th>\n",
       "      <td>S92000003</td>\n",
       "      <td>2012</td>\n",
       "      <td>Count</td>\n",
       "      <td>Mt Co2Equiv</td>\n",
       "      <td>26.887</td>\n",
       "      <td>UK produced goods and services consumed by Sco...</td>\n",
       "      <td>green</td>\n",
       "    </tr>\n",
       "  </tbody>\n",
       "</table>\n",
       "</div>"
      ],
      "text/plain": [
       "   FeatureCode  DateCode Measurement        Units   Value  \\\n",
       "67   S92000003      2011       Count  Mt Co2Equiv  27.114   \n",
       "68   S92000003      2015       Count  Mt Co2Equiv  22.698   \n",
       "69   S92000003      1998       Count  Mt Co2Equiv  36.323   \n",
       "70   S92000003      2013       Count  Mt Co2Equiv  25.813   \n",
       "71   S92000003      2012       Count  Mt Co2Equiv  26.887   \n",
       "\n",
       "             Breakdown of Scotland's carbon footprint  color  \n",
       "67  UK produced goods and services consumed by Sco...  green  \n",
       "68  UK produced goods and services consumed by Sco...  green  \n",
       "69  UK produced goods and services consumed by Sco...  green  \n",
       "70  UK produced goods and services consumed by Sco...  green  \n",
       "71  UK produced goods and services consumed by Sco...  green  "
      ]
     },
     "execution_count": 20,
     "metadata": {},
     "output_type": "execute_result"
    }
   ],
   "source": [
    "df.tail()"
   ]
  },
  {
   "cell_type": "code",
   "execution_count": 21,
   "metadata": {},
   "outputs": [
    {
     "data": {
      "text/plain": [
       "<matplotlib.axes._subplots.AxesSubplot at 0x1bea185b2b0>"
      ]
     },
     "execution_count": 21,
     "metadata": {},
     "output_type": "execute_result"
    },
    {
     "data": {
      "image/png": "[encoded data removed]",
      "text/plain": [
       "<Figure size 432x288 with 1 Axes>"
      ]
     },
     "metadata": {
      "needs_background": "light"
     },
     "output_type": "display_data"
    }
   ],
   "source": [
    "# passing the new column using the coloring parameter `c`\n",
    "df.plot.scatter(x='DateCode', y='Value', c=df['color'], grid=True)"
   ]
  },
  {
   "cell_type": "code",
   "execution_count": null,
   "metadata": {},
   "outputs": [],
   "source": []
  },
  {
   "cell_type": "code",
   "execution_count": null,
   "metadata": {},
   "outputs": [],
   "source": []
  }
 ],
 "metadata": {
  "kernelspec": {
   "display_name": "Python 3",
   "language": "python",
   "name": "python3"
  },
  "language_info": {
   "codemirror_mode": {
    "name": "ipython",
    "version": 3
   },
   "file_extension": ".py",
   "mimetype": "text/x-python",
   "name": "python",
   "nbconvert_exporter": "python",
   "pygments_lexer": "ipython3",
   "version": "3.7.3"
  }
 },
 "nbformat": 4,
 "nbformat_minor": 4
}
