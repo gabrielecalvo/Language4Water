{
 "cells": [
  {
   "cell_type": "markdown",
   "metadata": {},
   "source": [
    "# Hangman\n",
    "## Structuring the problem\n",
    "\n",
    "Our program needs to:\n",
    "- get a word (secret input or random from file)\n",
    "- show a string of placeholders for each letter of the word\n",
    "- enter a loop with a set number of attempts possible\n",
    "    - get a letter guess\n",
    "    - validate the guessed letter (valid letter, not guessed before..)\n",
    "    - if correct, shown each instance of it instead of the relative placeholders\n",
    "    - if not, decrease the number of attempts\n",
    "    - check if the word has been fully uncovered, if so send a congratulation message\n",
    "    - check if there are no more attempts, if so send a consolation message"
   ]
  },
  {
   "cell_type": "code",
   "execution_count": null,
   "metadata": {},
   "outputs": [],
   "source": [
    "word = 'python'"
   ]
  },
  {
   "cell_type": "code",
   "execution_count": null,
   "metadata": {},
   "outputs": [],
   "source": [
    "previously_guessed_letters = []\n",
    "allowed_attempts = 5\n",
    "attempts_left = allowed_attempts\n",
    "\n",
    "while attempts_left > 0:\n",
    "    guessed_letter = input('Give me a letter [a-z]: ')\n",
    "    \n",
    "    showing = ''\n",
    "    previously_guessed_letters.append(guessed_letter)\n",
    "    for actual_letter in word:\n",
    "        if actual_letter in previously_guessed_letters:\n",
    "            showing += actual_letter\n",
    "        else:\n",
    "            showing += '-'\n",
    "    \n",
    "    correcty_guessed = [i for i in previously_guessed_letters if i in word]\n",
    "    incorrecty_guessed = [i for i in previously_guessed_letters if i not in word]\n",
    "    attempts_left = allowed_attempts - len(incorrecty_guessed)\n",
    "\n",
    "    print(showing)\n",
    "    print('attempts left: ', attempts_left)\n",
    "    print('correctly guessed: ', correcty_guessed)\n",
    "    print('incorrectly guessed: ', incorrecty_guessed)\n",
    "    print('='*100 + '\\n\\n')"
   ]
  },
  {
   "cell_type": "code",
   "execution_count": null,
   "metadata": {},
   "outputs": [],
   "source": []
  },
  {
   "cell_type": "code",
   "execution_count": null,
   "metadata": {},
   "outputs": [],
   "source": []
  }
 ],
 "metadata": {
  "kernelspec": {
   "display_name": "Python 3",
   "language": "python",
   "name": "python3"
  },
  "language_info": {
   "codemirror_mode": {
    "name": "ipython",
    "version": 3
   },
   "file_extension": ".py",
   "mimetype": "text/x-python",
   "name": "python",
   "nbconvert_exporter": "python",
   "pygments_lexer": "ipython3",
   "version": "3.7.3"
  }
 },
 "nbformat": 4,
 "nbformat_minor": 4
}
