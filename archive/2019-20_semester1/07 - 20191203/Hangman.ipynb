{
 "cells": [
  {
   "cell_type": "markdown",
   "metadata": {},
   "source": [
    "# Hangman\n",
    "## Structuring the problem\n",
    "\n",
    "Our program needs to:\n",
    "- get a word (secret input or random from file)\n",
    "- show a string of placeholders for each letter of the word\n",
    "- enter a loop with a set number of attempts possible\n",
    "    - get a letter guess\n",
    "    - validate the guessed letter (valid letter, not guessed before..)\n",
    "    - if correct, shown each instance of it instead of the relative placeholders\n",
    "    - if not, decrease the number of attempts\n",
    "    - check if the word has been fully uncovered, if so send a congratulation message\n",
    "    - check if there are no more attempts, if so send a consolation message"
   ]
  }
 ],
 "metadata": {
  "kernelspec": {
   "display_name": "Python 3",
   "language": "python",
   "name": "python3"
  },
  "language_info": {
   "codemirror_mode": {
    "name": "ipython",
    "version": 3
   },
   "file_extension": ".py",
   "mimetype": "text/x-python",
   "name": "python",
   "nbconvert_exporter": "python",
   "pygments_lexer": "ipython3",
   "version": "3.7.3"
  }
 },
 "nbformat": 4,
 "nbformat_minor": 4
}
