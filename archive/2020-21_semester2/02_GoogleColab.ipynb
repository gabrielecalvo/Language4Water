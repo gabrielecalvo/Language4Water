{
 "cells": [
  {
   "cell_type": "markdown",
   "metadata": {
    "id": "96fh5aGjb_aL"
   },
   "source": [
    "# Google Colab\n",
    "- Composed of **cells** tha can contain: code or documentation (text + image + formulas + ...)\n",
    "- Cells executed in same runtime (variable in a cell accessable in others)\n",
    "- Colab Notebook runs in the cloud (= no setup needed on your machine)\n",
    "\n",
    "short explanatory video [here](https://youtu.be/inN8seMm7UI?t=27)"
   ]
  },
  {
   "cell_type": "code",
   "execution_count": 1,
   "metadata": {
    "colab": {
     "base_uri": "https://localhost:8080/"
    },
    "executionInfo": {
     "elapsed": 1246,
     "status": "ok",
     "timestamp": 1613593480966,
     "user": {
      "displayName": "Gabriele Calvo",
      "photoUrl": "",
      "userId": "05823673623161676158"
     },
     "user_tz": 0
    },
    "id": "twGPoskdb_ah",
    "outputId": "a17b5c9d-acbe-4767-b43e-2a83074be892"
   },
   "outputs": [
    {
     "data": {
      "text/plain": [
       "4"
      ]
     },
     "execution_count": 1,
     "metadata": {},
     "output_type": "execute_result"
    }
   ],
   "source": [
    "# example of code\n",
    "2 + 2"
   ]
  },
  {
   "cell_type": "markdown",
   "metadata": {
    "id": "reBi29Gob_as"
   },
   "source": [
    "# Documentation\n",
    "\n",
    "## this is markdown text\n",
    "\n",
    "Which is *simply* text that can be styled **easily**\n",
    "\n",
    "### - You add formulas..\n",
    "$$\n",
    "\\int_0^\\infty x^2 dx\n",
    "$$\n",
    "\n",
    "### - Images..\n",
    "![python image](https://raw.githubusercontent.com/gabrielecalvo/Language4Water/master/assets/02_python.png)\n",
    "\n",
    "### - Links\n",
    "[python.org](python.org)..\n",
    "\n",
    "### - and more.."
   ]
  },
  {
   "cell_type": "markdown",
   "metadata": {
    "id": "Vn2CUFOJb_av"
   },
   "source": [
    "# Sharing\n",
    "I can send you the link to this (and other) notebooks:\n",
    "\n",
    "https://drive.google.com/file/d/1N7awdCPatvoXs0XDtCpYr8JLOhUeT7rN/view?usp=sharing\n",
    "\n",
    "When you click on the link, you can view, edit and run ***a copy*** of this notebook.\n",
    "\n",
    "*If you want to keep your changes*, remember to **save it** to your google drive or to **download it**."
   ]
  },
  {
   "cell_type": "markdown",
   "metadata": {
    "id": "qibNIVrEb_ay"
   },
   "source": [
    "# Demo\n",
    "- add cell\n",
    "- run cell (shortcut shift+enter or ctrl+enter)\n",
    "- add text\n",
    "- move cell\n",
    "- cut/paste cell\n",
    "- undo cell operation\n",
    "- find (& replace)\n",
    "\n",
    "the rest, we'll learn as we go"
   ]
  },
  {
   "cell_type": "code",
   "execution_count": 2,
   "metadata": {
    "colab": {
     "base_uri": "https://localhost:8080/"
    },
    "executionInfo": {
     "elapsed": 622,
     "status": "ok",
     "timestamp": 1612215261657,
     "user": {
      "displayName": "Gabriele Calvo",
      "photoUrl": "",
      "userId": "05823673623161676158"
     },
     "user_tz": 0
    },
    "id": "qfFLlRf6gejx",
    "outputId": "14bcbd4f-fd0d-4fa4-d837-1b299f8792a1"
   },
   "outputs": [
    {
     "name": "stdout",
     "output_type": "stream",
     "text": [
      "how are you ?\n"
     ]
    }
   ],
   "source": [
    "print(\"how are you ?\")"
   ]
  }
 ],
 "metadata": {
  "colab": {
   "collapsed_sections": [],
   "name": "02_GoogleColab.ipynb",
   "provenance": []
  },
  "kernelspec": {
   "display_name": "Python 3",
   "language": "python",
   "name": "python3"
  },
  "language_info": {
   "codemirror_mode": {
    "name": "ipython",
    "version": 3
   },
   "file_extension": ".py",
   "mimetype": "text/x-python",
   "name": "python",
   "nbconvert_exporter": "python",
   "pygments_lexer": "ipython3",
   "version": "3.9.1"
  }
 },
 "nbformat": 4,
 "nbformat_minor": 4
}
