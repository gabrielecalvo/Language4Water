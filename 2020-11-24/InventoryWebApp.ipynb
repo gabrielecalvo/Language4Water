{
 "cells": [
  {
   "cell_type": "code",
   "execution_count": 2,
   "metadata": {},
   "outputs": [],
   "source": [
    "import pandas as pd\n",
    "import ipywidgets as widgets\n",
    "import base64"
   ]
  },
  {
   "cell_type": "code",
   "execution_count": 4,
   "metadata": {},
   "outputs": [],
   "source": [
    "# reading csv\n",
    "df = pd.read_csv('https://drive.google.com/uc?export=download&id=1ITLYTy36uuZTALDX42jZiCTn8LZV-YEj')"
   ]
  },
  {
   "cell_type": "code",
   "execution_count": 6,
   "metadata": {},
   "outputs": [],
   "source": [
    "item_tot_stock = df.groupby('item_id').stock_quantity.sum()\n",
    "low_stock_items = item_tot_stock[item_tot_stock<5].index\n",
    "mask = df.item_id.isin(low_stock_items)\n",
    "low_stock_df = df[mask]\n",
    "\n",
    "# low_stock_df"
   ]
  },
  {
   "cell_type": "code",
   "execution_count": 8,
   "metadata": {},
   "outputs": [],
   "source": [
    "def render_boxes_content(item_group):\n",
    "    item_id = item_group.item_id.iloc[0]  # first (all the same)\n",
    "    image_url = item_group.image.iloc[0]  # first (all the same)\n",
    "    \n",
    "    # left column\n",
    "    col1_html = f'<h1>{item_id}</h1><br><img src=\"{image_url}\"></img>'\n",
    "    column1 = widgets.HTML(col1_html)\n",
    "\n",
    "    # right column\n",
    "    col2_rows = []\n",
    "    for _, row in item_group.iterrows():\n",
    "        name = f\"{row.category} {row.color_long} {row['size']}\"\n",
    "        col2_row = widgets.HBox([\n",
    "          widgets.Label(name), \n",
    "          widgets.IntText(row.stock_quantity),\n",
    "          widgets.Label(str(row.price)),\n",
    "        ])\n",
    "        col2_rows.append(col2_row)\n",
    "\n",
    "    column2 = widgets.VBox(col2_rows, layout=widgets.Layout(padding='30px'))\n",
    "\n",
    "    # combining both\n",
    "    return widgets.HBox([column1, column2])\n",
    "\n",
    "# render_boxes_content(boxes_content[15])"
   ]
  },
  {
   "cell_type": "code",
   "execution_count": 10,
   "metadata": {},
   "outputs": [],
   "source": [
    "class InventoryDashboard:\n",
    "    def __init__(self, df):\n",
    "        self.df = df.copy()\n",
    "        self.out = widgets.Output()\n",
    "        display(self.out)\n",
    "        self.start_idx = 0\n",
    "        self.page_step = 2\n",
    "        self.boxes = []\n",
    "        \n",
    "        self.define_header()\n",
    "        self.render()\n",
    "        \n",
    "    def get_n_group(self, n):\n",
    "        item_id = self.df.item_id.unique()[n]\n",
    "        return self.df.groupby('item_id').get_group(item_id)\n",
    "        \n",
    "    def store_values(self):\n",
    "        for box in dash.boxes:\n",
    "            values = []\n",
    "            for row in box.children[1].children:\n",
    "                values.append(row.children[1].value)\n",
    "            self.df.loc[box.idx, 'stock_quantity'] = values\n",
    "\n",
    "    def define_header(self):\n",
    "        prev_btn = widgets.Button(description=\"Prev\")\n",
    "        next_btn = widgets.Button(description=\"Next\")\n",
    "        export_btn = widgets.Button(description=\"Export Order\", button_style='danger')\n",
    "        page_idx_lbl = widgets.Label(f\"{self.start_idx} - {self.start_idx+self.page_step}\")\n",
    "\n",
    "        def _prev(b):\n",
    "            self.store_values()\n",
    "            self.start_idx -= self.page_step\n",
    "            if self.start_idx < 0: \n",
    "                self.start_idx = 0\n",
    "            page_idx_lbl.value = f\"{self.start_idx} - {self.start_idx+self.page_step}\"\n",
    "            self.render()\n",
    "        def _next(b):\n",
    "            self.store_values()\n",
    "            self.start_idx += self.page_step\n",
    "            page_idx_lbl.value = f\"{self.start_idx} - {self.start_idx+self.page_step}\"\n",
    "            self.render()\n",
    "        def _export(b):\n",
    "            self.store_values()\n",
    "            self.create_download_url()\n",
    "\n",
    "        prev_btn.on_click(_prev)\n",
    "        next_btn.on_click(_next)\n",
    "        export_btn.on_click(_export)\n",
    "        self.header = widgets.HBox([prev_btn, next_btn, export_btn, page_idx_lbl])\n",
    "\n",
    "    def get_rows(self):\n",
    "        self.boxes = []\n",
    "        for n in range(self.start_idx, self.start_idx+self.page_step):\n",
    "            item_group = self.get_n_group(n)\n",
    "            box = render_boxes_content(item_group)\n",
    "            box.idx = item_group.index\n",
    "            self.boxes.append(box)\n",
    "\n",
    "        vbox_content = [self.header] + self.boxes\n",
    "        return widgets.VBox(vbox_content)\n",
    "\n",
    "    def render(self):\n",
    "        self.out.clear_output(wait=True)\n",
    "        with self.out:\n",
    "            display(self.get_rows())\n",
    "            \n",
    "    def create_download_url(self):\n",
    "        self.out.clear_output(wait=True)\n",
    "        dwld = widgets.HTML(value='')\n",
    "        \n",
    "        fp = 'export.csv'\n",
    "        self.df.to_csv(fp)\n",
    "        \n",
    "        with open(fp, \"rb\") as f:\n",
    "            data = f.read()\n",
    "        b64 = base64.b64encode(data)\n",
    "        payload = b64.decode()\n",
    "\n",
    "        dwld.value = f'<a download=\"{fp}\" href=\"data:text/csv;base64,{payload}\" target=\"_blank\">Click here to download</a>'\n",
    "        \n",
    "        with self.out:\n",
    "            display(dwld)"
   ]
  },
  {
   "cell_type": "code",
   "execution_count": 12,
   "metadata": {},
   "outputs": [
    {
     "output_type": "display_data",
     "data": {
      "text/plain": "Output()",
      "application/vnd.jupyter.widget-view+json": {
       "version_major": 2,
       "version_minor": 0,
       "model_id": "eaa3c129134e43ed865a8140d4378ecf"
      }
     },
     "metadata": {}
    }
   ],
   "source": [
    "dash = InventoryDashboard(df=low_stock_df)"
   ]
  },
  {
   "cell_type": "code",
   "execution_count": null,
   "metadata": {},
   "outputs": [],
   "source": []
  }
 ],
 "metadata": {
  "kernelspec": {
   "display_name": "Python 3",
   "language": "python",
   "name": "python3"
  },
  "language_info": {
   "codemirror_mode": {
    "name": "ipython",
    "version": 3
   },
   "file_extension": ".py",
   "mimetype": "text/x-python",
   "name": "python",
   "nbconvert_exporter": "python",
   "pygments_lexer": "ipython3",
   "version": "3.8.3-final"
  }
 },
 "nbformat": 4,
 "nbformat_minor": 4
}