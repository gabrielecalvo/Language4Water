{
 "cells": [
  {
   "cell_type": "code",
   "execution_count": null,
   "metadata": {},
   "outputs": [],
   "source": [
    "# importing the standard python module \"random\"\n",
    "import random "
   ]
  },
  {
   "cell_type": "code",
   "execution_count": null,
   "metadata": {},
   "outputs": [],
   "source": [
    "# defining a list of cards\n",
    "cards = [1,2,3,4,5,6,7,8,9,10,11,12,13]  "
   ]
  },
  {
   "cell_type": "code",
   "execution_count": null,
   "metadata": {},
   "outputs": [],
   "source": [
    "# get a random number\n",
    "first_number = random.choice(cards)\n",
    "print(first_number)\n",
    "\n",
    "# ask for user's guess\n",
    "guess = input(\"Higher or Lower? (H or L): \")\n",
    "\n",
    "# get a new random number\n",
    "second_number = random.choice(cards)\n",
    "print(second_number)\n",
    "\n",
    "# check if guess is correct\n",
    "if (guess == \"H\" and second_number > first_number) or (guess == \"L\" and second_number < first_number):\n",
    "    print(\"win\")\n",
    "else:\n",
    "    print(\"lose\")"
   ]
  },
  {
   "cell_type": "markdown",
   "metadata": {},
   "source": [
    "# Exercises\n",
    " - allow lowercase letters\n",
    " - print error message if letter is not H or L\n",
    " - outer loop to play a defined number of times"
   ]
  },
  {
   "cell_type": "code",
   "execution_count": null,
   "metadata": {},
   "outputs": [],
   "source": []
  }
 ],
 "metadata": {
  "kernelspec": {
   "display_name": "Python 3",
   "language": "python",
   "name": "python3"
  },
  "language_info": {
   "codemirror_mode": {
    "name": "ipython",
    "version": 3
   },
   "file_extension": ".py",
   "mimetype": "text/x-python",
   "name": "python",
   "nbconvert_exporter": "python",
   "pygments_lexer": "ipython3",
   "version": "3.7.6"
  }
 },
 "nbformat": 4,
 "nbformat_minor": 4
}
