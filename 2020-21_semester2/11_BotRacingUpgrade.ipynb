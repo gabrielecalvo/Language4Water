{
 "cells": [
  {
   "cell_type": "markdown",
   "id": "dutch-belief",
   "metadata": {},
   "source": [
    "# Upgraded Racing Game"
   ]
  },
  {
   "cell_type": "code",
   "execution_count": 1,
   "id": "planned-nurse",
   "metadata": {},
   "outputs": [],
   "source": [
    "import random\n",
    "    \n",
    "class Game:\n",
    "    n_squares = 10\n",
    "    winner = None\n",
    "\n",
    "    def __init__(self, bots, verbose=False):\n",
    "        self.bots = bots\n",
    "        self.verbose = verbose\n",
    "\n",
    "        self._set_starting_positions()  # calling the method that will reset all positions\n",
    "        \n",
    "    def _set_starting_positions(self):  \n",
    "        for b in self.bots:  # go through every bot in the competition and set the position to 0\n",
    "            b.position = 0\n",
    "        \n",
    "    def show_board(self):\n",
    "        print(\"=\" * 30)\n",
    "        board = {i: [] for i in range(self.n_squares + 1)}\n",
    "        for bot in self.bots:\n",
    "            board[bot.position].append(bot)\n",
    "\n",
    "        for square, bots_in_square in board.items():\n",
    "            print(f\"{square}: {bots_in_square}\")\n",
    "\n",
    "    def play_round(self):\n",
    "        if self.winner is None:\n",
    "            random.shuffle(self.bots)\n",
    "            if self.verbose: \n",
    "                print(self.bots)\n",
    "                \n",
    "            for bot in self.bots:\n",
    "                self._play_bot(bot)\n",
    "                if self.winner:\n",
    "                    break\n",
    "                    \n",
    "#             for bot in bots:\n",
    "#                 bot.direction = 1\n",
    "\n",
    "        if self.verbose:\n",
    "            if self.winner:\n",
    "                print(f\"========== Race Over, WINNER: {self.winner} ========== \")\n",
    "            self.show_board()\n",
    "\n",
    "    def _play_bot(self, bot):\n",
    "        bot_position_dictionary = {b.name: b.position for b in self.bots}\n",
    "        \n",
    "        action_str = bot.play(bot_position_dictionary)\n",
    "        if action_str == \"walk\":\n",
    "            pos_from, pos_to = bot.walk()\n",
    "            if self.verbose: \n",
    "                print(f\"{str(bot):<15} walked from {pos_from} to {pos_to}\")\n",
    "        elif action_str == \"sabotage\":\n",
    "            sabotaged_bots = bot.sabotage(self.bots)\n",
    "            if self.verbose: \n",
    "                print(f\"{str(bot):<15} sabotaged {sabotaged_bots}\")\n",
    "        elif action_str == \"faceforward\":\n",
    "            bot.direction = 1\n",
    "            if self.verbose: \n",
    "                print(f\"{str(bot):<15} faced forward\")\n",
    "            \n",
    "        if bot.position >= self.n_squares:\n",
    "            self.winner = bot\n",
    "    \n",
    "class Bot:\n",
    "    position = 0\n",
    "    direction = 1\n",
    "\n",
    "    def __init__(self, name, strategy):\n",
    "        self.name = name\n",
    "        self.strategy = strategy\n",
    "\n",
    "    def __repr__(self):\n",
    "        return f\"{self.name}\"\n",
    "\n",
    "    def walk(self):\n",
    "        from_position = self.position\n",
    "        self.position = max(0, self.position+self.direction)\n",
    "        to_position = self.position\n",
    "        return from_position, to_position\n",
    "\n",
    "    def sabotage(self, bots):\n",
    "        sabotaged_bots = []\n",
    "        for bot in bots:\n",
    "            if bot.position == self.position and bot != self:\n",
    "                bot.direction *= -1\n",
    "                sabotaged_bots.append(bot)\n",
    "        return sabotaged_bots\n",
    "\n",
    "    def play(self, bot_positions):\n",
    "        return self.strategy(self, bot_positions)"
   ]
  },
  {
   "cell_type": "markdown",
   "id": "specific-nothing",
   "metadata": {},
   "source": [
    "### strategies"
   ]
  },
  {
   "cell_type": "code",
   "execution_count": 2,
   "id": "bigger-company",
   "metadata": {},
   "outputs": [],
   "source": [
    "def random_strategy(self, bot_positions):\n",
    "    return random.choice([\"walk\", \"sabotage\"])"
   ]
  },
  {
   "cell_type": "code",
   "execution_count": 3,
   "id": "billion-symbol",
   "metadata": {},
   "outputs": [],
   "source": [
    "original_list = ['walk', 'walk', 'sabotage']\n",
    "current_list = []\n",
    "\n",
    "def list_strategy(self, bot_positions):\n",
    "    global current_list  # to allow \"write-access\" to out-of-function variables\n",
    "    \n",
    "    if current_list == []:\n",
    "        current_list = original_list.copy()\n",
    "    return current_list.pop(0)"
   ]
  },
  {
   "cell_type": "code",
   "execution_count": 4,
   "id": "attached-payroll",
   "metadata": {},
   "outputs": [],
   "source": [
    "def always_walk(self, bot_positions):\n",
    "    return \"walk\""
   ]
  },
  {
   "cell_type": "code",
   "execution_count": 5,
   "id": "embedded-taxation",
   "metadata": {},
   "outputs": [],
   "source": [
    "def underdog(self, bot_positions):  \n",
    "    my_pos = self.position\n",
    "    bots_at_my_pos = sum([1 for pos in bot_positions.values() if pos == my_pos])\n",
    "    if bots_at_my_pos > 2 and my_pos > 3:\n",
    "        return \"sabotage\"\n",
    "    else:\n",
    "        if self.direction == 1:\n",
    "            return \"walk\"\n",
    "        else:\n",
    "            return \"faceforward\""
   ]
  },
  {
   "cell_type": "code",
   "execution_count": 6,
   "id": "sharp-escape",
   "metadata": {},
   "outputs": [],
   "source": [
    "bots = [\n",
    "    Bot(\"Random\", random_strategy),\n",
    "    Bot(\"List\", list_strategy),\n",
    "    Bot(\"Walker\", always_walk),\n",
    "    Bot(\"UnderDog\", underdog),\n",
    "]"
   ]
  },
  {
   "cell_type": "code",
   "execution_count": 7,
   "id": "quality-lithuania",
   "metadata": {},
   "outputs": [
    {
     "data": {
      "application/vnd.jupyter.widget-view+json": {
       "model_id": "618149ec771846beb4f0e7f35ba5b719",
       "version_major": 2,
       "version_minor": 0
      },
      "text/plain": [
       "  0%|          | 0/1000 [00:00<?, ?it/s]"
      ]
     },
     "metadata": {},
     "output_type": "display_data"
    },
    {
     "data": {
      "text/plain": [
       "<AxesSubplot:>"
      ]
     },
     "execution_count": 7,
     "metadata": {},
     "output_type": "execute_result"
    },
    {
     "data": {
      "image/png": "[encoded data removed]",
      "text/plain": [
       "<Figure size 1800x432 with 1 Axes>"
      ]
     },
     "metadata": {
      "needs_background": "light"
     },
     "output_type": "display_data"
    }
   ],
   "source": [
    "from tqdm.auto import tqdm\n",
    "import pandas as pd\n",
    "\n",
    "def grand_prix(n):\n",
    "    winnings = {b: 0 for b in bots}\n",
    "    for _ in tqdm(range(n)):\n",
    "        game = Game(bots, verbose=False)\n",
    "        while game.winner is None:\n",
    "            game.play_round()\n",
    "        winnings[game.winner] += 1\n",
    "        \n",
    "    return winnings\n",
    "\n",
    "winnings = grand_prix(n=1000)\n",
    "podium = pd.Series(winnings).sort_values(ascending=False)\n",
    "podium.plot.bar(grid=True, figsize=(25,6), rot=0)"
   ]
  },
  {
   "cell_type": "code",
   "execution_count": null,
   "id": "accredited-advertising",
   "metadata": {},
   "outputs": [],
   "source": []
  }
 ],
 "metadata": {
  "kernelspec": {
   "display_name": "Python 3",
   "language": "python",
   "name": "python3"
  },
  "language_info": {
   "codemirror_mode": {
    "name": "ipython",
    "version": 3
   },
   "file_extension": ".py",
   "mimetype": "text/x-python",
   "name": "python",
   "nbconvert_exporter": "python",
   "pygments_lexer": "ipython3",
   "version": "3.9.1"
  }
 },
 "nbformat": 4,
 "nbformat_minor": 5
}
