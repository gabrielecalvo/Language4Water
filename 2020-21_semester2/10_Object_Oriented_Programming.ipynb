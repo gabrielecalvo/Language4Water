{
 "cells": [
  {
   "cell_type": "markdown",
   "id": "charming-fleet",
   "metadata": {},
   "source": [
    "# **Announcement**\n",
    "Unless you have any specific topic you would like to cover the rest of the lessons (this + 2 more) will be dedicated to this silly BotGame\n",
    "- today: **object oriented programming** and definition of the problem\n",
    "- next time: finishing the implementation of game and go over what **you will** need to develop for the final lesson\n",
    "- last lesson: the **big fight**!! we'll be running a lot of simulations where each bot has a logic that each of you developed!! Winner gets *immortal glory*!"
   ]
  },
  {
   "cell_type": "markdown",
   "id": "steady-arrangement",
   "metadata": {},
   "source": [
    "# Object Oriented Programming\n",
    "> Object-oriented programming (OOP) is a programming paradigm based on the concept of \"objects\", which can contain data and code: data in the form of fields (often known as attributes or properties), and code, in the form of procedures (often known as methods). [Wikipedia](https://en.wikipedia.org/wiki/Object-oriented_programming)\n",
    "\n",
    "This is a powerful but slightly advanced topic, for more information I strongly suggest to look into either of these references: \n",
    "- [py4e](https://www.py4e.com/lessons/Objects) 4 youtube videos describing **how to** use classes and corresponding written chapter\n",
    "- [realpython](https://realpython.com/python3-object-oriented-programming/) article with code stippets\n",
    "\n",
    "In this lesson we'll go get an overview and then focus on an example to show **why** it can be useful."
   ]
  },
  {
   "cell_type": "markdown",
   "id": "prostate-nebraska",
   "metadata": {},
   "source": [
    "First, some nomenclature:\n",
    "- **class**: think of it as the \"cookie-cutter\"/\"blueprint\"/\"recipe\" that generates *instances* (\"cookie\"/\"building\"/\"food\")\n",
    "- **instance** (or **object**): this is the materialisation of the class and will be the one used in the program\n",
    "- **method**: is a function that is attached to the class (and the instances that it creates), it must take at least one argument (conventionally named `self`) which is a reference to the instance.\n",
    "- **attribute**: it's a variable that is attached to the class (and the instances that it creates), it can be called using the `.` notation.\n",
    "\n",
    "One way to think of the use of a class is to think of it as a sub program, where everything within it only care about what's in the boundery. In this analogy `methods` are functions and `attributes` are variables.\n",
    "\n",
    "There are some build-in *magic* methods (aka *dunder* methods) which get called when specific things happen, e.g.`__init__` gets called at initialisation of an object."
   ]
  },
  {
   "cell_type": "code",
   "execution_count": 19,
   "id": "czech-seventh",
   "metadata": {},
   "outputs": [
    {
     "name": "stdout",
     "output_type": "stream",
     "text": [
      "Canis lupus\n",
      "fido: woof\n",
      "====================\n",
      "Canis lupus\n",
      "dido: woof\n"
     ]
    }
   ],
   "source": [
    "class Dog:                              # class (cookie-cutter)\n",
    "    scientific_species = 'Canis lupus'  # class attribute (all instances automatically have the same value)\n",
    "    \n",
    "    def __init__(self, name):    # magic method\n",
    "        self.name = name         # instance attribute (each instance will get a different name)\n",
    "        \n",
    "    def bark(self):              # method\n",
    "        myname = self.name       # accessing instance attribute with `self`\n",
    "        print(f\"{myname}: woof\")\n",
    "\n",
    "        \n",
    "mydog = Dog(name='fido')  # instance (actual cookie)\n",
    "print(mydog.scientific_species)\n",
    "mydog.bark()\n",
    "\n",
    "print(\"=\"*20)\n",
    "\n",
    "yourdog = Dog('dido')  # instance (actual cookie)\n",
    "print(yourdog.scientific_species)\n",
    "yourdog.bark()"
   ]
  },
  {
   "cell_type": "markdown",
   "id": "potential-rotation",
   "metadata": {},
   "source": [
    "# The Bot Race Game\n",
    "We want to build a simple bot game. All bots are racing to get to square 10 as fast as possible but there are a few rules:\n",
    "- Each turn a bot can either of the following actions: \n",
    "    - `walk` (move 1 square in the direction it is facing), \n",
    "    - or `sabotage` (making all the opponents at the same square turn in the opposite direction for one turn)\n",
    "- The order of bot actions is randomised each round\n",
    "- at the beginning of each round, all bots are turned to face forward\n",
    "- bots cannot go further backwards than the starting position"
   ]
  },
  {
   "cell_type": "code",
   "execution_count": 23,
   "id": "statutory-difficulty",
   "metadata": {},
   "outputs": [],
   "source": [
    "class Bot:\n",
    "    position = 0   # square at which the bot is located\n",
    "    direction = 1  # can be 1 (facing forward) or -1 (facing backwards)\n",
    "    \n",
    "    def walk(self):\n",
    "        self.position += self.direction   # walk in the current direction\n",
    "        \n",
    "    def sabotage(self, bots):\n",
    "        pass # TODO: we'll implement this later"
   ]
  },
  {
   "cell_type": "code",
   "execution_count": 27,
   "id": "otherwise-russell",
   "metadata": {},
   "outputs": [
    {
     "name": "stdout",
     "output_type": "stream",
     "text": [
      "0\n",
      "1\n",
      "2\n",
      "<__main__.Bot object at 0x0000022D5C0F4D30>\n"
     ]
    }
   ],
   "source": [
    "mybot = Bot()\n",
    "print(mybot.position)\n",
    "\n",
    "mybot.walk()\n",
    "print(mybot.position)\n",
    "\n",
    "mybot.walk()\n",
    "print(mybot.position)\n",
    "\n",
    "print(mybot)"
   ]
  },
  {
   "cell_type": "markdown",
   "id": "anticipated-chicken",
   "metadata": {},
   "source": [
    "## magic methods\n",
    "Magic methods allow to overwrite default behaviour of the class, for example:\n",
    "- \\_\\_init\\_\\_: gets called when the object/instance is initialised\n",
    "- \\_\\_repr\\_\\_: gets called when a representation of the object is required, e.g.: `print(my_obj)`\n",
    "\n",
    "Let's add a specific name for our bot at initialisation and a nice representation for it"
   ]
  },
  {
   "cell_type": "code",
   "execution_count": 28,
   "id": "legendary-content",
   "metadata": {},
   "outputs": [],
   "source": [
    "class Bot:\n",
    "    position = 0\n",
    "    direction = 1\n",
    "    \n",
    "    def __init__(self, name):\n",
    "        self.name = name           # adding a name attribute at initialisation to identify the bot\n",
    "\n",
    "    def __repr__(self):\n",
    "        return f\"{self.name}Bot\"   # returning a custom string representation\n",
    "\n",
    "    def walk(self):\n",
    "        from_position = self.position\n",
    "        self.position = max(0, self.position+self.direction)    # making sure the position in never < 0\n",
    "        to_position = self.position\n",
    "        return from_position, to_position  # returning the from and to position so we can use display them if we want to\n",
    "\n",
    "    def sabotage(self, bots):\n",
    "        pass"
   ]
  },
  {
   "cell_type": "code",
   "execution_count": 31,
   "id": "fifteen-massachusetts",
   "metadata": {},
   "outputs": [
    {
     "name": "stdout",
     "output_type": "stream",
     "text": [
      "BitBot moved from 0 to 1\n",
      "BitBot moved from 1 to 2\n"
     ]
    }
   ],
   "source": [
    "mybot = Bot('Bit')\n",
    "\n",
    "from_pos, to_pos = mybot.walk()\n",
    "print(f\"{mybot} moved from {from_pos} to {to_pos}\")\n",
    "\n",
    "from_pos, to_pos = mybot.walk()\n",
    "print(f\"{mybot} moved from {from_pos} to {to_pos}\")"
   ]
  },
  {
   "cell_type": "markdown",
   "id": "eastern-linux",
   "metadata": {},
   "source": [
    "## listen all y'all it's a sabotage\n",
    "Let's implement the sabotage action on the Bot"
   ]
  },
  {
   "cell_type": "code",
   "execution_count": 7,
   "id": "written-borough",
   "metadata": {},
   "outputs": [],
   "source": [
    "class Bot:\n",
    "    position = 0\n",
    "    direction = 1\n",
    "    \n",
    "    def __init__(self, name):\n",
    "        self.name = name \n",
    "\n",
    "    def __repr__(self):\n",
    "        return f\"{self.name}Bot\" \n",
    "\n",
    "    def walk(self):\n",
    "        from_position = self.position\n",
    "        self.position = max(0, self.position+self.direction) \n",
    "        to_position = self.position\n",
    "        return from_position, to_position\n",
    "\n",
    "    def sabotage(self, bots):  # this method will need the bots as a input so it can check and sabotage the ones that are in the same position\n",
    "        sabotaged_bots = []   # keeping a list of all the bots we are sabotaging\n",
    "        \n",
    "        for bot in bots:                                       # going through every bot\n",
    "            if bot.position == self.position and bot != self:  # if it in the same position and not myself..\n",
    "                bot.direction = -1                             # sabotage it (turn it facing backwards)\n",
    "                sabotaged_bots.append(bot)                     # add it to the bots I've sabotaged\n",
    "                \n",
    "        return sabotaged_bots                                  # return the list of sabotaged bots"
   ]
  },
  {
   "cell_type": "code",
   "execution_count": 8,
   "id": "departmental-responsibility",
   "metadata": {},
   "outputs": [
    {
     "data": {
      "text/plain": [
       "[EvilBot, WalkingBot]"
      ]
     },
     "execution_count": 8,
     "metadata": {},
     "output_type": "execute_result"
    }
   ],
   "source": [
    "evilbot = Bot('Evil')\n",
    "walkingbot = Bot('Walking')\n",
    "all_bots = [evilbot, walkingbot]\n",
    "all_bots"
   ]
  },
  {
   "cell_type": "code",
   "execution_count": 9,
   "id": "finnish-advocacy",
   "metadata": {},
   "outputs": [
    {
     "name": "stdout",
     "output_type": "stream",
     "text": [
      "\n",
      " === FIRST ROUND: both walking ===\n",
      "WalkingBot moved from 0 to 1\n",
      "EvilBot moved from 0 to 1\n"
     ]
    }
   ],
   "source": [
    "print(\"\\n === FIRST ROUND: both walking ===\")\n",
    "\n",
    "from_pos, to_pos = walkingbot.walk()\n",
    "print(f\"{walkingbot} moved from {from_pos} to {to_pos}\")\n",
    "\n",
    "from_pos, to_pos = evilbot.walk()\n",
    "print(f\"{evilbot} moved from {from_pos} to {to_pos}\")"
   ]
  },
  {
   "cell_type": "code",
   "execution_count": 10,
   "id": "removable-dinner",
   "metadata": {},
   "outputs": [
    {
     "name": "stdout",
     "output_type": "stream",
     "text": [
      "\n",
      " === SECOND ROUND: evil stikes ===\n",
      "EvilBot sabotaged [WalkingBot]\n",
      "WalkingBot moved from 1 to 0\n"
     ]
    }
   ],
   "source": [
    "print(\"\\n === SECOND ROUND: evil stikes ===\")\n",
    "\n",
    "sabotaged = evilbot.sabotage(all_bots)\n",
    "print(f\"{evilbot} sabotaged {sabotaged}\")\n",
    "\n",
    "from_pos, to_pos = walkingbot.walk()\n",
    "print(f\"{walkingbot} moved from {from_pos} to {to_pos}\")"
   ]
  },
  {
   "cell_type": "markdown",
   "id": "fifth-phase",
   "metadata": {},
   "source": [
    "# Strategy Hook\n",
    "let's add the `play` method which is what will implement the strategy the bot will use, for now let's set it as just pick randomly between `move` and `sabotage`"
   ]
  },
  {
   "cell_type": "code",
   "execution_count": 11,
   "id": "amazing-northwest",
   "metadata": {},
   "outputs": [],
   "source": [
    "import random \n",
    "\n",
    "class Bot:\n",
    "    position = 0\n",
    "    direction = 1\n",
    "    \n",
    "    def __init__(self, name):\n",
    "        self.name = name \n",
    "\n",
    "    def __repr__(self):\n",
    "        return f\"{self.name}Bot\" \n",
    "\n",
    "    def walk(self):\n",
    "        from_position = self.position\n",
    "        self.position = max(0, self.position+self.direction) \n",
    "        to_position = self.position\n",
    "        return from_position, to_position\n",
    "\n",
    "    def sabotage(self, bots):\n",
    "        sabotaged_bots = [] \n",
    "        \n",
    "        for bot in bots:\n",
    "            if bot.position == self.position and bot != self:\n",
    "                bot.direction = -1 \n",
    "                sabotaged_bots.append(bot) \n",
    "        return sabotaged_bots \n",
    "    \n",
    "    def play(self):                                   # when it's my turn to act... \n",
    "        return random.choice(['walk', 'sabotage'])    # ...randomly pick between 'walk' and 'sabotage'"
   ]
  },
  {
   "cell_type": "code",
   "execution_count": 18,
   "id": "arctic-direction",
   "metadata": {},
   "outputs": [
    {
     "name": "stdout",
     "output_type": "stream",
     "text": [
      "sabotage\n",
      "walk\n",
      "sabotage\n",
      "walk\n"
     ]
    }
   ],
   "source": [
    "bot = Bot(\"botty\")\n",
    "print(bot.play())\n",
    "print(bot.play())\n",
    "print(bot.play())\n",
    "print(bot.play())"
   ]
  },
  {
   "cell_type": "markdown",
   "id": "demonstrated-elevation",
   "metadata": {},
   "source": [
    "# Game object\n",
    "now let's create a game class that will allow to handle the game, first let's allow the game to show a board"
   ]
  },
  {
   "cell_type": "code",
   "execution_count": 19,
   "id": "minus-chance",
   "metadata": {},
   "outputs": [],
   "source": [
    "class Game:\n",
    "    n_squares = 10   # defining size of the board\n",
    "    \n",
    "    def __init__(self, bots):    # the game will need to be initialised with a list of competitor bots\n",
    "        self.bots = bots         # storing the list as an instance attribute so we can access it as `<game instance>.bots`\n",
    "\n",
    "    def show_board(self):\n",
    "        print(\"=\" * 30)\n",
    "        board = {i: [] for i in range(self.n_squares+1)}  # creating a dictionary of empty lists with numbers 0-10 as keys\n",
    "        for bot in self.bots:\n",
    "            board[bot.position] = bot      # adding the bot to the list corresponding to its position\n",
    "            \n",
    "        for square, bots_in_square in board.items():  # visualising the current positions\n",
    "            print(f\"{square}: {bots_in_square}\")     "
   ]
  },
  {
   "cell_type": "code",
   "execution_count": 20,
   "id": "falling-infrared",
   "metadata": {
    "tags": []
   },
   "outputs": [
    {
     "name": "stdout",
     "output_type": "stream",
     "text": [
      "==============================\n",
      "0: Mr.LonleyBot\n",
      "1: []\n",
      "2: []\n",
      "3: []\n",
      "4: []\n",
      "5: []\n",
      "6: []\n",
      "7: []\n",
      "8: []\n",
      "9: []\n",
      "10: []\n"
     ]
    }
   ],
   "source": [
    "lonley_bot = Bot(\"Mr.Lonley\")\n",
    "competitors = [lonley_bot]\n",
    "game = Game(competitors)\n",
    "game.show_board()"
   ]
  },
  {
   "cell_type": "code",
   "execution_count": 21,
   "id": "portuguese-distribution",
   "metadata": {
    "tags": []
   },
   "outputs": [
    {
     "name": "stdout",
     "output_type": "stream",
     "text": [
      "==============================\n",
      "0: []\n",
      "1: []\n",
      "2: Mr.LonleyBot\n",
      "3: []\n",
      "4: []\n",
      "5: []\n",
      "6: []\n",
      "7: []\n",
      "8: []\n",
      "9: []\n",
      "10: []\n"
     ]
    }
   ],
   "source": [
    "lonley_bot.walk()\n",
    "lonley_bot.walk()\n",
    "game.show_board()"
   ]
  },
  {
   "cell_type": "markdown",
   "id": "patent-absorption",
   "metadata": {},
   "source": [
    "# \\~\\~\\~ Question Break!! \\~\\~\\~\n",
    "![question_break](https://raw.githubusercontent.com/gabrielecalvo/Language4Water/master/assets/xx_question_break.jpg)"
   ]
  },
  {
   "cell_type": "markdown",
   "id": "lightweight-pierre",
   "metadata": {},
   "source": [
    "## Allowing Game to play rounds\n",
    "We'll need to:\n",
    "- setup an attribute `winner` which we'll use to check if race is over\n",
    "- we'll then implement the `play_round` method which will:\n",
    "    - randomise the order of call for each bot to act\n",
    "    - let each bot play in that random order using another method called `_play_bot` (just to keep function smaller)\n",
    "    - reset the direction of all bots at the end of each round so they are all facing forward\n",
    "    - print out the current board status\n",
    "\n",
    "\n",
    "The `_play_bot` method will take a single bot as input (the one that is playing at the moment) and need to:\n",
    "- call the `play` method of the acting bot\n",
    "- based on the action the acting bot is taking it will:\n",
    "    - call the corresponding bot method\n",
    "    - pass the necessary input\n",
    "    - print out a line describing what the action and its effects were (just to better understand what's going on)\n",
    "- if the bot has reach the end, we'll declare it the winner, which make the `play_round` method will stop the race\n",
    "\n",
    "***NOTE***: starting a method name with `_` is just a convention to signal that the method should not be called directly but should only be called by another method withing the class."
   ]
  },
  {
   "cell_type": "code",
   "execution_count": 22,
   "id": "aquatic-session",
   "metadata": {},
   "outputs": [],
   "source": [
    "import random \n",
    "\n",
    "class Game:\n",
    "    n_squares = 10\n",
    "    winner = None    # attribute that will be filled by the winner, we can use it to check if race is over\n",
    "    \n",
    "    def __init__(self, bots):   \n",
    "        self.bots = bots              \n",
    "\n",
    "    def show_board(self):\n",
    "        print(\"=\" * 30)\n",
    "        board = {i: [] for i in range(self.n_squares+1)}\n",
    "        for bot in self.bots:\n",
    "            board[bot.position].append(bot)\n",
    "            \n",
    "        for square, bots_in_square in board.items():\n",
    "            print(f\"{square}: {bots_in_square}\")     \n",
    "            \n",
    "    def play_round(self):\n",
    "        if self.winner is None:        # if winner has not been declared yet, play a round\n",
    "            random.shuffle(self.bots)  # randomise order of bots\n",
    "            print(self.bots)           # print out the random order\n",
    "                \n",
    "            for bot in self.bots:      # for every bot in the random order\n",
    "                self._play_bot(bot)    # have the bot play their move\n",
    "                \n",
    "                if self.winner:        # if the bot reaches the end and wins there is no need to continue\n",
    "                    break\n",
    "                    \n",
    "            # reset directions after every bot has had their turn\n",
    "            for bot in bots:\n",
    "                bot.direction = 1\n",
    "\n",
    "        if self.winner:      # if a winner was declared, show it\n",
    "            print(f\"========== Race Over, WINNER: {self.winner} ========== \")\n",
    "        self.show_board()    # show the current status of the board\n",
    "            \n",
    "    def _play_bot(self, bot):        \n",
    "        action_str = bot.play()  # action_str will be the string \"walk\" or \"sabotage\"\n",
    "        \n",
    "        if action_str == \"walk\":\n",
    "            pos_from, pos_to = bot.walk()\n",
    "            print(f\"{bot} walked from {pos_from} to {pos_to}\")\n",
    "            \n",
    "        elif action_str == \"sabotage\":\n",
    "            sabotaged_bots = bot.sabotage(self.bots)\n",
    "            print(f\"{bot} sabotaged {sabotaged_bots}\")\n",
    "            \n",
    "        if bot.position >= self.n_squares:\n",
    "            self.winner = bot"
   ]
  },
  {
   "cell_type": "code",
   "execution_count": 23,
   "id": "employed-drain",
   "metadata": {},
   "outputs": [],
   "source": [
    "bots = [Bot(\"Albatros\"), Bot(\"Buffalo\"), Bot(\"Cow\")]\n",
    "game = Game(bots)"
   ]
  },
  {
   "cell_type": "code",
   "execution_count": 26,
   "id": "residential-baptist",
   "metadata": {},
   "outputs": [
    {
     "name": "stdout",
     "output_type": "stream",
     "text": [
      "==============================\n",
      "0: [AlbatrosBot, BuffaloBot, CowBot]\n",
      "1: []\n",
      "2: []\n",
      "3: []\n",
      "4: []\n",
      "5: []\n",
      "6: []\n",
      "7: []\n",
      "8: []\n",
      "9: []\n",
      "10: []\n"
     ]
    }
   ],
   "source": [
    "game.show_board()"
   ]
  },
  {
   "cell_type": "code",
   "execution_count": 33,
   "id": "residential-pierce",
   "metadata": {},
   "outputs": [
    {
     "name": "stdout",
     "output_type": "stream",
     "text": [
      "[BuffaloBot, CowBot, AlbatrosBot]\n",
      "BuffaloBot sabotaged [CowBot]\n",
      "CowBot sabotaged [BuffaloBot]\n",
      "AlbatrosBot walked from 2 to 3\n",
      "==============================\n",
      "0: []\n",
      "1: [BuffaloBot, CowBot]\n",
      "2: []\n",
      "3: [AlbatrosBot]\n",
      "4: []\n",
      "5: []\n",
      "6: []\n",
      "7: []\n",
      "8: []\n",
      "9: []\n",
      "10: []\n"
     ]
    }
   ],
   "source": [
    "game.play_round()"
   ]
  },
  {
   "cell_type": "markdown",
   "id": "afraid-frame",
   "metadata": {},
   "source": [
    "# \\~\\~\\~ Question Break!! \\~\\~\\~\n",
    "![question_break](https://raw.githubusercontent.com/gabrielecalvo/Language4Water/master/assets/xx_question_break.jpg)"
   ]
  },
  {
   "cell_type": "markdown",
   "id": "adjustable-deployment",
   "metadata": {},
   "source": [
    "## too chatty?\n",
    "let's add a `verbose` attribute to the game which will skip the print statements if set to `False`.\n",
    "This way it is easier to switch between debugging (finding mistakes) and just running to get the result"
   ]
  },
  {
   "cell_type": "code",
   "execution_count": 34,
   "id": "mechanical-tennessee",
   "metadata": {},
   "outputs": [],
   "source": [
    "class Game:\n",
    "    n_squares = 10 \n",
    "    winner = None \n",
    "    \n",
    "    def __init__(self, bots, verbose=False):   # adding `verbose` which will be False by default\n",
    "        self.bots = bots\n",
    "        self.verbose = verbose                 # storing it as an instance attribute\n",
    "\n",
    "    def show_board(self):\n",
    "        print(\"=\" * 30)\n",
    "        board = {i: [] for i in range(10)}\n",
    "        for bot in self.bots:\n",
    "            board[bot.position].append(bot)\n",
    "            \n",
    "        for square, bots_in_square in board.items():\n",
    "            print(f\"{square}: {bots_in_square}\")     \n",
    "            \n",
    "    def play_round(self):\n",
    "        if self.winner is None:\n",
    "            random.shuffle(self.bots) \n",
    "            if self.verbose: \n",
    "                print(self.bots)    # only show the board if verbose=True\n",
    "                \n",
    "            for bot in self.bots:\n",
    "                self._play_bot(bot) \n",
    "                if self.winner: \n",
    "                    break\n",
    "                    \n",
    "            for bot in bots:\n",
    "                bot.direction = 1\n",
    "\n",
    "        if self.verbose:     # only show the board if verbose=True\n",
    "            if self.winner:\n",
    "                print(f\"========== Race Over, WINNER: {self.winner} ========== \")\n",
    "            self.show_board()\n",
    "            \n",
    "    def _play_bot(self, bot):\n",
    "        bot_position_dictionary = {b: b.position for b in self.bots}\n",
    "        action_str = bot.play(bot_position_dictionary)\n",
    "        \n",
    "        if action_str == \"walk\":\n",
    "            pos_from, pos_to = bot.walk()\n",
    "            if self.verbose:   # only show the board if verbose=True\n",
    "                print(f\"{str(bot):<15} walked from {pos_from} to {pos_to}\")\n",
    "        elif action_str == \"sabotage\":\n",
    "            sabotaged_bots = bot.sabotage(self.bots)\n",
    "            if self.verbose:    # only show the board if verbose=True\n",
    "                print(f\"{str(bot):<15} sabotaged {sabotaged_bots}\")\n",
    "            \n",
    "        if bot.position >= self.n_squares:\n",
    "            self.winner = bot"
   ]
  },
  {
   "cell_type": "markdown",
   "id": "instant-proportion",
   "metadata": {},
   "source": [
    "***Note***: you might have noticed also the print lines in the `_play_bot` method now look like: \n",
    "```python \n",
    "print(f\"{str(bot):<15} ...\")\n",
    "```\n",
    "\n",
    "this is just so that we are aligining the names to the left of a 15 character string leaving the rest empty.\n",
    "```\n",
    "# so instead of ...\n",
    "Mybot waked from 0 to 1\n",
    "Myotherbot waked from 0 to 1\n",
    "\n",
    "# ... we'll get\n",
    "Mybot          waked from 0 to 1\n",
    "Myotherbot     waked from 0 to 1\n",
    "```"
   ]
  },
  {
   "cell_type": "markdown",
   "id": "comparative-estate",
   "metadata": {},
   "source": [
    "## Final Touches\n",
    "Let's add a last couple of things:\n",
    "- add a `_set_starting_positions` which will ensure all bots' position are 0 at the start of the Game (in the `__init__`)\n",
    "- let's allow the bots to be smarter by passing all bots' position to the `.play` method so they can use that information to decide the move"
   ]
  },
  {
   "cell_type": "code",
   "execution_count": 144,
   "id": "rough-clock",
   "metadata": {
    "tags": []
   },
   "outputs": [],
   "source": [
    "import random\n",
    "    \n",
    "class Game:\n",
    "    n_squares = 10\n",
    "    winner = None\n",
    "\n",
    "    def __init__(self, bots, verbose=False):\n",
    "        self.bots = bots\n",
    "        self.verbose = verbose\n",
    "\n",
    "        self._set_starting_positions()  # calling the method that will reset all positions\n",
    "        \n",
    "    def _set_starting_positions(self):  \n",
    "        for b in self.bots:  # go through every bot in the competition and set the position to 0\n",
    "            b.position = 0\n",
    "        \n",
    "    def show_board(self):\n",
    "        print(\"=\" * 30)\n",
    "        board = {i: [] for i in range(self.n_squares + 1)}\n",
    "        for bot in self.bots:\n",
    "            board[bot.position].append(bot)\n",
    "\n",
    "        for square, bots_in_square in board.items():\n",
    "            print(f\"{square}: {bots_in_square}\")\n",
    "\n",
    "    def play_round(self):\n",
    "        if self.winner is None:\n",
    "            random.shuffle(self.bots)\n",
    "            if self.verbose: \n",
    "                print(self.bots)\n",
    "                \n",
    "            for bot in self.bots:\n",
    "                self._play_bot(bot)\n",
    "                if self.winner:\n",
    "                    break\n",
    "                    \n",
    "            for bot in bots:\n",
    "                bot.direction = 1\n",
    "\n",
    "        if self.verbose:\n",
    "            if self.winner:\n",
    "                print(f\"========== Race Over, WINNER: {self.winner} ========== \")\n",
    "            self.show_board()\n",
    "\n",
    "    def _play_bot(self, bot):\n",
    "        bot_position_dictionary = {b: b.position for b in self.bots}  # creating a dictionary of bot positions\n",
    "        \n",
    "        action_str = bot.play(bot_position_dictionary)                # passing it to the `play` method to allow the bot to make smarter decisions\n",
    "        if action_str == \"walk\":\n",
    "            pos_from, pos_to = bot.walk()\n",
    "            if self.verbose: \n",
    "                print(f\"{str(bot):<15} walked from {pos_from} to {pos_to}\")\n",
    "        elif action_str == \"sabotage\":\n",
    "            sabotaged_bots = bot.sabotage(self.bots)\n",
    "            if self.verbose: \n",
    "                print(f\"{str(bot):<15} sabotaged {sabotaged_bots}\")\n",
    "            \n",
    "        if bot.position >= self.n_squares:\n",
    "            self.winner = bot\n",
    "    \n",
    "class Bot:\n",
    "    position = 0\n",
    "    direction = 1\n",
    "\n",
    "    def __init__(self, name):\n",
    "        self.name = name\n",
    "\n",
    "    def __repr__(self):\n",
    "        return f\"{self.name}Bot\"\n",
    "\n",
    "    def walk(self):\n",
    "        from_position = self.position\n",
    "        self.position = max(0, self.position+self.direction)\n",
    "        to_position = self.position\n",
    "        return from_position, to_position\n",
    "\n",
    "    def sabotage(self, bots):\n",
    "        sabotaged_bots = []\n",
    "        for bot in bots:\n",
    "            if bot.position == self.position and bot != self:\n",
    "                bot.direction = -1\n",
    "                sabotaged_bots.append(bot)\n",
    "        return sabotaged_bots\n",
    "\n",
    "    def play(self, bot_positions):  # added `bot_positions` as input, though we are currently still just picking randomly\n",
    "        return random.choice(['walk', 'sabotage'])"
   ]
  },
  {
   "cell_type": "markdown",
   "id": "continuing-knock",
   "metadata": {},
   "source": [
    "# It's your Turn!!!\n",
    "let's start simple, each of you send me a list of 'sabotage' and 'walk', let's have it with 12 elements"
   ]
  },
  {
   "cell_type": "code",
   "execution_count": 65,
   "id": "referenced-undergraduate",
   "metadata": {},
   "outputs": [],
   "source": [
    "example_strategy = ['sabotage', 'sabotage', 'walk', 'sabotage', 'sabotage', 'walk', 'sabotage', 'sabotage', 'walk', 'sabotage', 'sabotage', 'walk']\n",
    "\n",
    "duckduckgo_bot = Bot(\"DuckDuckGo\")\n",
    "def duckduckgo_play(*a,**kw):\n",
    "    return example_strategy.pop(0)"
   ]
  },
  {
   "cell_type": "code",
   "execution_count": 118,
   "id": "interracial-ecology",
   "metadata": {},
   "outputs": [
    {
     "name": "stdout",
     "output_type": "stream",
     "text": [
      "Alena 20\n",
      "Aubrey 18\n",
      "Iacopo 18\n",
      "Robert 12\n"
     ]
    }
   ],
   "source": [
    "strategies = {\n",
    "    'Alena': ['walk', 'walk', 'sabotage', 'walk', 'walk', 'sabotage', 'walk', 'walk', 'walk', 'walk', 'walk', 'walk']*2,\n",
    "    'Aubrey': ['walk', 'walk', 'walk', 'sabotage', 'walk', 'walk', 'walk', 'sabotage', 'walk', 'walk', 'walk', 'sabotage']*2,\n",
    "    'Iacopo': ['walk', 'sabotage', 'walk', 'walk', 'walk', 'walk', 'sabotage', 'sabotage', 'walk', 'walk', 'walk', 'walk']*2,\n",
    "    'Robert': ['walk', 'sabotage', 'sabotage', 'sabotage', 'sabotage', 'walk', 'walk', 'walk', 'walk', 'sabotage', 'sabotage', 'walk']*2,\n",
    "}\n",
    "\n",
    "bots = []\n",
    "for name, strategy_list in strategies.items():\n",
    "    b = Bot(name, strategy_list)\n",
    "    print(name, strategy_list.count(\"walk\"))\n",
    "    bots.append(b)\n",
    "    \n",
    "game = Game(bots, verbose=True)"
   ]
  },
  {
   "cell_type": "code",
   "execution_count": 141,
   "id": "brazilian-mailing",
   "metadata": {
    "tags": []
   },
   "outputs": [
    {
     "name": "stdout",
     "output_type": "stream",
     "text": [
      "========== Race Over, WINNER: IacopoBot ========== \n",
      "==============================\n",
      "0: []\n",
      "1: []\n",
      "2: []\n",
      "3: []\n",
      "4: [RobertBot, AlenaBot]\n",
      "5: []\n",
      "6: []\n",
      "7: [AubreyBot]\n",
      "8: []\n",
      "9: []\n",
      "10: [IacopoBot]\n"
     ]
    }
   ],
   "source": [
    "game.play_round()"
   ]
  },
  {
   "cell_type": "markdown",
   "id": "dedicated-worthy",
   "metadata": {},
   "source": [
    "## Defining a barely-smart Bot Strategy\n",
    "We'll be using what is called `Class Inheritance`"
   ]
  },
  {
   "cell_type": "code",
   "execution_count": 148,
   "id": "engaged-nightmare",
   "metadata": {},
   "outputs": [],
   "source": [
    "class BarelySmartBot(Bot):           # defining a new class which *inherits* all methods and attributes from the Bot class\n",
    "    def play(self, bot_positions):   # re-defining (overwriting) the `play` method to impement the new strategy\n",
    "        n_same_position = 0\n",
    "        for pos in bot_positions.values():\n",
    "            if pos == self.position:\n",
    "                n_same_position+=1\n",
    "        \n",
    "        if n_same_position > 2:\n",
    "            return \"sabotage\"\n",
    "        else:\n",
    "            return \"walk\""
   ]
  },
  {
   "cell_type": "markdown",
   "id": "middle-camping",
   "metadata": {},
   "source": [
    "and let's play!!!"
   ]
  },
  {
   "cell_type": "code",
   "execution_count": 192,
   "id": "pressing-shell",
   "metadata": {},
   "outputs": [],
   "source": [
    "bots = [Bot('Dummy1'), Bot('Dummy2'), Bot('Dummy3')]#, BarelySmartBot(\"BarelySmart\")]\n",
    "game = Game(bots, verbose=True)"
   ]
  },
  {
   "cell_type": "code",
   "execution_count": 189,
   "id": "employed-nursing",
   "metadata": {},
   "outputs": [
    {
     "name": "stdout",
     "output_type": "stream",
     "text": [
      "========== Race Over, WINNER: BarelySmartBot ========== \n",
      "==============================\n",
      "0: []\n",
      "1: []\n",
      "2: []\n",
      "3: [Dummy3Bot, Dummy1Bot]\n",
      "4: [Dummy2Bot]\n",
      "5: []\n",
      "6: []\n",
      "7: []\n",
      "8: []\n",
      "9: []\n",
      "10: [BarelySmartBot]\n"
     ]
    }
   ],
   "source": [
    "game.play_round()"
   ]
  },
  {
   "cell_type": "markdown",
   "id": "hungarian-agreement",
   "metadata": {},
   "source": [
    "# The Grand Prix"
   ]
  },
  {
   "cell_type": "code",
   "execution_count": null,
   "id": "rough-receiver",
   "metadata": {},
   "outputs": [],
   "source": [
    "# !pip install tqdm ipywidgets\n",
    "# !jupyter nbextension enable --py widgetsnbextension"
   ]
  },
  {
   "cell_type": "code",
   "execution_count": 193,
   "id": "cardiovascular-estate",
   "metadata": {
    "tags": []
   },
   "outputs": [
    {
     "data": {
      "application/vnd.jupyter.widget-view+json": {
       "model_id": "4b295b2c4265494fb906ebb3f0e00bd3",
       "version_major": 2,
       "version_minor": 0
      },
      "text/plain": [
       "  0%|          | 0/10000 [00:00<?, ?it/s]"
      ]
     },
     "metadata": {},
     "output_type": "display_data"
    },
    {
     "data": {
      "text/plain": [
       "<AxesSubplot:>"
      ]
     },
     "execution_count": 193,
     "metadata": {},
     "output_type": "execute_result"
    },
    {
     "data": {
      "image/png": "[encoded data removed]",
      "text/plain": [
       "<Figure size 1800x432 with 1 Axes>"
      ]
     },
     "metadata": {
      "needs_background": "light"
     },
     "output_type": "display_data"
    }
   ],
   "source": [
    "from tqdm.auto import tqdm\n",
    "import pandas as pd\n",
    "\n",
    "def grand_prix(n=1000):\n",
    "    winnings = {b: 0 for b in bots}\n",
    "    for _ in tqdm(range(n)):\n",
    "        game = Game(bots, verbose=False)\n",
    "        while game.winner is None:\n",
    "            game.play_round()\n",
    "        winnings[game.winner] += 1\n",
    "        \n",
    "    return winnings\n",
    "\n",
    "winnings = grand_prix(n=10_000)\n",
    "podium = pd.Series(winnings).sort_values(ascending=False)\n",
    "podium.plot.bar(grid=True, figsize=(25,6), rot=0)"
   ]
  },
  {
   "cell_type": "code",
   "execution_count": null,
   "id": "returning-steps",
   "metadata": {},
   "outputs": [],
   "source": []
  }
 ],
 "metadata": {
  "kernelspec": {
   "display_name": "Python 3",
   "language": "python",
   "name": "python3"
  },
  "language_info": {
   "codemirror_mode": {
    "name": "ipython",
    "version": 3
   },
   "file_extension": ".py",
   "mimetype": "text/x-python",
   "name": "python",
   "nbconvert_exporter": "python",
   "pygments_lexer": "ipython3",
   "version": "3.9.1"
  }
 },
 "nbformat": 4,
 "nbformat_minor": 5
}
