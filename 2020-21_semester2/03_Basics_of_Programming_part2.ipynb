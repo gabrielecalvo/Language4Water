{
 "cells": [
  {
   "cell_type": "markdown",
   "metadata": {},
   "source": [
    "# In the previous episode...\n",
    "\n",
    "## common basic types\n",
    "```python\n",
    "a = 7          # integer\n",
    "b = 3.14       # float\n",
    "c = 'ciao'     # string (a.k.a. text)\n",
    "d = \"ciao\"     # also string\n",
    "e = True       # boolean (either True or False)\n",
    "```\n",
    "\n",
    "## common number operations\n",
    "```python\n",
    "7 // 3   # floor division\n",
    "7 % 3    # division remainder\n",
    "7 > 3    # greater than\n",
    "7 < 3    # lower than\n",
    "7 >= 3   # greater than or equal\n",
    "7 <= 3   # lower than or equal\n",
    "7 != 3   # different\n",
    "7 == 7   # equal (comparison)\n",
    "```"
   ]
  },
  {
   "cell_type": "markdown",
   "metadata": {},
   "source": [
    "# ... and now"
   ]
  },
  {
   "cell_type": "markdown",
   "metadata": {
    "id": "9jIsva79of9q"
   },
   "source": [
    "# Fun with... strings"
   ]
  },
  {
   "cell_type": "code",
   "execution_count": 2,
   "metadata": {},
   "outputs": [
    {
     "name": "stdout",
     "output_type": "stream",
     "text": [
      "HelloWord\n",
      "HelloHelloHelloHelloHello\n",
      "False\n"
     ]
    }
   ],
   "source": [
    "a = \"Hello\"\n",
    "b = \"Word\"\n",
    "\n",
    "print(a + b)   # concatentation\n",
    "print(a * 5)   # repetition\n",
    "print(a > b)   # alphanumberic comparison, works with >, <, ==, and != too"
   ]
  },
  {
   "cell_type": "markdown",
   "metadata": {
    "id": "lzLHXjC5h_vV"
   },
   "source": [
    "# \\~\\~\\~ Question Break!! \\~\\~\\~\n",
    "![question_break](https://raw.githubusercontent.com/gabrielecalvo/Language4Water/master/assets/xx_question_break.jpg)"
   ]
  },
  {
   "cell_type": "markdown",
   "metadata": {
    "id": "jzBPvYrteEk0"
   },
   "source": [
    "# Aggregate of Types"
   ]
  },
  {
   "cell_type": "code",
   "execution_count": null,
   "metadata": {
    "id": "iyBRxqAUcemH"
   },
   "outputs": [],
   "source": [
    "f = [1, 2, 3]       # list\n",
    "g = {'a':1, 'b':2}  # dictionary (key-value mappings)"
   ]
  },
  {
   "cell_type": "code",
   "execution_count": null,
   "metadata": {
    "id": "3LMB_S7flGNR"
   },
   "outputs": [],
   "source": [
    "# the content can be eterogenous (different types)\n",
    "f = [1, \"two\", 3, False] \n",
    "g = {'a': 1, 2: True}  "
   ]
  },
  {
   "cell_type": "markdown",
   "metadata": {
    "id": "6A0vojiZsAA2"
   },
   "source": [
    "# Fun with... Lists"
   ]
  },
  {
   "cell_type": "code",
   "execution_count": null,
   "metadata": {
    "id": "djCBc0DbsCst"
   },
   "outputs": [],
   "source": [
    "# get first element of the list\n",
    "# get second\n",
    "# get last\n",
    "\n",
    "# add item\n"
   ]
  },
  {
   "cell_type": "markdown",
   "metadata": {},
   "source": [
    "# \\~\\~\\~ Question Break!! \\~\\~\\~\n",
    "![question_break](https://raw.githubusercontent.com/gabrielecalvo/Language4Water/master/assets/xx_question_break.jpg)"
   ]
  },
  {
   "cell_type": "markdown",
   "metadata": {},
   "source": [
    "# High-Low Game\n",
    "\n",
    "Before we dive in developing the game there are a few more things to introduce:\n",
    " - importing a standard library (i.e. part of python) module\n",
    " - using the input"
   ]
  },
  {
   "cell_type": "code",
   "execution_count": null,
   "metadata": {},
   "outputs": [],
   "source": [
    "input(\"give me a number\")"
   ]
  },
  {
   "cell_type": "code",
   "execution_count": 6,
   "metadata": {},
   "outputs": [
    {
     "data": {
      "text/plain": [
       "11"
      ]
     },
     "execution_count": 6,
     "metadata": {},
     "output_type": "execute_result"
    }
   ],
   "source": [
    "import random\n",
    "\n",
    "random.randint(1,13)"
   ]
  }
 ],
 "metadata": {
  "kernelspec": {
   "display_name": "Python 3",
   "language": "python",
   "name": "python3"
  },
  "language_info": {
   "codemirror_mode": {
    "name": "ipython",
    "version": 3
   },
   "file_extension": ".py",
   "mimetype": "text/x-python",
   "name": "python",
   "nbconvert_exporter": "python",
   "pygments_lexer": "ipython3",
   "version": "3.9.1"
  }
 },
 "nbformat": 4,
 "nbformat_minor": 4
}
