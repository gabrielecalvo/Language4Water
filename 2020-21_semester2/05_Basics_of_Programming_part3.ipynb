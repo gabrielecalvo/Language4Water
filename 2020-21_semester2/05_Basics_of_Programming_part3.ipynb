{
 "cells": [
  {
   "cell_type": "markdown",
   "metadata": {},
   "source": [
    "# In the previous episode...\n",
    "\n",
    "### string methods\n",
    "```python\n",
    "\"aAbB\".upper()  # \"AABB\"\n",
    "\"aAbB\".lower()  # \"aabb\"\n",
    "\"aAbB\".replace(\"A\", \"C\")  # \"aCbB\"\n",
    "```\n",
    "\n",
    "### templeting\n",
    "```python\n",
    "print(\"this {} template\".format(myvar))  # sometimes useful\n",
    "print(f\"this {myvar} template\")          # most modern and nicer to work with\n",
    "```\n",
    "\n",
    "### user inputs\n",
    "```python\n",
    "city = input(\"Capital of Germany? \")\n",
    "```\n",
    "\n",
    "### importing modules\n",
    "```python\n",
    "import random                # module import\n",
    "import random as rnd         # import with alias\n",
    "from random import randint   # importing single item from module\n",
    "```\n",
    "\n",
    "### aggregate of types\n",
    "```python\n",
    "my_list = [1, 2, 3] \n",
    "my_dict = {'a':1, 'b':2}\n",
    "```\n",
    "\n",
    "### accessing values, slicing, insert/update\n",
    "```python\n",
    "my_list[2]\n",
    "my_list[1:-1]\n",
    "my_list[1] = 42\n",
    "\n",
    "my_dict['b']\n",
    "my_dict['b'] = 42\n",
    "```\n",
    "\n",
    "### if statement\n",
    "```python\n",
    "if happy and know_it:\n",
    "    print('hands go clap clap')\n",
    "elif not know_it:\n",
    "    print('hands go clap')\n",
    "else:\n",
    "    print('...silence...')\n",
    "```\n",
    "\n",
    ".. if you are ever in a hurry, you can try:\n",
    "- https://speedsheet.io/s/python"
   ]
  },
  {
   "cell_type": "markdown",
   "metadata": {},
   "source": [
    "# .. and now"
   ]
  },
  {
   "cell_type": "markdown",
   "metadata": {},
   "source": [
    "# For Loop\n",
    "runs a part of the code multiple times: one for every item in the sequence"
   ]
  },
  {
   "cell_type": "code",
   "execution_count": null,
   "metadata": {},
   "outputs": [],
   "source": [
    "for i in range(5):\n",
    "    print(i)"
   ]
  },
  {
   "cell_type": "code",
   "execution_count": null,
   "metadata": {},
   "outputs": [],
   "source": [
    "the_beatles_instruments = {\n",
    "    'John': 'guitar',\n",
    "    'Paul':  'guitar',  \n",
    "    'George': 'bass',\n",
    "    'Ringo': 'drums',\n",
    "}\n",
    "print(the_beatles_instruments)"
   ]
  },
  {
   "cell_type": "code",
   "execution_count": null,
   "metadata": {},
   "outputs": [],
   "source": [
    "d = {1: 'one', 4:'four'}\n",
    "\n",
    "for k in d.items():\n",
    "    print('pair:', k)"
   ]
  },
  {
   "cell_type": "code",
   "execution_count": null,
   "metadata": {},
   "outputs": [],
   "source": [
    "for k,v in d.items():\n",
    "    print('key:', k, 'value:', v)"
   ]
  },
  {
   "cell_type": "code",
   "execution_count": null,
   "metadata": {},
   "outputs": [],
   "source": [
    "# NESTED LOOP\n",
    "# I heard you like loops so I put a loop in a loop... \n",
    "for member, instruments in the_beatles_instruments.items():\n",
    "    for instrument in instruments:\n",
    "        print(member, 'plays', instrument)"
   ]
  },
  {
   "cell_type": "markdown",
   "metadata": {},
   "source": [
    "# While Loop\n",
    "runs a part of the code multiple times: until a condition is met"
   ]
  },
  {
   "cell_type": "code",
   "execution_count": null,
   "metadata": {},
   "outputs": [],
   "source": [
    "current_value = 0\n",
    "while current_value <= 5:\n",
    "    print('the current value is: ', current_value)\n",
    "    current_value += 1"
   ]
  },
  {
   "cell_type": "markdown",
   "metadata": {},
   "source": [
    "# Function\n",
    "ways to group and reuse code that can be logically isolated"
   ]
  },
  {
   "cell_type": "code",
   "execution_count": null,
   "metadata": {},
   "outputs": [],
   "source": [
    "# defining a function\n",
    "def simple_greeting():\n",
    "    print('Hi')"
   ]
  },
  {
   "cell_type": "code",
   "execution_count": null,
   "metadata": {},
   "outputs": [],
   "source": [
    "# calling a function (using it)\n",
    "simple_greeting()"
   ]
  },
  {
   "cell_type": "code",
   "execution_count": null,
   "metadata": {},
   "outputs": [],
   "source": [
    "def greeting(name, lastname):\n",
    "    print('Hi,', name, lastname)\n",
    "\n",
    "greeting('Bob', 'Kelso')                 # passing argument as positional (ORDER MATTERS)\n",
    "greeting(lastname='Kelso', name='Bob')   # passing argument as keyword (ORDER DOES NOT MATTER)"
   ]
  },
  {
   "cell_type": "code",
   "execution_count": null,
   "metadata": {},
   "outputs": [],
   "source": [
    "def greeting_with_default(name='you'):\n",
    "    print('Hi,', name)\n",
    "\n",
    "greeting_with_default()\n",
    "greeting_with_default('Bob')\n",
    "greeting_with_default(name='Bob')"
   ]
  },
  {
   "cell_type": "code",
   "execution_count": null,
   "metadata": {},
   "outputs": [],
   "source": [
    "# returning values instead of printing it\n",
    "def duplicate(x):\n",
    "    return 2*x   # instead of printing it we are returing it.. \n",
    "\n",
    "douplex = duplicate(3)  # ... so the result can be assigned to a function.\n",
    "douplex"
   ]
  },
  {
   "cell_type": "code",
   "execution_count": null,
   "metadata": {},
   "outputs": [],
   "source": [
    "# what happens if I do.. ?\n",
    "duplicate(duplicate(3))"
   ]
  },
  {
   "cell_type": "markdown",
   "metadata": {},
   "source": [
    "## **Exercises**\n",
    "mostrly taken from [codewars.com](https://www.codewars.com)"
   ]
  },
  {
   "cell_type": "code",
   "execution_count": null,
   "metadata": {},
   "outputs": [],
   "source": [
    "# Write a program that prints the numbers from 1 to 20. But for multiples of three prints “Fizz” instead of the number and for the multiples of five print “Buzz”. For numbers which are multiples of both three and five print “FizzBuzz”.\n",
    "        \n",
    "# hint: the first prints should be: 1 2 Fizz 4 Buzz Fizz ..."
   ]
  },
  {
   "cell_type": "code",
   "execution_count": null,
   "metadata": {},
   "outputs": [],
   "source": [
    "#Write a function called repeatString which repeats the given String src exactly count times.\n",
    "def repeatStr(n, s):\n",
    "    ...\n",
    "\n",
    "# Examples:\n",
    "# repeatStr(6, \"I\")       >>    \"IIIIII\"\n",
    "# repeatStr(5, \"Hello\")   >>   \"HelloHelloHelloHelloHello\""
   ]
  },
  {
   "cell_type": "code",
   "execution_count": null,
   "metadata": {},
   "outputs": [],
   "source": [
    "# Given an list of integers your solution should find the smallest integer.\n",
    "def find_min(x):\n",
    "    ...\n",
    "\n",
    "# For example:\n",
    "# Given [34, 15, 88, 2] your solution will return 2\n",
    "# Given [34, -345, -1, 100] your solution will return -345"
   ]
  },
  {
   "cell_type": "code",
   "execution_count": null,
   "metadata": {},
   "outputs": [],
   "source": [
    "# Count the Trues in a list\n",
    "def count_less_than_5(sequence):\n",
    "    ...\n",
    "\n",
    "# For example:\n",
    "# count_trues([True,  True,  False, True,  False,  True])  >>  4"
   ]
  },
  {
   "cell_type": "code",
   "execution_count": null,
   "metadata": {},
   "outputs": [],
   "source": [
    "# Summation\n",
    "#Write a function that finds the summation of every number from 1 to num. \n",
    "# The number will always be a positive integer greater than 0.\n",
    "def summation(x):\n",
    "    ...\n",
    "\n",
    "# For example:\n",
    "#summation(2) -> 3\n",
    "# 1 + 2\n",
    "# summation(8) -> 36\n",
    "# 1 + 2 + 3 + 4 + 5 + 6 + 7 + 8"
   ]
  },
  {
   "cell_type": "markdown",
   "metadata": {},
   "source": [
    "# Classes\n",
    "Classes provide a means of bundling data and functionality together.  Creating a new class creates a new type of object, allowing new instances of that type to be made. Each class instance can have attributes attached to it for maintaining its state. Class instances can also have methods (defined by its class) for modifying its state."
   ]
  },
  {
   "cell_type": "code",
   "execution_count": null,
   "metadata": {},
   "outputs": [],
   "source": [
    "# defining the class\n",
    "class Dog:\n",
    "    def __init__(self, name):\n",
    "        self.name = name\n",
    "        self.tricks = []\n",
    "\n",
    "    def add_trick(self, trick):\n",
    "        self.tricks.append(trick)\n",
    "\n",
    "# Don't worry if you don't fully understand the above, focus on the below :)\n",
    "        \n",
    "# creating and using an instance of it\n",
    "d = Dog('Fido')\n",
    "d.add_trick('roll over')\n",
    "d.add_trick('play dead')\n",
    "d.tricks"
   ]
  },
  {
   "cell_type": "markdown",
   "metadata": {},
   "source": [
    "`Dog` is the **class**, which is a **blueprint** to create object that you can actually use\n",
    "\n",
    "`d` is the **instance (object)** that you can use to do whatever you need"
   ]
  },
  {
   "cell_type": "markdown",
   "metadata": {},
   "source": [
    "## **Revisited High-Low**\n",
    "using what we have learned so far..\n",
    "\n",
    "```input(message)``` is a built-in python function that requests user input showing a message"
   ]
  },
  {
   "cell_type": "code",
   "execution_count": null,
   "metadata": {},
   "outputs": [],
   "source": [
    "import random\n",
    "\n",
    "CARDS = range(1, 13+1)\n",
    "card = random.choice(CARDS)\n",
    "\n",
    "def ask_guess(card):\n",
    "    print('====================')\n",
    "    print('The current card is', card)\n",
    "    guess = input('Is the next one going to be higher (\"h\") or lower (\"l\")? (\"q\" to quit)')\n",
    "    return guess\n",
    "\n",
    "def evaluate_result(card, new_card, guess):\n",
    "    if new_card == card:\n",
    "        print('They are exactly the same card, you lose :(')\n",
    "    elif (new_card > card and guess == 'h') or (new_card < card and guess == 'l'):\n",
    "        print('Well done! you guessed correcty :)')\n",
    "    elif (new_card > card and guess == 'l') or (new_card < card and guess == 'h'):\n",
    "        print('Wrong :(')\n",
    "    elif guess not in ['h','l','q']:\n",
    "        print('you dummy! you can only enter \"h\", \"l\" or \"q\"')\n",
    "    else:\n",
    "        print('?? how did you even get here ??')\n",
    "        \n",
    "\n",
    "guess = ask_guess(card)\n",
    "while guess != 'q':\n",
    "    new_card = random.choice(CARDS)  \n",
    "    print('The new card is: ', new_card)\n",
    "    evaluate_result(card, new_card, guess)\n",
    "    card = new_card\n",
    "    guess = ask_guess(card)\n",
    "\n",
    "print('====================')\n",
    "print(\"Thanks for playing :)\")"
   ]
  },
  {
   "cell_type": "markdown",
   "metadata": {},
   "source": [
    "# High Low Game expanded\n",
    "Here's ***a*** show you a solution for the following tasks, some of you found other working solutions (which is great, well done!)\n",
    "\n",
    "**Tasks**:\n",
    " - allow lowercase letters\n",
    " - print error message if letter is not H or L\n",
    " - outer loop to play a defined number of times \n",
    " \n",
    "I'm going to put comments around the new added code only so it doesn't get to confusing"
   ]
  }
 ],
 "metadata": {
  "kernelspec": {
   "display_name": "Python 3",
   "language": "python",
   "name": "python3"
  },
  "language_info": {
   "codemirror_mode": {
    "name": "ipython",
    "version": 3
   },
   "file_extension": ".py",
   "mimetype": "text/x-python",
   "name": "python",
   "nbconvert_exporter": "python",
   "pygments_lexer": "ipython3",
   "version": "3.9.1"
  },
  "toc-autonumbering": false
 },
 "nbformat": 4,
 "nbformat_minor": 4
}
