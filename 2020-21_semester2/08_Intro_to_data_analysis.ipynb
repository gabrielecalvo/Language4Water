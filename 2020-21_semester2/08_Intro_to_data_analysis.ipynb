{
 "cells": [
  {
   "cell_type": "markdown",
   "id": "intelligent-diesel",
   "metadata": {},
   "source": [
    "# In the previous episode...\n",
    "\n",
    "### learned to read and write files\n",
    "```python\n",
    "with open(\"old_shiny_file.txt\", \"r\") as fh:\n",
    "    content = fh.read()\n",
    "    \n",
    "with open(\"new_shiny_file.txt\", \"w\") as fh:\n",
    "    fh.write(\"hey, this is cool!!\\n\" * 20)\n",
    "```\n",
    "\n",
    "and implemented an \"Ishmael\" counter\n",
    "\n",
    "# .. and now"
   ]
  },
  {
   "cell_type": "markdown",
   "id": "attended-chocolate",
   "metadata": {},
   "source": [
    "# Introduction to Data Analysis\n",
    "We'll download a dataset ([original source](https://www.kaggle.com/unsdsn/world-happiness)) and visualise it."
   ]
  },
  {
   "cell_type": "code",
   "execution_count": null,
   "id": "utility-contemporary",
   "metadata": {},
   "outputs": [],
   "source": [
    "# Don't worry about the code in this cell for now, we'll get to this stuff a future lesson\n",
    "import urllib.request   \n",
    "import zipfile\n",
    "import os\n",
    "\n",
    "urllib.request.urlretrieve(\"https://raw.githubusercontent.com/gabrielecalvo/Language4Water/master/assets/HappinessReport.zip\", 'HappinessReport.zip')\n",
    "print(\"downloaded\")\n",
    "\n",
    "with zipfile.ZipFile('HappinessReport.zip', 'r') as zip_ref:\n",
    "    zip_ref.extractall(\"HappinessReport\")\n",
    "print(\"unzipped\")\n",
    "    \n",
    "os.remove(\"HappinessReport.zip\") \n",
    "print(\"removed zipped file\")"
   ]
  },
  {
   "cell_type": "markdown",
   "id": "continental-monroe",
   "metadata": {},
   "source": [
    "## loading data from a single csv"
   ]
  },
  {
   "cell_type": "code",
   "execution_count": null,
   "id": "adjusted-european",
   "metadata": {},
   "outputs": [],
   "source": [
    "import pandas as pd\n",
    "from pathlib import Path\n",
    "\n",
    "data_folder = Path(\"HappinessReport\")\n",
    "list_of_csvs = list(data_folder.glob(\"*.csv\"))\n",
    "\n",
    "list_of_csvs"
   ]
  },
  {
   "cell_type": "code",
   "execution_count": null,
   "id": "promotional-asthma",
   "metadata": {},
   "outputs": [],
   "source": [
    "df = pd.read_csv(list_of_csvs[1]) # taking 2016 as sample\n",
    "df"
   ]
  },
  {
   "cell_type": "code",
   "execution_count": null,
   "id": "demonstrated-donna",
   "metadata": {},
   "outputs": [],
   "source": [
    "# re-loading using the first column as index\n",
    "df = pd.read_csv(list_of_csvs[1], index_col=0)\n",
    "df"
   ]
  },
  {
   "cell_type": "markdown",
   "id": "peripheral-spell",
   "metadata": {},
   "source": [
    "### selecting"
   ]
  },
  {
   "cell_type": "code",
   "execution_count": null,
   "id": "grave-kernel",
   "metadata": {},
   "outputs": [],
   "source": [
    "# selecting by row\n",
    "df.loc['Switzerland']  # by label\n",
    "df.iloc[1]             # by index"
   ]
  },
  {
   "cell_type": "code",
   "execution_count": null,
   "id": "infectious-kelly",
   "metadata": {
    "tags": []
   },
   "outputs": [],
   "source": [
    "# select by column(s)\n",
    "df['Region']              # returns a single column (Series)\n",
    "df.loc[:, 'Region']       # equivalent longer form\n",
    "\n",
    "df[['Region']]            # returns a table (DataFrame) with one column \n",
    "df[['Region', 'Family']]  # returns a table (DataFrame) with 2 columns"
   ]
  },
  {
   "cell_type": "code",
   "execution_count": null,
   "id": "frozen-alpha",
   "metadata": {},
   "outputs": [],
   "source": [
    "# select by both row and column\n",
    "df.loc['Switzerland', 'Region'] "
   ]
  },
  {
   "cell_type": "markdown",
   "id": "indirect-palmer",
   "metadata": {},
   "source": [
    "### sorting"
   ]
  },
  {
   "cell_type": "code",
   "execution_count": null,
   "id": "impossible-republican",
   "metadata": {},
   "outputs": [],
   "source": [
    "df.sort_index()                             # sort by index (Country)\n",
    "df.sort_values('Freedom')                   # sort by specific column\n",
    "df.sort_values('Freedom', ascending=False)  # sort by specific column but in reverse order"
   ]
  },
  {
   "cell_type": "code",
   "execution_count": null,
   "id": "cultural-integral",
   "metadata": {},
   "outputs": [],
   "source": [
    "# group by\n",
    "df.groupby(\"Region\").mean()"
   ]
  },
  {
   "cell_type": "markdown",
   "id": "concrete-hartford",
   "metadata": {},
   "source": [
    "# Plotting\n",
    "Below are just some examples.\n",
    "If interested, I suggest you look at the well written official documentation: https://pandas.pydata.org/docs/user_guide/visualization.html"
   ]
  },
  {
   "cell_type": "markdown",
   "id": "sapphire-engineering",
   "metadata": {},
   "source": [
    "pandas Series (individual column objects) and pandas Dataframes (data tables) had `.plot` method that allows quick and efficient plotting of data.\n",
    "By default, calling `.plot()` is going to call `.plot.line()`, but there are [many other types of plots](https://pandas.pydata.org/docs/user_guide/visualization.html) supported."
   ]
  },
  {
   "cell_type": "code",
   "execution_count": null,
   "id": "piano-mattress",
   "metadata": {},
   "outputs": [],
   "source": [
    "pd.Series({\n",
    "    \"hi\": 5,\n",
    "    \"how\": 2,\n",
    "    \"are\": 0,\n",
    "    \"you\": 10\n",
    "}).plot()  # same as `.plot.line()`"
   ]
  },
  {
   "cell_type": "markdown",
   "id": "prospective-tractor",
   "metadata": {},
   "source": [
    "## plotting relationships"
   ]
  },
  {
   "cell_type": "code",
   "execution_count": null,
   "id": "delayed-january",
   "metadata": {},
   "outputs": [],
   "source": [
    "df.plot.scatter(                     # creating a scatterplot of\n",
    "    x='Economy (GDP per Capita)',    # using \"GDP/capita\" on the horizontal axis\n",
    "    y='Generosity',                  # using \"Generosity\" on the vertical axis \n",
    ")"
   ]
  },
  {
   "cell_type": "code",
   "execution_count": null,
   "id": "confident-spread",
   "metadata": {},
   "outputs": [],
   "source": [
    "import matplotlib.pyplot as plt\n",
    "fig, ax = plt.subplots()\n",
    "\n",
    "df.plot.scatter(                     # creating a scatterplot of\n",
    "    x='Economy (GDP per Capita)',    # using \"GDP/capita\" on the horizontal axis\n",
    "    y='Generosity',                  # using \"Generosity\" on the vertical axis \n",
    "    c='Health (Life Expectancy)',    # color it by \"Health (Life Expectancy)\"\n",
    "    cmap='rainbow',                  # using a rainbow color spectrum\n",
    "    grid=True,                       # plotting the grid underneath\n",
    "    ax=ax,                           # use the previously defined axis (otherwise the x-axis label will not show, known bug)\n",
    ") "
   ]
  },
  {
   "cell_type": "markdown",
   "id": "sunrise-maximum",
   "metadata": {},
   "source": [
    "### Group Bar Plot"
   ]
  },
  {
   "cell_type": "code",
   "execution_count": null,
   "id": "complimentary-andorra",
   "metadata": {},
   "outputs": [],
   "source": [
    "# grouping by region, taking the average ...\n",
    "regional_means = df.groupby(\"Region\").mean()\n",
    "\n",
    "# ... and plotting the Happiness Score as a bar plot\n",
    "ax = regional_means['Happiness Score'].plot.bar()"
   ]
  },
  {
   "cell_type": "markdown",
   "id": "warming-regard",
   "metadata": {},
   "source": [
    "### saving the figure to file"
   ]
  },
  {
   "cell_type": "code",
   "execution_count": null,
   "id": "challenging-burns",
   "metadata": {},
   "outputs": [],
   "source": [
    "ax.figure.savefig('myplot.jpeg', bbox_inches=\"tight\") # saving the file... without cutting out the lables"
   ]
  },
  {
   "cell_type": "markdown",
   "id": "minor-seeker",
   "metadata": {},
   "source": [
    "# For more..\n",
    "If you find data analysis with pandas interesting and/or useful, I created an open tutorial with exercises along the way that you might find useful:\n",
    "[https://github.com/gabrielecalvo/pandas_tutorial](https://github.com/gabrielecalvo/pandas_tutorial#pandas-tutorial)"
   ]
  },
  {
   "cell_type": "markdown",
   "id": "passing-princess",
   "metadata": {},
   "source": [
    "# Exercise\n",
    "Load data from each year and plot the evolution of the `Happiness Score` of your favourite country over the years"
   ]
  },
  {
   "cell_type": "code",
   "execution_count": null,
   "id": "mathematical-newspaper",
   "metadata": {},
   "outputs": [],
   "source": [
    "..."
   ]
  },
  {
   "cell_type": "markdown",
   "id": "contemporary-promise",
   "metadata": {},
   "source": [
    "### possible solution"
   ]
  },
  {
   "cell_type": "code",
   "execution_count": null,
   "id": "excited-importance",
   "metadata": {
    "jupyter": {
     "source_hidden": true
    },
    "tags": []
   },
   "outputs": [],
   "source": [
    "my_country = \"Italy\"\n",
    "\n",
    "pd.Series({\n",
    "    \"2015\": pd.read_csv('HappinessReport/2015.csv', index_col=0).loc[my_country, 'Happiness Score'],\n",
    "    \"2016\": pd.read_csv('HappinessReport/2016.csv', index_col=0).loc[my_country, 'Happiness Score'],\n",
    "    \"2017\": pd.read_csv('HappinessReport/2017.csv', index_col=0).loc[my_country, 'Happiness.Score'],\n",
    "    \"2018\": pd.read_csv('HappinessReport/2018.csv', index_col=1).loc[my_country, 'Score'],\n",
    "    \"2019\": pd.read_csv('HappinessReport/2019.csv', index_col=1).loc[my_country, 'Score'],\n",
    "}).plot(title='Happiness Score')"
   ]
  },
  {
   "cell_type": "code",
   "execution_count": null,
   "id": "designed-republic",
   "metadata": {},
   "outputs": [],
   "source": [
    "pd.Series({\n",
    "    \"2015\": pd.read_csv('HappinessReport/2015.csv', index_col=0).loc[my_country, 'Happiness Rank'],\n",
    "    \"2016\": pd.read_csv('HappinessReport/2016.csv', index_col=0).loc[my_country, 'Happiness Rank'],\n",
    "    \"2017\": pd.read_csv('HappinessReport/2017.csv', index_col=0).loc[my_country, 'Happiness.Rank'],\n",
    "    \"2018\": pd.read_csv('HappinessReport/2018.csv', index_col=1).loc[my_country, 'Overall rank'],\n",
    "    \"2019\": pd.read_csv('HappinessReport/2019.csv', index_col=1).loc[my_country, 'Overall rank'],\n",
    "}).plot(title='Happiness Rank')"
   ]
  }
 ],
 "metadata": {
  "kernelspec": {
   "display_name": "Python 3",
   "language": "python",
   "name": "python3"
  },
  "language_info": {
   "codemirror_mode": {
    "name": "ipython",
    "version": 3
   },
   "file_extension": ".py",
   "mimetype": "text/x-python",
   "name": "python",
   "nbconvert_exporter": "python",
   "pygments_lexer": "ipython3",
   "version": "3.9.1"
  }
 },
 "nbformat": 4,
 "nbformat_minor": 5
}
