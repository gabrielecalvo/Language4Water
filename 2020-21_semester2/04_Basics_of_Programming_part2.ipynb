{
 "cells": [
  {
   "cell_type": "markdown",
   "metadata": {},
   "source": [
    "# In the previous episode...\n",
    "\n",
    "## common basic types\n",
    "```python\n",
    "a = 7          # integer\n",
    "b = 3.14       # float\n",
    "c = 'ciao'     # string (a.k.a. text)\n",
    "d = \"ciao\"     # also string\n",
    "e = True       # boolean (either True or False)\n",
    "```\n",
    "\n",
    "## common number operations\n",
    "```python\n",
    "7 // 3   # floor division\n",
    "7 % 3    # division remainder\n",
    "7 > 3    # greater than\n",
    "7 < 3    # lower than\n",
    "7 >= 3   # greater than or equal\n",
    "7 <= 3   # lower than or equal\n",
    "7 != 3   # different\n",
    "7 == 7   # equal (comparison)\n",
    "```\n",
    "\n",
    ".. if you are ever in a hurry, you can try: https://www.pythoncheatsheet.org/#Python-Basics"
   ]
  },
  {
   "cell_type": "markdown",
   "metadata": {},
   "source": [
    "# .. and now"
   ]
  },
  {
   "cell_type": "markdown",
   "metadata": {
    "id": "9jIsva79of9q"
   },
   "source": [
    "# Fun with... strings"
   ]
  },
  {
   "cell_type": "code",
   "execution_count": null,
   "metadata": {},
   "outputs": [],
   "source": [
    "a = \"Hello\"\n",
    "b = \"Word\"\n",
    "\n",
    "c = \"\"\"multiline\n",
    "string\"\"\"  # or triple ' symbol\n",
    "\n",
    "print(a + b)   # concatentation\n",
    "print(a * 5)   # repetition\n",
    "print(a > b)   # alphanumberic comparison, works with >, <, ==, and != too"
   ]
  },
  {
   "cell_type": "markdown",
   "metadata": {},
   "source": [
    "### string methods\n",
    "All types have special functionality attached (also called `methods`). String's one can be particularly useful when working with them.\n",
    "\n",
    "Some nice ones are:\n",
    "```python\n",
    "\"aAbB\".upper()  # \"AABB\"\n",
    "\"aAbB\".lower()  # \"aabb\"\n",
    "\"aAbB\".title()  # \"Aabb\"\n",
    "\n",
    "\"aAbB\".startswith(\"aA\")   # True\n",
    "\"aAbB\".endswith(\"aA\")     # False\n",
    "\"aAbB\".replace(\"A\", \"C\")  # \"aCbB\"\n",
    "```"
   ]
  },
  {
   "cell_type": "markdown",
   "metadata": {},
   "source": [
    "### string templeting\n",
    "Another useful way to work with strings is using *templeting*, which can \n",
    "be done using either of these formats:"
   ]
  },
  {
   "cell_type": "code",
   "execution_count": null,
   "metadata": {},
   "outputs": [],
   "source": [
    "myvar = \"brilliant\"\n",
    "\n",
    "print(\"this %s template\" % myvar)        # outdated, use one of the others\n",
    "print(\"this {} template\".format(myvar))  # sometimes useful\n",
    "print(f\"this {myvar} template\")          # most modern and nicer to work with"
   ]
  },
  {
   "cell_type": "markdown",
   "metadata": {},
   "source": [
    "## getting user input\n",
    "the simplest way to get user input is to use the `input` function"
   ]
  },
  {
   "cell_type": "code",
   "execution_count": null,
   "metadata": {},
   "outputs": [],
   "source": [
    "city = input(\"Capital of Germany? \")\n",
    "\n",
    "print(f\"you said {city}, it was Berlin\")"
   ]
  },
  {
   "cell_type": "markdown",
   "metadata": {},
   "source": [
    "# Silly Mad-lib"
   ]
  },
  {
   "cell_type": "code",
   "execution_count": null,
   "metadata": {},
   "outputs": [],
   "source": [
    "adj = input(\"give me an ADJECTIVE: \")\n",
    "noun = input(\"give me an NOUN: \")\n",
    "animal = input(\"give me an ANIMAL: \")\n",
    "sound = input(\"give me an SOUND: \")\n",
    "print(\"thanks, run the next cell to see your song\")"
   ]
  },
  {
   "cell_type": "code",
   "execution_count": null,
   "metadata": {
    "jupyter": {
     "source_hidden": true
    },
    "tags": []
   },
   "outputs": [],
   "source": [
    "print(f\"\"\"\n",
    "{adj} Macdonald had a {noun}, E-I-E-I-O\n",
    "and on that {noun} he had an {animal}, E-I-E-I-O\n",
    "with a {sound} {sound} here\n",
    "and a {sound} {sound} there,\n",
    "here a {sound}, there a {sound},\n",
    "everywhere a {sound} {sound},\n",
    "{adj} Macdonald had a {noun}, E-I-E-I-O. \n",
    "\"\"\")"
   ]
  },
  {
   "cell_type": "markdown",
   "metadata": {},
   "source": [
    "**IDEA** for further development: give [TextToSpeech](https://pypi.org/project/gTTS) a try (must run locally)"
   ]
  },
  {
   "cell_type": "markdown",
   "metadata": {
    "id": "lzLHXjC5h_vV"
   },
   "source": [
    "# \\~\\~\\~ Question Break!! \\~\\~\\~\n",
    "![question_break](https://raw.githubusercontent.com/gabrielecalvo/Language4Water/master/assets/xx_question_break.jpg)"
   ]
  },
  {
   "cell_type": "markdown",
   "metadata": {},
   "source": [
    "# Using the standard library (shipped with python)"
   ]
  },
  {
   "cell_type": "code",
   "execution_count": null,
   "metadata": {},
   "outputs": [],
   "source": [
    "import random\n",
    "\n",
    "random.randint(1,13)"
   ]
  },
  {
   "cell_type": "markdown",
   "metadata": {},
   "source": [
    "## Inspecting the documentation\n",
    "If you want to learn more about how to use a particular function (or method, or class) you can use the following"
   ]
  },
  {
   "cell_type": "code",
   "execution_count": null,
   "metadata": {},
   "outputs": [],
   "source": [
    "# works in any python console\n",
    "help(random.randint)"
   ]
  },
  {
   "cell_type": "code",
   "execution_count": null,
   "metadata": {},
   "outputs": [],
   "source": [
    "# work in jupyter (and ipython consoles)\n",
    "random.randint?"
   ]
  },
  {
   "cell_type": "code",
   "execution_count": null,
   "metadata": {},
   "outputs": [],
   "source": [
    "# See source code, work in jupyter (and ipython consoles)\n",
    "random.randint??"
   ]
  },
  {
   "cell_type": "markdown",
   "metadata": {},
   "source": [
    "# High-Low Game\n",
    "Guess if the next card is going to be higher or lower than what just came out (tie loses)"
   ]
  },
  {
   "cell_type": "code",
   "execution_count": null,
   "metadata": {},
   "outputs": [],
   "source": [
    "import random\n",
    "\n",
    "card = random.randint(1, 13)\n",
    "print(f\"the new card is card < {card} >\")"
   ]
  },
  {
   "cell_type": "markdown",
   "metadata": {
    "id": "jzBPvYrteEk0"
   },
   "source": [
    "# Aggregate of Types"
   ]
  },
  {
   "cell_type": "code",
   "execution_count": null,
   "metadata": {
    "id": "iyBRxqAUcemH"
   },
   "outputs": [],
   "source": [
    "f = [1, 2, 3]       # list\n",
    "h = {'a':1, 'b':2}  # dictionary (key-value mappings)"
   ]
  },
  {
   "cell_type": "code",
   "execution_count": null,
   "metadata": {
    "id": "3LMB_S7flGNR"
   },
   "outputs": [],
   "source": [
    "# the content can be eterogenous (different types)\n",
    "f = [1, \"two\", 3, False] \n",
    "g = {'a': 1, 2: True}  "
   ]
  },
  {
   "cell_type": "markdown",
   "metadata": {
    "id": "6A0vojiZsAA2"
   },
   "source": [
    "# Fun with... Lists"
   ]
  },
  {
   "cell_type": "code",
   "execution_count": null,
   "metadata": {},
   "outputs": [],
   "source": [
    "my_list = ['John', 'Paul', 'George', 'Ringo']  # most common is all the same type"
   ]
  },
  {
   "cell_type": "code",
   "execution_count": null,
   "metadata": {
    "id": "djCBc0DbsCst"
   },
   "outputs": [],
   "source": [
    "# get first element of the list\n",
    "print(my_list[0])\n",
    "\n",
    "# get second\n",
    "print(my_list[1])\n",
    "\n",
    "# get last\n",
    "print(my_list[-1])"
   ]
  },
  {
   "cell_type": "markdown",
   "metadata": {},
   "source": [
    "## List slicing\n",
    "also used for **arrays**, **matrices**, **pd.Series** and **strings**\n",
    "\n",
    "LIST[start:end:step]\n",
    "\n",
    "![slicing](https://miro.medium.com/max/1838/1*HqdR129XR8-1ojtTYLou7g.png)"
   ]
  },
  {
   "cell_type": "code",
   "execution_count": null,
   "metadata": {},
   "outputs": [],
   "source": [
    "# taking first two\n",
    "my_list[:2]    # same as my_list[0:2:1]"
   ]
  },
  {
   "cell_type": "code",
   "execution_count": null,
   "metadata": {},
   "outputs": [],
   "source": [
    "# taking last two\n",
    "my_list[-2:]    # same as my_list[-2::1]"
   ]
  },
  {
   "cell_type": "code",
   "execution_count": null,
   "metadata": {},
   "outputs": [],
   "source": [
    "# taking middle two?\n",
    "my_list[1:-1]  # or my_list[1:3]"
   ]
  },
  {
   "cell_type": "code",
   "execution_count": null,
   "metadata": {},
   "outputs": [],
   "source": [
    "# taking one every two (even numbers)\n",
    "my_list[::2]"
   ]
  },
  {
   "cell_type": "code",
   "execution_count": null,
   "metadata": {},
   "outputs": [],
   "source": [
    "# reversing the order?\n",
    "my_list[::-1]\n",
    "\n",
    "# or to reverse it in-place `my_list.reverse()`"
   ]
  },
  {
   "cell_type": "code",
   "execution_count": null,
   "metadata": {},
   "outputs": [],
   "source": [
    "# sorting a list\n",
    "sorted(my_list)"
   ]
  },
  {
   "cell_type": "code",
   "execution_count": null,
   "metadata": {},
   "outputs": [],
   "source": [
    "# changing one value\n",
    "print('before: ', my_list)\n",
    "my_list[2] = 'THE George'\n",
    "print('after: ', my_list)"
   ]
  },
  {
   "cell_type": "code",
   "execution_count": null,
   "metadata": {},
   "outputs": [],
   "source": [
    "# adding elements to a list\n",
    "my_list.append('Pete')\n",
    "\n",
    "my_list"
   ]
  },
  {
   "cell_type": "code",
   "execution_count": null,
   "metadata": {},
   "outputs": [],
   "source": [
    "# checking if element in list\n",
    "'Pete' in my_list"
   ]
  },
  {
   "cell_type": "markdown",
   "metadata": {},
   "source": [
    "# \\~\\~\\~ Question Break!! \\~\\~\\~\n",
    "![question_break](https://raw.githubusercontent.com/gabrielecalvo/Language4Water/master/assets/xx_question_break.jpg)"
   ]
  },
  {
   "cell_type": "markdown",
   "metadata": {
    "id": "6A0vojiZsAA2"
   },
   "source": [
    "# Fun with... Dictionaries\n",
    "Collection of key-value pairs"
   ]
  },
  {
   "cell_type": "code",
   "execution_count": null,
   "metadata": {},
   "outputs": [],
   "source": [
    "# values can be duplicated, keys cannot\n",
    "the_beatles_instruments = {\n",
    "    'John': 'guitar',\n",
    "    'Paul':  'guitar',  \n",
    "    'George': 'bass',\n",
    "    'Ringo': 'drums',\n",
    "} \n",
    "\n",
    "# values can be eterogenous and nested\n",
    "the_beatles_tenure = {\n",
    "    'John': {'start': 1960, 'end': 1969},\n",
    "    'Paul':  [1960, 1970],\n",
    "    'George': (1960, 1970),\n",
    "    'Ringo': '1962–1970',\n",
    "}"
   ]
  },
  {
   "cell_type": "code",
   "execution_count": null,
   "metadata": {},
   "outputs": [],
   "source": [
    "# accessing a value\n",
    "the_beatles_instruments['Paul']"
   ]
  },
  {
   "cell_type": "code",
   "execution_count": null,
   "metadata": {},
   "outputs": [],
   "source": [
    "# starting year of John?\n",
    "the_beatles_tenure['John']['start']"
   ]
  },
  {
   "cell_type": "code",
   "execution_count": null,
   "metadata": {},
   "outputs": [],
   "source": [
    "# adding a new value\n",
    "the_beatles_instruments['Pete'] = ['drums']\n",
    "\n",
    "the_beatles_instruments"
   ]
  },
  {
   "cell_type": "code",
   "execution_count": null,
   "metadata": {},
   "outputs": [],
   "source": [
    "# getting all keys\n",
    "the_beatles_tenure.keys()"
   ]
  },
  {
   "cell_type": "code",
   "execution_count": null,
   "metadata": {},
   "outputs": [],
   "source": [
    "# getting all values\n",
    "the_beatles_tenure.values()"
   ]
  },
  {
   "cell_type": "code",
   "execution_count": null,
   "metadata": {},
   "outputs": [],
   "source": [
    "# getting all keys-values as pairs\n",
    "the_beatles_tenure.items()"
   ]
  },
  {
   "cell_type": "markdown",
   "metadata": {},
   "source": [
    "# If Statement\n",
    "diverting the execution flow depending on 1+ condition"
   ]
  },
  {
   "cell_type": "code",
   "execution_count": null,
   "metadata": {},
   "outputs": [],
   "source": [
    "happy = True\n",
    "know_it = True"
   ]
  },
  {
   "cell_type": "code",
   "execution_count": null,
   "metadata": {},
   "outputs": [],
   "source": [
    "if happy and know_it:\n",
    "    print('hands go clap clap')\n",
    "elif not know_it:\n",
    "    print('hands go clap')\n",
    "else:\n",
    "    print('...silence...')"
   ]
  },
  {
   "cell_type": "code",
   "execution_count": null,
   "metadata": {},
   "outputs": [],
   "source": [
    "# what result do I expect with.. ? \n",
    "happy = True\n",
    "know_it = False"
   ]
  },
  {
   "cell_type": "code",
   "execution_count": null,
   "metadata": {},
   "outputs": [],
   "source": [
    "# what result do I expect with.. ? \n",
    "happy = False\n",
    "know_it = True"
   ]
  },
  {
   "cell_type": "code",
   "execution_count": null,
   "metadata": {},
   "outputs": [],
   "source": [
    "# what result do I expect with.. ? \n",
    "happy = False\n",
    "know_it = False"
   ]
  },
  {
   "cell_type": "markdown",
   "metadata": {},
   "source": [
    "# For Loop\n",
    "runs a part of the code multiple times: one for every item in the sequence"
   ]
  },
  {
   "cell_type": "code",
   "execution_count": null,
   "metadata": {},
   "outputs": [],
   "source": [
    "for i in range(5):\n",
    "    print(i)"
   ]
  },
  {
   "cell_type": "code",
   "execution_count": null,
   "metadata": {},
   "outputs": [],
   "source": [
    "print(the_beatles_instruments)"
   ]
  },
  {
   "cell_type": "code",
   "execution_count": null,
   "metadata": {},
   "outputs": [],
   "source": [
    "d = {1: 'one', 4:'four'}\n",
    "\n",
    "for k in d.items():\n",
    "    print('pair:', k)"
   ]
  },
  {
   "cell_type": "code",
   "execution_count": null,
   "metadata": {},
   "outputs": [],
   "source": [
    "for k,v in d.items():\n",
    "    print('key:', k, 'value:', v)"
   ]
  },
  {
   "cell_type": "code",
   "execution_count": null,
   "metadata": {},
   "outputs": [],
   "source": [
    "# NESTED LOOP\n",
    "# I heard you like loops so I put a loop in a loop... \n",
    "for member, instruments in the_beatles_instruments.items():\n",
    "    for instrument in instruments:\n",
    "        print(member, 'plays', instrument)"
   ]
  },
  {
   "cell_type": "markdown",
   "metadata": {},
   "source": [
    "# While Loop\n",
    "runs a part of the code multiple times: until a condition is met"
   ]
  },
  {
   "cell_type": "code",
   "execution_count": null,
   "metadata": {},
   "outputs": [],
   "source": [
    "current_value = 0\n",
    "while current_value <= 5:\n",
    "    print('the current value is: ', current_value)\n",
    "    current_value += 1"
   ]
  },
  {
   "cell_type": "markdown",
   "metadata": {},
   "source": [
    "# Function\n",
    "ways to group and reuse code that can be logically isolated"
   ]
  },
  {
   "cell_type": "code",
   "execution_count": null,
   "metadata": {},
   "outputs": [],
   "source": [
    "# defining a function\n",
    "def simple_greeting():\n",
    "    print('Hi')"
   ]
  },
  {
   "cell_type": "code",
   "execution_count": null,
   "metadata": {},
   "outputs": [],
   "source": [
    "# calling a function (using it)\n",
    "simple_greeting()"
   ]
  },
  {
   "cell_type": "code",
   "execution_count": null,
   "metadata": {},
   "outputs": [],
   "source": [
    "def greeting(name, lastname):\n",
    "    print('Hi,', name, lastname)\n",
    "\n",
    "greeting('Bob', 'Kelso')                 # passing argument as positional (ORDER MATTERS)\n",
    "greeting(lastname='Kelso', name='Bob')   # passing argument as keyword (ORDER DOES NOT MATTER)"
   ]
  },
  {
   "cell_type": "code",
   "execution_count": null,
   "metadata": {},
   "outputs": [],
   "source": [
    "def greeting_with_default(name='you'):\n",
    "    print('Hi,', name)\n",
    "\n",
    "greeting_with_default()\n",
    "greeting_with_default('Bob')\n",
    "greeting_with_default(name='Bob')"
   ]
  },
  {
   "cell_type": "code",
   "execution_count": null,
   "metadata": {},
   "outputs": [],
   "source": [
    "# returning values instead of printing it\n",
    "def duplicate(x):\n",
    "    return 2*x   # instead of printing it we are returing it.. \n",
    "\n",
    "douplex = duplicate(3)  # ... so the result can be assigned to a function.\n",
    "douplex"
   ]
  },
  {
   "cell_type": "code",
   "execution_count": null,
   "metadata": {},
   "outputs": [],
   "source": [
    "# what happens if I do.. ?\n",
    "duplicate(duplicate(3))"
   ]
  },
  {
   "cell_type": "markdown",
   "metadata": {},
   "source": [
    "## **Exercises**\n",
    "mostrly taken from [codewars.com](https://www.codewars.com)"
   ]
  },
  {
   "cell_type": "code",
   "execution_count": null,
   "metadata": {},
   "outputs": [],
   "source": [
    "# Write a program that prints the numbers from 1 to 20. But for multiples of three prints “Fizz” instead of the number and for the multiples of five print “Buzz”. For numbers which are multiples of both three and five print “FizzBuzz”.\n",
    "        \n",
    "# hint: the first prints should be: 1 2 Fizz 4 Buzz Fizz ..."
   ]
  },
  {
   "cell_type": "code",
   "execution_count": null,
   "metadata": {},
   "outputs": [],
   "source": [
    "#Write a function called repeatString which repeats the given String src exactly count times.\n",
    "def repeatStr(n, s):\n",
    "    ...\n",
    "\n",
    "# Examples:\n",
    "# repeatStr(6, \"I\")       >>    \"IIIIII\"\n",
    "# repeatStr(5, \"Hello\")   >>   \"HelloHelloHelloHelloHello\""
   ]
  },
  {
   "cell_type": "code",
   "execution_count": null,
   "metadata": {},
   "outputs": [],
   "source": [
    "# Create a function that removes the first and last characters of a string.\n",
    "def trim(x):\n",
    "    ...\n",
    "\n",
    "# Examples:\n",
    "# trim(\"Chocolate\")   >>   \"hocolat\"\n",
    "# trim(\"L4W\")         >>   \"4\""
   ]
  },
  {
   "cell_type": "code",
   "execution_count": null,
   "metadata": {},
   "outputs": [],
   "source": [
    "# you are given a number and have to make it negative. But maybe the number is already negative?\n",
    "def make_negative(x):\n",
    "    ...\n",
    "\n",
    "# Examples:\n",
    "# make_negative(1)    >> -1\n",
    "# make_negative(-5)   >> -5\n",
    "# make_negative(0)    >> 0"
   ]
  },
  {
   "cell_type": "code",
   "execution_count": null,
   "metadata": {},
   "outputs": [],
   "source": [
    "# Given an list of integers your solution should find the smallest integer.\n",
    "def find_min(x):\n",
    "    ...\n",
    "\n",
    "# For example:\n",
    "# Given [34, 15, 88, 2] your solution will return 2\n",
    "# Given [34, -345, -1, 100] your solution will return -345"
   ]
  },
  {
   "cell_type": "code",
   "execution_count": null,
   "metadata": {},
   "outputs": [],
   "source": [
    "# Count the Trues in a list\n",
    "def count_less_than_5(sequence):\n",
    "    ...\n",
    "\n",
    "# For example:\n",
    "# count_trues([True,  True,  False, True,  False,  True])  >>  4"
   ]
  },
  {
   "cell_type": "code",
   "execution_count": null,
   "metadata": {},
   "outputs": [],
   "source": [
    "# Summation\n",
    "#Write a function that finds the summation of every number from 1 to num. \n",
    "# The number will always be a positive integer greater than 0.\n",
    "def summation(x):\n",
    "    ...\n",
    "\n",
    "# For example:\n",
    "#summation(2) -> 3\n",
    "# 1 + 2\n",
    "# summation(8) -> 36\n",
    "# 1 + 2 + 3 + 4 + 5 + 6 + 7 + 8"
   ]
  },
  {
   "cell_type": "markdown",
   "metadata": {},
   "source": [
    "# Classes\n",
    "Classes provide a means of bundling data and functionality together.  Creating a new class creates a new type of object, allowing new instances of that type to be made. Each class instance can have attributes attached to it for maintaining its state. Class instances can also have methods (defined by its class) for modifying its state."
   ]
  },
  {
   "cell_type": "code",
   "execution_count": null,
   "metadata": {},
   "outputs": [],
   "source": [
    "# defining the class\n",
    "class Dog:\n",
    "    def __init__(self, name):\n",
    "        self.name = name\n",
    "        self.tricks = []\n",
    "\n",
    "    def add_trick(self, trick):\n",
    "        self.tricks.append(trick)\n",
    "\n",
    "# Don't worry if you don't fully understand the above, focus on the below :)\n",
    "        \n",
    "# creating and using an instance of it\n",
    "d = Dog('Fido')\n",
    "d.add_trick('roll over')\n",
    "d.add_trick('play dead')\n",
    "d.tricks"
   ]
  },
  {
   "cell_type": "markdown",
   "metadata": {},
   "source": [
    "`Dog` is the **class**, which is a **blueprint** to create object that you can actually use\n",
    "\n",
    "`d` is the **instance (object)** that you can use to do whatever you need"
   ]
  },
  {
   "cell_type": "markdown",
   "metadata": {},
   "source": [
    "## **Revisited High-Low**\n",
    "using what we have learned so far..\n",
    "\n",
    "```input(message)``` is a built-in python function that requests user input showing a message"
   ]
  },
  {
   "cell_type": "code",
   "execution_count": null,
   "metadata": {},
   "outputs": [],
   "source": [
    "import random\n",
    "\n",
    "CARDS = range(1, 13+1)\n",
    "card = random.choice(CARDS)\n",
    "\n",
    "def ask_guess(card):\n",
    "    print('====================')\n",
    "    print('The current card is', card)\n",
    "    guess = input('Is the next one going to be higher (\"h\") or lower (\"l\")? (\"q\" to quit)')\n",
    "    return guess\n",
    "\n",
    "def evaluate_result(card, new_card, guess):\n",
    "    if new_card == card:\n",
    "        print('They are exactly the same card, you lose :(')\n",
    "    elif (new_card > card and guess == 'h') or (new_card < card and guess == 'l'):\n",
    "        print('Well done! you guessed correcty :)')\n",
    "    elif (new_card > card and guess == 'l') or (new_card < card and guess == 'h'):\n",
    "        print('Wrong :(')\n",
    "    elif guess not in ['h','l','q']:\n",
    "        print('you dummy! you can only enter \"h\", \"l\" or \"q\"')\n",
    "    else:\n",
    "        print('?? how did you even get here ??')\n",
    "        \n",
    "\n",
    "guess = ask_guess(card)\n",
    "while guess != 'q':\n",
    "    new_card = random.choice(CARDS)  \n",
    "    print('The new card is: ', new_card)\n",
    "    evaluate_result(card, new_card, guess)\n",
    "    card = new_card\n",
    "    guess = ask_guess(card)\n",
    "\n",
    "print('====================')\n",
    "print(\"Thanks for playing :)\")"
   ]
  },
  {
   "cell_type": "markdown",
   "metadata": {},
   "source": [
    "# High Low Game expanded\n",
    "Here's ***a*** show you a solution for the following tasks, some of you found other working solutions (which is great, well done!)\n",
    "\n",
    "**Tasks**:\n",
    " - allow lowercase letters\n",
    " - print error message if letter is not H or L\n",
    " - outer loop to play a defined number of times \n",
    " \n",
    "I'm going to put comments around the new added code only so it doesn't get to confusing"
   ]
  }
 ],
 "metadata": {
  "kernelspec": {
   "display_name": "Python 3",
   "language": "python",
   "name": "python3"
  },
  "language_info": {
   "codemirror_mode": {
    "name": "ipython",
    "version": 3
   },
   "file_extension": ".py",
   "mimetype": "text/x-python",
   "name": "python",
   "nbconvert_exporter": "python",
   "pygments_lexer": "ipython3",
   "version": "3.9.1"
  },
  "toc-autonumbering": false
 },
 "nbformat": 4,
 "nbformat_minor": 4
}
