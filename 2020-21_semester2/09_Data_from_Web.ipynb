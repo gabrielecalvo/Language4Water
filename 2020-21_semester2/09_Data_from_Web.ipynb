{
 "cells": [
  {
   "cell_type": "markdown",
   "id": "editorial-student",
   "metadata": {},
   "source": [
    "# Getting Data from the Web\n",
    "The internet is full of useful (as well as useless) information, so sometimes it might be very helpful to get data from it and process it locally.\n",
    "\n",
    "There are different ways to get data from the web, the most used are:\n",
    "- **Web Scraping**: download the html content from the page and then look from it to extract information\n",
    "- **Using Web API**: APIs ([Application Programming Interface](https://en.wikipedia.org/wiki/API)) is code that is meant to be called from other code instead of displayed visually to a user. We'll be looking at the most common type: [REST API](https://en.wikipedia.org/wiki/Representational_state_transfer)\n",
    "\n",
    "Often Web API need authentication, but ofter you can get a API key after a quick free signup.\n",
    "[Here's a non-exaustive list](https://github.com/public-apis/public-apis) of open APIs."
   ]
  },
  {
   "cell_type": "markdown",
   "id": "several-johns",
   "metadata": {},
   "source": [
    "## External Libraries\n",
    "We'll be using these two external libraries:\n",
    "- [requests](https://requests.readthedocs.io/en/master/): a more user-friendly alternative to the built-in library `urllib.request`\n",
    "- [beautifulsoup4](https://www.crummy.com/software/BeautifulSoup/bs4/doc/) a html parser, which is a type of software that builds a data structure from given inputs (usually of text kind).\n",
    "\n",
    "which you can install by runnin the cell below"
   ]
  },
  {
   "cell_type": "code",
   "execution_count": 1,
   "id": "aging-median",
   "metadata": {},
   "outputs": [
    {
     "name": "stdout",
     "output_type": "stream",
     "text": [
      "Requirement already satisfied: requests in c:\\users\\xps\\documents\\coding\\github\\language4water\\venv\\lib\\site-packages (2.25.1)\n",
      "Requirement already satisfied: idna<3,>=2.5 in c:\\users\\xps\\documents\\coding\\github\\language4water\\venv\\lib\\site-packages (from requests) (2.10)\n",
      "Requirement already satisfied: urllib3<1.27,>=1.21.1 in c:\\users\\xps\\documents\\coding\\github\\language4water\\venv\\lib\\site-packages (from requests) (1.26.3)\n",
      "Requirement already satisfied: certifi>=2017.4.17 in c:\\users\\xps\\documents\\coding\\github\\language4water\\venv\\lib\\site-packages (from requests) (2020.12.5)\n",
      "Requirement already satisfied: chardet<5,>=3.0.2 in c:\\users\\xps\\documents\\coding\\github\\language4water\\venv\\lib\\site-packages (from requests) (4.0.0)\n",
      "Requirement already satisfied: beautifulsoup4 in c:\\users\\xps\\documents\\coding\\github\\language4water\\venv\\lib\\site-packages (4.9.3)\n",
      "Requirement already satisfied: soupsieve>1.2 in c:\\users\\xps\\documents\\coding\\github\\language4water\\venv\\lib\\site-packages (from beautifulsoup4) (2.2.1)\n"
     ]
    }
   ],
   "source": [
    "!pip install requests \n",
    "!pip install beautifulsoup4"
   ]
  },
  {
   "cell_type": "code",
   "execution_count": 2,
   "id": "inner-victim",
   "metadata": {},
   "outputs": [],
   "source": [
    "# let's import from them to check they were installed correctly\n",
    "import requests\n",
    "from bs4 import BeautifulSoup"
   ]
  },
  {
   "cell_type": "markdown",
   "id": "abandoned-ancient",
   "metadata": {},
   "source": [
    "## Web Scraping"
   ]
  },
  {
   "cell_type": "code",
   "execution_count": 3,
   "id": "healthy-corrections",
   "metadata": {},
   "outputs": [
    {
     "data": {
      "text/plain": [
       "<Response [200]>"
      ]
     },
     "execution_count": 3,
     "metadata": {},
     "output_type": "execute_result"
    }
   ],
   "source": [
    "r = requests.get(\"https://www.metaweather.com/21125/\")\n",
    "r"
   ]
  },
  {
   "cell_type": "code",
   "execution_count": 4,
   "id": "sacred-general",
   "metadata": {
    "tags": []
   },
   "outputs": [
    {
     "data": {
      "text/plain": [
       "'\\n<!DOCTYPE html>\\n<html lang=\"en\" dir=\"ltr\">\\n\\t<head>\\n\\t\\t<meta charset=\"utf-8\">\\n\\t\\t<meta http-equiv=\"X-UA-Compatible\" content=\"IE=edge\">\\n\\t\\t<title>Glasgow - MetaWeather</title>\\n\\t\\t<meta name=\"viewport\" cont'"
      ]
     },
     "execution_count": 4,
     "metadata": {},
     "output_type": "execute_result"
    }
   ],
   "source": [
    "html_doc = r.text\n",
    "html_doc[:200]"
   ]
  },
  {
   "cell_type": "markdown",
   "id": "placed-handle",
   "metadata": {
    "jupyter": {
     "outputs_hidden": true
    },
    "tags": []
   },
   "source": [
    "if you want you can try render the html within the notebook by using\n",
    "```python\n",
    "from IPython.core.display import HTML\n",
    "HTML(r.text)\n",
    "```"
   ]
  },
  {
   "cell_type": "markdown",
   "id": "visible-pacific",
   "metadata": {},
   "source": [
    "We could try an do string manipulation (or using [regular expression syntax](https://www.w3schools.com/python/python_regex.asp)), but using a pre-built parser is usually less painful :)"
   ]
  },
  {
   "cell_type": "code",
   "execution_count": 5,
   "id": "recreational-scanner",
   "metadata": {},
   "outputs": [],
   "source": [
    "soup = BeautifulSoup(html_doc, 'html.parser')"
   ]
  },
  {
   "cell_type": "code",
   "execution_count": 6,
   "id": "married-newark",
   "metadata": {
    "tags": []
   },
   "outputs": [],
   "source": [
    "weather_data = []\n",
    "\n",
    "for item in soup.findAll('div'):\n",
    "    if item.has_attr('data-date'):\n",
    "        weather_date = item['data-date']\n",
    "        weather_description = item.find(\"span\").get_text()\n",
    "        \n",
    "        weather_day_data = {\n",
    "            \"date\": weather_date,\n",
    "            \"description\": weather_description,\n",
    "        }\n",
    "        \n",
    "        weather_data.append(weather_day_data)"
   ]
  },
  {
   "cell_type": "code",
   "execution_count": 7,
   "id": "preceding-insertion",
   "metadata": {},
   "outputs": [
    {
     "data": {
      "text/plain": [
       "[{'date': '2021-3-31', 'description': 'Light Rain'},\n",
       " {'date': '2021-4-1', 'description': 'Heavy Cloud'},\n",
       " {'date': '2021-4-2', 'description': 'Clear'},\n",
       " {'date': '2021-4-3', 'description': 'Clear'},\n",
       " {'date': '2021-4-4', 'description': 'Thunder'},\n",
       " {'date': '2021-4-5', 'description': 'Hail'}]"
      ]
     },
     "execution_count": 7,
     "metadata": {},
     "output_type": "execute_result"
    }
   ],
   "source": [
    "weather_data"
   ]
  },
  {
   "cell_type": "markdown",
   "id": "owned-brunswick",
   "metadata": {},
   "source": [
    "## Web API\n",
    "APIs are usually much more stable and nicer to work with, but you usually need to read through some documentation to learn what you can do and which particular urls (called \"endpoints\") you need to use.\n",
    "\n",
    "In our case, [MetaWeather API documentation](https://www.metaweather.com/api/) tells us that to get a similar output as our scraped data, we need to use the endpoint `/api/location/(woeid)/` where `woeid` is the identifier of the location we want the weather from."
   ]
  },
  {
   "cell_type": "code",
   "execution_count": 8,
   "id": "recognized-specialist",
   "metadata": {},
   "outputs": [
    {
     "data": {
      "text/plain": [
       "<Response [200]>"
      ]
     },
     "execution_count": 8,
     "metadata": {},
     "output_type": "execute_result"
    }
   ],
   "source": [
    "r = requests.get(\"https://www.metaweather.com/api/location/21125?api=hjagr0r3hg03hrghg0g3rah0\")\n",
    "r"
   ]
  },
  {
   "cell_type": "code",
   "execution_count": 9,
   "id": "plastic-toddler",
   "metadata": {
    "collapsed": true,
    "jupyter": {
     "outputs_hidden": true
    },
    "tags": []
   },
   "outputs": [
    {
     "data": {
      "text/plain": [
       "'{\"consolidated_weather\":[{\"id\":5372497366089728,\"weather_state_name\":\"Light Rain\",\"weather_state_abbr\":\"lr\",\"wind_direction_compass\":\"E\",\"created\":\"2021-03-31T18:38:28.090394Z\",\"applicable_date\":\"2021-03-31\",\"min_temp\":5.34,\"max_temp\":13.725,\"the_temp\":12.93,\"wind_speed\":4.829074982162836,\"wind_direction\":85.0748046282231,\"air_pressure\":1019.5,\"humidity\":78,\"visibility\":7.382200449375646,\"predictability\":75},{\"id\":6747955676577792,\"weather_state_name\":\"Heavy Cloud\",\"weather_state_abbr\":\"hc\",\"wind_direction_compass\":\"ENE\",\"created\":\"2021-03-31T18:38:31.603885Z\",\"applicable_date\":\"2021-04-01\",\"min_temp\":2.955,\"max_temp\":10.68,\"the_temp\":9.265,\"wind_speed\":7.408070453882659,\"wind_direction\":66.1666535025983,\"air_pressure\":1031.5,\"humidity\":64,\"visibility\":13.973395371033167,\"predictability\":71},{\"id\":6209309701570560,\"weather_state_name\":\"Clear\",\"weather_state_abbr\":\"c\",\"wind_direction_compass\":\"ENE\",\"created\":\"2021-03-31T18:38:34.146515Z\",\"applicable_date\":\"2021-04-02\",\"min_temp\":1.085,\"max_temp\":14.280000000000001,\"the_temp\":12.09,\"wind_speed\":2.489366987276969,\"wind_direction\":69.49987302531065,\"air_pressure\":1033.5,\"humidity\":61,\"visibility\":11.875646226039926,\"predictability\":68},{\"id\":5596633925419008,\"weather_state_name\":\"Clear\",\"weather_state_abbr\":\"c\",\"wind_direction_compass\":\"WSW\",\"created\":\"2021-03-31T18:38:37.266784Z\",\"applicable_date\":\"2021-04-03\",\"min_temp\":2.84,\"max_temp\":13.629999999999999,\"the_temp\":11.940000000000001,\"wind_speed\":4.0543450840425255,\"wind_direction\":242.524015281719,\"air_pressure\":1033.0,\"humidity\":65,\"visibility\":13.549930903523423,\"predictability\":68},{\"id\":6346767495856128,\"weather_state_name\":\"Thunder\",\"weather_state_abbr\":\"t\",\"wind_direction_compass\":\"WSW\",\"created\":\"2021-03-31T18:38:40.205026Z\",\"applicable_date\":\"2021-04-04\",\"min_temp\":1.2149999999999999,\"max_temp\":9.795,\"the_temp\":8.33,\"wind_speed\":12.268709512879449,\"wind_direction\":250.83274506930144,\"air_pressure\":1009.5,\"humidity\":86,\"visibility\":7.333422810785015,\"predictability\":80},{\"id\":5409286411780096,\"weather_state_name\":\"Hail\",\"weather_state_abbr\":\"h\",\"wind_direction_compass\":\"N\",\"created\":\"2021-03-31T18:38:43.626617Z\",\"applicable_date\":\"2021-04-05\",\"min_temp\":-0.53,\"max_temp\":5.43,\"the_temp\":4.22,\"wind_speed\":7.627958522230176,\"wind_direction\":349.0,\"air_pressure\":1011.0,\"humidity\":61,\"visibility\":9.918948341684562,\"predictability\":82}],\"time\":\"2021-03-31T21:25:24.442592+01:00\",\"sun_rise\":\"2021-03-31T06:49:58.640931+01:00\",\"sun_set\":\"2021-03-31T19:53:25.448285+01:00\",\"timezone_name\":\"LMT\",\"parent\":{\"title\":\"Scotland\",\"location_type\":\"Region / State / Province\",\"woeid\":12578048,\"latt_long\":\"56.652859,-3.996670\"},\"sources\":[{\"title\":\"BBC\",\"slug\":\"bbc\",\"url\":\"http://www.bbc.co.uk/weather/\",\"crawl_rate\":360},{\"title\":\"Forecast.io\",\"slug\":\"forecast-io\",\"url\":\"http://forecast.io/\",\"crawl_rate\":480},{\"title\":\"Met Office\",\"slug\":\"met-office\",\"url\":\"http://www.metoffice.gov.uk/\",\"crawl_rate\":180},{\"title\":\"OpenWeatherMap\",\"slug\":\"openweathermap\",\"url\":\"http://openweathermap.org/\",\"crawl_rate\":360},{\"title\":\"World Weather Online\",\"slug\":\"world-weather-online\",\"url\":\"http://www.worldweatheronline.com/\",\"crawl_rate\":360}],\"title\":\"Glasgow\",\"location_type\":\"City\",\"woeid\":21125,\"latt_long\":\"55.857800,-4.242510\",\"timezone\":\"Europe/London\"}'"
      ]
     },
     "execution_count": 9,
     "metadata": {},
     "output_type": "execute_result"
    }
   ],
   "source": [
    "r.text"
   ]
  },
  {
   "cell_type": "code",
   "execution_count": 10,
   "id": "italic-toner",
   "metadata": {},
   "outputs": [],
   "source": [
    "api_weather_data = r.json()"
   ]
  },
  {
   "cell_type": "code",
   "execution_count": 11,
   "id": "median-latin",
   "metadata": {
    "collapsed": true,
    "jupyter": {
     "outputs_hidden": true
    },
    "tags": []
   },
   "outputs": [
    {
     "data": {
      "text/plain": [
       "{'consolidated_weather': [{'id': 5372497366089728,\n",
       "   'weather_state_name': 'Light Rain',\n",
       "   'weather_state_abbr': 'lr',\n",
       "   'wind_direction_compass': 'E',\n",
       "   'created': '2021-03-31T18:38:28.090394Z',\n",
       "   'applicable_date': '2021-03-31',\n",
       "   'min_temp': 5.34,\n",
       "   'max_temp': 13.725,\n",
       "   'the_temp': 12.93,\n",
       "   'wind_speed': 4.829074982162836,\n",
       "   'wind_direction': 85.0748046282231,\n",
       "   'air_pressure': 1019.5,\n",
       "   'humidity': 78,\n",
       "   'visibility': 7.382200449375646,\n",
       "   'predictability': 75},\n",
       "  {'id': 6747955676577792,\n",
       "   'weather_state_name': 'Heavy Cloud',\n",
       "   'weather_state_abbr': 'hc',\n",
       "   'wind_direction_compass': 'ENE',\n",
       "   'created': '2021-03-31T18:38:31.603885Z',\n",
       "   'applicable_date': '2021-04-01',\n",
       "   'min_temp': 2.955,\n",
       "   'max_temp': 10.68,\n",
       "   'the_temp': 9.265,\n",
       "   'wind_speed': 7.408070453882659,\n",
       "   'wind_direction': 66.1666535025983,\n",
       "   'air_pressure': 1031.5,\n",
       "   'humidity': 64,\n",
       "   'visibility': 13.973395371033167,\n",
       "   'predictability': 71},\n",
       "  {'id': 6209309701570560,\n",
       "   'weather_state_name': 'Clear',\n",
       "   'weather_state_abbr': 'c',\n",
       "   'wind_direction_compass': 'ENE',\n",
       "   'created': '2021-03-31T18:38:34.146515Z',\n",
       "   'applicable_date': '2021-04-02',\n",
       "   'min_temp': 1.085,\n",
       "   'max_temp': 14.280000000000001,\n",
       "   'the_temp': 12.09,\n",
       "   'wind_speed': 2.489366987276969,\n",
       "   'wind_direction': 69.49987302531065,\n",
       "   'air_pressure': 1033.5,\n",
       "   'humidity': 61,\n",
       "   'visibility': 11.875646226039926,\n",
       "   'predictability': 68},\n",
       "  {'id': 5596633925419008,\n",
       "   'weather_state_name': 'Clear',\n",
       "   'weather_state_abbr': 'c',\n",
       "   'wind_direction_compass': 'WSW',\n",
       "   'created': '2021-03-31T18:38:37.266784Z',\n",
       "   'applicable_date': '2021-04-03',\n",
       "   'min_temp': 2.84,\n",
       "   'max_temp': 13.629999999999999,\n",
       "   'the_temp': 11.940000000000001,\n",
       "   'wind_speed': 4.0543450840425255,\n",
       "   'wind_direction': 242.524015281719,\n",
       "   'air_pressure': 1033.0,\n",
       "   'humidity': 65,\n",
       "   'visibility': 13.549930903523423,\n",
       "   'predictability': 68},\n",
       "  {'id': 6346767495856128,\n",
       "   'weather_state_name': 'Thunder',\n",
       "   'weather_state_abbr': 't',\n",
       "   'wind_direction_compass': 'WSW',\n",
       "   'created': '2021-03-31T18:38:40.205026Z',\n",
       "   'applicable_date': '2021-04-04',\n",
       "   'min_temp': 1.2149999999999999,\n",
       "   'max_temp': 9.795,\n",
       "   'the_temp': 8.33,\n",
       "   'wind_speed': 12.268709512879449,\n",
       "   'wind_direction': 250.83274506930144,\n",
       "   'air_pressure': 1009.5,\n",
       "   'humidity': 86,\n",
       "   'visibility': 7.333422810785015,\n",
       "   'predictability': 80},\n",
       "  {'id': 5409286411780096,\n",
       "   'weather_state_name': 'Hail',\n",
       "   'weather_state_abbr': 'h',\n",
       "   'wind_direction_compass': 'N',\n",
       "   'created': '2021-03-31T18:38:43.626617Z',\n",
       "   'applicable_date': '2021-04-05',\n",
       "   'min_temp': -0.53,\n",
       "   'max_temp': 5.43,\n",
       "   'the_temp': 4.22,\n",
       "   'wind_speed': 7.627958522230176,\n",
       "   'wind_direction': 349.0,\n",
       "   'air_pressure': 1011.0,\n",
       "   'humidity': 61,\n",
       "   'visibility': 9.918948341684562,\n",
       "   'predictability': 82}],\n",
       " 'time': '2021-03-31T21:25:24.442592+01:00',\n",
       " 'sun_rise': '2021-03-31T06:49:58.640931+01:00',\n",
       " 'sun_set': '2021-03-31T19:53:25.448285+01:00',\n",
       " 'timezone_name': 'LMT',\n",
       " 'parent': {'title': 'Scotland',\n",
       "  'location_type': 'Region / State / Province',\n",
       "  'woeid': 12578048,\n",
       "  'latt_long': '56.652859,-3.996670'},\n",
       " 'sources': [{'title': 'BBC',\n",
       "   'slug': 'bbc',\n",
       "   'url': 'http://www.bbc.co.uk/weather/',\n",
       "   'crawl_rate': 360},\n",
       "  {'title': 'Forecast.io',\n",
       "   'slug': 'forecast-io',\n",
       "   'url': 'http://forecast.io/',\n",
       "   'crawl_rate': 480},\n",
       "  {'title': 'Met Office',\n",
       "   'slug': 'met-office',\n",
       "   'url': 'http://www.metoffice.gov.uk/',\n",
       "   'crawl_rate': 180},\n",
       "  {'title': 'OpenWeatherMap',\n",
       "   'slug': 'openweathermap',\n",
       "   'url': 'http://openweathermap.org/',\n",
       "   'crawl_rate': 360},\n",
       "  {'title': 'World Weather Online',\n",
       "   'slug': 'world-weather-online',\n",
       "   'url': 'http://www.worldweatheronline.com/',\n",
       "   'crawl_rate': 360}],\n",
       " 'title': 'Glasgow',\n",
       " 'location_type': 'City',\n",
       " 'woeid': 21125,\n",
       " 'latt_long': '55.857800,-4.242510',\n",
       " 'timezone': 'Europe/London'}"
      ]
     },
     "execution_count": 11,
     "metadata": {},
     "output_type": "execute_result"
    }
   ],
   "source": [
    "api_weather_data"
   ]
  },
  {
   "cell_type": "markdown",
   "id": "unable-wrong",
   "metadata": {},
   "source": [
    "# Pandas to the rescue"
   ]
  },
  {
   "cell_type": "code",
   "execution_count": 12,
   "id": "colonial-alberta",
   "metadata": {},
   "outputs": [
    {
     "name": "stdout",
     "output_type": "stream",
     "text": [
      "Requirement already satisfied: lxml in c:\\users\\xps\\documents\\coding\\github\\language4water\\venv\\lib\\site-packages (4.6.3)\n"
     ]
    }
   ],
   "source": [
    "!pip install lxml"
   ]
  },
  {
   "cell_type": "code",
   "execution_count": 13,
   "id": "skilled-school",
   "metadata": {},
   "outputs": [
    {
     "data": {
      "text/plain": [
       "<AxesSubplot:xlabel='Year'>"
      ]
     },
     "execution_count": 13,
     "metadata": {},
     "output_type": "execute_result"
    },
    {
     "data": {
      "image/png": "[encoded data removed]",
      "text/plain": [
       "<Figure size 432x288 with 1 Axes>"
      ]
     },
     "metadata": {
      "needs_background": "light"
     },
     "output_type": "display_data"
    }
   ],
   "source": [
    "import pandas as pd\n",
    "\n",
    "list_of_dfs = pd.read_html('https://en.wikipedia.org/wiki/S%26P_500')\n",
    "first_df = list_of_dfs[1].iloc[:-4]  # last four columns are statistics\n",
    "df = first_df.set_index('Year')\n",
    "\n",
    "change_values_as_strings = df['Change in Index'].str.replace('−','-').str.replace('%','')  # cleaning up wierd characters\n",
    "change_values_as_numbers = pd.to_numeric(change_values_as_strings)\n",
    "\n",
    "change_values_as_numbers.plot(grid=True)"
   ]
  },
  {
   "cell_type": "markdown",
   "id": "super-empty",
   "metadata": {},
   "source": [
    "# HomeWork\n",
    "\n",
    "For a more flexible application we could get the `woeid` from a city name or lat/lon coordinates by using other provided endpoints: `/api/location/search/?query=(query)` and `/api/location/search/?lattlong=(latt),(long)`\n",
    "\n",
    "Create two functions:\n",
    "```python\n",
    "def get_woeid_from_city_name(city_name):\n",
    "    ...\n",
    "\n",
    "def get_woeid_from_latlon(lat, lon):\n",
    "    ...\n",
    "```\n",
    "\n",
    "which will return the `woeid` for the given input. Then try to combine this with the previous code to produce a function that gets the weather for the next days."
   ]
  },
  {
   "cell_type": "code",
   "execution_count": null,
   "id": "systematic-truck",
   "metadata": {},
   "outputs": [],
   "source": []
  },
  {
   "cell_type": "markdown",
   "id": "secure-means",
   "metadata": {},
   "source": [
    "### Possible solution"
   ]
  },
  {
   "cell_type": "code",
   "execution_count": null,
   "id": "trained-visitor",
   "metadata": {
    "jupyter": {
     "source_hidden": true
    },
    "tags": []
   },
   "outputs": [],
   "source": [
    "def _get_woeid_from_city_name(city_name):\n",
    "    json_data = requests.get(f\"https://www.metaweather.com/api/location/search/?query={city_name}\").json()\n",
    "    if not json_data:\n",
    "        raise ValueError(f\"No city found with name: {city_name}\")\n",
    "    first_result_woeid = json_data[0]['woeid']\n",
    "    return first_result_woeid\n",
    "    \n",
    "def _get_woeid_from_latlon(lat, lon):\n",
    "    json_data = requests.get(f\"https://www.metaweather.com/api/location/search/?lattlong={lat},{lon}\").json()\n",
    "    if not json_data:\n",
    "        raise ValueError(f\"No location found with latitude {lat} and longitude {lon}\")\n",
    "    first_result_woeid = json_data[0]['woeid']\n",
    "    return first_result_woeid\n",
    "\n",
    "# which can be tested with\n",
    "get_woeid_from_city_name(\"Glasgow\")\n",
    "get_woeid_from_latlon(55.864200, -4.251800)\n",
    "\n",
    "def _get_weather_from_woeid(woeid):\n",
    "    json_data = requests.get(f\"https://www.metaweather.com/api/location/{woeid}\").json()\n",
    "    json_data['consolidated_weather']\n",
    "    return json_data\n",
    "    \n",
    "def print_weather(city_name=None, lat=None, lon=None):\n",
    "    if city_name is None:\n",
    "        woeid = _get_woeid_from_latlon(lat, lon)\n",
    "    else:\n",
    "        woeid = _get_woeid_from_city_name(city_name)\n",
    "        \n",
    "    weather_data = _get_weather_from_woeid(woeid)\n",
    "    \n",
    "    for i in json_data['consolidated_weather']:\n",
    "        print(i['applicable_date'], i['weather_state_name'])\n",
    "\n",
    "# which can be tested with\n",
    "print_weather(\"Glasgow\")"
   ]
  },
  {
   "cell_type": "code",
   "execution_count": null,
   "id": "cooperative-mixture",
   "metadata": {},
   "outputs": [],
   "source": []
  }
 ],
 "metadata": {
  "kernelspec": {
   "display_name": "Python 3",
   "language": "python",
   "name": "python3"
  },
  "language_info": {
   "codemirror_mode": {
    "name": "ipython",
    "version": 3
   },
   "file_extension": ".py",
   "mimetype": "text/x-python",
   "name": "python",
   "nbconvert_exporter": "python",
   "pygments_lexer": "ipython3",
   "version": "3.9.1"
  }
 },
 "nbformat": 4,
 "nbformat_minor": 5
}
