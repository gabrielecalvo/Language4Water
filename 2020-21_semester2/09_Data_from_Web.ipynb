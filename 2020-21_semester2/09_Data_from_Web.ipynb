{
 "cells": [
  {
   "cell_type": "markdown",
   "id": "altered-found",
   "metadata": {},
   "source": [
    "# Getting Data from the Web\n",
    "The internet is full of useful (as well as useless) information, so sometimes it might be very helpful to get data from it and process it locally.\n",
    "\n",
    "There are different ways to get data from the web, the most used are:\n",
    "- **Web Scraping**: download the html content from the page and then look from it to extract information\n",
    "- **Using Web API**: APIs ([Application Programming Interface](https://en.wikipedia.org/wiki/API)) is code that is meant to be called from other code instead of displayed visually to a user. We'll be looking at the most common type: [REST API](https://en.wikipedia.org/wiki/Representational_state_transfer)\n",
    "\n",
    "Often Web API need authentication, but ofter you can get a API key after a quick free signup.\n",
    "[Here's a non-exaustive list](https://github.com/public-apis/public-apis) of open APIs."
   ]
  },
  {
   "cell_type": "markdown",
   "id": "difficult-bargain",
   "metadata": {},
   "source": [
    "## External Libraries\n",
    "We'll be using these two external libraries:\n",
    "- [requests](https://requests.readthedocs.io/en/master/): a more user-friendly alternative to the built-in library `urllib.request`\n",
    "- [beautifulsoup4](https://www.crummy.com/software/BeautifulSoup/bs4/doc/) a html parser, which is a type of software that builds a data structure from given inputs (usually of text kind).\n",
    "\n",
    "which you can install by runnin the cell below"
   ]
  },
  {
   "cell_type": "code",
   "execution_count": 22,
   "id": "formed-execution",
   "metadata": {},
   "outputs": [
    {
     "name": "stdout",
     "output_type": "stream",
     "text": [
      "Requirement already satisfied: requests in c:\\users\\xps\\documents\\coding\\github\\language4water\\venv\\lib\\site-packages (2.25.1)\n",
      "Requirement already satisfied: chardet<5,>=3.0.2 in c:\\users\\xps\\documents\\coding\\github\\language4water\\venv\\lib\\site-packages (from requests) (4.0.0)\n",
      "Requirement already satisfied: urllib3<1.27,>=1.21.1 in c:\\users\\xps\\documents\\coding\\github\\language4water\\venv\\lib\\site-packages (from requests) (1.26.3)\n",
      "Requirement already satisfied: idna<3,>=2.5 in c:\\users\\xps\\documents\\coding\\github\\language4water\\venv\\lib\\site-packages (from requests) (2.10)\n",
      "Requirement already satisfied: certifi>=2017.4.17 in c:\\users\\xps\\documents\\coding\\github\\language4water\\venv\\lib\\site-packages (from requests) (2020.12.5)\n",
      "Collecting beautifulsoup4\n",
      "  Downloading beautifulsoup4-4.9.3-py3-none-any.whl (115 kB)\n",
      "Collecting soupsieve>1.2\n",
      "  Downloading soupsieve-2.2.1-py3-none-any.whl (33 kB)\n",
      "Installing collected packages: soupsieve, beautifulsoup4\n",
      "Successfully installed beautifulsoup4-4.9.3 soupsieve-2.2.1\n"
     ]
    }
   ],
   "source": [
    "!pip install requests\n",
    "!pip install beautifulsoup4"
   ]
  },
  {
   "cell_type": "code",
   "execution_count": null,
   "id": "apparent-isolation",
   "metadata": {},
   "outputs": [],
   "source": [
    "# let's import from them to check they were installed correctly\n",
    "import requests\n",
    "from bs4 import BeautifulSoup"
   ]
  },
  {
   "cell_type": "markdown",
   "id": "smart-football",
   "metadata": {},
   "source": [
    "## Web Scraping"
   ]
  },
  {
   "cell_type": "code",
   "execution_count": 69,
   "id": "working-description",
   "metadata": {},
   "outputs": [
    {
     "data": {
      "text/plain": [
       "<Response [200]>"
      ]
     },
     "execution_count": 69,
     "metadata": {},
     "output_type": "execute_result"
    }
   ],
   "source": [
    "r = requests.get(\"https://www.metaweather.com/21125/\")\n",
    "r"
   ]
  },
  {
   "cell_type": "code",
   "execution_count": 70,
   "id": "neural-state",
   "metadata": {
    "tags": []
   },
   "outputs": [
    {
     "data": {
      "text/plain": [
       "'\\n<!DOCTYPE html>\\n<html lang=\"en\" dir=\"ltr\">\\n\\t<head>\\n\\t\\t<meta charset=\"utf-8\">\\n\\t\\t<meta http-equiv=\"X-UA-Compatible\" content=\"IE=edge\">\\n\\t\\t<title>Glasgow - MetaWeather</title>\\n\\t\\t<meta name=\"viewport\" cont'"
      ]
     },
     "execution_count": 70,
     "metadata": {},
     "output_type": "execute_result"
    }
   ],
   "source": [
    "html_doc = r.text\n",
    "html_doc[:200]"
   ]
  },
  {
   "cell_type": "markdown",
   "id": "driving-england",
   "metadata": {
    "jupyter": {
     "outputs_hidden": true
    },
    "tags": []
   },
   "source": [
    "if you want you can try render the html within the notebook by using\n",
    "```python\n",
    "from IPython.core.display import HTML\n",
    "HTML(r.text)\n",
    "```"
   ]
  },
  {
   "cell_type": "markdown",
   "id": "secure-element",
   "metadata": {},
   "source": [
    "We could try an do string manipulation (or using [regular expression syntax](https://www.w3schools.com/python/python_regex.asp)), but using a pre-built parser is usually less painful :)"
   ]
  },
  {
   "cell_type": "code",
   "execution_count": 71,
   "id": "cognitive-smart",
   "metadata": {},
   "outputs": [],
   "source": [
    "soup = BeautifulSoup(html_doc, 'html.parser')"
   ]
  },
  {
   "cell_type": "code",
   "execution_count": 72,
   "id": "experienced-voice",
   "metadata": {
    "tags": []
   },
   "outputs": [],
   "source": [
    "weather_data = []\n",
    "\n",
    "for item in soup.findAll('div'):\n",
    "    if item.has_attr('data-date'):\n",
    "        weather_date = item['data-date']\n",
    "        weather_description = item.find(\"span\").get_text()\n",
    "        \n",
    "        weather_day_data = {\n",
    "            \"date\": weather_date,\n",
    "            \"description\": weather_description,\n",
    "        }\n",
    "        \n",
    "        weather_data.append(weather_day_data)"
   ]
  },
  {
   "cell_type": "code",
   "execution_count": 73,
   "id": "exposed-sudan",
   "metadata": {},
   "outputs": [
    {
     "data": {
      "text/plain": [
       "[{'date': '2021-3-27', 'description': 'Light Rain'},\n",
       " {'date': '2021-3-28', 'description': 'Heavy Rain'},\n",
       " {'date': '2021-3-29', 'description': 'Heavy Rain'},\n",
       " {'date': '2021-3-30', 'description': 'Heavy Rain'},\n",
       " {'date': '2021-3-31', 'description': 'Light Rain'},\n",
       " {'date': '2021-4-1', 'description': 'Clear'}]"
      ]
     },
     "execution_count": 73,
     "metadata": {},
     "output_type": "execute_result"
    }
   ],
   "source": [
    "weather_data"
   ]
  },
  {
   "cell_type": "markdown",
   "id": "martial-maker",
   "metadata": {},
   "source": [
    "## Web API\n",
    "APIs are usually much more stable and nicer to work with, but you usually need to read through some documentation to learn what you can do and which particular urls (called \"endpoints\") you need to use.\n",
    "\n",
    "In our case, [MetaWeather API documentation](https://www.metaweather.com/api/) tells us that to get a similar output as our scraped data, we need to use the endpoint `/api/location/(woeid)/` where `woeid` is the identifier of the location we want the weather from."
   ]
  },
  {
   "cell_type": "code",
   "execution_count": 74,
   "id": "prime-receptor",
   "metadata": {},
   "outputs": [
    {
     "data": {
      "text/plain": [
       "<Response [200]>"
      ]
     },
     "execution_count": 74,
     "metadata": {},
     "output_type": "execute_result"
    }
   ],
   "source": [
    "r = requests.get(\"https://www.metaweather.com/api/location/21125\")\n",
    "r"
   ]
  },
  {
   "cell_type": "code",
   "execution_count": 77,
   "id": "occupied-springer",
   "metadata": {},
   "outputs": [
    {
     "data": {
      "text/plain": [
       "'{\"consolidated_weather\":[{\"id\":4804496279470080,\"weather_state_name\":\"Light Rain\",\"weather_state_abbr\":\"lr\",\"wind_direction_compass\":\"SW\",\"created\":\"2021-03-27T18:38:30.408053Z\",\"applicable_date\":\"2021-03-27\",\"min_temp\":0.865,\"max_temp\":8.48,\"the_temp\":7.244999999999999,\"wind_speed\":10.543698353328562,\"wind_direction\":232.49438581462235,\"air_pressure\":1013.0,\"humidity\":77,\"visibility\":13.577271235981867,\"predictability\":75},{\"id\":6616935115522048,\"weather_state_name\":\"Heavy Rain\",\"weather_state_abbr\":\"hr\",\"wind_direction_compass\":\"SW\",\"created\":\"2021-03-27T18:38:33.136228Z\",\"applicable_date\":\"2021-03-28\",\"min_temp\":6.050000000000001,\"max_temp\":12.344999999999999,\"the_temp\":9.63,\"wind_speed\":12.193814286415334,\"wind_direction\":219.6715276074224,\"air_pressure\":1006.5,\"humidity\":89,\"visibility\":8.979745784617831,\"predictability\":77},{\"id\":5443826270339072,\"weather_state_name\":\"Heavy Rain\",\"weather_state_abbr\":\"hr\",\"wind_direction_compass\":\"SW\",\"created\":\"2021-03-27T18:38:36.322356Z\",\"applicable_date\":\"2021-03-29\",\"min_temp\":11.145,\"max_temp\":13.11,\"the_temp\":13.129999999999999,\"wind_speed\":14.669290541591772,\"wind_direction\":223.6666365779404,\"air_pressure\":1012.5,\"humidity\":92,\"visibility\":6.7182653304700555,\"predictability\":77},{\"id\":6569726177181696,\"weather_state_name\":\"Heavy Rain\",\"weather_state_abbr\":\"hr\",\"wind_direction_compass\":\"SW\",\"created\":\"2021-03-27T18:38:39.194360Z\",\"applicable_date\":\"2021-03-30\",\"min_temp\":8.045,\"max_temp\":13.71,\"the_temp\":13.75,\"wind_speed\":10.37860339818394,\"wind_direction\":229.6677210568365,\"air_pressure\":1022.5,\"humidity\":81,\"visibility\":11.37637447307723,\"predictability\":77},{\"id\":6136970808918016,\"weather_state_name\":\"Light Rain\",\"weather_state_abbr\":\"lr\",\"wind_direction_compass\":\"NNE\",\"created\":\"2021-03-27T18:38:42.236870Z\",\"applicable_date\":\"2021-03-31\",\"min_temp\":3.9899999999999998,\"max_temp\":9.350000000000001,\"the_temp\":9.92,\"wind_speed\":7.470749852588881,\"wind_direction\":24.5,\"air_pressure\":1028.0,\"humidity\":68,\"visibility\":9.549853853495586,\"predictability\":75},{\"id\":5966509328302080,\"weather_state_name\":\"Clear\",\"weather_state_abbr\":\"c\",\"wind_direction_compass\":\"NNW\",\"created\":\"2021-03-27T18:38:45.495956Z\",\"applicable_date\":\"2021-04-01\",\"min_temp\":2.185,\"max_temp\":11.09,\"the_temp\":8.93,\"wind_speed\":5.759141414141414,\"wind_direction\":333.0,\"air_pressure\":1028.0,\"humidity\":64,\"visibility\":9.999726596675416,\"predictability\":68}],\"time\":\"2021-03-27T19:20:55.588994Z\",\"sun_rise\":\"2021-03-27T06:00:27.088772Z\",\"sun_set\":\"2021-03-27T18:45:19.417516Z\",\"timezone_name\":\"LMT\",\"parent\":{\"title\":\"Scotland\",\"location_type\":\"Region / State / Province\",\"woeid\":12578048,\"latt_long\":\"56.652859,-3.996670\"},\"sources\":[{\"title\":\"BBC\",\"slug\":\"bbc\",\"url\":\"http://www.bbc.co.uk/weather/\",\"crawl_rate\":360},{\"title\":\"Forecast.io\",\"slug\":\"forecast-io\",\"url\":\"http://forecast.io/\",\"crawl_rate\":480},{\"title\":\"Met Office\",\"slug\":\"met-office\",\"url\":\"http://www.metoffice.gov.uk/\",\"crawl_rate\":180},{\"title\":\"OpenWeatherMap\",\"slug\":\"openweathermap\",\"url\":\"http://openweathermap.org/\",\"crawl_rate\":360},{\"title\":\"World Weather Online\",\"slug\":\"world-weather-online\",\"url\":\"http://www.worldweatheronline.com/\",\"crawl_rate\":360}],\"title\":\"Glasgow\",\"location_type\":\"City\",\"woeid\":21125,\"latt_long\":\"55.857800,-4.242510\",\"timezone\":\"Europe/London\"}'"
      ]
     },
     "execution_count": 77,
     "metadata": {},
     "output_type": "execute_result"
    }
   ],
   "source": [
    "r.text"
   ]
  },
  {
   "cell_type": "code",
   "execution_count": 80,
   "id": "greatest-butter",
   "metadata": {},
   "outputs": [],
   "source": [
    "api_weather_data = r.json()"
   ]
  },
  {
   "cell_type": "code",
   "execution_count": 81,
   "id": "unusual-motivation",
   "metadata": {},
   "outputs": [
    {
     "data": {
      "text/plain": [
       "{'consolidated_weather': [{'id': 4804496279470080,\n",
       "   'weather_state_name': 'Light Rain',\n",
       "   'weather_state_abbr': 'lr',\n",
       "   'wind_direction_compass': 'SW',\n",
       "   'created': '2021-03-27T18:38:30.408053Z',\n",
       "   'applicable_date': '2021-03-27',\n",
       "   'min_temp': 0.865,\n",
       "   'max_temp': 8.48,\n",
       "   'the_temp': 7.244999999999999,\n",
       "   'wind_speed': 10.543698353328562,\n",
       "   'wind_direction': 232.49438581462235,\n",
       "   'air_pressure': 1013.0,\n",
       "   'humidity': 77,\n",
       "   'visibility': 13.577271235981867,\n",
       "   'predictability': 75},\n",
       "  {'id': 6616935115522048,\n",
       "   'weather_state_name': 'Heavy Rain',\n",
       "   'weather_state_abbr': 'hr',\n",
       "   'wind_direction_compass': 'SW',\n",
       "   'created': '2021-03-27T18:38:33.136228Z',\n",
       "   'applicable_date': '2021-03-28',\n",
       "   'min_temp': 6.050000000000001,\n",
       "   'max_temp': 12.344999999999999,\n",
       "   'the_temp': 9.63,\n",
       "   'wind_speed': 12.193814286415334,\n",
       "   'wind_direction': 219.6715276074224,\n",
       "   'air_pressure': 1006.5,\n",
       "   'humidity': 89,\n",
       "   'visibility': 8.979745784617831,\n",
       "   'predictability': 77},\n",
       "  {'id': 5443826270339072,\n",
       "   'weather_state_name': 'Heavy Rain',\n",
       "   'weather_state_abbr': 'hr',\n",
       "   'wind_direction_compass': 'SW',\n",
       "   'created': '2021-03-27T18:38:36.322356Z',\n",
       "   'applicable_date': '2021-03-29',\n",
       "   'min_temp': 11.145,\n",
       "   'max_temp': 13.11,\n",
       "   'the_temp': 13.129999999999999,\n",
       "   'wind_speed': 14.669290541591772,\n",
       "   'wind_direction': 223.6666365779404,\n",
       "   'air_pressure': 1012.5,\n",
       "   'humidity': 92,\n",
       "   'visibility': 6.7182653304700555,\n",
       "   'predictability': 77},\n",
       "  {'id': 6569726177181696,\n",
       "   'weather_state_name': 'Heavy Rain',\n",
       "   'weather_state_abbr': 'hr',\n",
       "   'wind_direction_compass': 'SW',\n",
       "   'created': '2021-03-27T18:38:39.194360Z',\n",
       "   'applicable_date': '2021-03-30',\n",
       "   'min_temp': 8.045,\n",
       "   'max_temp': 13.71,\n",
       "   'the_temp': 13.75,\n",
       "   'wind_speed': 10.37860339818394,\n",
       "   'wind_direction': 229.6677210568365,\n",
       "   'air_pressure': 1022.5,\n",
       "   'humidity': 81,\n",
       "   'visibility': 11.37637447307723,\n",
       "   'predictability': 77},\n",
       "  {'id': 6136970808918016,\n",
       "   'weather_state_name': 'Light Rain',\n",
       "   'weather_state_abbr': 'lr',\n",
       "   'wind_direction_compass': 'NNE',\n",
       "   'created': '2021-03-27T18:38:42.236870Z',\n",
       "   'applicable_date': '2021-03-31',\n",
       "   'min_temp': 3.9899999999999998,\n",
       "   'max_temp': 9.350000000000001,\n",
       "   'the_temp': 9.92,\n",
       "   'wind_speed': 7.470749852588881,\n",
       "   'wind_direction': 24.5,\n",
       "   'air_pressure': 1028.0,\n",
       "   'humidity': 68,\n",
       "   'visibility': 9.549853853495586,\n",
       "   'predictability': 75},\n",
       "  {'id': 5966509328302080,\n",
       "   'weather_state_name': 'Clear',\n",
       "   'weather_state_abbr': 'c',\n",
       "   'wind_direction_compass': 'NNW',\n",
       "   'created': '2021-03-27T18:38:45.495956Z',\n",
       "   'applicable_date': '2021-04-01',\n",
       "   'min_temp': 2.185,\n",
       "   'max_temp': 11.09,\n",
       "   'the_temp': 8.93,\n",
       "   'wind_speed': 5.759141414141414,\n",
       "   'wind_direction': 333.0,\n",
       "   'air_pressure': 1028.0,\n",
       "   'humidity': 64,\n",
       "   'visibility': 9.999726596675416,\n",
       "   'predictability': 68}],\n",
       " 'time': '2021-03-27T19:20:55.588994Z',\n",
       " 'sun_rise': '2021-03-27T06:00:27.088772Z',\n",
       " 'sun_set': '2021-03-27T18:45:19.417516Z',\n",
       " 'timezone_name': 'LMT',\n",
       " 'parent': {'title': 'Scotland',\n",
       "  'location_type': 'Region / State / Province',\n",
       "  'woeid': 12578048,\n",
       "  'latt_long': '56.652859,-3.996670'},\n",
       " 'sources': [{'title': 'BBC',\n",
       "   'slug': 'bbc',\n",
       "   'url': 'http://www.bbc.co.uk/weather/',\n",
       "   'crawl_rate': 360},\n",
       "  {'title': 'Forecast.io',\n",
       "   'slug': 'forecast-io',\n",
       "   'url': 'http://forecast.io/',\n",
       "   'crawl_rate': 480},\n",
       "  {'title': 'Met Office',\n",
       "   'slug': 'met-office',\n",
       "   'url': 'http://www.metoffice.gov.uk/',\n",
       "   'crawl_rate': 180},\n",
       "  {'title': 'OpenWeatherMap',\n",
       "   'slug': 'openweathermap',\n",
       "   'url': 'http://openweathermap.org/',\n",
       "   'crawl_rate': 360},\n",
       "  {'title': 'World Weather Online',\n",
       "   'slug': 'world-weather-online',\n",
       "   'url': 'http://www.worldweatheronline.com/',\n",
       "   'crawl_rate': 360}],\n",
       " 'title': 'Glasgow',\n",
       " 'location_type': 'City',\n",
       " 'woeid': 21125,\n",
       " 'latt_long': '55.857800,-4.242510',\n",
       " 'timezone': 'Europe/London'}"
      ]
     },
     "execution_count": 81,
     "metadata": {},
     "output_type": "execute_result"
    }
   ],
   "source": [
    "api_weather_data"
   ]
  },
  {
   "cell_type": "markdown",
   "id": "hollywood-installation",
   "metadata": {},
   "source": [
    "# HomeWork\n",
    "\n",
    "For a more flexible application we could get the `woeid` from a city name or lat/lon coordinates by using other provided endpoints: `/api/location/search/?query=(query)` and `/api/location/search/?lattlong=(latt),(long)`\n",
    "\n",
    "Create two functions:\n",
    "```python\n",
    "def get_woeid_from_city_name(city_name):\n",
    "    ...\n",
    "\n",
    "def get_woeid_from_latlon(lat, lon):\n",
    "    ...\n",
    "```\n",
    "\n",
    "which will return the `woeid` for the given input. Then try to combine this with the previous code to produce a function that gets the weather for the next days."
   ]
  },
  {
   "cell_type": "code",
   "execution_count": null,
   "id": "supposed-bosnia",
   "metadata": {},
   "outputs": [],
   "source": []
  },
  {
   "cell_type": "markdown",
   "id": "shared-suite",
   "metadata": {},
   "source": [
    "### Possible solution"
   ]
  },
  {
   "cell_type": "code",
   "execution_count": null,
   "id": "published-graduate",
   "metadata": {
    "jupyter": {
     "source_hidden": true
    },
    "tags": []
   },
   "outputs": [],
   "source": [
    "def _get_woeid_from_city_name(city_name):\n",
    "    json_data = requests.get(f\"https://www.metaweather.com/api/location/search/?query={city_name}\").json()\n",
    "    if not json_data:\n",
    "        raise ValueError(f\"No city found with name: {city_name}\")\n",
    "    first_result_woeid = json_data[0]['woeid']\n",
    "    return first_result_woeid\n",
    "    \n",
    "def _get_woeid_from_latlon(lat, lon):\n",
    "    json_data = requests.get(f\"https://www.metaweather.com/api/location/search/?lattlong={lat},{lon}\").json()\n",
    "    if not json_data:\n",
    "        raise ValueError(f\"No location found with latitude {lat} and longitude {lon}\")\n",
    "    first_result_woeid = json_data[0]['woeid']\n",
    "    return first_result_woeid\n",
    "\n",
    "# which can be tested with\n",
    "get_woeid_from_city_name(\"Glasgow\")\n",
    "get_woeid_from_latlon(55.864200, -4.251800)\n",
    "\n",
    "def _get_weather_from_woeid(woeid):\n",
    "    json_data = requests.get(f\"https://www.metaweather.com/api/location/{woeid}\").json()\n",
    "    json_data['consolidated_weather']\n",
    "    return json_data\n",
    "    \n",
    "def print_weather(city_name=None, lat=None, lon=None):\n",
    "    if city_name is None:\n",
    "        woeid = _get_woeid_from_latlon(lat, lon)\n",
    "    else:\n",
    "        woeid = _get_woeid_from_city_name(city_name)\n",
    "        \n",
    "    weather_data = _get_weather_from_woeid(woeid)\n",
    "    \n",
    "    for i in json_data['consolidated_weather']:\n",
    "        print(i['applicable_date'], i['weather_state_name'])\n",
    "\n",
    "# which can be tested with\n",
    "print_weather(\"Glasgow\")"
   ]
  },
  {
   "cell_type": "code",
   "execution_count": null,
   "id": "another-parallel",
   "metadata": {},
   "outputs": [],
   "source": []
  }
 ],
 "metadata": {
  "kernelspec": {
   "display_name": "Python 3",
   "language": "python",
   "name": "python3"
  },
  "language_info": {
   "codemirror_mode": {
    "name": "ipython",
    "version": 3
   },
   "file_extension": ".py",
   "mimetype": "text/x-python",
   "name": "python",
   "nbconvert_exporter": "python",
   "pygments_lexer": "ipython3",
   "version": "3.9.1"
  }
 },
 "nbformat": 4,
 "nbformat_minor": 5
}
