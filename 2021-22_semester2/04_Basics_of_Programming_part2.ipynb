{
 "cells": [
  {
   "cell_type": "markdown",
   "metadata": {},
   "source": [
    "# In the previous episode...\n",
    "\n",
    "## common basic types\n",
    "```python\n",
    "a = 7          # integer\n",
    "b = 3.14       # float\n",
    "c = 'ciao'     # string (a.k.a. text)\n",
    "d = \"ciao\"     # also string\n",
    "e = True       # boolean (either True or False)\n",
    "```\n",
    "\n",
    "## common number operations\n",
    "```python\n",
    "7 // 3   # floor division\n",
    "7 % 3    # division remainder\n",
    "7 > 3    # greater than\n",
    "7 < 3    # lower than\n",
    "7 >= 3   # greater than or equal\n",
    "7 <= 3   # lower than or equal\n",
    "7 != 3   # different\n",
    "7 == 7   # equal (comparison)\n",
    "```\n",
    "\n",
    ".. if you are ever in a hurry, you can try:\n",
    "- https://www.pythoncheatsheet.org/#Python-Basics\n",
    "- https://speedsheet.io/s/python"
   ]
  },
  {
   "cell_type": "markdown",
   "metadata": {},
   "source": [
    "# .. and now"
   ]
  },
  {
   "cell_type": "markdown",
   "metadata": {
    "id": "9jIsva79of9q"
   },
   "source": [
    "# Fun with... strings"
   ]
  },
  {
   "cell_type": "code",
   "execution_count": 1,
   "metadata": {},
   "outputs": [
    {
     "name": "stdout",
     "output_type": "stream",
     "text": [
      "HelloWorld\n",
      "HelloHelloHelloHelloHello\n",
      "False\n"
     ]
    }
   ],
   "source": [
    "a = 'Hello'\n",
    "b = \"World\"\n",
    "\n",
    "c = \"\"\"multiline\n",
    "string\"\"\"  # or triple ' symbol\n",
    "\n",
    "print(a + b)   # concatentation\n",
    "print(a * 5)   # repetition\n",
    "print(a > b)   # alphanumberic comparison, works with >, <, ==, and != too"
   ]
  },
  {
   "cell_type": "markdown",
   "metadata": {},
   "source": [
    "### string methods\n",
    "All types have special functionality attached (also called `methods`). String's one can be particularly useful when working with them.\n",
    "\n",
    "Some nice ones are:\n",
    "```python\n",
    "\"aAbB\".upper()  # \"AABB\"\n",
    "\"aAbB\".lower()  # \"aabb\"\n",
    "\"aAbB\".title()  # \"Aabb\"\n",
    "\n",
    "\"aAbB\".startswith(\"aA\")   # True\n",
    "\"aAbB\".endswith(\"aA\")     # False\n",
    "\"aAbB\".replace(\"A\", \"C\")  # \"aCbB\"\n",
    "\"aAbB\".split(\"b\")         # [\"aA\", \"B\"]\n",
    "```"
   ]
  },
  {
   "cell_type": "markdown",
   "metadata": {},
   "source": [
    "### string templeting\n",
    "Another useful way to work with strings is using *templeting*, which can \n",
    "be done using either of these formats:"
   ]
  },
  {
   "cell_type": "code",
   "execution_count": null,
   "metadata": {},
   "outputs": [],
   "source": [
    "myvar = \"brilliant\"\n",
    "\n",
    "print(\"this %s template\" % myvar)        # outdated, use one of the others\n",
    "print(\"this {} template\".format(myvar))  # sometimes useful\n",
    "print(f\"this {myvar} template\")          # most modern and nicer to work with"
   ]
  },
  {
   "cell_type": "code",
   "execution_count": 5,
   "metadata": {},
   "outputs": [
    {
     "data": {
      "text/plain": [
       "'this 25 template'"
      ]
     },
     "execution_count": 5,
     "metadata": {},
     "output_type": "execute_result"
    }
   ],
   "source": [
    "a = 5 * 5\n",
    "f\"this {a} template\""
   ]
  },
  {
   "cell_type": "markdown",
   "metadata": {},
   "source": [
    "the last two ways allow for special formatting within the `{}` for example:\n",
    "- `{13:05}` pad with 5 zeros\n",
    "- `{3.1415:.2f}` show only 2 digits"
   ]
  },
  {
   "cell_type": "code",
   "execution_count": 17,
   "metadata": {},
   "outputs": [
    {
     "data": {
      "text/plain": [
       "\u001b[1;31mSignature:\u001b[0m \u001b[0mround\u001b[0m\u001b[1;33m(\u001b[0m\u001b[0mnumber\u001b[0m\u001b[1;33m,\u001b[0m \u001b[0mndigits\u001b[0m\u001b[1;33m=\u001b[0m\u001b[1;32mNone\u001b[0m\u001b[1;33m)\u001b[0m\u001b[1;33m\u001b[0m\u001b[1;33m\u001b[0m\u001b[0m\n",
       "\u001b[1;31mDocstring:\u001b[0m\n",
       "Round a number to a given precision in decimal digits.\n",
       "\n",
       "The return value is an integer if ndigits is omitted or None.  Otherwise\n",
       "the return value has the same type as the number.  ndigits may be negative.\n",
       "\u001b[1;31mType:\u001b[0m      builtin_function_or_method\n"
      ]
     },
     "metadata": {},
     "output_type": "display_data"
    }
   ],
   "source": [
    "round?"
   ]
  },
  {
   "cell_type": "code",
   "execution_count": 20,
   "metadata": {},
   "outputs": [
    {
     "data": {
      "text/plain": [
       "'Hellow 3.33, I was waiting for you'"
      ]
     },
     "execution_count": 20,
     "metadata": {},
     "output_type": "execute_result"
    }
   ],
   "source": [
    "a = 10/3\n",
    "f\"Hellow {a:.2f}, I was waiting for you\""
   ]
  },
  {
   "cell_type": "markdown",
   "metadata": {},
   "source": [
    "## getting user input\n",
    "the simplest way to get user input is to use the `input` function"
   ]
  },
  {
   "cell_type": "code",
   "execution_count": 1,
   "metadata": {},
   "outputs": [
    {
     "name": "stdin",
     "output_type": "stream",
     "text": [
      "Capital of Germany?  Paris\n"
     ]
    },
    {
     "name": "stdout",
     "output_type": "stream",
     "text": [
      "you said Paris, it was Berlin\n"
     ]
    }
   ],
   "source": [
    "city = input(\"Capital of Germany? \")\n",
    "\n",
    "print(f\"you said {city}, it was Berlin\")"
   ]
  },
  {
   "cell_type": "code",
   "execution_count": 4,
   "metadata": {},
   "outputs": [
    {
     "data": {
      "text/plain": [
       "'gaag Paris agr'"
      ]
     },
     "execution_count": 4,
     "metadata": {},
     "output_type": "execute_result"
    }
   ],
   "source": [
    "\"gaag \"+city+\" agr\""
   ]
  },
  {
   "cell_type": "markdown",
   "metadata": {},
   "source": [
    "# Silly Mad-lib"
   ]
  },
  {
   "cell_type": "code",
   "execution_count": 5,
   "metadata": {},
   "outputs": [
    {
     "name": "stdin",
     "output_type": "stream",
     "text": [
      "give me an ADJECTIVE:  lively\n",
      "give me an NOUN:  table\n",
      "give me an ANIMAL:  tiger\n",
      "give me an SOUND:  clang\n"
     ]
    },
    {
     "name": "stdout",
     "output_type": "stream",
     "text": [
      "thanks, run the next cell to see your song\n"
     ]
    }
   ],
   "source": [
    "adj = input(\"give me an ADJECTIVE: \")\n",
    "noun = input(\"give me an NOUN: \")\n",
    "animal = input(\"give me an ANIMAL: \")\n",
    "sound = input(\"give me an SOUND: \")\n",
    "print(\"thanks, run the next cell to see your song\")"
   ]
  },
  {
   "cell_type": "code",
   "execution_count": 6,
   "metadata": {
    "tags": []
   },
   "outputs": [
    {
     "name": "stdout",
     "output_type": "stream",
     "text": [
      "\n",
      "lively Macdonald had a table, E-I-E-I-O\n",
      "and on that table he had an tiger, E-I-E-I-O\n",
      "with a clang clang here\n",
      "and a clang clang there,\n",
      "here a clang, there a clang,\n",
      "everywhere a clang clang,\n",
      "lively Macdonald had a table, E-I-E-I-O. \n",
      "\n"
     ]
    }
   ],
   "source": [
    "madlib = f\"\"\"\n",
    "{adj} Macdonald had a {noun}, E-I-E-I-O\n",
    "and on that {noun} he had an {animal}, E-I-E-I-O\n",
    "with a {sound} {sound} here\n",
    "and a {sound} {sound} there,\n",
    "here a {sound}, there a {sound},\n",
    "everywhere a {sound} {sound},\n",
    "{adj} Macdonald had a {noun}, E-I-E-I-O. \n",
    "\"\"\"\n",
    "\n",
    "print(madlib)"
   ]
  },
  {
   "cell_type": "markdown",
   "metadata": {},
   "source": [
    "**IDEA** for further development: give [TextToSpeech](https://pypi.org/project/gTTS) a try!"
   ]
  },
  {
   "cell_type": "markdown",
   "metadata": {
    "tags": []
   },
   "source": [
    "First install the gTTS third-party library. You can do it from within jupyter/colab by running\n",
    "`!pip install gTTS`"
   ]
  },
  {
   "cell_type": "code",
   "execution_count": 7,
   "metadata": {
    "collapsed": true,
    "jupyter": {
     "outputs_hidden": true
    },
    "tags": []
   },
   "outputs": [
    {
     "name": "stdout",
     "output_type": "stream",
     "text": [
      "Collecting gTTS\n",
      "  Downloading gTTS-2.2.3-py3-none-any.whl (25 kB)\n",
      "Collecting click\n",
      "  Downloading click-8.0.3-py3-none-any.whl (97 kB)\n",
      "Requirement already satisfied: requests in c:\\users\\gabe\\appdata\\local\\programs\\python\\python39\\lib\\site-packages (from gTTS) (2.26.0)\n",
      "Requirement already satisfied: six in c:\\users\\gabe\\appdata\\local\\programs\\python\\python39\\lib\\site-packages (from gTTS) (1.16.0)\n",
      "Requirement already satisfied: colorama in c:\\users\\gabe\\appdata\\roaming\\python\\python39\\site-packages (from click->gTTS) (0.4.4)\n",
      "Requirement already satisfied: charset-normalizer~=2.0.0 in c:\\users\\gabe\\appdata\\roaming\\python\\python39\\site-packages (from requests->gTTS) (2.0.6)\n",
      "Requirement already satisfied: urllib3<1.27,>=1.21.1 in c:\\users\\gabe\\appdata\\roaming\\python\\python39\\site-packages (from requests->gTTS) (1.26.7)\n",
      "Requirement already satisfied: idna<4,>=2.5 in c:\\users\\gabe\\appdata\\roaming\\python\\python39\\site-packages (from requests->gTTS) (3.2)\n",
      "Requirement already satisfied: certifi>=2017.4.17 in c:\\users\\gabe\\appdata\\roaming\\python\\python39\\site-packages (from requests->gTTS) (2021.5.30)\n",
      "Installing collected packages: click, gTTS\n",
      "Successfully installed click-8.0.3 gTTS-2.2.3\n"
     ]
    },
    {
     "name": "stderr",
     "output_type": "stream",
     "text": [
      "WARNING: You are using pip version 21.3; however, version 21.3.1 is available.\n",
      "You should consider upgrading via the 'C:\\Users\\Gabe\\AppData\\Local\\Programs\\Python\\Python39\\python.exe -m pip install --upgrade pip' command.\n"
     ]
    }
   ],
   "source": [
    "!pip install gTTS"
   ]
  },
  {
   "cell_type": "code",
   "execution_count": 8,
   "metadata": {
    "tags": []
   },
   "outputs": [
    {
     "data": {
      "text/html": [
       "\n",
       "                <audio  controls=\"controls\" >\n",
       "                    <source src=\"data:audio/mpeg;base64,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\" type=\"audio/mpeg\" />\n",
       "                    Your browser does not support the audio element.\n",
       "                </audio>\n",
       "              "
      ],
      "text/plain": [
       "<IPython.lib.display.Audio object>"
      ]
     },
     "execution_count": 8,
     "metadata": {},
     "output_type": "execute_result"
    }
   ],
   "source": [
    "from gtts import gTTS\n",
    "tts = gTTS(madlib)\n",
    "tts.save('madlib.mp3')\n",
    "\n",
    "from IPython.display import Audio\n",
    "Audio(filename='madlib.mp3')"
   ]
  },
  {
   "cell_type": "markdown",
   "metadata": {
    "id": "lzLHXjC5h_vV"
   },
   "source": [
    "# \\~\\~\\~ Question Break!! \\~\\~\\~\n",
    "![question_break](https://raw.githubusercontent.com/gabrielecalvo/Language4Water/master/assets/xx_question_break.jpg)"
   ]
  },
  {
   "cell_type": "markdown",
   "metadata": {},
   "source": [
    "# Exercise\n",
    "**Coolyify**: write code that converts any string into a cool string where all the \"e\"s are converted to \"3\" and all the \"s\" to \"$\""
   ]
  },
  {
   "cell_type": "code",
   "execution_count": null,
   "metadata": {},
   "outputs": [],
   "source": [
    "my_string = \"Life is what happens when you're busy making other plans.\""
   ]
  },
  {
   "cell_type": "code",
   "execution_count": null,
   "metadata": {},
   "outputs": [],
   "source": [
    "my_string.replace(\"e\",\"3\").replace(\"s\",\"$\")"
   ]
  },
  {
   "cell_type": "markdown",
   "metadata": {},
   "source": [
    "**QuickOnlineReviewer**: write code that takes a few inputs and fills a template of an online review"
   ]
  },
  {
   "cell_type": "code",
   "execution_count": null,
   "metadata": {},
   "outputs": [],
   "source": [
    "\"this {} was {}, I will definitely {} this to all my {}\""
   ]
  },
  {
   "cell_type": "markdown",
   "metadata": {},
   "source": [
    "# Using the standard library (shipped with python)"
   ]
  },
  {
   "cell_type": "code",
   "execution_count": null,
   "metadata": {},
   "outputs": [],
   "source": [
    "import random\n",
    "\n",
    "random.randint(1,13)"
   ]
  },
  {
   "cell_type": "code",
   "execution_count": null,
   "metadata": {},
   "outputs": [],
   "source": [
    "from random import randint\n",
    "randint(1,13)"
   ]
  },
  {
   "cell_type": "markdown",
   "metadata": {},
   "source": [
    "## Inspecting the documentation\n",
    "If you want to learn more about how to use a particular function (or method, or class) you can use the following"
   ]
  },
  {
   "cell_type": "code",
   "execution_count": null,
   "metadata": {
    "tags": []
   },
   "outputs": [],
   "source": [
    "# works in any python console\n",
    "help(random.randint)"
   ]
  },
  {
   "cell_type": "code",
   "execution_count": null,
   "metadata": {
    "tags": []
   },
   "outputs": [],
   "source": [
    "# work in jupyter (and ipython consoles)\n",
    "random.randint?"
   ]
  },
  {
   "cell_type": "code",
   "execution_count": null,
   "metadata": {
    "tags": []
   },
   "outputs": [],
   "source": [
    "# See source code, work in jupyter (and ipython consoles)\n",
    "random.randint??"
   ]
  },
  {
   "cell_type": "markdown",
   "metadata": {},
   "source": [
    "# High-Low Game\n",
    "Guess if the next card is going to be higher or lower than what just came out (tie loses)"
   ]
  },
  {
   "cell_type": "code",
   "execution_count": null,
   "metadata": {},
   "outputs": [],
   "source": [
    "import random\n",
    "\n",
    "card = random.randint(1, 13)\n",
    "print(f\"the new card is card < {card} >\")"
   ]
  },
  {
   "cell_type": "code",
   "execution_count": null,
   "metadata": {},
   "outputs": [],
   "source": [
    "import random as rnd         # import with alias\n",
    "from random import randint   # importing single item from module"
   ]
  },
  {
   "cell_type": "markdown",
   "metadata": {
    "id": "jzBPvYrteEk0"
   },
   "source": [
    "# Aggregate of Types"
   ]
  },
  {
   "cell_type": "code",
   "execution_count": 9,
   "metadata": {
    "id": "iyBRxqAUcemH"
   },
   "outputs": [],
   "source": [
    "f = [1, 2, 3]       # list\n",
    "h = {'a':1, 'b':2}  # dictionary (key-value mappings)"
   ]
  },
  {
   "cell_type": "code",
   "execution_count": 13,
   "metadata": {
    "id": "3LMB_S7flGNR"
   },
   "outputs": [
    {
     "data": {
      "text/plain": [
       "{'a': 1, 2: True, 'b': 1}"
      ]
     },
     "execution_count": 13,
     "metadata": {},
     "output_type": "execute_result"
    }
   ],
   "source": [
    "# the content can be eterogenous (different types)\n",
    "f = [1, \"two\", 3, False] \n",
    "g = {'a': 1, 2: True, 'b': 1}  \n",
    "\n",
    "g"
   ]
  },
  {
   "cell_type": "markdown",
   "metadata": {
    "id": "6A0vojiZsAA2"
   },
   "source": [
    "# Fun with... Lists"
   ]
  },
  {
   "cell_type": "code",
   "execution_count": 15,
   "metadata": {},
   "outputs": [],
   "source": [
    "my_list = ['John', 'Paul', 'George', 'Ringo']  # most common is all the same type"
   ]
  },
  {
   "cell_type": "code",
   "execution_count": 42,
   "metadata": {},
   "outputs": [],
   "source": [
    "my_list.reverse()"
   ]
  },
  {
   "cell_type": "code",
   "execution_count": 43,
   "metadata": {},
   "outputs": [
    {
     "data": {
      "text/plain": [
       "['Ringo', 'George', 'Paul', 'John']"
      ]
     },
     "execution_count": 43,
     "metadata": {},
     "output_type": "execute_result"
    }
   ],
   "source": [
    "my_list"
   ]
  },
  {
   "cell_type": "code",
   "execution_count": 35,
   "metadata": {},
   "outputs": [
    {
     "data": {
      "text/plain": [
       "'tflsrn'"
      ]
     },
     "execution_count": 35,
     "metadata": {},
     "output_type": "execute_result"
    }
   ],
   "source": [
    "a = \"my beautiful string\"\n",
    "a[::]"
   ]
  },
  {
   "cell_type": "code",
   "execution_count": null,
   "metadata": {
    "id": "djCBc0DbsCst"
   },
   "outputs": [],
   "source": [
    "# get first element of the list\n",
    "print(my_list[0])\n",
    "\n",
    "# get second\n",
    "print(my_list[1])\n",
    "\n",
    "# get last\n",
    "print(my_list[-1])"
   ]
  },
  {
   "cell_type": "markdown",
   "metadata": {},
   "source": [
    "## List slicing\n",
    "also used for **arrays**, **matrices**, **pd.Series** and **strings**\n",
    "\n",
    "LIST[start:end:step]\n",
    "\n",
    "![slicing](https://miro.medium.com/max/1838/1*HqdR129XR8-1ojtTYLou7g.png)"
   ]
  },
  {
   "cell_type": "code",
   "execution_count": 44,
   "metadata": {},
   "outputs": [
    {
     "data": {
      "text/plain": [
       "['Ringo', 'George', 'Paul']"
      ]
     },
     "execution_count": 44,
     "metadata": {},
     "output_type": "execute_result"
    }
   ],
   "source": [
    "my_list[:3]"
   ]
  },
  {
   "cell_type": "code",
   "execution_count": 45,
   "metadata": {},
   "outputs": [
    {
     "data": {
      "text/plain": [
       "['Ringo', 'George']"
      ]
     },
     "execution_count": 45,
     "metadata": {},
     "output_type": "execute_result"
    }
   ],
   "source": [
    "# taking first two\n",
    "my_list[:2]    # same as my_list[0:2:1]"
   ]
  },
  {
   "cell_type": "code",
   "execution_count": 48,
   "metadata": {},
   "outputs": [
    {
     "data": {
      "text/plain": [
       "['Paul', 'John']"
      ]
     },
     "execution_count": 48,
     "metadata": {},
     "output_type": "execute_result"
    }
   ],
   "source": [
    "# taking last two\n",
    "my_list[2:]    # same as my_list[-2::1]"
   ]
  },
  {
   "cell_type": "code",
   "execution_count": 49,
   "metadata": {},
   "outputs": [
    {
     "data": {
      "text/plain": [
       "['George', 'Paul']"
      ]
     },
     "execution_count": 49,
     "metadata": {},
     "output_type": "execute_result"
    }
   ],
   "source": [
    "# taking middle two?\n",
    "my_list[1:-1]  # or my_list[1:3]"
   ]
  },
  {
   "cell_type": "code",
   "execution_count": 50,
   "metadata": {},
   "outputs": [
    {
     "data": {
      "text/plain": [
       "['Ringo', 'Paul']"
      ]
     },
     "execution_count": 50,
     "metadata": {},
     "output_type": "execute_result"
    }
   ],
   "source": [
    "# taking one every two (odd numbers)\n",
    "my_list[::2]"
   ]
  },
  {
   "cell_type": "code",
   "execution_count": 51,
   "metadata": {},
   "outputs": [
    {
     "data": {
      "text/plain": [
       "['John', 'Paul', 'George', 'Ringo']"
      ]
     },
     "execution_count": 51,
     "metadata": {},
     "output_type": "execute_result"
    }
   ],
   "source": [
    "# reversing the order?\n",
    "my_list[::-1]\n",
    "\n",
    "# or to reverse it in-place `my_list.reverse()`"
   ]
  },
  {
   "cell_type": "code",
   "execution_count": 54,
   "metadata": {},
   "outputs": [
    {
     "data": {
      "text/plain": [
       "['George', 'John', 'Paul', 'Ringo']"
      ]
     },
     "execution_count": 54,
     "metadata": {},
     "output_type": "execute_result"
    }
   ],
   "source": [
    "# sorting a list\n",
    "sorted(my_list)"
   ]
  },
  {
   "cell_type": "code",
   "execution_count": 57,
   "metadata": {},
   "outputs": [],
   "source": [
    "my_list.sort()"
   ]
  },
  {
   "cell_type": "code",
   "execution_count": 58,
   "metadata": {},
   "outputs": [
    {
     "data": {
      "text/plain": [
       "['George', 'John', 'Paul', 'Ringo']"
      ]
     },
     "execution_count": 58,
     "metadata": {},
     "output_type": "execute_result"
    }
   ],
   "source": [
    "my_list"
   ]
  },
  {
   "cell_type": "code",
   "execution_count": 59,
   "metadata": {},
   "outputs": [
    {
     "name": "stdout",
     "output_type": "stream",
     "text": [
      "before:  ['George', 'John', 'Paul', 'Ringo']\n",
      "after:  ['THE George', 'John', 'Paul', 'Ringo']\n"
     ]
    }
   ],
   "source": [
    "# changing one value\n",
    "print('before: ', my_list)\n",
    "my_list[0] = 'THE George'\n",
    "print('after: ', my_list)"
   ]
  },
  {
   "cell_type": "code",
   "execution_count": 60,
   "metadata": {},
   "outputs": [
    {
     "data": {
      "text/plain": [
       "['THE George', 'John', 'Paul', 'Ringo', 'Pete']"
      ]
     },
     "execution_count": 60,
     "metadata": {},
     "output_type": "execute_result"
    }
   ],
   "source": [
    "# adding elements to a list\n",
    "my_list.append('Pete')\n",
    "\n",
    "my_list"
   ]
  },
  {
   "cell_type": "code",
   "execution_count": 61,
   "metadata": {},
   "outputs": [
    {
     "data": {
      "text/plain": [
       "['THE George', 'John', 'Paul', 'Ringo', 'Pete']"
      ]
     },
     "execution_count": 61,
     "metadata": {},
     "output_type": "execute_result"
    }
   ],
   "source": [
    "my_list"
   ]
  },
  {
   "cell_type": "code",
   "execution_count": 62,
   "metadata": {},
   "outputs": [],
   "source": [
    "my_list.insert(1, \"apple\")"
   ]
  },
  {
   "cell_type": "code",
   "execution_count": 64,
   "metadata": {},
   "outputs": [
    {
     "data": {
      "text/plain": [
       "['THE George', 'apple', 'John', 'Paul', 'Ringo', 'Pete']"
      ]
     },
     "execution_count": 64,
     "metadata": {},
     "output_type": "execute_result"
    }
   ],
   "source": [
    "my_list"
   ]
  },
  {
   "cell_type": "code",
   "execution_count": 66,
   "metadata": {},
   "outputs": [
    {
     "data": {
      "text/plain": [
       "False"
      ]
     },
     "execution_count": 66,
     "metadata": {},
     "output_type": "execute_result"
    }
   ],
   "source": [
    "# checking if element in list\n",
    "'apfple' in my_list"
   ]
  },
  {
   "cell_type": "markdown",
   "metadata": {},
   "source": [
    "if the index you pass excides the length of the array, it will return the entire array"
   ]
  },
  {
   "cell_type": "code",
   "execution_count": 84,
   "metadata": {},
   "outputs": [],
   "source": [
    "A=\"ab  babbaa\""
   ]
  },
  {
   "cell_type": "code",
   "execution_count": null,
   "metadata": {},
   "outputs": [],
   "source": [
    "\"ab babbaa\".split"
   ]
  },
  {
   "cell_type": "markdown",
   "metadata": {},
   "source": [
    "# \\~\\~\\~ Question Break!! \\~\\~\\~\n",
    "![question_break](https://raw.githubusercontent.com/gabrielecalvo/Language4Water/master/assets/xx_question_break.jpg)"
   ]
  },
  {
   "cell_type": "markdown",
   "metadata": {
    "id": "6A0vojiZsAA2"
   },
   "source": [
    "# Fun with... Dictionaries\n",
    "Collection of key-value pairs"
   ]
  },
  {
   "cell_type": "code",
   "execution_count": 88,
   "metadata": {},
   "outputs": [],
   "source": [
    "# values can be duplicated, keys cannot\n",
    "the_beatles_instruments = {\n",
    "    'John': 'guitar',\n",
    "    'Paul':  'guitar',  \n",
    "    'George': 'bass',\n",
    "    'Ringo': 'drums',\n",
    "} \n",
    "\n",
    "# values can be eterogenous and nested\n",
    "the_beatles_tenure = {\n",
    "    'John': {'start': 1960, 'end': 1969},\n",
    "    'Paul':  [1960, 1970],\n",
    "    'George': (1960, 1970),\n",
    "    'Ringo': '1962–1970',\n",
    "}"
   ]
  },
  {
   "cell_type": "code",
   "execution_count": 90,
   "metadata": {},
   "outputs": [
    {
     "data": {
      "text/plain": [
       "'bass'"
      ]
     },
     "execution_count": 90,
     "metadata": {},
     "output_type": "execute_result"
    }
   ],
   "source": [
    "# accessing a value\n",
    "the_beatles_instruments['George']"
   ]
  },
  {
   "cell_type": "code",
   "execution_count": 96,
   "metadata": {},
   "outputs": [
    {
     "data": {
      "text/plain": [
       "1970"
      ]
     },
     "execution_count": 96,
     "metadata": {},
     "output_type": "execute_result"
    }
   ],
   "source": [
    "# starting year of John?\n",
    "the_beatles_tenure['John']['start']\n",
    "\n",
    "# the last year for Paul\n",
    "the_beatles_tenure['Paul'][-1]"
   ]
  },
  {
   "cell_type": "code",
   "execution_count": 97,
   "metadata": {},
   "outputs": [
    {
     "data": {
      "text/plain": [
       "{'John': 'guitar',\n",
       " 'Paul': 'guitar',\n",
       " 'George': 'bass',\n",
       " 'Ringo': 'drums',\n",
       " 'Pete': 'trumpet'}"
      ]
     },
     "execution_count": 97,
     "metadata": {},
     "output_type": "execute_result"
    }
   ],
   "source": [
    "# adding a new value\n",
    "the_beatles_instruments['Pete'] = 'trumpet'\n",
    "\n",
    "the_beatles_instruments"
   ]
  },
  {
   "cell_type": "code",
   "execution_count": 102,
   "metadata": {},
   "outputs": [
    {
     "data": {
      "text/plain": [
       "'Ringo'"
      ]
     },
     "execution_count": 102,
     "metadata": {},
     "output_type": "execute_result"
    }
   ],
   "source": [
    "# getting all keys\n",
    "list(the_beatles_tenure.keys())[-1]"
   ]
  },
  {
   "cell_type": "code",
   "execution_count": 107,
   "metadata": {},
   "outputs": [
    {
     "data": {
      "text/plain": [
       "'777'"
      ]
     },
     "execution_count": 107,
     "metadata": {},
     "output_type": "execute_result"
    }
   ],
   "source": [
    "a = 7\n",
    "str(a) *3"
   ]
  },
  {
   "cell_type": "code",
   "execution_count": 108,
   "metadata": {},
   "outputs": [
    {
     "data": {
      "text/plain": [
       "21"
      ]
     },
     "execution_count": 108,
     "metadata": {},
     "output_type": "execute_result"
    }
   ],
   "source": [
    "# list\n",
    "str(7)*3\n",
    "int(\"7\")*3"
   ]
  },
  {
   "cell_type": "code",
   "execution_count": 109,
   "metadata": {},
   "outputs": [
    {
     "data": {
      "text/plain": [
       "dict_values(['guitar', 'guitar', 'bass', 'drums', 'trumpet'])"
      ]
     },
     "execution_count": 109,
     "metadata": {},
     "output_type": "execute_result"
    }
   ],
   "source": [
    "# getting all values\n",
    "the_beatles_instruments.values()"
   ]
  },
  {
   "cell_type": "code",
   "execution_count": 110,
   "metadata": {},
   "outputs": [
    {
     "data": {
      "text/plain": [
       "dict_items([('John', 'guitar'), ('Paul', 'guitar'), ('George', 'bass'), ('Ringo', 'drums'), ('Pete', 'trumpet')])"
      ]
     },
     "execution_count": 110,
     "metadata": {},
     "output_type": "execute_result"
    }
   ],
   "source": [
    "# getting all keys-values as pairs\n",
    "the_beatles_instruments.items()"
   ]
  },
  {
   "cell_type": "markdown",
   "metadata": {},
   "source": [
    "# If Statement\n",
    "diverting the execution flow depending on 1+ condition"
   ]
  },
  {
   "cell_type": "code",
   "execution_count": 117,
   "metadata": {},
   "outputs": [],
   "source": [
    "happy = False\n",
    "know_it = True"
   ]
  },
  {
   "cell_type": "code",
   "execution_count": 118,
   "metadata": {},
   "outputs": [
    {
     "name": "stdout",
     "output_type": "stream",
     "text": [
      "...silence...\n"
     ]
    }
   ],
   "source": [
    "if happy and know_it:\n",
    "    print('hands go clap clap')\n",
    "elif not know_it:\n",
    "    print('hands go clap')\n",
    "else:\n",
    "    print('...silence...')"
   ]
  },
  {
   "cell_type": "code",
   "execution_count": null,
   "metadata": {},
   "outputs": [],
   "source": [
    "# what result do I expect with.. ? \n",
    "happy = True\n",
    "know_it = False"
   ]
  },
  {
   "cell_type": "code",
   "execution_count": null,
   "metadata": {},
   "outputs": [],
   "source": [
    "# what result do I expect with.. ? \n",
    "happy = False\n",
    "know_it = True"
   ]
  },
  {
   "cell_type": "code",
   "execution_count": null,
   "metadata": {},
   "outputs": [],
   "source": [
    "# what result do I expect with.. ? \n",
    "happy = False\n",
    "know_it = False"
   ]
  },
  {
   "cell_type": "markdown",
   "metadata": {},
   "source": [
    "# Homework"
   ]
  },
  {
   "cell_type": "code",
   "execution_count": null,
   "metadata": {},
   "outputs": [],
   "source": [
    "# Write code that removes the first and last characters of a string.\n",
    "word = \"L4W\"\n",
    "word[1:-1]\n",
    "\n",
    "# Examples:\n",
    "# \"Chocolate\"  >>  \"hocolat\"\n",
    "# \"L4W\"        >>  \"4\""
   ]
  },
  {
   "cell_type": "code",
   "execution_count": null,
   "metadata": {},
   "outputs": [],
   "source": [
    "# you are given a number and return its negative value. But maybe the number is already negative?\n",
    "x = 7\n",
    "\n",
    "if x>0:\n",
    "    print(-x)\n",
    "else:\n",
    "    print(x)\n",
    "\n",
    "# Examples:\n",
    "# 1   >> -1\n",
    "# -5  >> -5\n",
    "# 0   >> 0"
   ]
  },
  {
   "cell_type": "code",
   "execution_count": null,
   "metadata": {},
   "outputs": [],
   "source": [
    "# you have a dictionary, extract \"Hello\" and \"World\" from it using square brackets\n",
    "# and combine them into a single string\n",
    "mycooldata = {\n",
    "    'a': {\"c\": [\"World\", \"puppy\"]}, \n",
    "    \"b\": ['hi', 'Hello']\n",
    "}\n",
    " \n",
    "mycooldata['b'][1] + \" \" + mycooldata['a']['c'][0]"
   ]
  },
  {
   "cell_type": "markdown",
   "metadata": {},
   "source": [
    "want **more**? try: \n",
    "- https://www.w3resource.com/python-exercises/string/ exercises 3, 5, 6, 9, 15 \n",
    "- https://www.w3resource.com/python-exercises/list/ exercises 1, 2\n",
    "- https://www.w3resource.com/python-exercises/dictionary/ exercises 4, 45\n",
    "some solutions are using loops, which we'll discuss next time, but you can also create a hard-coded implementation if you create a sample string/list/dictionary to work on."
   ]
  },
  {
   "cell_type": "code",
   "execution_count": null,
   "metadata": {},
   "outputs": [],
   "source": [
    "# Write a Python program to get a single string from two given strings, separated by a space and swap the first two characters of each string. Go to the editor\n",
    "# a, b = 'abc', 'xyz'\n",
    "a = 'abc'\n",
    "b = 'xyz'\n",
    "\n",
    "# 'xyc abz'"
   ]
  },
  {
   "cell_type": "code",
   "execution_count": null,
   "metadata": {},
   "outputs": [],
   "source": [
    "b[:-1] + a[-1] + \" \" + a[:-1] + b[-1] == 'xyc abz'"
   ]
  },
  {
   "cell_type": "code",
   "execution_count": null,
   "metadata": {},
   "outputs": [],
   "source": []
  }
 ],
 "metadata": {
  "kernelspec": {
   "display_name": "Python 3 (ipykernel)",
   "language": "python",
   "name": "python3"
  },
  "language_info": {
   "codemirror_mode": {
    "name": "ipython",
    "version": 3
   },
   "file_extension": ".py",
   "mimetype": "text/x-python",
   "name": "python",
   "nbconvert_exporter": "python",
   "pygments_lexer": "ipython3",
   "version": "3.9.7"
  },
  "toc-autonumbering": false
 },
 "nbformat": 4,
 "nbformat_minor": 4
}
