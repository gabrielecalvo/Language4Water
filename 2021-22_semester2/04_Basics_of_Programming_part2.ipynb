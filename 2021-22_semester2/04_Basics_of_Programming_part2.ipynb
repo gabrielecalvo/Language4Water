{
 "cells": [
  {
   "cell_type": "markdown",
   "metadata": {},
   "source": [
    "# In the previous episode...\n",
    "\n",
    "## common basic types\n",
    "```python\n",
    "a = 7          # integer\n",
    "b = 3.14       # float\n",
    "c = 'ciao'     # string (a.k.a. text)\n",
    "d = \"ciao\"     # also string\n",
    "e = True       # boolean (either True or False)\n",
    "```\n",
    "\n",
    "## common number operations\n",
    "```python\n",
    "7 // 3   # floor division\n",
    "7 % 3    # division remainder\n",
    "7 > 3    # greater than\n",
    "7 < 3    # lower than\n",
    "7 >= 3   # greater than or equal\n",
    "7 <= 3   # lower than or equal\n",
    "7 != 3   # different\n",
    "7 == 7   # equal (comparison)\n",
    "```\n",
    "\n",
    ".. if you are ever in a hurry, you can try:\n",
    "- https://www.pythoncheatsheet.org/#Python-Basics\n",
    "- https://speedsheet.io/s/python"
   ]
  },
  {
   "cell_type": "markdown",
   "metadata": {},
   "source": [
    "# .. and now"
   ]
  },
  {
   "cell_type": "markdown",
   "metadata": {
    "id": "9jIsva79of9q"
   },
   "source": [
    "# Fun with... strings"
   ]
  },
  {
   "cell_type": "code",
   "execution_count": 1,
   "metadata": {},
   "outputs": [
    {
     "name": "stdout",
     "output_type": "stream",
     "text": [
      "HelloWorld\n",
      "HelloHelloHelloHelloHello\n",
      "False\n"
     ]
    }
   ],
   "source": [
    "a = 'Hello'\n",
    "b = \"World\"\n",
    "\n",
    "c = '''multiline\n",
    "string'''  # or triple ' symbol\n",
    "\n",
    "print(a + b)   # concatentation\n",
    "print(a * 5)   # repetition\n",
    "print(a > b)   # alphanumberic comparison, works with >, <, ==, and != too"
   ]
  },
  {
   "cell_type": "markdown",
   "metadata": {},
   "source": [
    "### string methods\n",
    "All types have special functionality attached (also called `methods`). String's one can be particularly useful when working with them.\n",
    "\n",
    "Some nice ones are:\n",
    "```python\n",
    "\"aAbB\".upper()  # \"AABB\"\n",
    "\"aAbB\".lower()  # \"aabb\"\n",
    "\"aAbB\".title()  # \"Aabb\"\n",
    "\n",
    "\"aAbB\".startswith(\"aA\")   # True\n",
    "\"aAbB\".endswith(\"aA\")     # False\n",
    "\"aAbB\".replace(\"A\", \"C\")  # \"aCbB\"\n",
    "\"aAbB\".split(\"b\")         # [\"aA\", \"B\"]\n",
    "```"
   ]
  },
  {
   "cell_type": "markdown",
   "metadata": {},
   "source": [
    "### string templeting\n",
    "Another useful way to work with strings is using *templeting*, which can \n",
    "be done using either of these formats:"
   ]
  },
  {
   "cell_type": "code",
   "execution_count": 2,
   "metadata": {},
   "outputs": [
    {
     "name": "stdout",
     "output_type": "stream",
     "text": [
      "this brilliant template\n",
      "this brilliant template\n",
      "this brilliant template\n"
     ]
    }
   ],
   "source": [
    "myvar = \"brilliant\"\n",
    "\n",
    "print(\"this %s template\" % myvar)        # outdated, use one of the others\n",
    "print(\"this {} template\".format(myvar))  # sometimes useful\n",
    "print(f\"this {myvar} template\")          # most modern and nicer to work with"
   ]
  },
  {
   "cell_type": "markdown",
   "metadata": {},
   "source": [
    "the last two ways allow for special formatting within the `{}` for example:\n",
    "- `{13:05}` pad with 5 zeros\n",
    "- `{3.1415:.2f}` show only 2 digits"
   ]
  },
  {
   "cell_type": "code",
   "execution_count": 3,
   "metadata": {},
   "outputs": [
    {
     "data": {
      "text/plain": [
       "'3.14159'"
      ]
     },
     "execution_count": 3,
     "metadata": {},
     "output_type": "execute_result"
    }
   ],
   "source": [
    "import math\n",
    "f\"{math.pi:.5f}\""
   ]
  },
  {
   "cell_type": "markdown",
   "metadata": {},
   "source": [
    "## getting user input\n",
    "the simplest way to get user input is to use the `input` function"
   ]
  },
  {
   "cell_type": "code",
   "execution_count": 4,
   "metadata": {},
   "outputs": [
    {
     "name": "stdin",
     "output_type": "stream",
     "text": [
      "Capital of Germany?  Paris\n"
     ]
    },
    {
     "name": "stdout",
     "output_type": "stream",
     "text": [
      "you said Paris, it was Berlin\n"
     ]
    }
   ],
   "source": [
    "city = input(\"Capital of Germany? \")\n",
    "\n",
    "print(f\"you said {city}, it was Berlin\")"
   ]
  },
  {
   "cell_type": "markdown",
   "metadata": {},
   "source": [
    "# Silly Mad-lib"
   ]
  },
  {
   "cell_type": "code",
   "execution_count": 5,
   "metadata": {},
   "outputs": [
    {
     "name": "stdin",
     "output_type": "stream",
     "text": [
      "give me an ADJECTIVE:  a\n",
      "give me an NOUN:  b\n",
      "give me an ANIMAL:  c\n",
      "give me an SOUND:  d\n"
     ]
    },
    {
     "name": "stdout",
     "output_type": "stream",
     "text": [
      "thanks, run the next cell to see your song\n"
     ]
    }
   ],
   "source": [
    "adj = input(\"give me an ADJECTIVE: \")\n",
    "noun = input(\"give me an NOUN: \")\n",
    "animal = input(\"give me an ANIMAL: \")\n",
    "sound = input(\"give me an SOUND: \")\n",
    "print(\"thanks, run the next cell to see your song\")"
   ]
  },
  {
   "cell_type": "code",
   "execution_count": 6,
   "metadata": {
    "tags": []
   },
   "outputs": [
    {
     "name": "stdout",
     "output_type": "stream",
     "text": [
      "\n",
      "a Macdonald had a b, E-I-E-I-O\n",
      "and on that b he had an c, E-I-E-I-O\n",
      "with a d d here\n",
      "and a d d there,\n",
      "here a d, there a d,\n",
      "everywhere a d d,\n",
      "a Macdonald had a b, E-I-E-I-O. \n",
      "\n"
     ]
    }
   ],
   "source": [
    "madlib = f\"\"\"\n",
    "{adj} Macdonald had a {noun}, E-I-E-I-O\n",
    "and on that {noun} he had an {animal}, E-I-E-I-O\n",
    "with a {sound} {sound} here\n",
    "and a {sound} {sound} there,\n",
    "here a {sound}, there a {sound},\n",
    "everywhere a {sound} {sound},\n",
    "{adj} Macdonald had a {noun}, E-I-E-I-O. \n",
    "\"\"\"\n",
    "\n",
    "print(madlib)"
   ]
  },
  {
   "cell_type": "markdown",
   "metadata": {},
   "source": [
    "**IDEA** for further development: give [TextToSpeech](https://pypi.org/project/gTTS) a try!"
   ]
  },
  {
   "cell_type": "markdown",
   "metadata": {
    "tags": []
   },
   "source": [
    "First install the gTTS third-party library. You can do it from within jupyter/colab by running\n",
    "`!pip install gTTS`"
   ]
  },
  {
   "cell_type": "code",
   "execution_count": 1,
   "metadata": {
    "tags": []
   },
   "outputs": [
    {
     "name": "stdout",
     "output_type": "stream",
     "text": [
      "Collecting gTTS\n",
      "  Using cached gTTS-2.2.3-py3-none-any.whl (25 kB)\n",
      "Requirement already satisfied: requests in c:\\users\\gabe\\appdata\\local\\pypoetry\\cache\\virtualenvs\\2021-22-semester2-2orpfuwg-py3.9\\lib\\site-packages (from gTTS) (2.27.1)\n",
      "Requirement already satisfied: click in c:\\users\\gabe\\appdata\\local\\pypoetry\\cache\\virtualenvs\\2021-22-semester2-2orpfuwg-py3.9\\lib\\site-packages (from gTTS) (8.0.3)\n",
      "Requirement already satisfied: six in c:\\users\\gabe\\appdata\\local\\pypoetry\\cache\\virtualenvs\\2021-22-semester2-2orpfuwg-py3.9\\lib\\site-packages (from gTTS) (1.16.0)\n",
      "Requirement already satisfied: colorama in c:\\users\\gabe\\appdata\\local\\pypoetry\\cache\\virtualenvs\\2021-22-semester2-2orpfuwg-py3.9\\lib\\site-packages (from click->gTTS) (0.4.4)\n",
      "Requirement already satisfied: idna<4,>=2.5 in c:\\users\\gabe\\appdata\\local\\pypoetry\\cache\\virtualenvs\\2021-22-semester2-2orpfuwg-py3.9\\lib\\site-packages (from requests->gTTS) (3.3)\n",
      "Requirement already satisfied: charset-normalizer~=2.0.0 in c:\\users\\gabe\\appdata\\local\\pypoetry\\cache\\virtualenvs\\2021-22-semester2-2orpfuwg-py3.9\\lib\\site-packages (from requests->gTTS) (2.0.10)\n",
      "Requirement already satisfied: certifi>=2017.4.17 in c:\\users\\gabe\\appdata\\local\\pypoetry\\cache\\virtualenvs\\2021-22-semester2-2orpfuwg-py3.9\\lib\\site-packages (from requests->gTTS) (2021.10.8)\n",
      "Requirement already satisfied: urllib3<1.27,>=1.21.1 in c:\\users\\gabe\\appdata\\local\\pypoetry\\cache\\virtualenvs\\2021-22-semester2-2orpfuwg-py3.9\\lib\\site-packages (from requests->gTTS) (1.26.8)\n",
      "Installing collected packages: gTTS\n",
      "Successfully installed gTTS-2.2.3\n"
     ]
    },
    {
     "name": "stderr",
     "output_type": "stream",
     "text": [
      "WARNING: You are using pip version 21.2.4; however, version 22.0.3 is available.\n",
      "You should consider upgrading via the 'C:\\Users\\Gabe\\AppData\\Local\\pypoetry\\Cache\\virtualenvs\\2021-22-semester2-2orPFUWg-py3.9\\Scripts\\python.exe -m pip install --upgrade pip' command.\n"
     ]
    }
   ],
   "source": [
    "!python -m pip install gTTS"
   ]
  },
  {
   "cell_type": "code",
   "execution_count": 8,
   "metadata": {
    "tags": []
   },
   "outputs": [
    {
     "data": {
      "text/html": [
       "\n",
       "                <audio  controls=\"controls\" >\n",
       "                    <source src=\"data:audio/mpeg;base64,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\" type=\"audio/mpeg\" />\n",
       "                    Your browser does not support the audio element.\n",
       "                </audio>\n",
       "              "
      ],
      "text/plain": [
       "<IPython.lib.display.Audio object>"
      ]
     },
     "execution_count": 8,
     "metadata": {},
     "output_type": "execute_result"
    }
   ],
   "source": [
    "from gtts import gTTS\n",
    "tts = gTTS(madlib)\n",
    "tts.save('madlib.mp3')\n",
    "\n",
    "from IPython.display import Audio\n",
    "Audio(filename='madlib.mp3')"
   ]
  },
  {
   "cell_type": "markdown",
   "metadata": {
    "id": "lzLHXjC5h_vV"
   },
   "source": [
    "# \\~\\~\\~ Question Break!! \\~\\~\\~\n",
    "![question_break](https://raw.githubusercontent.com/gabrielecalvo/Language4Water/master/assets/xx_question_break.jpg)"
   ]
  },
  {
   "cell_type": "markdown",
   "metadata": {},
   "source": [
    "# Exercise\n",
    "**Coolyify**: write code that converts any string into a cool string where all the \"e\"s are converted to \"3\" and all the \"s\" to \"$\""
   ]
  },
  {
   "cell_type": "code",
   "execution_count": 9,
   "metadata": {},
   "outputs": [],
   "source": [
    "my_string = \"Life is what happens when you're busy making other plans.\""
   ]
  },
  {
   "cell_type": "code",
   "execution_count": 10,
   "metadata": {
    "jupyter": {
     "source_hidden": true
    },
    "tags": []
   },
   "outputs": [
    {
     "data": {
      "text/plain": [
       "\"Lif3 i$ what happ3n$ wh3n you'r3 bu$y making oth3r plan$.\""
      ]
     },
     "execution_count": 10,
     "metadata": {},
     "output_type": "execute_result"
    }
   ],
   "source": [
    "my_string = my_string.replace(\"e\", \"3\")\n",
    "my_string.replace(\"s\", \"$\")"
   ]
  },
  {
   "cell_type": "code",
   "execution_count": 11,
   "metadata": {
    "jupyter": {
     "source_hidden": true
    },
    "tags": []
   },
   "outputs": [
    {
     "data": {
      "text/plain": [
       "\"Lif3 i$ what happ3n$ wh3n you'r3 bu$y making oth3r plan$.\""
      ]
     },
     "execution_count": 11,
     "metadata": {},
     "output_type": "execute_result"
    }
   ],
   "source": [
    "my_string.replace(\"e\",\"3\").replace(\"s\",\"$\")"
   ]
  },
  {
   "cell_type": "markdown",
   "metadata": {},
   "source": [
    "**QuickOnlineReviewer**: write code that takes a few inputs and fills a template of an online review"
   ]
  },
  {
   "cell_type": "code",
   "execution_count": null,
   "metadata": {},
   "outputs": [],
   "source": [
    "\"this {} was {}, I will definitely {} this to all my friends\""
   ]
  },
  {
   "cell_type": "code",
   "execution_count": null,
   "metadata": {
    "jupyter": {
     "source_hidden": true
    },
    "tags": []
   },
   "outputs": [],
   "source": [
    "product = input(\"enter product: \")\n",
    "adjective = input(\"enter adjective: \")\n",
    "rating = input(\"enter rating: \")\n",
    "\n",
    "f\"this {product=} was {adjective}, I will definitely {rating} this to all my friends\""
   ]
  },
  {
   "cell_type": "markdown",
   "metadata": {},
   "source": [
    "# Using the standard library (shipped with python)"
   ]
  },
  {
   "cell_type": "code",
   "execution_count": 17,
   "metadata": {},
   "outputs": [
    {
     "data": {
      "text/plain": [
       "12"
      ]
     },
     "execution_count": 17,
     "metadata": {},
     "output_type": "execute_result"
    }
   ],
   "source": [
    "import random\n",
    "\n",
    "random.randint(1,13)"
   ]
  },
  {
   "cell_type": "code",
   "execution_count": 24,
   "metadata": {},
   "outputs": [
    {
     "data": {
      "text/plain": [
       "5"
      ]
     },
     "execution_count": 24,
     "metadata": {},
     "output_type": "execute_result"
    }
   ],
   "source": [
    "from random import randint\n",
    "\n",
    "randint(1,13)"
   ]
  },
  {
   "cell_type": "code",
   "execution_count": null,
   "metadata": {},
   "outputs": [],
   "source": [
    "import random as rnd         # import with alias\n",
    "from random import randint   # importing single item from module"
   ]
  },
  {
   "cell_type": "markdown",
   "metadata": {},
   "source": [
    "## Inspecting the documentation\n",
    "If you want to learn more about how to use a particular function (or method, or class) you can use the following"
   ]
  },
  {
   "cell_type": "code",
   "execution_count": 28,
   "metadata": {
    "tags": []
   },
   "outputs": [
    {
     "data": {
      "text/plain": [
       "\u001b[1;31mSignature:\u001b[0m \u001b[0mrandint\u001b[0m\u001b[1;33m(\u001b[0m\u001b[0ma\u001b[0m\u001b[1;33m,\u001b[0m \u001b[0mb\u001b[0m\u001b[1;33m)\u001b[0m\u001b[1;33m\u001b[0m\u001b[1;33m\u001b[0m\u001b[0m\n",
       "\u001b[1;31mDocstring:\u001b[0m\n",
       "Return random integer in range [a, b], including both end points.\n",
       "        \n",
       "\u001b[1;31mFile:\u001b[0m      c:\\users\\gabe\\appdata\\local\\programs\\python\\python39\\lib\\random.py\n",
       "\u001b[1;31mType:\u001b[0m      method\n"
      ]
     },
     "metadata": {},
     "output_type": "display_data"
    }
   ],
   "source": [
    "# works in any python console\n",
    "randint?"
   ]
  },
  {
   "cell_type": "code",
   "execution_count": 16,
   "metadata": {
    "tags": []
   },
   "outputs": [
    {
     "data": {
      "text/plain": [
       "\u001b[1;31mSignature:\u001b[0m \u001b[0mrandom\u001b[0m\u001b[1;33m.\u001b[0m\u001b[0mrandint\u001b[0m\u001b[1;33m(\u001b[0m\u001b[0ma\u001b[0m\u001b[1;33m,\u001b[0m \u001b[0mb\u001b[0m\u001b[1;33m)\u001b[0m\u001b[1;33m\u001b[0m\u001b[1;33m\u001b[0m\u001b[0m\n",
       "\u001b[1;31mDocstring:\u001b[0m\n",
       "Return random integer in range [a, b], including both end points.\n",
       "        \n",
       "\u001b[1;31mFile:\u001b[0m      c:\\users\\xps\\appdata\\local\\programs\\python\\python39\\lib\\random.py\n",
       "\u001b[1;31mType:\u001b[0m      method\n"
      ]
     },
     "metadata": {},
     "output_type": "display_data"
    }
   ],
   "source": [
    "# work in jupyter (and ipython consoles)\n",
    "random.randint?"
   ]
  },
  {
   "cell_type": "code",
   "execution_count": 17,
   "metadata": {
    "tags": []
   },
   "outputs": [
    {
     "data": {
      "text/plain": [
       "\u001b[1;31mSignature:\u001b[0m \u001b[0mrandom\u001b[0m\u001b[1;33m.\u001b[0m\u001b[0mrandint\u001b[0m\u001b[1;33m(\u001b[0m\u001b[0ma\u001b[0m\u001b[1;33m,\u001b[0m \u001b[0mb\u001b[0m\u001b[1;33m)\u001b[0m\u001b[1;33m\u001b[0m\u001b[1;33m\u001b[0m\u001b[0m\n",
       "\u001b[1;31mDocstring:\u001b[0m\n",
       "Return random integer in range [a, b], including both end points.\n",
       "        \n",
       "\u001b[1;31mSource:\u001b[0m   \n",
       "    \u001b[1;32mdef\u001b[0m \u001b[0mrandint\u001b[0m\u001b[1;33m(\u001b[0m\u001b[0mself\u001b[0m\u001b[1;33m,\u001b[0m \u001b[0ma\u001b[0m\u001b[1;33m,\u001b[0m \u001b[0mb\u001b[0m\u001b[1;33m)\u001b[0m\u001b[1;33m:\u001b[0m\u001b[1;33m\n",
       "\u001b[0m        \u001b[1;34m\"\"\"Return random integer in range [a, b], including both end points.\n",
       "        \"\"\"\u001b[0m\u001b[1;33m\n",
       "\u001b[0m\u001b[1;33m\n",
       "\u001b[0m        \u001b[1;32mreturn\u001b[0m \u001b[0mself\u001b[0m\u001b[1;33m.\u001b[0m\u001b[0mrandrange\u001b[0m\u001b[1;33m(\u001b[0m\u001b[0ma\u001b[0m\u001b[1;33m,\u001b[0m \u001b[0mb\u001b[0m\u001b[1;33m+\u001b[0m\u001b[1;36m1\u001b[0m\u001b[1;33m)\u001b[0m\u001b[1;33m\u001b[0m\u001b[1;33m\u001b[0m\u001b[0m\n",
       "\u001b[1;31mFile:\u001b[0m      c:\\users\\xps\\appdata\\local\\programs\\python\\python39\\lib\\random.py\n",
       "\u001b[1;31mType:\u001b[0m      method\n"
      ]
     },
     "metadata": {},
     "output_type": "display_data"
    }
   ],
   "source": [
    "# See source code, work in jupyter (and ipython consoles)\n",
    "random.randint??"
   ]
  },
  {
   "cell_type": "code",
   "execution_count": 33,
   "metadata": {},
   "outputs": [],
   "source": [
    "myvar1 = True"
   ]
  },
  {
   "cell_type": "code",
   "execution_count": 34,
   "metadata": {},
   "outputs": [
    {
     "data": {
      "text/plain": [
       "True"
      ]
     },
     "execution_count": 34,
     "metadata": {},
     "output_type": "execute_result"
    }
   ],
   "source": [
    "myvar1"
   ]
  },
  {
   "cell_type": "markdown",
   "metadata": {
    "id": "jzBPvYrteEk0"
   },
   "source": [
    "# Aggregate of Types"
   ]
  },
  {
   "cell_type": "code",
   "execution_count": 20,
   "metadata": {
    "id": "iyBRxqAUcemH"
   },
   "outputs": [],
   "source": [
    "f = [1, 2, 3]       # list\n",
    "h = {'a':1, 'b':2}  # dictionary (key-value mappings)"
   ]
  },
  {
   "cell_type": "code",
   "execution_count": 21,
   "metadata": {
    "id": "3LMB_S7flGNR"
   },
   "outputs": [
    {
     "data": {
      "text/plain": [
       "{'a': 1, 2: True, 'b': 1}"
      ]
     },
     "execution_count": 21,
     "metadata": {},
     "output_type": "execute_result"
    }
   ],
   "source": [
    "# the content can be eterogenous (different types)\n",
    "f = [1, \"two\", 3, False] \n",
    "g = {'a': 1, 2: True, 'b': 1}  \n",
    "\n",
    "g"
   ]
  },
  {
   "cell_type": "markdown",
   "metadata": {
    "id": "6A0vojiZsAA2"
   },
   "source": [
    "# Fun with... Lists"
   ]
  },
  {
   "cell_type": "code",
   "execution_count": 35,
   "metadata": {},
   "outputs": [],
   "source": [
    "my_list = ['John', 'Paul', 'George', 'Ringo']  # most common is all the same type"
   ]
  },
  {
   "cell_type": "code",
   "execution_count": 39,
   "metadata": {},
   "outputs": [],
   "source": [
    "my_list.reverse()"
   ]
  },
  {
   "cell_type": "code",
   "execution_count": 40,
   "metadata": {},
   "outputs": [
    {
     "data": {
      "text/plain": [
       "['John', 'Paul', 'George', 'Ringo']"
      ]
     },
     "execution_count": 40,
     "metadata": {},
     "output_type": "execute_result"
    }
   ],
   "source": [
    "my_list"
   ]
  },
  {
   "cell_type": "code",
   "execution_count": 26,
   "metadata": {
    "id": "djCBc0DbsCst"
   },
   "outputs": [
    {
     "name": "stdout",
     "output_type": "stream",
     "text": [
      "Ringo\n",
      "George\n",
      "John\n"
     ]
    }
   ],
   "source": [
    "# get first element of the list\n",
    "print(my_list[0])\n",
    "\n",
    "# get second\n",
    "print(my_list[1])\n",
    "\n",
    "# get last\n",
    "print(my_list[-1])"
   ]
  },
  {
   "cell_type": "code",
   "execution_count": 46,
   "metadata": {},
   "outputs": [
    {
     "data": {
      "text/plain": [
       "4"
      ]
     },
     "execution_count": 46,
     "metadata": {},
     "output_type": "execute_result"
    }
   ],
   "source": [
    "len(my_list)"
   ]
  },
  {
   "cell_type": "code",
   "execution_count": 63,
   "metadata": {},
   "outputs": [],
   "source": [
    "mylist=list(\"Monty Python\")"
   ]
  },
  {
   "cell_type": "markdown",
   "metadata": {},
   "source": [
    "## List slicing\n",
    "also used for **arrays**, **matrices**, **pd.Series** and **strings**\n",
    "\n",
    "LIST[start:end:step]\n",
    "\n",
    "![slicing](https://miro.medium.com/max/1838/1*HqdR129XR8-1ojtTYLou7g.png)"
   ]
  },
  {
   "cell_type": "code",
   "execution_count": 27,
   "metadata": {},
   "outputs": [
    {
     "data": {
      "text/plain": [
       "['Ringo', 'George', 'Paul']"
      ]
     },
     "execution_count": 27,
     "metadata": {},
     "output_type": "execute_result"
    }
   ],
   "source": [
    "my_list[:3]"
   ]
  },
  {
   "cell_type": "code",
   "execution_count": 28,
   "metadata": {},
   "outputs": [
    {
     "data": {
      "text/plain": [
       "['Ringo', 'George']"
      ]
     },
     "execution_count": 28,
     "metadata": {},
     "output_type": "execute_result"
    }
   ],
   "source": [
    "# taking first two\n",
    "my_list[:2]    # same as my_list[0:2:1]"
   ]
  },
  {
   "cell_type": "code",
   "execution_count": 29,
   "metadata": {},
   "outputs": [
    {
     "data": {
      "text/plain": [
       "['Paul', 'John']"
      ]
     },
     "execution_count": 29,
     "metadata": {},
     "output_type": "execute_result"
    }
   ],
   "source": [
    "# taking last two\n",
    "my_list[2:]    # same as my_list[-2::1]"
   ]
  },
  {
   "cell_type": "code",
   "execution_count": 30,
   "metadata": {},
   "outputs": [
    {
     "data": {
      "text/plain": [
       "['George', 'Paul']"
      ]
     },
     "execution_count": 30,
     "metadata": {},
     "output_type": "execute_result"
    }
   ],
   "source": [
    "# taking middle two?\n",
    "my_list[1:-1]  # or my_list[1:3]"
   ]
  },
  {
   "cell_type": "code",
   "execution_count": 31,
   "metadata": {},
   "outputs": [
    {
     "data": {
      "text/plain": [
       "['Ringo', 'Paul']"
      ]
     },
     "execution_count": 31,
     "metadata": {},
     "output_type": "execute_result"
    }
   ],
   "source": [
    "# taking one every two (odd numbers)\n",
    "my_list[::2]"
   ]
  },
  {
   "cell_type": "code",
   "execution_count": 32,
   "metadata": {},
   "outputs": [
    {
     "data": {
      "text/plain": [
       "['John', 'Paul', 'George', 'Ringo']"
      ]
     },
     "execution_count": 32,
     "metadata": {},
     "output_type": "execute_result"
    }
   ],
   "source": [
    "# reversing the order?\n",
    "my_list[::-1]\n",
    "\n",
    "# or to reverse it in-place `my_list.reverse()`"
   ]
  },
  {
   "cell_type": "code",
   "execution_count": 33,
   "metadata": {},
   "outputs": [
    {
     "data": {
      "text/plain": [
       "['George', 'John', 'Paul', 'Ringo']"
      ]
     },
     "execution_count": 33,
     "metadata": {},
     "output_type": "execute_result"
    }
   ],
   "source": [
    "# sorting a list\n",
    "sorted(my_list)"
   ]
  },
  {
   "cell_type": "code",
   "execution_count": 74,
   "metadata": {},
   "outputs": [],
   "source": [
    "my_list.sort()"
   ]
  },
  {
   "cell_type": "code",
   "execution_count": 35,
   "metadata": {},
   "outputs": [
    {
     "data": {
      "text/plain": [
       "['George', 'John', 'Paul', 'Ringo']"
      ]
     },
     "execution_count": 35,
     "metadata": {},
     "output_type": "execute_result"
    }
   ],
   "source": [
    "my_list"
   ]
  },
  {
   "cell_type": "code",
   "execution_count": 75,
   "metadata": {},
   "outputs": [
    {
     "name": "stdout",
     "output_type": "stream",
     "text": [
      "before:  ['George', 'John', 'Paul', 'Ringo']\n",
      "after:  ['THE George', 'John', 'Paul', 'Ringo']\n"
     ]
    }
   ],
   "source": [
    "# changing one value\n",
    "print('before: ', my_list)\n",
    "my_list[0] = 'THE George'\n",
    "print('after: ', my_list)"
   ]
  },
  {
   "cell_type": "code",
   "execution_count": 76,
   "metadata": {},
   "outputs": [
    {
     "data": {
      "text/plain": [
       "['THE George', 'John', 'Paul', 'Ringo', 'Pete']"
      ]
     },
     "execution_count": 76,
     "metadata": {},
     "output_type": "execute_result"
    }
   ],
   "source": [
    "# adding elements to a list\n",
    "my_list.append('Pete')\n",
    "\n",
    "my_list"
   ]
  },
  {
   "cell_type": "code",
   "execution_count": 77,
   "metadata": {},
   "outputs": [
    {
     "data": {
      "text/plain": [
       "['THE George', 'John', 'Paul', 'Ringo', 'Pete']"
      ]
     },
     "execution_count": 77,
     "metadata": {},
     "output_type": "execute_result"
    }
   ],
   "source": [
    "my_list"
   ]
  },
  {
   "cell_type": "code",
   "execution_count": 39,
   "metadata": {},
   "outputs": [],
   "source": [
    "my_list.insert(1, \"apple\")"
   ]
  },
  {
   "cell_type": "code",
   "execution_count": 40,
   "metadata": {},
   "outputs": [
    {
     "data": {
      "text/plain": [
       "['THE George', 'apple', 'John', 'Paul', 'Ringo', 'Pete']"
      ]
     },
     "execution_count": 40,
     "metadata": {},
     "output_type": "execute_result"
    }
   ],
   "source": [
    "my_list"
   ]
  },
  {
   "cell_type": "code",
   "execution_count": 84,
   "metadata": {},
   "outputs": [],
   "source": [
    "p = [\"agragrgargrag\",3,[3,4,54], \"age\"]"
   ]
  },
  {
   "cell_type": "code",
   "execution_count": 88,
   "metadata": {},
   "outputs": [
    {
     "data": {
      "text/plain": [
       "4"
      ]
     },
     "execution_count": 88,
     "metadata": {},
     "output_type": "execute_result"
    }
   ],
   "source": [
    "p[2][1]"
   ]
  },
  {
   "cell_type": "code",
   "execution_count": 41,
   "metadata": {},
   "outputs": [
    {
     "data": {
      "text/plain": [
       "False"
      ]
     },
     "execution_count": 41,
     "metadata": {},
     "output_type": "execute_result"
    }
   ],
   "source": [
    "# checking if element in list\n",
    "'apfple' in my_list"
   ]
  },
  {
   "cell_type": "markdown",
   "metadata": {},
   "source": [
    "if the index you pass excides the length of the array, it will return the entire array"
   ]
  },
  {
   "cell_type": "code",
   "execution_count": 42,
   "metadata": {},
   "outputs": [],
   "source": [
    "A=\"ab  babbaa\""
   ]
  },
  {
   "cell_type": "code",
   "execution_count": 43,
   "metadata": {},
   "outputs": [
    {
     "data": {
      "text/plain": [
       "<function str.split(sep=None, maxsplit=-1)>"
      ]
     },
     "execution_count": 43,
     "metadata": {},
     "output_type": "execute_result"
    }
   ],
   "source": [
    "\"ab babbaa\".split"
   ]
  },
  {
   "cell_type": "markdown",
   "metadata": {},
   "source": [
    "# \\~\\~\\~ Question Break!! \\~\\~\\~\n",
    "![question_break](https://raw.githubusercontent.com/gabrielecalvo/Language4Water/master/assets/xx_question_break.jpg)"
   ]
  },
  {
   "cell_type": "markdown",
   "metadata": {
    "id": "6A0vojiZsAA2"
   },
   "source": [
    "# Fun with... Dictionaries\n",
    "Collection of key-value pairs"
   ]
  },
  {
   "cell_type": "code",
   "execution_count": 89,
   "metadata": {},
   "outputs": [],
   "source": [
    "# values can be duplicated, keys cannot\n",
    "the_beatles_instruments = {\n",
    "    'John': 'guitar',\n",
    "    'Paul':  'guitar',  \n",
    "    'George': 'bass',\n",
    "    'Ringo': 'drums',\n",
    "} \n",
    "\n",
    "# values can be eterogenous and nested\n",
    "the_beatles_tenure = {\n",
    "    'John': {'start': 1960, 'end': 1969},\n",
    "    'Paul':  [1960, 1970],\n",
    "    'George': (1960, 1970),\n",
    "    'Ringo': '1962–1970',\n",
    "}"
   ]
  },
  {
   "cell_type": "code",
   "execution_count": 90,
   "metadata": {},
   "outputs": [
    {
     "data": {
      "text/plain": [
       "'bass'"
      ]
     },
     "execution_count": 90,
     "metadata": {},
     "output_type": "execute_result"
    }
   ],
   "source": [
    "# accessing a value\n",
    "the_beatles_instruments['George']"
   ]
  },
  {
   "cell_type": "code",
   "execution_count": 92,
   "metadata": {},
   "outputs": [
    {
     "data": {
      "text/plain": [
       "1970"
      ]
     },
     "execution_count": 92,
     "metadata": {},
     "output_type": "execute_result"
    }
   ],
   "source": [
    "# starting year of John?\n",
    "the_beatles_tenure['John']['start']\n",
    "\n",
    "# the last year for Paul\n",
    "the_beatles_tenure['Paul'][-1]"
   ]
  },
  {
   "cell_type": "code",
   "execution_count": 93,
   "metadata": {},
   "outputs": [
    {
     "data": {
      "text/plain": [
       "{'John': 'guitar',\n",
       " 'Paul': 'guitar',\n",
       " 'George': 'bass',\n",
       " 'Ringo': 'drums',\n",
       " 'Pete': 'trumpet'}"
      ]
     },
     "execution_count": 93,
     "metadata": {},
     "output_type": "execute_result"
    }
   ],
   "source": [
    "# adding a new value\n",
    "the_beatles_instruments['Pete'] = 'trumpet'\n",
    "\n",
    "the_beatles_instruments"
   ]
  },
  {
   "cell_type": "code",
   "execution_count": 100,
   "metadata": {},
   "outputs": [
    {
     "data": {
      "text/plain": [
       "dict_keys(['John', 'Paul', 'George', 'Ringo', 'Pete'])"
      ]
     },
     "execution_count": 100,
     "metadata": {},
     "output_type": "execute_result"
    }
   ],
   "source": [
    "the_beatles_instruments.keys()"
   ]
  },
  {
   "cell_type": "code",
   "execution_count": 51,
   "metadata": {},
   "outputs": [
    {
     "data": {
      "text/plain": [
       "dict_values(['guitar', 'guitar', 'bass', 'drums', 'trumpet'])"
      ]
     },
     "execution_count": 51,
     "metadata": {},
     "output_type": "execute_result"
    }
   ],
   "source": [
    "# getting all values\n",
    "the_beatles_instruments.values()"
   ]
  },
  {
   "cell_type": "code",
   "execution_count": 104,
   "metadata": {},
   "outputs": [
    {
     "data": {
      "text/plain": [
       "dict_items([('John', 'guitar'), ('Paul', 'guitar'), ('George', 'bass'), ('Ringo', 'drums'), ('Pete', 'trumpet')])"
      ]
     },
     "execution_count": 104,
     "metadata": {},
     "output_type": "execute_result"
    }
   ],
   "source": [
    "# getting all keys-values as pairs\n",
    "the_beatles_instruments.items()"
   ]
  },
  {
   "cell_type": "code",
   "execution_count": 113,
   "metadata": {},
   "outputs": [
    {
     "name": "stdout",
     "output_type": "stream",
     "text": [
      "John,guitar\n",
      "Paul,guitar\n",
      "George,bass\n",
      "Ringo,drums\n",
      "Pete,trumpet\n",
      "\n"
     ]
    }
   ],
   "source": [
    "mystr = \"\"\n",
    "for key, value in the_beatles_instruments.items():\n",
    "    mystr = mystr + f\"{key},{value}\\n\"\n",
    "    \n",
    "print(mystr)"
   ]
  },
  {
   "cell_type": "markdown",
   "metadata": {},
   "source": [
    "# If Statement\n",
    "diverting the execution flow depending on 1+ condition"
   ]
  },
  {
   "cell_type": "code",
   "execution_count": 11,
   "metadata": {},
   "outputs": [],
   "source": [
    "happy = False\n",
    "know_it = False"
   ]
  },
  {
   "cell_type": "code",
   "execution_count": 12,
   "metadata": {},
   "outputs": [
    {
     "name": "stdout",
     "output_type": "stream",
     "text": [
      "hands go clap\n"
     ]
    }
   ],
   "source": [
    "if happy and know_it:\n",
    "    print('hands go clap clap')\n",
    "elif not know_it:\n",
    "    print('hands go clap')\n",
    "else:\n",
    "    print('...silence...')"
   ]
  },
  {
   "cell_type": "code",
   "execution_count": 55,
   "metadata": {},
   "outputs": [],
   "source": [
    "# what result do I expect with.. ? \n",
    "happy = True\n",
    "know_it = False"
   ]
  },
  {
   "cell_type": "code",
   "execution_count": 56,
   "metadata": {},
   "outputs": [],
   "source": [
    "# what result do I expect with.. ? \n",
    "happy = False\n",
    "know_it = True"
   ]
  },
  {
   "cell_type": "code",
   "execution_count": 57,
   "metadata": {},
   "outputs": [],
   "source": [
    "# what result do I expect with.. ? \n",
    "happy = False\n",
    "know_it = False"
   ]
  },
  {
   "cell_type": "markdown",
   "metadata": {},
   "source": [
    "# Homework"
   ]
  },
  {
   "cell_type": "code",
   "execution_count": 58,
   "metadata": {},
   "outputs": [
    {
     "data": {
      "text/plain": [
       "'4'"
      ]
     },
     "execution_count": 58,
     "metadata": {},
     "output_type": "execute_result"
    }
   ],
   "source": [
    "# Write code that removes the first and last characters of a string.\n",
    "word = \"L4W\"\n",
    "word[1:-1]\n",
    "\n",
    "# Examples:\n",
    "# \"Chocolate\"  >>  \"hocolat\"\n",
    "# \"L4W\"        >>  \"4\""
   ]
  },
  {
   "cell_type": "code",
   "execution_count": 59,
   "metadata": {},
   "outputs": [
    {
     "name": "stdout",
     "output_type": "stream",
     "text": [
      "-7\n"
     ]
    }
   ],
   "source": [
    "# you are given a number and return its negative value. But maybe the number is already negative?\n",
    "x = 7\n",
    "\n",
    "if x>0:\n",
    "    print(-x)\n",
    "else:\n",
    "    print(x)\n",
    "\n",
    "# Examples:\n",
    "# 1   >> -1\n",
    "# -5  >> -5\n",
    "# 0   >> 0"
   ]
  },
  {
   "cell_type": "code",
   "execution_count": 60,
   "metadata": {},
   "outputs": [
    {
     "data": {
      "text/plain": [
       "'Hello World'"
      ]
     },
     "execution_count": 60,
     "metadata": {},
     "output_type": "execute_result"
    }
   ],
   "source": [
    "# you have a dictionary, extract \"Hello\" and \"World\" from it using square brackets\n",
    "# and combine them into a single string\n",
    "mycooldata = {\n",
    "    'a': {\"c\": [\"World\", \"puppy\"]}, \n",
    "    \"b\": ['hi', 'Hello']\n",
    "}\n",
    " \n",
    "mycooldata['b'][1] + \" \" + mycooldata['a']['c'][0]"
   ]
  },
  {
   "cell_type": "markdown",
   "metadata": {},
   "source": [
    "want **more**? try: \n",
    "- https://www.w3resource.com/python-exercises/string/ exercises 3, 5, 6, 9, 15 \n",
    "- https://www.w3resource.com/python-exercises/list/ exercises 1, 2\n",
    "- https://www.w3resource.com/python-exercises/dictionary/ exercises 4, 45\n",
    "some solutions are using loops, which we'll discuss next time, but you can also create a hard-coded implementation if you create a sample string/list/dictionary to work on."
   ]
  },
  {
   "cell_type": "code",
   "execution_count": 61,
   "metadata": {},
   "outputs": [],
   "source": [
    "# Write a Python program to get a single string from two given strings, separated by a space and swap the first two characters of each string. Go to the editor\n",
    "# a, b = 'abc', 'xyz'\n",
    "a = 'abc'\n",
    "b = 'xyz'\n",
    "\n",
    "# 'xyc abz'"
   ]
  },
  {
   "cell_type": "code",
   "execution_count": 62,
   "metadata": {},
   "outputs": [
    {
     "data": {
      "text/plain": [
       "True"
      ]
     },
     "execution_count": 62,
     "metadata": {},
     "output_type": "execute_result"
    }
   ],
   "source": [
    "b[:-1] + a[-1] + \" \" + a[:-1] + b[-1] == 'xyc abz'"
   ]
  },
  {
   "cell_type": "code",
   "execution_count": null,
   "metadata": {},
   "outputs": [],
   "source": []
  }
 ],
 "metadata": {
  "kernelspec": {
   "display_name": "Python 3 (ipykernel)",
   "language": "python",
   "name": "python3"
  },
  "language_info": {
   "codemirror_mode": {
    "name": "ipython",
    "version": 3
   },
   "file_extension": ".py",
   "mimetype": "text/x-python",
   "name": "python",
   "nbconvert_exporter": "python",
   "pygments_lexer": "ipython3",
   "version": "3.9.7"
  },
  "toc-autonumbering": false
 },
 "nbformat": 4,
 "nbformat_minor": 4
}
