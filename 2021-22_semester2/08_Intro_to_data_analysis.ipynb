{
 "cells": [
  {
   "cell_type": "markdown",
   "id": "ordinary-prescription",
   "metadata": {},
   "source": [
    "# In the previous episode...\n",
    "\n",
    "### learned to read and write files\n",
    "```python\n",
    "with open(\"old_shiny_file.txt\", \"r\") as fh:\n",
    "    content = fh.read()\n",
    "    \n",
    "with open(\"new_shiny_file.txt\", \"w\") as fh:\n",
    "    fh.write(\"hey, this is cool!!\\n\" * 20)\n",
    "```\n",
    "\n",
    "and implemented an \"Ishmael\" counter\n",
    "\n",
    "# .. and now"
   ]
  },
  {
   "cell_type": "markdown",
   "id": "enclosed-region",
   "metadata": {},
   "source": [
    "# Introduction to Data Analysis\n",
    "We'll download a dataset ([original source](https://www.kaggle.com/unsdsn/world-happiness)) and visualise it."
   ]
  },
  {
   "cell_type": "code",
   "execution_count": 14,
   "id": "becoming-charlotte",
   "metadata": {},
   "outputs": [
    {
     "name": "stdout",
     "output_type": "stream",
     "text": [
      "downloaded\n",
      "unzipped\n",
      "removed zipped file\n"
     ]
    }
   ],
   "source": [
    "# Don't worry about the code in this cell for now, we'll get to this stuff a future lesson\n",
    "import urllib.request   \n",
    "import zipfile\n",
    "import os\n",
    "\n",
    "urllib.request.urlretrieve(\"https://raw.githubusercontent.com/gabrielecalvo/Language4Water/master/assets/HappinessReport.zip\", 'HappinessReport.zip')\n",
    "print(\"downloaded\")\n",
    "\n",
    "with zipfile.ZipFile('HappinessReport.zip', 'r') as zip_ref:\n",
    "    zip_ref.extractall(\"HappinessReport\")\n",
    "print(\"unzipped\")\n",
    "    \n",
    "os.remove(\"HappinessReport.zip\") \n",
    "print(\"removed zipped file\")"
   ]
  },
  {
   "cell_type": "markdown",
   "id": "previous-scout",
   "metadata": {},
   "source": [
    "## loading data from a single csv"
   ]
  },
  {
   "cell_type": "code",
   "execution_count": 18,
   "id": "olive-music",
   "metadata": {},
   "outputs": [
    {
     "data": {
      "text/html": [
       "<div>\n",
       "<style scoped>\n",
       "    .dataframe tbody tr th:only-of-type {\n",
       "        vertical-align: middle;\n",
       "    }\n",
       "\n",
       "    .dataframe tbody tr th {\n",
       "        vertical-align: top;\n",
       "    }\n",
       "\n",
       "    .dataframe thead th {\n",
       "        text-align: right;\n",
       "    }\n",
       "</style>\n",
       "<table border=\"1\" class=\"dataframe\">\n",
       "  <thead>\n",
       "    <tr style=\"text-align: right;\">\n",
       "      <th></th>\n",
       "      <th>Region</th>\n",
       "      <th>Happiness Rank</th>\n",
       "      <th>Happiness Score</th>\n",
       "      <th>Standard Error</th>\n",
       "      <th>Economy (GDP per Capita)</th>\n",
       "      <th>Family</th>\n",
       "      <th>Health (Life Expectancy)</th>\n",
       "      <th>Freedom</th>\n",
       "      <th>Trust (Government Corruption)</th>\n",
       "      <th>Generosity</th>\n",
       "      <th>Dystopia Residual</th>\n",
       "    </tr>\n",
       "    <tr>\n",
       "      <th>Country</th>\n",
       "      <th></th>\n",
       "      <th></th>\n",
       "      <th></th>\n",
       "      <th></th>\n",
       "      <th></th>\n",
       "      <th></th>\n",
       "      <th></th>\n",
       "      <th></th>\n",
       "      <th></th>\n",
       "      <th></th>\n",
       "      <th></th>\n",
       "    </tr>\n",
       "  </thead>\n",
       "  <tbody>\n",
       "    <tr>\n",
       "      <th>Switzerland</th>\n",
       "      <td>Western Europe</td>\n",
       "      <td>1</td>\n",
       "      <td>7.587</td>\n",
       "      <td>0.03411</td>\n",
       "      <td>1.39651</td>\n",
       "      <td>1.34951</td>\n",
       "      <td>0.94143</td>\n",
       "      <td>0.66557</td>\n",
       "      <td>0.41978</td>\n",
       "      <td>0.29678</td>\n",
       "      <td>2.51738</td>\n",
       "    </tr>\n",
       "    <tr>\n",
       "      <th>Iceland</th>\n",
       "      <td>Western Europe</td>\n",
       "      <td>2</td>\n",
       "      <td>7.561</td>\n",
       "      <td>0.04884</td>\n",
       "      <td>1.30232</td>\n",
       "      <td>1.40223</td>\n",
       "      <td>0.94784</td>\n",
       "      <td>0.62877</td>\n",
       "      <td>0.14145</td>\n",
       "      <td>0.43630</td>\n",
       "      <td>2.70201</td>\n",
       "    </tr>\n",
       "    <tr>\n",
       "      <th>Denmark</th>\n",
       "      <td>Western Europe</td>\n",
       "      <td>3</td>\n",
       "      <td>7.527</td>\n",
       "      <td>0.03328</td>\n",
       "      <td>1.32548</td>\n",
       "      <td>1.36058</td>\n",
       "      <td>0.87464</td>\n",
       "      <td>0.64938</td>\n",
       "      <td>0.48357</td>\n",
       "      <td>0.34139</td>\n",
       "      <td>2.49204</td>\n",
       "    </tr>\n",
       "    <tr>\n",
       "      <th>Norway</th>\n",
       "      <td>Western Europe</td>\n",
       "      <td>4</td>\n",
       "      <td>7.522</td>\n",
       "      <td>0.03880</td>\n",
       "      <td>1.45900</td>\n",
       "      <td>1.33095</td>\n",
       "      <td>0.88521</td>\n",
       "      <td>0.66973</td>\n",
       "      <td>0.36503</td>\n",
       "      <td>0.34699</td>\n",
       "      <td>2.46531</td>\n",
       "    </tr>\n",
       "    <tr>\n",
       "      <th>Canada</th>\n",
       "      <td>North America</td>\n",
       "      <td>5</td>\n",
       "      <td>7.427</td>\n",
       "      <td>0.03553</td>\n",
       "      <td>1.32629</td>\n",
       "      <td>1.32261</td>\n",
       "      <td>0.90563</td>\n",
       "      <td>0.63297</td>\n",
       "      <td>0.32957</td>\n",
       "      <td>0.45811</td>\n",
       "      <td>2.45176</td>\n",
       "    </tr>\n",
       "    <tr>\n",
       "      <th>...</th>\n",
       "      <td>...</td>\n",
       "      <td>...</td>\n",
       "      <td>...</td>\n",
       "      <td>...</td>\n",
       "      <td>...</td>\n",
       "      <td>...</td>\n",
       "      <td>...</td>\n",
       "      <td>...</td>\n",
       "      <td>...</td>\n",
       "      <td>...</td>\n",
       "      <td>...</td>\n",
       "    </tr>\n",
       "    <tr>\n",
       "      <th>Rwanda</th>\n",
       "      <td>Sub-Saharan Africa</td>\n",
       "      <td>154</td>\n",
       "      <td>3.465</td>\n",
       "      <td>0.03464</td>\n",
       "      <td>0.22208</td>\n",
       "      <td>0.77370</td>\n",
       "      <td>0.42864</td>\n",
       "      <td>0.59201</td>\n",
       "      <td>0.55191</td>\n",
       "      <td>0.22628</td>\n",
       "      <td>0.67042</td>\n",
       "    </tr>\n",
       "    <tr>\n",
       "      <th>Benin</th>\n",
       "      <td>Sub-Saharan Africa</td>\n",
       "      <td>155</td>\n",
       "      <td>3.340</td>\n",
       "      <td>0.03656</td>\n",
       "      <td>0.28665</td>\n",
       "      <td>0.35386</td>\n",
       "      <td>0.31910</td>\n",
       "      <td>0.48450</td>\n",
       "      <td>0.08010</td>\n",
       "      <td>0.18260</td>\n",
       "      <td>1.63328</td>\n",
       "    </tr>\n",
       "    <tr>\n",
       "      <th>Syria</th>\n",
       "      <td>Middle East and Northern Africa</td>\n",
       "      <td>156</td>\n",
       "      <td>3.006</td>\n",
       "      <td>0.05015</td>\n",
       "      <td>0.66320</td>\n",
       "      <td>0.47489</td>\n",
       "      <td>0.72193</td>\n",
       "      <td>0.15684</td>\n",
       "      <td>0.18906</td>\n",
       "      <td>0.47179</td>\n",
       "      <td>0.32858</td>\n",
       "    </tr>\n",
       "    <tr>\n",
       "      <th>Burundi</th>\n",
       "      <td>Sub-Saharan Africa</td>\n",
       "      <td>157</td>\n",
       "      <td>2.905</td>\n",
       "      <td>0.08658</td>\n",
       "      <td>0.01530</td>\n",
       "      <td>0.41587</td>\n",
       "      <td>0.22396</td>\n",
       "      <td>0.11850</td>\n",
       "      <td>0.10062</td>\n",
       "      <td>0.19727</td>\n",
       "      <td>1.83302</td>\n",
       "    </tr>\n",
       "    <tr>\n",
       "      <th>Togo</th>\n",
       "      <td>Sub-Saharan Africa</td>\n",
       "      <td>158</td>\n",
       "      <td>2.839</td>\n",
       "      <td>0.06727</td>\n",
       "      <td>0.20868</td>\n",
       "      <td>0.13995</td>\n",
       "      <td>0.28443</td>\n",
       "      <td>0.36453</td>\n",
       "      <td>0.10731</td>\n",
       "      <td>0.16681</td>\n",
       "      <td>1.56726</td>\n",
       "    </tr>\n",
       "  </tbody>\n",
       "</table>\n",
       "<p>158 rows × 11 columns</p>\n",
       "</div>"
      ],
      "text/plain": [
       "                                      Region  Happiness Rank  Happiness Score  \\\n",
       "Country                                                                         \n",
       "Switzerland                   Western Europe               1            7.587   \n",
       "Iceland                       Western Europe               2            7.561   \n",
       "Denmark                       Western Europe               3            7.527   \n",
       "Norway                        Western Europe               4            7.522   \n",
       "Canada                         North America               5            7.427   \n",
       "...                                      ...             ...              ...   \n",
       "Rwanda                    Sub-Saharan Africa             154            3.465   \n",
       "Benin                     Sub-Saharan Africa             155            3.340   \n",
       "Syria        Middle East and Northern Africa             156            3.006   \n",
       "Burundi                   Sub-Saharan Africa             157            2.905   \n",
       "Togo                      Sub-Saharan Africa             158            2.839   \n",
       "\n",
       "             Standard Error  Economy (GDP per Capita)   Family  \\\n",
       "Country                                                          \n",
       "Switzerland         0.03411                   1.39651  1.34951   \n",
       "Iceland             0.04884                   1.30232  1.40223   \n",
       "Denmark             0.03328                   1.32548  1.36058   \n",
       "Norway              0.03880                   1.45900  1.33095   \n",
       "Canada              0.03553                   1.32629  1.32261   \n",
       "...                     ...                       ...      ...   \n",
       "Rwanda              0.03464                   0.22208  0.77370   \n",
       "Benin               0.03656                   0.28665  0.35386   \n",
       "Syria               0.05015                   0.66320  0.47489   \n",
       "Burundi             0.08658                   0.01530  0.41587   \n",
       "Togo                0.06727                   0.20868  0.13995   \n",
       "\n",
       "             Health (Life Expectancy)  Freedom  Trust (Government Corruption)  \\\n",
       "Country                                                                         \n",
       "Switzerland                   0.94143  0.66557                        0.41978   \n",
       "Iceland                       0.94784  0.62877                        0.14145   \n",
       "Denmark                       0.87464  0.64938                        0.48357   \n",
       "Norway                        0.88521  0.66973                        0.36503   \n",
       "Canada                        0.90563  0.63297                        0.32957   \n",
       "...                               ...      ...                            ...   \n",
       "Rwanda                        0.42864  0.59201                        0.55191   \n",
       "Benin                         0.31910  0.48450                        0.08010   \n",
       "Syria                         0.72193  0.15684                        0.18906   \n",
       "Burundi                       0.22396  0.11850                        0.10062   \n",
       "Togo                          0.28443  0.36453                        0.10731   \n",
       "\n",
       "             Generosity  Dystopia Residual  \n",
       "Country                                     \n",
       "Switzerland     0.29678            2.51738  \n",
       "Iceland         0.43630            2.70201  \n",
       "Denmark         0.34139            2.49204  \n",
       "Norway          0.34699            2.46531  \n",
       "Canada          0.45811            2.45176  \n",
       "...                 ...                ...  \n",
       "Rwanda          0.22628            0.67042  \n",
       "Benin           0.18260            1.63328  \n",
       "Syria           0.47179            0.32858  \n",
       "Burundi         0.19727            1.83302  \n",
       "Togo            0.16681            1.56726  \n",
       "\n",
       "[158 rows x 11 columns]"
      ]
     },
     "execution_count": 18,
     "metadata": {},
     "output_type": "execute_result"
    }
   ],
   "source": [
    "import pandas as pd\n",
    "\n",
    "df = pd.read_csv(r\"HappinessReport\\2015.csv\", index_col=0)\n",
    "\n",
    "df"
   ]
  },
  {
   "cell_type": "markdown",
   "id": "provincial-earth",
   "metadata": {},
   "source": [
    "### selecting"
   ]
  },
  {
   "cell_type": "code",
   "execution_count": 21,
   "id": "moving-wallpaper",
   "metadata": {},
   "outputs": [
    {
     "data": {
      "text/plain": [
       "Region                           Western Europe\n",
       "Happiness Rank                                2\n",
       "Happiness Score                           7.561\n",
       "Standard Error                          0.04884\n",
       "Economy (GDP per Capita)                1.30232\n",
       "Family                                  1.40223\n",
       "Health (Life Expectancy)                0.94784\n",
       "Freedom                                 0.62877\n",
       "Trust (Government Corruption)           0.14145\n",
       "Generosity                               0.4363\n",
       "Dystopia Residual                       2.70201\n",
       "Name: Iceland, dtype: object"
      ]
     },
     "execution_count": 21,
     "metadata": {},
     "output_type": "execute_result"
    }
   ],
   "source": [
    "# selecting by row\n",
    "df.loc['Switzerland']  # by label\n",
    "df.iloc[1]             # by position"
   ]
  },
  {
   "cell_type": "code",
   "execution_count": 25,
   "id": "ideal-register",
   "metadata": {
    "tags": []
   },
   "outputs": [
    {
     "data": {
      "text/html": [
       "<div>\n",
       "<style scoped>\n",
       "    .dataframe tbody tr th:only-of-type {\n",
       "        vertical-align: middle;\n",
       "    }\n",
       "\n",
       "    .dataframe tbody tr th {\n",
       "        vertical-align: top;\n",
       "    }\n",
       "\n",
       "    .dataframe thead th {\n",
       "        text-align: right;\n",
       "    }\n",
       "</style>\n",
       "<table border=\"1\" class=\"dataframe\">\n",
       "  <thead>\n",
       "    <tr style=\"text-align: right;\">\n",
       "      <th></th>\n",
       "      <th>Region</th>\n",
       "      <th>Family</th>\n",
       "    </tr>\n",
       "    <tr>\n",
       "      <th>Country</th>\n",
       "      <th></th>\n",
       "      <th></th>\n",
       "    </tr>\n",
       "  </thead>\n",
       "  <tbody>\n",
       "    <tr>\n",
       "      <th>Switzerland</th>\n",
       "      <td>Western Europe</td>\n",
       "      <td>1.34951</td>\n",
       "    </tr>\n",
       "    <tr>\n",
       "      <th>Iceland</th>\n",
       "      <td>Western Europe</td>\n",
       "      <td>1.40223</td>\n",
       "    </tr>\n",
       "    <tr>\n",
       "      <th>Denmark</th>\n",
       "      <td>Western Europe</td>\n",
       "      <td>1.36058</td>\n",
       "    </tr>\n",
       "    <tr>\n",
       "      <th>Norway</th>\n",
       "      <td>Western Europe</td>\n",
       "      <td>1.33095</td>\n",
       "    </tr>\n",
       "    <tr>\n",
       "      <th>Canada</th>\n",
       "      <td>North America</td>\n",
       "      <td>1.32261</td>\n",
       "    </tr>\n",
       "    <tr>\n",
       "      <th>...</th>\n",
       "      <td>...</td>\n",
       "      <td>...</td>\n",
       "    </tr>\n",
       "    <tr>\n",
       "      <th>Rwanda</th>\n",
       "      <td>Sub-Saharan Africa</td>\n",
       "      <td>0.77370</td>\n",
       "    </tr>\n",
       "    <tr>\n",
       "      <th>Benin</th>\n",
       "      <td>Sub-Saharan Africa</td>\n",
       "      <td>0.35386</td>\n",
       "    </tr>\n",
       "    <tr>\n",
       "      <th>Syria</th>\n",
       "      <td>Middle East and Northern Africa</td>\n",
       "      <td>0.47489</td>\n",
       "    </tr>\n",
       "    <tr>\n",
       "      <th>Burundi</th>\n",
       "      <td>Sub-Saharan Africa</td>\n",
       "      <td>0.41587</td>\n",
       "    </tr>\n",
       "    <tr>\n",
       "      <th>Togo</th>\n",
       "      <td>Sub-Saharan Africa</td>\n",
       "      <td>0.13995</td>\n",
       "    </tr>\n",
       "  </tbody>\n",
       "</table>\n",
       "<p>158 rows × 2 columns</p>\n",
       "</div>"
      ],
      "text/plain": [
       "                                      Region   Family\n",
       "Country                                              \n",
       "Switzerland                   Western Europe  1.34951\n",
       "Iceland                       Western Europe  1.40223\n",
       "Denmark                       Western Europe  1.36058\n",
       "Norway                        Western Europe  1.33095\n",
       "Canada                         North America  1.32261\n",
       "...                                      ...      ...\n",
       "Rwanda                    Sub-Saharan Africa  0.77370\n",
       "Benin                     Sub-Saharan Africa  0.35386\n",
       "Syria        Middle East and Northern Africa  0.47489\n",
       "Burundi                   Sub-Saharan Africa  0.41587\n",
       "Togo                      Sub-Saharan Africa  0.13995\n",
       "\n",
       "[158 rows x 2 columns]"
      ]
     },
     "execution_count": 25,
     "metadata": {},
     "output_type": "execute_result"
    }
   ],
   "source": [
    "# select by column(s)\n",
    "df['Region']              # returns a single column (Series)\n",
    "df.loc[:, 'Region']       # equivalent longer form\n",
    "\n",
    "df[['Region']]            # returns a table (DataFrame) with one column \n",
    "df[['Region', 'Family']]  # returns a table (DataFrame) with 2 columns"
   ]
  },
  {
   "cell_type": "code",
   "execution_count": 5,
   "id": "cardiac-choice",
   "metadata": {},
   "outputs": [
    {
     "data": {
      "text/plain": [
       "'Western Europe'"
      ]
     },
     "execution_count": 5,
     "metadata": {},
     "output_type": "execute_result"
    }
   ],
   "source": [
    "# select by both row and column\n",
    "df.loc['Switzerland', 'Region'] "
   ]
  },
  {
   "cell_type": "code",
   "execution_count": 34,
   "id": "communist-nicholas",
   "metadata": {},
   "outputs": [
    {
     "data": {
      "text/html": [
       "<div>\n",
       "<style scoped>\n",
       "    .dataframe tbody tr th:only-of-type {\n",
       "        vertical-align: middle;\n",
       "    }\n",
       "\n",
       "    .dataframe tbody tr th {\n",
       "        vertical-align: top;\n",
       "    }\n",
       "\n",
       "    .dataframe thead th {\n",
       "        text-align: right;\n",
       "    }\n",
       "</style>\n",
       "<table border=\"1\" class=\"dataframe\">\n",
       "  <thead>\n",
       "    <tr style=\"text-align: right;\">\n",
       "      <th></th>\n",
       "      <th>Region</th>\n",
       "      <th>Happiness Rank</th>\n",
       "      <th>Happiness Score</th>\n",
       "      <th>Standard Error</th>\n",
       "      <th>Economy (GDP per Capita)</th>\n",
       "      <th>Family</th>\n",
       "      <th>Health (Life Expectancy)</th>\n",
       "      <th>Freedom</th>\n",
       "      <th>Trust (Government Corruption)</th>\n",
       "      <th>Generosity</th>\n",
       "      <th>Dystopia Residual</th>\n",
       "    </tr>\n",
       "    <tr>\n",
       "      <th>Country</th>\n",
       "      <th></th>\n",
       "      <th></th>\n",
       "      <th></th>\n",
       "      <th></th>\n",
       "      <th></th>\n",
       "      <th></th>\n",
       "      <th></th>\n",
       "      <th></th>\n",
       "      <th></th>\n",
       "      <th></th>\n",
       "      <th></th>\n",
       "    </tr>\n",
       "  </thead>\n",
       "  <tbody>\n",
       "    <tr>\n",
       "      <th>Switzerland</th>\n",
       "      <td>Western Europe</td>\n",
       "      <td>1</td>\n",
       "      <td>7.587</td>\n",
       "      <td>0.03411</td>\n",
       "      <td>1.39651</td>\n",
       "      <td>1.34951</td>\n",
       "      <td>0.94143</td>\n",
       "      <td>0.66557</td>\n",
       "      <td>0.41978</td>\n",
       "      <td>0.29678</td>\n",
       "      <td>2.51738</td>\n",
       "    </tr>\n",
       "    <tr>\n",
       "      <th>Iceland</th>\n",
       "      <td>Western Europe</td>\n",
       "      <td>2</td>\n",
       "      <td>7.561</td>\n",
       "      <td>0.04884</td>\n",
       "      <td>1.30232</td>\n",
       "      <td>1.40223</td>\n",
       "      <td>0.94784</td>\n",
       "      <td>0.62877</td>\n",
       "      <td>0.14145</td>\n",
       "      <td>0.43630</td>\n",
       "      <td>2.70201</td>\n",
       "    </tr>\n",
       "    <tr>\n",
       "      <th>Denmark</th>\n",
       "      <td>Western Europe</td>\n",
       "      <td>3</td>\n",
       "      <td>7.527</td>\n",
       "      <td>0.03328</td>\n",
       "      <td>1.32548</td>\n",
       "      <td>1.36058</td>\n",
       "      <td>0.87464</td>\n",
       "      <td>0.64938</td>\n",
       "      <td>0.48357</td>\n",
       "      <td>0.34139</td>\n",
       "      <td>2.49204</td>\n",
       "    </tr>\n",
       "    <tr>\n",
       "      <th>Norway</th>\n",
       "      <td>Western Europe</td>\n",
       "      <td>4</td>\n",
       "      <td>7.522</td>\n",
       "      <td>0.03880</td>\n",
       "      <td>1.45900</td>\n",
       "      <td>1.33095</td>\n",
       "      <td>0.88521</td>\n",
       "      <td>0.66973</td>\n",
       "      <td>0.36503</td>\n",
       "      <td>0.34699</td>\n",
       "      <td>2.46531</td>\n",
       "    </tr>\n",
       "    <tr>\n",
       "      <th>Canada</th>\n",
       "      <td>North America</td>\n",
       "      <td>5</td>\n",
       "      <td>7.427</td>\n",
       "      <td>0.03553</td>\n",
       "      <td>1.32629</td>\n",
       "      <td>1.32261</td>\n",
       "      <td>0.90563</td>\n",
       "      <td>0.63297</td>\n",
       "      <td>0.32957</td>\n",
       "      <td>0.45811</td>\n",
       "      <td>2.45176</td>\n",
       "    </tr>\n",
       "    <tr>\n",
       "      <th>...</th>\n",
       "      <td>...</td>\n",
       "      <td>...</td>\n",
       "      <td>...</td>\n",
       "      <td>...</td>\n",
       "      <td>...</td>\n",
       "      <td>...</td>\n",
       "      <td>...</td>\n",
       "      <td>...</td>\n",
       "      <td>...</td>\n",
       "      <td>...</td>\n",
       "      <td>...</td>\n",
       "    </tr>\n",
       "    <tr>\n",
       "      <th>Tanzania</th>\n",
       "      <td>Sub-Saharan Africa</td>\n",
       "      <td>146</td>\n",
       "      <td>3.781</td>\n",
       "      <td>0.05061</td>\n",
       "      <td>0.28520</td>\n",
       "      <td>1.00268</td>\n",
       "      <td>0.38215</td>\n",
       "      <td>0.32878</td>\n",
       "      <td>0.05747</td>\n",
       "      <td>0.34377</td>\n",
       "      <td>1.38079</td>\n",
       "    </tr>\n",
       "    <tr>\n",
       "      <th>Chad</th>\n",
       "      <td>Sub-Saharan Africa</td>\n",
       "      <td>149</td>\n",
       "      <td>3.667</td>\n",
       "      <td>0.03830</td>\n",
       "      <td>0.34193</td>\n",
       "      <td>0.76062</td>\n",
       "      <td>0.15010</td>\n",
       "      <td>0.23501</td>\n",
       "      <td>0.05269</td>\n",
       "      <td>0.18386</td>\n",
       "      <td>1.94296</td>\n",
       "    </tr>\n",
       "    <tr>\n",
       "      <th>Benin</th>\n",
       "      <td>Sub-Saharan Africa</td>\n",
       "      <td>155</td>\n",
       "      <td>3.340</td>\n",
       "      <td>0.03656</td>\n",
       "      <td>0.28665</td>\n",
       "      <td>0.35386</td>\n",
       "      <td>0.31910</td>\n",
       "      <td>0.48450</td>\n",
       "      <td>0.08010</td>\n",
       "      <td>0.18260</td>\n",
       "      <td>1.63328</td>\n",
       "    </tr>\n",
       "    <tr>\n",
       "      <th>Burundi</th>\n",
       "      <td>Sub-Saharan Africa</td>\n",
       "      <td>157</td>\n",
       "      <td>2.905</td>\n",
       "      <td>0.08658</td>\n",
       "      <td>0.01530</td>\n",
       "      <td>0.41587</td>\n",
       "      <td>0.22396</td>\n",
       "      <td>0.11850</td>\n",
       "      <td>0.10062</td>\n",
       "      <td>0.19727</td>\n",
       "      <td>1.83302</td>\n",
       "    </tr>\n",
       "    <tr>\n",
       "      <th>Togo</th>\n",
       "      <td>Sub-Saharan Africa</td>\n",
       "      <td>158</td>\n",
       "      <td>2.839</td>\n",
       "      <td>0.06727</td>\n",
       "      <td>0.20868</td>\n",
       "      <td>0.13995</td>\n",
       "      <td>0.28443</td>\n",
       "      <td>0.36453</td>\n",
       "      <td>0.10731</td>\n",
       "      <td>0.16681</td>\n",
       "      <td>1.56726</td>\n",
       "    </tr>\n",
       "  </tbody>\n",
       "</table>\n",
       "<p>122 rows × 11 columns</p>\n",
       "</div>"
      ],
      "text/plain": [
       "                         Region  Happiness Rank  Happiness Score  \\\n",
       "Country                                                            \n",
       "Switzerland      Western Europe               1            7.587   \n",
       "Iceland          Western Europe               2            7.561   \n",
       "Denmark          Western Europe               3            7.527   \n",
       "Norway           Western Europe               4            7.522   \n",
       "Canada            North America               5            7.427   \n",
       "...                         ...             ...              ...   \n",
       "Tanzania     Sub-Saharan Africa             146            3.781   \n",
       "Chad         Sub-Saharan Africa             149            3.667   \n",
       "Benin        Sub-Saharan Africa             155            3.340   \n",
       "Burundi      Sub-Saharan Africa             157            2.905   \n",
       "Togo         Sub-Saharan Africa             158            2.839   \n",
       "\n",
       "             Standard Error  Economy (GDP per Capita)   Family  \\\n",
       "Country                                                          \n",
       "Switzerland         0.03411                   1.39651  1.34951   \n",
       "Iceland             0.04884                   1.30232  1.40223   \n",
       "Denmark             0.03328                   1.32548  1.36058   \n",
       "Norway              0.03880                   1.45900  1.33095   \n",
       "Canada              0.03553                   1.32629  1.32261   \n",
       "...                     ...                       ...      ...   \n",
       "Tanzania            0.05061                   0.28520  1.00268   \n",
       "Chad                0.03830                   0.34193  0.76062   \n",
       "Benin               0.03656                   0.28665  0.35386   \n",
       "Burundi             0.08658                   0.01530  0.41587   \n",
       "Togo                0.06727                   0.20868  0.13995   \n",
       "\n",
       "             Health (Life Expectancy)  Freedom  Trust (Government Corruption)  \\\n",
       "Country                                                                         \n",
       "Switzerland                   0.94143  0.66557                        0.41978   \n",
       "Iceland                       0.94784  0.62877                        0.14145   \n",
       "Denmark                       0.87464  0.64938                        0.48357   \n",
       "Norway                        0.88521  0.66973                        0.36503   \n",
       "Canada                        0.90563  0.63297                        0.32957   \n",
       "...                               ...      ...                            ...   \n",
       "Tanzania                      0.38215  0.32878                        0.05747   \n",
       "Chad                          0.15010  0.23501                        0.05269   \n",
       "Benin                         0.31910  0.48450                        0.08010   \n",
       "Burundi                       0.22396  0.11850                        0.10062   \n",
       "Togo                          0.28443  0.36453                        0.10731   \n",
       "\n",
       "             Generosity  Dystopia Residual  \n",
       "Country                                     \n",
       "Switzerland     0.29678            2.51738  \n",
       "Iceland         0.43630            2.70201  \n",
       "Denmark         0.34139            2.49204  \n",
       "Norway          0.34699            2.46531  \n",
       "Canada          0.45811            2.45176  \n",
       "...                 ...                ...  \n",
       "Tanzania        0.34377            1.38079  \n",
       "Chad            0.18386            1.94296  \n",
       "Benin           0.18260            1.63328  \n",
       "Burundi         0.19727            1.83302  \n",
       "Togo            0.16681            1.56726  \n",
       "\n",
       "[122 rows x 11 columns]"
      ]
     },
     "execution_count": 34,
     "metadata": {},
     "output_type": "execute_result"
    }
   ],
   "source": [
    "# select by condition\n",
    "# to combine, use `&` (and), `|` (or), `~` (not)\n",
    "\n",
    "mask = (df['Generosity'] < 0.2) | (df['Family'] > 1)\n",
    "\n",
    "df[mask]"
   ]
  },
  {
   "cell_type": "markdown",
   "id": "altered-electric",
   "metadata": {},
   "source": [
    "### sorting"
   ]
  },
  {
   "cell_type": "code",
   "execution_count": 38,
   "id": "banner-cheat",
   "metadata": {},
   "outputs": [
    {
     "data": {
      "text/html": [
       "<div>\n",
       "<style scoped>\n",
       "    .dataframe tbody tr th:only-of-type {\n",
       "        vertical-align: middle;\n",
       "    }\n",
       "\n",
       "    .dataframe tbody tr th {\n",
       "        vertical-align: top;\n",
       "    }\n",
       "\n",
       "    .dataframe thead th {\n",
       "        text-align: right;\n",
       "    }\n",
       "</style>\n",
       "<table border=\"1\" class=\"dataframe\">\n",
       "  <thead>\n",
       "    <tr style=\"text-align: right;\">\n",
       "      <th></th>\n",
       "      <th>Region</th>\n",
       "      <th>Happiness Rank</th>\n",
       "      <th>Happiness Score</th>\n",
       "      <th>Standard Error</th>\n",
       "      <th>Economy (GDP per Capita)</th>\n",
       "      <th>Family</th>\n",
       "      <th>Health (Life Expectancy)</th>\n",
       "      <th>Freedom</th>\n",
       "      <th>Trust (Government Corruption)</th>\n",
       "      <th>Generosity</th>\n",
       "      <th>Dystopia Residual</th>\n",
       "    </tr>\n",
       "    <tr>\n",
       "      <th>Country</th>\n",
       "      <th></th>\n",
       "      <th></th>\n",
       "      <th></th>\n",
       "      <th></th>\n",
       "      <th></th>\n",
       "      <th></th>\n",
       "      <th></th>\n",
       "      <th></th>\n",
       "      <th></th>\n",
       "      <th></th>\n",
       "      <th></th>\n",
       "    </tr>\n",
       "  </thead>\n",
       "  <tbody>\n",
       "    <tr>\n",
       "      <th>Norway</th>\n",
       "      <td>Western Europe</td>\n",
       "      <td>4</td>\n",
       "      <td>7.522</td>\n",
       "      <td>0.03880</td>\n",
       "      <td>1.45900</td>\n",
       "      <td>1.33095</td>\n",
       "      <td>0.88521</td>\n",
       "      <td>0.66973</td>\n",
       "      <td>0.36503</td>\n",
       "      <td>0.34699</td>\n",
       "      <td>2.46531</td>\n",
       "    </tr>\n",
       "    <tr>\n",
       "      <th>Switzerland</th>\n",
       "      <td>Western Europe</td>\n",
       "      <td>1</td>\n",
       "      <td>7.587</td>\n",
       "      <td>0.03411</td>\n",
       "      <td>1.39651</td>\n",
       "      <td>1.34951</td>\n",
       "      <td>0.94143</td>\n",
       "      <td>0.66557</td>\n",
       "      <td>0.41978</td>\n",
       "      <td>0.29678</td>\n",
       "      <td>2.51738</td>\n",
       "    </tr>\n",
       "    <tr>\n",
       "      <th>Cambodia</th>\n",
       "      <td>Southeastern Asia</td>\n",
       "      <td>145</td>\n",
       "      <td>3.819</td>\n",
       "      <td>0.05069</td>\n",
       "      <td>0.46038</td>\n",
       "      <td>0.62736</td>\n",
       "      <td>0.61114</td>\n",
       "      <td>0.66246</td>\n",
       "      <td>0.07247</td>\n",
       "      <td>0.40359</td>\n",
       "      <td>0.98195</td>\n",
       "    </tr>\n",
       "    <tr>\n",
       "      <th>Sweden</th>\n",
       "      <td>Western Europe</td>\n",
       "      <td>8</td>\n",
       "      <td>7.364</td>\n",
       "      <td>0.03157</td>\n",
       "      <td>1.33171</td>\n",
       "      <td>1.28907</td>\n",
       "      <td>0.91087</td>\n",
       "      <td>0.65980</td>\n",
       "      <td>0.43844</td>\n",
       "      <td>0.36262</td>\n",
       "      <td>2.37119</td>\n",
       "    </tr>\n",
       "    <tr>\n",
       "      <th>Uzbekistan</th>\n",
       "      <td>Central and Eastern Europe</td>\n",
       "      <td>44</td>\n",
       "      <td>6.003</td>\n",
       "      <td>0.04361</td>\n",
       "      <td>0.63244</td>\n",
       "      <td>1.34043</td>\n",
       "      <td>0.59772</td>\n",
       "      <td>0.65821</td>\n",
       "      <td>0.30826</td>\n",
       "      <td>0.22837</td>\n",
       "      <td>2.23741</td>\n",
       "    </tr>\n",
       "    <tr>\n",
       "      <th>...</th>\n",
       "      <td>...</td>\n",
       "      <td>...</td>\n",
       "      <td>...</td>\n",
       "      <td>...</td>\n",
       "      <td>...</td>\n",
       "      <td>...</td>\n",
       "      <td>...</td>\n",
       "      <td>...</td>\n",
       "      <td>...</td>\n",
       "      <td>...</td>\n",
       "      <td>...</td>\n",
       "    </tr>\n",
       "    <tr>\n",
       "      <th>Angola</th>\n",
       "      <td>Sub-Saharan Africa</td>\n",
       "      <td>137</td>\n",
       "      <td>4.033</td>\n",
       "      <td>0.04758</td>\n",
       "      <td>0.75778</td>\n",
       "      <td>0.86040</td>\n",
       "      <td>0.16683</td>\n",
       "      <td>0.10384</td>\n",
       "      <td>0.07122</td>\n",
       "      <td>0.12344</td>\n",
       "      <td>1.94939</td>\n",
       "    </tr>\n",
       "    <tr>\n",
       "      <th>Sudan</th>\n",
       "      <td>Sub-Saharan Africa</td>\n",
       "      <td>118</td>\n",
       "      <td>4.550</td>\n",
       "      <td>0.06740</td>\n",
       "      <td>0.52107</td>\n",
       "      <td>1.01404</td>\n",
       "      <td>0.36878</td>\n",
       "      <td>0.10081</td>\n",
       "      <td>0.14660</td>\n",
       "      <td>0.19062</td>\n",
       "      <td>2.20857</td>\n",
       "    </tr>\n",
       "    <tr>\n",
       "      <th>Bosnia and Herzegovina</th>\n",
       "      <td>Central and Eastern Europe</td>\n",
       "      <td>96</td>\n",
       "      <td>4.949</td>\n",
       "      <td>0.06913</td>\n",
       "      <td>0.83223</td>\n",
       "      <td>0.91916</td>\n",
       "      <td>0.79081</td>\n",
       "      <td>0.09245</td>\n",
       "      <td>0.00227</td>\n",
       "      <td>0.24808</td>\n",
       "      <td>2.06367</td>\n",
       "    </tr>\n",
       "    <tr>\n",
       "      <th>Greece</th>\n",
       "      <td>Western Europe</td>\n",
       "      <td>102</td>\n",
       "      <td>4.857</td>\n",
       "      <td>0.05062</td>\n",
       "      <td>1.15406</td>\n",
       "      <td>0.92933</td>\n",
       "      <td>0.88213</td>\n",
       "      <td>0.07699</td>\n",
       "      <td>0.01397</td>\n",
       "      <td>0.00000</td>\n",
       "      <td>1.80101</td>\n",
       "    </tr>\n",
       "    <tr>\n",
       "      <th>Iraq</th>\n",
       "      <td>Middle East and Northern Africa</td>\n",
       "      <td>112</td>\n",
       "      <td>4.677</td>\n",
       "      <td>0.05232</td>\n",
       "      <td>0.98549</td>\n",
       "      <td>0.81889</td>\n",
       "      <td>0.60237</td>\n",
       "      <td>0.00000</td>\n",
       "      <td>0.13788</td>\n",
       "      <td>0.17922</td>\n",
       "      <td>1.95335</td>\n",
       "    </tr>\n",
       "  </tbody>\n",
       "</table>\n",
       "<p>158 rows × 11 columns</p>\n",
       "</div>"
      ],
      "text/plain": [
       "                                                 Region  Happiness Rank  \\\n",
       "Country                                                                   \n",
       "Norway                                   Western Europe               4   \n",
       "Switzerland                              Western Europe               1   \n",
       "Cambodia                              Southeastern Asia             145   \n",
       "Sweden                                   Western Europe               8   \n",
       "Uzbekistan                   Central and Eastern Europe              44   \n",
       "...                                                 ...             ...   \n",
       "Angola                               Sub-Saharan Africa             137   \n",
       "Sudan                                Sub-Saharan Africa             118   \n",
       "Bosnia and Herzegovina       Central and Eastern Europe              96   \n",
       "Greece                                   Western Europe             102   \n",
       "Iraq                    Middle East and Northern Africa             112   \n",
       "\n",
       "                        Happiness Score  Standard Error  \\\n",
       "Country                                                   \n",
       "Norway                            7.522         0.03880   \n",
       "Switzerland                       7.587         0.03411   \n",
       "Cambodia                          3.819         0.05069   \n",
       "Sweden                            7.364         0.03157   \n",
       "Uzbekistan                        6.003         0.04361   \n",
       "...                                 ...             ...   \n",
       "Angola                            4.033         0.04758   \n",
       "Sudan                             4.550         0.06740   \n",
       "Bosnia and Herzegovina            4.949         0.06913   \n",
       "Greece                            4.857         0.05062   \n",
       "Iraq                              4.677         0.05232   \n",
       "\n",
       "                        Economy (GDP per Capita)   Family  \\\n",
       "Country                                                     \n",
       "Norway                                   1.45900  1.33095   \n",
       "Switzerland                              1.39651  1.34951   \n",
       "Cambodia                                 0.46038  0.62736   \n",
       "Sweden                                   1.33171  1.28907   \n",
       "Uzbekistan                               0.63244  1.34043   \n",
       "...                                          ...      ...   \n",
       "Angola                                   0.75778  0.86040   \n",
       "Sudan                                    0.52107  1.01404   \n",
       "Bosnia and Herzegovina                   0.83223  0.91916   \n",
       "Greece                                   1.15406  0.92933   \n",
       "Iraq                                     0.98549  0.81889   \n",
       "\n",
       "                        Health (Life Expectancy)  Freedom  \\\n",
       "Country                                                     \n",
       "Norway                                   0.88521  0.66973   \n",
       "Switzerland                              0.94143  0.66557   \n",
       "Cambodia                                 0.61114  0.66246   \n",
       "Sweden                                   0.91087  0.65980   \n",
       "Uzbekistan                               0.59772  0.65821   \n",
       "...                                          ...      ...   \n",
       "Angola                                   0.16683  0.10384   \n",
       "Sudan                                    0.36878  0.10081   \n",
       "Bosnia and Herzegovina                   0.79081  0.09245   \n",
       "Greece                                   0.88213  0.07699   \n",
       "Iraq                                     0.60237  0.00000   \n",
       "\n",
       "                        Trust (Government Corruption)  Generosity  \\\n",
       "Country                                                             \n",
       "Norway                                        0.36503     0.34699   \n",
       "Switzerland                                   0.41978     0.29678   \n",
       "Cambodia                                      0.07247     0.40359   \n",
       "Sweden                                        0.43844     0.36262   \n",
       "Uzbekistan                                    0.30826     0.22837   \n",
       "...                                               ...         ...   \n",
       "Angola                                        0.07122     0.12344   \n",
       "Sudan                                         0.14660     0.19062   \n",
       "Bosnia and Herzegovina                        0.00227     0.24808   \n",
       "Greece                                        0.01397     0.00000   \n",
       "Iraq                                          0.13788     0.17922   \n",
       "\n",
       "                        Dystopia Residual  \n",
       "Country                                    \n",
       "Norway                            2.46531  \n",
       "Switzerland                       2.51738  \n",
       "Cambodia                          0.98195  \n",
       "Sweden                            2.37119  \n",
       "Uzbekistan                        2.23741  \n",
       "...                                   ...  \n",
       "Angola                            1.94939  \n",
       "Sudan                             2.20857  \n",
       "Bosnia and Herzegovina            2.06367  \n",
       "Greece                            1.80101  \n",
       "Iraq                              1.95335  \n",
       "\n",
       "[158 rows x 11 columns]"
      ]
     },
     "execution_count": 38,
     "metadata": {},
     "output_type": "execute_result"
    }
   ],
   "source": [
    "df.sort_index()                             # sort by index (Country)\n",
    "df.sort_values('Freedom')                   # sort by specific column\n",
    "df.sort_values('Freedom', ascending=False)  # sort by specific column but in reverse order"
   ]
  },
  {
   "cell_type": "code",
   "execution_count": 48,
   "id": "forty-links",
   "metadata": {},
   "outputs": [
    {
     "name": "stdout",
     "output_type": "stream",
     "text": [
      "Australia and New Zealand\n"
     ]
    },
    {
     "data": {
      "text/html": [
       "<div>\n",
       "<style scoped>\n",
       "    .dataframe tbody tr th:only-of-type {\n",
       "        vertical-align: middle;\n",
       "    }\n",
       "\n",
       "    .dataframe tbody tr th {\n",
       "        vertical-align: top;\n",
       "    }\n",
       "\n",
       "    .dataframe thead th {\n",
       "        text-align: right;\n",
       "    }\n",
       "</style>\n",
       "<table border=\"1\" class=\"dataframe\">\n",
       "  <thead>\n",
       "    <tr style=\"text-align: right;\">\n",
       "      <th></th>\n",
       "      <th>Region</th>\n",
       "      <th>Happiness Rank</th>\n",
       "      <th>Happiness Score</th>\n",
       "      <th>Standard Error</th>\n",
       "      <th>Economy (GDP per Capita)</th>\n",
       "      <th>Family</th>\n",
       "      <th>Health (Life Expectancy)</th>\n",
       "      <th>Freedom</th>\n",
       "      <th>Trust (Government Corruption)</th>\n",
       "      <th>Generosity</th>\n",
       "      <th>Dystopia Residual</th>\n",
       "    </tr>\n",
       "    <tr>\n",
       "      <th>Country</th>\n",
       "      <th></th>\n",
       "      <th></th>\n",
       "      <th></th>\n",
       "      <th></th>\n",
       "      <th></th>\n",
       "      <th></th>\n",
       "      <th></th>\n",
       "      <th></th>\n",
       "      <th></th>\n",
       "      <th></th>\n",
       "      <th></th>\n",
       "    </tr>\n",
       "  </thead>\n",
       "  <tbody>\n",
       "    <tr>\n",
       "      <th>New Zealand</th>\n",
       "      <td>Australia and New Zealand</td>\n",
       "      <td>9</td>\n",
       "      <td>7.286</td>\n",
       "      <td>0.03371</td>\n",
       "      <td>1.25018</td>\n",
       "      <td>1.31967</td>\n",
       "      <td>0.90837</td>\n",
       "      <td>0.63938</td>\n",
       "      <td>0.42922</td>\n",
       "      <td>0.47501</td>\n",
       "      <td>2.26425</td>\n",
       "    </tr>\n",
       "    <tr>\n",
       "      <th>Australia</th>\n",
       "      <td>Australia and New Zealand</td>\n",
       "      <td>10</td>\n",
       "      <td>7.284</td>\n",
       "      <td>0.04083</td>\n",
       "      <td>1.33358</td>\n",
       "      <td>1.30923</td>\n",
       "      <td>0.93156</td>\n",
       "      <td>0.65124</td>\n",
       "      <td>0.35637</td>\n",
       "      <td>0.43562</td>\n",
       "      <td>2.26646</td>\n",
       "    </tr>\n",
       "  </tbody>\n",
       "</table>\n",
       "</div>"
      ],
      "text/plain": [
       "                                Region  Happiness Rank  Happiness Score  \\\n",
       "Country                                                                   \n",
       "New Zealand  Australia and New Zealand               9            7.286   \n",
       "Australia    Australia and New Zealand              10            7.284   \n",
       "\n",
       "             Standard Error  Economy (GDP per Capita)   Family  \\\n",
       "Country                                                          \n",
       "New Zealand         0.03371                   1.25018  1.31967   \n",
       "Australia           0.04083                   1.33358  1.30923   \n",
       "\n",
       "             Health (Life Expectancy)  Freedom  Trust (Government Corruption)  \\\n",
       "Country                                                                         \n",
       "New Zealand                   0.90837  0.63938                        0.42922   \n",
       "Australia                     0.93156  0.65124                        0.35637   \n",
       "\n",
       "             Generosity  Dystopia Residual  \n",
       "Country                                     \n",
       "New Zealand     0.47501            2.26425  \n",
       "Australia       0.43562            2.26646  "
      ]
     },
     "metadata": {},
     "output_type": "display_data"
    }
   ],
   "source": [
    "# group by\n",
    "for region, sub_df in df.groupby(\"Region\"):\n",
    "    break\n",
    "\n",
    "print(region)\n",
    "display(sub_df)\n",
    "\n",
    "#[\"Happiness Score\"].mean().sort_index()"
   ]
  },
  {
   "cell_type": "code",
   "execution_count": 52,
   "id": "cb6346e8-7c2e-42fb-b6e0-7ac1d2904f2c",
   "metadata": {},
   "outputs": [
    {
     "name": "stdout",
     "output_type": "stream",
     "text": [
      "Australia and New Zealand\n"
     ]
    },
    {
     "data": {
      "text/plain": [
       "Country\n",
       "New Zealand    7.286\n",
       "Australia      7.284\n",
       "Name: Happiness Score, dtype: float64"
      ]
     },
     "metadata": {},
     "output_type": "display_data"
    }
   ],
   "source": [
    "for region, sub_df in df.groupby(\"Region\")[\"Happiness Score\"]:\n",
    "    break\n",
    "    \n",
    "print(region)\n",
    "display(sub_df)"
   ]
  },
  {
   "cell_type": "code",
   "execution_count": 62,
   "id": "4c650277-ea0b-4f9d-9b69-e5b882d84f4b",
   "metadata": {},
   "outputs": [
    {
     "data": {
      "text/plain": [
       "Region\n",
       "Australia and New Zealand          7.285000\n",
       "North America                      7.273000\n",
       "Western Europe                     6.689619\n",
       "Latin America and Caribbean        6.144682\n",
       "Eastern Asia                       5.626167\n",
       "Middle East and Northern Africa    5.406900\n",
       "Central and Eastern Europe         5.332931\n",
       "Southeastern Asia                  5.317444\n",
       "Southern Asia                      4.580857\n",
       "Sub-Saharan Africa                 4.202800\n",
       "Name: Happiness Score, dtype: float64"
      ]
     },
     "execution_count": 62,
     "metadata": {},
     "output_type": "execute_result"
    }
   ],
   "source": [
    "df.groupby(\"Region\")[\"Happiness Score\"].mean().sort_values(ascending=False)"
   ]
  },
  {
   "cell_type": "markdown",
   "id": "fuzzy-combine",
   "metadata": {},
   "source": [
    "# Plotting\n",
    "Below are just some examples.\n",
    "If interested, I suggest you look at the well written official documentation: https://pandas.pydata.org/docs/user_guide/visualization.html"
   ]
  },
  {
   "cell_type": "markdown",
   "id": "chubby-rebound",
   "metadata": {},
   "source": [
    "pandas Series (individual column objects) and pandas Dataframes (data tables) had `.plot` method that allows quick and efficient plotting of data.\n",
    "By default, calling `.plot()` is going to call `.plot.line()`, but there are [many other types of plots](https://pandas.pydata.org/docs/user_guide/visualization.html) supported."
   ]
  },
  {
   "cell_type": "code",
   "execution_count": 65,
   "id": "primary-equilibrium",
   "metadata": {},
   "outputs": [
    {
     "data": {
      "text/plain": [
       "<AxesSubplot:>"
      ]
     },
     "execution_count": 65,
     "metadata": {},
     "output_type": "execute_result"
    },
    {
     "data": {
      "image/png": "[encoded data removed]",
      "text/plain": [
       "<Figure size 432x288 with 1 Axes>"
      ]
     },
     "metadata": {
      "needs_background": "light"
     },
     "output_type": "display_data"
    }
   ],
   "source": [
    "pd.Series({\n",
    "    \"hi\": 5,\n",
    "    \"how\": 12,\n",
    "    \"are\": 0,\n",
    "    \"you\": 10\n",
    "}).plot.bar(grid=True)  # same as `.plot.line()`"
   ]
  },
  {
   "cell_type": "markdown",
   "id": "understanding-packing",
   "metadata": {},
   "source": [
    "## plotting relationships"
   ]
  },
  {
   "cell_type": "code",
   "execution_count": 66,
   "id": "imported-brick",
   "metadata": {},
   "outputs": [
    {
     "data": {
      "text/plain": [
       "<AxesSubplot:xlabel='Economy (GDP per Capita)', ylabel='Generosity'>"
      ]
     },
     "execution_count": 66,
     "metadata": {},
     "output_type": "execute_result"
    },
    {
     "data": {
      "image/png": "[encoded data removed]",
      "text/plain": [
       "<Figure size 432x288 with 1 Axes>"
      ]
     },
     "metadata": {
      "needs_background": "light"
     },
     "output_type": "display_data"
    }
   ],
   "source": [
    "df.plot.scatter(                     # creating a scatterplot of\n",
    "    x='Economy (GDP per Capita)',    # using \"GDP/capita\" on the horizontal axis\n",
    "    y='Generosity',                  # using \"Generosity\" on the vertical axis \n",
    ")"
   ]
  },
  {
   "cell_type": "code",
   "execution_count": 72,
   "id": "dated-pierre",
   "metadata": {},
   "outputs": [
    {
     "data": {
      "text/plain": [
       "<AxesSubplot:xlabel='Economy (GDP per Capita)', ylabel='Health (Life Expectancy)'>"
      ]
     },
     "execution_count": 72,
     "metadata": {},
     "output_type": "execute_result"
    },
    {
     "data": {
      "image/png": "[encoded data removed]",
      "text/plain": [
       "<Figure size 432x288 with 2 Axes>"
      ]
     },
     "metadata": {
      "needs_background": "light"
     },
     "output_type": "display_data"
    }
   ],
   "source": [
    "import matplotlib.pyplot as plt\n",
    "fig, ax = plt.subplots()\n",
    "\n",
    "df.plot.scatter(                     # creating a scatterplot of\n",
    "    x='Economy (GDP per Capita)',    # using \"GDP/capita\" on the horizontal axis\n",
    "    y='Health (Life Expectancy)',                  # using \"Generosity\" on the vertical axis \n",
    "    c='Generosity',    # color it by \"Health (Life Expectancy)\"\n",
    "    cmap='rainbow',                  # using a rainbow color spectrum\n",
    "    grid=True,                       # plotting the grid underneath\n",
    "    ax=ax,                           # use the previously defined axis (otherwise the x-axis label will not show, known bug)\n",
    ")"
   ]
  },
  {
   "cell_type": "markdown",
   "id": "military-location",
   "metadata": {},
   "source": [
    "### Group Bar Plot"
   ]
  },
  {
   "cell_type": "code",
   "execution_count": 80,
   "id": "personal-quarterly",
   "metadata": {},
   "outputs": [
    {
     "data": {
      "image/png": "[encoded data removed]",
      "text/plain": [
       "<Figure size 432x288 with 1 Axes>"
      ]
     },
     "metadata": {
      "needs_background": "light"
     },
     "output_type": "display_data"
    }
   ],
   "source": [
    "# grouping by region, taking the average ...\n",
    "regional_means = df.groupby(\"Region\").mean()\n",
    "\n",
    "# ... and plotting the Happiness Score as a bar plot\n",
    "ax = regional_means['Happiness Score'].plot.bar()"
   ]
  },
  {
   "cell_type": "markdown",
   "id": "victorian-manufacturer",
   "metadata": {},
   "source": [
    "### saving the figure to file"
   ]
  },
  {
   "cell_type": "code",
   "execution_count": 81,
   "id": "artistic-james",
   "metadata": {},
   "outputs": [],
   "source": [
    "ax.figure.savefig('myplot.jpeg', bbox_inches=\"tight\") # saving the file... without cutting out the lables"
   ]
  },
  {
   "cell_type": "markdown",
   "id": "unnecessary-bishop",
   "metadata": {},
   "source": [
    "# For more..\n",
    "If you find data analysis with pandas interesting and/or useful, I created an open tutorial with exercises along the way that you might find useful:\n",
    "[https://github.com/gabrielecalvo/pandas_tutorial](https://github.com/gabrielecalvo/pandas_tutorial#pandas-tutorial)"
   ]
  },
  {
   "cell_type": "markdown",
   "id": "moderate-harrison",
   "metadata": {},
   "source": [
    "# Exercise\n",
    "Load data from each year and plot the evolution of the `Happiness Score` of your favourite country over the years"
   ]
  },
  {
   "cell_type": "code",
   "execution_count": 106,
   "id": "268a2b5f-9147-41c1-a98c-b024fb3bfa6e",
   "metadata": {},
   "outputs": [],
   "source": [
    "country = \"Mexico\""
   ]
  },
  {
   "cell_type": "code",
   "execution_count": 136,
   "id": "466c5387-36dc-4e1b-930f-ed36ff9e9867",
   "metadata": {},
   "outputs": [],
   "source": [
    "def parse_2015_2016(year):\n",
    "    df = pd.read_csv(rf\"HappinessReport\\{year}.csv\")\n",
    "    return df\n",
    "\n",
    "def parse_2017(year):\n",
    "    df = pd.read_csv(rf\"HappinessReport\\{year}.csv\")\n",
    "    return df.rename(columns={\"Happiness.Score\": \"Happiness Score\"})\n",
    "\n",
    "def parse_2018_2019(year):\n",
    "    df = pd.read_csv(rf\"HappinessReport\\{year}.csv\")\n",
    "    return df.rename(columns={\"Country or region\": \"Country\", \"Score\": \"Happiness Score\"})\n",
    "\n",
    "def parse_year(year):\n",
    "    if year < 2017:\n",
    "        return parse_2015_2016(year)\n",
    "    if year == 2017:\n",
    "        return parse_2017(year)\n",
    "    return parse_2018_2019(year)\n",
    "\n",
    "dfs = []\n",
    "for year in [2015,2016,2017,2018,2019]:\n",
    "    df = parse_year(year).set_index(\"Country\").assign(Year=year)\n",
    "    dfs.append(df)\n",
    "    \n",
    "norm_df = pd.concat(dfs)[[\"Happiness Score\", \"Year\"]]"
   ]
  },
  {
   "cell_type": "code",
   "execution_count": 140,
   "id": "ed8873fe-b885-4d8a-ab55-bae0a0707618",
   "metadata": {},
   "outputs": [],
   "source": [
    "def plot_happiness(country):\n",
    "    norm_df.loc[country].plot.scatter(x=\"Year\", y=\"Happiness Score\")"
   ]
  },
  {
   "cell_type": "code",
   "execution_count": 144,
   "id": "7030ca30-767b-4afc-8614-2c2b50d2ec14",
   "metadata": {},
   "outputs": [
    {
     "data": {
      "text/plain": [
       "Index(['Switzerland', 'Iceland', 'Denmark', 'Norway', 'Canada', 'Finland',\n",
       "       'Netherlands', 'Sweden', 'New Zealand', 'Australia',\n",
       "       ...\n",
       "       'Somalia', 'Somaliland Region', 'Namibia', 'South Sudan',\n",
       "       'Taiwan Province of China', 'Hong Kong S.A.R., China',\n",
       "       'Trinidad & Tobago', 'Northern Cyprus', 'North Macedonia', 'Gambia'],\n",
       "      dtype='object', name='Country', length=170)"
      ]
     },
     "execution_count": 144,
     "metadata": {},
     "output_type": "execute_result"
    }
   ],
   "source": [
    "norm_df.index.unique()"
   ]
  },
  {
   "cell_type": "code",
   "execution_count": 146,
   "id": "4af24814-5f88-423b-9706-f4eed5a0dd32",
   "metadata": {},
   "outputs": [
    {
     "data": {
      "image/png": "[encoded data removed]",
      "text/plain": [
       "<Figure size 432x288 with 1 Axes>"
      ]
     },
     "metadata": {
      "needs_background": "light"
     },
     "output_type": "display_data"
    }
   ],
   "source": [
    "plot_happiness(\"Finland\")"
   ]
  },
  {
   "cell_type": "markdown",
   "id": "sealed-requirement",
   "metadata": {},
   "source": [
    "### possible solution"
   ]
  },
  {
   "cell_type": "code",
   "execution_count": 148,
   "id": "designing-federation",
   "metadata": {
    "tags": []
   },
   "outputs": [
    {
     "data": {
      "text/plain": [
       "<AxesSubplot:title={'center':'Happiness Score'}>"
      ]
     },
     "execution_count": 148,
     "metadata": {},
     "output_type": "execute_result"
    },
    {
     "data": {
      "image/png": "[encoded data removed]",
      "text/plain": [
       "<Figure size 432x288 with 1 Axes>"
      ]
     },
     "metadata": {
      "needs_background": "light"
     },
     "output_type": "display_data"
    }
   ],
   "source": [
    "my_country = \"Italy\"\n",
    "\n",
    "pd.Series({\n",
    "    \"2015\": pd.read_csv('HappinessReport/2015.csv', index_col=0).loc[my_country, 'Happiness Score'],\n",
    "    \"2016\": pd.read_csv('HappinessReport/2016.csv', index_col=0).loc[my_country, 'Happiness Score'],\n",
    "    \"2017\": pd.read_csv('HappinessReport/2017.csv', index_col=0).loc[my_country, 'Happiness.Score'],\n",
    "    \"2018\": pd.read_csv('HappinessReport/2018.csv', index_col=1).loc[my_country, 'Score'],\n",
    "    \"2019\": pd.read_csv('HappinessReport/2019.csv', index_col=1).loc[my_country, 'Score'],\n",
    "}).plot(title='Happiness Score')"
   ]
  },
  {
   "cell_type": "code",
   "execution_count": 149,
   "id": "demographic-cycling",
   "metadata": {
    "tags": []
   },
   "outputs": [
    {
     "data": {
      "text/plain": [
       "<AxesSubplot:title={'center':'Happiness Rank'}>"
      ]
     },
     "execution_count": 149,
     "metadata": {},
     "output_type": "execute_result"
    },
    {
     "data": {
      "image/png": "[encoded data removed]",
      "text/plain": [
       "<Figure size 432x288 with 1 Axes>"
      ]
     },
     "metadata": {
      "needs_background": "light"
     },
     "output_type": "display_data"
    }
   ],
   "source": [
    "pd.Series({\n",
    "    \"2015\": pd.read_csv('HappinessReport/2015.csv', index_col=0).loc[my_country, 'Happiness Rank'],\n",
    "    \"2016\": pd.read_csv('HappinessReport/2016.csv', index_col=0).loc[my_country, 'Happiness Rank'],\n",
    "    \"2017\": pd.read_csv('HappinessReport/2017.csv', index_col=0).loc[my_country, 'Happiness.Rank'],\n",
    "    \"2018\": pd.read_csv('HappinessReport/2018.csv', index_col=1).loc[my_country, 'Overall rank'],\n",
    "    \"2019\": pd.read_csv('HappinessReport/2019.csv', index_col=1).loc[my_country, 'Overall rank'],\n",
    "}).plot(title='Happiness Rank')"
   ]
  },
  {
   "cell_type": "code",
   "execution_count": null,
   "id": "386c95e2-82db-4cf0-9501-246f929c8073",
   "metadata": {},
   "outputs": [],
   "source": []
  }
 ],
 "metadata": {
  "kernelspec": {
   "display_name": "Python 3 (ipykernel)",
   "language": "python",
   "name": "python3"
  },
  "language_info": {
   "codemirror_mode": {
    "name": "ipython",
    "version": 3
   },
   "file_extension": ".py",
   "mimetype": "text/x-python",
   "name": "python",
   "nbconvert_exporter": "python",
   "pygments_lexer": "ipython3",
   "version": "3.9.7"
  }
 },
 "nbformat": 4,
 "nbformat_minor": 5
}
