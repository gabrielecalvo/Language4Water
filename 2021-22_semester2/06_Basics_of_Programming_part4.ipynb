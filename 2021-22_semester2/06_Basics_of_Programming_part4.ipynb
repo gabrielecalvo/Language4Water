{
 "cells": [
  {
   "cell_type": "markdown",
   "metadata": {},
   "source": [
    "# In the previous episode...\n",
    "\n",
    "### for loop\n",
    "```python\n",
    "for i in range(3):\n",
    "    print(i)\n",
    "```\n",
    "\n",
    "### dictionary looping with variable unpacking\n",
    "```python\n",
    "for k,v in d.items():\n",
    "    current_str = str_tmpl.format(k, v)\n",
    "    print(current_str)\n",
    "```\n",
    "\n",
    "### nested loop\n",
    "```python\n",
    "for member, instruments in the_beatles_instruments.items():\n",
    "    for instrument in instruments:\n",
    "        print(member, 'plays', instrument)\n",
    "```\n",
    "\n",
    "### while loop\n",
    "```python\n",
    "current_value = 0\n",
    "while current_value <= 5:\n",
    "    print('the current value is: ', current_value)\n",
    "    current_value = current_value+ 1\n",
    "```\n",
    "\n",
    "### function\n",
    "```python\n",
    "def greeting(name, lastname):\n",
    "    print('Hi,', name, lastname)\n",
    "```\n",
    "\n",
    ".. if you are ever in a hurry, you can try: https://speedsheet.io/s/python"
   ]
  },
  {
   "cell_type": "markdown",
   "metadata": {},
   "source": [
    "# .. and now"
   ]
  },
  {
   "cell_type": "markdown",
   "metadata": {},
   "source": [
    "# Classes\n",
    "Classes provide a means of bundling data and functionality together.  Creating a new class creates a new type of object, allowing new instances of that type to be made. Each class instance can have attributes attached to it for maintaining its state. Class instances can also have methods (defined by its class) for modifying its state."
   ]
  },
  {
   "cell_type": "code",
   "execution_count": null,
   "metadata": {},
   "outputs": [],
   "source": [
    "# defining the class\n",
    "class Dog:\n",
    "    def __init__(self, name, color):\n",
    "        self.name = name\n",
    "        self.color = color\n",
    "        self.tricks = []\n",
    "\n",
    "    def add_trick(self, trick):\n",
    "        self.tricks.append(trick)\n",
    "\n",
    "# Don't worry if you don't fully understand the above, focus on the below :)\n",
    "        \n",
    "# creating and using an instance of it\n",
    "d = Dog('Fido', 'white')\n",
    "d.add_trick('roll over')\n",
    "d.add_trick('play dead')\n",
    "d.tricks"
   ]
  },
  {
   "cell_type": "markdown",
   "metadata": {},
   "source": [
    "`Dog` is the **class**, which is a **blueprint** to create object that you can actually use\n",
    "\n",
    "`d` is the **instance (object)** that you can use to do whatever you need"
   ]
  },
  {
   "cell_type": "markdown",
   "metadata": {},
   "source": [
    "## **Revisited High-Low**\n",
    "using what we have learned so far..\n",
    "\n",
    "```input(message)``` is a built-in python function that requests user input showing a message"
   ]
  },
  {
   "cell_type": "code",
   "execution_count": null,
   "metadata": {
    "tags": []
   },
   "outputs": [],
   "source": [
    "# importing module that allows random number generation\n",
    "import random\n",
    "\n",
    "# initialising variable\n",
    "number_of_wins = 0\n",
    "\n",
    "# defining initial random number and printing it to screen\n",
    "initial_number = random.randint(1,13)\n",
    "print(initial_number)\n",
    "\n",
    "# defining a function that will handle user input and make sure that is valid\n",
    "def get_valid_input():\n",
    "    guess = ''\n",
    "    while guess not in ['h', 'l']:\n",
    "        guess = input(\"is the next going to be higher (h) or lower (l)?: \")\n",
    "        guess = guess.lower()  # this allows uppercase H and L to also be valid inputs\n",
    "    return guess\n",
    "\n",
    "\n",
    "# main loop of 5 games\n",
    "for i in range(5):\n",
    "    # calling the function to get valid user input\n",
    "    guess = get_valid_input()\n",
    "    \n",
    "    # picking a new random number and printing it to screen\n",
    "    new_number = random.randint(1,13)\n",
    "    print(new_number)\n",
    "    \n",
    "    # saving winning condition in intermediate variables\n",
    "    high_and_guessed = (guess == \"h\") and (new_number > initial_number) \n",
    "    low_and_guessed = (guess == \"l\") and (new_number < initial_number) \n",
    "\n",
    "    # checking if winning conditions are met and printing result\n",
    "    if high_and_guessed or low_and_guessed:\n",
    "        print(\"won\")\n",
    "        number_of_wins += 1\n",
    "    else:\n",
    "        print(\"lost\")\n",
    "        \n",
    "    # updating initial number for the next round\n",
    "    initial_number = new_number\n",
    "\n",
    "# printing total number of wins\n",
    "print(f\"you won {number_of_wins} times\")"
   ]
  },
  {
   "cell_type": "markdown",
   "metadata": {},
   "source": [
    "## alternative way to write the program.."
   ]
  },
  {
   "cell_type": "code",
   "execution_count": null,
   "metadata": {},
   "outputs": [],
   "source": [
    "import random\n",
    "\n",
    "CARDS = range(1, 13+1)\n",
    "card = random.choice(CARDS)\n",
    "\n",
    "def ask_guess(card):\n",
    "    print('====================')\n",
    "    print('The current card is', card)\n",
    "    guess = input('Is the next one going to be higher (\"h\") or lower (\"l\")? (\"q\" to quit)')\n",
    "    return guess\n",
    "\n",
    "def evaluate_result(card, new_card, guess):\n",
    "    if new_card == card:\n",
    "        print('They are exactly the same card, you lose :(')\n",
    "    elif (new_card > card and guess == 'h') or (new_card < card and guess == 'l'):\n",
    "        print('Well done! you guessed correcty :)')\n",
    "    elif (new_card > card and guess == 'l') or (new_card < card and guess == 'h'):\n",
    "        print('Wrong :(')\n",
    "    elif guess not in ['h','l','q']:\n",
    "        print('you dummy! you can only enter \"h\", \"l\" or \"q\"')\n",
    "    else:\n",
    "        print('?? how did you even get here ??')\n",
    "        \n",
    "\n",
    "guess = ask_guess(card)\n",
    "while guess != 'q':\n",
    "    new_card = random.choice(CARDS)  \n",
    "    print('The new card is: ', new_card)\n",
    "    evaluate_result(card, new_card, guess)\n",
    "    card = new_card\n",
    "    guess = ask_guess(card)\n",
    "\n",
    "print('====================')\n",
    "print(\"Thanks for playing :)\")"
   ]
  },
  {
   "cell_type": "markdown",
   "metadata": {},
   "source": [
    "# High Low Game expanded\n",
    "Here's ***a*** show you a solution for the following tasks, some of you found other working solutions (which is great, well done!)\n",
    "\n",
    "**Tasks**:\n",
    " - allow lowercase letters\n",
    " - print error message if letter is not H or L\n",
    " - outer loop to play a defined number of times \n",
    " \n",
    "I'm going to put comments around the new added code only so it doesn't get to confusing"
   ]
  }
 ],
 "metadata": {
  "kernelspec": {
   "display_name": "Python 3 (ipykernel)",
   "language": "python",
   "name": "python3"
  },
  "language_info": {
   "codemirror_mode": {
    "name": "ipython",
    "version": 3
   },
   "file_extension": ".py",
   "mimetype": "text/x-python",
   "name": "python",
   "nbconvert_exporter": "python",
   "pygments_lexer": "ipython3",
   "version": "3.9.7"
  },
  "toc-autonumbering": false
 },
 "nbformat": 4,
 "nbformat_minor": 4
}
