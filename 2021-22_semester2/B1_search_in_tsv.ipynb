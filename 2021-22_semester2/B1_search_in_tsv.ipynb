{
 "cells": [
  {
   "cell_type": "markdown",
   "id": "5f6e6c22-c3f2-4872-a784-889f2f4f60ce",
   "metadata": {},
   "source": [
    "# Bespoke Example 1\n",
    "\n",
    "**Problem**:\n",
    "We have a tab-separated-file where the second column contains text.\n",
    "we also have a list of words, called \"grey list\" we want to look for in said text.\n",
    "\n",
    "The program has to add a new column to the file which will contain:\n",
    "- `True` if any of the grey list words is in the text of that row\n",
    "- `False` if none of the grey list words is present in the text of that row"
   ]
  },
  {
   "cell_type": "markdown",
   "id": "6516e443-06a0-4007-a11f-6aade7aa74fc",
   "metadata": {},
   "source": [
    "### exploring"
   ]
  },
  {
   "cell_type": "code",
   "execution_count": 1,
   "id": "cc993f4e-7c05-4302-937a-d9f924d337d7",
   "metadata": {},
   "outputs": [],
   "source": [
    "grey_list = [\"flag\", \"it\", \"either\", \"lowers\"]"
   ]
  },
  {
   "cell_type": "code",
   "execution_count": 2,
   "id": "cb09f0eb-e59e-4cc0-b714-0a932ee05170",
   "metadata": {},
   "outputs": [
    {
     "name": "stdout",
     "output_type": "stream",
     "text": [
      "henchmen\t<s>The Third Reich finally lowers its flag, Hitler and his henchmen are rendered harmless.</s>\tView\t2020\t2349222\tIRE\tNONE\n",
      "either\t<s>The Spanish electoral system does not favor them either.</s>\tThe Outlook\t2021\t3218937\tUK\tNONE\n",
      "either\t<s>Without knowing how many people we are talking about either.</s>\tThe Outlook\t2021\t3999237\tUK\tNONE\n",
      "either\t<s>And electric trucks equipped for equipment either.</s>\tEuromag\t2020\t7182040\tUK\tNONE\n",
      "either\t<s>Many of our new customers since confinement either.</s>\tThe Tribune\t2020\t7790669\tUK\tNONE\n",
      "or not\t<s>Is it a big gap or not that much?</s>\tCinema Times\t2020\t8162203\tUK\tNONE\n",
      "or not\t<s>Each character has their own vision of what they think should or should not be done.</s>\tCinema Times\t2021\t8384123\tUK\tNONE\n",
      "or not\t<s>Many are for having the freedom to wear it or not.</s>\tGazette\t2021\t8923223\tUSA\tNONE\n",
      "or not\t<s>We could find him a local accent or not.</s>\tEuromag\t2021\t9401415\tUK\tNONE\n",
      "\n"
     ]
    }
   ],
   "source": [
    "filepath = \"bespoke_samples/dummyfile.txt\"\n",
    "\n",
    "with open(filepath) as f:\n",
    "    content = f.read()\n",
    "    \n",
    "print(content)"
   ]
  },
  {
   "cell_type": "markdown",
   "id": "0f62738b-9339-4b3b-be0e-3c7bd2754c6d",
   "metadata": {},
   "source": [
    "### handmade parser"
   ]
  },
  {
   "cell_type": "code",
   "execution_count": 3,
   "id": "0563fdbe-6ba9-4acc-b2b5-2abaa7015783",
   "metadata": {},
   "outputs": [
    {
     "data": {
      "text/plain": [
       "['<s>The Third Reich finally lowers its flag, Hitler and his henchmen are rendered harmless.</s>',\n",
       " '<s>The Spanish electoral system does not favor them either.</s>',\n",
       " '<s>Without knowing how many people we are talking about either.</s>',\n",
       " '<s>And electric trucks equipped for equipment either.</s>',\n",
       " '<s>Many of our new customers since confinement either.</s>',\n",
       " '<s>Is it a big gap or not that much?</s>',\n",
       " '<s>Each character has their own vision of what they think should or should not be done.</s>',\n",
       " '<s>Many are for having the freedom to wear it or not.</s>',\n",
       " '<s>We could find him a local accent or not.</s>']"
      ]
     },
     "execution_count": 3,
     "metadata": {},
     "output_type": "execute_result"
    }
   ],
   "source": [
    "rows = content.split(\"\\n\")\n",
    "values = []\n",
    "for row in rows:\n",
    "    row_values = row.split(\"\\t\")\n",
    "    if len(row_values) < 2:\n",
    "        continue\n",
    "    values.append(row_values[1])\n",
    "values"
   ]
  },
  {
   "cell_type": "markdown",
   "id": "3f99d081-a74b-4c36-ae62-d21b6685344c",
   "metadata": {},
   "source": [
    "### parsing using pandas"
   ]
  },
  {
   "cell_type": "code",
   "execution_count": 4,
   "id": "db4f9d39-de4f-45fd-b1b4-ff6fffd8a7c7",
   "metadata": {},
   "outputs": [],
   "source": [
    "# !python -m pip install pandas"
   ]
  },
  {
   "cell_type": "code",
   "execution_count": 5,
   "id": "25f49b85-7f2e-4c6f-9e1b-430632fbcf98",
   "metadata": {},
   "outputs": [
    {
     "data": {
      "text/html": [
       "<div>\n",
       "<style scoped>\n",
       "    .dataframe tbody tr th:only-of-type {\n",
       "        vertical-align: middle;\n",
       "    }\n",
       "\n",
       "    .dataframe tbody tr th {\n",
       "        vertical-align: top;\n",
       "    }\n",
       "\n",
       "    .dataframe thead th {\n",
       "        text-align: right;\n",
       "    }\n",
       "</style>\n",
       "<table border=\"1\" class=\"dataframe\">\n",
       "  <thead>\n",
       "    <tr style=\"text-align: right;\">\n",
       "      <th></th>\n",
       "      <th>0</th>\n",
       "      <th>1</th>\n",
       "      <th>2</th>\n",
       "      <th>3</th>\n",
       "      <th>4</th>\n",
       "      <th>5</th>\n",
       "      <th>6</th>\n",
       "    </tr>\n",
       "  </thead>\n",
       "  <tbody>\n",
       "    <tr>\n",
       "      <th>0</th>\n",
       "      <td>henchmen</td>\n",
       "      <td>&lt;s&gt;The Third Reich finally lowers its flag, Hi...</td>\n",
       "      <td>View</td>\n",
       "      <td>2020</td>\n",
       "      <td>2349222</td>\n",
       "      <td>IRE</td>\n",
       "      <td>NONE</td>\n",
       "    </tr>\n",
       "    <tr>\n",
       "      <th>1</th>\n",
       "      <td>either</td>\n",
       "      <td>&lt;s&gt;The Spanish electoral system does not favor...</td>\n",
       "      <td>The Outlook</td>\n",
       "      <td>2021</td>\n",
       "      <td>3218937</td>\n",
       "      <td>UK</td>\n",
       "      <td>NONE</td>\n",
       "    </tr>\n",
       "    <tr>\n",
       "      <th>2</th>\n",
       "      <td>either</td>\n",
       "      <td>&lt;s&gt;Without knowing how many people we are talk...</td>\n",
       "      <td>The Outlook</td>\n",
       "      <td>2021</td>\n",
       "      <td>3999237</td>\n",
       "      <td>UK</td>\n",
       "      <td>NONE</td>\n",
       "    </tr>\n",
       "    <tr>\n",
       "      <th>3</th>\n",
       "      <td>either</td>\n",
       "      <td>&lt;s&gt;And electric trucks equipped for equipment ...</td>\n",
       "      <td>Euromag</td>\n",
       "      <td>2020</td>\n",
       "      <td>7182040</td>\n",
       "      <td>UK</td>\n",
       "      <td>NONE</td>\n",
       "    </tr>\n",
       "    <tr>\n",
       "      <th>4</th>\n",
       "      <td>either</td>\n",
       "      <td>&lt;s&gt;Many of our new customers since confinement...</td>\n",
       "      <td>The Tribune</td>\n",
       "      <td>2020</td>\n",
       "      <td>7790669</td>\n",
       "      <td>UK</td>\n",
       "      <td>NONE</td>\n",
       "    </tr>\n",
       "    <tr>\n",
       "      <th>5</th>\n",
       "      <td>or not</td>\n",
       "      <td>&lt;s&gt;Is it a big gap or not that much?&lt;/s&gt;</td>\n",
       "      <td>Cinema Times</td>\n",
       "      <td>2020</td>\n",
       "      <td>8162203</td>\n",
       "      <td>UK</td>\n",
       "      <td>NONE</td>\n",
       "    </tr>\n",
       "    <tr>\n",
       "      <th>6</th>\n",
       "      <td>or not</td>\n",
       "      <td>&lt;s&gt;Each character has their own vision of what...</td>\n",
       "      <td>Cinema Times</td>\n",
       "      <td>2021</td>\n",
       "      <td>8384123</td>\n",
       "      <td>UK</td>\n",
       "      <td>NONE</td>\n",
       "    </tr>\n",
       "    <tr>\n",
       "      <th>7</th>\n",
       "      <td>or not</td>\n",
       "      <td>&lt;s&gt;Many are for having the freedom to wear it ...</td>\n",
       "      <td>Gazette</td>\n",
       "      <td>2021</td>\n",
       "      <td>8923223</td>\n",
       "      <td>USA</td>\n",
       "      <td>NONE</td>\n",
       "    </tr>\n",
       "    <tr>\n",
       "      <th>8</th>\n",
       "      <td>or not</td>\n",
       "      <td>&lt;s&gt;We could find him a local accent or not.&lt;/s&gt;</td>\n",
       "      <td>Euromag</td>\n",
       "      <td>2021</td>\n",
       "      <td>9401415</td>\n",
       "      <td>UK</td>\n",
       "      <td>NONE</td>\n",
       "    </tr>\n",
       "  </tbody>\n",
       "</table>\n",
       "</div>"
      ],
      "text/plain": [
       "          0                                                  1             2  \\\n",
       "0  henchmen  <s>The Third Reich finally lowers its flag, Hi...          View   \n",
       "1    either  <s>The Spanish electoral system does not favor...   The Outlook   \n",
       "2    either  <s>Without knowing how many people we are talk...   The Outlook   \n",
       "3    either  <s>And electric trucks equipped for equipment ...       Euromag   \n",
       "4    either  <s>Many of our new customers since confinement...   The Tribune   \n",
       "5    or not           <s>Is it a big gap or not that much?</s>  Cinema Times   \n",
       "6    or not  <s>Each character has their own vision of what...  Cinema Times   \n",
       "7    or not  <s>Many are for having the freedom to wear it ...       Gazette   \n",
       "8    or not    <s>We could find him a local accent or not.</s>       Euromag   \n",
       "\n",
       "      3        4    5     6  \n",
       "0  2020  2349222  IRE  NONE  \n",
       "1  2021  3218937   UK  NONE  \n",
       "2  2021  3999237   UK  NONE  \n",
       "3  2020  7182040   UK  NONE  \n",
       "4  2020  7790669   UK  NONE  \n",
       "5  2020  8162203   UK  NONE  \n",
       "6  2021  8384123   UK  NONE  \n",
       "7  2021  8923223  USA  NONE  \n",
       "8  2021  9401415   UK  NONE  "
      ]
     },
     "execution_count": 5,
     "metadata": {},
     "output_type": "execute_result"
    }
   ],
   "source": [
    "import pandas as pd\n",
    "\n",
    "df = pd.read_csv(filepath, sep=\"\\t\", header=None)\n",
    "df"
   ]
  },
  {
   "cell_type": "code",
   "execution_count": 6,
   "id": "afb20852-4f6b-4981-888b-ac1903af58ee",
   "metadata": {},
   "outputs": [
    {
     "data": {
      "text/plain": [
       "['<s>The Third Reich finally lowers its flag, Hitler and his henchmen are rendered harmless.</s>',\n",
       " '<s>The Spanish electoral system does not favor them either.</s>',\n",
       " '<s>Without knowing how many people we are talking about either.</s>',\n",
       " '<s>And electric trucks equipped for equipment either.</s>',\n",
       " '<s>Many of our new customers since confinement either.</s>',\n",
       " '<s>Is it a big gap or not that much?</s>',\n",
       " '<s>Each character has their own vision of what they think should or should not be done.</s>',\n",
       " '<s>Many are for having the freedom to wear it or not.</s>',\n",
       " '<s>We could find him a local accent or not.</s>']"
      ]
     },
     "execution_count": 6,
     "metadata": {},
     "output_type": "execute_result"
    }
   ],
   "source": [
    "list_of_text = df[1].to_list()\n",
    "list_of_text"
   ]
  },
  {
   "cell_type": "markdown",
   "id": "2f8348e9-153c-4246-aca7-0c732008e39a",
   "metadata": {},
   "source": [
    "### processing"
   ]
  },
  {
   "cell_type": "code",
   "execution_count": 7,
   "id": "64fdeee5-f79b-4116-bd32-e60ee22f4133",
   "metadata": {},
   "outputs": [
    {
     "name": "stdout",
     "output_type": "stream",
     "text": [
      "<s>The Spanish electoral system does not favor them either.</s>\n"
     ]
    }
   ],
   "source": [
    "sample = df.iloc[1,1]  # grabbing the value in the second row, second column\n",
    "print(sample)"
   ]
  },
  {
   "cell_type": "markdown",
   "id": "c07309bf-6817-40ef-a289-7ea723d9d7d6",
   "metadata": {},
   "source": [
    "#### manual cleaning of string"
   ]
  },
  {
   "cell_type": "code",
   "execution_count": 8,
   "id": "40c66165-b986-4e7b-80b0-73e12eecd55e",
   "metadata": {},
   "outputs": [
    {
     "name": "stdout",
     "output_type": "stream",
     "text": [
      "The Spanish electoral system does not favor them either.\n",
      "the spanish electoral system does not favor them either\n"
     ]
    }
   ],
   "source": [
    "def manual_cleaning(sample):\n",
    "    clean_sample = ''\n",
    "    useful_char = \"abcdefghijklmnopqrstuvwxyz \"\n",
    "\n",
    "    for letter in sample[3:-4]:\n",
    "        if letter.lower() in useful_char:\n",
    "            clean_sample = clean_sample + letter.lower()\n",
    "    return clean_sample\n",
    "\n",
    "print(sample[3:-4])\n",
    "print(manual_cleaning(sample))"
   ]
  },
  {
   "cell_type": "markdown",
   "id": "dbb3d12f-e6e4-4a44-a12e-14317930a3bc",
   "metadata": {},
   "source": [
    "#### cleaning of string using regex module"
   ]
  },
  {
   "cell_type": "code",
   "execution_count": 9,
   "id": "aa78246b-eec0-472c-beb9-74b1ee6bb2fd",
   "metadata": {},
   "outputs": [],
   "source": [
    "import re\n",
    "\n",
    "def clean_and_tokenize_row_text(row_text):\n",
    "    clean_text = re.sub('[\\W]',\" \",row_text[3:-4])\n",
    "    return [i.lower() for i in clean_text.split()]"
   ]
  },
  {
   "cell_type": "code",
   "execution_count": 10,
   "id": "ab11c559-b99c-4f7d-9fd0-9b2aa58ea001",
   "metadata": {},
   "outputs": [
    {
     "name": "stdout",
     "output_type": "stream",
     "text": [
      "['the', 'spanish', 'electoral', 'system', 'does', 'not', 'favor', 'them', 'either']\n"
     ]
    }
   ],
   "source": [
    "print(clean_and_tokenize_row_text(sample))"
   ]
  },
  {
   "cell_type": "markdown",
   "id": "877f062b-3e77-49bc-84dd-6b92e6fbd074",
   "metadata": {},
   "source": [
    "#### Tip: (list comprehention)"
   ]
  },
  {
   "cell_type": "code",
   "execution_count": 11,
   "id": "4b4f5046-9a68-4e2d-8cfe-3b0b0b9a11ef",
   "metadata": {},
   "outputs": [],
   "source": [
    "tokens = clean_and_tokenize_row_text(sample)"
   ]
  },
  {
   "cell_type": "code",
   "execution_count": 12,
   "id": "f0e529d0-29f3-4a34-b204-fd53e149716e",
   "metadata": {},
   "outputs": [],
   "source": [
    "tokens_lower = []\n",
    "for i in tokens:\n",
    "    tokens_lower.append(i.lower())\n",
    "    \n",
    "tokens_lower = [i.lower() for i in tokens]"
   ]
  },
  {
   "cell_type": "markdown",
   "id": "85ca3cd6-5f69-4595-ac84-8ec0281ef9d6",
   "metadata": {},
   "source": [
    "#### Tip: look at some stats (most common) with Counter"
   ]
  },
  {
   "cell_type": "code",
   "execution_count": 13,
   "id": "dc145bea-881c-478e-9007-82b7d3984772",
   "metadata": {},
   "outputs": [],
   "source": [
    "full_list = []\n",
    "for row_text in list_of_text:\n",
    "    row_tokens = clean_and_tokenize_row_text(row_text)\n",
    "    full_list.extend(row_tokens)"
   ]
  },
  {
   "cell_type": "code",
   "execution_count": 14,
   "id": "b9e6684c-56aa-4304-abe8-dc3c68e85e00",
   "metadata": {},
   "outputs": [
    {
     "data": {
      "text/plain": [
       "[('not', 5),\n",
       " ('either', 4),\n",
       " ('or', 4),\n",
       " ('the', 3),\n",
       " ('are', 3),\n",
       " ('many', 3),\n",
       " ('and', 2),\n",
       " ('we', 2),\n",
       " ('for', 2),\n",
       " ('of', 2)]"
      ]
     },
     "execution_count": 14,
     "metadata": {},
     "output_type": "execute_result"
    }
   ],
   "source": [
    "# If we want to see the most common\n",
    "from collections import Counter\n",
    "\n",
    "counter = Counter(full_list)\n",
    "counter.most_common(10)"
   ]
  },
  {
   "cell_type": "markdown",
   "id": "ff16600f-f9b5-48bb-b057-b9545154a069",
   "metadata": {},
   "source": [
    "### Buiding the core of the solution"
   ]
  },
  {
   "cell_type": "code",
   "execution_count": 15,
   "id": "be50dec0-53f4-46d7-89fd-b3ddaaa53cb3",
   "metadata": {},
   "outputs": [],
   "source": [
    "found_column_values = []\n",
    "found_grey_words = []\n",
    "\n",
    "for row_text in list_of_text:\n",
    "    found = False\n",
    "    \n",
    "    found_in_row = []\n",
    "    for grey_word in grey_list:\n",
    "        if grey_word in clean_and_tokenize_row_text(row_text):\n",
    "            found = True\n",
    "            found_in_row.append(grey_word)\n",
    "            \n",
    "    found_grey_words.append(\"|\".join(found_in_row))   \n",
    "    found_column_values.append(found)"
   ]
  },
  {
   "cell_type": "code",
   "execution_count": 16,
   "id": "8e6b2a52-10d5-4f1e-8e7a-ddefbaca39a3",
   "metadata": {},
   "outputs": [
    {
     "data": {
      "text/html": [
       "<div>\n",
       "<style scoped>\n",
       "    .dataframe tbody tr th:only-of-type {\n",
       "        vertical-align: middle;\n",
       "    }\n",
       "\n",
       "    .dataframe tbody tr th {\n",
       "        vertical-align: top;\n",
       "    }\n",
       "\n",
       "    .dataframe thead th {\n",
       "        text-align: right;\n",
       "    }\n",
       "</style>\n",
       "<table border=\"1\" class=\"dataframe\">\n",
       "  <thead>\n",
       "    <tr style=\"text-align: right;\">\n",
       "      <th></th>\n",
       "      <th>0</th>\n",
       "      <th>1</th>\n",
       "      <th>2</th>\n",
       "      <th>3</th>\n",
       "      <th>4</th>\n",
       "      <th>5</th>\n",
       "      <th>6</th>\n",
       "      <th>contains_grey_word</th>\n",
       "      <th>found_words</th>\n",
       "    </tr>\n",
       "  </thead>\n",
       "  <tbody>\n",
       "    <tr>\n",
       "      <th>0</th>\n",
       "      <td>henchmen</td>\n",
       "      <td>&lt;s&gt;The Third Reich finally lowers its flag, Hi...</td>\n",
       "      <td>View</td>\n",
       "      <td>2020</td>\n",
       "      <td>2349222</td>\n",
       "      <td>IRE</td>\n",
       "      <td>NONE</td>\n",
       "      <td>True</td>\n",
       "      <td>flag|lowers</td>\n",
       "    </tr>\n",
       "    <tr>\n",
       "      <th>1</th>\n",
       "      <td>either</td>\n",
       "      <td>&lt;s&gt;The Spanish electoral system does not favor...</td>\n",
       "      <td>The Outlook</td>\n",
       "      <td>2021</td>\n",
       "      <td>3218937</td>\n",
       "      <td>UK</td>\n",
       "      <td>NONE</td>\n",
       "      <td>True</td>\n",
       "      <td>either</td>\n",
       "    </tr>\n",
       "    <tr>\n",
       "      <th>2</th>\n",
       "      <td>either</td>\n",
       "      <td>&lt;s&gt;Without knowing how many people we are talk...</td>\n",
       "      <td>The Outlook</td>\n",
       "      <td>2021</td>\n",
       "      <td>3999237</td>\n",
       "      <td>UK</td>\n",
       "      <td>NONE</td>\n",
       "      <td>True</td>\n",
       "      <td>either</td>\n",
       "    </tr>\n",
       "    <tr>\n",
       "      <th>3</th>\n",
       "      <td>either</td>\n",
       "      <td>&lt;s&gt;And electric trucks equipped for equipment ...</td>\n",
       "      <td>Euromag</td>\n",
       "      <td>2020</td>\n",
       "      <td>7182040</td>\n",
       "      <td>UK</td>\n",
       "      <td>NONE</td>\n",
       "      <td>True</td>\n",
       "      <td>either</td>\n",
       "    </tr>\n",
       "    <tr>\n",
       "      <th>4</th>\n",
       "      <td>either</td>\n",
       "      <td>&lt;s&gt;Many of our new customers since confinement...</td>\n",
       "      <td>The Tribune</td>\n",
       "      <td>2020</td>\n",
       "      <td>7790669</td>\n",
       "      <td>UK</td>\n",
       "      <td>NONE</td>\n",
       "      <td>True</td>\n",
       "      <td>either</td>\n",
       "    </tr>\n",
       "    <tr>\n",
       "      <th>5</th>\n",
       "      <td>or not</td>\n",
       "      <td>&lt;s&gt;Is it a big gap or not that much?&lt;/s&gt;</td>\n",
       "      <td>Cinema Times</td>\n",
       "      <td>2020</td>\n",
       "      <td>8162203</td>\n",
       "      <td>UK</td>\n",
       "      <td>NONE</td>\n",
       "      <td>True</td>\n",
       "      <td>it</td>\n",
       "    </tr>\n",
       "    <tr>\n",
       "      <th>6</th>\n",
       "      <td>or not</td>\n",
       "      <td>&lt;s&gt;Each character has their own vision of what...</td>\n",
       "      <td>Cinema Times</td>\n",
       "      <td>2021</td>\n",
       "      <td>8384123</td>\n",
       "      <td>UK</td>\n",
       "      <td>NONE</td>\n",
       "      <td>False</td>\n",
       "      <td></td>\n",
       "    </tr>\n",
       "    <tr>\n",
       "      <th>7</th>\n",
       "      <td>or not</td>\n",
       "      <td>&lt;s&gt;Many are for having the freedom to wear it ...</td>\n",
       "      <td>Gazette</td>\n",
       "      <td>2021</td>\n",
       "      <td>8923223</td>\n",
       "      <td>USA</td>\n",
       "      <td>NONE</td>\n",
       "      <td>True</td>\n",
       "      <td>it</td>\n",
       "    </tr>\n",
       "    <tr>\n",
       "      <th>8</th>\n",
       "      <td>or not</td>\n",
       "      <td>&lt;s&gt;We could find him a local accent or not.&lt;/s&gt;</td>\n",
       "      <td>Euromag</td>\n",
       "      <td>2021</td>\n",
       "      <td>9401415</td>\n",
       "      <td>UK</td>\n",
       "      <td>NONE</td>\n",
       "      <td>False</td>\n",
       "      <td></td>\n",
       "    </tr>\n",
       "  </tbody>\n",
       "</table>\n",
       "</div>"
      ],
      "text/plain": [
       "          0                                                  1             2  \\\n",
       "0  henchmen  <s>The Third Reich finally lowers its flag, Hi...          View   \n",
       "1    either  <s>The Spanish electoral system does not favor...   The Outlook   \n",
       "2    either  <s>Without knowing how many people we are talk...   The Outlook   \n",
       "3    either  <s>And electric trucks equipped for equipment ...       Euromag   \n",
       "4    either  <s>Many of our new customers since confinement...   The Tribune   \n",
       "5    or not           <s>Is it a big gap or not that much?</s>  Cinema Times   \n",
       "6    or not  <s>Each character has their own vision of what...  Cinema Times   \n",
       "7    or not  <s>Many are for having the freedom to wear it ...       Gazette   \n",
       "8    or not    <s>We could find him a local accent or not.</s>       Euromag   \n",
       "\n",
       "      3        4    5     6  contains_grey_word  found_words  \n",
       "0  2020  2349222  IRE  NONE                True  flag|lowers  \n",
       "1  2021  3218937   UK  NONE                True       either  \n",
       "2  2021  3999237   UK  NONE                True       either  \n",
       "3  2020  7182040   UK  NONE                True       either  \n",
       "4  2020  7790669   UK  NONE                True       either  \n",
       "5  2020  8162203   UK  NONE                True           it  \n",
       "6  2021  8384123   UK  NONE               False               \n",
       "7  2021  8923223  USA  NONE                True           it  \n",
       "8  2021  9401415   UK  NONE               False               "
      ]
     },
     "execution_count": 16,
     "metadata": {},
     "output_type": "execute_result"
    }
   ],
   "source": [
    "result_df = df.assign(contains_grey_word=found_column_values, found_words=found_grey_words)\n",
    "result_df"
   ]
  },
  {
   "cell_type": "markdown",
   "id": "f1ed3794-6115-45af-944b-f17fbbec7b5d",
   "metadata": {},
   "source": [
    "### save the results to file"
   ]
  },
  {
   "cell_type": "code",
   "execution_count": 17,
   "id": "4774456c-f63f-48bb-be43-40504b600e9d",
   "metadata": {},
   "outputs": [],
   "source": [
    "output_filepath = \"bespoke_samples/greyword_search_result.tsv\"\n",
    "result_df.to_csv(output_filepath, sep=\"\\t\", index=False)"
   ]
  },
  {
   "cell_type": "markdown",
   "id": "62d70814-88ff-4c00-a506-2a5a939b138e",
   "metadata": {},
   "source": [
    "## How to append text to an existing file\n",
    "use the `mode=\"a\"` parameter of `open`"
   ]
  },
  {
   "cell_type": "code",
   "execution_count": 18,
   "id": "6a00189b-a42c-4cd1-9832-b614aa8b70d2",
   "metadata": {},
   "outputs": [],
   "source": [
    "with open(\"bespoke_samples/greyword_search_result.tsv\", mode=\"a\") as f:\n",
    "    f.write(\"agjriogharoghrahgiarhgihreaghrheaighraeghargho\")"
   ]
  },
  {
   "cell_type": "code",
   "execution_count": null,
   "id": "a0f11a85-cd57-4a28-a57a-4a3f1f4513f5",
   "metadata": {},
   "outputs": [],
   "source": []
  }
 ],
 "metadata": {
  "kernelspec": {
   "display_name": "Python 3 (ipykernel)",
   "language": "python",
   "name": "python3"
  },
  "language_info": {
   "codemirror_mode": {
    "name": "ipython",
    "version": 3
   },
   "file_extension": ".py",
   "mimetype": "text/x-python",
   "name": "python",
   "nbconvert_exporter": "python",
   "pygments_lexer": "ipython3",
   "version": "3.9.1"
  }
 },
 "nbformat": 4,
 "nbformat_minor": 5
}
